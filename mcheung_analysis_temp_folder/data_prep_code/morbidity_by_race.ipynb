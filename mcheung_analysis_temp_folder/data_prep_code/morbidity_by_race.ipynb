{
 "cells": [
  {
   "cell_type": "code",
   "execution_count": 2,
   "metadata": {},
   "outputs": [],
   "source": [
    "# UCSD ECE 143 Programming for Data Analysis\n",
    "# Winter 2023\n",
    "# Author: m3cheung@ucsd.edu\n",
    "# Final Project: create morbidity by race bar graph"
   ]
  },
  {
   "attachments": {},
   "cell_type": "markdown",
   "metadata": {},
   "source": [
    "Import modules"
   ]
  },
  {
   "cell_type": "code",
   "execution_count": 11,
   "metadata": {},
   "outputs": [],
   "source": [
    "import pandas as pd\n",
    "import plotly.express as px\n",
    "from bs4 import BeautifulSoup\n",
    "import matplotlib.pyplot as plt\n",
    "import sys"
   ]
  },
  {
   "attachments": {},
   "cell_type": "markdown",
   "metadata": {},
   "source": [
    "Specify year to analyze"
   ]
  },
  {
   "cell_type": "code",
   "execution_count": 12,
   "metadata": {},
   "outputs": [],
   "source": [
    "year = 2021.0"
   ]
  },
  {
   "attachments": {},
   "cell_type": "markdown",
   "metadata": {},
   "source": [
    "Load csv files into Pandas DataFrames"
   ]
  },
  {
   "cell_type": "code",
   "execution_count": 16,
   "metadata": {},
   "outputs": [
    {
     "data": {
      "text/html": [
       "<div>\n",
       "<style scoped>\n",
       "    .dataframe tbody tr th:only-of-type {\n",
       "        vertical-align: middle;\n",
       "    }\n",
       "\n",
       "    .dataframe tbody tr th {\n",
       "        vertical-align: top;\n",
       "    }\n",
       "\n",
       "    .dataframe thead th {\n",
       "        text-align: right;\n",
       "    }\n",
       "</style>\n",
       "<table border=\"1\" class=\"dataframe\">\n",
       "  <thead>\n",
       "    <tr style=\"text-align: right;\">\n",
       "      <th></th>\n",
       "      <th>Mother's Single Race 6</th>\n",
       "      <th>Year</th>\n",
       "      <th>Mother's Hispanic Origin</th>\n",
       "      <th>Births</th>\n",
       "    </tr>\n",
       "  </thead>\n",
       "  <tbody>\n",
       "    <tr>\n",
       "      <th>0</th>\n",
       "      <td>American Indian or Alaska Native</td>\n",
       "      <td>2018.0</td>\n",
       "      <td>Hispanic or Latino</td>\n",
       "      <td>103.0</td>\n",
       "    </tr>\n",
       "    <tr>\n",
       "      <th>1</th>\n",
       "      <td>American Indian or Alaska Native</td>\n",
       "      <td>2018.0</td>\n",
       "      <td>Not Hispanic or Latino</td>\n",
       "      <td>575.0</td>\n",
       "    </tr>\n",
       "    <tr>\n",
       "      <th>2</th>\n",
       "      <td>American Indian or Alaska Native</td>\n",
       "      <td>2019.0</td>\n",
       "      <td>Hispanic or Latino</td>\n",
       "      <td>114.0</td>\n",
       "    </tr>\n",
       "    <tr>\n",
       "      <th>3</th>\n",
       "      <td>American Indian or Alaska Native</td>\n",
       "      <td>2019.0</td>\n",
       "      <td>Not Hispanic or Latino</td>\n",
       "      <td>571.0</td>\n",
       "    </tr>\n",
       "    <tr>\n",
       "      <th>4</th>\n",
       "      <td>American Indian or Alaska Native</td>\n",
       "      <td>2020.0</td>\n",
       "      <td>Hispanic or Latino</td>\n",
       "      <td>103.0</td>\n",
       "    </tr>\n",
       "    <tr>\n",
       "      <th>...</th>\n",
       "      <td>...</td>\n",
       "      <td>...</td>\n",
       "      <td>...</td>\n",
       "      <td>...</td>\n",
       "    </tr>\n",
       "    <tr>\n",
       "      <th>86</th>\n",
       "      <td>NaN</td>\n",
       "      <td>NaN</td>\n",
       "      <td>NaN</td>\n",
       "      <td>NaN</td>\n",
       "    </tr>\n",
       "    <tr>\n",
       "      <th>87</th>\n",
       "      <td>NaN</td>\n",
       "      <td>NaN</td>\n",
       "      <td>NaN</td>\n",
       "      <td>NaN</td>\n",
       "    </tr>\n",
       "    <tr>\n",
       "      <th>88</th>\n",
       "      <td>NaN</td>\n",
       "      <td>NaN</td>\n",
       "      <td>NaN</td>\n",
       "      <td>NaN</td>\n",
       "    </tr>\n",
       "    <tr>\n",
       "      <th>89</th>\n",
       "      <td>NaN</td>\n",
       "      <td>NaN</td>\n",
       "      <td>NaN</td>\n",
       "      <td>NaN</td>\n",
       "    </tr>\n",
       "    <tr>\n",
       "      <th>90</th>\n",
       "      <td>NaN</td>\n",
       "      <td>NaN</td>\n",
       "      <td>NaN</td>\n",
       "      <td>NaN</td>\n",
       "    </tr>\n",
       "  </tbody>\n",
       "</table>\n",
       "<p>91 rows × 4 columns</p>\n",
       "</div>"
      ],
      "text/plain": [
       "              Mother's Single Race 6    Year Mother's Hispanic Origin  Births\n",
       "0   American Indian or Alaska Native  2018.0       Hispanic or Latino   103.0\n",
       "1   American Indian or Alaska Native  2018.0   Not Hispanic or Latino   575.0\n",
       "2   American Indian or Alaska Native  2019.0       Hispanic or Latino   114.0\n",
       "3   American Indian or Alaska Native  2019.0   Not Hispanic or Latino   571.0\n",
       "4   American Indian or Alaska Native  2020.0       Hispanic or Latino   103.0\n",
       "..                               ...     ...                      ...     ...\n",
       "86                               NaN     NaN                      NaN     NaN\n",
       "87                               NaN     NaN                      NaN     NaN\n",
       "88                               NaN     NaN                      NaN     NaN\n",
       "89                               NaN     NaN                      NaN     NaN\n",
       "90                               NaN     NaN                      NaN     NaN\n",
       "\n",
       "[91 rows x 4 columns]"
      ]
     },
     "metadata": {},
     "output_type": "display_data"
    },
    {
     "data": {
      "text/html": [
       "<div>\n",
       "<style scoped>\n",
       "    .dataframe tbody tr th:only-of-type {\n",
       "        vertical-align: middle;\n",
       "    }\n",
       "\n",
       "    .dataframe tbody tr th {\n",
       "        vertical-align: top;\n",
       "    }\n",
       "\n",
       "    .dataframe thead th {\n",
       "        text-align: right;\n",
       "    }\n",
       "</style>\n",
       "<table border=\"1\" class=\"dataframe\">\n",
       "  <thead>\n",
       "    <tr style=\"text-align: right;\">\n",
       "      <th></th>\n",
       "      <th>Mother's Single Race 6</th>\n",
       "      <th>Mother's Hispanic Origin</th>\n",
       "      <th>Year</th>\n",
       "      <th>Births</th>\n",
       "    </tr>\n",
       "  </thead>\n",
       "  <tbody>\n",
       "    <tr>\n",
       "      <th>0</th>\n",
       "      <td>American Indian or Alaska Native</td>\n",
       "      <td>Hispanic or Latino</td>\n",
       "      <td>2018.0</td>\n",
       "      <td>7004.0</td>\n",
       "    </tr>\n",
       "    <tr>\n",
       "      <th>1</th>\n",
       "      <td>American Indian or Alaska Native</td>\n",
       "      <td>Hispanic or Latino</td>\n",
       "      <td>2019.0</td>\n",
       "      <td>7522.0</td>\n",
       "    </tr>\n",
       "    <tr>\n",
       "      <th>2</th>\n",
       "      <td>American Indian or Alaska Native</td>\n",
       "      <td>Hispanic or Latino</td>\n",
       "      <td>2020.0</td>\n",
       "      <td>7950.0</td>\n",
       "    </tr>\n",
       "    <tr>\n",
       "      <th>3</th>\n",
       "      <td>American Indian or Alaska Native</td>\n",
       "      <td>Hispanic or Latino</td>\n",
       "      <td>2021.0</td>\n",
       "      <td>8331.0</td>\n",
       "    </tr>\n",
       "    <tr>\n",
       "      <th>4</th>\n",
       "      <td>American Indian or Alaska Native</td>\n",
       "      <td>Hispanic or Latino</td>\n",
       "      <td>NaN</td>\n",
       "      <td>30807.0</td>\n",
       "    </tr>\n",
       "    <tr>\n",
       "      <th>...</th>\n",
       "      <td>...</td>\n",
       "      <td>...</td>\n",
       "      <td>...</td>\n",
       "      <td>...</td>\n",
       "    </tr>\n",
       "    <tr>\n",
       "      <th>119</th>\n",
       "      <td>NaN</td>\n",
       "      <td>NaN</td>\n",
       "      <td>NaN</td>\n",
       "      <td>NaN</td>\n",
       "    </tr>\n",
       "    <tr>\n",
       "      <th>120</th>\n",
       "      <td>NaN</td>\n",
       "      <td>NaN</td>\n",
       "      <td>NaN</td>\n",
       "      <td>NaN</td>\n",
       "    </tr>\n",
       "    <tr>\n",
       "      <th>121</th>\n",
       "      <td>NaN</td>\n",
       "      <td>NaN</td>\n",
       "      <td>NaN</td>\n",
       "      <td>NaN</td>\n",
       "    </tr>\n",
       "    <tr>\n",
       "      <th>122</th>\n",
       "      <td>NaN</td>\n",
       "      <td>NaN</td>\n",
       "      <td>NaN</td>\n",
       "      <td>NaN</td>\n",
       "    </tr>\n",
       "    <tr>\n",
       "      <th>123</th>\n",
       "      <td>NaN</td>\n",
       "      <td>NaN</td>\n",
       "      <td>NaN</td>\n",
       "      <td>NaN</td>\n",
       "    </tr>\n",
       "  </tbody>\n",
       "</table>\n",
       "<p>124 rows × 4 columns</p>\n",
       "</div>"
      ],
      "text/plain": [
       "               Mother's Single Race 6 Mother's Hispanic Origin    Year  \\\n",
       "0    American Indian or Alaska Native       Hispanic or Latino  2018.0   \n",
       "1    American Indian or Alaska Native       Hispanic or Latino  2019.0   \n",
       "2    American Indian or Alaska Native       Hispanic or Latino  2020.0   \n",
       "3    American Indian or Alaska Native       Hispanic or Latino  2021.0   \n",
       "4    American Indian or Alaska Native       Hispanic or Latino     NaN   \n",
       "..                                ...                      ...     ...   \n",
       "119                               NaN                      NaN     NaN   \n",
       "120                               NaN                      NaN     NaN   \n",
       "121                               NaN                      NaN     NaN   \n",
       "122                               NaN                      NaN     NaN   \n",
       "123                               NaN                      NaN     NaN   \n",
       "\n",
       "      Births  \n",
       "0     7004.0  \n",
       "1     7522.0  \n",
       "2     7950.0  \n",
       "3     8331.0  \n",
       "4    30807.0  \n",
       "..       ...  \n",
       "119      NaN  \n",
       "120      NaN  \n",
       "121      NaN  \n",
       "122      NaN  \n",
       "123      NaN  \n",
       "\n",
       "[124 rows x 4 columns]"
      ]
     },
     "metadata": {},
     "output_type": "display_data"
    }
   ],
   "source": [
    "morbidity_df = pd.read_csv(\\\n",
    "    \"../data_csv/races-morbidity.csv\").drop(columns=[\"Notes\", \"Maternal Morbidity Checked\", \"Maternal Morbidity Checked Code\", \"Mother's Hispanic Origin Code\", \"Year Code\", \"Mother's Single Race 6 Code\"])\n",
    "total_births_df = pd.read_csv(\\\n",
    "    \"../data_csv/races-total_births.csv\").drop(columns=[\"Notes\", \"Year Code\", \"Mother's Single Race 6 Code\", \"Mother's Hispanic Origin Code\"])\n",
    "\n",
    "display(morbidity_df)\n",
    "display(total_births_df)\n"
   ]
  },
  {
   "attachments": {},
   "cell_type": "markdown",
   "metadata": {},
   "source": [
    "Clean up data"
   ]
  },
  {
   "cell_type": "code",
   "execution_count": 19,
   "metadata": {},
   "outputs": [
    {
     "data": {
      "text/html": [
       "<div>\n",
       "<style scoped>\n",
       "    .dataframe tbody tr th:only-of-type {\n",
       "        vertical-align: middle;\n",
       "    }\n",
       "\n",
       "    .dataframe tbody tr th {\n",
       "        vertical-align: top;\n",
       "    }\n",
       "\n",
       "    .dataframe thead th {\n",
       "        text-align: right;\n",
       "    }\n",
       "</style>\n",
       "<table border=\"1\" class=\"dataframe\">\n",
       "  <thead>\n",
       "    <tr style=\"text-align: right;\">\n",
       "      <th></th>\n",
       "      <th>Mother's Single Race 6</th>\n",
       "      <th>Mother's Hispanic Origin</th>\n",
       "      <th>Year</th>\n",
       "      <th>Total Births</th>\n",
       "      <th>Births w/ Morbidity</th>\n",
       "    </tr>\n",
       "  </thead>\n",
       "  <tbody>\n",
       "    <tr>\n",
       "      <th>4</th>\n",
       "      <td>American Indian or Alaska Native</td>\n",
       "      <td>Not Hispanic or Latino</td>\n",
       "      <td>2018.0</td>\n",
       "      <td>29092.0</td>\n",
       "      <td>575.0</td>\n",
       "    </tr>\n",
       "    <tr>\n",
       "      <th>5</th>\n",
       "      <td>American Indian or Alaska Native</td>\n",
       "      <td>Not Hispanic or Latino</td>\n",
       "      <td>2019.0</td>\n",
       "      <td>28450.0</td>\n",
       "      <td>571.0</td>\n",
       "    </tr>\n",
       "    <tr>\n",
       "      <th>6</th>\n",
       "      <td>American Indian or Alaska Native</td>\n",
       "      <td>Not Hispanic or Latino</td>\n",
       "      <td>2020.0</td>\n",
       "      <td>26813.0</td>\n",
       "      <td>499.0</td>\n",
       "    </tr>\n",
       "    <tr>\n",
       "      <th>7</th>\n",
       "      <td>American Indian or Alaska Native</td>\n",
       "      <td>Not Hispanic or Latino</td>\n",
       "      <td>2021.0</td>\n",
       "      <td>26124.0</td>\n",
       "      <td>606.0</td>\n",
       "    </tr>\n",
       "    <tr>\n",
       "      <th>16</th>\n",
       "      <td>Asian</td>\n",
       "      <td>Not Hispanic or Latino</td>\n",
       "      <td>2018.0</td>\n",
       "      <td>240798.0</td>\n",
       "      <td>5517.0</td>\n",
       "    </tr>\n",
       "    <tr>\n",
       "      <th>17</th>\n",
       "      <td>Asian</td>\n",
       "      <td>Not Hispanic or Latino</td>\n",
       "      <td>2019.0</td>\n",
       "      <td>238769.0</td>\n",
       "      <td>5623.0</td>\n",
       "    </tr>\n",
       "    <tr>\n",
       "      <th>18</th>\n",
       "      <td>Asian</td>\n",
       "      <td>Not Hispanic or Latino</td>\n",
       "      <td>2020.0</td>\n",
       "      <td>219068.0</td>\n",
       "      <td>5291.0</td>\n",
       "    </tr>\n",
       "    <tr>\n",
       "      <th>19</th>\n",
       "      <td>Asian</td>\n",
       "      <td>Not Hispanic or Latino</td>\n",
       "      <td>2021.0</td>\n",
       "      <td>213813.0</td>\n",
       "      <td>5190.0</td>\n",
       "    </tr>\n",
       "    <tr>\n",
       "      <th>28</th>\n",
       "      <td>Black or African American</td>\n",
       "      <td>Not Hispanic or Latino</td>\n",
       "      <td>2018.0</td>\n",
       "      <td>552029.0</td>\n",
       "      <td>6543.0</td>\n",
       "    </tr>\n",
       "    <tr>\n",
       "      <th>29</th>\n",
       "      <td>Black or African American</td>\n",
       "      <td>Not Hispanic or Latino</td>\n",
       "      <td>2019.0</td>\n",
       "      <td>548075.0</td>\n",
       "      <td>6659.0</td>\n",
       "    </tr>\n",
       "    <tr>\n",
       "      <th>30</th>\n",
       "      <td>Black or African American</td>\n",
       "      <td>Not Hispanic or Latino</td>\n",
       "      <td>2020.0</td>\n",
       "      <td>529811.0</td>\n",
       "      <td>6308.0</td>\n",
       "    </tr>\n",
       "    <tr>\n",
       "      <th>31</th>\n",
       "      <td>Black or African American</td>\n",
       "      <td>Not Hispanic or Latino</td>\n",
       "      <td>2021.0</td>\n",
       "      <td>517889.0</td>\n",
       "      <td>6495.0</td>\n",
       "    </tr>\n",
       "    <tr>\n",
       "      <th>40</th>\n",
       "      <td>Native Hawaiian or Other Pacific Islander</td>\n",
       "      <td>Not Hispanic or Latino</td>\n",
       "      <td>2018.0</td>\n",
       "      <td>9476.0</td>\n",
       "      <td>174.0</td>\n",
       "    </tr>\n",
       "    <tr>\n",
       "      <th>41</th>\n",
       "      <td>Native Hawaiian or Other Pacific Islander</td>\n",
       "      <td>Not Hispanic or Latino</td>\n",
       "      <td>2019.0</td>\n",
       "      <td>9770.0</td>\n",
       "      <td>152.0</td>\n",
       "    </tr>\n",
       "    <tr>\n",
       "      <th>42</th>\n",
       "      <td>Native Hawaiian or Other Pacific Islander</td>\n",
       "      <td>Not Hispanic or Latino</td>\n",
       "      <td>2020.0</td>\n",
       "      <td>9626.0</td>\n",
       "      <td>147.0</td>\n",
       "    </tr>\n",
       "    <tr>\n",
       "      <th>43</th>\n",
       "      <td>Native Hawaiian or Other Pacific Islander</td>\n",
       "      <td>Not Hispanic or Latino</td>\n",
       "      <td>2021.0</td>\n",
       "      <td>9531.0</td>\n",
       "      <td>185.0</td>\n",
       "    </tr>\n",
       "    <tr>\n",
       "      <th>52</th>\n",
       "      <td>White</td>\n",
       "      <td>Not Hispanic or Latino</td>\n",
       "      <td>2018.0</td>\n",
       "      <td>1956413.0</td>\n",
       "      <td>28228.0</td>\n",
       "    </tr>\n",
       "    <tr>\n",
       "      <th>53</th>\n",
       "      <td>White</td>\n",
       "      <td>Not Hispanic or Latino</td>\n",
       "      <td>2019.0</td>\n",
       "      <td>1915912.0</td>\n",
       "      <td>28677.0</td>\n",
       "    </tr>\n",
       "    <tr>\n",
       "      <th>54</th>\n",
       "      <td>White</td>\n",
       "      <td>Not Hispanic or Latino</td>\n",
       "      <td>2020.0</td>\n",
       "      <td>1843432.0</td>\n",
       "      <td>26909.0</td>\n",
       "    </tr>\n",
       "    <tr>\n",
       "      <th>55</th>\n",
       "      <td>White</td>\n",
       "      <td>Not Hispanic or Latino</td>\n",
       "      <td>2021.0</td>\n",
       "      <td>1887656.0</td>\n",
       "      <td>27972.0</td>\n",
       "    </tr>\n",
       "    <tr>\n",
       "      <th>64</th>\n",
       "      <td>More than one race</td>\n",
       "      <td>Not Hispanic or Latino</td>\n",
       "      <td>2018.0</td>\n",
       "      <td>83853.0</td>\n",
       "      <td>1007.0</td>\n",
       "    </tr>\n",
       "    <tr>\n",
       "      <th>65</th>\n",
       "      <td>More than one race</td>\n",
       "      <td>Not Hispanic or Latino</td>\n",
       "      <td>2019.0</td>\n",
       "      <td>84310.0</td>\n",
       "      <td>1052.0</td>\n",
       "    </tr>\n",
       "    <tr>\n",
       "      <th>66</th>\n",
       "      <td>More than one race</td>\n",
       "      <td>Not Hispanic or Latino</td>\n",
       "      <td>2020.0</td>\n",
       "      <td>84238.0</td>\n",
       "      <td>1033.0</td>\n",
       "    </tr>\n",
       "    <tr>\n",
       "      <th>67</th>\n",
       "      <td>More than one race</td>\n",
       "      <td>Not Hispanic or Latino</td>\n",
       "      <td>2021.0</td>\n",
       "      <td>86982.0</td>\n",
       "      <td>1169.0</td>\n",
       "    </tr>\n",
       "  </tbody>\n",
       "</table>\n",
       "</div>"
      ],
      "text/plain": [
       "                       Mother's Single Race 6 Mother's Hispanic Origin  \\\n",
       "4            American Indian or Alaska Native   Not Hispanic or Latino   \n",
       "5            American Indian or Alaska Native   Not Hispanic or Latino   \n",
       "6            American Indian or Alaska Native   Not Hispanic or Latino   \n",
       "7            American Indian or Alaska Native   Not Hispanic or Latino   \n",
       "16                                      Asian   Not Hispanic or Latino   \n",
       "17                                      Asian   Not Hispanic or Latino   \n",
       "18                                      Asian   Not Hispanic or Latino   \n",
       "19                                      Asian   Not Hispanic or Latino   \n",
       "28                  Black or African American   Not Hispanic or Latino   \n",
       "29                  Black or African American   Not Hispanic or Latino   \n",
       "30                  Black or African American   Not Hispanic or Latino   \n",
       "31                  Black or African American   Not Hispanic or Latino   \n",
       "40  Native Hawaiian or Other Pacific Islander   Not Hispanic or Latino   \n",
       "41  Native Hawaiian or Other Pacific Islander   Not Hispanic or Latino   \n",
       "42  Native Hawaiian or Other Pacific Islander   Not Hispanic or Latino   \n",
       "43  Native Hawaiian or Other Pacific Islander   Not Hispanic or Latino   \n",
       "52                                      White   Not Hispanic or Latino   \n",
       "53                                      White   Not Hispanic or Latino   \n",
       "54                                      White   Not Hispanic or Latino   \n",
       "55                                      White   Not Hispanic or Latino   \n",
       "64                         More than one race   Not Hispanic or Latino   \n",
       "65                         More than one race   Not Hispanic or Latino   \n",
       "66                         More than one race   Not Hispanic or Latino   \n",
       "67                         More than one race   Not Hispanic or Latino   \n",
       "\n",
       "      Year  Total Births  Births w/ Morbidity  \n",
       "4   2018.0       29092.0                575.0  \n",
       "5   2019.0       28450.0                571.0  \n",
       "6   2020.0       26813.0                499.0  \n",
       "7   2021.0       26124.0                606.0  \n",
       "16  2018.0      240798.0               5517.0  \n",
       "17  2019.0      238769.0               5623.0  \n",
       "18  2020.0      219068.0               5291.0  \n",
       "19  2021.0      213813.0               5190.0  \n",
       "28  2018.0      552029.0               6543.0  \n",
       "29  2019.0      548075.0               6659.0  \n",
       "30  2020.0      529811.0               6308.0  \n",
       "31  2021.0      517889.0               6495.0  \n",
       "40  2018.0        9476.0                174.0  \n",
       "41  2019.0        9770.0                152.0  \n",
       "42  2020.0        9626.0                147.0  \n",
       "43  2021.0        9531.0                185.0  \n",
       "52  2018.0     1956413.0              28228.0  \n",
       "53  2019.0     1915912.0              28677.0  \n",
       "54  2020.0     1843432.0              26909.0  \n",
       "55  2021.0     1887656.0              27972.0  \n",
       "64  2018.0       83853.0               1007.0  \n",
       "65  2019.0       84310.0               1052.0  \n",
       "66  2020.0       84238.0               1033.0  \n",
       "67  2021.0       86982.0               1169.0  "
      ]
     },
     "metadata": {},
     "output_type": "display_data"
    }
   ],
   "source": [
    "# remove NaN rows\n",
    "morbidity_df = morbidity_df.dropna()\n",
    "total_births_df = total_births_df.dropna()\n",
    "\n",
    "# reset indices to start from 0\n",
    "total_births_df = total_births_df.reset_index(drop=True)\n",
    "morbidity_df = morbidity_df.reset_index(drop=True)\n",
    "\n",
    "# create new df for the ratio!\n",
    "ratio_df = total_births_df.merge(morbidity_df, on=[\"Year\",\"Mother's Single Race 6\", \"Mother's Hispanic Origin\"], how=\"left\")\n",
    "\n",
    "# rename columns\n",
    "ratio_df = ratio_df.rename(columns={\"Births_x\":\"Total Births\", \"Births_y\":\"Births w/ Morbidity\"})\n",
    "\n",
    "# remove NaN rows\n",
    "ratio_df = ratio_df.dropna()\n",
    "\n",
    "# display(ratio_df)\n",
    "\n",
    "# isolate hispanic origin rows\n",
    "hisp_df = ratio_df[ratio_df[\"Mother's Hispanic Origin\"] == \"Hispanic or Latino\"]\n",
    "ratio_df = ratio_df[ratio_df[\"Mother's Hispanic Origin\"] == \"Not Hispanic or Latino\"]\n",
    "\n",
    "# # find sum of Births and Morbidity columns by Marital Status and Edu Lvl\n",
    "# hisp_df[\"Mother\\'s Single Race 6\"] = \"Hispanic Origin\"\n",
    "# hisp_df = hisp_df.groupby([\"Mother's Education\", \"Marital Status\"]).aggregate({\"Mother's Single Race 6\":\"first\", \"Year\":\"first\", \"Total Births\": \"sum\", \"Births w/ Morbidity\": \"sum\"}).reset_index()\n",
    "\n",
    "# # add rows to include hispanic origin for year\n",
    "# ratio_df = pd.concat([ratio_df, hisp_df]).drop(columns=\"Mother's Hispanic Origin\").reset_index(drop=True)\n",
    "\n",
    "\n",
    "display(ratio_df)"
   ]
  },
  {
   "attachments": {},
   "cell_type": "markdown",
   "metadata": {},
   "source": [
    "Calculate Ratio for each row (The numbers end up being so high though!)"
   ]
  },
  {
   "cell_type": "code",
   "execution_count": 23,
   "metadata": {},
   "outputs": [
    {
     "data": {
      "text/html": [
       "<div>\n",
       "<style scoped>\n",
       "    .dataframe tbody tr th:only-of-type {\n",
       "        vertical-align: middle;\n",
       "    }\n",
       "\n",
       "    .dataframe tbody tr th {\n",
       "        vertical-align: top;\n",
       "    }\n",
       "\n",
       "    .dataframe thead th {\n",
       "        text-align: right;\n",
       "    }\n",
       "</style>\n",
       "<table border=\"1\" class=\"dataframe\">\n",
       "  <thead>\n",
       "    <tr style=\"text-align: right;\">\n",
       "      <th></th>\n",
       "      <th>Mother's Single Race 6</th>\n",
       "      <th>Mother's Hispanic Origin</th>\n",
       "      <th>Year</th>\n",
       "      <th>Total Births</th>\n",
       "      <th>Births w/ Morbidity</th>\n",
       "      <th>Maternal Morbidity Ratio per 100,000 Live Births</th>\n",
       "      <th>Morbidity per 100,000 live births</th>\n",
       "    </tr>\n",
       "  </thead>\n",
       "  <tbody>\n",
       "    <tr>\n",
       "      <th>4</th>\n",
       "      <td>American Indian or Alaska Native</td>\n",
       "      <td>Not Hispanic or Latino</td>\n",
       "      <td>2018.0</td>\n",
       "      <td>29092.0</td>\n",
       "      <td>575.0</td>\n",
       "      <td>1.976488</td>\n",
       "      <td>197.648838</td>\n",
       "    </tr>\n",
       "    <tr>\n",
       "      <th>5</th>\n",
       "      <td>American Indian or Alaska Native</td>\n",
       "      <td>Not Hispanic or Latino</td>\n",
       "      <td>2019.0</td>\n",
       "      <td>28450.0</td>\n",
       "      <td>571.0</td>\n",
       "      <td>2.007030</td>\n",
       "      <td>200.702988</td>\n",
       "    </tr>\n",
       "    <tr>\n",
       "      <th>6</th>\n",
       "      <td>American Indian or Alaska Native</td>\n",
       "      <td>Not Hispanic or Latino</td>\n",
       "      <td>2020.0</td>\n",
       "      <td>26813.0</td>\n",
       "      <td>499.0</td>\n",
       "      <td>1.861038</td>\n",
       "      <td>186.103756</td>\n",
       "    </tr>\n",
       "    <tr>\n",
       "      <th>7</th>\n",
       "      <td>American Indian or Alaska Native</td>\n",
       "      <td>Not Hispanic or Latino</td>\n",
       "      <td>2021.0</td>\n",
       "      <td>26124.0</td>\n",
       "      <td>606.0</td>\n",
       "      <td>2.319706</td>\n",
       "      <td>231.970602</td>\n",
       "    </tr>\n",
       "    <tr>\n",
       "      <th>16</th>\n",
       "      <td>Asian</td>\n",
       "      <td>Not Hispanic or Latino</td>\n",
       "      <td>2018.0</td>\n",
       "      <td>240798.0</td>\n",
       "      <td>5517.0</td>\n",
       "      <td>2.291132</td>\n",
       "      <td>229.113199</td>\n",
       "    </tr>\n",
       "    <tr>\n",
       "      <th>17</th>\n",
       "      <td>Asian</td>\n",
       "      <td>Not Hispanic or Latino</td>\n",
       "      <td>2019.0</td>\n",
       "      <td>238769.0</td>\n",
       "      <td>5623.0</td>\n",
       "      <td>2.354996</td>\n",
       "      <td>235.499583</td>\n",
       "    </tr>\n",
       "    <tr>\n",
       "      <th>18</th>\n",
       "      <td>Asian</td>\n",
       "      <td>Not Hispanic or Latino</td>\n",
       "      <td>2020.0</td>\n",
       "      <td>219068.0</td>\n",
       "      <td>5291.0</td>\n",
       "      <td>2.415232</td>\n",
       "      <td>241.523180</td>\n",
       "    </tr>\n",
       "    <tr>\n",
       "      <th>19</th>\n",
       "      <td>Asian</td>\n",
       "      <td>Not Hispanic or Latino</td>\n",
       "      <td>2021.0</td>\n",
       "      <td>213813.0</td>\n",
       "      <td>5190.0</td>\n",
       "      <td>2.427355</td>\n",
       "      <td>242.735474</td>\n",
       "    </tr>\n",
       "    <tr>\n",
       "      <th>28</th>\n",
       "      <td>Black or African American</td>\n",
       "      <td>Not Hispanic or Latino</td>\n",
       "      <td>2018.0</td>\n",
       "      <td>552029.0</td>\n",
       "      <td>6543.0</td>\n",
       "      <td>1.185264</td>\n",
       "      <td>118.526382</td>\n",
       "    </tr>\n",
       "    <tr>\n",
       "      <th>29</th>\n",
       "      <td>Black or African American</td>\n",
       "      <td>Not Hispanic or Latino</td>\n",
       "      <td>2019.0</td>\n",
       "      <td>548075.0</td>\n",
       "      <td>6659.0</td>\n",
       "      <td>1.214980</td>\n",
       "      <td>121.497970</td>\n",
       "    </tr>\n",
       "    <tr>\n",
       "      <th>30</th>\n",
       "      <td>Black or African American</td>\n",
       "      <td>Not Hispanic or Latino</td>\n",
       "      <td>2020.0</td>\n",
       "      <td>529811.0</td>\n",
       "      <td>6308.0</td>\n",
       "      <td>1.190613</td>\n",
       "      <td>119.061326</td>\n",
       "    </tr>\n",
       "    <tr>\n",
       "      <th>31</th>\n",
       "      <td>Black or African American</td>\n",
       "      <td>Not Hispanic or Latino</td>\n",
       "      <td>2021.0</td>\n",
       "      <td>517889.0</td>\n",
       "      <td>6495.0</td>\n",
       "      <td>1.254130</td>\n",
       "      <td>125.412975</td>\n",
       "    </tr>\n",
       "    <tr>\n",
       "      <th>40</th>\n",
       "      <td>Native Hawaiian or Other Pacific Islander</td>\n",
       "      <td>Not Hispanic or Latino</td>\n",
       "      <td>2018.0</td>\n",
       "      <td>9476.0</td>\n",
       "      <td>174.0</td>\n",
       "      <td>1.836218</td>\n",
       "      <td>183.621781</td>\n",
       "    </tr>\n",
       "    <tr>\n",
       "      <th>41</th>\n",
       "      <td>Native Hawaiian or Other Pacific Islander</td>\n",
       "      <td>Not Hispanic or Latino</td>\n",
       "      <td>2019.0</td>\n",
       "      <td>9770.0</td>\n",
       "      <td>152.0</td>\n",
       "      <td>1.555783</td>\n",
       "      <td>155.578301</td>\n",
       "    </tr>\n",
       "    <tr>\n",
       "      <th>42</th>\n",
       "      <td>Native Hawaiian or Other Pacific Islander</td>\n",
       "      <td>Not Hispanic or Latino</td>\n",
       "      <td>2020.0</td>\n",
       "      <td>9626.0</td>\n",
       "      <td>147.0</td>\n",
       "      <td>1.527114</td>\n",
       "      <td>152.711407</td>\n",
       "    </tr>\n",
       "    <tr>\n",
       "      <th>43</th>\n",
       "      <td>Native Hawaiian or Other Pacific Islander</td>\n",
       "      <td>Not Hispanic or Latino</td>\n",
       "      <td>2021.0</td>\n",
       "      <td>9531.0</td>\n",
       "      <td>185.0</td>\n",
       "      <td>1.941035</td>\n",
       "      <td>194.103452</td>\n",
       "    </tr>\n",
       "    <tr>\n",
       "      <th>52</th>\n",
       "      <td>White</td>\n",
       "      <td>Not Hispanic or Latino</td>\n",
       "      <td>2018.0</td>\n",
       "      <td>1956413.0</td>\n",
       "      <td>28228.0</td>\n",
       "      <td>1.442845</td>\n",
       "      <td>144.284463</td>\n",
       "    </tr>\n",
       "    <tr>\n",
       "      <th>53</th>\n",
       "      <td>White</td>\n",
       "      <td>Not Hispanic or Latino</td>\n",
       "      <td>2019.0</td>\n",
       "      <td>1915912.0</td>\n",
       "      <td>28677.0</td>\n",
       "      <td>1.496781</td>\n",
       "      <td>149.678065</td>\n",
       "    </tr>\n",
       "    <tr>\n",
       "      <th>54</th>\n",
       "      <td>White</td>\n",
       "      <td>Not Hispanic or Latino</td>\n",
       "      <td>2020.0</td>\n",
       "      <td>1843432.0</td>\n",
       "      <td>26909.0</td>\n",
       "      <td>1.459723</td>\n",
       "      <td>145.972295</td>\n",
       "    </tr>\n",
       "    <tr>\n",
       "      <th>55</th>\n",
       "      <td>White</td>\n",
       "      <td>Not Hispanic or Latino</td>\n",
       "      <td>2021.0</td>\n",
       "      <td>1887656.0</td>\n",
       "      <td>27972.0</td>\n",
       "      <td>1.481838</td>\n",
       "      <td>148.183779</td>\n",
       "    </tr>\n",
       "    <tr>\n",
       "      <th>64</th>\n",
       "      <td>More than one race</td>\n",
       "      <td>Not Hispanic or Latino</td>\n",
       "      <td>2018.0</td>\n",
       "      <td>83853.0</td>\n",
       "      <td>1007.0</td>\n",
       "      <td>1.200911</td>\n",
       "      <td>120.091112</td>\n",
       "    </tr>\n",
       "    <tr>\n",
       "      <th>65</th>\n",
       "      <td>More than one race</td>\n",
       "      <td>Not Hispanic or Latino</td>\n",
       "      <td>2019.0</td>\n",
       "      <td>84310.0</td>\n",
       "      <td>1052.0</td>\n",
       "      <td>1.247776</td>\n",
       "      <td>124.777606</td>\n",
       "    </tr>\n",
       "    <tr>\n",
       "      <th>66</th>\n",
       "      <td>More than one race</td>\n",
       "      <td>Not Hispanic or Latino</td>\n",
       "      <td>2020.0</td>\n",
       "      <td>84238.0</td>\n",
       "      <td>1033.0</td>\n",
       "      <td>1.226287</td>\n",
       "      <td>122.628742</td>\n",
       "    </tr>\n",
       "    <tr>\n",
       "      <th>67</th>\n",
       "      <td>More than one race</td>\n",
       "      <td>Not Hispanic or Latino</td>\n",
       "      <td>2021.0</td>\n",
       "      <td>86982.0</td>\n",
       "      <td>1169.0</td>\n",
       "      <td>1.343956</td>\n",
       "      <td>134.395622</td>\n",
       "    </tr>\n",
       "  </tbody>\n",
       "</table>\n",
       "</div>"
      ],
      "text/plain": [
       "                       Mother's Single Race 6 Mother's Hispanic Origin  \\\n",
       "4            American Indian or Alaska Native   Not Hispanic or Latino   \n",
       "5            American Indian or Alaska Native   Not Hispanic or Latino   \n",
       "6            American Indian or Alaska Native   Not Hispanic or Latino   \n",
       "7            American Indian or Alaska Native   Not Hispanic or Latino   \n",
       "16                                      Asian   Not Hispanic or Latino   \n",
       "17                                      Asian   Not Hispanic or Latino   \n",
       "18                                      Asian   Not Hispanic or Latino   \n",
       "19                                      Asian   Not Hispanic or Latino   \n",
       "28                  Black or African American   Not Hispanic or Latino   \n",
       "29                  Black or African American   Not Hispanic or Latino   \n",
       "30                  Black or African American   Not Hispanic or Latino   \n",
       "31                  Black or African American   Not Hispanic or Latino   \n",
       "40  Native Hawaiian or Other Pacific Islander   Not Hispanic or Latino   \n",
       "41  Native Hawaiian or Other Pacific Islander   Not Hispanic or Latino   \n",
       "42  Native Hawaiian or Other Pacific Islander   Not Hispanic or Latino   \n",
       "43  Native Hawaiian or Other Pacific Islander   Not Hispanic or Latino   \n",
       "52                                      White   Not Hispanic or Latino   \n",
       "53                                      White   Not Hispanic or Latino   \n",
       "54                                      White   Not Hispanic or Latino   \n",
       "55                                      White   Not Hispanic or Latino   \n",
       "64                         More than one race   Not Hispanic or Latino   \n",
       "65                         More than one race   Not Hispanic or Latino   \n",
       "66                         More than one race   Not Hispanic or Latino   \n",
       "67                         More than one race   Not Hispanic or Latino   \n",
       "\n",
       "      Year  Total Births  Births w/ Morbidity  \\\n",
       "4   2018.0       29092.0                575.0   \n",
       "5   2019.0       28450.0                571.0   \n",
       "6   2020.0       26813.0                499.0   \n",
       "7   2021.0       26124.0                606.0   \n",
       "16  2018.0      240798.0               5517.0   \n",
       "17  2019.0      238769.0               5623.0   \n",
       "18  2020.0      219068.0               5291.0   \n",
       "19  2021.0      213813.0               5190.0   \n",
       "28  2018.0      552029.0               6543.0   \n",
       "29  2019.0      548075.0               6659.0   \n",
       "30  2020.0      529811.0               6308.0   \n",
       "31  2021.0      517889.0               6495.0   \n",
       "40  2018.0        9476.0                174.0   \n",
       "41  2019.0        9770.0                152.0   \n",
       "42  2020.0        9626.0                147.0   \n",
       "43  2021.0        9531.0                185.0   \n",
       "52  2018.0     1956413.0              28228.0   \n",
       "53  2019.0     1915912.0              28677.0   \n",
       "54  2020.0     1843432.0              26909.0   \n",
       "55  2021.0     1887656.0              27972.0   \n",
       "64  2018.0       83853.0               1007.0   \n",
       "65  2019.0       84310.0               1052.0   \n",
       "66  2020.0       84238.0               1033.0   \n",
       "67  2021.0       86982.0               1169.0   \n",
       "\n",
       "    Maternal Morbidity Ratio per 100,000 Live Births  \\\n",
       "4                                           1.976488   \n",
       "5                                           2.007030   \n",
       "6                                           1.861038   \n",
       "7                                           2.319706   \n",
       "16                                          2.291132   \n",
       "17                                          2.354996   \n",
       "18                                          2.415232   \n",
       "19                                          2.427355   \n",
       "28                                          1.185264   \n",
       "29                                          1.214980   \n",
       "30                                          1.190613   \n",
       "31                                          1.254130   \n",
       "40                                          1.836218   \n",
       "41                                          1.555783   \n",
       "42                                          1.527114   \n",
       "43                                          1.941035   \n",
       "52                                          1.442845   \n",
       "53                                          1.496781   \n",
       "54                                          1.459723   \n",
       "55                                          1.481838   \n",
       "64                                          1.200911   \n",
       "65                                          1.247776   \n",
       "66                                          1.226287   \n",
       "67                                          1.343956   \n",
       "\n",
       "    Morbidity per 100,000 live births  \n",
       "4                          197.648838  \n",
       "5                          200.702988  \n",
       "6                          186.103756  \n",
       "7                          231.970602  \n",
       "16                         229.113199  \n",
       "17                         235.499583  \n",
       "18                         241.523180  \n",
       "19                         242.735474  \n",
       "28                         118.526382  \n",
       "29                         121.497970  \n",
       "30                         119.061326  \n",
       "31                         125.412975  \n",
       "40                         183.621781  \n",
       "41                         155.578301  \n",
       "42                         152.711407  \n",
       "43                         194.103452  \n",
       "52                         144.284463  \n",
       "53                         149.678065  \n",
       "54                         145.972295  \n",
       "55                         148.183779  \n",
       "64                         120.091112  \n",
       "65                         124.777606  \n",
       "66                         122.628742  \n",
       "67                         134.395622  "
      ]
     },
     "metadata": {},
     "output_type": "display_data"
    }
   ],
   "source": [
    "# create column for MMR = (Deaths/Live Births * 100,000)\n",
    "ratio_df[\"Morbidity per 100,000 live births\"] = ratio_df[\"Births w/ Morbidity\"] / ratio_df[\"Total Births\"] * 10000\n",
    "\n",
    "display(ratio_df)"
   ]
  },
  {
   "attachments": {},
   "cell_type": "markdown",
   "metadata": {},
   "source": [
    "Do it by percentage instead?"
   ]
  },
  {
   "cell_type": "code",
   "execution_count": 8,
   "metadata": {},
   "outputs": [
    {
     "data": {
      "text/html": [
       "<div>\n",
       "<style scoped>\n",
       "    .dataframe tbody tr th:only-of-type {\n",
       "        vertical-align: middle;\n",
       "    }\n",
       "\n",
       "    .dataframe tbody tr th {\n",
       "        vertical-align: top;\n",
       "    }\n",
       "\n",
       "    .dataframe thead th {\n",
       "        text-align: right;\n",
       "    }\n",
       "</style>\n",
       "<table border=\"1\" class=\"dataframe\">\n",
       "  <thead>\n",
       "    <tr style=\"text-align: right;\">\n",
       "      <th></th>\n",
       "      <th>Mother's Education</th>\n",
       "      <th>Marital Status</th>\n",
       "      <th>Mother's Single Race 6</th>\n",
       "      <th>Year</th>\n",
       "      <th>Total Births</th>\n",
       "      <th>Births w/ Morbidity</th>\n",
       "      <th>Maternal Morbidity Ratio per 100,000 Live Births</th>\n",
       "      <th>Percentage of Live Births in Population</th>\n",
       "    </tr>\n",
       "  </thead>\n",
       "  <tbody>\n",
       "    <tr>\n",
       "      <th>0</th>\n",
       "      <td>8th grade or less</td>\n",
       "      <td>Married</td>\n",
       "      <td>Asian</td>\n",
       "      <td>2021.0</td>\n",
       "      <td>2890.0</td>\n",
       "      <td>51.0</td>\n",
       "      <td>1765.0</td>\n",
       "      <td>1.764706</td>\n",
       "    </tr>\n",
       "    <tr>\n",
       "      <th>1</th>\n",
       "      <td>8th grade or less</td>\n",
       "      <td>Married</td>\n",
       "      <td>Black or African American</td>\n",
       "      <td>2021.0</td>\n",
       "      <td>3030.0</td>\n",
       "      <td>64.0</td>\n",
       "      <td>2112.0</td>\n",
       "      <td>2.112211</td>\n",
       "    </tr>\n",
       "    <tr>\n",
       "      <th>2</th>\n",
       "      <td>8th grade or less</td>\n",
       "      <td>Married</td>\n",
       "      <td>White</td>\n",
       "      <td>2021.0</td>\n",
       "      <td>19023.0</td>\n",
       "      <td>239.0</td>\n",
       "      <td>1256.0</td>\n",
       "      <td>1.256374</td>\n",
       "    </tr>\n",
       "    <tr>\n",
       "      <th>3</th>\n",
       "      <td>8th grade or less</td>\n",
       "      <td>Unmarried</td>\n",
       "      <td>Black or African American</td>\n",
       "      <td>2021.0</td>\n",
       "      <td>2343.0</td>\n",
       "      <td>44.0</td>\n",
       "      <td>1878.0</td>\n",
       "      <td>1.877934</td>\n",
       "    </tr>\n",
       "    <tr>\n",
       "      <th>4</th>\n",
       "      <td>8th grade or less</td>\n",
       "      <td>Unmarried</td>\n",
       "      <td>White</td>\n",
       "      <td>2021.0</td>\n",
       "      <td>3966.0</td>\n",
       "      <td>46.0</td>\n",
       "      <td>1160.0</td>\n",
       "      <td>1.159859</td>\n",
       "    </tr>\n",
       "    <tr>\n",
       "      <th>...</th>\n",
       "      <td>...</td>\n",
       "      <td>...</td>\n",
       "      <td>...</td>\n",
       "      <td>...</td>\n",
       "      <td>...</td>\n",
       "      <td>...</td>\n",
       "      <td>...</td>\n",
       "      <td>...</td>\n",
       "    </tr>\n",
       "    <tr>\n",
       "      <th>85</th>\n",
       "      <td>High school graduate or GED completed</td>\n",
       "      <td>Unmarried</td>\n",
       "      <td>Hispanic Origin</td>\n",
       "      <td>2021.0</td>\n",
       "      <td>123379.0</td>\n",
       "      <td>1330.0</td>\n",
       "      <td>1078.0</td>\n",
       "      <td>1.077979</td>\n",
       "    </tr>\n",
       "    <tr>\n",
       "      <th>86</th>\n",
       "      <td>Master's degree (MA, MS, MEng, MEd, MSW, MBA)</td>\n",
       "      <td>Married</td>\n",
       "      <td>Hispanic Origin</td>\n",
       "      <td>2021.0</td>\n",
       "      <td>20196.0</td>\n",
       "      <td>291.0</td>\n",
       "      <td>1441.0</td>\n",
       "      <td>1.440879</td>\n",
       "    </tr>\n",
       "    <tr>\n",
       "      <th>87</th>\n",
       "      <td>Master's degree (MA, MS, MEng, MEd, MSW, MBA)</td>\n",
       "      <td>Unmarried</td>\n",
       "      <td>Hispanic Origin</td>\n",
       "      <td>2021.0</td>\n",
       "      <td>3826.0</td>\n",
       "      <td>50.0</td>\n",
       "      <td>1307.0</td>\n",
       "      <td>1.306848</td>\n",
       "    </tr>\n",
       "    <tr>\n",
       "      <th>88</th>\n",
       "      <td>Some college credit, but not a degree</td>\n",
       "      <td>Married</td>\n",
       "      <td>Hispanic Origin</td>\n",
       "      <td>2021.0</td>\n",
       "      <td>56166.0</td>\n",
       "      <td>640.0</td>\n",
       "      <td>1139.0</td>\n",
       "      <td>1.139479</td>\n",
       "    </tr>\n",
       "    <tr>\n",
       "      <th>89</th>\n",
       "      <td>Some college credit, but not a degree</td>\n",
       "      <td>Unmarried</td>\n",
       "      <td>Hispanic Origin</td>\n",
       "      <td>2021.0</td>\n",
       "      <td>60505.0</td>\n",
       "      <td>679.0</td>\n",
       "      <td>1122.0</td>\n",
       "      <td>1.122221</td>\n",
       "    </tr>\n",
       "  </tbody>\n",
       "</table>\n",
       "<p>90 rows × 8 columns</p>\n",
       "</div>"
      ],
      "text/plain": [
       "                               Mother's Education Marital Status  \\\n",
       "0                               8th grade or less        Married   \n",
       "1                               8th grade or less        Married   \n",
       "2                               8th grade or less        Married   \n",
       "3                               8th grade or less      Unmarried   \n",
       "4                               8th grade or less      Unmarried   \n",
       "..                                            ...            ...   \n",
       "85          High school graduate or GED completed      Unmarried   \n",
       "86  Master's degree (MA, MS, MEng, MEd, MSW, MBA)        Married   \n",
       "87  Master's degree (MA, MS, MEng, MEd, MSW, MBA)      Unmarried   \n",
       "88          Some college credit, but not a degree        Married   \n",
       "89          Some college credit, but not a degree      Unmarried   \n",
       "\n",
       "       Mother's Single Race 6    Year  Total Births  Births w/ Morbidity  \\\n",
       "0                       Asian  2021.0        2890.0                 51.0   \n",
       "1   Black or African American  2021.0        3030.0                 64.0   \n",
       "2                       White  2021.0       19023.0                239.0   \n",
       "3   Black or African American  2021.0        2343.0                 44.0   \n",
       "4                       White  2021.0        3966.0                 46.0   \n",
       "..                        ...     ...           ...                  ...   \n",
       "85            Hispanic Origin  2021.0      123379.0               1330.0   \n",
       "86            Hispanic Origin  2021.0       20196.0                291.0   \n",
       "87            Hispanic Origin  2021.0        3826.0                 50.0   \n",
       "88            Hispanic Origin  2021.0       56166.0                640.0   \n",
       "89            Hispanic Origin  2021.0       60505.0                679.0   \n",
       "\n",
       "    Maternal Morbidity Ratio per 100,000 Live Births  \\\n",
       "0                                             1765.0   \n",
       "1                                             2112.0   \n",
       "2                                             1256.0   \n",
       "3                                             1878.0   \n",
       "4                                             1160.0   \n",
       "..                                               ...   \n",
       "85                                            1078.0   \n",
       "86                                            1441.0   \n",
       "87                                            1307.0   \n",
       "88                                            1139.0   \n",
       "89                                            1122.0   \n",
       "\n",
       "    Percentage of Live Births in Population  \n",
       "0                                  1.764706  \n",
       "1                                  2.112211  \n",
       "2                                  1.256374  \n",
       "3                                  1.877934  \n",
       "4                                  1.159859  \n",
       "..                                      ...  \n",
       "85                                 1.077979  \n",
       "86                                 1.440879  \n",
       "87                                 1.306848  \n",
       "88                                 1.139479  \n",
       "89                                 1.122221  \n",
       "\n",
       "[90 rows x 8 columns]"
      ]
     },
     "metadata": {},
     "output_type": "display_data"
    }
   ],
   "source": [
    "ratio_df[\"Percentage of Live Births in Population\"] =  ratio_df[\"Births w/ Morbidity\"] / ratio_df[\"Total Births\"] * 100\n",
    "\n",
    "display(ratio_df)"
   ]
  },
  {
   "attachments": {},
   "cell_type": "markdown",
   "metadata": {},
   "source": [
    "Create Map"
   ]
  },
  {
   "cell_type": "code",
   "execution_count": 10,
   "metadata": {},
   "outputs": [
    {
     "data": {
      "application/vnd.plotly.v1+json": {
       "config": {
        "plotlyServerURL": "https://plot.ly"
       },
       "data": [
        {
         "alignmentgroup": "True",
         "bingroup": "x",
         "histfunc": "sum",
         "hovertemplate": "Mother's Single Race 6=Black or African American<br>Mother's Education=%{x}<br>sum of Percentage of Live Births in Population=%{y}<extra></extra>",
         "legendgroup": "Black or African American",
         "marker": {
          "color": "#636efa",
          "pattern": {
           "shape": ""
          }
         },
         "name": "Black or African American",
         "offsetgroup": "Black or African American",
         "orientation": "v",
         "showlegend": true,
         "type": "histogram",
         "x": [
          "8th grade or less",
          "9th through 12th grade with no diploma",
          "High school graduate or GED completed",
          "Some college credit, but not a degree",
          "Associate degree (AA, AS)",
          "Bachelor's degree (BA, AB, BS)",
          "Master's degree (MA, MS, MEng, MEd, MSW, MBA)",
          "Doctorate (PhD, EdD) or Professional Degree (MD, DDS, DVM, LLB, JD)"
         ],
         "xaxis": "x",
         "y": [
          1.8779342723004695,
          1.2018010088357765,
          1.1553076061411407,
          1.1240886591402306,
          1.1896343746100413,
          1.1049935000382352,
          1.1878051999472088,
          1.431980906921241
         ],
         "yaxis": "y"
        },
        {
         "alignmentgroup": "True",
         "bingroup": "x",
         "histfunc": "sum",
         "hovertemplate": "Mother's Single Race 6=White<br>Mother's Education=%{x}<br>sum of Percentage of Live Births in Population=%{y}<extra></extra>",
         "legendgroup": "White",
         "marker": {
          "color": "#EF553B",
          "pattern": {
           "shape": ""
          }
         },
         "name": "White",
         "offsetgroup": "White",
         "orientation": "v",
         "showlegend": true,
         "type": "histogram",
         "x": [
          "8th grade or less",
          "9th through 12th grade with no diploma",
          "High school graduate or GED completed",
          "Some college credit, but not a degree",
          "Associate degree (AA, AS)",
          "Bachelor's degree (BA, AB, BS)",
          "Master's degree (MA, MS, MEng, MEd, MSW, MBA)",
          "Doctorate (PhD, EdD) or Professional Degree (MD, DDS, DVM, LLB, JD)"
         ],
         "xaxis": "x",
         "y": [
          1.1598587997982854,
          1.2487589630446774,
          1.2261320086762044,
          1.2507191856605444,
          1.358971753708596,
          1.5318583860947097,
          1.5448347285751274,
          1.8040180401804016
         ],
         "yaxis": "y"
        },
        {
         "alignmentgroup": "True",
         "bingroup": "x",
         "histfunc": "sum",
         "hovertemplate": "Mother's Single Race 6=American Indian or Alaska Native<br>Mother's Education=%{x}<br>sum of Percentage of Live Births in Population=%{y}<extra></extra>",
         "legendgroup": "American Indian or Alaska Native",
         "marker": {
          "color": "#00cc96",
          "pattern": {
           "shape": ""
          }
         },
         "name": "American Indian or Alaska Native",
         "offsetgroup": "American Indian or Alaska Native",
         "orientation": "v",
         "showlegend": true,
         "type": "histogram",
         "x": [
          "9th through 12th grade with no diploma",
          "High school graduate or GED completed",
          "Some college credit, but not a degree",
          "Associate degree (AA, AS)",
          "Bachelor's degree (BA, AB, BS)"
         ],
         "xaxis": "x",
         "y": [
          2.800718132854578,
          2.6992493211946975,
          2.1172638436482085,
          1.2219959266802443,
          1.7515923566878981
         ],
         "yaxis": "y"
        },
        {
         "alignmentgroup": "True",
         "bingroup": "x",
         "histfunc": "sum",
         "hovertemplate": "Mother's Single Race 6=Asian<br>Mother's Education=%{x}<br>sum of Percentage of Live Births in Population=%{y}<extra></extra>",
         "legendgroup": "Asian",
         "marker": {
          "color": "#ab63fa",
          "pattern": {
           "shape": ""
          }
         },
         "name": "Asian",
         "offsetgroup": "Asian",
         "orientation": "v",
         "showlegend": true,
         "type": "histogram",
         "x": [
          "9th through 12th grade with no diploma",
          "High school graduate or GED completed",
          "Some college credit, but not a degree",
          "Associate degree (AA, AS)",
          "Bachelor's degree (BA, AB, BS)",
          "Master's degree (MA, MS, MEng, MEd, MSW, MBA)",
          "Doctorate (PhD, EdD) or Professional Degree (MD, DDS, DVM, LLB, JD)"
         ],
         "xaxis": "x",
         "y": [
          1.799307958477509,
          1.9627478469857802,
          1.709619800969635,
          2.074235807860262,
          1.8438490348602707,
          3.7037037037037033,
          3.2362459546925564
         ],
         "yaxis": "y"
        },
        {
         "alignmentgroup": "True",
         "bingroup": "x",
         "histfunc": "sum",
         "hovertemplate": "Mother's Single Race 6=Native Hawaiian or Other Pacific Islander<br>Mother's Education=%{x}<br>sum of Percentage of Live Births in Population=%{y}<extra></extra>",
         "legendgroup": "Native Hawaiian or Other Pacific Islander",
         "marker": {
          "color": "#FFA15A",
          "pattern": {
           "shape": ""
          }
         },
         "name": "Native Hawaiian or Other Pacific Islander",
         "offsetgroup": "Native Hawaiian or Other Pacific Islander",
         "orientation": "v",
         "showlegend": true,
         "type": "histogram",
         "x": [
          "9th through 12th grade with no diploma",
          "High school graduate or GED completed",
          "Some college credit, but not a degree"
         ],
         "xaxis": "x",
         "y": [
          2.405857740585774,
          2.2478736330498177,
          2.200825309491059
         ],
         "yaxis": "y"
        },
        {
         "alignmentgroup": "True",
         "bingroup": "x",
         "histfunc": "sum",
         "hovertemplate": "Mother's Single Race 6=More than one race<br>Mother's Education=%{x}<br>sum of Percentage of Live Births in Population=%{y}<extra></extra>",
         "legendgroup": "More than one race",
         "marker": {
          "color": "#19d3f3",
          "pattern": {
           "shape": ""
          }
         },
         "name": "More than one race",
         "offsetgroup": "More than one race",
         "orientation": "v",
         "showlegend": true,
         "type": "histogram",
         "x": [
          "9th through 12th grade with no diploma",
          "High school graduate or GED completed",
          "Some college credit, but not a degree",
          "Associate degree (AA, AS)",
          "Bachelor's degree (BA, AB, BS)",
          "Master's degree (MA, MS, MEng, MEd, MSW, MBA)"
         ],
         "xaxis": "x",
         "y": [
          1.141885325558795,
          0.9827833572453373,
          1.1164563855859126,
          1.0518934081346423,
          1.1854951185495117,
          1.5942028985507246
         ],
         "yaxis": "y"
        },
        {
         "alignmentgroup": "True",
         "bingroup": "x",
         "histfunc": "sum",
         "hovertemplate": "Mother's Single Race 6=Hispanic Origin<br>Mother's Education=%{x}<br>sum of Percentage of Live Births in Population=%{y}<extra></extra>",
         "legendgroup": "Hispanic Origin",
         "marker": {
          "color": "#FF6692",
          "pattern": {
           "shape": ""
          }
         },
         "name": "Hispanic Origin",
         "offsetgroup": "Hispanic Origin",
         "orientation": "v",
         "showlegend": true,
         "type": "histogram",
         "x": [
          "8th grade or less",
          "9th through 12th grade with no diploma",
          "Associate degree (AA, AS)",
          "Bachelor's degree (BA, AB, BS)",
          "High school graduate or GED completed",
          "Master's degree (MA, MS, MEng, MEd, MSW, MBA)",
          "Some college credit, but not a degree"
         ],
         "xaxis": "x",
         "y": [
          1.2852936081759918,
          1.1051635357091976,
          1.096579476861167,
          1.1640319219234485,
          1.0779792347157944,
          1.3068478829064296,
          1.1222213040244609
         ],
         "yaxis": "y"
        }
       ],
       "layout": {
        "barmode": "group",
        "height": 800,
        "legend": {
         "title": {
          "text": "Mother's Single Race 6"
         },
         "tracegroupgap": 0
        },
        "margin": {
         "t": 60
        },
        "template": {
         "data": {
          "bar": [
           {
            "error_x": {
             "color": "#2a3f5f"
            },
            "error_y": {
             "color": "#2a3f5f"
            },
            "marker": {
             "line": {
              "color": "#E5ECF6",
              "width": 0.5
             },
             "pattern": {
              "fillmode": "overlay",
              "size": 10,
              "solidity": 0.2
             }
            },
            "type": "bar"
           }
          ],
          "barpolar": [
           {
            "marker": {
             "line": {
              "color": "#E5ECF6",
              "width": 0.5
             },
             "pattern": {
              "fillmode": "overlay",
              "size": 10,
              "solidity": 0.2
             }
            },
            "type": "barpolar"
           }
          ],
          "carpet": [
           {
            "aaxis": {
             "endlinecolor": "#2a3f5f",
             "gridcolor": "white",
             "linecolor": "white",
             "minorgridcolor": "white",
             "startlinecolor": "#2a3f5f"
            },
            "baxis": {
             "endlinecolor": "#2a3f5f",
             "gridcolor": "white",
             "linecolor": "white",
             "minorgridcolor": "white",
             "startlinecolor": "#2a3f5f"
            },
            "type": "carpet"
           }
          ],
          "choropleth": [
           {
            "colorbar": {
             "outlinewidth": 0,
             "ticks": ""
            },
            "type": "choropleth"
           }
          ],
          "contour": [
           {
            "colorbar": {
             "outlinewidth": 0,
             "ticks": ""
            },
            "colorscale": [
             [
              0,
              "#0d0887"
             ],
             [
              0.1111111111111111,
              "#46039f"
             ],
             [
              0.2222222222222222,
              "#7201a8"
             ],
             [
              0.3333333333333333,
              "#9c179e"
             ],
             [
              0.4444444444444444,
              "#bd3786"
             ],
             [
              0.5555555555555556,
              "#d8576b"
             ],
             [
              0.6666666666666666,
              "#ed7953"
             ],
             [
              0.7777777777777778,
              "#fb9f3a"
             ],
             [
              0.8888888888888888,
              "#fdca26"
             ],
             [
              1,
              "#f0f921"
             ]
            ],
            "type": "contour"
           }
          ],
          "contourcarpet": [
           {
            "colorbar": {
             "outlinewidth": 0,
             "ticks": ""
            },
            "type": "contourcarpet"
           }
          ],
          "heatmap": [
           {
            "colorbar": {
             "outlinewidth": 0,
             "ticks": ""
            },
            "colorscale": [
             [
              0,
              "#0d0887"
             ],
             [
              0.1111111111111111,
              "#46039f"
             ],
             [
              0.2222222222222222,
              "#7201a8"
             ],
             [
              0.3333333333333333,
              "#9c179e"
             ],
             [
              0.4444444444444444,
              "#bd3786"
             ],
             [
              0.5555555555555556,
              "#d8576b"
             ],
             [
              0.6666666666666666,
              "#ed7953"
             ],
             [
              0.7777777777777778,
              "#fb9f3a"
             ],
             [
              0.8888888888888888,
              "#fdca26"
             ],
             [
              1,
              "#f0f921"
             ]
            ],
            "type": "heatmap"
           }
          ],
          "heatmapgl": [
           {
            "colorbar": {
             "outlinewidth": 0,
             "ticks": ""
            },
            "colorscale": [
             [
              0,
              "#0d0887"
             ],
             [
              0.1111111111111111,
              "#46039f"
             ],
             [
              0.2222222222222222,
              "#7201a8"
             ],
             [
              0.3333333333333333,
              "#9c179e"
             ],
             [
              0.4444444444444444,
              "#bd3786"
             ],
             [
              0.5555555555555556,
              "#d8576b"
             ],
             [
              0.6666666666666666,
              "#ed7953"
             ],
             [
              0.7777777777777778,
              "#fb9f3a"
             ],
             [
              0.8888888888888888,
              "#fdca26"
             ],
             [
              1,
              "#f0f921"
             ]
            ],
            "type": "heatmapgl"
           }
          ],
          "histogram": [
           {
            "marker": {
             "pattern": {
              "fillmode": "overlay",
              "size": 10,
              "solidity": 0.2
             }
            },
            "type": "histogram"
           }
          ],
          "histogram2d": [
           {
            "colorbar": {
             "outlinewidth": 0,
             "ticks": ""
            },
            "colorscale": [
             [
              0,
              "#0d0887"
             ],
             [
              0.1111111111111111,
              "#46039f"
             ],
             [
              0.2222222222222222,
              "#7201a8"
             ],
             [
              0.3333333333333333,
              "#9c179e"
             ],
             [
              0.4444444444444444,
              "#bd3786"
             ],
             [
              0.5555555555555556,
              "#d8576b"
             ],
             [
              0.6666666666666666,
              "#ed7953"
             ],
             [
              0.7777777777777778,
              "#fb9f3a"
             ],
             [
              0.8888888888888888,
              "#fdca26"
             ],
             [
              1,
              "#f0f921"
             ]
            ],
            "type": "histogram2d"
           }
          ],
          "histogram2dcontour": [
           {
            "colorbar": {
             "outlinewidth": 0,
             "ticks": ""
            },
            "colorscale": [
             [
              0,
              "#0d0887"
             ],
             [
              0.1111111111111111,
              "#46039f"
             ],
             [
              0.2222222222222222,
              "#7201a8"
             ],
             [
              0.3333333333333333,
              "#9c179e"
             ],
             [
              0.4444444444444444,
              "#bd3786"
             ],
             [
              0.5555555555555556,
              "#d8576b"
             ],
             [
              0.6666666666666666,
              "#ed7953"
             ],
             [
              0.7777777777777778,
              "#fb9f3a"
             ],
             [
              0.8888888888888888,
              "#fdca26"
             ],
             [
              1,
              "#f0f921"
             ]
            ],
            "type": "histogram2dcontour"
           }
          ],
          "mesh3d": [
           {
            "colorbar": {
             "outlinewidth": 0,
             "ticks": ""
            },
            "type": "mesh3d"
           }
          ],
          "parcoords": [
           {
            "line": {
             "colorbar": {
              "outlinewidth": 0,
              "ticks": ""
             }
            },
            "type": "parcoords"
           }
          ],
          "pie": [
           {
            "automargin": true,
            "type": "pie"
           }
          ],
          "scatter": [
           {
            "fillpattern": {
             "fillmode": "overlay",
             "size": 10,
             "solidity": 0.2
            },
            "type": "scatter"
           }
          ],
          "scatter3d": [
           {
            "line": {
             "colorbar": {
              "outlinewidth": 0,
              "ticks": ""
             }
            },
            "marker": {
             "colorbar": {
              "outlinewidth": 0,
              "ticks": ""
             }
            },
            "type": "scatter3d"
           }
          ],
          "scattercarpet": [
           {
            "marker": {
             "colorbar": {
              "outlinewidth": 0,
              "ticks": ""
             }
            },
            "type": "scattercarpet"
           }
          ],
          "scattergeo": [
           {
            "marker": {
             "colorbar": {
              "outlinewidth": 0,
              "ticks": ""
             }
            },
            "type": "scattergeo"
           }
          ],
          "scattergl": [
           {
            "marker": {
             "colorbar": {
              "outlinewidth": 0,
              "ticks": ""
             }
            },
            "type": "scattergl"
           }
          ],
          "scattermapbox": [
           {
            "marker": {
             "colorbar": {
              "outlinewidth": 0,
              "ticks": ""
             }
            },
            "type": "scattermapbox"
           }
          ],
          "scatterpolar": [
           {
            "marker": {
             "colorbar": {
              "outlinewidth": 0,
              "ticks": ""
             }
            },
            "type": "scatterpolar"
           }
          ],
          "scatterpolargl": [
           {
            "marker": {
             "colorbar": {
              "outlinewidth": 0,
              "ticks": ""
             }
            },
            "type": "scatterpolargl"
           }
          ],
          "scatterternary": [
           {
            "marker": {
             "colorbar": {
              "outlinewidth": 0,
              "ticks": ""
             }
            },
            "type": "scatterternary"
           }
          ],
          "surface": [
           {
            "colorbar": {
             "outlinewidth": 0,
             "ticks": ""
            },
            "colorscale": [
             [
              0,
              "#0d0887"
             ],
             [
              0.1111111111111111,
              "#46039f"
             ],
             [
              0.2222222222222222,
              "#7201a8"
             ],
             [
              0.3333333333333333,
              "#9c179e"
             ],
             [
              0.4444444444444444,
              "#bd3786"
             ],
             [
              0.5555555555555556,
              "#d8576b"
             ],
             [
              0.6666666666666666,
              "#ed7953"
             ],
             [
              0.7777777777777778,
              "#fb9f3a"
             ],
             [
              0.8888888888888888,
              "#fdca26"
             ],
             [
              1,
              "#f0f921"
             ]
            ],
            "type": "surface"
           }
          ],
          "table": [
           {
            "cells": {
             "fill": {
              "color": "#EBF0F8"
             },
             "line": {
              "color": "white"
             }
            },
            "header": {
             "fill": {
              "color": "#C8D4E3"
             },
             "line": {
              "color": "white"
             }
            },
            "type": "table"
           }
          ]
         },
         "layout": {
          "annotationdefaults": {
           "arrowcolor": "#2a3f5f",
           "arrowhead": 0,
           "arrowwidth": 1
          },
          "autotypenumbers": "strict",
          "coloraxis": {
           "colorbar": {
            "outlinewidth": 0,
            "ticks": ""
           }
          },
          "colorscale": {
           "diverging": [
            [
             0,
             "#8e0152"
            ],
            [
             0.1,
             "#c51b7d"
            ],
            [
             0.2,
             "#de77ae"
            ],
            [
             0.3,
             "#f1b6da"
            ],
            [
             0.4,
             "#fde0ef"
            ],
            [
             0.5,
             "#f7f7f7"
            ],
            [
             0.6,
             "#e6f5d0"
            ],
            [
             0.7,
             "#b8e186"
            ],
            [
             0.8,
             "#7fbc41"
            ],
            [
             0.9,
             "#4d9221"
            ],
            [
             1,
             "#276419"
            ]
           ],
           "sequential": [
            [
             0,
             "#0d0887"
            ],
            [
             0.1111111111111111,
             "#46039f"
            ],
            [
             0.2222222222222222,
             "#7201a8"
            ],
            [
             0.3333333333333333,
             "#9c179e"
            ],
            [
             0.4444444444444444,
             "#bd3786"
            ],
            [
             0.5555555555555556,
             "#d8576b"
            ],
            [
             0.6666666666666666,
             "#ed7953"
            ],
            [
             0.7777777777777778,
             "#fb9f3a"
            ],
            [
             0.8888888888888888,
             "#fdca26"
            ],
            [
             1,
             "#f0f921"
            ]
           ],
           "sequentialminus": [
            [
             0,
             "#0d0887"
            ],
            [
             0.1111111111111111,
             "#46039f"
            ],
            [
             0.2222222222222222,
             "#7201a8"
            ],
            [
             0.3333333333333333,
             "#9c179e"
            ],
            [
             0.4444444444444444,
             "#bd3786"
            ],
            [
             0.5555555555555556,
             "#d8576b"
            ],
            [
             0.6666666666666666,
             "#ed7953"
            ],
            [
             0.7777777777777778,
             "#fb9f3a"
            ],
            [
             0.8888888888888888,
             "#fdca26"
            ],
            [
             1,
             "#f0f921"
            ]
           ]
          },
          "colorway": [
           "#636efa",
           "#EF553B",
           "#00cc96",
           "#ab63fa",
           "#FFA15A",
           "#19d3f3",
           "#FF6692",
           "#B6E880",
           "#FF97FF",
           "#FECB52"
          ],
          "font": {
           "color": "#2a3f5f"
          },
          "geo": {
           "bgcolor": "white",
           "lakecolor": "white",
           "landcolor": "#E5ECF6",
           "showlakes": true,
           "showland": true,
           "subunitcolor": "white"
          },
          "hoverlabel": {
           "align": "left"
          },
          "hovermode": "closest",
          "mapbox": {
           "style": "light"
          },
          "paper_bgcolor": "white",
          "plot_bgcolor": "#E5ECF6",
          "polar": {
           "angularaxis": {
            "gridcolor": "white",
            "linecolor": "white",
            "ticks": ""
           },
           "bgcolor": "#E5ECF6",
           "radialaxis": {
            "gridcolor": "white",
            "linecolor": "white",
            "ticks": ""
           }
          },
          "scene": {
           "xaxis": {
            "backgroundcolor": "#E5ECF6",
            "gridcolor": "white",
            "gridwidth": 2,
            "linecolor": "white",
            "showbackground": true,
            "ticks": "",
            "zerolinecolor": "white"
           },
           "yaxis": {
            "backgroundcolor": "#E5ECF6",
            "gridcolor": "white",
            "gridwidth": 2,
            "linecolor": "white",
            "showbackground": true,
            "ticks": "",
            "zerolinecolor": "white"
           },
           "zaxis": {
            "backgroundcolor": "#E5ECF6",
            "gridcolor": "white",
            "gridwidth": 2,
            "linecolor": "white",
            "showbackground": true,
            "ticks": "",
            "zerolinecolor": "white"
           }
          },
          "shapedefaults": {
           "line": {
            "color": "#2a3f5f"
           }
          },
          "ternary": {
           "aaxis": {
            "gridcolor": "white",
            "linecolor": "white",
            "ticks": ""
           },
           "baxis": {
            "gridcolor": "white",
            "linecolor": "white",
            "ticks": ""
           },
           "bgcolor": "#E5ECF6",
           "caxis": {
            "gridcolor": "white",
            "linecolor": "white",
            "ticks": ""
           }
          },
          "title": {
           "x": 0.05
          },
          "xaxis": {
           "automargin": true,
           "gridcolor": "white",
           "linecolor": "white",
           "ticks": "",
           "title": {
            "standoff": 15
           },
           "zerolinecolor": "white",
           "zerolinewidth": 2
          },
          "yaxis": {
           "automargin": true,
           "gridcolor": "white",
           "linecolor": "white",
           "ticks": "",
           "title": {
            "standoff": 15
           },
           "zerolinecolor": "white",
           "zerolinewidth": 2
          }
         }
        },
        "width": 1000,
        "xaxis": {
         "anchor": "y",
         "domain": [
          0,
          1
         ],
         "title": {
          "text": "Mother's Education"
         }
        },
        "yaxis": {
         "anchor": "x",
         "domain": [
          0,
          1
         ],
         "title": {
          "text": "sum of Percentage of Live Births in Population"
         }
        }
       }
      }
     },
     "metadata": {},
     "output_type": "display_data"
    }
   ],
   "source": [
    "fig = px.histogram(ratio_df[ratio_df[\"Marital Status\"] == \"Unmarried\"], x=\"Mother's Education\", y=\"Percentage of Live Births in Population\", barmode=\"group\", color=\"Mother's Single Race 6\", title=\"\", height=800,\n",
    "             width=1000, category_orders={\"Single Race 6\": [\"More than one race\", \"Asian\", \"Hispanic Origin\", \"White\", \"Black or African American\", \"American Indian or Alaska Native\"]})\n",
    "fig.show()\n"
   ]
  }
 ],
 "metadata": {
  "kernelspec": {
   "display_name": "Python 3",
   "language": "python",
   "name": "python3"
  },
  "language_info": {
   "codemirror_mode": {
    "name": "ipython",
    "version": 3
   },
   "file_extension": ".py",
   "mimetype": "text/x-python",
   "name": "python",
   "nbconvert_exporter": "python",
   "pygments_lexer": "ipython3",
   "version": "3.9.16"
  },
  "orig_nbformat": 4
 },
 "nbformat": 4,
 "nbformat_minor": 2
}
