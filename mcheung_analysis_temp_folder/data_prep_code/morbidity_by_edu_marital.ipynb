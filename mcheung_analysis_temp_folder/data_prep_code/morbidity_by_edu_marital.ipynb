{
 "cells": [
  {
   "cell_type": "code",
   "execution_count": 355,
   "metadata": {},
   "outputs": [],
   "source": [
    "# UCSD ECE 143 Programming for Data Analysis\n",
    "# Winter 2023\n",
    "# Author: m3cheung@ucsd.edu\n",
    "# Final Project: create morbidity by education level and marital status\n",
    "#                bar graph"
   ]
  },
  {
   "attachments": {},
   "cell_type": "markdown",
   "metadata": {},
   "source": [
    "Import modules"
   ]
  },
  {
   "cell_type": "code",
   "execution_count": 356,
   "metadata": {},
   "outputs": [],
   "source": [
    "import pandas as pd\n",
    "import plotly.express as px\n",
    "from bs4 import BeautifulSoup\n",
    "import matplotlib.pyplot as plt\n",
    "import sys"
   ]
  },
  {
   "attachments": {},
   "cell_type": "markdown",
   "metadata": {},
   "source": [
    "Specify year to analyze"
   ]
  },
  {
   "cell_type": "code",
   "execution_count": 357,
   "metadata": {},
   "outputs": [],
   "source": [
    "year = 2021.0"
   ]
  },
  {
   "attachments": {},
   "cell_type": "markdown",
   "metadata": {},
   "source": [
    "Load csv files into Pandas DataFrames"
   ]
  },
  {
   "cell_type": "code",
   "execution_count": 358,
   "metadata": {},
   "outputs": [
    {
     "data": {
      "text/html": [
       "<div>\n",
       "<style scoped>\n",
       "    .dataframe tbody tr th:only-of-type {\n",
       "        vertical-align: middle;\n",
       "    }\n",
       "\n",
       "    .dataframe tbody tr th {\n",
       "        vertical-align: top;\n",
       "    }\n",
       "\n",
       "    .dataframe thead th {\n",
       "        text-align: right;\n",
       "    }\n",
       "</style>\n",
       "<table border=\"1\" class=\"dataframe\">\n",
       "  <thead>\n",
       "    <tr style=\"text-align: right;\">\n",
       "      <th></th>\n",
       "      <th>Mother's Education</th>\n",
       "      <th>Marital Status</th>\n",
       "      <th>Mother's Single Race 6</th>\n",
       "      <th>Mother's Hispanic Origin</th>\n",
       "      <th>Year</th>\n",
       "      <th>Births</th>\n",
       "    </tr>\n",
       "  </thead>\n",
       "  <tbody>\n",
       "    <tr>\n",
       "      <th>0</th>\n",
       "      <td>8th grade or less</td>\n",
       "      <td>Married</td>\n",
       "      <td>Asian</td>\n",
       "      <td>Not Hispanic or Latino</td>\n",
       "      <td>2018.0</td>\n",
       "      <td>95.0</td>\n",
       "    </tr>\n",
       "    <tr>\n",
       "      <th>1</th>\n",
       "      <td>8th grade or less</td>\n",
       "      <td>Married</td>\n",
       "      <td>Asian</td>\n",
       "      <td>Not Hispanic or Latino</td>\n",
       "      <td>2019.0</td>\n",
       "      <td>78.0</td>\n",
       "    </tr>\n",
       "    <tr>\n",
       "      <th>2</th>\n",
       "      <td>8th grade or less</td>\n",
       "      <td>Married</td>\n",
       "      <td>Asian</td>\n",
       "      <td>Not Hispanic or Latino</td>\n",
       "      <td>2020.0</td>\n",
       "      <td>79.0</td>\n",
       "    </tr>\n",
       "    <tr>\n",
       "      <th>3</th>\n",
       "      <td>8th grade or less</td>\n",
       "      <td>Married</td>\n",
       "      <td>Asian</td>\n",
       "      <td>Not Hispanic or Latino</td>\n",
       "      <td>2021.0</td>\n",
       "      <td>51.0</td>\n",
       "    </tr>\n",
       "    <tr>\n",
       "      <th>4</th>\n",
       "      <td>8th grade or less</td>\n",
       "      <td>Married</td>\n",
       "      <td>Black or African American</td>\n",
       "      <td>Hispanic or Latino</td>\n",
       "      <td>2018.0</td>\n",
       "      <td>11.0</td>\n",
       "    </tr>\n",
       "    <tr>\n",
       "      <th>...</th>\n",
       "      <td>...</td>\n",
       "      <td>...</td>\n",
       "      <td>...</td>\n",
       "      <td>...</td>\n",
       "      <td>...</td>\n",
       "      <td>...</td>\n",
       "    </tr>\n",
       "    <tr>\n",
       "      <th>483</th>\n",
       "      <td>NaN</td>\n",
       "      <td>NaN</td>\n",
       "      <td>NaN</td>\n",
       "      <td>NaN</td>\n",
       "      <td>NaN</td>\n",
       "      <td>NaN</td>\n",
       "    </tr>\n",
       "    <tr>\n",
       "      <th>484</th>\n",
       "      <td>NaN</td>\n",
       "      <td>NaN</td>\n",
       "      <td>NaN</td>\n",
       "      <td>NaN</td>\n",
       "      <td>NaN</td>\n",
       "      <td>NaN</td>\n",
       "    </tr>\n",
       "    <tr>\n",
       "      <th>485</th>\n",
       "      <td>NaN</td>\n",
       "      <td>NaN</td>\n",
       "      <td>NaN</td>\n",
       "      <td>NaN</td>\n",
       "      <td>NaN</td>\n",
       "      <td>NaN</td>\n",
       "    </tr>\n",
       "    <tr>\n",
       "      <th>486</th>\n",
       "      <td>NaN</td>\n",
       "      <td>NaN</td>\n",
       "      <td>NaN</td>\n",
       "      <td>NaN</td>\n",
       "      <td>NaN</td>\n",
       "      <td>NaN</td>\n",
       "    </tr>\n",
       "    <tr>\n",
       "      <th>487</th>\n",
       "      <td>NaN</td>\n",
       "      <td>NaN</td>\n",
       "      <td>NaN</td>\n",
       "      <td>NaN</td>\n",
       "      <td>NaN</td>\n",
       "      <td>NaN</td>\n",
       "    </tr>\n",
       "  </tbody>\n",
       "</table>\n",
       "<p>488 rows × 6 columns</p>\n",
       "</div>"
      ],
      "text/plain": [
       "    Mother's Education Marital Status     Mother's Single Race 6  \\\n",
       "0    8th grade or less        Married                      Asian   \n",
       "1    8th grade or less        Married                      Asian   \n",
       "2    8th grade or less        Married                      Asian   \n",
       "3    8th grade or less        Married                      Asian   \n",
       "4    8th grade or less        Married  Black or African American   \n",
       "..                 ...            ...                        ...   \n",
       "483                NaN            NaN                        NaN   \n",
       "484                NaN            NaN                        NaN   \n",
       "485                NaN            NaN                        NaN   \n",
       "486                NaN            NaN                        NaN   \n",
       "487                NaN            NaN                        NaN   \n",
       "\n",
       "    Mother's Hispanic Origin    Year  Births  \n",
       "0     Not Hispanic or Latino  2018.0    95.0  \n",
       "1     Not Hispanic or Latino  2019.0    78.0  \n",
       "2     Not Hispanic or Latino  2020.0    79.0  \n",
       "3     Not Hispanic or Latino  2021.0    51.0  \n",
       "4         Hispanic or Latino  2018.0    11.0  \n",
       "..                       ...     ...     ...  \n",
       "483                      NaN     NaN     NaN  \n",
       "484                      NaN     NaN     NaN  \n",
       "485                      NaN     NaN     NaN  \n",
       "486                      NaN     NaN     NaN  \n",
       "487                      NaN     NaN     NaN  \n",
       "\n",
       "[488 rows x 6 columns]"
      ]
     },
     "metadata": {},
     "output_type": "display_data"
    },
    {
     "data": {
      "text/html": [
       "<div>\n",
       "<style scoped>\n",
       "    .dataframe tbody tr th:only-of-type {\n",
       "        vertical-align: middle;\n",
       "    }\n",
       "\n",
       "    .dataframe tbody tr th {\n",
       "        vertical-align: top;\n",
       "    }\n",
       "\n",
       "    .dataframe thead th {\n",
       "        text-align: right;\n",
       "    }\n",
       "</style>\n",
       "<table border=\"1\" class=\"dataframe\">\n",
       "  <thead>\n",
       "    <tr style=\"text-align: right;\">\n",
       "      <th></th>\n",
       "      <th>Mother's Education</th>\n",
       "      <th>Marital Status</th>\n",
       "      <th>Mother's Single Race 6</th>\n",
       "      <th>Mother's Hispanic Origin</th>\n",
       "      <th>Year</th>\n",
       "      <th>Births</th>\n",
       "    </tr>\n",
       "  </thead>\n",
       "  <tbody>\n",
       "    <tr>\n",
       "      <th>0</th>\n",
       "      <td>8th grade or less</td>\n",
       "      <td>Married</td>\n",
       "      <td>American Indian or Alaska Native</td>\n",
       "      <td>Hispanic or Latino</td>\n",
       "      <td>2018.0</td>\n",
       "      <td>212.0</td>\n",
       "    </tr>\n",
       "    <tr>\n",
       "      <th>1</th>\n",
       "      <td>8th grade or less</td>\n",
       "      <td>Married</td>\n",
       "      <td>American Indian or Alaska Native</td>\n",
       "      <td>Hispanic or Latino</td>\n",
       "      <td>2019.0</td>\n",
       "      <td>256.0</td>\n",
       "    </tr>\n",
       "    <tr>\n",
       "      <th>2</th>\n",
       "      <td>8th grade or less</td>\n",
       "      <td>Married</td>\n",
       "      <td>American Indian or Alaska Native</td>\n",
       "      <td>Hispanic or Latino</td>\n",
       "      <td>2020.0</td>\n",
       "      <td>270.0</td>\n",
       "    </tr>\n",
       "    <tr>\n",
       "      <th>3</th>\n",
       "      <td>8th grade or less</td>\n",
       "      <td>Married</td>\n",
       "      <td>American Indian or Alaska Native</td>\n",
       "      <td>Hispanic or Latino</td>\n",
       "      <td>2021.0</td>\n",
       "      <td>233.0</td>\n",
       "    </tr>\n",
       "    <tr>\n",
       "      <th>4</th>\n",
       "      <td>8th grade or less</td>\n",
       "      <td>Married</td>\n",
       "      <td>American Indian or Alaska Native</td>\n",
       "      <td>Not Hispanic or Latino</td>\n",
       "      <td>2018.0</td>\n",
       "      <td>64.0</td>\n",
       "    </tr>\n",
       "    <tr>\n",
       "      <th>...</th>\n",
       "      <td>...</td>\n",
       "      <td>...</td>\n",
       "      <td>...</td>\n",
       "      <td>...</td>\n",
       "      <td>...</td>\n",
       "      <td>...</td>\n",
       "    </tr>\n",
       "    <tr>\n",
       "      <th>1028</th>\n",
       "      <td>NaN</td>\n",
       "      <td>NaN</td>\n",
       "      <td>NaN</td>\n",
       "      <td>NaN</td>\n",
       "      <td>NaN</td>\n",
       "      <td>NaN</td>\n",
       "    </tr>\n",
       "    <tr>\n",
       "      <th>1029</th>\n",
       "      <td>NaN</td>\n",
       "      <td>NaN</td>\n",
       "      <td>NaN</td>\n",
       "      <td>NaN</td>\n",
       "      <td>NaN</td>\n",
       "      <td>NaN</td>\n",
       "    </tr>\n",
       "    <tr>\n",
       "      <th>1030</th>\n",
       "      <td>NaN</td>\n",
       "      <td>NaN</td>\n",
       "      <td>NaN</td>\n",
       "      <td>NaN</td>\n",
       "      <td>NaN</td>\n",
       "      <td>NaN</td>\n",
       "    </tr>\n",
       "    <tr>\n",
       "      <th>1031</th>\n",
       "      <td>NaN</td>\n",
       "      <td>NaN</td>\n",
       "      <td>NaN</td>\n",
       "      <td>NaN</td>\n",
       "      <td>NaN</td>\n",
       "      <td>NaN</td>\n",
       "    </tr>\n",
       "    <tr>\n",
       "      <th>1032</th>\n",
       "      <td>NaN</td>\n",
       "      <td>NaN</td>\n",
       "      <td>NaN</td>\n",
       "      <td>NaN</td>\n",
       "      <td>NaN</td>\n",
       "      <td>NaN</td>\n",
       "    </tr>\n",
       "  </tbody>\n",
       "</table>\n",
       "<p>1033 rows × 6 columns</p>\n",
       "</div>"
      ],
      "text/plain": [
       "     Mother's Education Marital Status            Mother's Single Race 6  \\\n",
       "0     8th grade or less        Married  American Indian or Alaska Native   \n",
       "1     8th grade or less        Married  American Indian or Alaska Native   \n",
       "2     8th grade or less        Married  American Indian or Alaska Native   \n",
       "3     8th grade or less        Married  American Indian or Alaska Native   \n",
       "4     8th grade or less        Married  American Indian or Alaska Native   \n",
       "...                 ...            ...                               ...   \n",
       "1028                NaN            NaN                               NaN   \n",
       "1029                NaN            NaN                               NaN   \n",
       "1030                NaN            NaN                               NaN   \n",
       "1031                NaN            NaN                               NaN   \n",
       "1032                NaN            NaN                               NaN   \n",
       "\n",
       "     Mother's Hispanic Origin    Year  Births  \n",
       "0          Hispanic or Latino  2018.0   212.0  \n",
       "1          Hispanic or Latino  2019.0   256.0  \n",
       "2          Hispanic or Latino  2020.0   270.0  \n",
       "3          Hispanic or Latino  2021.0   233.0  \n",
       "4      Not Hispanic or Latino  2018.0    64.0  \n",
       "...                       ...     ...     ...  \n",
       "1028                      NaN     NaN     NaN  \n",
       "1029                      NaN     NaN     NaN  \n",
       "1030                      NaN     NaN     NaN  \n",
       "1031                      NaN     NaN     NaN  \n",
       "1032                      NaN     NaN     NaN  \n",
       "\n",
       "[1033 rows x 6 columns]"
      ]
     },
     "metadata": {},
     "output_type": "display_data"
    }
   ],
   "source": [
    "morbidity_df = pd.read_csv(\\\n",
    "    \"../data_csv/edu_marital-mobidity.csv\").drop(columns=[\"Notes\", \"Mother's Education Code\", \"Year Code\", \"Marital Status Code\", \"Mother's Single Race 6 Code\", \"Mother's Hispanic Origin Code\"])\n",
    "total_births_df = pd.read_csv(\\\n",
    "    \"../data_csv/edu_marital-total_births.csv\").drop(columns=[\"Notes\", \"Mother's Education Code\", \"Year Code\", \"Marital Status Code\", \"Mother's Single Race 6 Code\", \"Mother's Hispanic Origin Code\"])\n",
    "\n",
    "display(morbidity_df)\n",
    "display(total_births_df)\n"
   ]
  },
  {
   "attachments": {},
   "cell_type": "markdown",
   "metadata": {},
   "source": [
    "Clean up data"
   ]
  },
  {
   "cell_type": "code",
   "execution_count": 359,
   "metadata": {},
   "outputs": [
    {
     "data": {
      "text/html": [
       "<div>\n",
       "<style scoped>\n",
       "    .dataframe tbody tr th:only-of-type {\n",
       "        vertical-align: middle;\n",
       "    }\n",
       "\n",
       "    .dataframe tbody tr th {\n",
       "        vertical-align: top;\n",
       "    }\n",
       "\n",
       "    .dataframe thead th {\n",
       "        text-align: right;\n",
       "    }\n",
       "</style>\n",
       "<table border=\"1\" class=\"dataframe\">\n",
       "  <thead>\n",
       "    <tr style=\"text-align: right;\">\n",
       "      <th></th>\n",
       "      <th>Mother's Education</th>\n",
       "      <th>Marital Status</th>\n",
       "      <th>Mother's Single Race 6</th>\n",
       "      <th>Mother's Hispanic Origin</th>\n",
       "      <th>Year</th>\n",
       "      <th>Total Births</th>\n",
       "      <th>Births w/ Morbidity</th>\n",
       "    </tr>\n",
       "  </thead>\n",
       "  <tbody>\n",
       "    <tr>\n",
       "      <th>3</th>\n",
       "      <td>8th grade or less</td>\n",
       "      <td>Married</td>\n",
       "      <td>Asian</td>\n",
       "      <td>Not Hispanic or Latino</td>\n",
       "      <td>2021.0</td>\n",
       "      <td>2890.0</td>\n",
       "      <td>51.0</td>\n",
       "    </tr>\n",
       "    <tr>\n",
       "      <th>5</th>\n",
       "      <td>8th grade or less</td>\n",
       "      <td>Married</td>\n",
       "      <td>Black or African American</td>\n",
       "      <td>Hispanic or Latino</td>\n",
       "      <td>2021.0</td>\n",
       "      <td>1078.0</td>\n",
       "      <td>12.0</td>\n",
       "    </tr>\n",
       "    <tr>\n",
       "      <th>6</th>\n",
       "      <td>8th grade or less</td>\n",
       "      <td>Married</td>\n",
       "      <td>Black or African American</td>\n",
       "      <td>Not Hispanic or Latino</td>\n",
       "      <td>2021.0</td>\n",
       "      <td>3030.0</td>\n",
       "      <td>64.0</td>\n",
       "    </tr>\n",
       "    <tr>\n",
       "      <th>10</th>\n",
       "      <td>8th grade or less</td>\n",
       "      <td>Married</td>\n",
       "      <td>White</td>\n",
       "      <td>Hispanic or Latino</td>\n",
       "      <td>2021.0</td>\n",
       "      <td>16895.0</td>\n",
       "      <td>186.0</td>\n",
       "    </tr>\n",
       "    <tr>\n",
       "      <th>11</th>\n",
       "      <td>8th grade or less</td>\n",
       "      <td>Married</td>\n",
       "      <td>White</td>\n",
       "      <td>Not Hispanic or Latino</td>\n",
       "      <td>2021.0</td>\n",
       "      <td>19023.0</td>\n",
       "      <td>239.0</td>\n",
       "    </tr>\n",
       "    <tr>\n",
       "      <th>...</th>\n",
       "      <td>...</td>\n",
       "      <td>...</td>\n",
       "      <td>...</td>\n",
       "      <td>...</td>\n",
       "      <td>...</td>\n",
       "      <td>...</td>\n",
       "      <td>...</td>\n",
       "    </tr>\n",
       "    <tr>\n",
       "      <th>237</th>\n",
       "      <td>Doctorate (PhD, EdD) or Professional Degree (M...</td>\n",
       "      <td>Married</td>\n",
       "      <td>White</td>\n",
       "      <td>Not Hispanic or Latino</td>\n",
       "      <td>2021.0</td>\n",
       "      <td>59180.0</td>\n",
       "      <td>1116.0</td>\n",
       "    </tr>\n",
       "    <tr>\n",
       "      <th>240</th>\n",
       "      <td>Doctorate (PhD, EdD) or Professional Degree (M...</td>\n",
       "      <td>Married</td>\n",
       "      <td>More than one race</td>\n",
       "      <td>Not Hispanic or Latino</td>\n",
       "      <td>2021.0</td>\n",
       "      <td>1414.0</td>\n",
       "      <td>29.0</td>\n",
       "    </tr>\n",
       "    <tr>\n",
       "      <th>242</th>\n",
       "      <td>Doctorate (PhD, EdD) or Professional Degree (M...</td>\n",
       "      <td>Unmarried</td>\n",
       "      <td>Asian</td>\n",
       "      <td>Not Hispanic or Latino</td>\n",
       "      <td>2021.0</td>\n",
       "      <td>309.0</td>\n",
       "      <td>10.0</td>\n",
       "    </tr>\n",
       "    <tr>\n",
       "      <th>244</th>\n",
       "      <td>Doctorate (PhD, EdD) or Professional Degree (M...</td>\n",
       "      <td>Unmarried</td>\n",
       "      <td>Black or African American</td>\n",
       "      <td>Not Hispanic or Latino</td>\n",
       "      <td>2021.0</td>\n",
       "      <td>838.0</td>\n",
       "      <td>12.0</td>\n",
       "    </tr>\n",
       "    <tr>\n",
       "      <th>246</th>\n",
       "      <td>Doctorate (PhD, EdD) or Professional Degree (M...</td>\n",
       "      <td>Unmarried</td>\n",
       "      <td>White</td>\n",
       "      <td>Not Hispanic or Latino</td>\n",
       "      <td>2021.0</td>\n",
       "      <td>2439.0</td>\n",
       "      <td>44.0</td>\n",
       "    </tr>\n",
       "  </tbody>\n",
       "</table>\n",
       "<p>117 rows × 7 columns</p>\n",
       "</div>"
      ],
      "text/plain": [
       "                                    Mother's Education Marital Status  \\\n",
       "3                                    8th grade or less        Married   \n",
       "5                                    8th grade or less        Married   \n",
       "6                                    8th grade or less        Married   \n",
       "10                                   8th grade or less        Married   \n",
       "11                                   8th grade or less        Married   \n",
       "..                                                 ...            ...   \n",
       "237  Doctorate (PhD, EdD) or Professional Degree (M...        Married   \n",
       "240  Doctorate (PhD, EdD) or Professional Degree (M...        Married   \n",
       "242  Doctorate (PhD, EdD) or Professional Degree (M...      Unmarried   \n",
       "244  Doctorate (PhD, EdD) or Professional Degree (M...      Unmarried   \n",
       "246  Doctorate (PhD, EdD) or Professional Degree (M...      Unmarried   \n",
       "\n",
       "        Mother's Single Race 6 Mother's Hispanic Origin    Year  Total Births  \\\n",
       "3                        Asian   Not Hispanic or Latino  2021.0        2890.0   \n",
       "5    Black or African American       Hispanic or Latino  2021.0        1078.0   \n",
       "6    Black or African American   Not Hispanic or Latino  2021.0        3030.0   \n",
       "10                       White       Hispanic or Latino  2021.0       16895.0   \n",
       "11                       White   Not Hispanic or Latino  2021.0       19023.0   \n",
       "..                         ...                      ...     ...           ...   \n",
       "237                      White   Not Hispanic or Latino  2021.0       59180.0   \n",
       "240         More than one race   Not Hispanic or Latino  2021.0        1414.0   \n",
       "242                      Asian   Not Hispanic or Latino  2021.0         309.0   \n",
       "244  Black or African American   Not Hispanic or Latino  2021.0         838.0   \n",
       "246                      White   Not Hispanic or Latino  2021.0        2439.0   \n",
       "\n",
       "     Births w/ Morbidity  \n",
       "3                   51.0  \n",
       "5                   12.0  \n",
       "6                   64.0  \n",
       "10                 186.0  \n",
       "11                 239.0  \n",
       "..                   ...  \n",
       "237               1116.0  \n",
       "240                 29.0  \n",
       "242                 10.0  \n",
       "244                 12.0  \n",
       "246                 44.0  \n",
       "\n",
       "[117 rows x 7 columns]"
      ]
     },
     "metadata": {},
     "output_type": "display_data"
    },
    {
     "data": {
      "text/html": [
       "<div>\n",
       "<style scoped>\n",
       "    .dataframe tbody tr th:only-of-type {\n",
       "        vertical-align: middle;\n",
       "    }\n",
       "\n",
       "    .dataframe tbody tr th {\n",
       "        vertical-align: top;\n",
       "    }\n",
       "\n",
       "    .dataframe thead th {\n",
       "        text-align: right;\n",
       "    }\n",
       "</style>\n",
       "<table border=\"1\" class=\"dataframe\">\n",
       "  <thead>\n",
       "    <tr style=\"text-align: right;\">\n",
       "      <th></th>\n",
       "      <th>Mother's Education</th>\n",
       "      <th>Marital Status</th>\n",
       "      <th>Mother's Single Race 6</th>\n",
       "      <th>Year</th>\n",
       "      <th>Total Births</th>\n",
       "      <th>Births w/ Morbidity</th>\n",
       "    </tr>\n",
       "  </thead>\n",
       "  <tbody>\n",
       "    <tr>\n",
       "      <th>0</th>\n",
       "      <td>8th grade or less</td>\n",
       "      <td>Married</td>\n",
       "      <td>Asian</td>\n",
       "      <td>2021.0</td>\n",
       "      <td>2890.0</td>\n",
       "      <td>51.0</td>\n",
       "    </tr>\n",
       "    <tr>\n",
       "      <th>1</th>\n",
       "      <td>8th grade or less</td>\n",
       "      <td>Married</td>\n",
       "      <td>Black or African American</td>\n",
       "      <td>2021.0</td>\n",
       "      <td>3030.0</td>\n",
       "      <td>64.0</td>\n",
       "    </tr>\n",
       "    <tr>\n",
       "      <th>2</th>\n",
       "      <td>8th grade or less</td>\n",
       "      <td>Married</td>\n",
       "      <td>White</td>\n",
       "      <td>2021.0</td>\n",
       "      <td>19023.0</td>\n",
       "      <td>239.0</td>\n",
       "    </tr>\n",
       "    <tr>\n",
       "      <th>3</th>\n",
       "      <td>8th grade or less</td>\n",
       "      <td>Unmarried</td>\n",
       "      <td>Black or African American</td>\n",
       "      <td>2021.0</td>\n",
       "      <td>2343.0</td>\n",
       "      <td>44.0</td>\n",
       "    </tr>\n",
       "    <tr>\n",
       "      <th>4</th>\n",
       "      <td>8th grade or less</td>\n",
       "      <td>Unmarried</td>\n",
       "      <td>White</td>\n",
       "      <td>2021.0</td>\n",
       "      <td>3966.0</td>\n",
       "      <td>46.0</td>\n",
       "    </tr>\n",
       "    <tr>\n",
       "      <th>...</th>\n",
       "      <td>...</td>\n",
       "      <td>...</td>\n",
       "      <td>...</td>\n",
       "      <td>...</td>\n",
       "      <td>...</td>\n",
       "      <td>...</td>\n",
       "    </tr>\n",
       "    <tr>\n",
       "      <th>85</th>\n",
       "      <td>High school graduate or GED completed</td>\n",
       "      <td>Unmarried</td>\n",
       "      <td>Hispanic Origin</td>\n",
       "      <td>2021.0</td>\n",
       "      <td>123379.0</td>\n",
       "      <td>1330.0</td>\n",
       "    </tr>\n",
       "    <tr>\n",
       "      <th>86</th>\n",
       "      <td>Master's degree (MA, MS, MEng, MEd, MSW, MBA)</td>\n",
       "      <td>Married</td>\n",
       "      <td>Hispanic Origin</td>\n",
       "      <td>2021.0</td>\n",
       "      <td>20196.0</td>\n",
       "      <td>291.0</td>\n",
       "    </tr>\n",
       "    <tr>\n",
       "      <th>87</th>\n",
       "      <td>Master's degree (MA, MS, MEng, MEd, MSW, MBA)</td>\n",
       "      <td>Unmarried</td>\n",
       "      <td>Hispanic Origin</td>\n",
       "      <td>2021.0</td>\n",
       "      <td>3826.0</td>\n",
       "      <td>50.0</td>\n",
       "    </tr>\n",
       "    <tr>\n",
       "      <th>88</th>\n",
       "      <td>Some college credit, but not a degree</td>\n",
       "      <td>Married</td>\n",
       "      <td>Hispanic Origin</td>\n",
       "      <td>2021.0</td>\n",
       "      <td>56166.0</td>\n",
       "      <td>640.0</td>\n",
       "    </tr>\n",
       "    <tr>\n",
       "      <th>89</th>\n",
       "      <td>Some college credit, but not a degree</td>\n",
       "      <td>Unmarried</td>\n",
       "      <td>Hispanic Origin</td>\n",
       "      <td>2021.0</td>\n",
       "      <td>60505.0</td>\n",
       "      <td>679.0</td>\n",
       "    </tr>\n",
       "  </tbody>\n",
       "</table>\n",
       "<p>90 rows × 6 columns</p>\n",
       "</div>"
      ],
      "text/plain": [
       "                               Mother's Education Marital Status  \\\n",
       "0                               8th grade or less        Married   \n",
       "1                               8th grade or less        Married   \n",
       "2                               8th grade or less        Married   \n",
       "3                               8th grade or less      Unmarried   \n",
       "4                               8th grade or less      Unmarried   \n",
       "..                                            ...            ...   \n",
       "85          High school graduate or GED completed      Unmarried   \n",
       "86  Master's degree (MA, MS, MEng, MEd, MSW, MBA)        Married   \n",
       "87  Master's degree (MA, MS, MEng, MEd, MSW, MBA)      Unmarried   \n",
       "88          Some college credit, but not a degree        Married   \n",
       "89          Some college credit, but not a degree      Unmarried   \n",
       "\n",
       "       Mother's Single Race 6    Year  Total Births  Births w/ Morbidity  \n",
       "0                       Asian  2021.0        2890.0                 51.0  \n",
       "1   Black or African American  2021.0        3030.0                 64.0  \n",
       "2                       White  2021.0       19023.0                239.0  \n",
       "3   Black or African American  2021.0        2343.0                 44.0  \n",
       "4                       White  2021.0        3966.0                 46.0  \n",
       "..                        ...     ...           ...                  ...  \n",
       "85            Hispanic Origin  2021.0      123379.0               1330.0  \n",
       "86            Hispanic Origin  2021.0       20196.0                291.0  \n",
       "87            Hispanic Origin  2021.0        3826.0                 50.0  \n",
       "88            Hispanic Origin  2021.0       56166.0                640.0  \n",
       "89            Hispanic Origin  2021.0       60505.0                679.0  \n",
       "\n",
       "[90 rows x 6 columns]"
      ]
     },
     "metadata": {},
     "output_type": "display_data"
    }
   ],
   "source": [
    "# # remove NaN rows\n",
    "# morbidity_df = morbidity_df.dropna()\n",
    "# total_births_df = total_births_df.dropna()\n",
    "\n",
    "# only work on year\n",
    "morbidity_df = morbidity_df[morbidity_df[\"Year\"] == year]\n",
    "total_births_df = total_births_df[total_births_df[\"Year\"] == year]\n",
    "\n",
    "# reset indices to start from 0\n",
    "total_births_df = total_births_df.reset_index(drop=True)\n",
    "morbidity_df = morbidity_df.reset_index(drop=True)\n",
    "\n",
    "# create new df for the ratio!\n",
    "ratio_df = total_births_df.merge(morbidity_df, on=[\"Mother's Education\", \"Marital Status\", \"Mother's Single Race 6\", \"Mother's Hispanic Origin\", \"Year\"], how=\"left\")\n",
    "\n",
    "# rename columns\n",
    "ratio_df = ratio_df.rename(columns={\"Births_x\":\"Total Births\", \"Births_y\":\"Births w/ Morbidity\"})\n",
    "\n",
    "# remove NaN rows\n",
    "ratio_df = ratio_df.dropna()\n",
    "\n",
    "display(ratio_df)\n",
    "\n",
    "# isolate hispanic origin rows\n",
    "hisp_df = ratio_df[ratio_df[\"Mother's Hispanic Origin\"] == \"Hispanic or Latino\"]\n",
    "ratio_df = ratio_df[ratio_df[\"Mother's Hispanic Origin\"] == \"Not Hispanic or Latino\"]\n",
    "\n",
    "# find sum of Births and Morbidity columns by Marital Status and Edu Lvl\n",
    "hisp_df[\"Mother\\'s Single Race 6\"] = \"Hispanic Origin\"\n",
    "hisp_df = hisp_df.groupby([\"Mother's Education\", \"Marital Status\"]).aggregate({\"Mother's Single Race 6\":\"first\", \"Year\":\"first\", \"Total Births\": \"sum\", \"Births w/ Morbidity\": \"sum\"}).reset_index()\n",
    "\n",
    "# add rows to include hispanic origin for year\n",
    "ratio_df = pd.concat([ratio_df, hisp_df]).drop(columns=\"Mother's Hispanic Origin\").reset_index(drop=True)\n",
    "\n",
    "\n",
    "display(ratio_df)"
   ]
  },
  {
   "attachments": {},
   "cell_type": "markdown",
   "metadata": {},
   "source": [
    "Calculate Ratio for each row (The numbers end up being so high though!)"
   ]
  },
  {
   "cell_type": "code",
   "execution_count": 360,
   "metadata": {},
   "outputs": [
    {
     "data": {
      "text/html": [
       "<div>\n",
       "<style scoped>\n",
       "    .dataframe tbody tr th:only-of-type {\n",
       "        vertical-align: middle;\n",
       "    }\n",
       "\n",
       "    .dataframe tbody tr th {\n",
       "        vertical-align: top;\n",
       "    }\n",
       "\n",
       "    .dataframe thead th {\n",
       "        text-align: right;\n",
       "    }\n",
       "</style>\n",
       "<table border=\"1\" class=\"dataframe\">\n",
       "  <thead>\n",
       "    <tr style=\"text-align: right;\">\n",
       "      <th></th>\n",
       "      <th>Mother's Education</th>\n",
       "      <th>Marital Status</th>\n",
       "      <th>Mother's Single Race 6</th>\n",
       "      <th>Year</th>\n",
       "      <th>Total Births</th>\n",
       "      <th>Births w/ Morbidity</th>\n",
       "      <th>Maternal Morbidity Ratio per 100,000 Live Births</th>\n",
       "    </tr>\n",
       "  </thead>\n",
       "  <tbody>\n",
       "    <tr>\n",
       "      <th>0</th>\n",
       "      <td>8th grade or less</td>\n",
       "      <td>Married</td>\n",
       "      <td>Asian</td>\n",
       "      <td>2021.0</td>\n",
       "      <td>2890.0</td>\n",
       "      <td>51.0</td>\n",
       "      <td>1765.0</td>\n",
       "    </tr>\n",
       "    <tr>\n",
       "      <th>1</th>\n",
       "      <td>8th grade or less</td>\n",
       "      <td>Married</td>\n",
       "      <td>Black or African American</td>\n",
       "      <td>2021.0</td>\n",
       "      <td>3030.0</td>\n",
       "      <td>64.0</td>\n",
       "      <td>2112.0</td>\n",
       "    </tr>\n",
       "    <tr>\n",
       "      <th>2</th>\n",
       "      <td>8th grade or less</td>\n",
       "      <td>Married</td>\n",
       "      <td>White</td>\n",
       "      <td>2021.0</td>\n",
       "      <td>19023.0</td>\n",
       "      <td>239.0</td>\n",
       "      <td>1256.0</td>\n",
       "    </tr>\n",
       "    <tr>\n",
       "      <th>3</th>\n",
       "      <td>8th grade or less</td>\n",
       "      <td>Unmarried</td>\n",
       "      <td>Black or African American</td>\n",
       "      <td>2021.0</td>\n",
       "      <td>2343.0</td>\n",
       "      <td>44.0</td>\n",
       "      <td>1878.0</td>\n",
       "    </tr>\n",
       "    <tr>\n",
       "      <th>4</th>\n",
       "      <td>8th grade or less</td>\n",
       "      <td>Unmarried</td>\n",
       "      <td>White</td>\n",
       "      <td>2021.0</td>\n",
       "      <td>3966.0</td>\n",
       "      <td>46.0</td>\n",
       "      <td>1160.0</td>\n",
       "    </tr>\n",
       "    <tr>\n",
       "      <th>...</th>\n",
       "      <td>...</td>\n",
       "      <td>...</td>\n",
       "      <td>...</td>\n",
       "      <td>...</td>\n",
       "      <td>...</td>\n",
       "      <td>...</td>\n",
       "      <td>...</td>\n",
       "    </tr>\n",
       "    <tr>\n",
       "      <th>85</th>\n",
       "      <td>High school graduate or GED completed</td>\n",
       "      <td>Unmarried</td>\n",
       "      <td>Hispanic Origin</td>\n",
       "      <td>2021.0</td>\n",
       "      <td>123379.0</td>\n",
       "      <td>1330.0</td>\n",
       "      <td>1078.0</td>\n",
       "    </tr>\n",
       "    <tr>\n",
       "      <th>86</th>\n",
       "      <td>Master's degree (MA, MS, MEng, MEd, MSW, MBA)</td>\n",
       "      <td>Married</td>\n",
       "      <td>Hispanic Origin</td>\n",
       "      <td>2021.0</td>\n",
       "      <td>20196.0</td>\n",
       "      <td>291.0</td>\n",
       "      <td>1441.0</td>\n",
       "    </tr>\n",
       "    <tr>\n",
       "      <th>87</th>\n",
       "      <td>Master's degree (MA, MS, MEng, MEd, MSW, MBA)</td>\n",
       "      <td>Unmarried</td>\n",
       "      <td>Hispanic Origin</td>\n",
       "      <td>2021.0</td>\n",
       "      <td>3826.0</td>\n",
       "      <td>50.0</td>\n",
       "      <td>1307.0</td>\n",
       "    </tr>\n",
       "    <tr>\n",
       "      <th>88</th>\n",
       "      <td>Some college credit, but not a degree</td>\n",
       "      <td>Married</td>\n",
       "      <td>Hispanic Origin</td>\n",
       "      <td>2021.0</td>\n",
       "      <td>56166.0</td>\n",
       "      <td>640.0</td>\n",
       "      <td>1139.0</td>\n",
       "    </tr>\n",
       "    <tr>\n",
       "      <th>89</th>\n",
       "      <td>Some college credit, but not a degree</td>\n",
       "      <td>Unmarried</td>\n",
       "      <td>Hispanic Origin</td>\n",
       "      <td>2021.0</td>\n",
       "      <td>60505.0</td>\n",
       "      <td>679.0</td>\n",
       "      <td>1122.0</td>\n",
       "    </tr>\n",
       "  </tbody>\n",
       "</table>\n",
       "<p>90 rows × 7 columns</p>\n",
       "</div>"
      ],
      "text/plain": [
       "                               Mother's Education Marital Status  \\\n",
       "0                               8th grade or less        Married   \n",
       "1                               8th grade or less        Married   \n",
       "2                               8th grade or less        Married   \n",
       "3                               8th grade or less      Unmarried   \n",
       "4                               8th grade or less      Unmarried   \n",
       "..                                            ...            ...   \n",
       "85          High school graduate or GED completed      Unmarried   \n",
       "86  Master's degree (MA, MS, MEng, MEd, MSW, MBA)        Married   \n",
       "87  Master's degree (MA, MS, MEng, MEd, MSW, MBA)      Unmarried   \n",
       "88          Some college credit, but not a degree        Married   \n",
       "89          Some college credit, but not a degree      Unmarried   \n",
       "\n",
       "       Mother's Single Race 6    Year  Total Births  Births w/ Morbidity  \\\n",
       "0                       Asian  2021.0        2890.0                 51.0   \n",
       "1   Black or African American  2021.0        3030.0                 64.0   \n",
       "2                       White  2021.0       19023.0                239.0   \n",
       "3   Black or African American  2021.0        2343.0                 44.0   \n",
       "4                       White  2021.0        3966.0                 46.0   \n",
       "..                        ...     ...           ...                  ...   \n",
       "85            Hispanic Origin  2021.0      123379.0               1330.0   \n",
       "86            Hispanic Origin  2021.0       20196.0                291.0   \n",
       "87            Hispanic Origin  2021.0        3826.0                 50.0   \n",
       "88            Hispanic Origin  2021.0       56166.0                640.0   \n",
       "89            Hispanic Origin  2021.0       60505.0                679.0   \n",
       "\n",
       "    Maternal Morbidity Ratio per 100,000 Live Births  \n",
       "0                                             1765.0  \n",
       "1                                             2112.0  \n",
       "2                                             1256.0  \n",
       "3                                             1878.0  \n",
       "4                                             1160.0  \n",
       "..                                               ...  \n",
       "85                                            1078.0  \n",
       "86                                            1441.0  \n",
       "87                                            1307.0  \n",
       "88                                            1139.0  \n",
       "89                                            1122.0  \n",
       "\n",
       "[90 rows x 7 columns]"
      ]
     },
     "metadata": {},
     "output_type": "display_data"
    }
   ],
   "source": [
    "# create column for MMR = (Deaths/Live Births * 100,000)\n",
    "ratio_df[\"Maternal Morbidity Ratio per 100,000 Live Births\"] = round(\n",
    "    ratio_df[\"Births w/ Morbidity\"] / ratio_df[\"Total Births\"] * 100000)\n",
    "\n",
    "display(ratio_df)"
   ]
  },
  {
   "attachments": {},
   "cell_type": "markdown",
   "metadata": {},
   "source": [
    "Do it by percentage instead?"
   ]
  },
  {
   "cell_type": "code",
   "execution_count": 361,
   "metadata": {},
   "outputs": [
    {
     "data": {
      "text/html": [
       "<div>\n",
       "<style scoped>\n",
       "    .dataframe tbody tr th:only-of-type {\n",
       "        vertical-align: middle;\n",
       "    }\n",
       "\n",
       "    .dataframe tbody tr th {\n",
       "        vertical-align: top;\n",
       "    }\n",
       "\n",
       "    .dataframe thead th {\n",
       "        text-align: right;\n",
       "    }\n",
       "</style>\n",
       "<table border=\"1\" class=\"dataframe\">\n",
       "  <thead>\n",
       "    <tr style=\"text-align: right;\">\n",
       "      <th></th>\n",
       "      <th>Mother's Education</th>\n",
       "      <th>Marital Status</th>\n",
       "      <th>Mother's Single Race 6</th>\n",
       "      <th>Year</th>\n",
       "      <th>Total Births</th>\n",
       "      <th>Births w/ Morbidity</th>\n",
       "      <th>Maternal Morbidity Ratio per 100,000 Live Births</th>\n",
       "      <th>Percentage of Live Births in Population</th>\n",
       "    </tr>\n",
       "  </thead>\n",
       "  <tbody>\n",
       "    <tr>\n",
       "      <th>0</th>\n",
       "      <td>8th grade or less</td>\n",
       "      <td>Married</td>\n",
       "      <td>Asian</td>\n",
       "      <td>2021.0</td>\n",
       "      <td>2890.0</td>\n",
       "      <td>51.0</td>\n",
       "      <td>1765.0</td>\n",
       "      <td>1764.705882</td>\n",
       "    </tr>\n",
       "    <tr>\n",
       "      <th>1</th>\n",
       "      <td>8th grade or less</td>\n",
       "      <td>Married</td>\n",
       "      <td>Black or African American</td>\n",
       "      <td>2021.0</td>\n",
       "      <td>3030.0</td>\n",
       "      <td>64.0</td>\n",
       "      <td>2112.0</td>\n",
       "      <td>2112.211221</td>\n",
       "    </tr>\n",
       "    <tr>\n",
       "      <th>2</th>\n",
       "      <td>8th grade or less</td>\n",
       "      <td>Married</td>\n",
       "      <td>White</td>\n",
       "      <td>2021.0</td>\n",
       "      <td>19023.0</td>\n",
       "      <td>239.0</td>\n",
       "      <td>1256.0</td>\n",
       "      <td>1256.373863</td>\n",
       "    </tr>\n",
       "    <tr>\n",
       "      <th>3</th>\n",
       "      <td>8th grade or less</td>\n",
       "      <td>Unmarried</td>\n",
       "      <td>Black or African American</td>\n",
       "      <td>2021.0</td>\n",
       "      <td>2343.0</td>\n",
       "      <td>44.0</td>\n",
       "      <td>1878.0</td>\n",
       "      <td>1877.934272</td>\n",
       "    </tr>\n",
       "    <tr>\n",
       "      <th>4</th>\n",
       "      <td>8th grade or less</td>\n",
       "      <td>Unmarried</td>\n",
       "      <td>White</td>\n",
       "      <td>2021.0</td>\n",
       "      <td>3966.0</td>\n",
       "      <td>46.0</td>\n",
       "      <td>1160.0</td>\n",
       "      <td>1159.858800</td>\n",
       "    </tr>\n",
       "    <tr>\n",
       "      <th>...</th>\n",
       "      <td>...</td>\n",
       "      <td>...</td>\n",
       "      <td>...</td>\n",
       "      <td>...</td>\n",
       "      <td>...</td>\n",
       "      <td>...</td>\n",
       "      <td>...</td>\n",
       "      <td>...</td>\n",
       "    </tr>\n",
       "    <tr>\n",
       "      <th>85</th>\n",
       "      <td>High school graduate or GED completed</td>\n",
       "      <td>Unmarried</td>\n",
       "      <td>Hispanic Origin</td>\n",
       "      <td>2021.0</td>\n",
       "      <td>123379.0</td>\n",
       "      <td>1330.0</td>\n",
       "      <td>1078.0</td>\n",
       "      <td>1077.979235</td>\n",
       "    </tr>\n",
       "    <tr>\n",
       "      <th>86</th>\n",
       "      <td>Master's degree (MA, MS, MEng, MEd, MSW, MBA)</td>\n",
       "      <td>Married</td>\n",
       "      <td>Hispanic Origin</td>\n",
       "      <td>2021.0</td>\n",
       "      <td>20196.0</td>\n",
       "      <td>291.0</td>\n",
       "      <td>1441.0</td>\n",
       "      <td>1440.879382</td>\n",
       "    </tr>\n",
       "    <tr>\n",
       "      <th>87</th>\n",
       "      <td>Master's degree (MA, MS, MEng, MEd, MSW, MBA)</td>\n",
       "      <td>Unmarried</td>\n",
       "      <td>Hispanic Origin</td>\n",
       "      <td>2021.0</td>\n",
       "      <td>3826.0</td>\n",
       "      <td>50.0</td>\n",
       "      <td>1307.0</td>\n",
       "      <td>1306.847883</td>\n",
       "    </tr>\n",
       "    <tr>\n",
       "      <th>88</th>\n",
       "      <td>Some college credit, but not a degree</td>\n",
       "      <td>Married</td>\n",
       "      <td>Hispanic Origin</td>\n",
       "      <td>2021.0</td>\n",
       "      <td>56166.0</td>\n",
       "      <td>640.0</td>\n",
       "      <td>1139.0</td>\n",
       "      <td>1139.479400</td>\n",
       "    </tr>\n",
       "    <tr>\n",
       "      <th>89</th>\n",
       "      <td>Some college credit, but not a degree</td>\n",
       "      <td>Unmarried</td>\n",
       "      <td>Hispanic Origin</td>\n",
       "      <td>2021.0</td>\n",
       "      <td>60505.0</td>\n",
       "      <td>679.0</td>\n",
       "      <td>1122.0</td>\n",
       "      <td>1122.221304</td>\n",
       "    </tr>\n",
       "  </tbody>\n",
       "</table>\n",
       "<p>90 rows × 8 columns</p>\n",
       "</div>"
      ],
      "text/plain": [
       "                               Mother's Education Marital Status  \\\n",
       "0                               8th grade or less        Married   \n",
       "1                               8th grade or less        Married   \n",
       "2                               8th grade or less        Married   \n",
       "3                               8th grade or less      Unmarried   \n",
       "4                               8th grade or less      Unmarried   \n",
       "..                                            ...            ...   \n",
       "85          High school graduate or GED completed      Unmarried   \n",
       "86  Master's degree (MA, MS, MEng, MEd, MSW, MBA)        Married   \n",
       "87  Master's degree (MA, MS, MEng, MEd, MSW, MBA)      Unmarried   \n",
       "88          Some college credit, but not a degree        Married   \n",
       "89          Some college credit, but not a degree      Unmarried   \n",
       "\n",
       "       Mother's Single Race 6    Year  Total Births  Births w/ Morbidity  \\\n",
       "0                       Asian  2021.0        2890.0                 51.0   \n",
       "1   Black or African American  2021.0        3030.0                 64.0   \n",
       "2                       White  2021.0       19023.0                239.0   \n",
       "3   Black or African American  2021.0        2343.0                 44.0   \n",
       "4                       White  2021.0        3966.0                 46.0   \n",
       "..                        ...     ...           ...                  ...   \n",
       "85            Hispanic Origin  2021.0      123379.0               1330.0   \n",
       "86            Hispanic Origin  2021.0       20196.0                291.0   \n",
       "87            Hispanic Origin  2021.0        3826.0                 50.0   \n",
       "88            Hispanic Origin  2021.0       56166.0                640.0   \n",
       "89            Hispanic Origin  2021.0       60505.0                679.0   \n",
       "\n",
       "    Maternal Morbidity Ratio per 100,000 Live Births  \\\n",
       "0                                             1765.0   \n",
       "1                                             2112.0   \n",
       "2                                             1256.0   \n",
       "3                                             1878.0   \n",
       "4                                             1160.0   \n",
       "..                                               ...   \n",
       "85                                            1078.0   \n",
       "86                                            1441.0   \n",
       "87                                            1307.0   \n",
       "88                                            1139.0   \n",
       "89                                            1122.0   \n",
       "\n",
       "    Percentage of Live Births in Population  \n",
       "0                               1764.705882  \n",
       "1                               2112.211221  \n",
       "2                               1256.373863  \n",
       "3                               1877.934272  \n",
       "4                               1159.858800  \n",
       "..                                      ...  \n",
       "85                              1077.979235  \n",
       "86                              1440.879382  \n",
       "87                              1306.847883  \n",
       "88                              1139.479400  \n",
       "89                              1122.221304  \n",
       "\n",
       "[90 rows x 8 columns]"
      ]
     },
     "metadata": {},
     "output_type": "display_data"
    }
   ],
   "source": [
    "ratio_df[\"Percentage of Live Births in Population\"] =  ratio_df[\"Births w/ Morbidity\"] / ratio_df[\"Total Births\"] * 100000\n",
    "\n",
    "display(ratio_df)"
   ]
  },
  {
   "attachments": {},
   "cell_type": "markdown",
   "metadata": {},
   "source": [
    "Create Map"
   ]
  },
  {
   "cell_type": "code",
   "execution_count": 365,
   "metadata": {},
   "outputs": [
    {
     "data": {
      "application/vnd.plotly.v1+json": {
       "config": {
        "plotlyServerURL": "https://plot.ly"
       },
       "data": [
        {
         "alignmentgroup": "True",
         "hovertemplate": "Mother's Single Race 6=Asian<br>Mother's Education=%{x}<br>Percentage of Live Births in Population=%{y}<extra></extra>",
         "legendgroup": "Asian",
         "marker": {
          "color": "#636efa",
          "pattern": {
           "shape": ""
          }
         },
         "name": "Asian",
         "offsetgroup": "Asian",
         "orientation": "v",
         "showlegend": true,
         "textposition": "auto",
         "type": "bar",
         "x": [
          "8th grade or less",
          "9th through 12th grade with no diploma",
          "High school graduate or GED completed",
          "Some college credit, but not a degree",
          "Associate degree (AA, AS)",
          "Bachelor's degree (BA, AB, BS)",
          "Master's degree (MA, MS, MEng, MEd, MSW, MBA)",
          "Doctorate (PhD, EdD) or Professional Degree (MD, DDS, DVM, LLB, JD)"
         ],
         "xaxis": "x",
         "y": [
          1764.7058823529412,
          1961.6893607200554,
          2086.1213886483506,
          2191.8090142004526,
          1972.4437998549674,
          2768.450923900093,
          2800.6394694771743,
          2797.8883861236804
         ],
         "yaxis": "y"
        },
        {
         "alignmentgroup": "True",
         "hovertemplate": "Mother's Single Race 6=Black or African American<br>Mother's Education=%{x}<br>Percentage of Live Births in Population=%{y}<extra></extra>",
         "legendgroup": "Black or African American",
         "marker": {
          "color": "#EF553B",
          "pattern": {
           "shape": ""
          }
         },
         "name": "Black or African American",
         "offsetgroup": "Black or African American",
         "orientation": "v",
         "showlegend": true,
         "textposition": "auto",
         "type": "bar",
         "x": [
          "8th grade or less",
          "9th through 12th grade with no diploma",
          "High school graduate or GED completed",
          "Some college credit, but not a degree",
          "Associate degree (AA, AS)",
          "Bachelor's degree (BA, AB, BS)",
          "Master's degree (MA, MS, MEng, MEd, MSW, MBA)",
          "Doctorate (PhD, EdD) or Professional Degree (MD, DDS, DVM, LLB, JD)"
         ],
         "xaxis": "x",
         "y": [
          2112.2112211221124,
          1702.3613399231194,
          1378.9241591712455,
          1252.3524379811804,
          1421.2925717350497,
          1341.732283464567,
          1370.5583756345177,
          1811.5942028985507
         ],
         "yaxis": "y"
        },
        {
         "alignmentgroup": "True",
         "hovertemplate": "Mother's Single Race 6=White<br>Mother's Education=%{x}<br>Percentage of Live Births in Population=%{y}<extra></extra>",
         "legendgroup": "White",
         "marker": {
          "color": "#00cc96",
          "pattern": {
           "shape": ""
          }
         },
         "name": "White",
         "offsetgroup": "White",
         "orientation": "v",
         "showlegend": true,
         "textposition": "auto",
         "type": "bar",
         "x": [
          "8th grade or less",
          "9th through 12th grade with no diploma",
          "High school graduate or GED completed",
          "Some college credit, but not a degree",
          "Associate degree (AA, AS)",
          "Bachelor's degree (BA, AB, BS)",
          "Master's degree (MA, MS, MEng, MEd, MSW, MBA)",
          "Doctorate (PhD, EdD) or Professional Degree (MD, DDS, DVM, LLB, JD)"
         ],
         "xaxis": "x",
         "y": [
          1256.3738632182094,
          1194.0928270042193,
          1211.1408242204288,
          1259.556949617722,
          1499.0535261186517,
          1677.3037526900591,
          1884.1413388908272,
          1885.772220344711
         ],
         "yaxis": "y"
        },
        {
         "alignmentgroup": "True",
         "hovertemplate": "Mother's Single Race 6=American Indian or Alaska Native<br>Mother's Education=%{x}<br>Percentage of Live Births in Population=%{y}<extra></extra>",
         "legendgroup": "American Indian or Alaska Native",
         "marker": {
          "color": "#ab63fa",
          "pattern": {
           "shape": ""
          }
         },
         "name": "American Indian or Alaska Native",
         "offsetgroup": "American Indian or Alaska Native",
         "orientation": "v",
         "showlegend": true,
         "textposition": "auto",
         "type": "bar",
         "x": [
          "9th through 12th grade with no diploma",
          "High school graduate or GED completed",
          "Some college credit, but not a degree",
          "Associate degree (AA, AS)",
          "Bachelor's degree (BA, AB, BS)"
         ],
         "xaxis": "x",
         "y": [
          3007.518796992481,
          1996.2859795728878,
          1705.4263565891472,
          2085.6201975850713,
          1468.189233278956
         ],
         "yaxis": "y"
        },
        {
         "alignmentgroup": "True",
         "hovertemplate": "Mother's Single Race 6=More than one race<br>Mother's Education=%{x}<br>Percentage of Live Births in Population=%{y}<extra></extra>",
         "legendgroup": "More than one race",
         "marker": {
          "color": "#FFA15A",
          "pattern": {
           "shape": ""
          }
         },
         "name": "More than one race",
         "offsetgroup": "More than one race",
         "orientation": "v",
         "showlegend": true,
         "textposition": "auto",
         "type": "bar",
         "x": [
          "9th through 12th grade with no diploma",
          "High school graduate or GED completed",
          "Some college credit, but not a degree",
          "Associate degree (AA, AS)",
          "Bachelor's degree (BA, AB, BS)",
          "Master's degree (MA, MS, MEng, MEd, MSW, MBA)",
          "Doctorate (PhD, EdD) or Professional Degree (MD, DDS, DVM, LLB, JD)"
         ],
         "xaxis": "x",
         "y": [
          857.6329331046312,
          1154.9566891241577,
          1270.3673018503175,
          1408.028759736369,
          1881.2709030100336,
          2364.943194991885,
          2050.919377652051
         ],
         "yaxis": "y"
        },
        {
         "alignmentgroup": "True",
         "hovertemplate": "Mother's Single Race 6=Native Hawaiian or Other Pacific Islander<br>Mother's Education=%{x}<br>Percentage of Live Births in Population=%{y}<extra></extra>",
         "legendgroup": "Native Hawaiian or Other Pacific Islander",
         "marker": {
          "color": "#19d3f3",
          "pattern": {
           "shape": ""
          }
         },
         "name": "Native Hawaiian or Other Pacific Islander",
         "offsetgroup": "Native Hawaiian or Other Pacific Islander",
         "orientation": "v",
         "showlegend": true,
         "textposition": "auto",
         "type": "bar",
         "x": [
          "High school graduate or GED completed",
          "Some college credit, but not a degree"
         ],
         "xaxis": "x",
         "y": [
          1630.9012875536482,
          2427.7456647398844
         ],
         "yaxis": "y"
        },
        {
         "alignmentgroup": "True",
         "hovertemplate": "Mother's Single Race 6=Hispanic Origin<br>Mother's Education=%{x}<br>Percentage of Live Births in Population=%{y}<extra></extra>",
         "legendgroup": "Hispanic Origin",
         "marker": {
          "color": "#FF6692",
          "pattern": {
           "shape": ""
          }
         },
         "name": "Hispanic Origin",
         "offsetgroup": "Hispanic Origin",
         "orientation": "v",
         "showlegend": true,
         "textposition": "auto",
         "type": "bar",
         "x": [
          "8th grade or less",
          "9th through 12th grade with no diploma",
          "Associate degree (AA, AS)",
          "Bachelor's degree (BA, AB, BS)",
          "Doctorate (PhD, EdD) or Professional Degree (MD, DDS, DVM, LLB, JD)",
          "High school graduate or GED completed",
          "Master's degree (MA, MS, MEng, MEd, MSW, MBA)",
          "Some college credit, but not a degree"
         ],
         "xaxis": "x",
         "y": [
          1101.6524787180772,
          1008.3915097665891,
          1052.671872607564,
          1309.1089214003928,
          1557.5079872204471,
          947.250662710669,
          1440.8793820558526,
          1139.4794003489656
         ],
         "yaxis": "y"
        }
       ],
       "layout": {
        "barmode": "relative",
        "height": 800,
        "legend": {
         "title": {
          "text": "Mother's Single Race 6"
         },
         "tracegroupgap": 0
        },
        "margin": {
         "t": 60
        },
        "template": {
         "data": {
          "bar": [
           {
            "error_x": {
             "color": "#2a3f5f"
            },
            "error_y": {
             "color": "#2a3f5f"
            },
            "marker": {
             "line": {
              "color": "#E5ECF6",
              "width": 0.5
             },
             "pattern": {
              "fillmode": "overlay",
              "size": 10,
              "solidity": 0.2
             }
            },
            "type": "bar"
           }
          ],
          "barpolar": [
           {
            "marker": {
             "line": {
              "color": "#E5ECF6",
              "width": 0.5
             },
             "pattern": {
              "fillmode": "overlay",
              "size": 10,
              "solidity": 0.2
             }
            },
            "type": "barpolar"
           }
          ],
          "carpet": [
           {
            "aaxis": {
             "endlinecolor": "#2a3f5f",
             "gridcolor": "white",
             "linecolor": "white",
             "minorgridcolor": "white",
             "startlinecolor": "#2a3f5f"
            },
            "baxis": {
             "endlinecolor": "#2a3f5f",
             "gridcolor": "white",
             "linecolor": "white",
             "minorgridcolor": "white",
             "startlinecolor": "#2a3f5f"
            },
            "type": "carpet"
           }
          ],
          "choropleth": [
           {
            "colorbar": {
             "outlinewidth": 0,
             "ticks": ""
            },
            "type": "choropleth"
           }
          ],
          "contour": [
           {
            "colorbar": {
             "outlinewidth": 0,
             "ticks": ""
            },
            "colorscale": [
             [
              0,
              "#0d0887"
             ],
             [
              0.1111111111111111,
              "#46039f"
             ],
             [
              0.2222222222222222,
              "#7201a8"
             ],
             [
              0.3333333333333333,
              "#9c179e"
             ],
             [
              0.4444444444444444,
              "#bd3786"
             ],
             [
              0.5555555555555556,
              "#d8576b"
             ],
             [
              0.6666666666666666,
              "#ed7953"
             ],
             [
              0.7777777777777778,
              "#fb9f3a"
             ],
             [
              0.8888888888888888,
              "#fdca26"
             ],
             [
              1,
              "#f0f921"
             ]
            ],
            "type": "contour"
           }
          ],
          "contourcarpet": [
           {
            "colorbar": {
             "outlinewidth": 0,
             "ticks": ""
            },
            "type": "contourcarpet"
           }
          ],
          "heatmap": [
           {
            "colorbar": {
             "outlinewidth": 0,
             "ticks": ""
            },
            "colorscale": [
             [
              0,
              "#0d0887"
             ],
             [
              0.1111111111111111,
              "#46039f"
             ],
             [
              0.2222222222222222,
              "#7201a8"
             ],
             [
              0.3333333333333333,
              "#9c179e"
             ],
             [
              0.4444444444444444,
              "#bd3786"
             ],
             [
              0.5555555555555556,
              "#d8576b"
             ],
             [
              0.6666666666666666,
              "#ed7953"
             ],
             [
              0.7777777777777778,
              "#fb9f3a"
             ],
             [
              0.8888888888888888,
              "#fdca26"
             ],
             [
              1,
              "#f0f921"
             ]
            ],
            "type": "heatmap"
           }
          ],
          "heatmapgl": [
           {
            "colorbar": {
             "outlinewidth": 0,
             "ticks": ""
            },
            "colorscale": [
             [
              0,
              "#0d0887"
             ],
             [
              0.1111111111111111,
              "#46039f"
             ],
             [
              0.2222222222222222,
              "#7201a8"
             ],
             [
              0.3333333333333333,
              "#9c179e"
             ],
             [
              0.4444444444444444,
              "#bd3786"
             ],
             [
              0.5555555555555556,
              "#d8576b"
             ],
             [
              0.6666666666666666,
              "#ed7953"
             ],
             [
              0.7777777777777778,
              "#fb9f3a"
             ],
             [
              0.8888888888888888,
              "#fdca26"
             ],
             [
              1,
              "#f0f921"
             ]
            ],
            "type": "heatmapgl"
           }
          ],
          "histogram": [
           {
            "marker": {
             "pattern": {
              "fillmode": "overlay",
              "size": 10,
              "solidity": 0.2
             }
            },
            "type": "histogram"
           }
          ],
          "histogram2d": [
           {
            "colorbar": {
             "outlinewidth": 0,
             "ticks": ""
            },
            "colorscale": [
             [
              0,
              "#0d0887"
             ],
             [
              0.1111111111111111,
              "#46039f"
             ],
             [
              0.2222222222222222,
              "#7201a8"
             ],
             [
              0.3333333333333333,
              "#9c179e"
             ],
             [
              0.4444444444444444,
              "#bd3786"
             ],
             [
              0.5555555555555556,
              "#d8576b"
             ],
             [
              0.6666666666666666,
              "#ed7953"
             ],
             [
              0.7777777777777778,
              "#fb9f3a"
             ],
             [
              0.8888888888888888,
              "#fdca26"
             ],
             [
              1,
              "#f0f921"
             ]
            ],
            "type": "histogram2d"
           }
          ],
          "histogram2dcontour": [
           {
            "colorbar": {
             "outlinewidth": 0,
             "ticks": ""
            },
            "colorscale": [
             [
              0,
              "#0d0887"
             ],
             [
              0.1111111111111111,
              "#46039f"
             ],
             [
              0.2222222222222222,
              "#7201a8"
             ],
             [
              0.3333333333333333,
              "#9c179e"
             ],
             [
              0.4444444444444444,
              "#bd3786"
             ],
             [
              0.5555555555555556,
              "#d8576b"
             ],
             [
              0.6666666666666666,
              "#ed7953"
             ],
             [
              0.7777777777777778,
              "#fb9f3a"
             ],
             [
              0.8888888888888888,
              "#fdca26"
             ],
             [
              1,
              "#f0f921"
             ]
            ],
            "type": "histogram2dcontour"
           }
          ],
          "mesh3d": [
           {
            "colorbar": {
             "outlinewidth": 0,
             "ticks": ""
            },
            "type": "mesh3d"
           }
          ],
          "parcoords": [
           {
            "line": {
             "colorbar": {
              "outlinewidth": 0,
              "ticks": ""
             }
            },
            "type": "parcoords"
           }
          ],
          "pie": [
           {
            "automargin": true,
            "type": "pie"
           }
          ],
          "scatter": [
           {
            "fillpattern": {
             "fillmode": "overlay",
             "size": 10,
             "solidity": 0.2
            },
            "type": "scatter"
           }
          ],
          "scatter3d": [
           {
            "line": {
             "colorbar": {
              "outlinewidth": 0,
              "ticks": ""
             }
            },
            "marker": {
             "colorbar": {
              "outlinewidth": 0,
              "ticks": ""
             }
            },
            "type": "scatter3d"
           }
          ],
          "scattercarpet": [
           {
            "marker": {
             "colorbar": {
              "outlinewidth": 0,
              "ticks": ""
             }
            },
            "type": "scattercarpet"
           }
          ],
          "scattergeo": [
           {
            "marker": {
             "colorbar": {
              "outlinewidth": 0,
              "ticks": ""
             }
            },
            "type": "scattergeo"
           }
          ],
          "scattergl": [
           {
            "marker": {
             "colorbar": {
              "outlinewidth": 0,
              "ticks": ""
             }
            },
            "type": "scattergl"
           }
          ],
          "scattermapbox": [
           {
            "marker": {
             "colorbar": {
              "outlinewidth": 0,
              "ticks": ""
             }
            },
            "type": "scattermapbox"
           }
          ],
          "scatterpolar": [
           {
            "marker": {
             "colorbar": {
              "outlinewidth": 0,
              "ticks": ""
             }
            },
            "type": "scatterpolar"
           }
          ],
          "scatterpolargl": [
           {
            "marker": {
             "colorbar": {
              "outlinewidth": 0,
              "ticks": ""
             }
            },
            "type": "scatterpolargl"
           }
          ],
          "scatterternary": [
           {
            "marker": {
             "colorbar": {
              "outlinewidth": 0,
              "ticks": ""
             }
            },
            "type": "scatterternary"
           }
          ],
          "surface": [
           {
            "colorbar": {
             "outlinewidth": 0,
             "ticks": ""
            },
            "colorscale": [
             [
              0,
              "#0d0887"
             ],
             [
              0.1111111111111111,
              "#46039f"
             ],
             [
              0.2222222222222222,
              "#7201a8"
             ],
             [
              0.3333333333333333,
              "#9c179e"
             ],
             [
              0.4444444444444444,
              "#bd3786"
             ],
             [
              0.5555555555555556,
              "#d8576b"
             ],
             [
              0.6666666666666666,
              "#ed7953"
             ],
             [
              0.7777777777777778,
              "#fb9f3a"
             ],
             [
              0.8888888888888888,
              "#fdca26"
             ],
             [
              1,
              "#f0f921"
             ]
            ],
            "type": "surface"
           }
          ],
          "table": [
           {
            "cells": {
             "fill": {
              "color": "#EBF0F8"
             },
             "line": {
              "color": "white"
             }
            },
            "header": {
             "fill": {
              "color": "#C8D4E3"
             },
             "line": {
              "color": "white"
             }
            },
            "type": "table"
           }
          ]
         },
         "layout": {
          "annotationdefaults": {
           "arrowcolor": "#2a3f5f",
           "arrowhead": 0,
           "arrowwidth": 1
          },
          "autotypenumbers": "strict",
          "coloraxis": {
           "colorbar": {
            "outlinewidth": 0,
            "ticks": ""
           }
          },
          "colorscale": {
           "diverging": [
            [
             0,
             "#8e0152"
            ],
            [
             0.1,
             "#c51b7d"
            ],
            [
             0.2,
             "#de77ae"
            ],
            [
             0.3,
             "#f1b6da"
            ],
            [
             0.4,
             "#fde0ef"
            ],
            [
             0.5,
             "#f7f7f7"
            ],
            [
             0.6,
             "#e6f5d0"
            ],
            [
             0.7,
             "#b8e186"
            ],
            [
             0.8,
             "#7fbc41"
            ],
            [
             0.9,
             "#4d9221"
            ],
            [
             1,
             "#276419"
            ]
           ],
           "sequential": [
            [
             0,
             "#0d0887"
            ],
            [
             0.1111111111111111,
             "#46039f"
            ],
            [
             0.2222222222222222,
             "#7201a8"
            ],
            [
             0.3333333333333333,
             "#9c179e"
            ],
            [
             0.4444444444444444,
             "#bd3786"
            ],
            [
             0.5555555555555556,
             "#d8576b"
            ],
            [
             0.6666666666666666,
             "#ed7953"
            ],
            [
             0.7777777777777778,
             "#fb9f3a"
            ],
            [
             0.8888888888888888,
             "#fdca26"
            ],
            [
             1,
             "#f0f921"
            ]
           ],
           "sequentialminus": [
            [
             0,
             "#0d0887"
            ],
            [
             0.1111111111111111,
             "#46039f"
            ],
            [
             0.2222222222222222,
             "#7201a8"
            ],
            [
             0.3333333333333333,
             "#9c179e"
            ],
            [
             0.4444444444444444,
             "#bd3786"
            ],
            [
             0.5555555555555556,
             "#d8576b"
            ],
            [
             0.6666666666666666,
             "#ed7953"
            ],
            [
             0.7777777777777778,
             "#fb9f3a"
            ],
            [
             0.8888888888888888,
             "#fdca26"
            ],
            [
             1,
             "#f0f921"
            ]
           ]
          },
          "colorway": [
           "#636efa",
           "#EF553B",
           "#00cc96",
           "#ab63fa",
           "#FFA15A",
           "#19d3f3",
           "#FF6692",
           "#B6E880",
           "#FF97FF",
           "#FECB52"
          ],
          "font": {
           "color": "#2a3f5f"
          },
          "geo": {
           "bgcolor": "white",
           "lakecolor": "white",
           "landcolor": "#E5ECF6",
           "showlakes": true,
           "showland": true,
           "subunitcolor": "white"
          },
          "hoverlabel": {
           "align": "left"
          },
          "hovermode": "closest",
          "mapbox": {
           "style": "light"
          },
          "paper_bgcolor": "white",
          "plot_bgcolor": "#E5ECF6",
          "polar": {
           "angularaxis": {
            "gridcolor": "white",
            "linecolor": "white",
            "ticks": ""
           },
           "bgcolor": "#E5ECF6",
           "radialaxis": {
            "gridcolor": "white",
            "linecolor": "white",
            "ticks": ""
           }
          },
          "scene": {
           "xaxis": {
            "backgroundcolor": "#E5ECF6",
            "gridcolor": "white",
            "gridwidth": 2,
            "linecolor": "white",
            "showbackground": true,
            "ticks": "",
            "zerolinecolor": "white"
           },
           "yaxis": {
            "backgroundcolor": "#E5ECF6",
            "gridcolor": "white",
            "gridwidth": 2,
            "linecolor": "white",
            "showbackground": true,
            "ticks": "",
            "zerolinecolor": "white"
           },
           "zaxis": {
            "backgroundcolor": "#E5ECF6",
            "gridcolor": "white",
            "gridwidth": 2,
            "linecolor": "white",
            "showbackground": true,
            "ticks": "",
            "zerolinecolor": "white"
           }
          },
          "shapedefaults": {
           "line": {
            "color": "#2a3f5f"
           }
          },
          "ternary": {
           "aaxis": {
            "gridcolor": "white",
            "linecolor": "white",
            "ticks": ""
           },
           "baxis": {
            "gridcolor": "white",
            "linecolor": "white",
            "ticks": ""
           },
           "bgcolor": "#E5ECF6",
           "caxis": {
            "gridcolor": "white",
            "linecolor": "white",
            "ticks": ""
           }
          },
          "title": {
           "x": 0.05
          },
          "xaxis": {
           "automargin": true,
           "gridcolor": "white",
           "linecolor": "white",
           "ticks": "",
           "title": {
            "standoff": 15
           },
           "zerolinecolor": "white",
           "zerolinewidth": 2
          },
          "yaxis": {
           "automargin": true,
           "gridcolor": "white",
           "linecolor": "white",
           "ticks": "",
           "title": {
            "standoff": 15
           },
           "zerolinecolor": "white",
           "zerolinewidth": 2
          }
         }
        },
        "width": 1000,
        "xaxis": {
         "anchor": "y",
         "domain": [
          0,
          1
         ],
         "title": {
          "text": "Mother's Education"
         }
        },
        "yaxis": {
         "anchor": "x",
         "domain": [
          0,
          1
         ],
         "title": {
          "text": "Percentage of Live Births in Population"
         }
        }
       }
      }
     },
     "metadata": {},
     "output_type": "display_data"
    }
   ],
   "source": [
    "fig = px.bar(ratio_df[ratio_df[\"Marital Status\"] == \"Married\"], x=\"Mother's Education\", y=\"Percentage of Live Births in Population\", color=\"Mother's Single Race 6\", title=\"\", height=800,\n",
    "             width=1000, category_orders={\"Single Race 6\": [\"More than one race\", \"Asian\", \"Hispanic Origin\", \"White\", \"Black or African American\", \"American Indian or Alaska Native\"].reverse()})\n",
    "fig.show()\n"
   ]
  }
 ],
 "metadata": {
  "kernelspec": {
   "display_name": "Python 3",
   "language": "python",
   "name": "python3"
  },
  "language_info": {
   "codemirror_mode": {
    "name": "ipython",
    "version": 3
   },
   "file_extension": ".py",
   "mimetype": "text/x-python",
   "name": "python",
   "nbconvert_exporter": "python",
   "pygments_lexer": "ipython3",
   "version": "3.9.16"
  },
  "orig_nbformat": 4
 },
 "nbformat": 4,
 "nbformat_minor": 2
}
