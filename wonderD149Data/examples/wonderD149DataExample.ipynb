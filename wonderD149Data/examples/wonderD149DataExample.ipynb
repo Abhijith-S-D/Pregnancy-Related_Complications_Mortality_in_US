{
 "cells": [
  {
   "attachments": {},
   "cell_type": "markdown",
   "metadata": {},
   "source": [
    "# An Example of using WonderD149Data package to extract data from Natality, 2016-2021 expanded database by CDC"
   ]
  },
  {
   "attachments": {},
   "cell_type": "markdown",
   "metadata": {},
   "source": [
    "First adding the package to sys path."
   ]
  },
  {
   "cell_type": "code",
   "execution_count": 1,
   "metadata": {},
   "outputs": [],
   "source": [
    "import sys\n",
    "sys.path.append('../src')"
   ]
  },
  {
   "attachments": {},
   "cell_type": "markdown",
   "metadata": {},
   "source": [
    "Now importing helper from the package to investigate all required options"
   ]
  },
  {
   "cell_type": "code",
   "execution_count": 2,
   "metadata": {},
   "outputs": [],
   "source": [
    "import wonderD149Data.data.helper as hp\n",
    "import wonderD149Data.wonderD149Data as wd"
   ]
  },
  {
   "attachments": {},
   "cell_type": "markdown",
   "metadata": {},
   "source": [
    "Checking broad categories for group by"
   ]
  },
  {
   "cell_type": "code",
   "execution_count": 3,
   "metadata": {},
   "outputs": [
    {
     "data": {
      "text/plain": [
       "{'Abnormal conditions of newborn',\n",
       " 'Congenital anomalies of newborn',\n",
       " 'Delivery characteristics',\n",
       " 'Infant characteristics',\n",
       " 'Labor characteristics',\n",
       " 'Maternal Residence',\n",
       " 'Maternal characteristics',\n",
       " 'Maternal infections present and/or treated during pregnancy',\n",
       " 'Maternal morbidity',\n",
       " 'Maternal risk factors',\n",
       " 'Paternal characteristics',\n",
       " 'Pregnancy history and prenatal care characteristics',\n",
       " 'Pregnancy risk factors'}"
      ]
     },
     "execution_count": 3,
     "metadata": {},
     "output_type": "execute_result"
    }
   ],
   "source": [
    "hp.getGroupByCategories()"
   ]
  },
  {
   "attachments": {},
   "cell_type": "markdown",
   "metadata": {},
   "source": [
    "getting code and details for a particular category of data"
   ]
  },
  {
   "cell_type": "code",
   "execution_count": 4,
   "metadata": {},
   "outputs": [
    {
     "data": {
      "text/plain": [
       "{'D149.V20': 'Year',\n",
       " 'D149.V25': 'Month',\n",
       " 'D149.V26': 'Weekday',\n",
       " 'D149.V44': 'Time of Day',\n",
       " 'D149.V45': 'Birthplace',\n",
       " 'D149.V30': 'Birthplace Recode 6',\n",
       " 'D149.V46': 'Birthplace Recode 3',\n",
       " 'D149.V29': 'Medical Attendant',\n",
       " 'D149.V108': 'Mother Transferred',\n",
       " 'D149.V98': 'Fetal Presentation',\n",
       " 'D149.V99': 'Final Route and Delivery Method',\n",
       " 'D149.V101': 'Delivery Method Expanded',\n",
       " 'D149.V31': 'Delivery Method',\n",
       " 'D149.V100': 'Trial of Labor Attempted (if cesarean)',\n",
       " 'D149.V110': 'Source of Payment for Delivery',\n",
       " 'D149.V109': 'Source of Payment for Delivery Expanded'}"
      ]
     },
     "execution_count": 4,
     "metadata": {},
     "output_type": "execute_result"
    }
   ],
   "source": [
    "hp.getCodeDetailsForGivenCategory('Delivery characteristics')"
   ]
  },
  {
   "cell_type": "code",
   "execution_count": 5,
   "metadata": {},
   "outputs": [
    {
     "data": {
      "text/plain": [
       "{'D149.V70': \"Mother's Height in Inches\",\n",
       " 'D149.V71': \"Mother's Pre-pregnancy BMI\",\n",
       " 'D149.V73': \"Mother's Weight Gain Recode\",\n",
       " 'D149.V149': \"Mother's Pre-pregnancy Weight\",\n",
       " 'D149.V150': \"Mother's Delivery Weight\",\n",
       " 'D149.V10': 'Tobacco Use',\n",
       " 'D149.V143': 'Number of Cigarettes Before Pregnancy Recode',\n",
       " 'D149.V139': 'Number of Cigarettes Before Pregnancy',\n",
       " 'D149.V144': 'Number of Cigarettes 1st Trimester Recode',\n",
       " 'D149.V140': 'Number of Cigarettes 1st Trimester',\n",
       " 'D149.V145': 'Number of Cigarettes 2nd Trimester Recode',\n",
       " 'D149.V141': 'Number of Cigarettes 2nd Trimester',\n",
       " 'D149.V146': 'Number of Cigarettes 3rd Trimester Recode',\n",
       " 'D149.V142': 'Number of Cigarettes 3rd Trimester'}"
      ]
     },
     "execution_count": 5,
     "metadata": {},
     "output_type": "execute_result"
    }
   ],
   "source": [
    "hp.getCodeDetailsForGivenCategory('Maternal risk factors')"
   ]
  },
  {
   "attachments": {},
   "cell_type": "markdown",
   "metadata": {},
   "source": [
    "Lets see filter options for 'D149.V31' i.e 'Delivery Method'"
   ]
  },
  {
   "cell_type": "code",
   "execution_count": 6,
   "metadata": {},
   "outputs": [
    {
     "data": {
      "text/plain": [
       "{'*All*': 'All Methods',\n",
       " '1': 'Vaginal',\n",
       " '2': 'Cesarean',\n",
       " '9': 'Unknown or Not Stated'}"
      ]
     },
     "execution_count": 6,
     "metadata": {},
     "output_type": "execute_result"
    }
   ],
   "source": [
    "hp.getFilterValuesForGivenCode('D149.V31')"
   ]
  },
  {
   "attachments": {},
   "cell_type": "markdown",
   "metadata": {},
   "source": [
    "checking all possible measures"
   ]
  },
  {
   "cell_type": "code",
   "execution_count": 7,
   "metadata": {},
   "outputs": [
    {
     "data": {
      "text/plain": [
       "{'M_002': {'D149.M002': 'Births'},\n",
       " 'M_007': {'D149.M007': 'Percent of Total Births'},\n",
       " 'M_070': {'D149.M070': 'Average Age of Mother (years)'},\n",
       " 'M_071': {'D149.M071': 'Average Age of Mother (years) Standard Deviation'},\n",
       " 'M_080': {'D149.M080': 'Average OE Gestational Age (weeks)'},\n",
       " 'M_081': {'D149.M081': 'Average OE Gestational Age (weeks) Standard Deviation'},\n",
       " 'M_090': {'D149.M091': 'Average LMP Gestational Age (weeks)'},\n",
       " 'M_091': {'D149.M091': 'Average LMP Gestational Age (weeks) Standard Deviation'},\n",
       " 'M_095': {'D149.M095': 'Average Birth Weight (grams)'},\n",
       " 'M_096': {'D149.M096': 'Average Birth Weight (grams) Standard Deviation'},\n",
       " 'M_100': {'D149.M100': 'Average Pre-pregnancy BMI'},\n",
       " 'M_101': {'D149.M101': 'Average Pre-pregnancy BMI Standard Deviation'},\n",
       " 'M_110': {'D149.M110': 'Average Number of Prenatal Visits'},\n",
       " 'M_111': {'D149.M111': 'Average Number of Prenatal Visits Standard Deviation'},\n",
       " 'M_120': {'D149.M120': 'Average Interval Since Last Live Birth (months)'},\n",
       " 'M_121': {'D149.M121': 'Average Interval Since Last Live Birth (months) Standard Deviation'},\n",
       " 'M_130': {'D149.M130': 'Average Interval Since Last Other Pregnancy Outcome (months)'},\n",
       " 'M_131': {'D149.M130': 'Average Interval Since Last Other Pregnancy Outcome (months) Standard Deviation'}}"
      ]
     },
     "execution_count": 7,
     "metadata": {},
     "output_type": "execute_result"
    }
   ],
   "source": [
    "hp.getMeasureCodesAndDescription()"
   ]
  },
  {
   "attachments": {},
   "cell_type": "markdown",
   "metadata": {},
   "source": [
    "Creating all query params for getting data"
   ]
  },
  {
   "cell_type": "code",
   "execution_count": 8,
   "metadata": {},
   "outputs": [],
   "source": [
    "group_by_list = [\n",
    "    'D149.V20', # Years\n",
    "    'D149.V10', #Tobacco Use\n",
    "]\n",
    "measure_selection = {\n",
    "    'M_002': 'D149.M002', # Births\n",
    "    'M_007': 'D149.M007', # Percent of Total Births\n",
    "    'M_070': 'D149.M070', # Average Age of Mother (years)\n",
    "}\n",
    "observation_selection = {}\n",
    "variable_filter = {\n",
    "    'V_D149.V31': ['1','2'] # filtering only stated deliveries\n",
    "}"
   ]
  },
  {
   "attachments": {},
   "cell_type": "markdown",
   "metadata": {},
   "source": [
    "creating wonderD149Data Object and getting data"
   ]
  },
  {
   "cell_type": "code",
   "execution_count": 10,
   "metadata": {},
   "outputs": [
    {
     "data": {
      "text/html": [
       "<div>\n",
       "<style scoped>\n",
       "    .dataframe tbody tr th:only-of-type {\n",
       "        vertical-align: middle;\n",
       "    }\n",
       "\n",
       "    .dataframe tbody tr th {\n",
       "        vertical-align: top;\n",
       "    }\n",
       "\n",
       "    .dataframe thead th {\n",
       "        text-align: right;\n",
       "    }\n",
       "</style>\n",
       "<table border=\"1\" class=\"dataframe\">\n",
       "  <thead>\n",
       "    <tr style=\"text-align: right;\">\n",
       "      <th></th>\n",
       "      <th>Year</th>\n",
       "      <th>Tobacco Use</th>\n",
       "      <th>Births</th>\n",
       "      <th>Percent of Total Births</th>\n",
       "      <th>Average Age of Mother (years)</th>\n",
       "    </tr>\n",
       "  </thead>\n",
       "  <tbody>\n",
       "    <tr>\n",
       "      <th>0</th>\n",
       "      <td>2016</td>\n",
       "      <td>Yes</td>\n",
       "      <td>282712.0</td>\n",
       "      <td>1.25%</td>\n",
       "      <td>26.94</td>\n",
       "    </tr>\n",
       "    <tr>\n",
       "      <th>1</th>\n",
       "      <td>2016</td>\n",
       "      <td>No</td>\n",
       "      <td>3643801.0</td>\n",
       "      <td>16.11%</td>\n",
       "      <td>28.85</td>\n",
       "    </tr>\n",
       "    <tr>\n",
       "      <th>2</th>\n",
       "      <td>2016</td>\n",
       "      <td>Unknown or Not Stated</td>\n",
       "      <td>19362.0</td>\n",
       "      <td>0.09%</td>\n",
       "      <td>28.18</td>\n",
       "    </tr>\n",
       "    <tr>\n",
       "      <th>3</th>\n",
       "      <td>2017</td>\n",
       "      <td>Yes</td>\n",
       "      <td>264920.0</td>\n",
       "      <td>1.17%</td>\n",
       "      <td>27.20</td>\n",
       "    </tr>\n",
       "    <tr>\n",
       "      <th>4</th>\n",
       "      <td>2017</td>\n",
       "      <td>No</td>\n",
       "      <td>3571865.0</td>\n",
       "      <td>15.79%</td>\n",
       "      <td>28.97</td>\n",
       "    </tr>\n",
       "    <tr>\n",
       "      <th>5</th>\n",
       "      <td>2017</td>\n",
       "      <td>Unknown or Not Stated</td>\n",
       "      <td>18715.0</td>\n",
       "      <td>0.08%</td>\n",
       "      <td>28.30</td>\n",
       "    </tr>\n",
       "    <tr>\n",
       "      <th>6</th>\n",
       "      <td>2018</td>\n",
       "      <td>Yes</td>\n",
       "      <td>245290.0</td>\n",
       "      <td>1.08%</td>\n",
       "      <td>27.45</td>\n",
       "    </tr>\n",
       "    <tr>\n",
       "      <th>7</th>\n",
       "      <td>2018</td>\n",
       "      <td>No</td>\n",
       "      <td>3529409.0</td>\n",
       "      <td>15.60%</td>\n",
       "      <td>29.12</td>\n",
       "    </tr>\n",
       "    <tr>\n",
       "      <th>8</th>\n",
       "      <td>2018</td>\n",
       "      <td>Unknown or Not Stated</td>\n",
       "      <td>17013.0</td>\n",
       "      <td>0.08%</td>\n",
       "      <td>28.49</td>\n",
       "    </tr>\n",
       "    <tr>\n",
       "      <th>9</th>\n",
       "      <td>2019</td>\n",
       "      <td>Yes</td>\n",
       "      <td>222088.0</td>\n",
       "      <td>0.98%</td>\n",
       "      <td>27.75</td>\n",
       "    </tr>\n",
       "    <tr>\n",
       "      <th>10</th>\n",
       "      <td>2019</td>\n",
       "      <td>No</td>\n",
       "      <td>3506436.0</td>\n",
       "      <td>15.50%</td>\n",
       "      <td>29.20</td>\n",
       "    </tr>\n",
       "    <tr>\n",
       "      <th>11</th>\n",
       "      <td>2019</td>\n",
       "      <td>Unknown or Not Stated</td>\n",
       "      <td>19016.0</td>\n",
       "      <td>0.08%</td>\n",
       "      <td>28.75</td>\n",
       "    </tr>\n",
       "    <tr>\n",
       "      <th>12</th>\n",
       "      <td>2020</td>\n",
       "      <td>Yes</td>\n",
       "      <td>199584.0</td>\n",
       "      <td>0.88%</td>\n",
       "      <td>28.04</td>\n",
       "    </tr>\n",
       "    <tr>\n",
       "      <th>13</th>\n",
       "      <td>2020</td>\n",
       "      <td>No</td>\n",
       "      <td>3400012.0</td>\n",
       "      <td>15.03%</td>\n",
       "      <td>29.29</td>\n",
       "    </tr>\n",
       "    <tr>\n",
       "      <th>14</th>\n",
       "      <td>2020</td>\n",
       "      <td>Unknown or Not Stated</td>\n",
       "      <td>14051.0</td>\n",
       "      <td>0.06%</td>\n",
       "      <td>28.79</td>\n",
       "    </tr>\n",
       "    <tr>\n",
       "      <th>15</th>\n",
       "      <td>2021</td>\n",
       "      <td>Yes</td>\n",
       "      <td>168086.0</td>\n",
       "      <td>0.74%</td>\n",
       "      <td>28.43</td>\n",
       "    </tr>\n",
       "    <tr>\n",
       "      <th>16</th>\n",
       "      <td>2021</td>\n",
       "      <td>No</td>\n",
       "      <td>3480665.0</td>\n",
       "      <td>15.39%</td>\n",
       "      <td>29.46</td>\n",
       "    </tr>\n",
       "    <tr>\n",
       "      <th>17</th>\n",
       "      <td>2021</td>\n",
       "      <td>Unknown or Not Stated</td>\n",
       "      <td>15541.0</td>\n",
       "      <td>0.07%</td>\n",
       "      <td>28.93</td>\n",
       "    </tr>\n",
       "  </tbody>\n",
       "</table>\n",
       "</div>"
      ],
      "text/plain": [
       "    Year            Tobacco Use     Births Percent of Total Births  \\\n",
       "0   2016                    Yes   282712.0                   1.25%   \n",
       "1   2016                     No  3643801.0                  16.11%   \n",
       "2   2016  Unknown or Not Stated    19362.0                   0.09%   \n",
       "3   2017                    Yes   264920.0                   1.17%   \n",
       "4   2017                     No  3571865.0                  15.79%   \n",
       "5   2017  Unknown or Not Stated    18715.0                   0.08%   \n",
       "6   2018                    Yes   245290.0                   1.08%   \n",
       "7   2018                     No  3529409.0                  15.60%   \n",
       "8   2018  Unknown or Not Stated    17013.0                   0.08%   \n",
       "9   2019                    Yes   222088.0                   0.98%   \n",
       "10  2019                     No  3506436.0                  15.50%   \n",
       "11  2019  Unknown or Not Stated    19016.0                   0.08%   \n",
       "12  2020                    Yes   199584.0                   0.88%   \n",
       "13  2020                     No  3400012.0                  15.03%   \n",
       "14  2020  Unknown or Not Stated    14051.0                   0.06%   \n",
       "15  2021                    Yes   168086.0                   0.74%   \n",
       "16  2021                     No  3480665.0                  15.39%   \n",
       "17  2021  Unknown or Not Stated    15541.0                   0.07%   \n",
       "\n",
       "    Average Age of Mother (years)  \n",
       "0                           26.94  \n",
       "1                           28.85  \n",
       "2                           28.18  \n",
       "3                           27.20  \n",
       "4                           28.97  \n",
       "5                           28.30  \n",
       "6                           27.45  \n",
       "7                           29.12  \n",
       "8                           28.49  \n",
       "9                           27.75  \n",
       "10                          29.20  \n",
       "11                          28.75  \n",
       "12                          28.04  \n",
       "13                          29.29  \n",
       "14                          28.79  \n",
       "15                          28.43  \n",
       "16                          29.46  \n",
       "17                          28.93  "
      ]
     },
     "execution_count": 10,
     "metadata": {},
     "output_type": "execute_result"
    }
   ],
   "source": [
    "dataObj = wd.WonderD149Data(group_by_list,measure_selection,observation_selection,variable_filter)\n",
    "dataObj.getData()"
   ]
  }
 ],
 "metadata": {
  "kernelspec": {
   "display_name": "base",
   "language": "python",
   "name": "python3"
  },
  "language_info": {
   "codemirror_mode": {
    "name": "ipython",
    "version": 3
   },
   "file_extension": ".py",
   "mimetype": "text/x-python",
   "name": "python",
   "nbconvert_exporter": "python",
   "pygments_lexer": "ipython3",
   "version": "3.9.15"
  },
  "orig_nbformat": 4,
  "vscode": {
   "interpreter": {
    "hash": "1c93df08fcbabfdbaadb87d75cf78a45ec6be13cfbd39d17b7e2e21df63f1af9"
   }
  }
 },
 "nbformat": 4,
 "nbformat_minor": 2
}
