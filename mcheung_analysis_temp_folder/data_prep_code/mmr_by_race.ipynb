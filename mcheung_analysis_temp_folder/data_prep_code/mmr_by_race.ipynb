{
 "cells": [
  {
   "cell_type": "code",
   "execution_count": 12,
   "metadata": {},
   "outputs": [],
   "source": [
    "# UCSD ECE 143 Programming for Data Analysis\n",
    "# Winter 2023\n",
    "# Author: m3cheung@ucsd.edu\n",
    "# Final Project: create mmr by race bar graph for years 2018-2021"
   ]
  },
  {
   "attachments": {},
   "cell_type": "markdown",
   "metadata": {},
   "source": [
    "Import modules"
   ]
  },
  {
   "cell_type": "code",
   "execution_count": 13,
   "metadata": {},
   "outputs": [],
   "source": [
    "import pandas as pd\n",
    "import plotly.express as px\n",
    "from bs4 import BeautifulSoup\n",
    "import matplotlib.pyplot as plt"
   ]
  },
  {
   "attachments": {},
   "cell_type": "markdown",
   "metadata": {},
   "source": [
    "Load csv files into Pandas DataFrames"
   ]
  },
  {
   "cell_type": "code",
   "execution_count": 14,
   "metadata": {},
   "outputs": [
    {
     "data": {
      "text/html": [
       "<div>\n",
       "<style scoped>\n",
       "    .dataframe tbody tr th:only-of-type {\n",
       "        vertical-align: middle;\n",
       "    }\n",
       "\n",
       "    .dataframe tbody tr th {\n",
       "        vertical-align: top;\n",
       "    }\n",
       "\n",
       "    .dataframe thead th {\n",
       "        text-align: right;\n",
       "    }\n",
       "</style>\n",
       "<table border=\"1\" class=\"dataframe\">\n",
       "  <thead>\n",
       "    <tr style=\"text-align: right;\">\n",
       "      <th></th>\n",
       "      <th>Single Race 6</th>\n",
       "      <th>Hispanic Origin</th>\n",
       "      <th>Year</th>\n",
       "      <th>Deaths</th>\n",
       "    </tr>\n",
       "  </thead>\n",
       "  <tbody>\n",
       "    <tr>\n",
       "      <th>0</th>\n",
       "      <td>American Indian or Alaska Native</td>\n",
       "      <td>Not Hispanic or Latino</td>\n",
       "      <td>2019.0</td>\n",
       "      <td>14.0</td>\n",
       "    </tr>\n",
       "    <tr>\n",
       "      <th>1</th>\n",
       "      <td>American Indian or Alaska Native</td>\n",
       "      <td>Not Hispanic or Latino</td>\n",
       "      <td>2020.0</td>\n",
       "      <td>13.0</td>\n",
       "    </tr>\n",
       "    <tr>\n",
       "      <th>2</th>\n",
       "      <td>American Indian or Alaska Native</td>\n",
       "      <td>Not Hispanic or Latino</td>\n",
       "      <td>2021.0</td>\n",
       "      <td>31.0</td>\n",
       "    </tr>\n",
       "    <tr>\n",
       "      <th>3</th>\n",
       "      <td>Asian</td>\n",
       "      <td>Not Hispanic or Latino</td>\n",
       "      <td>2018.0</td>\n",
       "      <td>32.0</td>\n",
       "    </tr>\n",
       "    <tr>\n",
       "      <th>4</th>\n",
       "      <td>Asian</td>\n",
       "      <td>Not Hispanic or Latino</td>\n",
       "      <td>2019.0</td>\n",
       "      <td>33.0</td>\n",
       "    </tr>\n",
       "    <tr>\n",
       "      <th>...</th>\n",
       "      <td>...</td>\n",
       "      <td>...</td>\n",
       "      <td>...</td>\n",
       "      <td>...</td>\n",
       "    </tr>\n",
       "    <tr>\n",
       "      <th>86</th>\n",
       "      <td>NaN</td>\n",
       "      <td>NaN</td>\n",
       "      <td>NaN</td>\n",
       "      <td>NaN</td>\n",
       "    </tr>\n",
       "    <tr>\n",
       "      <th>87</th>\n",
       "      <td>NaN</td>\n",
       "      <td>NaN</td>\n",
       "      <td>NaN</td>\n",
       "      <td>NaN</td>\n",
       "    </tr>\n",
       "    <tr>\n",
       "      <th>88</th>\n",
       "      <td>NaN</td>\n",
       "      <td>NaN</td>\n",
       "      <td>NaN</td>\n",
       "      <td>NaN</td>\n",
       "    </tr>\n",
       "    <tr>\n",
       "      <th>89</th>\n",
       "      <td>NaN</td>\n",
       "      <td>NaN</td>\n",
       "      <td>NaN</td>\n",
       "      <td>NaN</td>\n",
       "    </tr>\n",
       "    <tr>\n",
       "      <th>90</th>\n",
       "      <td>NaN</td>\n",
       "      <td>NaN</td>\n",
       "      <td>NaN</td>\n",
       "      <td>NaN</td>\n",
       "    </tr>\n",
       "  </tbody>\n",
       "</table>\n",
       "<p>91 rows × 4 columns</p>\n",
       "</div>"
      ],
      "text/plain": [
       "                       Single Race 6         Hispanic Origin    Year  Deaths\n",
       "0   American Indian or Alaska Native  Not Hispanic or Latino  2019.0    14.0\n",
       "1   American Indian or Alaska Native  Not Hispanic or Latino  2020.0    13.0\n",
       "2   American Indian or Alaska Native  Not Hispanic or Latino  2021.0    31.0\n",
       "3                              Asian  Not Hispanic or Latino  2018.0    32.0\n",
       "4                              Asian  Not Hispanic or Latino  2019.0    33.0\n",
       "..                               ...                     ...     ...     ...\n",
       "86                               NaN                     NaN     NaN     NaN\n",
       "87                               NaN                     NaN     NaN     NaN\n",
       "88                               NaN                     NaN     NaN     NaN\n",
       "89                               NaN                     NaN     NaN     NaN\n",
       "90                               NaN                     NaN     NaN     NaN\n",
       "\n",
       "[91 rows x 4 columns]"
      ]
     },
     "metadata": {},
     "output_type": "display_data"
    },
    {
     "data": {
      "text/html": [
       "<div>\n",
       "<style scoped>\n",
       "    .dataframe tbody tr th:only-of-type {\n",
       "        vertical-align: middle;\n",
       "    }\n",
       "\n",
       "    .dataframe tbody tr th {\n",
       "        vertical-align: top;\n",
       "    }\n",
       "\n",
       "    .dataframe thead th {\n",
       "        text-align: right;\n",
       "    }\n",
       "</style>\n",
       "<table border=\"1\" class=\"dataframe\">\n",
       "  <thead>\n",
       "    <tr style=\"text-align: right;\">\n",
       "      <th></th>\n",
       "      <th>Mother's Single Race 6</th>\n",
       "      <th>Mother's Hispanic Origin</th>\n",
       "      <th>Year</th>\n",
       "      <th>Births</th>\n",
       "    </tr>\n",
       "  </thead>\n",
       "  <tbody>\n",
       "    <tr>\n",
       "      <th>0</th>\n",
       "      <td>American Indian or Alaska Native</td>\n",
       "      <td>Hispanic or Latino</td>\n",
       "      <td>2018.0</td>\n",
       "      <td>7004.0</td>\n",
       "    </tr>\n",
       "    <tr>\n",
       "      <th>1</th>\n",
       "      <td>American Indian or Alaska Native</td>\n",
       "      <td>Hispanic or Latino</td>\n",
       "      <td>2019.0</td>\n",
       "      <td>7522.0</td>\n",
       "    </tr>\n",
       "    <tr>\n",
       "      <th>2</th>\n",
       "      <td>American Indian or Alaska Native</td>\n",
       "      <td>Hispanic or Latino</td>\n",
       "      <td>2020.0</td>\n",
       "      <td>7950.0</td>\n",
       "    </tr>\n",
       "    <tr>\n",
       "      <th>3</th>\n",
       "      <td>American Indian or Alaska Native</td>\n",
       "      <td>Hispanic or Latino</td>\n",
       "      <td>2021.0</td>\n",
       "      <td>8331.0</td>\n",
       "    </tr>\n",
       "    <tr>\n",
       "      <th>4</th>\n",
       "      <td>American Indian or Alaska Native</td>\n",
       "      <td>Hispanic or Latino</td>\n",
       "      <td>NaN</td>\n",
       "      <td>30807.0</td>\n",
       "    </tr>\n",
       "    <tr>\n",
       "      <th>...</th>\n",
       "      <td>...</td>\n",
       "      <td>...</td>\n",
       "      <td>...</td>\n",
       "      <td>...</td>\n",
       "    </tr>\n",
       "    <tr>\n",
       "      <th>119</th>\n",
       "      <td>NaN</td>\n",
       "      <td>NaN</td>\n",
       "      <td>NaN</td>\n",
       "      <td>NaN</td>\n",
       "    </tr>\n",
       "    <tr>\n",
       "      <th>120</th>\n",
       "      <td>NaN</td>\n",
       "      <td>NaN</td>\n",
       "      <td>NaN</td>\n",
       "      <td>NaN</td>\n",
       "    </tr>\n",
       "    <tr>\n",
       "      <th>121</th>\n",
       "      <td>NaN</td>\n",
       "      <td>NaN</td>\n",
       "      <td>NaN</td>\n",
       "      <td>NaN</td>\n",
       "    </tr>\n",
       "    <tr>\n",
       "      <th>122</th>\n",
       "      <td>NaN</td>\n",
       "      <td>NaN</td>\n",
       "      <td>NaN</td>\n",
       "      <td>NaN</td>\n",
       "    </tr>\n",
       "    <tr>\n",
       "      <th>123</th>\n",
       "      <td>NaN</td>\n",
       "      <td>NaN</td>\n",
       "      <td>NaN</td>\n",
       "      <td>NaN</td>\n",
       "    </tr>\n",
       "  </tbody>\n",
       "</table>\n",
       "<p>124 rows × 4 columns</p>\n",
       "</div>"
      ],
      "text/plain": [
       "               Mother's Single Race 6 Mother's Hispanic Origin    Year  \\\n",
       "0    American Indian or Alaska Native       Hispanic or Latino  2018.0   \n",
       "1    American Indian or Alaska Native       Hispanic or Latino  2019.0   \n",
       "2    American Indian or Alaska Native       Hispanic or Latino  2020.0   \n",
       "3    American Indian or Alaska Native       Hispanic or Latino  2021.0   \n",
       "4    American Indian or Alaska Native       Hispanic or Latino     NaN   \n",
       "..                                ...                      ...     ...   \n",
       "119                               NaN                      NaN     NaN   \n",
       "120                               NaN                      NaN     NaN   \n",
       "121                               NaN                      NaN     NaN   \n",
       "122                               NaN                      NaN     NaN   \n",
       "123                               NaN                      NaN     NaN   \n",
       "\n",
       "      Births  \n",
       "0     7004.0  \n",
       "1     7522.0  \n",
       "2     7950.0  \n",
       "3     8331.0  \n",
       "4    30807.0  \n",
       "..       ...  \n",
       "119      NaN  \n",
       "120      NaN  \n",
       "121      NaN  \n",
       "122      NaN  \n",
       "123      NaN  \n",
       "\n",
       "[124 rows x 4 columns]"
      ]
     },
     "metadata": {},
     "output_type": "display_data"
    }
   ],
   "source": [
    "races_deaths_df = pd.read_csv(\\\n",
    "    \"../data_csv/races-total_deaths.csv\").drop(columns=[\"Notes\", \"Single Race 6 Code\", \"Year Code\", \"Population\", \"Crude Rate\", \"Hispanic Origin Code\"])\n",
    "races_births_df = pd.read_csv(\\\n",
    "    \"../data_csv/races-total_births.csv\").drop(columns=[\"Notes\", \"Mother's Single Race 6 Code\", \"Year Code\", \"Mother's Hispanic Origin Code\"])\n",
    "\n",
    "display(races_deaths_df)\n",
    "display(races_births_df)\n"
   ]
  },
  {
   "attachments": {},
   "cell_type": "markdown",
   "metadata": {},
   "source": [
    "Clean up data"
   ]
  },
  {
   "cell_type": "code",
   "execution_count": 15,
   "metadata": {},
   "outputs": [
    {
     "data": {
      "text/html": [
       "<div>\n",
       "<style scoped>\n",
       "    .dataframe tbody tr th:only-of-type {\n",
       "        vertical-align: middle;\n",
       "    }\n",
       "\n",
       "    .dataframe tbody tr th {\n",
       "        vertical-align: top;\n",
       "    }\n",
       "\n",
       "    .dataframe thead th {\n",
       "        text-align: right;\n",
       "    }\n",
       "</style>\n",
       "<table border=\"1\" class=\"dataframe\">\n",
       "  <thead>\n",
       "    <tr style=\"text-align: right;\">\n",
       "      <th></th>\n",
       "      <th>Single Race 6</th>\n",
       "      <th>Year</th>\n",
       "      <th>Births</th>\n",
       "      <th>Deaths</th>\n",
       "    </tr>\n",
       "  </thead>\n",
       "  <tbody>\n",
       "    <tr>\n",
       "      <th>0</th>\n",
       "      <td>American Indian or Alaska Native</td>\n",
       "      <td>2019.0</td>\n",
       "      <td>28450.0</td>\n",
       "      <td>14.0</td>\n",
       "    </tr>\n",
       "    <tr>\n",
       "      <th>1</th>\n",
       "      <td>American Indian or Alaska Native</td>\n",
       "      <td>2020.0</td>\n",
       "      <td>26813.0</td>\n",
       "      <td>13.0</td>\n",
       "    </tr>\n",
       "    <tr>\n",
       "      <th>2</th>\n",
       "      <td>American Indian or Alaska Native</td>\n",
       "      <td>2021.0</td>\n",
       "      <td>26124.0</td>\n",
       "      <td>31.0</td>\n",
       "    </tr>\n",
       "    <tr>\n",
       "      <th>3</th>\n",
       "      <td>Asian</td>\n",
       "      <td>2018.0</td>\n",
       "      <td>240798.0</td>\n",
       "      <td>32.0</td>\n",
       "    </tr>\n",
       "    <tr>\n",
       "      <th>4</th>\n",
       "      <td>Asian</td>\n",
       "      <td>2019.0</td>\n",
       "      <td>238769.0</td>\n",
       "      <td>33.0</td>\n",
       "    </tr>\n",
       "    <tr>\n",
       "      <th>5</th>\n",
       "      <td>Asian</td>\n",
       "      <td>2020.0</td>\n",
       "      <td>219068.0</td>\n",
       "      <td>27.0</td>\n",
       "    </tr>\n",
       "    <tr>\n",
       "      <th>6</th>\n",
       "      <td>Asian</td>\n",
       "      <td>2021.0</td>\n",
       "      <td>213813.0</td>\n",
       "      <td>36.0</td>\n",
       "    </tr>\n",
       "    <tr>\n",
       "      <th>7</th>\n",
       "      <td>Black or African American</td>\n",
       "      <td>2018.0</td>\n",
       "      <td>552029.0</td>\n",
       "      <td>206.0</td>\n",
       "    </tr>\n",
       "    <tr>\n",
       "      <th>8</th>\n",
       "      <td>Black or African American</td>\n",
       "      <td>2019.0</td>\n",
       "      <td>548075.0</td>\n",
       "      <td>241.0</td>\n",
       "    </tr>\n",
       "    <tr>\n",
       "      <th>9</th>\n",
       "      <td>Black or African American</td>\n",
       "      <td>2020.0</td>\n",
       "      <td>529811.0</td>\n",
       "      <td>293.0</td>\n",
       "    </tr>\n",
       "    <tr>\n",
       "      <th>10</th>\n",
       "      <td>Black or African American</td>\n",
       "      <td>2021.0</td>\n",
       "      <td>517889.0</td>\n",
       "      <td>362.0</td>\n",
       "    </tr>\n",
       "    <tr>\n",
       "      <th>11</th>\n",
       "      <td>White</td>\n",
       "      <td>2018.0</td>\n",
       "      <td>1956413.0</td>\n",
       "      <td>291.0</td>\n",
       "    </tr>\n",
       "    <tr>\n",
       "      <th>12</th>\n",
       "      <td>White</td>\n",
       "      <td>2019.0</td>\n",
       "      <td>1915912.0</td>\n",
       "      <td>343.0</td>\n",
       "    </tr>\n",
       "    <tr>\n",
       "      <th>13</th>\n",
       "      <td>White</td>\n",
       "      <td>2020.0</td>\n",
       "      <td>1843432.0</td>\n",
       "      <td>352.0</td>\n",
       "    </tr>\n",
       "    <tr>\n",
       "      <th>14</th>\n",
       "      <td>White</td>\n",
       "      <td>2021.0</td>\n",
       "      <td>1887656.0</td>\n",
       "      <td>503.0</td>\n",
       "    </tr>\n",
       "    <tr>\n",
       "      <th>18</th>\n",
       "      <td>Hispanic Origin</td>\n",
       "      <td>2018</td>\n",
       "      <td>810163.0</td>\n",
       "      <td>101.0</td>\n",
       "    </tr>\n",
       "    <tr>\n",
       "      <th>19</th>\n",
       "      <td>Hispanic Origin</td>\n",
       "      <td>2019</td>\n",
       "      <td>805962.0</td>\n",
       "      <td>101.0</td>\n",
       "    </tr>\n",
       "    <tr>\n",
       "      <th>20</th>\n",
       "      <td>Hispanic Origin</td>\n",
       "      <td>2020</td>\n",
       "      <td>782525.0</td>\n",
       "      <td>145.0</td>\n",
       "    </tr>\n",
       "    <tr>\n",
       "      <th>21</th>\n",
       "      <td>Hispanic Origin</td>\n",
       "      <td>2021</td>\n",
       "      <td>850950.0</td>\n",
       "      <td>242.0</td>\n",
       "    </tr>\n",
       "  </tbody>\n",
       "</table>\n",
       "</div>"
      ],
      "text/plain": [
       "                       Single Race 6    Year     Births  Deaths\n",
       "0   American Indian or Alaska Native  2019.0    28450.0    14.0\n",
       "1   American Indian or Alaska Native  2020.0    26813.0    13.0\n",
       "2   American Indian or Alaska Native  2021.0    26124.0    31.0\n",
       "3                              Asian  2018.0   240798.0    32.0\n",
       "4                              Asian  2019.0   238769.0    33.0\n",
       "5                              Asian  2020.0   219068.0    27.0\n",
       "6                              Asian  2021.0   213813.0    36.0\n",
       "7          Black or African American  2018.0   552029.0   206.0\n",
       "8          Black or African American  2019.0   548075.0   241.0\n",
       "9          Black or African American  2020.0   529811.0   293.0\n",
       "10         Black or African American  2021.0   517889.0   362.0\n",
       "11                             White  2018.0  1956413.0   291.0\n",
       "12                             White  2019.0  1915912.0   343.0\n",
       "13                             White  2020.0  1843432.0   352.0\n",
       "14                             White  2021.0  1887656.0   503.0\n",
       "18                   Hispanic Origin    2018   810163.0   101.0\n",
       "19                   Hispanic Origin    2019   805962.0   101.0\n",
       "20                   Hispanic Origin    2020   782525.0   145.0\n",
       "21                   Hispanic Origin    2021   850950.0   242.0"
      ]
     },
     "metadata": {},
     "output_type": "display_data"
    }
   ],
   "source": [
    "# remove NaN rows\n",
    "races_deaths_df = races_deaths_df.dropna()\n",
    "races_births_df = races_births_df.dropna()\n",
    "\n",
    "# rename column so that both sets say \"Single Race 6\"\n",
    "races_births_df = races_births_df.rename(columns={\"Mother's Single Race 6\":\"Single Race 6\"})\n",
    "# rename column so that both sets say \"Hispanic Origin\"\n",
    "races_births_df = races_births_df.rename(\n",
    "    columns={\"Mother's Hispanic Origin\":\"Hispanic Origin\"})\n",
    "\n",
    "# create new df for the ratio!\n",
    "ratio_df = races_births_df.merge(races_deaths_df, on=\"Single Race 6\", how=\"left\")\n",
    "\n",
    "# match years\n",
    "ratio_df = ratio_df[ratio_df[\"Year_x\"] == ratio_df[\"Year_y\"]]\n",
    "ratio_df = ratio_df[ratio_df[\"Hispanic Origin_x\"] == ratio_df[\"Hispanic Origin_y\"]]\n",
    "\n",
    "# isolate hispanic origin rows\n",
    "hisp_df = ratio_df[ratio_df[\"Hispanic Origin_x\"] == \"Hispanic or Latino\"]\n",
    "ratio_df = ratio_df[ratio_df[\"Hispanic Origin_x\"] != \"Hispanic or Latino\"]\n",
    "\n",
    "# reset indices to start from 0\n",
    "ratio_df = ratio_df.reset_index(drop=True)\n",
    "\n",
    "# add row to include hispanic origin for year 2018\n",
    "ratio_df.loc[len(ratio_df.index)] = [\"Hispanic Origin\", \"\", \"2018\", hisp_df[hisp_df[\"Year_x\"] == 2018.0][\"Births\"].sum(), \"\", \"\", hisp_df[hisp_df[\"Year_x\"] == 2018.0][\"Deaths\"].sum()]\n",
    "\n",
    "# add row to include hispanic origin for year 2019\n",
    "ratio_df.loc[len(ratio_df.index)] = [\"Hispanic Origin\", \"\", \"2019\", hisp_df[hisp_df[\"Year_x\"] == 2019.0][\"Births\"].sum(), \"\", \"\", hisp_df[hisp_df[\"Year_x\"] == 2019.0][\"Deaths\"].sum()]\n",
    "\n",
    "# add row to include hispanic origin for year 2020\n",
    "ratio_df.loc[len(ratio_df.index)] = [\"Hispanic Origin\", \"\", \"2020\", hisp_df[hisp_df[\"Year_x\"] == 2020.0][\"Births\"].sum(), \"\", \"\", hisp_df[hisp_df[\"Year_x\"] == 2020.0][\"Deaths\"].sum()]\n",
    "\n",
    "# add row to include hispanic origin for year 2021\n",
    "ratio_df.loc[len(ratio_df.index)] = [\"Hispanic Origin\", \"\", \"2021\", hisp_df[hisp_df[\"Year_x\"] == 2021.0][\"Births\"].sum(), \"\", \"\", hisp_df[hisp_df[\"Year_x\"] == 2021.0][\"Deaths\"].sum()]\n",
    "\n",
    "# drop all extra columns\n",
    "ratio_df = ratio_df.drop(columns=[\"Hispanic Origin_x\", \"Hispanic Origin_y\", \"Year_y\"])\n",
    "\n",
    "# Rename Year column\n",
    "ratio_df = ratio_df.rename(columns={\"Year_x\":\"Year\"})\n",
    "\n",
    "# remove more than one race rows, due to data labeled as \"unreliable\"\n",
    "ratio_df = ratio_df.drop(ratio_df[ratio_df[\"Single Race 6\"] == \"More than one race\"].index, axis=0)\n",
    "# ratio_df = ratio_df.drop(ratio_df[ratio_df[\"Single Race 6\"] == \"American Indian or Alaska Native\"].index, axis=0)\n",
    "\n",
    "# consider suppressed rows as 0, since suppressed < 10\n",
    "ratio_df[\"Deaths\"] = ratio_df[\"Deaths\"].fillna(0)\n",
    "\n",
    "display(ratio_df)"
   ]
  },
  {
   "attachments": {},
   "cell_type": "markdown",
   "metadata": {},
   "source": [
    "Calculate MMR for each row"
   ]
  },
  {
   "cell_type": "code",
   "execution_count": 16,
   "metadata": {},
   "outputs": [
    {
     "data": {
      "text/html": [
       "<div>\n",
       "<style scoped>\n",
       "    .dataframe tbody tr th:only-of-type {\n",
       "        vertical-align: middle;\n",
       "    }\n",
       "\n",
       "    .dataframe tbody tr th {\n",
       "        vertical-align: top;\n",
       "    }\n",
       "\n",
       "    .dataframe thead th {\n",
       "        text-align: right;\n",
       "    }\n",
       "</style>\n",
       "<table border=\"1\" class=\"dataframe\">\n",
       "  <thead>\n",
       "    <tr style=\"text-align: right;\">\n",
       "      <th></th>\n",
       "      <th>Single Race 6</th>\n",
       "      <th>Year</th>\n",
       "      <th>Births</th>\n",
       "      <th>Deaths</th>\n",
       "      <th>MMR per 100,000 Live Births</th>\n",
       "    </tr>\n",
       "  </thead>\n",
       "  <tbody>\n",
       "    <tr>\n",
       "      <th>0</th>\n",
       "      <td>American Indian or Alaska Native</td>\n",
       "      <td>2019.0</td>\n",
       "      <td>28450.0</td>\n",
       "      <td>14.0</td>\n",
       "      <td>49.0</td>\n",
       "    </tr>\n",
       "    <tr>\n",
       "      <th>1</th>\n",
       "      <td>American Indian or Alaska Native</td>\n",
       "      <td>2020.0</td>\n",
       "      <td>26813.0</td>\n",
       "      <td>13.0</td>\n",
       "      <td>48.0</td>\n",
       "    </tr>\n",
       "    <tr>\n",
       "      <th>2</th>\n",
       "      <td>American Indian or Alaska Native</td>\n",
       "      <td>2021.0</td>\n",
       "      <td>26124.0</td>\n",
       "      <td>31.0</td>\n",
       "      <td>119.0</td>\n",
       "    </tr>\n",
       "    <tr>\n",
       "      <th>3</th>\n",
       "      <td>Asian</td>\n",
       "      <td>2018.0</td>\n",
       "      <td>240798.0</td>\n",
       "      <td>32.0</td>\n",
       "      <td>13.0</td>\n",
       "    </tr>\n",
       "    <tr>\n",
       "      <th>4</th>\n",
       "      <td>Asian</td>\n",
       "      <td>2019.0</td>\n",
       "      <td>238769.0</td>\n",
       "      <td>33.0</td>\n",
       "      <td>14.0</td>\n",
       "    </tr>\n",
       "    <tr>\n",
       "      <th>5</th>\n",
       "      <td>Asian</td>\n",
       "      <td>2020.0</td>\n",
       "      <td>219068.0</td>\n",
       "      <td>27.0</td>\n",
       "      <td>12.0</td>\n",
       "    </tr>\n",
       "    <tr>\n",
       "      <th>6</th>\n",
       "      <td>Asian</td>\n",
       "      <td>2021.0</td>\n",
       "      <td>213813.0</td>\n",
       "      <td>36.0</td>\n",
       "      <td>17.0</td>\n",
       "    </tr>\n",
       "    <tr>\n",
       "      <th>7</th>\n",
       "      <td>Black or African American</td>\n",
       "      <td>2018.0</td>\n",
       "      <td>552029.0</td>\n",
       "      <td>206.0</td>\n",
       "      <td>37.0</td>\n",
       "    </tr>\n",
       "    <tr>\n",
       "      <th>8</th>\n",
       "      <td>Black or African American</td>\n",
       "      <td>2019.0</td>\n",
       "      <td>548075.0</td>\n",
       "      <td>241.0</td>\n",
       "      <td>44.0</td>\n",
       "    </tr>\n",
       "    <tr>\n",
       "      <th>9</th>\n",
       "      <td>Black or African American</td>\n",
       "      <td>2020.0</td>\n",
       "      <td>529811.0</td>\n",
       "      <td>293.0</td>\n",
       "      <td>55.0</td>\n",
       "    </tr>\n",
       "    <tr>\n",
       "      <th>10</th>\n",
       "      <td>Black or African American</td>\n",
       "      <td>2021.0</td>\n",
       "      <td>517889.0</td>\n",
       "      <td>362.0</td>\n",
       "      <td>70.0</td>\n",
       "    </tr>\n",
       "    <tr>\n",
       "      <th>11</th>\n",
       "      <td>White</td>\n",
       "      <td>2018.0</td>\n",
       "      <td>1956413.0</td>\n",
       "      <td>291.0</td>\n",
       "      <td>15.0</td>\n",
       "    </tr>\n",
       "    <tr>\n",
       "      <th>12</th>\n",
       "      <td>White</td>\n",
       "      <td>2019.0</td>\n",
       "      <td>1915912.0</td>\n",
       "      <td>343.0</td>\n",
       "      <td>18.0</td>\n",
       "    </tr>\n",
       "    <tr>\n",
       "      <th>13</th>\n",
       "      <td>White</td>\n",
       "      <td>2020.0</td>\n",
       "      <td>1843432.0</td>\n",
       "      <td>352.0</td>\n",
       "      <td>19.0</td>\n",
       "    </tr>\n",
       "    <tr>\n",
       "      <th>14</th>\n",
       "      <td>White</td>\n",
       "      <td>2021.0</td>\n",
       "      <td>1887656.0</td>\n",
       "      <td>503.0</td>\n",
       "      <td>27.0</td>\n",
       "    </tr>\n",
       "    <tr>\n",
       "      <th>18</th>\n",
       "      <td>Hispanic Origin</td>\n",
       "      <td>2018</td>\n",
       "      <td>810163.0</td>\n",
       "      <td>101.0</td>\n",
       "      <td>12.0</td>\n",
       "    </tr>\n",
       "    <tr>\n",
       "      <th>19</th>\n",
       "      <td>Hispanic Origin</td>\n",
       "      <td>2019</td>\n",
       "      <td>805962.0</td>\n",
       "      <td>101.0</td>\n",
       "      <td>13.0</td>\n",
       "    </tr>\n",
       "    <tr>\n",
       "      <th>20</th>\n",
       "      <td>Hispanic Origin</td>\n",
       "      <td>2020</td>\n",
       "      <td>782525.0</td>\n",
       "      <td>145.0</td>\n",
       "      <td>19.0</td>\n",
       "    </tr>\n",
       "    <tr>\n",
       "      <th>21</th>\n",
       "      <td>Hispanic Origin</td>\n",
       "      <td>2021</td>\n",
       "      <td>850950.0</td>\n",
       "      <td>242.0</td>\n",
       "      <td>28.0</td>\n",
       "    </tr>\n",
       "  </tbody>\n",
       "</table>\n",
       "</div>"
      ],
      "text/plain": [
       "                       Single Race 6    Year     Births  Deaths  \\\n",
       "0   American Indian or Alaska Native  2019.0    28450.0    14.0   \n",
       "1   American Indian or Alaska Native  2020.0    26813.0    13.0   \n",
       "2   American Indian or Alaska Native  2021.0    26124.0    31.0   \n",
       "3                              Asian  2018.0   240798.0    32.0   \n",
       "4                              Asian  2019.0   238769.0    33.0   \n",
       "5                              Asian  2020.0   219068.0    27.0   \n",
       "6                              Asian  2021.0   213813.0    36.0   \n",
       "7          Black or African American  2018.0   552029.0   206.0   \n",
       "8          Black or African American  2019.0   548075.0   241.0   \n",
       "9          Black or African American  2020.0   529811.0   293.0   \n",
       "10         Black or African American  2021.0   517889.0   362.0   \n",
       "11                             White  2018.0  1956413.0   291.0   \n",
       "12                             White  2019.0  1915912.0   343.0   \n",
       "13                             White  2020.0  1843432.0   352.0   \n",
       "14                             White  2021.0  1887656.0   503.0   \n",
       "18                   Hispanic Origin    2018   810163.0   101.0   \n",
       "19                   Hispanic Origin    2019   805962.0   101.0   \n",
       "20                   Hispanic Origin    2020   782525.0   145.0   \n",
       "21                   Hispanic Origin    2021   850950.0   242.0   \n",
       "\n",
       "    MMR per 100,000 Live Births  \n",
       "0                          49.0  \n",
       "1                          48.0  \n",
       "2                         119.0  \n",
       "3                          13.0  \n",
       "4                          14.0  \n",
       "5                          12.0  \n",
       "6                          17.0  \n",
       "7                          37.0  \n",
       "8                          44.0  \n",
       "9                          55.0  \n",
       "10                         70.0  \n",
       "11                         15.0  \n",
       "12                         18.0  \n",
       "13                         19.0  \n",
       "14                         27.0  \n",
       "18                         12.0  \n",
       "19                         13.0  \n",
       "20                         19.0  \n",
       "21                         28.0  "
      ]
     },
     "metadata": {},
     "output_type": "display_data"
    }
   ],
   "source": [
    "# create column for MMR = (Deaths/Live Births * 100,000)\n",
    "ratio_df[\"MMR per 100,000 Live Births\"] = round(\n",
    "    ratio_df[\"Deaths\"] / ratio_df[\"Births\"] * 100000)\n",
    "\n",
    "display(ratio_df)"
   ]
  },
  {
   "attachments": {},
   "cell_type": "markdown",
   "metadata": {},
   "source": [
    "Create Map"
   ]
  },
  {
   "cell_type": "code",
   "execution_count": 17,
   "metadata": {},
   "outputs": [
    {
     "data": {
      "application/vnd.plotly.v1+json": {
       "config": {
        "plotlyServerURL": "https://plot.ly"
       },
       "data": [
        {
         "alignmentgroup": "True",
         "bingroup": "x",
         "histfunc": "sum",
         "hovertemplate": "Single Race 6=Asian<br>Year=%{x}<br>sum of MMR per 100,000 Live Births=%{y}<extra></extra>",
         "legendgroup": "Asian",
         "marker": {
          "color": "#DC3912",
          "pattern": {
           "shape": ""
          }
         },
         "name": "Asian",
         "offsetgroup": "Asian",
         "orientation": "v",
         "showlegend": true,
         "type": "histogram",
         "x": [
          2018,
          2019,
          2020,
          2021
         ],
         "xaxis": "x",
         "y": [
          13,
          14,
          12,
          17
         ],
         "yaxis": "y"
        },
        {
         "alignmentgroup": "True",
         "bingroup": "x",
         "histfunc": "sum",
         "hovertemplate": "Single Race 6=Hispanic Origin<br>Year=%{x}<br>sum of MMR per 100,000 Live Births=%{y}<extra></extra>",
         "legendgroup": "Hispanic Origin",
         "marker": {
          "color": "#FF9900",
          "pattern": {
           "shape": ""
          }
         },
         "name": "Hispanic Origin",
         "offsetgroup": "Hispanic Origin",
         "orientation": "v",
         "showlegend": true,
         "type": "histogram",
         "x": [
          "2018",
          "2019",
          "2020",
          "2021"
         ],
         "xaxis": "x",
         "y": [
          12,
          13,
          19,
          28
         ],
         "yaxis": "y"
        },
        {
         "alignmentgroup": "True",
         "bingroup": "x",
         "histfunc": "sum",
         "hovertemplate": "Single Race 6=White<br>Year=%{x}<br>sum of MMR per 100,000 Live Births=%{y}<extra></extra>",
         "legendgroup": "White",
         "marker": {
          "color": "#109618",
          "pattern": {
           "shape": ""
          }
         },
         "name": "White",
         "offsetgroup": "White",
         "orientation": "v",
         "showlegend": true,
         "type": "histogram",
         "x": [
          2018,
          2019,
          2020,
          2021
         ],
         "xaxis": "x",
         "y": [
          15,
          18,
          19,
          27
         ],
         "yaxis": "y"
        },
        {
         "alignmentgroup": "True",
         "bingroup": "x",
         "histfunc": "sum",
         "hovertemplate": "Single Race 6=Black or African American<br>Year=%{x}<br>sum of MMR per 100,000 Live Births=%{y}<extra></extra>",
         "legendgroup": "Black or African American",
         "marker": {
          "color": "#990099",
          "pattern": {
           "shape": ""
          }
         },
         "name": "Black or African American",
         "offsetgroup": "Black or African American",
         "orientation": "v",
         "showlegend": true,
         "type": "histogram",
         "x": [
          2018,
          2019,
          2020,
          2021
         ],
         "xaxis": "x",
         "y": [
          37,
          44,
          55,
          70
         ],
         "yaxis": "y"
        },
        {
         "alignmentgroup": "True",
         "bingroup": "x",
         "histfunc": "sum",
         "hovertemplate": "Single Race 6=American Indian or Alaska Native<br>Year=%{x}<br>sum of MMR per 100,000 Live Births=%{y}<extra></extra>",
         "legendgroup": "American Indian or Alaska Native",
         "marker": {
          "color": "#0099C6",
          "pattern": {
           "shape": ""
          }
         },
         "name": "American Indian or Alaska Native",
         "offsetgroup": "American Indian or Alaska Native",
         "orientation": "v",
         "showlegend": true,
         "type": "histogram",
         "x": [
          2019,
          2020,
          2021
         ],
         "xaxis": "x",
         "y": [
          49,
          48,
          119
         ],
         "yaxis": "y"
        }
       ],
       "layout": {
        "barmode": "group",
        "height": 400,
        "legend": {
         "title": {
          "text": "Single Race 6"
         },
         "tracegroupgap": 0
        },
        "margin": {
         "t": 60
        },
        "template": {
         "data": {
          "bar": [
           {
            "error_x": {
             "color": "#2a3f5f"
            },
            "error_y": {
             "color": "#2a3f5f"
            },
            "marker": {
             "line": {
              "color": "#E5ECF6",
              "width": 0.5
             },
             "pattern": {
              "fillmode": "overlay",
              "size": 10,
              "solidity": 0.2
             }
            },
            "type": "bar"
           }
          ],
          "barpolar": [
           {
            "marker": {
             "line": {
              "color": "#E5ECF6",
              "width": 0.5
             },
             "pattern": {
              "fillmode": "overlay",
              "size": 10,
              "solidity": 0.2
             }
            },
            "type": "barpolar"
           }
          ],
          "carpet": [
           {
            "aaxis": {
             "endlinecolor": "#2a3f5f",
             "gridcolor": "white",
             "linecolor": "white",
             "minorgridcolor": "white",
             "startlinecolor": "#2a3f5f"
            },
            "baxis": {
             "endlinecolor": "#2a3f5f",
             "gridcolor": "white",
             "linecolor": "white",
             "minorgridcolor": "white",
             "startlinecolor": "#2a3f5f"
            },
            "type": "carpet"
           }
          ],
          "choropleth": [
           {
            "colorbar": {
             "outlinewidth": 0,
             "ticks": ""
            },
            "type": "choropleth"
           }
          ],
          "contour": [
           {
            "colorbar": {
             "outlinewidth": 0,
             "ticks": ""
            },
            "colorscale": [
             [
              0,
              "#0d0887"
             ],
             [
              0.1111111111111111,
              "#46039f"
             ],
             [
              0.2222222222222222,
              "#7201a8"
             ],
             [
              0.3333333333333333,
              "#9c179e"
             ],
             [
              0.4444444444444444,
              "#bd3786"
             ],
             [
              0.5555555555555556,
              "#d8576b"
             ],
             [
              0.6666666666666666,
              "#ed7953"
             ],
             [
              0.7777777777777778,
              "#fb9f3a"
             ],
             [
              0.8888888888888888,
              "#fdca26"
             ],
             [
              1,
              "#f0f921"
             ]
            ],
            "type": "contour"
           }
          ],
          "contourcarpet": [
           {
            "colorbar": {
             "outlinewidth": 0,
             "ticks": ""
            },
            "type": "contourcarpet"
           }
          ],
          "heatmap": [
           {
            "colorbar": {
             "outlinewidth": 0,
             "ticks": ""
            },
            "colorscale": [
             [
              0,
              "#0d0887"
             ],
             [
              0.1111111111111111,
              "#46039f"
             ],
             [
              0.2222222222222222,
              "#7201a8"
             ],
             [
              0.3333333333333333,
              "#9c179e"
             ],
             [
              0.4444444444444444,
              "#bd3786"
             ],
             [
              0.5555555555555556,
              "#d8576b"
             ],
             [
              0.6666666666666666,
              "#ed7953"
             ],
             [
              0.7777777777777778,
              "#fb9f3a"
             ],
             [
              0.8888888888888888,
              "#fdca26"
             ],
             [
              1,
              "#f0f921"
             ]
            ],
            "type": "heatmap"
           }
          ],
          "heatmapgl": [
           {
            "colorbar": {
             "outlinewidth": 0,
             "ticks": ""
            },
            "colorscale": [
             [
              0,
              "#0d0887"
             ],
             [
              0.1111111111111111,
              "#46039f"
             ],
             [
              0.2222222222222222,
              "#7201a8"
             ],
             [
              0.3333333333333333,
              "#9c179e"
             ],
             [
              0.4444444444444444,
              "#bd3786"
             ],
             [
              0.5555555555555556,
              "#d8576b"
             ],
             [
              0.6666666666666666,
              "#ed7953"
             ],
             [
              0.7777777777777778,
              "#fb9f3a"
             ],
             [
              0.8888888888888888,
              "#fdca26"
             ],
             [
              1,
              "#f0f921"
             ]
            ],
            "type": "heatmapgl"
           }
          ],
          "histogram": [
           {
            "marker": {
             "pattern": {
              "fillmode": "overlay",
              "size": 10,
              "solidity": 0.2
             }
            },
            "type": "histogram"
           }
          ],
          "histogram2d": [
           {
            "colorbar": {
             "outlinewidth": 0,
             "ticks": ""
            },
            "colorscale": [
             [
              0,
              "#0d0887"
             ],
             [
              0.1111111111111111,
              "#46039f"
             ],
             [
              0.2222222222222222,
              "#7201a8"
             ],
             [
              0.3333333333333333,
              "#9c179e"
             ],
             [
              0.4444444444444444,
              "#bd3786"
             ],
             [
              0.5555555555555556,
              "#d8576b"
             ],
             [
              0.6666666666666666,
              "#ed7953"
             ],
             [
              0.7777777777777778,
              "#fb9f3a"
             ],
             [
              0.8888888888888888,
              "#fdca26"
             ],
             [
              1,
              "#f0f921"
             ]
            ],
            "type": "histogram2d"
           }
          ],
          "histogram2dcontour": [
           {
            "colorbar": {
             "outlinewidth": 0,
             "ticks": ""
            },
            "colorscale": [
             [
              0,
              "#0d0887"
             ],
             [
              0.1111111111111111,
              "#46039f"
             ],
             [
              0.2222222222222222,
              "#7201a8"
             ],
             [
              0.3333333333333333,
              "#9c179e"
             ],
             [
              0.4444444444444444,
              "#bd3786"
             ],
             [
              0.5555555555555556,
              "#d8576b"
             ],
             [
              0.6666666666666666,
              "#ed7953"
             ],
             [
              0.7777777777777778,
              "#fb9f3a"
             ],
             [
              0.8888888888888888,
              "#fdca26"
             ],
             [
              1,
              "#f0f921"
             ]
            ],
            "type": "histogram2dcontour"
           }
          ],
          "mesh3d": [
           {
            "colorbar": {
             "outlinewidth": 0,
             "ticks": ""
            },
            "type": "mesh3d"
           }
          ],
          "parcoords": [
           {
            "line": {
             "colorbar": {
              "outlinewidth": 0,
              "ticks": ""
             }
            },
            "type": "parcoords"
           }
          ],
          "pie": [
           {
            "automargin": true,
            "type": "pie"
           }
          ],
          "scatter": [
           {
            "fillpattern": {
             "fillmode": "overlay",
             "size": 10,
             "solidity": 0.2
            },
            "type": "scatter"
           }
          ],
          "scatter3d": [
           {
            "line": {
             "colorbar": {
              "outlinewidth": 0,
              "ticks": ""
             }
            },
            "marker": {
             "colorbar": {
              "outlinewidth": 0,
              "ticks": ""
             }
            },
            "type": "scatter3d"
           }
          ],
          "scattercarpet": [
           {
            "marker": {
             "colorbar": {
              "outlinewidth": 0,
              "ticks": ""
             }
            },
            "type": "scattercarpet"
           }
          ],
          "scattergeo": [
           {
            "marker": {
             "colorbar": {
              "outlinewidth": 0,
              "ticks": ""
             }
            },
            "type": "scattergeo"
           }
          ],
          "scattergl": [
           {
            "marker": {
             "colorbar": {
              "outlinewidth": 0,
              "ticks": ""
             }
            },
            "type": "scattergl"
           }
          ],
          "scattermapbox": [
           {
            "marker": {
             "colorbar": {
              "outlinewidth": 0,
              "ticks": ""
             }
            },
            "type": "scattermapbox"
           }
          ],
          "scatterpolar": [
           {
            "marker": {
             "colorbar": {
              "outlinewidth": 0,
              "ticks": ""
             }
            },
            "type": "scatterpolar"
           }
          ],
          "scatterpolargl": [
           {
            "marker": {
             "colorbar": {
              "outlinewidth": 0,
              "ticks": ""
             }
            },
            "type": "scatterpolargl"
           }
          ],
          "scatterternary": [
           {
            "marker": {
             "colorbar": {
              "outlinewidth": 0,
              "ticks": ""
             }
            },
            "type": "scatterternary"
           }
          ],
          "surface": [
           {
            "colorbar": {
             "outlinewidth": 0,
             "ticks": ""
            },
            "colorscale": [
             [
              0,
              "#0d0887"
             ],
             [
              0.1111111111111111,
              "#46039f"
             ],
             [
              0.2222222222222222,
              "#7201a8"
             ],
             [
              0.3333333333333333,
              "#9c179e"
             ],
             [
              0.4444444444444444,
              "#bd3786"
             ],
             [
              0.5555555555555556,
              "#d8576b"
             ],
             [
              0.6666666666666666,
              "#ed7953"
             ],
             [
              0.7777777777777778,
              "#fb9f3a"
             ],
             [
              0.8888888888888888,
              "#fdca26"
             ],
             [
              1,
              "#f0f921"
             ]
            ],
            "type": "surface"
           }
          ],
          "table": [
           {
            "cells": {
             "fill": {
              "color": "#EBF0F8"
             },
             "line": {
              "color": "white"
             }
            },
            "header": {
             "fill": {
              "color": "#C8D4E3"
             },
             "line": {
              "color": "white"
             }
            },
            "type": "table"
           }
          ]
         },
         "layout": {
          "annotationdefaults": {
           "arrowcolor": "#2a3f5f",
           "arrowhead": 0,
           "arrowwidth": 1
          },
          "autotypenumbers": "strict",
          "coloraxis": {
           "colorbar": {
            "outlinewidth": 0,
            "ticks": ""
           }
          },
          "colorscale": {
           "diverging": [
            [
             0,
             "#8e0152"
            ],
            [
             0.1,
             "#c51b7d"
            ],
            [
             0.2,
             "#de77ae"
            ],
            [
             0.3,
             "#f1b6da"
            ],
            [
             0.4,
             "#fde0ef"
            ],
            [
             0.5,
             "#f7f7f7"
            ],
            [
             0.6,
             "#e6f5d0"
            ],
            [
             0.7,
             "#b8e186"
            ],
            [
             0.8,
             "#7fbc41"
            ],
            [
             0.9,
             "#4d9221"
            ],
            [
             1,
             "#276419"
            ]
           ],
           "sequential": [
            [
             0,
             "#0d0887"
            ],
            [
             0.1111111111111111,
             "#46039f"
            ],
            [
             0.2222222222222222,
             "#7201a8"
            ],
            [
             0.3333333333333333,
             "#9c179e"
            ],
            [
             0.4444444444444444,
             "#bd3786"
            ],
            [
             0.5555555555555556,
             "#d8576b"
            ],
            [
             0.6666666666666666,
             "#ed7953"
            ],
            [
             0.7777777777777778,
             "#fb9f3a"
            ],
            [
             0.8888888888888888,
             "#fdca26"
            ],
            [
             1,
             "#f0f921"
            ]
           ],
           "sequentialminus": [
            [
             0,
             "#0d0887"
            ],
            [
             0.1111111111111111,
             "#46039f"
            ],
            [
             0.2222222222222222,
             "#7201a8"
            ],
            [
             0.3333333333333333,
             "#9c179e"
            ],
            [
             0.4444444444444444,
             "#bd3786"
            ],
            [
             0.5555555555555556,
             "#d8576b"
            ],
            [
             0.6666666666666666,
             "#ed7953"
            ],
            [
             0.7777777777777778,
             "#fb9f3a"
            ],
            [
             0.8888888888888888,
             "#fdca26"
            ],
            [
             1,
             "#f0f921"
            ]
           ]
          },
          "colorway": [
           "#636efa",
           "#EF553B",
           "#00cc96",
           "#ab63fa",
           "#FFA15A",
           "#19d3f3",
           "#FF6692",
           "#B6E880",
           "#FF97FF",
           "#FECB52"
          ],
          "font": {
           "color": "#2a3f5f"
          },
          "geo": {
           "bgcolor": "white",
           "lakecolor": "white",
           "landcolor": "#E5ECF6",
           "showlakes": true,
           "showland": true,
           "subunitcolor": "white"
          },
          "hoverlabel": {
           "align": "left"
          },
          "hovermode": "closest",
          "mapbox": {
           "style": "light"
          },
          "paper_bgcolor": "white",
          "plot_bgcolor": "#E5ECF6",
          "polar": {
           "angularaxis": {
            "gridcolor": "white",
            "linecolor": "white",
            "ticks": ""
           },
           "bgcolor": "#E5ECF6",
           "radialaxis": {
            "gridcolor": "white",
            "linecolor": "white",
            "ticks": ""
           }
          },
          "scene": {
           "xaxis": {
            "backgroundcolor": "#E5ECF6",
            "gridcolor": "white",
            "gridwidth": 2,
            "linecolor": "white",
            "showbackground": true,
            "ticks": "",
            "zerolinecolor": "white"
           },
           "yaxis": {
            "backgroundcolor": "#E5ECF6",
            "gridcolor": "white",
            "gridwidth": 2,
            "linecolor": "white",
            "showbackground": true,
            "ticks": "",
            "zerolinecolor": "white"
           },
           "zaxis": {
            "backgroundcolor": "#E5ECF6",
            "gridcolor": "white",
            "gridwidth": 2,
            "linecolor": "white",
            "showbackground": true,
            "ticks": "",
            "zerolinecolor": "white"
           }
          },
          "shapedefaults": {
           "line": {
            "color": "#2a3f5f"
           }
          },
          "ternary": {
           "aaxis": {
            "gridcolor": "white",
            "linecolor": "white",
            "ticks": ""
           },
           "baxis": {
            "gridcolor": "white",
            "linecolor": "white",
            "ticks": ""
           },
           "bgcolor": "#E5ECF6",
           "caxis": {
            "gridcolor": "white",
            "linecolor": "white",
            "ticks": ""
           }
          },
          "title": {
           "x": 0.05
          },
          "xaxis": {
           "automargin": true,
           "gridcolor": "white",
           "linecolor": "white",
           "ticks": "",
           "title": {
            "standoff": 15
           },
           "zerolinecolor": "white",
           "zerolinewidth": 2
          },
          "yaxis": {
           "automargin": true,
           "gridcolor": "white",
           "linecolor": "white",
           "ticks": "",
           "title": {
            "standoff": 15
           },
           "zerolinecolor": "white",
           "zerolinewidth": 2
          }
         }
        },
        "width": 800,
        "xaxis": {
         "anchor": "y",
         "domain": [
          0,
          1
         ],
         "title": {
          "text": "Year"
         }
        },
        "yaxis": {
         "anchor": "x",
         "domain": [
          0,
          1
         ],
         "title": {
          "text": "sum of MMR per 100,000 Live Births"
         }
        }
       }
      }
     },
     "metadata": {},
     "output_type": "display_data"
    }
   ],
   "source": [
    "fig = px.histogram(ratio_df, x=\"Year\", y=\"MMR per 100,000 Live Births\",\n",
    "                   color='Single Race 6', barmode='group',\n",
    "                   category_orders={\"Single Race 6\":[\"More than one race\", \"Asian\", \"Hispanic Origin\", \"White\", \"Black or African American\", \"American Indian or Alaska Native\"]},\n",
    "                   color_discrete_sequence=px.colors.qualitative.G10,\n",
    "                   height=400, width=800)\n",
    "fig.show()\n",
    "# should I include all the races even if there is a year missing?\n",
    "# should I label each bar individually?\n",
    "# should I include AINA group because their crude rates were labeled unreliable for years before 2021"
   ]
  }
 ],
 "metadata": {
  "kernelspec": {
   "display_name": "Python 3",
   "language": "python",
   "name": "python3"
  },
  "language_info": {
   "codemirror_mode": {
    "name": "ipython",
    "version": 3
   },
   "file_extension": ".py",
   "mimetype": "text/x-python",
   "name": "python",
   "nbconvert_exporter": "python",
   "pygments_lexer": "ipython3",
   "version": "3.9.16"
  },
  "orig_nbformat": 4
 },
 "nbformat": 4,
 "nbformat_minor": 2
}
