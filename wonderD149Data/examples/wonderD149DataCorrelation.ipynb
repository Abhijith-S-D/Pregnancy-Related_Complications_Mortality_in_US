{
 "cells": [
  {
   "attachments": {},
   "cell_type": "markdown",
   "metadata": {},
   "source": [
    "# An Example of using WonderD149Data package to extract data correlation from Natality, 2016-2021 expanded database by CDC"
   ]
  },
  {
   "attachments": {},
   "cell_type": "markdown",
   "metadata": {},
   "source": [
    "First adding the package to sys path."
   ]
  },
  {
   "cell_type": "code",
   "execution_count": 3,
   "metadata": {},
   "outputs": [],
   "source": [
    "import sys\n",
    "sys.path.append('../src')"
   ]
  },
  {
   "attachments": {},
   "cell_type": "markdown",
   "metadata": {},
   "source": [
    "Now importing helper from the package to investigate all required options"
   ]
  },
  {
   "cell_type": "code",
   "execution_count": 4,
   "metadata": {},
   "outputs": [],
   "source": [
    "import wonderD149Data.data.helper as hp\n",
    "import wonderD149Data.wonderD149Data as wd"
   ]
  },
  {
   "attachments": {},
   "cell_type": "markdown",
   "metadata": {},
   "source": [
    "Listing all columns"
   ]
  },
  {
   "cell_type": "code",
   "execution_count": 5,
   "metadata": {},
   "outputs": [
    {
     "data": {
      "text/plain": [
       "{'D149.V60': 'Interval Since Last Live Birth',\n",
       " 'D149.V61': 'Interval Since Last Other Pregnancy Outcome',\n",
       " 'D149.V62': 'Interval of Last Pregnancy',\n",
       " 'D149.V151': 'Prior Births Now Living',\n",
       " 'D149.V152': 'Prior Births Now Dead',\n",
       " 'D149.V153': 'Prior Other Pregnancy Outcomes',\n",
       " 'D149.V28': 'Live Birth Order',\n",
       " 'D149.V59': 'Total Birth Order',\n",
       " 'D149.V66': 'WIC',\n",
       " 'D149.V89': 'Successful External Cephalic Version',\n",
       " 'D149.V90': 'Failed External Cephalic Version',\n",
       " 'D149.V65': 'Number of Prenatal Visits Recode',\n",
       " 'D149.V64': 'SNumber of Prenatal Visits',\n",
       " 'D149.V63': 'Trimester Prenatal Care Began',\n",
       " 'D149.V8': 'Month Prenatal Care Began',\n",
       " 'D149.V74': 'Pre-pregnancy Diabetes',\n",
       " 'D149.V75': 'Gestational Diabetes',\n",
       " 'D149.V16': 'Pre-pregnancy Hypertension',\n",
       " 'D149.V17': 'Gestational Hypertension',\n",
       " 'D149.V18': 'Eclampsia',\n",
       " 'D149.V76': 'Previous Preterm Birth',\n",
       " 'D149.V77': 'Infertility Treatment Used',\n",
       " 'D149.V78': 'Fertility Enhancing Drugs',\n",
       " 'D149.V79': 'Assistive Reproductive Technology',\n",
       " 'D149.V80': 'Previous Cesarean Delivery',\n",
       " 'D149.V81': 'Number of Previous Cesareans',\n",
       " 'D149.V82': 'Risk Factors Checked',\n",
       " 'D149.V32': 'OE Gestational Age Recode 10',\n",
       " 'D149.V33': 'OE Gestational Age Recode 11',\n",
       " 'D149.V34': 'OE Gestational Age Weekly',\n",
       " 'D149.V6': 'LMP Gestational Recode 10',\n",
       " 'D149.V23': 'LMP Gestational Recode 11',\n",
       " 'D149.V24': 'LMP Gestational Age Weekly',\n",
       " 'D149.V3': 'Sex of Infant',\n",
       " 'D149.V7': 'Plurality',\n",
       " 'D149.V115': 'Set Order',\n",
       " 'D149.V9': 'Infant Birth Weight 12',\n",
       " 'D149.V35': 'Infant Birth Weight 14',\n",
       " 'D149.V41': 'Infant Birth Weight 100 gram increments',\n",
       " 'D149.V111': 'Five Minute APGAR Score',\n",
       " 'D149.V112': 'Five Minute APGAR Score Recode',\n",
       " 'D149.V113': 'Ten Minute APGAR Score',\n",
       " 'D149.V114': 'Ten Minute APGAR Score Recode',\n",
       " 'D149.V136': 'Infant Transferred',\n",
       " 'D149.V137': 'Infant Living at Time of Report',\n",
       " 'D149.V138': 'Infant Breastfed at Discharge',\n",
       " 'D149.V54': \"Father's Single Race 6\",\n",
       " 'D149.V55': \"Father's Single Race 15\",\n",
       " 'D149.V56': \"Father's Single/Multi Race 31\",\n",
       " 'D149.V53': \"Father's Hispanic Origin\",\n",
       " 'D149.V52': \"Father's Expanded Hispanic Origin\",\n",
       " 'D149.V57': 'Age of Father',\n",
       " 'D149.V58': \"Father's Education\",\n",
       " 'D149.V91': 'Induction of Labor',\n",
       " 'D149.V92': 'Augmentation of Labor',\n",
       " 'D149.V93': 'Steroids',\n",
       " 'D149.V94': 'Antibiotics for Mother',\n",
       " 'D149.V95': 'Chorioamnionitis',\n",
       " 'D149.V96': 'Anesthesia',\n",
       " 'D149.V97': 'Characteristics of Labor Checked',\n",
       " 'D149.V102': 'Maternal Transfusion',\n",
       " 'D149.V103': 'Perineal Laceration',\n",
       " 'D149.V104': 'Ruptured Uterus',\n",
       " 'D149.V105': 'Unplanned Hysterectomy',\n",
       " 'D149.V106': 'Admission to Intensive Care Unit',\n",
       " 'D149.V107': 'Maternal Morbidity Checked',\n",
       " 'D149.V116': 'Assisted Ventilation',\n",
       " 'D149.V117': 'Assisted Ventilation > 6 hrs',\n",
       " 'D149.V118': 'NICU Admission',\n",
       " 'D149.V119': 'Surfactant Replacement Therapy',\n",
       " 'D149.V120': 'Antibiotics for Suspected Neonatal Sepsis',\n",
       " 'D149.V121': 'Seizures',\n",
       " 'D149.V122': 'Abnormal Conditions Checked',\n",
       " 'D149.V20': 'Year',\n",
       " 'D149.V25': 'Month',\n",
       " 'D149.V26': 'Weekday',\n",
       " 'D149.V44': 'Time of Day',\n",
       " 'D149.V45': 'Birthplace',\n",
       " 'D149.V30': 'Birthplace Recode 6',\n",
       " 'D149.V46': 'Birthplace Recode 3',\n",
       " 'D149.V29': 'Medical Attendant',\n",
       " 'D149.V108': 'Mother Transferred',\n",
       " 'D149.V98': 'Fetal Presentation',\n",
       " 'D149.V99': 'Final Route and Delivery Method',\n",
       " 'D149.V101': 'Delivery Method Expanded',\n",
       " 'D149.V31': 'Delivery Method',\n",
       " 'D149.V100': 'Trial of Labor Attempted (if cesarean)',\n",
       " 'D149.V110': 'Source of Payment for Delivery',\n",
       " 'D149.V109': 'Source of Payment for Delivery Expanded',\n",
       " 'D149.V154': '2013 Metro/Nonmetro',\n",
       " 'D149.V155': '2006 Metro/Nonmetro',\n",
       " 'D149.V156': '2006 Urbanization',\n",
       " 'D149.V123': 'Anencephaly',\n",
       " 'D149.V124': 'Meningomyelocele / Spina Bifida',\n",
       " 'D149.V125': 'Cyanotic Congenital Heart Disease',\n",
       " 'D149.V126': 'Congenital Diaphragmatic Hernia',\n",
       " 'D149.V127': 'Omphalocele',\n",
       " 'D149.V128': 'Gastroschisis',\n",
       " 'D149.V129': 'Limb Reduction Defect',\n",
       " 'D149.V130': 'Cleft Lip with or without Cleft Palate',\n",
       " 'D149.V131': 'Cleft Palate Alone',\n",
       " 'D149.V132': 'Down Syndrome',\n",
       " 'D149.V133': 'Suspected Chromosomal Disorder',\n",
       " 'D149.V134': 'Hypospadias',\n",
       " 'D149.V135': 'Congenital Anomalies Checked',\n",
       " 'D149.V70': \"Mother's Height in Inches\",\n",
       " 'D149.V71': \"Mother's Pre-pregnancy BMI\",\n",
       " 'D149.V73': \"Mother's Weight Gain Recode\",\n",
       " 'D149.V149': \"Mother's Pre-pregnancy Weight\",\n",
       " 'D149.V150': \"Mother's Delivery Weight\",\n",
       " 'D149.V10': 'Tobacco Use',\n",
       " 'D149.V143': 'Number of Cigarettes Before Pregnancy Recode',\n",
       " 'D149.V144': 'Number of Cigarettes 1st Trimester Recode',\n",
       " 'D149.V140': 'Number of Cigarettes 1st Trimester',\n",
       " 'D149.V145': 'Number of Cigarettes 2nd Trimester Recode',\n",
       " 'D149.V141': 'Number of Cigarettes 2nd Trimester',\n",
       " 'D149.V146': 'Number of Cigarettes 3rd Trimester Recode',\n",
       " 'D149.V142': 'Number of Cigarettes 3rd Trimester',\n",
       " 'D149.V83': 'Gonorrhea',\n",
       " 'D149.V84': 'Syphilis',\n",
       " 'D149.V85': 'Chlamydia',\n",
       " 'D149.V86': 'Hepatitis B',\n",
       " 'D149.V87': 'Hepatitis C',\n",
       " 'D149.V88': 'Infections Checked',\n",
       " 'D149.V42': \"Mother's Single Race 6\",\n",
       " 'D149.V49': \"Mother's Single Race 15\",\n",
       " 'D149.V50': \"Mother's Single/Multi Race 31\",\n",
       " 'D149.V43': \"Mother's Hispanic Origin\",\n",
       " 'D149.V4': \"Mother's Expanded Hispanic Origin\",\n",
       " 'D149.V1': 'Age of Mother 9',\n",
       " 'D149.V38': 'Age of Mother 13',\n",
       " 'D149.V5': \"Mother's Education\",\n",
       " 'D149.V27': 'Marital Status',\n",
       " 'D149.V51': 'Paternity Acknowledgment (if mother unmarried)',\n",
       " 'D149.V48': \"Mother's Nativity\",\n",
       " 'D149.V147': \"Mother's Birth Country\",\n",
       " 'D149.V47': \"Mother's Birth State\"}"
      ]
     },
     "execution_count": 5,
     "metadata": {},
     "output_type": "execute_result"
    }
   ],
   "source": [
    "categories = hp.getGroupByCategories()\n",
    "list_of_codes = [hp.getCodeDetailsForGivenCategory(category) for category in hp.getGroupByCategories()]\n",
    "columns = {}\n",
    "for ele in list_of_codes:\n",
    "    columns = {**columns,**ele}\n",
    "\n",
    "columns"
   ]
  },
  {
   "attachments": {},
   "cell_type": "markdown",
   "metadata": {},
   "source": [
    "checking all possible measures"
   ]
  },
  {
   "cell_type": "code",
   "execution_count": 7,
   "metadata": {},
   "outputs": [
    {
     "data": {
      "text/plain": [
       "{'M_002': {'D149.M002': 'Births'},\n",
       " 'M_007': {'D149.M007': 'Percent of Total Births'},\n",
       " 'M_070': {'D149.M070': 'Average Age of Mother (years)'},\n",
       " 'M_071': {'D149.M071': 'Average Age of Mother (years) Standard Deviation'},\n",
       " 'M_080': {'D149.M080': 'Average OE Gestational Age (weeks)'},\n",
       " 'M_081': {'D149.M081': 'Average OE Gestational Age (weeks) Standard Deviation'},\n",
       " 'M_090': {'D149.M091': 'Average LMP Gestational Age (weeks)'},\n",
       " 'M_091': {'D149.M091': 'Average LMP Gestational Age (weeks) Standard Deviation'},\n",
       " 'M_095': {'D149.M095': 'Average Birth Weight (grams)'},\n",
       " 'M_096': {'D149.M096': 'Average Birth Weight (grams) Standard Deviation'},\n",
       " 'M_100': {'D149.M100': 'Average Pre-pregnancy BMI'},\n",
       " 'M_101': {'D149.M101': 'Average Pre-pregnancy BMI Standard Deviation'},\n",
       " 'M_110': {'D149.M110': 'Average Number of Prenatal Visits'},\n",
       " 'M_111': {'D149.M111': 'Average Number of Prenatal Visits Standard Deviation'},\n",
       " 'M_120': {'D149.M120': 'Average Interval Since Last Live Birth (months)'},\n",
       " 'M_121': {'D149.M121': 'Average Interval Since Last Live Birth (months) Standard Deviation'},\n",
       " 'M_130': {'D149.M130': 'Average Interval Since Last Other Pregnancy Outcome (months)'},\n",
       " 'M_131': {'D149.M130': 'Average Interval Since Last Other Pregnancy Outcome (months) Standard Deviation'}}"
      ]
     },
     "execution_count": 7,
     "metadata": {},
     "output_type": "execute_result"
    }
   ],
   "source": [
    "hp.getMeasureCodesAndDescription()"
   ]
  },
  {
   "attachments": {},
   "cell_type": "markdown",
   "metadata": {},
   "source": [
    "Creating all query params for getting data"
   ]
  },
  {
   "cell_type": "code",
   "execution_count": 8,
   "metadata": {},
   "outputs": [],
   "source": [
    "measure_selection = {\n",
    "    'M_002': 'D149.M002', # Births\n",
    "}\n",
    "observation_selection = {}\n",
    "variable_filter = {\n",
    "    # 'V_D149.V31': ['1','2'] # filtering only stated deliveries\n",
    "}"
   ]
  },
  {
   "attachments": {},
   "cell_type": "markdown",
   "metadata": {},
   "source": [
    "creating wonderD149Data Object and getting data"
   ]
  },
  {
   "cell_type": "code",
   "execution_count": 12,
   "metadata": {},
   "outputs": [
    {
     "name": "stdout",
     "output_type": "stream",
     "text": [
      "Interval Since Last Live Birth done\n",
      "Interval Since Last Other Pregnancy Outcome done\n",
      "Interval of Last Pregnancy done\n",
      "Prior Births Now Living done\n",
      "Prior Births Now Dead done\n",
      "Prior Other Pregnancy Outcomes done\n",
      "Live Birth Order done\n",
      "Total Birth Order done\n",
      "WIC done\n",
      "Successful External Cephalic Version done\n",
      "Failed External Cephalic Version done\n",
      "Number of Prenatal Visits Recode done\n",
      "SNumber of Prenatal Visits done\n",
      "Trimester Prenatal Care Began done\n",
      "Month Prenatal Care Began done\n",
      "Pre-pregnancy Diabetes done\n",
      "Gestational Diabetes done\n",
      "Pre-pregnancy Hypertension done\n",
      "Gestational Hypertension done\n",
      "Eclampsia done\n",
      "Previous Preterm Birth done\n",
      "Infertility Treatment Used done\n",
      "Fertility Enhancing Drugs done\n",
      "Assistive Reproductive Technology done\n",
      "Previous Cesarean Delivery done\n",
      "Number of Previous Cesareans done\n",
      "Risk Factors Checked done\n",
      "OE Gestational Age Recode 10 done\n",
      "OE Gestational Age Recode 11 done\n",
      "OE Gestational Age Weekly done\n",
      "LMP Gestational Recode 10 done\n",
      "LMP Gestational Recode 11 done\n",
      "LMP Gestational Age Weekly done\n",
      "Sex of Infant done\n",
      "Plurality done\n",
      "Set Order done\n",
      "Infant Birth Weight 12 done\n",
      "Infant Birth Weight 14 done\n",
      "Infant Birth Weight 100 gram increments done\n",
      "Five Minute APGAR Score done\n",
      "Five Minute APGAR Score Recode done\n",
      "Ten Minute APGAR Score done\n",
      "Ten Minute APGAR Score Recode done\n",
      "Infant Transferred done\n",
      "Infant Living at Time of Report done\n",
      "Infant Breastfed at Discharge done\n",
      "Father's Single Race 6 done\n",
      "Father's Single Race 15 done\n",
      "Father's Single/Multi Race 31 done\n",
      "Father's Hispanic Origin done\n",
      "Father's Expanded Hispanic Origin done\n",
      "Age of Father done\n",
      "Father's Education done\n",
      "Induction of Labor done\n",
      "Augmentation of Labor done\n",
      "Steroids done\n",
      "Antibiotics for Mother done\n",
      "Chorioamnionitis done\n",
      "Anesthesia done\n",
      "Characteristics of Labor Checked done\n",
      "Maternal Transfusion done\n",
      "Perineal Laceration done\n",
      "Ruptured Uterus done\n",
      "Unplanned Hysterectomy done\n",
      "Admission to Intensive Care Unit done\n",
      "Maternal Morbidity Checked done\n",
      "Assisted Ventilation done\n",
      "Assisted Ventilation > 6 hrs done\n",
      "NICU Admission done\n",
      "Surfactant Replacement Therapy done\n",
      "Antibiotics for Suspected Neonatal Sepsis done\n",
      "Seizures done\n",
      "Abnormal Conditions Checked done\n",
      "Year done\n",
      "Month done\n",
      "Weekday done\n",
      "Time of Day done\n",
      "Birthplace done\n",
      "Birthplace Recode 6 done\n",
      "Birthplace Recode 3 done\n",
      "Medical Attendant done\n",
      "Mother Transferred done\n",
      "Fetal Presentation done\n",
      "Final Route and Delivery Method done\n",
      "Delivery Method Expanded done\n",
      "Delivery Method done\n",
      "Trial of Labor Attempted (if cesarean) done\n",
      "Source of Payment for Delivery done\n",
      "Source of Payment for Delivery Expanded done\n",
      "2013 Metro/Nonmetro done\n",
      "2006 Metro/Nonmetro done\n",
      "2006 Urbanization done\n",
      "Anencephaly done\n",
      "Meningomyelocele / Spina Bifida done\n",
      "Cyanotic Congenital Heart Disease done\n",
      "Congenital Diaphragmatic Hernia done\n",
      "Omphalocele done\n",
      "Gastroschisis done\n",
      "Limb Reduction Defect done\n",
      "Cleft Lip with or without Cleft Palate done\n",
      "Cleft Palate Alone done\n",
      "Down Syndrome done\n",
      "Suspected Chromosomal Disorder done\n",
      "Hypospadias done\n",
      "Congenital Anomalies Checked done\n",
      "Mother's Height in Inches done\n",
      "Mother's Pre-pregnancy BMI done\n",
      "Mother's Weight Gain Recode done\n",
      "Mother's Pre-pregnancy Weight done\n",
      "Mother's Delivery Weight done\n",
      "Tobacco Use done\n",
      "Number of Cigarettes Before Pregnancy Recode done\n",
      "Number of Cigarettes 1st Trimester Recode done\n",
      "Number of Cigarettes 1st Trimester done\n",
      "Number of Cigarettes 2nd Trimester Recode done\n",
      "Number of Cigarettes 2nd Trimester done\n",
      "Number of Cigarettes 3rd Trimester Recode done\n",
      "Number of Cigarettes 3rd Trimester done\n",
      "Gonorrhea done\n",
      "Syphilis done\n",
      "Chlamydia done\n",
      "Hepatitis B done\n",
      "Hepatitis C done\n",
      "Infections Checked done\n",
      "Mother's Single Race 6 done\n",
      "Mother's Single Race 15 done\n",
      "Mother's Single/Multi Race 31 done\n",
      "Mother's Hispanic Origin done\n",
      "Mother's Expanded Hispanic Origin done\n",
      "Age of Mother 9 done\n",
      "Age of Mother 13 done\n",
      "Mother's Education done\n",
      "Marital Status done\n",
      "Paternity Acknowledgment (if mother unmarried) done\n",
      "Mother's Nativity done\n",
      "Mother's Birth Country done\n",
      "Mother's Birth State done\n"
     ]
    }
   ],
   "source": [
    "import pandas as pd\n",
    "col_list = []\n",
    "for code in columns:\n",
    "    dataObj = wd.WonderD149Data([code],measure_selection,observation_selection,variable_filter)\n",
    "    data_col = dataObj.getData()\n",
    "    col_data = pd.Series(data_col['Births'])\n",
    "    col_data.name = columns[code]\n",
    "    col_list.append(col_data)\n",
    "    print(columns[code],'done')\n"
   ]
  },
  {
   "attachments": {},
   "cell_type": "markdown",
   "metadata": {},
   "source": [
    "Adding helper methods"
   ]
  },
  {
   "cell_type": "code",
   "execution_count": 13,
   "metadata": {},
   "outputs": [],
   "source": [
    "def interpolateSeries(col,MAX_COL_LEN):\n",
    "    import math\n",
    "    curr_col_len = len(col)\n",
    "    new_index = list(range(0,MAX_COL_LEN,math.floor(MAX_COL_LEN/curr_col_len)))[:curr_col_len]\n",
    "\n",
    "    col.index = new_index\n",
    "    return col.reindex(range(MAX_COL_LEN),method='ffill')\n",
    "\n",
    "def is_Different_Category(col_name1,col_name2):\n",
    "    cat1=''\n",
    "    cat2=''\n",
    "    categories = hp.getGroupByCategories()\n",
    "    for category in categories:\n",
    "        colnames = hp.getCodeDetailsForGivenCategory(category).values()\n",
    "        if col_name1 in colnames:\n",
    "            cat1 = category\n",
    "        if col_name2 in colnames:\n",
    "            cat2 = category\n",
    "    return cat1 != cat2"
   ]
  },
  {
   "attachments": {},
   "cell_type": "markdown",
   "metadata": {},
   "source": [
    "Interpolating columns to all same length"
   ]
  },
  {
   "cell_type": "code",
   "execution_count": 16,
   "metadata": {},
   "outputs": [
    {
     "name": "stdout",
     "output_type": "stream",
     "text": [
      "137 columns encountered\n"
     ]
    }
   ],
   "source": [
    "print(len(col_list), 'columns encountered')\n",
    "max_col = max(col_list,key=lambda x:len(x))\n",
    "MAX_COL_LEN = len(max_col)\n",
    "converted_col_list  =map(lambda x: interpolateSeries(x,MAX_COL_LEN),col_list)\n",
    "converted_col_list = [*converted_col_list]\n",
    "col_data_cleaned = pd.DataFrame(converted_col_list).T"
   ]
  },
  {
   "cell_type": "code",
   "execution_count": 80,
   "metadata": {},
   "outputs": [
    {
     "data": {
      "text/plain": [
       "0      3945875.0\n",
       "1      3945875.0\n",
       "2      3945875.0\n",
       "3      3945875.0\n",
       "4      3945875.0\n",
       "         ...    \n",
       "239    3664292.0\n",
       "240    3664292.0\n",
       "241    3664292.0\n",
       "242    3664292.0\n",
       "243    3664292.0\n",
       "Name: Year, Length: 244, dtype: float64"
      ]
     },
     "execution_count": 80,
     "metadata": {},
     "output_type": "execute_result"
    }
   ],
   "source": [
    "col_data_cleaned['Year']"
   ]
  },
  {
   "attachments": {},
   "cell_type": "markdown",
   "metadata": {},
   "source": [
    "Selecting columns of high negative correlations"
   ]
  },
  {
   "cell_type": "code",
   "execution_count": 92,
   "metadata": {},
   "outputs": [
    {
     "name": "stdout",
     "output_type": "stream",
     "text": [
      "38 combinations\n"
     ]
    }
   ],
   "source": [
    "import itertools\n",
    "# Create correlation matrix\n",
    "corr_matrix = col_data_cleaned.corr()\n",
    "\n",
    "# Find features with correlation greater than 0.995\n",
    "to_investigate = [(row,column) for row,column in itertools.product(corr_matrix.index,corr_matrix.columns) if corr_matrix[column][row] < -0.75 and is_Different_Category(row,column)]\n",
    "print(len(to_investigate),'combinations')\n"
   ]
  },
  {
   "attachments": {},
   "cell_type": "markdown",
   "metadata": {},
   "source": [
    "Selecting columns of high positive correlations"
   ]
  },
  {
   "cell_type": "code",
   "execution_count": 98,
   "metadata": {},
   "outputs": [
    {
     "name": "stdout",
     "output_type": "stream",
     "text": [
      "34 combinations\n"
     ]
    }
   ],
   "source": [
    "# Find features with correlation lesser than 0.01\n",
    "to_investigate_low = [(row,column) for row,column in itertools.product(corr_matrix.index,corr_matrix.columns) if corr_matrix[column][row] > 0.99999999 and is_Different_Category(row,column)]\n",
    "print(len(to_investigate_low),'combinations')"
   ]
  },
  {
   "attachments": {},
   "cell_type": "markdown",
   "metadata": {},
   "source": [
    "Creating graph for high negative correlation"
   ]
  },
  {
   "cell_type": "code",
   "execution_count": 103,
   "metadata": {},
   "outputs": [
    {
     "name": "stdout",
     "output_type": "stream",
     "text": [
      "\n"
     ]
    }
   ],
   "source": [
    "set_of_nodes = set()\n",
    "for combi in to_investigate:\n",
    "    set_of_nodes = set_of_nodes.union(combi)\n",
    "\n",
    "nodes = list(set_of_nodes)\n",
    "print()\n",
    "\n",
    "import networkx as nx\n",
    "\n",
    "G = nx.Graph()\n",
    "\n",
    "for combi in to_investigate:\n",
    "    left,right = combi\n",
    "    G.add_nodes_from([(nodes.index(left),{'name': left}),(nodes.index(right),{'name': right})])\n",
    "    G.add_edge(nodes.index(left),nodes.index(right))\n",
    "\n",
    "divergence_edge_attrs = {}\n",
    "name_edge_attrs = {}\n",
    "\n",
    "for start_node, end_node, _ in G.edges(data=True):\n",
    "    divergence_edge_attrs[(start_node, end_node)] = (1.1-corr_matrix[G.nodes[start_node][\"name\"]][G.nodes[end_node][\"name\"]])*1000\n",
    "    name_edge_attrs[(start_node, end_node)] = f'({G.nodes[start_node][\"name\"]}:{G.nodes[end_node][\"name\"]})'\n",
    "\n",
    "nx.set_edge_attributes(G, divergence_edge_attrs, \"edge_length\")\n",
    "nx.set_edge_attributes(G, name_edge_attrs, \"edge_nodes\")"
   ]
  },
  {
   "attachments": {},
   "cell_type": "markdown",
   "metadata": {},
   "source": [
    "Creating graph for high positive correlation"
   ]
  },
  {
   "cell_type": "code",
   "execution_count": 100,
   "metadata": {},
   "outputs": [
    {
     "name": "stdout",
     "output_type": "stream",
     "text": [
      "\n"
     ]
    }
   ],
   "source": [
    "set_of_nodes = set()\n",
    "for combi in to_investigate_low:\n",
    "    set_of_nodes = set_of_nodes.union(combi)\n",
    "\n",
    "nodes = list(set_of_nodes)\n",
    "print()\n",
    "\n",
    "import networkx as nx\n",
    "\n",
    "G_low = nx.Graph()\n",
    "\n",
    "for combi in to_investigate_low:\n",
    "    left,right = combi\n",
    "    G_low.add_nodes_from([(nodes.index(left),{'name': left}),(nodes.index(right),{'name': right})])\n",
    "    G_low.add_edge(nodes.index(left),nodes.index(right))\n",
    "\n",
    "divergence_edge_attrs = {}\n",
    "name_edge_attrs = {}\n",
    "\n",
    "for start_node, end_node, _ in G_low.edges(data=True):\n",
    "    divergence_edge_attrs[(start_node, end_node)] = (corr_matrix[G_low.nodes[start_node][\"name\"]][G_low.nodes[end_node][\"name\"]])*1000\n",
    "    name_edge_attrs[(start_node, end_node)] = f'({G_low.nodes[start_node][\"name\"]}:{G_low.nodes[end_node][\"name\"]})'\n",
    "\n",
    "nx.set_edge_attributes(G_low, divergence_edge_attrs, \"edge_length\")\n",
    "nx.set_edge_attributes(G_low, name_edge_attrs, \"edge_nodes\")"
   ]
  },
  {
   "cell_type": "code",
   "execution_count": 106,
   "metadata": {},
   "outputs": [
    {
     "data": {
      "text/html": [
       "<style>\n",
       "        .bk-notebook-logo {\n",
       "            display: block;\n",
       "            width: 20px;\n",
       "            height: 20px;\n",
       "            background-image: url(data:image/png;base64,iVBORw0KGgoAAAANSUhEUgAAABQAAAAUCAYAAACNiR0NAAAABHNCSVQICAgIfAhkiAAAAAlwSFlzAAALEgAACxIB0t1+/AAAABx0RVh0U29mdHdhcmUAQWRvYmUgRmlyZXdvcmtzIENTNui8sowAAAOkSURBVDiNjZRtaJVlGMd/1/08zzln5zjP1LWcU9N0NkN8m2CYjpgQYQXqSs0I84OLIC0hkEKoPtiH3gmKoiJDU7QpLgoLjLIQCpEsNJ1vqUOdO7ppbuec5+V+rj4ctwzd8IIbbi6u+8f1539dt3A78eXC7QizUF7gyV1fD1Yqg4JWz84yffhm0qkFqBogB9rM8tZdtwVsPUhWhGcFJngGeWrPzHm5oaMmkfEg1usvLFyc8jLRqDOMru7AyC8saQr7GG7f5fvDeH7Ej8CM66nIF+8yngt6HWaKh7k49Soy9nXurCi1o3qUbS3zWfrYeQDTB/Qj6kX6Ybhw4B+bOYoLKCC9H3Nu/leUTZ1JdRWkkn2ldcCamzrcf47KKXdAJllSlxAOkRgyHsGC/zRday5Qld9DyoM4/q/rUoy/CXh3jzOu3bHUVZeU+DEn8FInkPBFlu3+nW3Nw0mk6vCDiWg8CeJaxEwuHS3+z5RgY+YBR6V1Z1nxSOfoaPa4LASWxxdNp+VWTk7+4vzaou8v8PN+xo+KY2xsw6une2frhw05CTYOmQvsEhjhWjn0bmXPjpE1+kplmmkP3suftwTubK9Vq22qKmrBhpY4jvd5afdRA3wGjFAgcnTK2s4hY0/GPNIb0nErGMCRxWOOX64Z8RAC4oCXdklmEvcL8o0BfkNK4lUg9HTl+oPlQxdNo3Mg4Nv175e/1LDGzZen30MEjRUtmXSfiTVu1kK8W4txyV6BMKlbgk3lMwYCiusNy9fVfvvwMxv8Ynl6vxoByANLTWplvuj/nF9m2+PDtt1eiHPBr1oIfhCChQMBw6Aw0UulqTKZdfVvfG7VcfIqLG9bcldL/+pdWTLxLUy8Qq38heUIjh4XlzZxzQm19lLFlr8vdQ97rjZVOLf8nclzckbcD4wxXMidpX30sFd37Fv/GtwwhzhxGVAprjbg0gCAEeIgwCZyTV2Z1REEW8O4py0wsjeloKoMr6iCY6dP92H6Vw/oTyICIthibxjm/DfN9lVz8IqtqKYLUXfoKVMVQVVJOElGjrnnUt9T9wbgp8AyYKaGlqingHZU/uG2NTZSVqwHQTWkx9hxjkpWDaCg6Ckj5qebgBVbT3V3NNXMSiWSDdGV3hrtzla7J+duwPOToIg42ChPQOQjspnSlp1V+Gjdged7+8UN5CRAV7a5EdFNwCjEaBR27b3W890TE7g24NAP/mMDXRWrGoFPQI9ls/MWO2dWFAar/xcOIImbbpA3zgAAAABJRU5ErkJggg==);\n",
       "        }\n",
       "    </style>\n",
       "    <div>\n",
       "        <a href=\"https://bokeh.org\" target=\"_blank\" class=\"bk-notebook-logo\"></a>\n",
       "        <span id=\"p20555\">Loading BokehJS ...</span>\n",
       "    </div>\n"
      ]
     },
     "metadata": {},
     "output_type": "display_data"
    },
    {
     "data": {
      "application/javascript": "(function(root) {\n  function now() {\n    return new Date();\n  }\n\n  const force = true;\n\n  if (typeof root._bokeh_onload_callbacks === \"undefined\" || force === true) {\n    root._bokeh_onload_callbacks = [];\n    root._bokeh_is_loading = undefined;\n  }\n\nconst JS_MIME_TYPE = 'application/javascript';\n  const HTML_MIME_TYPE = 'text/html';\n  const EXEC_MIME_TYPE = 'application/vnd.bokehjs_exec.v0+json';\n  const CLASS_NAME = 'output_bokeh rendered_html';\n\n  /**\n   * Render data to the DOM node\n   */\n  function render(props, node) {\n    const script = document.createElement(\"script\");\n    node.appendChild(script);\n  }\n\n  /**\n   * Handle when an output is cleared or removed\n   */\n  function handleClearOutput(event, handle) {\n    const cell = handle.cell;\n\n    const id = cell.output_area._bokeh_element_id;\n    const server_id = cell.output_area._bokeh_server_id;\n    // Clean up Bokeh references\n    if (id != null && id in Bokeh.index) {\n      Bokeh.index[id].model.document.clear();\n      delete Bokeh.index[id];\n    }\n\n    if (server_id !== undefined) {\n      // Clean up Bokeh references\n      const cmd_clean = \"from bokeh.io.state import curstate; print(curstate().uuid_to_server['\" + server_id + \"'].get_sessions()[0].document.roots[0]._id)\";\n      cell.notebook.kernel.execute(cmd_clean, {\n        iopub: {\n          output: function(msg) {\n            const id = msg.content.text.trim();\n            if (id in Bokeh.index) {\n              Bokeh.index[id].model.document.clear();\n              delete Bokeh.index[id];\n            }\n          }\n        }\n      });\n      // Destroy server and session\n      const cmd_destroy = \"import bokeh.io.notebook as ion; ion.destroy_server('\" + server_id + \"')\";\n      cell.notebook.kernel.execute(cmd_destroy);\n    }\n  }\n\n  /**\n   * Handle when a new output is added\n   */\n  function handleAddOutput(event, handle) {\n    const output_area = handle.output_area;\n    const output = handle.output;\n\n    // limit handleAddOutput to display_data with EXEC_MIME_TYPE content only\n    if ((output.output_type != \"display_data\") || (!Object.prototype.hasOwnProperty.call(output.data, EXEC_MIME_TYPE))) {\n      return\n    }\n\n    const toinsert = output_area.element.find(\".\" + CLASS_NAME.split(' ')[0]);\n\n    if (output.metadata[EXEC_MIME_TYPE][\"id\"] !== undefined) {\n      toinsert[toinsert.length - 1].firstChild.textContent = output.data[JS_MIME_TYPE];\n      // store reference to embed id on output_area\n      output_area._bokeh_element_id = output.metadata[EXEC_MIME_TYPE][\"id\"];\n    }\n    if (output.metadata[EXEC_MIME_TYPE][\"server_id\"] !== undefined) {\n      const bk_div = document.createElement(\"div\");\n      bk_div.innerHTML = output.data[HTML_MIME_TYPE];\n      const script_attrs = bk_div.children[0].attributes;\n      for (let i = 0; i < script_attrs.length; i++) {\n        toinsert[toinsert.length - 1].firstChild.setAttribute(script_attrs[i].name, script_attrs[i].value);\n        toinsert[toinsert.length - 1].firstChild.textContent = bk_div.children[0].textContent\n      }\n      // store reference to server id on output_area\n      output_area._bokeh_server_id = output.metadata[EXEC_MIME_TYPE][\"server_id\"];\n    }\n  }\n\n  function register_renderer(events, OutputArea) {\n\n    function append_mime(data, metadata, element) {\n      // create a DOM node to render to\n      const toinsert = this.create_output_subarea(\n        metadata,\n        CLASS_NAME,\n        EXEC_MIME_TYPE\n      );\n      this.keyboard_manager.register_events(toinsert);\n      // Render to node\n      const props = {data: data, metadata: metadata[EXEC_MIME_TYPE]};\n      render(props, toinsert[toinsert.length - 1]);\n      element.append(toinsert);\n      return toinsert\n    }\n\n    /* Handle when an output is cleared or removed */\n    events.on('clear_output.CodeCell', handleClearOutput);\n    events.on('delete.Cell', handleClearOutput);\n\n    /* Handle when a new output is added */\n    events.on('output_added.OutputArea', handleAddOutput);\n\n    /**\n     * Register the mime type and append_mime function with output_area\n     */\n    OutputArea.prototype.register_mime_type(EXEC_MIME_TYPE, append_mime, {\n      /* Is output safe? */\n      safe: true,\n      /* Index of renderer in `output_area.display_order` */\n      index: 0\n    });\n  }\n\n  // register the mime type if in Jupyter Notebook environment and previously unregistered\n  if (root.Jupyter !== undefined) {\n    const events = require('base/js/events');\n    const OutputArea = require('notebook/js/outputarea').OutputArea;\n\n    if (OutputArea.prototype.mime_types().indexOf(EXEC_MIME_TYPE) == -1) {\n      register_renderer(events, OutputArea);\n    }\n  }\n  if (typeof (root._bokeh_timeout) === \"undefined\" || force === true) {\n    root._bokeh_timeout = Date.now() + 5000;\n    root._bokeh_failed_load = false;\n  }\n\n  const NB_LOAD_WARNING = {'data': {'text/html':\n     \"<div style='background-color: #fdd'>\\n\"+\n     \"<p>\\n\"+\n     \"BokehJS does not appear to have successfully loaded. If loading BokehJS from CDN, this \\n\"+\n     \"may be due to a slow or bad network connection. Possible fixes:\\n\"+\n     \"</p>\\n\"+\n     \"<ul>\\n\"+\n     \"<li>re-rerun `output_notebook()` to attempt to load from CDN again, or</li>\\n\"+\n     \"<li>use INLINE resources instead, as so:</li>\\n\"+\n     \"</ul>\\n\"+\n     \"<code>\\n\"+\n     \"from bokeh.resources import INLINE\\n\"+\n     \"output_notebook(resources=INLINE)\\n\"+\n     \"</code>\\n\"+\n     \"</div>\"}};\n\n  function display_loaded() {\n    const el = document.getElementById(\"p20555\");\n    if (el != null) {\n      el.textContent = \"BokehJS is loading...\";\n    }\n    if (root.Bokeh !== undefined) {\n      if (el != null) {\n        el.textContent = \"BokehJS \" + root.Bokeh.version + \" successfully loaded.\";\n      }\n    } else if (Date.now() < root._bokeh_timeout) {\n      setTimeout(display_loaded, 100)\n    }\n  }\n\n  function run_callbacks() {\n    try {\n      root._bokeh_onload_callbacks.forEach(function(callback) {\n        if (callback != null)\n          callback();\n      });\n    } finally {\n      delete root._bokeh_onload_callbacks\n    }\n    console.debug(\"Bokeh: all callbacks have finished\");\n  }\n\n  function load_libs(css_urls, js_urls, callback) {\n    if (css_urls == null) css_urls = [];\n    if (js_urls == null) js_urls = [];\n\n    root._bokeh_onload_callbacks.push(callback);\n    if (root._bokeh_is_loading > 0) {\n      console.debug(\"Bokeh: BokehJS is being loaded, scheduling callback at\", now());\n      return null;\n    }\n    if (js_urls == null || js_urls.length === 0) {\n      run_callbacks();\n      return null;\n    }\n    console.debug(\"Bokeh: BokehJS not loaded, scheduling load and callback at\", now());\n    root._bokeh_is_loading = css_urls.length + js_urls.length;\n\n    function on_load() {\n      root._bokeh_is_loading--;\n      if (root._bokeh_is_loading === 0) {\n        console.debug(\"Bokeh: all BokehJS libraries/stylesheets loaded\");\n        run_callbacks()\n      }\n    }\n\n    function on_error(url) {\n      console.error(\"failed to load \" + url);\n    }\n\n    for (let i = 0; i < css_urls.length; i++) {\n      const url = css_urls[i];\n      const element = document.createElement(\"link\");\n      element.onload = on_load;\n      element.onerror = on_error.bind(null, url);\n      element.rel = \"stylesheet\";\n      element.type = \"text/css\";\n      element.href = url;\n      console.debug(\"Bokeh: injecting link tag for BokehJS stylesheet: \", url);\n      document.body.appendChild(element);\n    }\n\n    for (let i = 0; i < js_urls.length; i++) {\n      const url = js_urls[i];\n      const element = document.createElement('script');\n      element.onload = on_load;\n      element.onerror = on_error.bind(null, url);\n      element.async = false;\n      element.src = url;\n      console.debug(\"Bokeh: injecting script tag for BokehJS library: \", url);\n      document.head.appendChild(element);\n    }\n  };\n\n  function inject_raw_css(css) {\n    const element = document.createElement(\"style\");\n    element.appendChild(document.createTextNode(css));\n    document.body.appendChild(element);\n  }\n\n  const js_urls = [\"https://cdn.bokeh.org/bokeh/release/bokeh-3.0.3.min.js\", \"https://cdn.bokeh.org/bokeh/release/bokeh-gl-3.0.3.min.js\", \"https://cdn.bokeh.org/bokeh/release/bokeh-widgets-3.0.3.min.js\", \"https://cdn.bokeh.org/bokeh/release/bokeh-tables-3.0.3.min.js\", \"https://cdn.bokeh.org/bokeh/release/bokeh-mathjax-3.0.3.min.js\"];\n  const css_urls = [];\n\n  const inline_js = [    function(Bokeh) {\n      Bokeh.set_log_level(\"info\");\n    },\nfunction(Bokeh) {\n    }\n  ];\n\n  function run_inline_js() {\n    if (root.Bokeh !== undefined || force === true) {\n          for (let i = 0; i < inline_js.length; i++) {\n      inline_js[i].call(root, root.Bokeh);\n    }\nif (force === true) {\n        display_loaded();\n      }} else if (Date.now() < root._bokeh_timeout) {\n      setTimeout(run_inline_js, 100);\n    } else if (!root._bokeh_failed_load) {\n      console.log(\"Bokeh: BokehJS failed to load within specified timeout.\");\n      root._bokeh_failed_load = true;\n    } else if (force !== true) {\n      const cell = $(document.getElementById(\"p20555\")).parents('.cell').data().cell;\n      cell.output_area.append_execute_result(NB_LOAD_WARNING)\n    }\n  }\n\n  if (root._bokeh_is_loading === 0) {\n    console.debug(\"Bokeh: BokehJS loaded, going straight to plotting\");\n    run_inline_js();\n  } else {\n    load_libs(css_urls, js_urls, function() {\n      console.debug(\"Bokeh: BokehJS plotting callback run at\", now());\n      run_inline_js();\n    });\n  }\n}(window));",
      "application/vnd.bokehjs_load.v0+json": ""
     },
     "metadata": {},
     "output_type": "display_data"
    },
    {
     "data": {
      "text/html": [
       "\n",
       "  <div id=\"6110e4bd-8ce8-46de-b602-56b4bd55a4a6\" data-root-id=\"p20430\" style=\"display: contents;\"></div>\n"
      ]
     },
     "metadata": {},
     "output_type": "display_data"
    },
    {
     "data": {
      "application/javascript": "(function(root) {\n  function embed_document(root) {\n  const docs_json = {\"c9d3c4ca-6bd3-44f8-bc76-6b2e184f50d0\":{\"version\":\"3.0.3\",\"title\":\"Bokeh Application\",\"defs\":[],\"roots\":[{\"type\":\"object\",\"name\":\"Figure\",\"id\":\"p20430\",\"attributes\":{\"x_range\":{\"type\":\"object\",\"name\":\"Range1d\",\"id\":\"p20428\",\"attributes\":{\"start\":-10.1,\"end\":10.1}},\"y_range\":{\"type\":\"object\",\"name\":\"Range1d\",\"id\":\"p20429\",\"attributes\":{\"start\":-10.1,\"end\":10.1}},\"x_scale\":{\"type\":\"object\",\"name\":\"LinearScale\",\"id\":\"p20442\"},\"y_scale\":{\"type\":\"object\",\"name\":\"LinearScale\",\"id\":\"p20444\"},\"title\":{\"type\":\"object\",\"name\":\"Title\",\"id\":\"p20433\",\"attributes\":{\"text\":\"Pregnancy_related_births_data_high_negative_correlation\"}},\"renderers\":[{\"type\":\"object\",\"name\":\"GraphRenderer\",\"id\":\"p20471\",\"attributes\":{\"layout_provider\":{\"type\":\"object\",\"name\":\"StaticLayoutProvider\",\"id\":\"p20502\",\"attributes\":{\"graph_layout\":{\"type\":\"map\",\"entries\":[[6,{\"type\":\"ndarray\",\"array\":{\"type\":\"bytes\",\"data\":\"PzU2MsqXEsA6DoLzZaL6Pw==\"},\"shape\":[2],\"dtype\":\"float64\",\"order\":\"little\"}],[7,{\"type\":\"ndarray\",\"array\":{\"type\":\"bytes\",\"data\":\"P1xDc6Zz479xvzbN+SLhvw==\"},\"shape\":[2],\"dtype\":\"float64\",\"order\":\"little\"}],[11,{\"type\":\"ndarray\",\"array\":{\"type\":\"bytes\",\"data\":\"pUL/1E6lAkB4hDev4Mv/Pw==\"},\"shape\":[2],\"dtype\":\"float64\",\"order\":\"little\"}],[12,{\"type\":\"ndarray\",\"array\":{\"type\":\"bytes\",\"data\":\"TbwK+tayD0C95Lst9UkbQA==\"},\"shape\":[2],\"dtype\":\"float64\",\"order\":\"little\"}],[3,{\"type\":\"ndarray\",\"array\":{\"type\":\"bytes\",\"data\":\"4WyRGGx2HkCKUuEW/iXjvw==\"},\"shape\":[2],\"dtype\":\"float64\",\"order\":\"little\"}],[4,{\"type\":\"ndarray\",\"array\":{\"type\":\"bytes\",\"data\":\"YS6N3pbh/b9lgGe63JkjwA==\"},\"shape\":[2],\"dtype\":\"float64\",\"order\":\"little\"}],[5,{\"type\":\"ndarray\",\"array\":{\"type\":\"bytes\",\"data\":\"v8GMhClNHcCL6lQ9VCkawA==\"},\"shape\":[2],\"dtype\":\"float64\",\"order\":\"little\"}],[8,{\"type\":\"ndarray\",\"array\":{\"type\":\"bytes\",\"data\":\"AAAAAAAAJMCNWRcKiQ/kvw==\"},\"shape\":[2],\"dtype\":\"float64\",\"order\":\"little\"}],[9,{\"type\":\"ndarray\",\"array\":{\"type\":\"bytes\",\"data\":\"gX1J55kntL/IB/Eq42IdQA==\"},\"shape\":[2],\"dtype\":\"float64\",\"order\":\"little\"}],[1,{\"type\":\"ndarray\",\"array\":{\"type\":\"bytes\",\"data\":\"1B7cw3d4+z83v/VEPmcUwA==\"},\"shape\":[2],\"dtype\":\"float64\",\"order\":\"little\"}],[0,{\"type\":\"ndarray\",\"array\":{\"type\":\"bytes\",\"data\":\"+IXDy08SHEAPoB65DacMQA==\"},\"shape\":[2],\"dtype\":\"float64\",\"order\":\"little\"}],[2,{\"type\":\"ndarray\",\"array\":{\"type\":\"bytes\",\"data\":\"Q2mRrlVSDcA20ukV8vUWQA==\"},\"shape\":[2],\"dtype\":\"float64\",\"order\":\"little\"}],[10,{\"type\":\"ndarray\",\"array\":{\"type\":\"bytes\",\"data\":\"r47jvqoyFkDWtum9DYUPwA==\"},\"shape\":[2],\"dtype\":\"float64\",\"order\":\"little\"}]]}}},\"node_renderer\":{\"type\":\"object\",\"name\":\"GlyphRenderer\",\"id\":\"p20484\",\"attributes\":{\"data_source\":{\"type\":\"object\",\"name\":\"ColumnDataSource\",\"id\":\"p20481\",\"attributes\":{\"selected\":{\"type\":\"object\",\"name\":\"Selection\",\"id\":\"p20483\",\"attributes\":{\"indices\":[],\"line_indices\":[]}},\"selection_policy\":{\"type\":\"object\",\"name\":\"UnionRenderers\",\"id\":\"p20482\"},\"data\":{\"type\":\"map\",\"entries\":[[\"name\",[\"Total Birth Order\",\"Sex of Infant\",\"Weekday\",\"Anesthesia\",\"Characteristics of Labor Checked\",\"Year\",\"Delivery Method\",\"Source of Payment for Delivery\",\"2013 Metro/Nonmetro\",\"2006 Metro/Nonmetro\",\"2006 Urbanization\",\"Marital Status\",\"Mother's Nativity\"]],[\"index\",[6,7,11,12,3,4,5,8,9,1,0,2,10]]]}}},\"view\":{\"type\":\"object\",\"name\":\"CDSView\",\"id\":\"p20485\",\"attributes\":{\"filter\":{\"type\":\"object\",\"name\":\"AllIndices\",\"id\":\"p20486\"}}},\"glyph\":{\"type\":\"object\",\"name\":\"Circle\",\"id\":\"p20503\",\"attributes\":{\"size\":{\"type\":\"value\",\"value\":15},\"fill_color\":{\"type\":\"value\",\"value\":\"skyblue\"}}},\"selection_glyph\":{\"type\":\"object\",\"name\":\"Circle\",\"id\":\"p20511\",\"attributes\":{\"size\":{\"type\":\"value\",\"value\":15},\"fill_color\":{\"type\":\"value\",\"value\":\"#fdae61\"}}},\"hover_glyph\":{\"type\":\"object\",\"name\":\"Circle\",\"id\":\"p20519\",\"attributes\":{\"size\":{\"type\":\"value\",\"value\":15},\"fill_color\":{\"type\":\"value\",\"value\":\"#abdda4\"}}}}},\"edge_renderer\":{\"type\":\"object\",\"name\":\"GlyphRenderer\",\"id\":\"p20476\",\"attributes\":{\"data_source\":{\"type\":\"object\",\"name\":\"ColumnDataSource\",\"id\":\"p20473\",\"attributes\":{\"selected\":{\"type\":\"object\",\"name\":\"Selection\",\"id\":\"p20475\",\"attributes\":{\"indices\":[],\"line_indices\":[]}},\"selection_policy\":{\"type\":\"object\",\"name\":\"UnionRenderers\",\"id\":\"p20474\"},\"data\":{\"type\":\"map\",\"entries\":[[\"edge_length\",[1907.0691461027106,1907.06914610271,1899.594005262299,1864.167021114525,1946.2397832631275,1916.5628639338872,1911.8953770315059,2100.0000000000005,2100.0,2021.1082462973789,1912.7783499075695,1892.6021421002642,1899.5940052622982,1864.1670211145242,2100.0,2100.0,2021.108246297378,1912.7783499075672,1892.6021421002633]],[\"edge_nodes\",[\"(Total Birth Order:Sex of Infant)\",\"(Total Birth Order:Weekday)\",\"(Sex of Infant:Anesthesia)\",\"(Sex of Infant:Characteristics of Labor Checked)\",\"(Sex of Infant:Year)\",\"(Sex of Infant:Delivery Method)\",\"(Sex of Infant:Source of Payment for Delivery)\",\"(Sex of Infant:2013 Metro/Nonmetro)\",\"(Sex of Infant:2006 Metro/Nonmetro)\",\"(Sex of Infant:2006 Urbanization)\",\"(Sex of Infant:Marital Status)\",\"(Sex of Infant:Mother's Nativity)\",\"(Weekday:Anesthesia)\",\"(Weekday:Characteristics of Labor Checked)\",\"(Weekday:2013 Metro/Nonmetro)\",\"(Weekday:2006 Metro/Nonmetro)\",\"(Weekday:2006 Urbanization)\",\"(Weekday:Marital Status)\",\"(Weekday:Mother's Nativity)\"]],[\"start\",[6,6,7,7,7,7,7,7,7,7,7,7,11,11,11,11,11,11,11]],[\"end\",[7,11,12,3,4,5,8,9,1,0,2,10,12,3,9,1,0,2,10]]]}}},\"view\":{\"type\":\"object\",\"name\":\"CDSView\",\"id\":\"p20477\",\"attributes\":{\"filter\":{\"type\":\"object\",\"name\":\"AllIndices\",\"id\":\"p20478\"}}},\"glyph\":{\"type\":\"object\",\"name\":\"MultiLine\",\"id\":\"p20527\",\"attributes\":{\"line_alpha\":{\"type\":\"value\",\"value\":0.8}}},\"selection_glyph\":{\"type\":\"object\",\"name\":\"MultiLine\",\"id\":\"p20535\",\"attributes\":{\"line_color\":{\"type\":\"value\",\"value\":\"#fdae61\"}}},\"hover_glyph\":{\"type\":\"object\",\"name\":\"MultiLine\",\"id\":\"p20543\",\"attributes\":{\"line_color\":{\"type\":\"value\",\"value\":\"#abdda4\"}}}}},\"selection_policy\":{\"type\":\"object\",\"name\":\"NodesAndLinkedEdges\",\"id\":\"p20551\"},\"inspection_policy\":{\"type\":\"object\",\"name\":\"EdgesAndLinkedNodes\",\"id\":\"p20553\"}}}],\"toolbar\":{\"type\":\"object\",\"name\":\"Toolbar\",\"id\":\"p20438\",\"attributes\":{\"tools\":[{\"type\":\"object\",\"name\":\"PanTool\",\"id\":\"p20460\"},{\"type\":\"object\",\"name\":\"WheelZoomTool\",\"id\":\"p20461\"},{\"type\":\"object\",\"name\":\"SaveTool\",\"id\":\"p20462\"},{\"type\":\"object\",\"name\":\"ResetTool\",\"id\":\"p20463\"},{\"type\":\"object\",\"name\":\"HoverTool\",\"id\":\"p20464\",\"attributes\":{\"renderers\":\"auto\",\"tooltips\":[[\"Feature Names\",\"@edge_nodes\"],[\"Divergence\",\"@edge_length\"]]}}],\"active_scroll\":{\"id\":\"p20461\"}}},\"left\":[{\"type\":\"object\",\"name\":\"LinearAxis\",\"id\":\"p20453\",\"attributes\":{\"ticker\":{\"type\":\"object\",\"name\":\"BasicTicker\",\"id\":\"p20455\",\"attributes\":{\"mantissas\":[1,2,5]}},\"formatter\":{\"type\":\"object\",\"name\":\"BasicTickFormatter\",\"id\":\"p20456\"},\"major_label_policy\":{\"type\":\"object\",\"name\":\"AllLabels\",\"id\":\"p20454\"}}}],\"below\":[{\"type\":\"object\",\"name\":\"LinearAxis\",\"id\":\"p20446\",\"attributes\":{\"ticker\":{\"type\":\"object\",\"name\":\"BasicTicker\",\"id\":\"p20448\",\"attributes\":{\"mantissas\":[1,2,5]}},\"formatter\":{\"type\":\"object\",\"name\":\"BasicTickFormatter\",\"id\":\"p20449\"},\"major_label_policy\":{\"type\":\"object\",\"name\":\"AllLabels\",\"id\":\"p20447\"}}}],\"center\":[{\"type\":\"object\",\"name\":\"Grid\",\"id\":\"p20452\",\"attributes\":{\"axis\":{\"id\":\"p20446\"}}},{\"type\":\"object\",\"name\":\"Grid\",\"id\":\"p20459\",\"attributes\":{\"dimension\":1,\"axis\":{\"id\":\"p20453\"}}}]}}]}};\n  const render_items = [{\"docid\":\"c9d3c4ca-6bd3-44f8-bc76-6b2e184f50d0\",\"roots\":{\"p20430\":\"6110e4bd-8ce8-46de-b602-56b4bd55a4a6\"},\"root_ids\":[\"p20430\"]}];\n  root.Bokeh.embed.embed_items_notebook(docs_json, render_items);\n  }\n  if (root.Bokeh !== undefined) {\n    embed_document(root);\n  } else {\n    let attempts = 0;\n    const timer = setInterval(function(root) {\n      if (root.Bokeh !== undefined) {\n        clearInterval(timer);\n        embed_document(root);\n      } else {\n        attempts++;\n        if (attempts > 100) {\n          clearInterval(timer);\n          console.log(\"Bokeh: ERROR: Unable to run BokehJS code because BokehJS library is missing\");\n        }\n      }\n    }, 10, root)\n  }\n})(window);",
      "application/vnd.bokehjs_exec.v0+json": ""
     },
     "metadata": {
      "application/vnd.bokehjs_exec.v0+json": {
       "id": "p20430"
      }
     },
     "output_type": "display_data"
    },
    {
     "name": "stderr",
     "output_type": "stream",
     "text": [
      "/var/folders/1g/r76h73zs77j7mtdjg0l92fpw0000gn/T/ipykernel_79975/2816658745.py:41: UserWarning: save() called but no resources were supplied and output_file(...) was never called, defaulting to resources.CDN\n",
      "  save(plot, filename=f\"{title}.html\")\n",
      "/var/folders/1g/r76h73zs77j7mtdjg0l92fpw0000gn/T/ipykernel_79975/2816658745.py:41: UserWarning: save() called but no title was supplied and output_file(...) was never called, using default title 'Bokeh Plot'\n",
      "  save(plot, filename=f\"{title}.html\")\n"
     ]
    },
    {
     "data": {
      "text/plain": [
       "'/Users/abhijithdasharathi/Study/UCSD/Winter_23/ECE143/CDC_Project/wonderD149Data/examples/Pregnancy_related_births_data_high_negative_correlation.html'"
      ]
     },
     "execution_count": 106,
     "metadata": {},
     "output_type": "execute_result"
    }
   ],
   "source": [
    "from bokeh.io import output_notebook, show, save\n",
    "from bokeh.models import Range1d, Circle, NodesAndLinkedEdges, MultiLine,EdgesAndLinkedNodes\n",
    "from bokeh.plotting import figure\n",
    "from bokeh.plotting import from_networkx\n",
    "from bokeh.palettes import Spectral4\n",
    "\n",
    "#Choose a title!\n",
    "title = 'Pregnancy_related_births_data_high_negative_correlation'\n",
    "\n",
    "#Establish which categories will appear when hovering over each node\n",
    "HOVER_TOOLTIPS = [(\"Feature Names\", \"@edge_nodes\" ),(\"Divergence\",\"@edge_length\")]\n",
    "\n",
    "#Create a plot — set dimensions, toolbar, and title\n",
    "plot = figure(tooltips = HOVER_TOOLTIPS,\n",
    "              tools=\"pan,wheel_zoom,save,reset\", active_scroll='wheel_zoom',\n",
    "            x_range=Range1d(-10.1, 10.1), y_range=Range1d(-10.1, 10.1), title=title)\n",
    "\n",
    "#Create a network graph object with spring layout\n",
    "# https://networkx.github.io/documentation/networkx-1.9/reference/generated/networkx.drawing.layout.spring_layout.html\n",
    "network_graph = from_networkx(G, nx.spring_layout, scale=10, center=(0, 0))\n",
    "\n",
    "#Set node size and color\n",
    "network_graph.node_renderer.glyph = Circle(size=15, fill_color='skyblue')\n",
    "network_graph.node_renderer.selection_glyph = Circle(size=15, fill_color=Spectral4[2])\n",
    "network_graph.node_renderer.hover_glyph = Circle(size=15, fill_color=Spectral4[1])\n",
    "\n",
    "#Set edge opacity and width\n",
    "network_graph.edge_renderer.glyph = MultiLine(line_alpha=0.8, line_width=1)\n",
    "network_graph.edge_renderer.selection_glyph = MultiLine(line_color=Spectral4[2], line_width=1)\n",
    "network_graph.edge_renderer.hover_glyph = MultiLine(line_color=Spectral4[1], line_width=1)\n",
    "\n",
    "network_graph.selection_policy = NodesAndLinkedEdges()\n",
    "network_graph.inspection_policy = EdgesAndLinkedNodes()\n",
    "\n",
    "#Add network graph to the plot\n",
    "plot.renderers.append(network_graph)\n",
    "\n",
    "output_notebook()\n",
    "\n",
    "show(plot)\n",
    "save(plot, filename=f\"{title}.html\")"
   ]
  },
  {
   "cell_type": "code",
   "execution_count": 107,
   "metadata": {},
   "outputs": [
    {
     "data": {
      "text/html": [
       "<style>\n",
       "        .bk-notebook-logo {\n",
       "            display: block;\n",
       "            width: 20px;\n",
       "            height: 20px;\n",
       "            background-image: url(data:image/png;base64,iVBORw0KGgoAAAANSUhEUgAAABQAAAAUCAYAAACNiR0NAAAABHNCSVQICAgIfAhkiAAAAAlwSFlzAAALEgAACxIB0t1+/AAAABx0RVh0U29mdHdhcmUAQWRvYmUgRmlyZXdvcmtzIENTNui8sowAAAOkSURBVDiNjZRtaJVlGMd/1/08zzln5zjP1LWcU9N0NkN8m2CYjpgQYQXqSs0I84OLIC0hkEKoPtiH3gmKoiJDU7QpLgoLjLIQCpEsNJ1vqUOdO7ppbuec5+V+rj4ctwzd8IIbbi6u+8f1539dt3A78eXC7QizUF7gyV1fD1Yqg4JWz84yffhm0qkFqBogB9rM8tZdtwVsPUhWhGcFJngGeWrPzHm5oaMmkfEg1usvLFyc8jLRqDOMru7AyC8saQr7GG7f5fvDeH7Ej8CM66nIF+8yngt6HWaKh7k49Soy9nXurCi1o3qUbS3zWfrYeQDTB/Qj6kX6Ybhw4B+bOYoLKCC9H3Nu/leUTZ1JdRWkkn2ldcCamzrcf47KKXdAJllSlxAOkRgyHsGC/zRday5Qld9DyoM4/q/rUoy/CXh3jzOu3bHUVZeU+DEn8FInkPBFlu3+nW3Nw0mk6vCDiWg8CeJaxEwuHS3+z5RgY+YBR6V1Z1nxSOfoaPa4LASWxxdNp+VWTk7+4vzaou8v8PN+xo+KY2xsw6une2frhw05CTYOmQvsEhjhWjn0bmXPjpE1+kplmmkP3suftwTubK9Vq22qKmrBhpY4jvd5afdRA3wGjFAgcnTK2s4hY0/GPNIb0nErGMCRxWOOX64Z8RAC4oCXdklmEvcL8o0BfkNK4lUg9HTl+oPlQxdNo3Mg4Nv175e/1LDGzZen30MEjRUtmXSfiTVu1kK8W4txyV6BMKlbgk3lMwYCiusNy9fVfvvwMxv8Ynl6vxoByANLTWplvuj/nF9m2+PDtt1eiHPBr1oIfhCChQMBw6Aw0UulqTKZdfVvfG7VcfIqLG9bcldL/+pdWTLxLUy8Qq38heUIjh4XlzZxzQm19lLFlr8vdQ97rjZVOLf8nclzckbcD4wxXMidpX30sFd37Fv/GtwwhzhxGVAprjbg0gCAEeIgwCZyTV2Z1REEW8O4py0wsjeloKoMr6iCY6dP92H6Vw/oTyICIthibxjm/DfN9lVz8IqtqKYLUXfoKVMVQVVJOElGjrnnUt9T9wbgp8AyYKaGlqingHZU/uG2NTZSVqwHQTWkx9hxjkpWDaCg6Ckj5qebgBVbT3V3NNXMSiWSDdGV3hrtzla7J+duwPOToIg42ChPQOQjspnSlp1V+Gjdged7+8UN5CRAV7a5EdFNwCjEaBR27b3W890TE7g24NAP/mMDXRWrGoFPQI9ls/MWO2dWFAar/xcOIImbbpA3zgAAAABJRU5ErkJggg==);\n",
       "        }\n",
       "    </style>\n",
       "    <div>\n",
       "        <a href=\"https://bokeh.org\" target=\"_blank\" class=\"bk-notebook-logo\"></a>\n",
       "        <span id=\"p21899\">Loading BokehJS ...</span>\n",
       "    </div>\n"
      ]
     },
     "metadata": {},
     "output_type": "display_data"
    },
    {
     "data": {
      "application/javascript": "(function(root) {\n  function now() {\n    return new Date();\n  }\n\n  const force = true;\n\n  if (typeof root._bokeh_onload_callbacks === \"undefined\" || force === true) {\n    root._bokeh_onload_callbacks = [];\n    root._bokeh_is_loading = undefined;\n  }\n\nconst JS_MIME_TYPE = 'application/javascript';\n  const HTML_MIME_TYPE = 'text/html';\n  const EXEC_MIME_TYPE = 'application/vnd.bokehjs_exec.v0+json';\n  const CLASS_NAME = 'output_bokeh rendered_html';\n\n  /**\n   * Render data to the DOM node\n   */\n  function render(props, node) {\n    const script = document.createElement(\"script\");\n    node.appendChild(script);\n  }\n\n  /**\n   * Handle when an output is cleared or removed\n   */\n  function handleClearOutput(event, handle) {\n    const cell = handle.cell;\n\n    const id = cell.output_area._bokeh_element_id;\n    const server_id = cell.output_area._bokeh_server_id;\n    // Clean up Bokeh references\n    if (id != null && id in Bokeh.index) {\n      Bokeh.index[id].model.document.clear();\n      delete Bokeh.index[id];\n    }\n\n    if (server_id !== undefined) {\n      // Clean up Bokeh references\n      const cmd_clean = \"from bokeh.io.state import curstate; print(curstate().uuid_to_server['\" + server_id + \"'].get_sessions()[0].document.roots[0]._id)\";\n      cell.notebook.kernel.execute(cmd_clean, {\n        iopub: {\n          output: function(msg) {\n            const id = msg.content.text.trim();\n            if (id in Bokeh.index) {\n              Bokeh.index[id].model.document.clear();\n              delete Bokeh.index[id];\n            }\n          }\n        }\n      });\n      // Destroy server and session\n      const cmd_destroy = \"import bokeh.io.notebook as ion; ion.destroy_server('\" + server_id + \"')\";\n      cell.notebook.kernel.execute(cmd_destroy);\n    }\n  }\n\n  /**\n   * Handle when a new output is added\n   */\n  function handleAddOutput(event, handle) {\n    const output_area = handle.output_area;\n    const output = handle.output;\n\n    // limit handleAddOutput to display_data with EXEC_MIME_TYPE content only\n    if ((output.output_type != \"display_data\") || (!Object.prototype.hasOwnProperty.call(output.data, EXEC_MIME_TYPE))) {\n      return\n    }\n\n    const toinsert = output_area.element.find(\".\" + CLASS_NAME.split(' ')[0]);\n\n    if (output.metadata[EXEC_MIME_TYPE][\"id\"] !== undefined) {\n      toinsert[toinsert.length - 1].firstChild.textContent = output.data[JS_MIME_TYPE];\n      // store reference to embed id on output_area\n      output_area._bokeh_element_id = output.metadata[EXEC_MIME_TYPE][\"id\"];\n    }\n    if (output.metadata[EXEC_MIME_TYPE][\"server_id\"] !== undefined) {\n      const bk_div = document.createElement(\"div\");\n      bk_div.innerHTML = output.data[HTML_MIME_TYPE];\n      const script_attrs = bk_div.children[0].attributes;\n      for (let i = 0; i < script_attrs.length; i++) {\n        toinsert[toinsert.length - 1].firstChild.setAttribute(script_attrs[i].name, script_attrs[i].value);\n        toinsert[toinsert.length - 1].firstChild.textContent = bk_div.children[0].textContent\n      }\n      // store reference to server id on output_area\n      output_area._bokeh_server_id = output.metadata[EXEC_MIME_TYPE][\"server_id\"];\n    }\n  }\n\n  function register_renderer(events, OutputArea) {\n\n    function append_mime(data, metadata, element) {\n      // create a DOM node to render to\n      const toinsert = this.create_output_subarea(\n        metadata,\n        CLASS_NAME,\n        EXEC_MIME_TYPE\n      );\n      this.keyboard_manager.register_events(toinsert);\n      // Render to node\n      const props = {data: data, metadata: metadata[EXEC_MIME_TYPE]};\n      render(props, toinsert[toinsert.length - 1]);\n      element.append(toinsert);\n      return toinsert\n    }\n\n    /* Handle when an output is cleared or removed */\n    events.on('clear_output.CodeCell', handleClearOutput);\n    events.on('delete.Cell', handleClearOutput);\n\n    /* Handle when a new output is added */\n    events.on('output_added.OutputArea', handleAddOutput);\n\n    /**\n     * Register the mime type and append_mime function with output_area\n     */\n    OutputArea.prototype.register_mime_type(EXEC_MIME_TYPE, append_mime, {\n      /* Is output safe? */\n      safe: true,\n      /* Index of renderer in `output_area.display_order` */\n      index: 0\n    });\n  }\n\n  // register the mime type if in Jupyter Notebook environment and previously unregistered\n  if (root.Jupyter !== undefined) {\n    const events = require('base/js/events');\n    const OutputArea = require('notebook/js/outputarea').OutputArea;\n\n    if (OutputArea.prototype.mime_types().indexOf(EXEC_MIME_TYPE) == -1) {\n      register_renderer(events, OutputArea);\n    }\n  }\n  if (typeof (root._bokeh_timeout) === \"undefined\" || force === true) {\n    root._bokeh_timeout = Date.now() + 5000;\n    root._bokeh_failed_load = false;\n  }\n\n  const NB_LOAD_WARNING = {'data': {'text/html':\n     \"<div style='background-color: #fdd'>\\n\"+\n     \"<p>\\n\"+\n     \"BokehJS does not appear to have successfully loaded. If loading BokehJS from CDN, this \\n\"+\n     \"may be due to a slow or bad network connection. Possible fixes:\\n\"+\n     \"</p>\\n\"+\n     \"<ul>\\n\"+\n     \"<li>re-rerun `output_notebook()` to attempt to load from CDN again, or</li>\\n\"+\n     \"<li>use INLINE resources instead, as so:</li>\\n\"+\n     \"</ul>\\n\"+\n     \"<code>\\n\"+\n     \"from bokeh.resources import INLINE\\n\"+\n     \"output_notebook(resources=INLINE)\\n\"+\n     \"</code>\\n\"+\n     \"</div>\"}};\n\n  function display_loaded() {\n    const el = document.getElementById(\"p21899\");\n    if (el != null) {\n      el.textContent = \"BokehJS is loading...\";\n    }\n    if (root.Bokeh !== undefined) {\n      if (el != null) {\n        el.textContent = \"BokehJS \" + root.Bokeh.version + \" successfully loaded.\";\n      }\n    } else if (Date.now() < root._bokeh_timeout) {\n      setTimeout(display_loaded, 100)\n    }\n  }\n\n  function run_callbacks() {\n    try {\n      root._bokeh_onload_callbacks.forEach(function(callback) {\n        if (callback != null)\n          callback();\n      });\n    } finally {\n      delete root._bokeh_onload_callbacks\n    }\n    console.debug(\"Bokeh: all callbacks have finished\");\n  }\n\n  function load_libs(css_urls, js_urls, callback) {\n    if (css_urls == null) css_urls = [];\n    if (js_urls == null) js_urls = [];\n\n    root._bokeh_onload_callbacks.push(callback);\n    if (root._bokeh_is_loading > 0) {\n      console.debug(\"Bokeh: BokehJS is being loaded, scheduling callback at\", now());\n      return null;\n    }\n    if (js_urls == null || js_urls.length === 0) {\n      run_callbacks();\n      return null;\n    }\n    console.debug(\"Bokeh: BokehJS not loaded, scheduling load and callback at\", now());\n    root._bokeh_is_loading = css_urls.length + js_urls.length;\n\n    function on_load() {\n      root._bokeh_is_loading--;\n      if (root._bokeh_is_loading === 0) {\n        console.debug(\"Bokeh: all BokehJS libraries/stylesheets loaded\");\n        run_callbacks()\n      }\n    }\n\n    function on_error(url) {\n      console.error(\"failed to load \" + url);\n    }\n\n    for (let i = 0; i < css_urls.length; i++) {\n      const url = css_urls[i];\n      const element = document.createElement(\"link\");\n      element.onload = on_load;\n      element.onerror = on_error.bind(null, url);\n      element.rel = \"stylesheet\";\n      element.type = \"text/css\";\n      element.href = url;\n      console.debug(\"Bokeh: injecting link tag for BokehJS stylesheet: \", url);\n      document.body.appendChild(element);\n    }\n\n    for (let i = 0; i < js_urls.length; i++) {\n      const url = js_urls[i];\n      const element = document.createElement('script');\n      element.onload = on_load;\n      element.onerror = on_error.bind(null, url);\n      element.async = false;\n      element.src = url;\n      console.debug(\"Bokeh: injecting script tag for BokehJS library: \", url);\n      document.head.appendChild(element);\n    }\n  };\n\n  function inject_raw_css(css) {\n    const element = document.createElement(\"style\");\n    element.appendChild(document.createTextNode(css));\n    document.body.appendChild(element);\n  }\n\n  const js_urls = [\"https://cdn.bokeh.org/bokeh/release/bokeh-3.0.3.min.js\", \"https://cdn.bokeh.org/bokeh/release/bokeh-gl-3.0.3.min.js\", \"https://cdn.bokeh.org/bokeh/release/bokeh-widgets-3.0.3.min.js\", \"https://cdn.bokeh.org/bokeh/release/bokeh-tables-3.0.3.min.js\", \"https://cdn.bokeh.org/bokeh/release/bokeh-mathjax-3.0.3.min.js\"];\n  const css_urls = [];\n\n  const inline_js = [    function(Bokeh) {\n      Bokeh.set_log_level(\"info\");\n    },\nfunction(Bokeh) {\n    }\n  ];\n\n  function run_inline_js() {\n    if (root.Bokeh !== undefined || force === true) {\n          for (let i = 0; i < inline_js.length; i++) {\n      inline_js[i].call(root, root.Bokeh);\n    }\nif (force === true) {\n        display_loaded();\n      }} else if (Date.now() < root._bokeh_timeout) {\n      setTimeout(run_inline_js, 100);\n    } else if (!root._bokeh_failed_load) {\n      console.log(\"Bokeh: BokehJS failed to load within specified timeout.\");\n      root._bokeh_failed_load = true;\n    } else if (force !== true) {\n      const cell = $(document.getElementById(\"p21899\")).parents('.cell').data().cell;\n      cell.output_area.append_execute_result(NB_LOAD_WARNING)\n    }\n  }\n\n  if (root._bokeh_is_loading === 0) {\n    console.debug(\"Bokeh: BokehJS loaded, going straight to plotting\");\n    run_inline_js();\n  } else {\n    load_libs(css_urls, js_urls, function() {\n      console.debug(\"Bokeh: BokehJS plotting callback run at\", now());\n      run_inline_js();\n    });\n  }\n}(window));",
      "application/vnd.bokehjs_load.v0+json": ""
     },
     "metadata": {},
     "output_type": "display_data"
    },
    {
     "data": {
      "text/html": [
       "\n",
       "  <div id=\"ab853b2d-b3f3-4629-995e-6ba6087cd2e9\" data-root-id=\"p21774\" style=\"display: contents;\"></div>\n"
      ]
     },
     "metadata": {},
     "output_type": "display_data"
    },
    {
     "data": {
      "application/javascript": "(function(root) {\n  function embed_document(root) {\n  const docs_json = {\"b253d949-724f-4480-8df3-f532987761da\":{\"version\":\"3.0.3\",\"title\":\"Bokeh Application\",\"defs\":[],\"roots\":[{\"type\":\"object\",\"name\":\"Figure\",\"id\":\"p21774\",\"attributes\":{\"x_range\":{\"type\":\"object\",\"name\":\"Range1d\",\"id\":\"p21772\",\"attributes\":{\"start\":-10.1,\"end\":10.1}},\"y_range\":{\"type\":\"object\",\"name\":\"Range1d\",\"id\":\"p21773\",\"attributes\":{\"start\":-10.1,\"end\":10.1}},\"x_scale\":{\"type\":\"object\",\"name\":\"LinearScale\",\"id\":\"p21786\"},\"y_scale\":{\"type\":\"object\",\"name\":\"LinearScale\",\"id\":\"p21788\"},\"title\":{\"type\":\"object\",\"name\":\"Title\",\"id\":\"p21777\",\"attributes\":{\"text\":\"Pregnancy_related_births_data_high_positive_correlation\"}},\"renderers\":[{\"type\":\"object\",\"name\":\"GraphRenderer\",\"id\":\"p21815\",\"attributes\":{\"layout_provider\":{\"type\":\"object\",\"name\":\"StaticLayoutProvider\",\"id\":\"p21846\",\"attributes\":{\"graph_layout\":{\"type\":\"map\",\"entries\":[[17,{\"type\":\"ndarray\",\"array\":{\"type\":\"bytes\",\"data\":\"X9p2cLT6IEDM/Qk9dZwWQA==\"},\"shape\":[2],\"dtype\":\"float64\",\"order\":\"little\"}],[21,{\"type\":\"ndarray\",\"array\":{\"type\":\"bytes\",\"data\":\"PJ4zHETBHkA5x5PQVaAUQA==\"},\"shape\":[2],\"dtype\":\"float64\",\"order\":\"little\"}],[0,{\"type\":\"ndarray\",\"array\":{\"type\":\"bytes\",\"data\":\"7NYJ7tAtIsDoCEqe164OwA==\"},\"shape\":[2],\"dtype\":\"float64\",\"order\":\"little\"}],[18,{\"type\":\"ndarray\",\"array\":{\"type\":\"bytes\",\"data\":\"FRythzZbIMB8YWGkUQcLwA==\"},\"shape\":[2],\"dtype\":\"float64\",\"order\":\"little\"}],[5,{\"type\":\"ndarray\",\"array\":{\"type\":\"bytes\",\"data\":\"++NnJ/wcH8AKJUnQnHsEQA==\"},\"shape\":[2],\"dtype\":\"float64\",\"order\":\"little\"}],[14,{\"type\":\"ndarray\",\"array\":{\"type\":\"bytes\",\"data\":\"XWX1pnK5GsAtug45De0BQA==\"},\"shape\":[2],\"dtype\":\"float64\",\"order\":\"little\"}],[12,{\"type\":\"ndarray\",\"array\":{\"type\":\"bytes\",\"data\":\"Tgp9BT80IcBD0v18d+QKQA==\"},\"shape\":[2],\"dtype\":\"float64\",\"order\":\"little\"}],[13,{\"type\":\"ndarray\",\"array\":{\"type\":\"bytes\",\"data\":\"7tk7UyVIIcCDivS8BT0AQA==\"},\"shape\":[2],\"dtype\":\"float64\",\"order\":\"little\"}],[7,{\"type\":\"ndarray\",\"array\":{\"type\":\"bytes\",\"data\":\"qlLASGAABcA2Tz/EPxMgQA==\"},\"shape\":[2],\"dtype\":\"float64\",\"order\":\"little\"}],[15,{\"type\":\"ndarray\",\"array\":{\"type\":\"bytes\",\"data\":\"q4cEGYEDC8APV35tm2sgQA==\"},\"shape\":[2],\"dtype\":\"float64\",\"order\":\"little\"}],[19,{\"type\":\"ndarray\",\"array\":{\"type\":\"bytes\",\"data\":\"gK0dlMYyCMDnNWeKwW0dQA==\"},\"shape\":[2],\"dtype\":\"float64\",\"order\":\"little\"}],[4,{\"type\":\"ndarray\",\"array\":{\"type\":\"bytes\",\"data\":\"lbXGwUKlFMA8dGlMX+sdwA==\"},\"shape\":[2],\"dtype\":\"float64\",\"order\":\"little\"}],[20,{\"type\":\"ndarray\",\"array\":{\"type\":\"bytes\",\"data\":\"WA6XslqZFsBtBaZC5n8bwA==\"},\"shape\":[2],\"dtype\":\"float64\",\"order\":\"little\"}],[16,{\"type\":\"ndarray\",\"array\":{\"type\":\"bytes\",\"data\":\"9QEMj/NUFUAp7Bj64SURwA==\"},\"shape\":[2],\"dtype\":\"float64\",\"order\":\"little\"}],[10,{\"type\":\"ndarray\",\"array\":{\"type\":\"bytes\",\"data\":\"1qsxBzpYF0AeiSKXFBgVwA==\"},\"shape\":[2],\"dtype\":\"float64\",\"order\":\"little\"}],[2,{\"type\":\"ndarray\",\"array\":{\"type\":\"bytes\",\"data\":\"dPt+tvylEkDlNx80TTkVwA==\"},\"shape\":[2],\"dtype\":\"float64\",\"order\":\"little\"}],[22,{\"type\":\"ndarray\",\"array\":{\"type\":\"bytes\",\"data\":\"Lxjevg93GEBJYTKQyDgawA==\"},\"shape\":[2],\"dtype\":\"float64\",\"order\":\"little\"}],[3,{\"type\":\"ndarray\",\"array\":{\"type\":\"bytes\",\"data\":\"HFB6E1bYG0ArX/1h/B4YwA==\"},\"shape\":[2],\"dtype\":\"float64\",\"order\":\"little\"}],[6,{\"type\":\"ndarray\",\"array\":{\"type\":\"bytes\",\"data\":\"NPmTnQNXHEBN93OV0woUwA==\"},\"shape\":[2],\"dtype\":\"float64\",\"order\":\"little\"}],[9,{\"type\":\"ndarray\",\"array\":{\"type\":\"bytes\",\"data\":\"WBooRg2cGUC+cSa+YqoQwA==\"},\"shape\":[2],\"dtype\":\"float64\",\"order\":\"little\"}],[11,{\"type\":\"ndarray\",\"array\":{\"type\":\"bytes\",\"data\":\"+9Gh+SdRFEB/q8rTDxcZwA==\"},\"shape\":[2],\"dtype\":\"float64\",\"order\":\"little\"}],[1,{\"type\":\"ndarray\",\"array\":{\"type\":\"bytes\",\"data\":\"snujfd6IAUAAAAAAAAAkQA==\"},\"shape\":[2],\"dtype\":\"float64\",\"order\":\"little\"}],[8,{\"type\":\"ndarray\",\"array\":{\"type\":\"bytes\",\"data\":\"ke9LRKWyB0DJpRc5KbojQA==\"},\"shape\":[2],\"dtype\":\"float64\",\"order\":\"little\"}]]}}},\"node_renderer\":{\"type\":\"object\",\"name\":\"GlyphRenderer\",\"id\":\"p21828\",\"attributes\":{\"data_source\":{\"type\":\"object\",\"name\":\"ColumnDataSource\",\"id\":\"p21825\",\"attributes\":{\"selected\":{\"type\":\"object\",\"name\":\"Selection\",\"id\":\"p21827\",\"attributes\":{\"indices\":[],\"line_indices\":[]}},\"selection_policy\":{\"type\":\"object\",\"name\":\"UnionRenderers\",\"id\":\"p21826\"},\"data\":{\"type\":\"map\",\"entries\":[[\"name\",[\"Sex of Infant\",\"Weekday\",\"Chorioamnionitis\",\"Assisted Ventilation > 6 hrs\",\"Ruptured Uterus\",\"Cyanotic Congenital Heart Disease\",\"Cleft Lip with or without Cleft Palate\",\"Hypospadias\",\"Unplanned Hysterectomy\",\"Seizures\",\"Hepatitis B\",\"Admission to Intensive Care Unit\",\"Gonorrhea\",\"Anencephaly\",\"Syphilis\",\"Meningomyelocele / Spina Bifida\",\"Congenital Diaphragmatic Hernia\",\"Omphalocele\",\"Gastroschisis\",\"Limb Reduction Defect\",\"Cleft Palate Alone\",\"Congenital Anomalies Checked\",\"Hepatitis C\"]],[\"index\",[17,21,0,18,5,14,12,13,7,15,19,4,20,16,10,2,22,3,6,9,11,1,8]]]}}},\"view\":{\"type\":\"object\",\"name\":\"CDSView\",\"id\":\"p21829\",\"attributes\":{\"filter\":{\"type\":\"object\",\"name\":\"AllIndices\",\"id\":\"p21830\"}}},\"glyph\":{\"type\":\"object\",\"name\":\"Circle\",\"id\":\"p21847\",\"attributes\":{\"size\":{\"type\":\"value\",\"value\":15},\"fill_color\":{\"type\":\"value\",\"value\":\"skyblue\"}}},\"selection_glyph\":{\"type\":\"object\",\"name\":\"Circle\",\"id\":\"p21855\",\"attributes\":{\"size\":{\"type\":\"value\",\"value\":15},\"fill_color\":{\"type\":\"value\",\"value\":\"#fdae61\"}}},\"hover_glyph\":{\"type\":\"object\",\"name\":\"Circle\",\"id\":\"p21863\",\"attributes\":{\"size\":{\"type\":\"value\",\"value\":15},\"fill_color\":{\"type\":\"value\",\"value\":\"#abdda4\"}}}}},\"edge_renderer\":{\"type\":\"object\",\"name\":\"GlyphRenderer\",\"id\":\"p21820\",\"attributes\":{\"data_source\":{\"type\":\"object\",\"name\":\"ColumnDataSource\",\"id\":\"p21817\",\"attributes\":{\"selected\":{\"type\":\"object\",\"name\":\"Selection\",\"id\":\"p21819\",\"attributes\":{\"indices\":[],\"line_indices\":[]}},\"selection_policy\":{\"type\":\"object\",\"name\":\"UnionRenderers\",\"id\":\"p21818\"},\"data\":{\"type\":\"map\",\"entries\":[[\"edge_length\",[1000.0000000000005,999.9999993641975,999.9999987658409,999.9999927433257,999.999997623802,999.999997802069,999.9999984955037,999.9999999344841,999.9999937564761,999.9999990588451,999.999999999076,999.9999998704246,999.9999993486174,999.9999978314638,999.9999998882972,999.9999968805506,999.9999982711341]],[\"edge_nodes\",[\"(Sex of Infant:Weekday)\",\"(Chorioamnionitis:Assisted Ventilation > 6 hrs)\",\"(Ruptured Uterus:Cyanotic Congenital Heart Disease)\",\"(Ruptured Uterus:Cleft Lip with or without Cleft Palate)\",\"(Ruptured Uterus:Hypospadias)\",\"(Unplanned Hysterectomy:Seizures)\",\"(Unplanned Hysterectomy:Hepatitis B)\",\"(Seizures:Hepatitis B)\",\"(Admission to Intensive Care Unit:Gonorrhea)\",\"(Anencephaly:Syphilis)\",\"(Syphilis:Meningomyelocele / Spina Bifida)\",\"(Syphilis:Congenital Diaphragmatic Hernia)\",\"(Syphilis:Omphalocele)\",\"(Syphilis:Gastroschisis)\",\"(Syphilis:Limb Reduction Defect)\",\"(Syphilis:Cleft Palate Alone)\",\"(Congenital Anomalies Checked:Hepatitis C)\"]],[\"start\",[17,0,5,5,5,7,7,15,4,16,10,10,10,10,10,10,1]],[\"end\",[21,18,14,12,13,15,19,19,20,10,2,22,3,6,9,11,8]]]}}},\"view\":{\"type\":\"object\",\"name\":\"CDSView\",\"id\":\"p21821\",\"attributes\":{\"filter\":{\"type\":\"object\",\"name\":\"AllIndices\",\"id\":\"p21822\"}}},\"glyph\":{\"type\":\"object\",\"name\":\"MultiLine\",\"id\":\"p21871\",\"attributes\":{\"line_alpha\":{\"type\":\"value\",\"value\":0.8}}},\"selection_glyph\":{\"type\":\"object\",\"name\":\"MultiLine\",\"id\":\"p21879\",\"attributes\":{\"line_color\":{\"type\":\"value\",\"value\":\"#fdae61\"}}},\"hover_glyph\":{\"type\":\"object\",\"name\":\"MultiLine\",\"id\":\"p21887\",\"attributes\":{\"line_color\":{\"type\":\"value\",\"value\":\"#abdda4\"}}}}},\"selection_policy\":{\"type\":\"object\",\"name\":\"NodesAndLinkedEdges\",\"id\":\"p21895\"},\"inspection_policy\":{\"type\":\"object\",\"name\":\"EdgesAndLinkedNodes\",\"id\":\"p21897\"}}}],\"toolbar\":{\"type\":\"object\",\"name\":\"Toolbar\",\"id\":\"p21782\",\"attributes\":{\"tools\":[{\"type\":\"object\",\"name\":\"PanTool\",\"id\":\"p21804\"},{\"type\":\"object\",\"name\":\"WheelZoomTool\",\"id\":\"p21805\"},{\"type\":\"object\",\"name\":\"SaveTool\",\"id\":\"p21806\"},{\"type\":\"object\",\"name\":\"ResetTool\",\"id\":\"p21807\"},{\"type\":\"object\",\"name\":\"HoverTool\",\"id\":\"p21808\",\"attributes\":{\"renderers\":\"auto\",\"tooltips\":[[\"Feature Names\",\"@edge_nodes\"],[\"Divergence\",\"@edge_length\"]]}}],\"active_scroll\":{\"id\":\"p21805\"}}},\"left\":[{\"type\":\"object\",\"name\":\"LinearAxis\",\"id\":\"p21797\",\"attributes\":{\"ticker\":{\"type\":\"object\",\"name\":\"BasicTicker\",\"id\":\"p21799\",\"attributes\":{\"mantissas\":[1,2,5]}},\"formatter\":{\"type\":\"object\",\"name\":\"BasicTickFormatter\",\"id\":\"p21800\"},\"major_label_policy\":{\"type\":\"object\",\"name\":\"AllLabels\",\"id\":\"p21798\"}}}],\"below\":[{\"type\":\"object\",\"name\":\"LinearAxis\",\"id\":\"p21790\",\"attributes\":{\"ticker\":{\"type\":\"object\",\"name\":\"BasicTicker\",\"id\":\"p21792\",\"attributes\":{\"mantissas\":[1,2,5]}},\"formatter\":{\"type\":\"object\",\"name\":\"BasicTickFormatter\",\"id\":\"p21793\"},\"major_label_policy\":{\"type\":\"object\",\"name\":\"AllLabels\",\"id\":\"p21791\"}}}],\"center\":[{\"type\":\"object\",\"name\":\"Grid\",\"id\":\"p21796\",\"attributes\":{\"axis\":{\"id\":\"p21790\"}}},{\"type\":\"object\",\"name\":\"Grid\",\"id\":\"p21803\",\"attributes\":{\"dimension\":1,\"axis\":{\"id\":\"p21797\"}}}]}}]}};\n  const render_items = [{\"docid\":\"b253d949-724f-4480-8df3-f532987761da\",\"roots\":{\"p21774\":\"ab853b2d-b3f3-4629-995e-6ba6087cd2e9\"},\"root_ids\":[\"p21774\"]}];\n  root.Bokeh.embed.embed_items_notebook(docs_json, render_items);\n  }\n  if (root.Bokeh !== undefined) {\n    embed_document(root);\n  } else {\n    let attempts = 0;\n    const timer = setInterval(function(root) {\n      if (root.Bokeh !== undefined) {\n        clearInterval(timer);\n        embed_document(root);\n      } else {\n        attempts++;\n        if (attempts > 100) {\n          clearInterval(timer);\n          console.log(\"Bokeh: ERROR: Unable to run BokehJS code because BokehJS library is missing\");\n        }\n      }\n    }, 10, root)\n  }\n})(window);",
      "application/vnd.bokehjs_exec.v0+json": ""
     },
     "metadata": {
      "application/vnd.bokehjs_exec.v0+json": {
       "id": "p21774"
      }
     },
     "output_type": "display_data"
    },
    {
     "name": "stderr",
     "output_type": "stream",
     "text": [
      "/var/folders/1g/r76h73zs77j7mtdjg0l92fpw0000gn/T/ipykernel_79975/1635644243.py:41: UserWarning: save() called but no resources were supplied and output_file(...) was never called, defaulting to resources.CDN\n",
      "  save(plot, filename=f\"{title}.html\")\n",
      "/var/folders/1g/r76h73zs77j7mtdjg0l92fpw0000gn/T/ipykernel_79975/1635644243.py:41: UserWarning: save() called but no title was supplied and output_file(...) was never called, using default title 'Bokeh Plot'\n",
      "  save(plot, filename=f\"{title}.html\")\n"
     ]
    },
    {
     "data": {
      "text/plain": [
       "'/Users/abhijithdasharathi/Study/UCSD/Winter_23/ECE143/CDC_Project/wonderD149Data/examples/Pregnancy_related_births_data_high_positive_correlation.html'"
      ]
     },
     "execution_count": 107,
     "metadata": {},
     "output_type": "execute_result"
    }
   ],
   "source": [
    "from bokeh.io import output_notebook, show, save\n",
    "from bokeh.models import Range1d, Circle, NodesAndLinkedEdges, MultiLine,EdgesAndLinkedNodes\n",
    "from bokeh.plotting import figure\n",
    "from bokeh.plotting import from_networkx\n",
    "from bokeh.palettes import Spectral4\n",
    "\n",
    "#Choose a title!\n",
    "title = 'Pregnancy_related_births_data_high_positive_correlation'\n",
    "\n",
    "#Establish which categories will appear when hovering over each node\n",
    "HOVER_TOOLTIPS = [(\"Feature Names\", \"@edge_nodes\" ),(\"Divergence\",\"@edge_length\")]\n",
    "\n",
    "#Create a plot — set dimensions, toolbar, and title\n",
    "plot = figure(tooltips = HOVER_TOOLTIPS,\n",
    "              tools=\"pan,wheel_zoom,save,reset\", active_scroll='wheel_zoom',\n",
    "            x_range=Range1d(-10.1, 10.1), y_range=Range1d(-10.1, 10.1), title=title)\n",
    "\n",
    "#Create a network graph object with spring layout\n",
    "# https://networkx.github.io/documentation/networkx-1.9/reference/generated/networkx.drawing.layout.spring_layout.html\n",
    "network_graph = from_networkx(G_low, nx.spring_layout, scale=10, center=(0, 0))\n",
    "\n",
    "#Set node size and color\n",
    "network_graph.node_renderer.glyph = Circle(size=15, fill_color='skyblue')\n",
    "network_graph.node_renderer.selection_glyph = Circle(size=15, fill_color=Spectral4[2])\n",
    "network_graph.node_renderer.hover_glyph = Circle(size=15, fill_color=Spectral4[1])\n",
    "\n",
    "#Set edge opacity and width\n",
    "network_graph.edge_renderer.glyph = MultiLine(line_alpha=0.8, line_width=1)\n",
    "network_graph.edge_renderer.selection_glyph = MultiLine(line_color=Spectral4[2], line_width=1)\n",
    "network_graph.edge_renderer.hover_glyph = MultiLine(line_color=Spectral4[1], line_width=1)\n",
    "\n",
    "network_graph.selection_policy = NodesAndLinkedEdges()\n",
    "network_graph.inspection_policy = EdgesAndLinkedNodes()\n",
    "\n",
    "#Add network graph to the plot\n",
    "plot.renderers.append(network_graph)\n",
    "\n",
    "output_notebook()\n",
    "\n",
    "show(plot)\n",
    "save(plot, filename=f\"{title}.html\")"
   ]
  }
 ],
 "metadata": {
  "kernelspec": {
   "display_name": "base",
   "language": "python",
   "name": "python3"
  },
  "language_info": {
   "codemirror_mode": {
    "name": "ipython",
    "version": 3
   },
   "file_extension": ".py",
   "mimetype": "text/x-python",
   "name": "python",
   "nbconvert_exporter": "python",
   "pygments_lexer": "ipython3",
   "version": "3.9.15"
  },
  "orig_nbformat": 4,
  "vscode": {
   "interpreter": {
    "hash": "1c93df08fcbabfdbaadb87d75cf78a45ec6be13cfbd39d17b7e2e21df63f1af9"
   }
  }
 },
 "nbformat": 4,
 "nbformat_minor": 2
}
