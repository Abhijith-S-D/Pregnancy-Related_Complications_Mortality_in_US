{
 "cells": [
  {
   "cell_type": "code",
   "execution_count": 2,
   "metadata": {},
   "outputs": [],
   "source": [
    "# UCSD ECE 143 Programming for Data Analysis\n",
    "# Winter 2023\n",
    "# Author: m3cheung@ucsd.edu\n",
    "# Final Project: create morbidity by race bar graph"
   ]
  },
  {
   "attachments": {},
   "cell_type": "markdown",
   "metadata": {},
   "source": [
    "Import modules"
   ]
  },
  {
   "cell_type": "code",
   "execution_count": 11,
   "metadata": {},
   "outputs": [],
   "source": [
    "import pandas as pd\n",
    "import plotly.express as px\n",
    "from bs4 import BeautifulSoup\n",
    "import matplotlib.pyplot as plt\n",
    "import sys"
   ]
  },
  {
   "attachments": {},
   "cell_type": "markdown",
   "metadata": {},
   "source": [
    "Specify year to analyze"
   ]
  },
  {
   "cell_type": "code",
   "execution_count": 12,
   "metadata": {},
   "outputs": [],
   "source": [
    "year = 2021.0"
   ]
  },
  {
   "attachments": {},
   "cell_type": "markdown",
   "metadata": {},
   "source": [
    "Load csv files into Pandas DataFrames"
   ]
  },
  {
   "cell_type": "code",
   "execution_count": 14,
   "metadata": {},
   "outputs": [
    {
     "ename": "KeyError",
     "evalue": "'[\"Mother\\'s Education Code\", \\'Marital Status Code\\'] not found in axis'",
     "output_type": "error",
     "traceback": [
      "\u001b[1;31m---------------------------------------------------------------------------\u001b[0m",
      "\u001b[1;31mKeyError\u001b[0m                                  Traceback (most recent call last)",
      "Cell \u001b[1;32mIn[14], line 3\u001b[0m\n\u001b[0;32m      1\u001b[0m morbidity_df \u001b[39m=\u001b[39m pd\u001b[39m.\u001b[39mread_csv(\\\n\u001b[0;32m      2\u001b[0m     \u001b[39m\"\u001b[39m\u001b[39m../data_csv/races-morbidity.csv\u001b[39m\u001b[39m\"\u001b[39m)\u001b[39m.\u001b[39mdrop(columns\u001b[39m=\u001b[39m[\u001b[39m\"\u001b[39m\u001b[39mNotes\u001b[39m\u001b[39m\"\u001b[39m, \u001b[39m\"\u001b[39m\u001b[39mMaternal Morbidity Checked\u001b[39m\u001b[39m\"\u001b[39m, \u001b[39m\"\u001b[39m\u001b[39mMaternal Morbidity Checked Code\u001b[39m\u001b[39m\"\u001b[39m, \u001b[39m\"\u001b[39m\u001b[39mYear Code\u001b[39m\u001b[39m\"\u001b[39m, \u001b[39m\"\u001b[39m\u001b[39mMother\u001b[39m\u001b[39m'\u001b[39m\u001b[39ms Single Race 6 Code\u001b[39m\u001b[39m\"\u001b[39m])\n\u001b[1;32m----> 3\u001b[0m total_births_df \u001b[39m=\u001b[39m pd\u001b[39m.\u001b[39;49mread_csv(\\\n\u001b[0;32m      4\u001b[0m     \u001b[39m\"\u001b[39;49m\u001b[39m../data_csv/races-total_births.csv\u001b[39;49m\u001b[39m\"\u001b[39;49m)\u001b[39m.\u001b[39;49mdrop(columns\u001b[39m=\u001b[39;49m[\u001b[39m\"\u001b[39;49m\u001b[39mNotes\u001b[39;49m\u001b[39m\"\u001b[39;49m, \u001b[39m\"\u001b[39;49m\u001b[39mMother\u001b[39;49m\u001b[39m'\u001b[39;49m\u001b[39ms Education Code\u001b[39;49m\u001b[39m\"\u001b[39;49m, \u001b[39m\"\u001b[39;49m\u001b[39mYear Code\u001b[39;49m\u001b[39m\"\u001b[39;49m, \u001b[39m\"\u001b[39;49m\u001b[39mMarital Status Code\u001b[39;49m\u001b[39m\"\u001b[39;49m, \u001b[39m\"\u001b[39;49m\u001b[39mMother\u001b[39;49m\u001b[39m'\u001b[39;49m\u001b[39ms Single Race 6 Code\u001b[39;49m\u001b[39m\"\u001b[39;49m, \u001b[39m\"\u001b[39;49m\u001b[39mMother\u001b[39;49m\u001b[39m'\u001b[39;49m\u001b[39ms Hispanic Origin Code\u001b[39;49m\u001b[39m\"\u001b[39;49m])\n\u001b[0;32m      6\u001b[0m display(morbidity_df)\n\u001b[0;32m      7\u001b[0m display(total_births_df)\n",
      "File \u001b[1;32mc:\\installed_programs\\anaconda\\envs\\ece143env\\lib\\site-packages\\pandas\\util\\_decorators.py:331\u001b[0m, in \u001b[0;36mdeprecate_nonkeyword_arguments.<locals>.decorate.<locals>.wrapper\u001b[1;34m(*args, **kwargs)\u001b[0m\n\u001b[0;32m    325\u001b[0m \u001b[39mif\u001b[39;00m \u001b[39mlen\u001b[39m(args) \u001b[39m>\u001b[39m num_allow_args:\n\u001b[0;32m    326\u001b[0m     warnings\u001b[39m.\u001b[39mwarn(\n\u001b[0;32m    327\u001b[0m         msg\u001b[39m.\u001b[39mformat(arguments\u001b[39m=\u001b[39m_format_argument_list(allow_args)),\n\u001b[0;32m    328\u001b[0m         \u001b[39mFutureWarning\u001b[39;00m,\n\u001b[0;32m    329\u001b[0m         stacklevel\u001b[39m=\u001b[39mfind_stack_level(),\n\u001b[0;32m    330\u001b[0m     )\n\u001b[1;32m--> 331\u001b[0m \u001b[39mreturn\u001b[39;00m func(\u001b[39m*\u001b[39margs, \u001b[39m*\u001b[39m\u001b[39m*\u001b[39mkwargs)\n",
      "File \u001b[1;32mc:\\installed_programs\\anaconda\\envs\\ece143env\\lib\\site-packages\\pandas\\core\\frame.py:5399\u001b[0m, in \u001b[0;36mDataFrame.drop\u001b[1;34m(self, labels, axis, index, columns, level, inplace, errors)\u001b[0m\n\u001b[0;32m   5251\u001b[0m \u001b[39m@deprecate_nonkeyword_arguments\u001b[39m(version\u001b[39m=\u001b[39m\u001b[39mNone\u001b[39;00m, allowed_args\u001b[39m=\u001b[39m[\u001b[39m\"\u001b[39m\u001b[39mself\u001b[39m\u001b[39m\"\u001b[39m, \u001b[39m\"\u001b[39m\u001b[39mlabels\u001b[39m\u001b[39m\"\u001b[39m])\n\u001b[0;32m   5252\u001b[0m \u001b[39mdef\u001b[39;00m \u001b[39mdrop\u001b[39m(  \u001b[39m# type: ignore[override]\u001b[39;00m\n\u001b[0;32m   5253\u001b[0m     \u001b[39mself\u001b[39m,\n\u001b[1;32m   (...)\u001b[0m\n\u001b[0;32m   5260\u001b[0m     errors: IgnoreRaise \u001b[39m=\u001b[39m \u001b[39m\"\u001b[39m\u001b[39mraise\u001b[39m\u001b[39m\"\u001b[39m,\n\u001b[0;32m   5261\u001b[0m ) \u001b[39m-\u001b[39m\u001b[39m>\u001b[39m DataFrame \u001b[39m|\u001b[39m \u001b[39mNone\u001b[39;00m:\n\u001b[0;32m   5262\u001b[0m \u001b[39m    \u001b[39m\u001b[39m\"\"\"\u001b[39;00m\n\u001b[0;32m   5263\u001b[0m \u001b[39m    Drop specified labels from rows or columns.\u001b[39;00m\n\u001b[0;32m   5264\u001b[0m \n\u001b[1;32m   (...)\u001b[0m\n\u001b[0;32m   5397\u001b[0m \u001b[39m            weight  1.0     0.8\u001b[39;00m\n\u001b[0;32m   5398\u001b[0m \u001b[39m    \"\"\"\u001b[39;00m\n\u001b[1;32m-> 5399\u001b[0m     \u001b[39mreturn\u001b[39;00m \u001b[39msuper\u001b[39;49m()\u001b[39m.\u001b[39;49mdrop(\n\u001b[0;32m   5400\u001b[0m         labels\u001b[39m=\u001b[39;49mlabels,\n\u001b[0;32m   5401\u001b[0m         axis\u001b[39m=\u001b[39;49maxis,\n\u001b[0;32m   5402\u001b[0m         index\u001b[39m=\u001b[39;49mindex,\n\u001b[0;32m   5403\u001b[0m         columns\u001b[39m=\u001b[39;49mcolumns,\n\u001b[0;32m   5404\u001b[0m         level\u001b[39m=\u001b[39;49mlevel,\n\u001b[0;32m   5405\u001b[0m         inplace\u001b[39m=\u001b[39;49minplace,\n\u001b[0;32m   5406\u001b[0m         errors\u001b[39m=\u001b[39;49merrors,\n\u001b[0;32m   5407\u001b[0m     )\n",
      "File \u001b[1;32mc:\\installed_programs\\anaconda\\envs\\ece143env\\lib\\site-packages\\pandas\\util\\_decorators.py:331\u001b[0m, in \u001b[0;36mdeprecate_nonkeyword_arguments.<locals>.decorate.<locals>.wrapper\u001b[1;34m(*args, **kwargs)\u001b[0m\n\u001b[0;32m    325\u001b[0m \u001b[39mif\u001b[39;00m \u001b[39mlen\u001b[39m(args) \u001b[39m>\u001b[39m num_allow_args:\n\u001b[0;32m    326\u001b[0m     warnings\u001b[39m.\u001b[39mwarn(\n\u001b[0;32m    327\u001b[0m         msg\u001b[39m.\u001b[39mformat(arguments\u001b[39m=\u001b[39m_format_argument_list(allow_args)),\n\u001b[0;32m    328\u001b[0m         \u001b[39mFutureWarning\u001b[39;00m,\n\u001b[0;32m    329\u001b[0m         stacklevel\u001b[39m=\u001b[39mfind_stack_level(),\n\u001b[0;32m    330\u001b[0m     )\n\u001b[1;32m--> 331\u001b[0m \u001b[39mreturn\u001b[39;00m func(\u001b[39m*\u001b[39margs, \u001b[39m*\u001b[39m\u001b[39m*\u001b[39mkwargs)\n",
      "File \u001b[1;32mc:\\installed_programs\\anaconda\\envs\\ece143env\\lib\\site-packages\\pandas\\core\\generic.py:4505\u001b[0m, in \u001b[0;36mNDFrame.drop\u001b[1;34m(self, labels, axis, index, columns, level, inplace, errors)\u001b[0m\n\u001b[0;32m   4503\u001b[0m \u001b[39mfor\u001b[39;00m axis, labels \u001b[39min\u001b[39;00m axes\u001b[39m.\u001b[39mitems():\n\u001b[0;32m   4504\u001b[0m     \u001b[39mif\u001b[39;00m labels \u001b[39mis\u001b[39;00m \u001b[39mnot\u001b[39;00m \u001b[39mNone\u001b[39;00m:\n\u001b[1;32m-> 4505\u001b[0m         obj \u001b[39m=\u001b[39m obj\u001b[39m.\u001b[39;49m_drop_axis(labels, axis, level\u001b[39m=\u001b[39;49mlevel, errors\u001b[39m=\u001b[39;49merrors)\n\u001b[0;32m   4507\u001b[0m \u001b[39mif\u001b[39;00m inplace:\n\u001b[0;32m   4508\u001b[0m     \u001b[39mself\u001b[39m\u001b[39m.\u001b[39m_update_inplace(obj)\n",
      "File \u001b[1;32mc:\\installed_programs\\anaconda\\envs\\ece143env\\lib\\site-packages\\pandas\\core\\generic.py:4546\u001b[0m, in \u001b[0;36mNDFrame._drop_axis\u001b[1;34m(self, labels, axis, level, errors, only_slice)\u001b[0m\n\u001b[0;32m   4544\u001b[0m         new_axis \u001b[39m=\u001b[39m axis\u001b[39m.\u001b[39mdrop(labels, level\u001b[39m=\u001b[39mlevel, errors\u001b[39m=\u001b[39merrors)\n\u001b[0;32m   4545\u001b[0m     \u001b[39melse\u001b[39;00m:\n\u001b[1;32m-> 4546\u001b[0m         new_axis \u001b[39m=\u001b[39m axis\u001b[39m.\u001b[39;49mdrop(labels, errors\u001b[39m=\u001b[39;49merrors)\n\u001b[0;32m   4547\u001b[0m     indexer \u001b[39m=\u001b[39m axis\u001b[39m.\u001b[39mget_indexer(new_axis)\n\u001b[0;32m   4549\u001b[0m \u001b[39m# Case for non-unique axis\u001b[39;00m\n\u001b[0;32m   4550\u001b[0m \u001b[39melse\u001b[39;00m:\n",
      "File \u001b[1;32mc:\\installed_programs\\anaconda\\envs\\ece143env\\lib\\site-packages\\pandas\\core\\indexes\\base.py:6934\u001b[0m, in \u001b[0;36mIndex.drop\u001b[1;34m(self, labels, errors)\u001b[0m\n\u001b[0;32m   6932\u001b[0m \u001b[39mif\u001b[39;00m mask\u001b[39m.\u001b[39many():\n\u001b[0;32m   6933\u001b[0m     \u001b[39mif\u001b[39;00m errors \u001b[39m!=\u001b[39m \u001b[39m\"\u001b[39m\u001b[39mignore\u001b[39m\u001b[39m\"\u001b[39m:\n\u001b[1;32m-> 6934\u001b[0m         \u001b[39mraise\u001b[39;00m \u001b[39mKeyError\u001b[39;00m(\u001b[39mf\u001b[39m\u001b[39m\"\u001b[39m\u001b[39m{\u001b[39;00m\u001b[39mlist\u001b[39m(labels[mask])\u001b[39m}\u001b[39;00m\u001b[39m not found in axis\u001b[39m\u001b[39m\"\u001b[39m)\n\u001b[0;32m   6935\u001b[0m     indexer \u001b[39m=\u001b[39m indexer[\u001b[39m~\u001b[39mmask]\n\u001b[0;32m   6936\u001b[0m \u001b[39mreturn\u001b[39;00m \u001b[39mself\u001b[39m\u001b[39m.\u001b[39mdelete(indexer)\n",
      "\u001b[1;31mKeyError\u001b[0m: '[\"Mother\\'s Education Code\", \\'Marital Status Code\\'] not found in axis'"
     ]
    }
   ],
   "source": [
    "morbidity_df = pd.read_csv(\\\n",
    "    \"../data_csv/races-morbidity.csv\").drop(columns=[\"Notes\", \"Maternal Morbidity Checked\", \"Maternal Morbidity Checked Code\", \"Year Code\", \"Mother's Single Race 6 Code\"])\n",
    "total_births_df = pd.read_csv(\\\n",
    "    \"../data_csv/races-total_births.csv\").drop(columns=[\"Notes\", \"Year Code\", \"Mother's Single Race 6 Code\", \"Mother's Hispanic Origin Code\"])\n",
    "\n",
    "display(morbidity_df)\n",
    "display(total_births_df)\n"
   ]
  },
  {
   "attachments": {},
   "cell_type": "markdown",
   "metadata": {},
   "source": [
    "Clean up data"
   ]
  },
  {
   "cell_type": "code",
   "execution_count": 6,
   "metadata": {},
   "outputs": [
    {
     "data": {
      "text/html": [
       "<div>\n",
       "<style scoped>\n",
       "    .dataframe tbody tr th:only-of-type {\n",
       "        vertical-align: middle;\n",
       "    }\n",
       "\n",
       "    .dataframe tbody tr th {\n",
       "        vertical-align: top;\n",
       "    }\n",
       "\n",
       "    .dataframe thead th {\n",
       "        text-align: right;\n",
       "    }\n",
       "</style>\n",
       "<table border=\"1\" class=\"dataframe\">\n",
       "  <thead>\n",
       "    <tr style=\"text-align: right;\">\n",
       "      <th></th>\n",
       "      <th>Mother's Education</th>\n",
       "      <th>Marital Status</th>\n",
       "      <th>Mother's Single Race 6</th>\n",
       "      <th>Mother's Hispanic Origin</th>\n",
       "      <th>Year</th>\n",
       "      <th>Total Births</th>\n",
       "      <th>Births w/ Morbidity</th>\n",
       "    </tr>\n",
       "  </thead>\n",
       "  <tbody>\n",
       "    <tr>\n",
       "      <th>3</th>\n",
       "      <td>8th grade or less</td>\n",
       "      <td>Married</td>\n",
       "      <td>Asian</td>\n",
       "      <td>Not Hispanic or Latino</td>\n",
       "      <td>2021.0</td>\n",
       "      <td>2890.0</td>\n",
       "      <td>51.0</td>\n",
       "    </tr>\n",
       "    <tr>\n",
       "      <th>5</th>\n",
       "      <td>8th grade or less</td>\n",
       "      <td>Married</td>\n",
       "      <td>Black or African American</td>\n",
       "      <td>Hispanic or Latino</td>\n",
       "      <td>2021.0</td>\n",
       "      <td>1078.0</td>\n",
       "      <td>12.0</td>\n",
       "    </tr>\n",
       "    <tr>\n",
       "      <th>6</th>\n",
       "      <td>8th grade or less</td>\n",
       "      <td>Married</td>\n",
       "      <td>Black or African American</td>\n",
       "      <td>Not Hispanic or Latino</td>\n",
       "      <td>2021.0</td>\n",
       "      <td>3030.0</td>\n",
       "      <td>64.0</td>\n",
       "    </tr>\n",
       "    <tr>\n",
       "      <th>10</th>\n",
       "      <td>8th grade or less</td>\n",
       "      <td>Married</td>\n",
       "      <td>White</td>\n",
       "      <td>Hispanic or Latino</td>\n",
       "      <td>2021.0</td>\n",
       "      <td>16895.0</td>\n",
       "      <td>186.0</td>\n",
       "    </tr>\n",
       "    <tr>\n",
       "      <th>11</th>\n",
       "      <td>8th grade or less</td>\n",
       "      <td>Married</td>\n",
       "      <td>White</td>\n",
       "      <td>Not Hispanic or Latino</td>\n",
       "      <td>2021.0</td>\n",
       "      <td>19023.0</td>\n",
       "      <td>239.0</td>\n",
       "    </tr>\n",
       "    <tr>\n",
       "      <th>...</th>\n",
       "      <td>...</td>\n",
       "      <td>...</td>\n",
       "      <td>...</td>\n",
       "      <td>...</td>\n",
       "      <td>...</td>\n",
       "      <td>...</td>\n",
       "      <td>...</td>\n",
       "    </tr>\n",
       "    <tr>\n",
       "      <th>237</th>\n",
       "      <td>Doctorate (PhD, EdD) or Professional Degree (M...</td>\n",
       "      <td>Married</td>\n",
       "      <td>White</td>\n",
       "      <td>Not Hispanic or Latino</td>\n",
       "      <td>2021.0</td>\n",
       "      <td>59180.0</td>\n",
       "      <td>1116.0</td>\n",
       "    </tr>\n",
       "    <tr>\n",
       "      <th>240</th>\n",
       "      <td>Doctorate (PhD, EdD) or Professional Degree (M...</td>\n",
       "      <td>Married</td>\n",
       "      <td>More than one race</td>\n",
       "      <td>Not Hispanic or Latino</td>\n",
       "      <td>2021.0</td>\n",
       "      <td>1414.0</td>\n",
       "      <td>29.0</td>\n",
       "    </tr>\n",
       "    <tr>\n",
       "      <th>242</th>\n",
       "      <td>Doctorate (PhD, EdD) or Professional Degree (M...</td>\n",
       "      <td>Unmarried</td>\n",
       "      <td>Asian</td>\n",
       "      <td>Not Hispanic or Latino</td>\n",
       "      <td>2021.0</td>\n",
       "      <td>309.0</td>\n",
       "      <td>10.0</td>\n",
       "    </tr>\n",
       "    <tr>\n",
       "      <th>244</th>\n",
       "      <td>Doctorate (PhD, EdD) or Professional Degree (M...</td>\n",
       "      <td>Unmarried</td>\n",
       "      <td>Black or African American</td>\n",
       "      <td>Not Hispanic or Latino</td>\n",
       "      <td>2021.0</td>\n",
       "      <td>838.0</td>\n",
       "      <td>12.0</td>\n",
       "    </tr>\n",
       "    <tr>\n",
       "      <th>246</th>\n",
       "      <td>Doctorate (PhD, EdD) or Professional Degree (M...</td>\n",
       "      <td>Unmarried</td>\n",
       "      <td>White</td>\n",
       "      <td>Not Hispanic or Latino</td>\n",
       "      <td>2021.0</td>\n",
       "      <td>2439.0</td>\n",
       "      <td>44.0</td>\n",
       "    </tr>\n",
       "  </tbody>\n",
       "</table>\n",
       "<p>117 rows × 7 columns</p>\n",
       "</div>"
      ],
      "text/plain": [
       "                                    Mother's Education Marital Status  \\\n",
       "3                                    8th grade or less        Married   \n",
       "5                                    8th grade or less        Married   \n",
       "6                                    8th grade or less        Married   \n",
       "10                                   8th grade or less        Married   \n",
       "11                                   8th grade or less        Married   \n",
       "..                                                 ...            ...   \n",
       "237  Doctorate (PhD, EdD) or Professional Degree (M...        Married   \n",
       "240  Doctorate (PhD, EdD) or Professional Degree (M...        Married   \n",
       "242  Doctorate (PhD, EdD) or Professional Degree (M...      Unmarried   \n",
       "244  Doctorate (PhD, EdD) or Professional Degree (M...      Unmarried   \n",
       "246  Doctorate (PhD, EdD) or Professional Degree (M...      Unmarried   \n",
       "\n",
       "        Mother's Single Race 6 Mother's Hispanic Origin    Year  Total Births  \\\n",
       "3                        Asian   Not Hispanic or Latino  2021.0        2890.0   \n",
       "5    Black or African American       Hispanic or Latino  2021.0        1078.0   \n",
       "6    Black or African American   Not Hispanic or Latino  2021.0        3030.0   \n",
       "10                       White       Hispanic or Latino  2021.0       16895.0   \n",
       "11                       White   Not Hispanic or Latino  2021.0       19023.0   \n",
       "..                         ...                      ...     ...           ...   \n",
       "237                      White   Not Hispanic or Latino  2021.0       59180.0   \n",
       "240         More than one race   Not Hispanic or Latino  2021.0        1414.0   \n",
       "242                      Asian   Not Hispanic or Latino  2021.0         309.0   \n",
       "244  Black or African American   Not Hispanic or Latino  2021.0         838.0   \n",
       "246                      White   Not Hispanic or Latino  2021.0        2439.0   \n",
       "\n",
       "     Births w/ Morbidity  \n",
       "3                   51.0  \n",
       "5                   12.0  \n",
       "6                   64.0  \n",
       "10                 186.0  \n",
       "11                 239.0  \n",
       "..                   ...  \n",
       "237               1116.0  \n",
       "240                 29.0  \n",
       "242                 10.0  \n",
       "244                 12.0  \n",
       "246                 44.0  \n",
       "\n",
       "[117 rows x 7 columns]"
      ]
     },
     "metadata": {},
     "output_type": "display_data"
    },
    {
     "data": {
      "text/html": [
       "<div>\n",
       "<style scoped>\n",
       "    .dataframe tbody tr th:only-of-type {\n",
       "        vertical-align: middle;\n",
       "    }\n",
       "\n",
       "    .dataframe tbody tr th {\n",
       "        vertical-align: top;\n",
       "    }\n",
       "\n",
       "    .dataframe thead th {\n",
       "        text-align: right;\n",
       "    }\n",
       "</style>\n",
       "<table border=\"1\" class=\"dataframe\">\n",
       "  <thead>\n",
       "    <tr style=\"text-align: right;\">\n",
       "      <th></th>\n",
       "      <th>Mother's Education</th>\n",
       "      <th>Marital Status</th>\n",
       "      <th>Mother's Single Race 6</th>\n",
       "      <th>Year</th>\n",
       "      <th>Total Births</th>\n",
       "      <th>Births w/ Morbidity</th>\n",
       "    </tr>\n",
       "  </thead>\n",
       "  <tbody>\n",
       "    <tr>\n",
       "      <th>0</th>\n",
       "      <td>8th grade or less</td>\n",
       "      <td>Married</td>\n",
       "      <td>Asian</td>\n",
       "      <td>2021.0</td>\n",
       "      <td>2890.0</td>\n",
       "      <td>51.0</td>\n",
       "    </tr>\n",
       "    <tr>\n",
       "      <th>1</th>\n",
       "      <td>8th grade or less</td>\n",
       "      <td>Married</td>\n",
       "      <td>Black or African American</td>\n",
       "      <td>2021.0</td>\n",
       "      <td>3030.0</td>\n",
       "      <td>64.0</td>\n",
       "    </tr>\n",
       "    <tr>\n",
       "      <th>2</th>\n",
       "      <td>8th grade or less</td>\n",
       "      <td>Married</td>\n",
       "      <td>White</td>\n",
       "      <td>2021.0</td>\n",
       "      <td>19023.0</td>\n",
       "      <td>239.0</td>\n",
       "    </tr>\n",
       "    <tr>\n",
       "      <th>3</th>\n",
       "      <td>8th grade or less</td>\n",
       "      <td>Unmarried</td>\n",
       "      <td>Black or African American</td>\n",
       "      <td>2021.0</td>\n",
       "      <td>2343.0</td>\n",
       "      <td>44.0</td>\n",
       "    </tr>\n",
       "    <tr>\n",
       "      <th>4</th>\n",
       "      <td>8th grade or less</td>\n",
       "      <td>Unmarried</td>\n",
       "      <td>White</td>\n",
       "      <td>2021.0</td>\n",
       "      <td>3966.0</td>\n",
       "      <td>46.0</td>\n",
       "    </tr>\n",
       "    <tr>\n",
       "      <th>...</th>\n",
       "      <td>...</td>\n",
       "      <td>...</td>\n",
       "      <td>...</td>\n",
       "      <td>...</td>\n",
       "      <td>...</td>\n",
       "      <td>...</td>\n",
       "    </tr>\n",
       "    <tr>\n",
       "      <th>85</th>\n",
       "      <td>High school graduate or GED completed</td>\n",
       "      <td>Unmarried</td>\n",
       "      <td>Hispanic Origin</td>\n",
       "      <td>2021.0</td>\n",
       "      <td>123379.0</td>\n",
       "      <td>1330.0</td>\n",
       "    </tr>\n",
       "    <tr>\n",
       "      <th>86</th>\n",
       "      <td>Master's degree (MA, MS, MEng, MEd, MSW, MBA)</td>\n",
       "      <td>Married</td>\n",
       "      <td>Hispanic Origin</td>\n",
       "      <td>2021.0</td>\n",
       "      <td>20196.0</td>\n",
       "      <td>291.0</td>\n",
       "    </tr>\n",
       "    <tr>\n",
       "      <th>87</th>\n",
       "      <td>Master's degree (MA, MS, MEng, MEd, MSW, MBA)</td>\n",
       "      <td>Unmarried</td>\n",
       "      <td>Hispanic Origin</td>\n",
       "      <td>2021.0</td>\n",
       "      <td>3826.0</td>\n",
       "      <td>50.0</td>\n",
       "    </tr>\n",
       "    <tr>\n",
       "      <th>88</th>\n",
       "      <td>Some college credit, but not a degree</td>\n",
       "      <td>Married</td>\n",
       "      <td>Hispanic Origin</td>\n",
       "      <td>2021.0</td>\n",
       "      <td>56166.0</td>\n",
       "      <td>640.0</td>\n",
       "    </tr>\n",
       "    <tr>\n",
       "      <th>89</th>\n",
       "      <td>Some college credit, but not a degree</td>\n",
       "      <td>Unmarried</td>\n",
       "      <td>Hispanic Origin</td>\n",
       "      <td>2021.0</td>\n",
       "      <td>60505.0</td>\n",
       "      <td>679.0</td>\n",
       "    </tr>\n",
       "  </tbody>\n",
       "</table>\n",
       "<p>90 rows × 6 columns</p>\n",
       "</div>"
      ],
      "text/plain": [
       "                               Mother's Education Marital Status  \\\n",
       "0                               8th grade or less        Married   \n",
       "1                               8th grade or less        Married   \n",
       "2                               8th grade or less        Married   \n",
       "3                               8th grade or less      Unmarried   \n",
       "4                               8th grade or less      Unmarried   \n",
       "..                                            ...            ...   \n",
       "85          High school graduate or GED completed      Unmarried   \n",
       "86  Master's degree (MA, MS, MEng, MEd, MSW, MBA)        Married   \n",
       "87  Master's degree (MA, MS, MEng, MEd, MSW, MBA)      Unmarried   \n",
       "88          Some college credit, but not a degree        Married   \n",
       "89          Some college credit, but not a degree      Unmarried   \n",
       "\n",
       "       Mother's Single Race 6    Year  Total Births  Births w/ Morbidity  \n",
       "0                       Asian  2021.0        2890.0                 51.0  \n",
       "1   Black or African American  2021.0        3030.0                 64.0  \n",
       "2                       White  2021.0       19023.0                239.0  \n",
       "3   Black or African American  2021.0        2343.0                 44.0  \n",
       "4                       White  2021.0        3966.0                 46.0  \n",
       "..                        ...     ...           ...                  ...  \n",
       "85            Hispanic Origin  2021.0      123379.0               1330.0  \n",
       "86            Hispanic Origin  2021.0       20196.0                291.0  \n",
       "87            Hispanic Origin  2021.0        3826.0                 50.0  \n",
       "88            Hispanic Origin  2021.0       56166.0                640.0  \n",
       "89            Hispanic Origin  2021.0       60505.0                679.0  \n",
       "\n",
       "[90 rows x 6 columns]"
      ]
     },
     "metadata": {},
     "output_type": "display_data"
    }
   ],
   "source": [
    "# # remove NaN rows\n",
    "# morbidity_df = morbidity_df.dropna()\n",
    "# total_births_df = total_births_df.dropna()\n",
    "\n",
    "# only work on year\n",
    "morbidity_df = morbidity_df[morbidity_df[\"Year\"] == year]\n",
    "total_births_df = total_births_df[total_births_df[\"Year\"] == year]\n",
    "\n",
    "# reset indices to start from 0\n",
    "total_births_df = total_births_df.reset_index(drop=True)\n",
    "morbidity_df = morbidity_df.reset_index(drop=True)\n",
    "\n",
    "# create new df for the ratio!\n",
    "ratio_df = total_births_df.merge(morbidity_df, on=[\"Mother's Education\", \"Marital Status\", \"Mother's Single Race 6\", \"Mother's Hispanic Origin\", \"Year\"], how=\"left\")\n",
    "\n",
    "# rename columns\n",
    "ratio_df = ratio_df.rename(columns={\"Births_x\":\"Total Births\", \"Births_y\":\"Births w/ Morbidity\"})\n",
    "\n",
    "# remove NaN rows\n",
    "ratio_df = ratio_df.dropna()\n",
    "\n",
    "display(ratio_df)\n",
    "\n",
    "# isolate hispanic origin rows\n",
    "hisp_df = ratio_df[ratio_df[\"Mother's Hispanic Origin\"] == \"Hispanic or Latino\"]\n",
    "ratio_df = ratio_df[ratio_df[\"Mother's Hispanic Origin\"] == \"Not Hispanic or Latino\"]\n",
    "\n",
    "# find sum of Births and Morbidity columns by Marital Status and Edu Lvl\n",
    "hisp_df[\"Mother\\'s Single Race 6\"] = \"Hispanic Origin\"\n",
    "hisp_df = hisp_df.groupby([\"Mother's Education\", \"Marital Status\"]).aggregate({\"Mother's Single Race 6\":\"first\", \"Year\":\"first\", \"Total Births\": \"sum\", \"Births w/ Morbidity\": \"sum\"}).reset_index()\n",
    "\n",
    "# add rows to include hispanic origin for year\n",
    "ratio_df = pd.concat([ratio_df, hisp_df]).drop(columns=\"Mother's Hispanic Origin\").reset_index(drop=True)\n",
    "\n",
    "\n",
    "display(ratio_df)"
   ]
  },
  {
   "attachments": {},
   "cell_type": "markdown",
   "metadata": {},
   "source": [
    "Calculate Ratio for each row (The numbers end up being so high though!)"
   ]
  },
  {
   "cell_type": "code",
   "execution_count": 7,
   "metadata": {},
   "outputs": [
    {
     "data": {
      "text/html": [
       "<div>\n",
       "<style scoped>\n",
       "    .dataframe tbody tr th:only-of-type {\n",
       "        vertical-align: middle;\n",
       "    }\n",
       "\n",
       "    .dataframe tbody tr th {\n",
       "        vertical-align: top;\n",
       "    }\n",
       "\n",
       "    .dataframe thead th {\n",
       "        text-align: right;\n",
       "    }\n",
       "</style>\n",
       "<table border=\"1\" class=\"dataframe\">\n",
       "  <thead>\n",
       "    <tr style=\"text-align: right;\">\n",
       "      <th></th>\n",
       "      <th>Mother's Education</th>\n",
       "      <th>Marital Status</th>\n",
       "      <th>Mother's Single Race 6</th>\n",
       "      <th>Year</th>\n",
       "      <th>Total Births</th>\n",
       "      <th>Births w/ Morbidity</th>\n",
       "      <th>Maternal Morbidity Ratio per 100,000 Live Births</th>\n",
       "    </tr>\n",
       "  </thead>\n",
       "  <tbody>\n",
       "    <tr>\n",
       "      <th>0</th>\n",
       "      <td>8th grade or less</td>\n",
       "      <td>Married</td>\n",
       "      <td>Asian</td>\n",
       "      <td>2021.0</td>\n",
       "      <td>2890.0</td>\n",
       "      <td>51.0</td>\n",
       "      <td>1765.0</td>\n",
       "    </tr>\n",
       "    <tr>\n",
       "      <th>1</th>\n",
       "      <td>8th grade or less</td>\n",
       "      <td>Married</td>\n",
       "      <td>Black or African American</td>\n",
       "      <td>2021.0</td>\n",
       "      <td>3030.0</td>\n",
       "      <td>64.0</td>\n",
       "      <td>2112.0</td>\n",
       "    </tr>\n",
       "    <tr>\n",
       "      <th>2</th>\n",
       "      <td>8th grade or less</td>\n",
       "      <td>Married</td>\n",
       "      <td>White</td>\n",
       "      <td>2021.0</td>\n",
       "      <td>19023.0</td>\n",
       "      <td>239.0</td>\n",
       "      <td>1256.0</td>\n",
       "    </tr>\n",
       "    <tr>\n",
       "      <th>3</th>\n",
       "      <td>8th grade or less</td>\n",
       "      <td>Unmarried</td>\n",
       "      <td>Black or African American</td>\n",
       "      <td>2021.0</td>\n",
       "      <td>2343.0</td>\n",
       "      <td>44.0</td>\n",
       "      <td>1878.0</td>\n",
       "    </tr>\n",
       "    <tr>\n",
       "      <th>4</th>\n",
       "      <td>8th grade or less</td>\n",
       "      <td>Unmarried</td>\n",
       "      <td>White</td>\n",
       "      <td>2021.0</td>\n",
       "      <td>3966.0</td>\n",
       "      <td>46.0</td>\n",
       "      <td>1160.0</td>\n",
       "    </tr>\n",
       "    <tr>\n",
       "      <th>...</th>\n",
       "      <td>...</td>\n",
       "      <td>...</td>\n",
       "      <td>...</td>\n",
       "      <td>...</td>\n",
       "      <td>...</td>\n",
       "      <td>...</td>\n",
       "      <td>...</td>\n",
       "    </tr>\n",
       "    <tr>\n",
       "      <th>85</th>\n",
       "      <td>High school graduate or GED completed</td>\n",
       "      <td>Unmarried</td>\n",
       "      <td>Hispanic Origin</td>\n",
       "      <td>2021.0</td>\n",
       "      <td>123379.0</td>\n",
       "      <td>1330.0</td>\n",
       "      <td>1078.0</td>\n",
       "    </tr>\n",
       "    <tr>\n",
       "      <th>86</th>\n",
       "      <td>Master's degree (MA, MS, MEng, MEd, MSW, MBA)</td>\n",
       "      <td>Married</td>\n",
       "      <td>Hispanic Origin</td>\n",
       "      <td>2021.0</td>\n",
       "      <td>20196.0</td>\n",
       "      <td>291.0</td>\n",
       "      <td>1441.0</td>\n",
       "    </tr>\n",
       "    <tr>\n",
       "      <th>87</th>\n",
       "      <td>Master's degree (MA, MS, MEng, MEd, MSW, MBA)</td>\n",
       "      <td>Unmarried</td>\n",
       "      <td>Hispanic Origin</td>\n",
       "      <td>2021.0</td>\n",
       "      <td>3826.0</td>\n",
       "      <td>50.0</td>\n",
       "      <td>1307.0</td>\n",
       "    </tr>\n",
       "    <tr>\n",
       "      <th>88</th>\n",
       "      <td>Some college credit, but not a degree</td>\n",
       "      <td>Married</td>\n",
       "      <td>Hispanic Origin</td>\n",
       "      <td>2021.0</td>\n",
       "      <td>56166.0</td>\n",
       "      <td>640.0</td>\n",
       "      <td>1139.0</td>\n",
       "    </tr>\n",
       "    <tr>\n",
       "      <th>89</th>\n",
       "      <td>Some college credit, but not a degree</td>\n",
       "      <td>Unmarried</td>\n",
       "      <td>Hispanic Origin</td>\n",
       "      <td>2021.0</td>\n",
       "      <td>60505.0</td>\n",
       "      <td>679.0</td>\n",
       "      <td>1122.0</td>\n",
       "    </tr>\n",
       "  </tbody>\n",
       "</table>\n",
       "<p>90 rows × 7 columns</p>\n",
       "</div>"
      ],
      "text/plain": [
       "                               Mother's Education Marital Status  \\\n",
       "0                               8th grade or less        Married   \n",
       "1                               8th grade or less        Married   \n",
       "2                               8th grade or less        Married   \n",
       "3                               8th grade or less      Unmarried   \n",
       "4                               8th grade or less      Unmarried   \n",
       "..                                            ...            ...   \n",
       "85          High school graduate or GED completed      Unmarried   \n",
       "86  Master's degree (MA, MS, MEng, MEd, MSW, MBA)        Married   \n",
       "87  Master's degree (MA, MS, MEng, MEd, MSW, MBA)      Unmarried   \n",
       "88          Some college credit, but not a degree        Married   \n",
       "89          Some college credit, but not a degree      Unmarried   \n",
       "\n",
       "       Mother's Single Race 6    Year  Total Births  Births w/ Morbidity  \\\n",
       "0                       Asian  2021.0        2890.0                 51.0   \n",
       "1   Black or African American  2021.0        3030.0                 64.0   \n",
       "2                       White  2021.0       19023.0                239.0   \n",
       "3   Black or African American  2021.0        2343.0                 44.0   \n",
       "4                       White  2021.0        3966.0                 46.0   \n",
       "..                        ...     ...           ...                  ...   \n",
       "85            Hispanic Origin  2021.0      123379.0               1330.0   \n",
       "86            Hispanic Origin  2021.0       20196.0                291.0   \n",
       "87            Hispanic Origin  2021.0        3826.0                 50.0   \n",
       "88            Hispanic Origin  2021.0       56166.0                640.0   \n",
       "89            Hispanic Origin  2021.0       60505.0                679.0   \n",
       "\n",
       "    Maternal Morbidity Ratio per 100,000 Live Births  \n",
       "0                                             1765.0  \n",
       "1                                             2112.0  \n",
       "2                                             1256.0  \n",
       "3                                             1878.0  \n",
       "4                                             1160.0  \n",
       "..                                               ...  \n",
       "85                                            1078.0  \n",
       "86                                            1441.0  \n",
       "87                                            1307.0  \n",
       "88                                            1139.0  \n",
       "89                                            1122.0  \n",
       "\n",
       "[90 rows x 7 columns]"
      ]
     },
     "metadata": {},
     "output_type": "display_data"
    }
   ],
   "source": [
    "# create column for MMR = (Deaths/Live Births * 100,000)\n",
    "ratio_df[\"Maternal Morbidity Ratio per 100,000 Live Births\"] = round(\n",
    "    ratio_df[\"Births w/ Morbidity\"] / ratio_df[\"Total Births\"] * 100000)\n",
    "\n",
    "display(ratio_df)"
   ]
  },
  {
   "attachments": {},
   "cell_type": "markdown",
   "metadata": {},
   "source": [
    "Do it by percentage instead?"
   ]
  },
  {
   "cell_type": "code",
   "execution_count": 8,
   "metadata": {},
   "outputs": [
    {
     "data": {
      "text/html": [
       "<div>\n",
       "<style scoped>\n",
       "    .dataframe tbody tr th:only-of-type {\n",
       "        vertical-align: middle;\n",
       "    }\n",
       "\n",
       "    .dataframe tbody tr th {\n",
       "        vertical-align: top;\n",
       "    }\n",
       "\n",
       "    .dataframe thead th {\n",
       "        text-align: right;\n",
       "    }\n",
       "</style>\n",
       "<table border=\"1\" class=\"dataframe\">\n",
       "  <thead>\n",
       "    <tr style=\"text-align: right;\">\n",
       "      <th></th>\n",
       "      <th>Mother's Education</th>\n",
       "      <th>Marital Status</th>\n",
       "      <th>Mother's Single Race 6</th>\n",
       "      <th>Year</th>\n",
       "      <th>Total Births</th>\n",
       "      <th>Births w/ Morbidity</th>\n",
       "      <th>Maternal Morbidity Ratio per 100,000 Live Births</th>\n",
       "      <th>Percentage of Live Births in Population</th>\n",
       "    </tr>\n",
       "  </thead>\n",
       "  <tbody>\n",
       "    <tr>\n",
       "      <th>0</th>\n",
       "      <td>8th grade or less</td>\n",
       "      <td>Married</td>\n",
       "      <td>Asian</td>\n",
       "      <td>2021.0</td>\n",
       "      <td>2890.0</td>\n",
       "      <td>51.0</td>\n",
       "      <td>1765.0</td>\n",
       "      <td>1.764706</td>\n",
       "    </tr>\n",
       "    <tr>\n",
       "      <th>1</th>\n",
       "      <td>8th grade or less</td>\n",
       "      <td>Married</td>\n",
       "      <td>Black or African American</td>\n",
       "      <td>2021.0</td>\n",
       "      <td>3030.0</td>\n",
       "      <td>64.0</td>\n",
       "      <td>2112.0</td>\n",
       "      <td>2.112211</td>\n",
       "    </tr>\n",
       "    <tr>\n",
       "      <th>2</th>\n",
       "      <td>8th grade or less</td>\n",
       "      <td>Married</td>\n",
       "      <td>White</td>\n",
       "      <td>2021.0</td>\n",
       "      <td>19023.0</td>\n",
       "      <td>239.0</td>\n",
       "      <td>1256.0</td>\n",
       "      <td>1.256374</td>\n",
       "    </tr>\n",
       "    <tr>\n",
       "      <th>3</th>\n",
       "      <td>8th grade or less</td>\n",
       "      <td>Unmarried</td>\n",
       "      <td>Black or African American</td>\n",
       "      <td>2021.0</td>\n",
       "      <td>2343.0</td>\n",
       "      <td>44.0</td>\n",
       "      <td>1878.0</td>\n",
       "      <td>1.877934</td>\n",
       "    </tr>\n",
       "    <tr>\n",
       "      <th>4</th>\n",
       "      <td>8th grade or less</td>\n",
       "      <td>Unmarried</td>\n",
       "      <td>White</td>\n",
       "      <td>2021.0</td>\n",
       "      <td>3966.0</td>\n",
       "      <td>46.0</td>\n",
       "      <td>1160.0</td>\n",
       "      <td>1.159859</td>\n",
       "    </tr>\n",
       "    <tr>\n",
       "      <th>...</th>\n",
       "      <td>...</td>\n",
       "      <td>...</td>\n",
       "      <td>...</td>\n",
       "      <td>...</td>\n",
       "      <td>...</td>\n",
       "      <td>...</td>\n",
       "      <td>...</td>\n",
       "      <td>...</td>\n",
       "    </tr>\n",
       "    <tr>\n",
       "      <th>85</th>\n",
       "      <td>High school graduate or GED completed</td>\n",
       "      <td>Unmarried</td>\n",
       "      <td>Hispanic Origin</td>\n",
       "      <td>2021.0</td>\n",
       "      <td>123379.0</td>\n",
       "      <td>1330.0</td>\n",
       "      <td>1078.0</td>\n",
       "      <td>1.077979</td>\n",
       "    </tr>\n",
       "    <tr>\n",
       "      <th>86</th>\n",
       "      <td>Master's degree (MA, MS, MEng, MEd, MSW, MBA)</td>\n",
       "      <td>Married</td>\n",
       "      <td>Hispanic Origin</td>\n",
       "      <td>2021.0</td>\n",
       "      <td>20196.0</td>\n",
       "      <td>291.0</td>\n",
       "      <td>1441.0</td>\n",
       "      <td>1.440879</td>\n",
       "    </tr>\n",
       "    <tr>\n",
       "      <th>87</th>\n",
       "      <td>Master's degree (MA, MS, MEng, MEd, MSW, MBA)</td>\n",
       "      <td>Unmarried</td>\n",
       "      <td>Hispanic Origin</td>\n",
       "      <td>2021.0</td>\n",
       "      <td>3826.0</td>\n",
       "      <td>50.0</td>\n",
       "      <td>1307.0</td>\n",
       "      <td>1.306848</td>\n",
       "    </tr>\n",
       "    <tr>\n",
       "      <th>88</th>\n",
       "      <td>Some college credit, but not a degree</td>\n",
       "      <td>Married</td>\n",
       "      <td>Hispanic Origin</td>\n",
       "      <td>2021.0</td>\n",
       "      <td>56166.0</td>\n",
       "      <td>640.0</td>\n",
       "      <td>1139.0</td>\n",
       "      <td>1.139479</td>\n",
       "    </tr>\n",
       "    <tr>\n",
       "      <th>89</th>\n",
       "      <td>Some college credit, but not a degree</td>\n",
       "      <td>Unmarried</td>\n",
       "      <td>Hispanic Origin</td>\n",
       "      <td>2021.0</td>\n",
       "      <td>60505.0</td>\n",
       "      <td>679.0</td>\n",
       "      <td>1122.0</td>\n",
       "      <td>1.122221</td>\n",
       "    </tr>\n",
       "  </tbody>\n",
       "</table>\n",
       "<p>90 rows × 8 columns</p>\n",
       "</div>"
      ],
      "text/plain": [
       "                               Mother's Education Marital Status  \\\n",
       "0                               8th grade or less        Married   \n",
       "1                               8th grade or less        Married   \n",
       "2                               8th grade or less        Married   \n",
       "3                               8th grade or less      Unmarried   \n",
       "4                               8th grade or less      Unmarried   \n",
       "..                                            ...            ...   \n",
       "85          High school graduate or GED completed      Unmarried   \n",
       "86  Master's degree (MA, MS, MEng, MEd, MSW, MBA)        Married   \n",
       "87  Master's degree (MA, MS, MEng, MEd, MSW, MBA)      Unmarried   \n",
       "88          Some college credit, but not a degree        Married   \n",
       "89          Some college credit, but not a degree      Unmarried   \n",
       "\n",
       "       Mother's Single Race 6    Year  Total Births  Births w/ Morbidity  \\\n",
       "0                       Asian  2021.0        2890.0                 51.0   \n",
       "1   Black or African American  2021.0        3030.0                 64.0   \n",
       "2                       White  2021.0       19023.0                239.0   \n",
       "3   Black or African American  2021.0        2343.0                 44.0   \n",
       "4                       White  2021.0        3966.0                 46.0   \n",
       "..                        ...     ...           ...                  ...   \n",
       "85            Hispanic Origin  2021.0      123379.0               1330.0   \n",
       "86            Hispanic Origin  2021.0       20196.0                291.0   \n",
       "87            Hispanic Origin  2021.0        3826.0                 50.0   \n",
       "88            Hispanic Origin  2021.0       56166.0                640.0   \n",
       "89            Hispanic Origin  2021.0       60505.0                679.0   \n",
       "\n",
       "    Maternal Morbidity Ratio per 100,000 Live Births  \\\n",
       "0                                             1765.0   \n",
       "1                                             2112.0   \n",
       "2                                             1256.0   \n",
       "3                                             1878.0   \n",
       "4                                             1160.0   \n",
       "..                                               ...   \n",
       "85                                            1078.0   \n",
       "86                                            1441.0   \n",
       "87                                            1307.0   \n",
       "88                                            1139.0   \n",
       "89                                            1122.0   \n",
       "\n",
       "    Percentage of Live Births in Population  \n",
       "0                                  1.764706  \n",
       "1                                  2.112211  \n",
       "2                                  1.256374  \n",
       "3                                  1.877934  \n",
       "4                                  1.159859  \n",
       "..                                      ...  \n",
       "85                                 1.077979  \n",
       "86                                 1.440879  \n",
       "87                                 1.306848  \n",
       "88                                 1.139479  \n",
       "89                                 1.122221  \n",
       "\n",
       "[90 rows x 8 columns]"
      ]
     },
     "metadata": {},
     "output_type": "display_data"
    }
   ],
   "source": [
    "ratio_df[\"Percentage of Live Births in Population\"] =  ratio_df[\"Births w/ Morbidity\"] / ratio_df[\"Total Births\"] * 100\n",
    "\n",
    "display(ratio_df)"
   ]
  },
  {
   "attachments": {},
   "cell_type": "markdown",
   "metadata": {},
   "source": [
    "Create Map"
   ]
  },
  {
   "cell_type": "code",
   "execution_count": 10,
   "metadata": {},
   "outputs": [
    {
     "data": {
      "application/vnd.plotly.v1+json": {
       "config": {
        "plotlyServerURL": "https://plot.ly"
       },
       "data": [
        {
         "alignmentgroup": "True",
         "bingroup": "x",
         "histfunc": "sum",
         "hovertemplate": "Mother's Single Race 6=Black or African American<br>Mother's Education=%{x}<br>sum of Percentage of Live Births in Population=%{y}<extra></extra>",
         "legendgroup": "Black or African American",
         "marker": {
          "color": "#636efa",
          "pattern": {
           "shape": ""
          }
         },
         "name": "Black or African American",
         "offsetgroup": "Black or African American",
         "orientation": "v",
         "showlegend": true,
         "type": "histogram",
         "x": [
          "8th grade or less",
          "9th through 12th grade with no diploma",
          "High school graduate or GED completed",
          "Some college credit, but not a degree",
          "Associate degree (AA, AS)",
          "Bachelor's degree (BA, AB, BS)",
          "Master's degree (MA, MS, MEng, MEd, MSW, MBA)",
          "Doctorate (PhD, EdD) or Professional Degree (MD, DDS, DVM, LLB, JD)"
         ],
         "xaxis": "x",
         "y": [
          1.8779342723004695,
          1.2018010088357765,
          1.1553076061411407,
          1.1240886591402306,
          1.1896343746100413,
          1.1049935000382352,
          1.1878051999472088,
          1.431980906921241
         ],
         "yaxis": "y"
        },
        {
         "alignmentgroup": "True",
         "bingroup": "x",
         "histfunc": "sum",
         "hovertemplate": "Mother's Single Race 6=White<br>Mother's Education=%{x}<br>sum of Percentage of Live Births in Population=%{y}<extra></extra>",
         "legendgroup": "White",
         "marker": {
          "color": "#EF553B",
          "pattern": {
           "shape": ""
          }
         },
         "name": "White",
         "offsetgroup": "White",
         "orientation": "v",
         "showlegend": true,
         "type": "histogram",
         "x": [
          "8th grade or less",
          "9th through 12th grade with no diploma",
          "High school graduate or GED completed",
          "Some college credit, but not a degree",
          "Associate degree (AA, AS)",
          "Bachelor's degree (BA, AB, BS)",
          "Master's degree (MA, MS, MEng, MEd, MSW, MBA)",
          "Doctorate (PhD, EdD) or Professional Degree (MD, DDS, DVM, LLB, JD)"
         ],
         "xaxis": "x",
         "y": [
          1.1598587997982854,
          1.2487589630446774,
          1.2261320086762044,
          1.2507191856605444,
          1.358971753708596,
          1.5318583860947097,
          1.5448347285751274,
          1.8040180401804016
         ],
         "yaxis": "y"
        },
        {
         "alignmentgroup": "True",
         "bingroup": "x",
         "histfunc": "sum",
         "hovertemplate": "Mother's Single Race 6=American Indian or Alaska Native<br>Mother's Education=%{x}<br>sum of Percentage of Live Births in Population=%{y}<extra></extra>",
         "legendgroup": "American Indian or Alaska Native",
         "marker": {
          "color": "#00cc96",
          "pattern": {
           "shape": ""
          }
         },
         "name": "American Indian or Alaska Native",
         "offsetgroup": "American Indian or Alaska Native",
         "orientation": "v",
         "showlegend": true,
         "type": "histogram",
         "x": [
          "9th through 12th grade with no diploma",
          "High school graduate or GED completed",
          "Some college credit, but not a degree",
          "Associate degree (AA, AS)",
          "Bachelor's degree (BA, AB, BS)"
         ],
         "xaxis": "x",
         "y": [
          2.800718132854578,
          2.6992493211946975,
          2.1172638436482085,
          1.2219959266802443,
          1.7515923566878981
         ],
         "yaxis": "y"
        },
        {
         "alignmentgroup": "True",
         "bingroup": "x",
         "histfunc": "sum",
         "hovertemplate": "Mother's Single Race 6=Asian<br>Mother's Education=%{x}<br>sum of Percentage of Live Births in Population=%{y}<extra></extra>",
         "legendgroup": "Asian",
         "marker": {
          "color": "#ab63fa",
          "pattern": {
           "shape": ""
          }
         },
         "name": "Asian",
         "offsetgroup": "Asian",
         "orientation": "v",
         "showlegend": true,
         "type": "histogram",
         "x": [
          "9th through 12th grade with no diploma",
          "High school graduate or GED completed",
          "Some college credit, but not a degree",
          "Associate degree (AA, AS)",
          "Bachelor's degree (BA, AB, BS)",
          "Master's degree (MA, MS, MEng, MEd, MSW, MBA)",
          "Doctorate (PhD, EdD) or Professional Degree (MD, DDS, DVM, LLB, JD)"
         ],
         "xaxis": "x",
         "y": [
          1.799307958477509,
          1.9627478469857802,
          1.709619800969635,
          2.074235807860262,
          1.8438490348602707,
          3.7037037037037033,
          3.2362459546925564
         ],
         "yaxis": "y"
        },
        {
         "alignmentgroup": "True",
         "bingroup": "x",
         "histfunc": "sum",
         "hovertemplate": "Mother's Single Race 6=Native Hawaiian or Other Pacific Islander<br>Mother's Education=%{x}<br>sum of Percentage of Live Births in Population=%{y}<extra></extra>",
         "legendgroup": "Native Hawaiian or Other Pacific Islander",
         "marker": {
          "color": "#FFA15A",
          "pattern": {
           "shape": ""
          }
         },
         "name": "Native Hawaiian or Other Pacific Islander",
         "offsetgroup": "Native Hawaiian or Other Pacific Islander",
         "orientation": "v",
         "showlegend": true,
         "type": "histogram",
         "x": [
          "9th through 12th grade with no diploma",
          "High school graduate or GED completed",
          "Some college credit, but not a degree"
         ],
         "xaxis": "x",
         "y": [
          2.405857740585774,
          2.2478736330498177,
          2.200825309491059
         ],
         "yaxis": "y"
        },
        {
         "alignmentgroup": "True",
         "bingroup": "x",
         "histfunc": "sum",
         "hovertemplate": "Mother's Single Race 6=More than one race<br>Mother's Education=%{x}<br>sum of Percentage of Live Births in Population=%{y}<extra></extra>",
         "legendgroup": "More than one race",
         "marker": {
          "color": "#19d3f3",
          "pattern": {
           "shape": ""
          }
         },
         "name": "More than one race",
         "offsetgroup": "More than one race",
         "orientation": "v",
         "showlegend": true,
         "type": "histogram",
         "x": [
          "9th through 12th grade with no diploma",
          "High school graduate or GED completed",
          "Some college credit, but not a degree",
          "Associate degree (AA, AS)",
          "Bachelor's degree (BA, AB, BS)",
          "Master's degree (MA, MS, MEng, MEd, MSW, MBA)"
         ],
         "xaxis": "x",
         "y": [
          1.141885325558795,
          0.9827833572453373,
          1.1164563855859126,
          1.0518934081346423,
          1.1854951185495117,
          1.5942028985507246
         ],
         "yaxis": "y"
        },
        {
         "alignmentgroup": "True",
         "bingroup": "x",
         "histfunc": "sum",
         "hovertemplate": "Mother's Single Race 6=Hispanic Origin<br>Mother's Education=%{x}<br>sum of Percentage of Live Births in Population=%{y}<extra></extra>",
         "legendgroup": "Hispanic Origin",
         "marker": {
          "color": "#FF6692",
          "pattern": {
           "shape": ""
          }
         },
         "name": "Hispanic Origin",
         "offsetgroup": "Hispanic Origin",
         "orientation": "v",
         "showlegend": true,
         "type": "histogram",
         "x": [
          "8th grade or less",
          "9th through 12th grade with no diploma",
          "Associate degree (AA, AS)",
          "Bachelor's degree (BA, AB, BS)",
          "High school graduate or GED completed",
          "Master's degree (MA, MS, MEng, MEd, MSW, MBA)",
          "Some college credit, but not a degree"
         ],
         "xaxis": "x",
         "y": [
          1.2852936081759918,
          1.1051635357091976,
          1.096579476861167,
          1.1640319219234485,
          1.0779792347157944,
          1.3068478829064296,
          1.1222213040244609
         ],
         "yaxis": "y"
        }
       ],
       "layout": {
        "barmode": "group",
        "height": 800,
        "legend": {
         "title": {
          "text": "Mother's Single Race 6"
         },
         "tracegroupgap": 0
        },
        "margin": {
         "t": 60
        },
        "template": {
         "data": {
          "bar": [
           {
            "error_x": {
             "color": "#2a3f5f"
            },
            "error_y": {
             "color": "#2a3f5f"
            },
            "marker": {
             "line": {
              "color": "#E5ECF6",
              "width": 0.5
             },
             "pattern": {
              "fillmode": "overlay",
              "size": 10,
              "solidity": 0.2
             }
            },
            "type": "bar"
           }
          ],
          "barpolar": [
           {
            "marker": {
             "line": {
              "color": "#E5ECF6",
              "width": 0.5
             },
             "pattern": {
              "fillmode": "overlay",
              "size": 10,
              "solidity": 0.2
             }
            },
            "type": "barpolar"
           }
          ],
          "carpet": [
           {
            "aaxis": {
             "endlinecolor": "#2a3f5f",
             "gridcolor": "white",
             "linecolor": "white",
             "minorgridcolor": "white",
             "startlinecolor": "#2a3f5f"
            },
            "baxis": {
             "endlinecolor": "#2a3f5f",
             "gridcolor": "white",
             "linecolor": "white",
             "minorgridcolor": "white",
             "startlinecolor": "#2a3f5f"
            },
            "type": "carpet"
           }
          ],
          "choropleth": [
           {
            "colorbar": {
             "outlinewidth": 0,
             "ticks": ""
            },
            "type": "choropleth"
           }
          ],
          "contour": [
           {
            "colorbar": {
             "outlinewidth": 0,
             "ticks": ""
            },
            "colorscale": [
             [
              0,
              "#0d0887"
             ],
             [
              0.1111111111111111,
              "#46039f"
             ],
             [
              0.2222222222222222,
              "#7201a8"
             ],
             [
              0.3333333333333333,
              "#9c179e"
             ],
             [
              0.4444444444444444,
              "#bd3786"
             ],
             [
              0.5555555555555556,
              "#d8576b"
             ],
             [
              0.6666666666666666,
              "#ed7953"
             ],
             [
              0.7777777777777778,
              "#fb9f3a"
             ],
             [
              0.8888888888888888,
              "#fdca26"
             ],
             [
              1,
              "#f0f921"
             ]
            ],
            "type": "contour"
           }
          ],
          "contourcarpet": [
           {
            "colorbar": {
             "outlinewidth": 0,
             "ticks": ""
            },
            "type": "contourcarpet"
           }
          ],
          "heatmap": [
           {
            "colorbar": {
             "outlinewidth": 0,
             "ticks": ""
            },
            "colorscale": [
             [
              0,
              "#0d0887"
             ],
             [
              0.1111111111111111,
              "#46039f"
             ],
             [
              0.2222222222222222,
              "#7201a8"
             ],
             [
              0.3333333333333333,
              "#9c179e"
             ],
             [
              0.4444444444444444,
              "#bd3786"
             ],
             [
              0.5555555555555556,
              "#d8576b"
             ],
             [
              0.6666666666666666,
              "#ed7953"
             ],
             [
              0.7777777777777778,
              "#fb9f3a"
             ],
             [
              0.8888888888888888,
              "#fdca26"
             ],
             [
              1,
              "#f0f921"
             ]
            ],
            "type": "heatmap"
           }
          ],
          "heatmapgl": [
           {
            "colorbar": {
             "outlinewidth": 0,
             "ticks": ""
            },
            "colorscale": [
             [
              0,
              "#0d0887"
             ],
             [
              0.1111111111111111,
              "#46039f"
             ],
             [
              0.2222222222222222,
              "#7201a8"
             ],
             [
              0.3333333333333333,
              "#9c179e"
             ],
             [
              0.4444444444444444,
              "#bd3786"
             ],
             [
              0.5555555555555556,
              "#d8576b"
             ],
             [
              0.6666666666666666,
              "#ed7953"
             ],
             [
              0.7777777777777778,
              "#fb9f3a"
             ],
             [
              0.8888888888888888,
              "#fdca26"
             ],
             [
              1,
              "#f0f921"
             ]
            ],
            "type": "heatmapgl"
           }
          ],
          "histogram": [
           {
            "marker": {
             "pattern": {
              "fillmode": "overlay",
              "size": 10,
              "solidity": 0.2
             }
            },
            "type": "histogram"
           }
          ],
          "histogram2d": [
           {
            "colorbar": {
             "outlinewidth": 0,
             "ticks": ""
            },
            "colorscale": [
             [
              0,
              "#0d0887"
             ],
             [
              0.1111111111111111,
              "#46039f"
             ],
             [
              0.2222222222222222,
              "#7201a8"
             ],
             [
              0.3333333333333333,
              "#9c179e"
             ],
             [
              0.4444444444444444,
              "#bd3786"
             ],
             [
              0.5555555555555556,
              "#d8576b"
             ],
             [
              0.6666666666666666,
              "#ed7953"
             ],
             [
              0.7777777777777778,
              "#fb9f3a"
             ],
             [
              0.8888888888888888,
              "#fdca26"
             ],
             [
              1,
              "#f0f921"
             ]
            ],
            "type": "histogram2d"
           }
          ],
          "histogram2dcontour": [
           {
            "colorbar": {
             "outlinewidth": 0,
             "ticks": ""
            },
            "colorscale": [
             [
              0,
              "#0d0887"
             ],
             [
              0.1111111111111111,
              "#46039f"
             ],
             [
              0.2222222222222222,
              "#7201a8"
             ],
             [
              0.3333333333333333,
              "#9c179e"
             ],
             [
              0.4444444444444444,
              "#bd3786"
             ],
             [
              0.5555555555555556,
              "#d8576b"
             ],
             [
              0.6666666666666666,
              "#ed7953"
             ],
             [
              0.7777777777777778,
              "#fb9f3a"
             ],
             [
              0.8888888888888888,
              "#fdca26"
             ],
             [
              1,
              "#f0f921"
             ]
            ],
            "type": "histogram2dcontour"
           }
          ],
          "mesh3d": [
           {
            "colorbar": {
             "outlinewidth": 0,
             "ticks": ""
            },
            "type": "mesh3d"
           }
          ],
          "parcoords": [
           {
            "line": {
             "colorbar": {
              "outlinewidth": 0,
              "ticks": ""
             }
            },
            "type": "parcoords"
           }
          ],
          "pie": [
           {
            "automargin": true,
            "type": "pie"
           }
          ],
          "scatter": [
           {
            "fillpattern": {
             "fillmode": "overlay",
             "size": 10,
             "solidity": 0.2
            },
            "type": "scatter"
           }
          ],
          "scatter3d": [
           {
            "line": {
             "colorbar": {
              "outlinewidth": 0,
              "ticks": ""
             }
            },
            "marker": {
             "colorbar": {
              "outlinewidth": 0,
              "ticks": ""
             }
            },
            "type": "scatter3d"
           }
          ],
          "scattercarpet": [
           {
            "marker": {
             "colorbar": {
              "outlinewidth": 0,
              "ticks": ""
             }
            },
            "type": "scattercarpet"
           }
          ],
          "scattergeo": [
           {
            "marker": {
             "colorbar": {
              "outlinewidth": 0,
              "ticks": ""
             }
            },
            "type": "scattergeo"
           }
          ],
          "scattergl": [
           {
            "marker": {
             "colorbar": {
              "outlinewidth": 0,
              "ticks": ""
             }
            },
            "type": "scattergl"
           }
          ],
          "scattermapbox": [
           {
            "marker": {
             "colorbar": {
              "outlinewidth": 0,
              "ticks": ""
             }
            },
            "type": "scattermapbox"
           }
          ],
          "scatterpolar": [
           {
            "marker": {
             "colorbar": {
              "outlinewidth": 0,
              "ticks": ""
             }
            },
            "type": "scatterpolar"
           }
          ],
          "scatterpolargl": [
           {
            "marker": {
             "colorbar": {
              "outlinewidth": 0,
              "ticks": ""
             }
            },
            "type": "scatterpolargl"
           }
          ],
          "scatterternary": [
           {
            "marker": {
             "colorbar": {
              "outlinewidth": 0,
              "ticks": ""
             }
            },
            "type": "scatterternary"
           }
          ],
          "surface": [
           {
            "colorbar": {
             "outlinewidth": 0,
             "ticks": ""
            },
            "colorscale": [
             [
              0,
              "#0d0887"
             ],
             [
              0.1111111111111111,
              "#46039f"
             ],
             [
              0.2222222222222222,
              "#7201a8"
             ],
             [
              0.3333333333333333,
              "#9c179e"
             ],
             [
              0.4444444444444444,
              "#bd3786"
             ],
             [
              0.5555555555555556,
              "#d8576b"
             ],
             [
              0.6666666666666666,
              "#ed7953"
             ],
             [
              0.7777777777777778,
              "#fb9f3a"
             ],
             [
              0.8888888888888888,
              "#fdca26"
             ],
             [
              1,
              "#f0f921"
             ]
            ],
            "type": "surface"
           }
          ],
          "table": [
           {
            "cells": {
             "fill": {
              "color": "#EBF0F8"
             },
             "line": {
              "color": "white"
             }
            },
            "header": {
             "fill": {
              "color": "#C8D4E3"
             },
             "line": {
              "color": "white"
             }
            },
            "type": "table"
           }
          ]
         },
         "layout": {
          "annotationdefaults": {
           "arrowcolor": "#2a3f5f",
           "arrowhead": 0,
           "arrowwidth": 1
          },
          "autotypenumbers": "strict",
          "coloraxis": {
           "colorbar": {
            "outlinewidth": 0,
            "ticks": ""
           }
          },
          "colorscale": {
           "diverging": [
            [
             0,
             "#8e0152"
            ],
            [
             0.1,
             "#c51b7d"
            ],
            [
             0.2,
             "#de77ae"
            ],
            [
             0.3,
             "#f1b6da"
            ],
            [
             0.4,
             "#fde0ef"
            ],
            [
             0.5,
             "#f7f7f7"
            ],
            [
             0.6,
             "#e6f5d0"
            ],
            [
             0.7,
             "#b8e186"
            ],
            [
             0.8,
             "#7fbc41"
            ],
            [
             0.9,
             "#4d9221"
            ],
            [
             1,
             "#276419"
            ]
           ],
           "sequential": [
            [
             0,
             "#0d0887"
            ],
            [
             0.1111111111111111,
             "#46039f"
            ],
            [
             0.2222222222222222,
             "#7201a8"
            ],
            [
             0.3333333333333333,
             "#9c179e"
            ],
            [
             0.4444444444444444,
             "#bd3786"
            ],
            [
             0.5555555555555556,
             "#d8576b"
            ],
            [
             0.6666666666666666,
             "#ed7953"
            ],
            [
             0.7777777777777778,
             "#fb9f3a"
            ],
            [
             0.8888888888888888,
             "#fdca26"
            ],
            [
             1,
             "#f0f921"
            ]
           ],
           "sequentialminus": [
            [
             0,
             "#0d0887"
            ],
            [
             0.1111111111111111,
             "#46039f"
            ],
            [
             0.2222222222222222,
             "#7201a8"
            ],
            [
             0.3333333333333333,
             "#9c179e"
            ],
            [
             0.4444444444444444,
             "#bd3786"
            ],
            [
             0.5555555555555556,
             "#d8576b"
            ],
            [
             0.6666666666666666,
             "#ed7953"
            ],
            [
             0.7777777777777778,
             "#fb9f3a"
            ],
            [
             0.8888888888888888,
             "#fdca26"
            ],
            [
             1,
             "#f0f921"
            ]
           ]
          },
          "colorway": [
           "#636efa",
           "#EF553B",
           "#00cc96",
           "#ab63fa",
           "#FFA15A",
           "#19d3f3",
           "#FF6692",
           "#B6E880",
           "#FF97FF",
           "#FECB52"
          ],
          "font": {
           "color": "#2a3f5f"
          },
          "geo": {
           "bgcolor": "white",
           "lakecolor": "white",
           "landcolor": "#E5ECF6",
           "showlakes": true,
           "showland": true,
           "subunitcolor": "white"
          },
          "hoverlabel": {
           "align": "left"
          },
          "hovermode": "closest",
          "mapbox": {
           "style": "light"
          },
          "paper_bgcolor": "white",
          "plot_bgcolor": "#E5ECF6",
          "polar": {
           "angularaxis": {
            "gridcolor": "white",
            "linecolor": "white",
            "ticks": ""
           },
           "bgcolor": "#E5ECF6",
           "radialaxis": {
            "gridcolor": "white",
            "linecolor": "white",
            "ticks": ""
           }
          },
          "scene": {
           "xaxis": {
            "backgroundcolor": "#E5ECF6",
            "gridcolor": "white",
            "gridwidth": 2,
            "linecolor": "white",
            "showbackground": true,
            "ticks": "",
            "zerolinecolor": "white"
           },
           "yaxis": {
            "backgroundcolor": "#E5ECF6",
            "gridcolor": "white",
            "gridwidth": 2,
            "linecolor": "white",
            "showbackground": true,
            "ticks": "",
            "zerolinecolor": "white"
           },
           "zaxis": {
            "backgroundcolor": "#E5ECF6",
            "gridcolor": "white",
            "gridwidth": 2,
            "linecolor": "white",
            "showbackground": true,
            "ticks": "",
            "zerolinecolor": "white"
           }
          },
          "shapedefaults": {
           "line": {
            "color": "#2a3f5f"
           }
          },
          "ternary": {
           "aaxis": {
            "gridcolor": "white",
            "linecolor": "white",
            "ticks": ""
           },
           "baxis": {
            "gridcolor": "white",
            "linecolor": "white",
            "ticks": ""
           },
           "bgcolor": "#E5ECF6",
           "caxis": {
            "gridcolor": "white",
            "linecolor": "white",
            "ticks": ""
           }
          },
          "title": {
           "x": 0.05
          },
          "xaxis": {
           "automargin": true,
           "gridcolor": "white",
           "linecolor": "white",
           "ticks": "",
           "title": {
            "standoff": 15
           },
           "zerolinecolor": "white",
           "zerolinewidth": 2
          },
          "yaxis": {
           "automargin": true,
           "gridcolor": "white",
           "linecolor": "white",
           "ticks": "",
           "title": {
            "standoff": 15
           },
           "zerolinecolor": "white",
           "zerolinewidth": 2
          }
         }
        },
        "width": 1000,
        "xaxis": {
         "anchor": "y",
         "domain": [
          0,
          1
         ],
         "title": {
          "text": "Mother's Education"
         }
        },
        "yaxis": {
         "anchor": "x",
         "domain": [
          0,
          1
         ],
         "title": {
          "text": "sum of Percentage of Live Births in Population"
         }
        }
       }
      }
     },
     "metadata": {},
     "output_type": "display_data"
    }
   ],
   "source": [
    "fig = px.histogram(ratio_df[ratio_df[\"Marital Status\"] == \"Unmarried\"], x=\"Mother's Education\", y=\"Percentage of Live Births in Population\", barmode=\"group\", color=\"Mother's Single Race 6\", title=\"\", height=800,\n",
    "             width=1000, category_orders={\"Single Race 6\": [\"More than one race\", \"Asian\", \"Hispanic Origin\", \"White\", \"Black or African American\", \"American Indian or Alaska Native\"]})\n",
    "fig.show()\n"
   ]
  }
 ],
 "metadata": {
  "kernelspec": {
   "display_name": "Python 3",
   "language": "python",
   "name": "python3"
  },
  "language_info": {
   "codemirror_mode": {
    "name": "ipython",
    "version": 3
   },
   "file_extension": ".py",
   "mimetype": "text/x-python",
   "name": "python",
   "nbconvert_exporter": "python",
   "pygments_lexer": "ipython3",
   "version": "3.9.16"
  },
  "orig_nbformat": 4
 },
 "nbformat": 4,
 "nbformat_minor": 2
}
