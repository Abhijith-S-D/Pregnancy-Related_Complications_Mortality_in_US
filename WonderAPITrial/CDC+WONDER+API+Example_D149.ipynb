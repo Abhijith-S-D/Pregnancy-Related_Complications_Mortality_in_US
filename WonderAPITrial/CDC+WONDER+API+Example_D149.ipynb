{
 "cells": [
  {
   "cell_type": "markdown",
   "metadata": {
    "slideshow": {
     "slide_type": "slide"
    }
   },
   "source": [
    "# CDC WONDER API Example\n",
    "[CDC WONDER](https://wonder.cdc.gov/) is a query tool from the Centers for Disease Control (CDC) that provides access to a collection of online databases for the analysis of public health data. "
   ]
  },
  {
   "cell_type": "markdown",
   "metadata": {
    "slideshow": {
     "slide_type": "slide"
    }
   },
   "source": [
    "The following are a sampling of databases available through WONDER that provide vital statistics data through CDC's National Center for Health Statistics\n",
    "\n",
    "* [Births](https://wonder.cdc.gov/natality.html)\n",
    "* [Detailed Mortality](https://wonder.cdc.gov/ucd-icd10.html)\n",
    "* [Compressed Mortality](https://wonder.cdc.gov/mortSQL.html)\n",
    "* [Multiple cause of death](https://wonder.cdc.gov/mcd.html)\n",
    "* [Infant Deaths](https://wonder.cdc.gov/lbd.html)"
   ]
  },
  {
   "cell_type": "markdown",
   "metadata": {
    "slideshow": {
     "slide_type": "slide"
    }
   },
   "source": [
    "For this example, we will focus on the [Detailed Mortality](https://wonder.cdc.gov/ucd-icd10.html) database, which provides counts or rates (crude or age-adjusted) for underlying cause of death at the national, state and county levels. Using the query tool, the user can select grouping and filtering variables that are use to generate a dataset. Results are provided as a data table which can then be exported to a tab delimited file or visualized."
   ]
  },
  {
   "cell_type": "markdown",
   "metadata": {
    "slideshow": {
     "slide_type": "slide"
    }
   },
   "source": [
    "WONDER provides an API that allows the same queries to be issued through a POST request to WONDER's web server. Requests and responses are issued in XML format and are detailed in the [API Documentation](https://wonder.cdc.gov/wonder/help/WONDER-API.html) page. "
   ]
  },
  {
   "cell_type": "markdown",
   "metadata": {
    "slideshow": {
     "slide_type": "slide"
    }
   },
   "source": [
    "Each XML request consists of a series of parameter tags with name and value children in the following format:\n",
    "\n",
    "```\n",
    "<request-parameters>\n",
    "    <parameter>\n",
    "        <name></name>\n",
    "        <value></value>\n",
    "    <parameter>\n",
    "    ...\n",
    "</request-parameters>\n",
    "```\n",
    "\n",
    "A reference of parameter names and values can be found on [CDC WONDER Wiki page](https://loyola.campuspack.net/Groups/17FA_CS-703-501/Pet_API#/page/364768481#referenceParameters)"
   ]
  },
  {
   "attachments": {},
   "cell_type": "markdown",
   "metadata": {},
   "source": [
    "https://wonder.cdc.gov/controller/saved/D149/D326F018"
   ]
  },
  {
   "cell_type": "code",
   "execution_count": 1,
   "metadata": {},
   "outputs": [],
   "source": [
    "# BeautifulSoup library facilitates parsing of HTML form\n",
    "import bs4 as bs\n",
    "import re\n",
    "\n",
    "dom = {}\n",
    "with open('./Natality, 2016-2021 expanded Request Form.html','rb') as html_file:\n",
    "    html_content = html_file.read()\n",
    "    dom = bs.BeautifulSoup(html_content,\"lxml\")\n",
    "    "
   ]
  },
  {
   "cell_type": "code",
   "execution_count": 2,
   "metadata": {},
   "outputs": [],
   "source": [
    "import unicodedata\n",
    "def escape_ansi(line):\n",
    "    # ansi_escape =re.compile(r'(\\x9B|\\x1B\\[)[0-?]*[ -\\/]*[@-~]')\n",
    "    # return ansi_escape.sub('', line)\n",
    "    return unicodedata.normalize(\"NFKD\",line)\n"
   ]
  },
  {
   "cell_type": "code",
   "execution_count": 3,
   "metadata": {},
   "outputs": [],
   "source": [
    "import collections\n",
    "\n",
    "def sort_parameters(parameters):\n",
    "    return collections.OrderedDict(sorted(parameters.items()))"
   ]
  },
  {
   "cell_type": "code",
   "execution_count": 4,
   "metadata": {
    "collapsed": true,
    "slideshow": {
     "slide_type": "slide"
    }
   },
   "outputs": [],
   "source": [
    "# by-variables\" or those parameters selected in the \"Group Results By\" and the \"And By\" drop-down lists \n",
    "# in the \"Request Form.\" These \"by-variables\" are the cross-tabulations, stratifications or indexes \n",
    "# to the query results. Expect the results data table to show a row for each category in the by-variables, \n",
    "# and a column for each measure. For example, if you wish to compare data by sex, then \"group results by\" gender, \n",
    "# to get a row for females and a row for males in the output.\n",
    "# M_ are measures to return, the default measures plus any optional measures.\n",
    "\n",
    "# For this example, will group by year and race\n",
    "# Maternal Residence\n",
    "# \"D149.V22-level1\" = Census Region of Residence\n",
    "# \"D149.V22-level2\" = Census Division of Residence\n",
    "# \"D149.V37-level1\" = HHS Region of Residence\n",
    "# \"D149.V21-level1\" = State of Residence\n",
    "# \"D149.V21-level2\" = County of Residence\n",
    "# \"D149.V154\" = 2013 Metro/Nonmetro\n",
    "# \"D149.V155\" = 2006 Metro/Nonmetro\n",
    "# \"D149.V156\" = 2006 Urbanization\n",
    "\n",
    "# Maternal characteristics\n",
    "# \"D149.V42\" = Mother's Single Race 6\n",
    "# \"D149.V49\" = Mother's Single Race 15\n",
    "# \"D149.V50\" = Mother's Single/Multi Race 31\n",
    "# \"D149.V43\" = Mother's Hispanic Origin\n",
    "# \"D149.V4\" = Mother's Expanded Hispanic Origin\n",
    "# \"D149.V1\" = Age of Mother 9\n",
    "# \"D149.V38\" = Age of Mother 13\n",
    "# \"D149.V5\" = Mother's Education\n",
    "# \"D149.V27\" = Marital Status\n",
    "# \"D149.V51\" = Paternity Acknowledgment (if mother unmarried)\n",
    "# \"D149.V48\" = Mother's Nativity\n",
    "# \"D149.V147\" = Mother's Birth Country\n",
    "# \"D149.V47\" = Mother's Birth State\n",
    "\n",
    "# Paternal characteristics\n",
    "# \"D149.V54\" = Father's Single Race 6\n",
    "# \"D149.V55\" = Father's Single Race 15\n",
    "# \"D149.V56\" = Father's Single/Multi Race 31\n",
    "# \"D149.V53\" = Father's Hispanic Origin\n",
    "# \"D149.V52\" = Father's Expanded Hispanic Origin\n",
    "# \"D149.V57\" = Age of Father\n",
    "# \"D149.V58\" = Father's Education\n",
    "\n",
    "# Pregnancy history and prenatal care characteristics\n",
    "# \"D149.V60\" = Interval Since Last Live Birth\n",
    "# \"D149.V61\" = Interval Since Last Other Pregnancy Outcome\n",
    "# \"D149.V62\" = Interval of Last Pregnancy\n",
    "# \"D149.V151\" = Prior Births Now Living\n",
    "# \"D149.V152\" = Prior Births Now Dead\n",
    "# \"D149.V153\" = Prior Other Pregnancy Outcomes\n",
    "# \"D149.V28\" = Live Birth Order\n",
    "# \"D149.V59\" = Total Birth Order\n",
    "# \"D149.V66\" = WIC\n",
    "# \"D149.V89\" = Successful External Cephalic Version\n",
    "# \"D149.V90\" = Failed External Cephalic Version\n",
    "# \"D149.V65\" = Number of Prenatal Visits Recode\n",
    "# \"D149.V64\" = SNumber of Prenatal Visits\n",
    "# \"D149.V63\" = Trimester Prenatal Care Began\n",
    "# \"D149.V8\" = Month Prenatal Care Began\n",
    "\n",
    "# Maternal risk factors\n",
    "# \"D149.V70\" = Mother's Height in Inches\n",
    "# \"D149.V71\" = Mother's Pre-pregnancy BMI\n",
    "# \"D149.V73\" = Mother's Weight Gain Recode\n",
    "# \"D149.V149\" = Mother's Pre-pregnancy Weight\n",
    "# \"D149.V150\" = Mother's Delivery Weight\n",
    "# \"D149.V10\" = Tobacco Use\n",
    "# \"D149.V143\" = Number of Cigarettes Before Pregnancy Recode\n",
    "# \"D149.V144\" = Number of Cigarettes 1st Trimester Recode\n",
    "# \"D149.V140\" = Number of Cigarettes 1st Trimester\n",
    "# \"D149.V145\" = Number of Cigarettes 2nd Trimester Recode\n",
    "# \"D149.V141\" = Number of Cigarettes 2nd Trimester\n",
    "# \"D149.V146\" = Number of Cigarettes 3rd Trimester Recode\n",
    "# \"D149.V142\" = Number of Cigarettes 3rd Trimester\n",
    "\n",
    "# Pregnancy risk factors\n",
    "# \"D149.V74\" = Pre-pregnancy Diabetes\n",
    "# \"D149.V75\" = Gestational Diabetes\n",
    "# \"D149.V16\" = Pre-pregnancy Hypertension\n",
    "# \"D149.V17\" = Gestational Hypertension\n",
    "# \"D149.V18\" = Eclampsia\n",
    "# \"D149.V76\" = Previous Preterm Birth\n",
    "# \"D149.V77\" = Infertility Treatment Used\n",
    "# \"D149.V78\" = Fertility Enhancing Drugs\n",
    "# \"D149.V79\" = Assistive Reproductive Technology\n",
    "# \"D149.V80\" = Previous Cesarean Delivery\n",
    "# \"D149.V81\" = Number of Previous Cesareans\n",
    "# \"D149.V82\" = Risk Factors Checked\n",
    "\n",
    "# Maternal infections present and/or treated during pregnancy\n",
    "# \"D149.V83\" = Gonorrhea\n",
    "# \"D149.V84\" = Syphilis\n",
    "# \"D149.V85\" = Chlamydia\n",
    "# \"D149.V86\" = Hepatitis B\n",
    "# \"D149.V87\" = Hepatitis C\n",
    "# \"D149.V88\" = Infections Checked\n",
    "\n",
    "# Labor characteristics\n",
    "# \"D149.V91\" = Induction of Labor\n",
    "# \"D149.V92\" = Augmentation of Labor\n",
    "# \"D149.V93\" = Steroids\n",
    "# \"D149.V94\" = Antibiotics for Mother\n",
    "# \"D149.V95\" = Chorioamnionitis\n",
    "# \"D149.V96\" = Anesthesia\n",
    "# \"D149.V97\" = Characteristics of Labor Checked\n",
    "\n",
    "# Delivery characteristics\n",
    "# \"D149.V20\" = Year\n",
    "# \"D149.V25\" = Month\n",
    "# \"D149.V26\" = Weekday\n",
    "# \"D149.V44\" = Time of Day\n",
    "# \"D149.V45\" = Birthplace\n",
    "# \"D149.V30\" = Birthplace Recode 6\n",
    "# \"D149.V46\" = Birthplace Recode 3\n",
    "# \"D149.V29\" = Medical Attendant\n",
    "# \"D149.V108\" = Mother Transferred\n",
    "# \"D149.V98\" = Fetal Presentation\n",
    "# \"D149.V99\" = Final Route and Delivery Method\n",
    "# \"D149.V101\" = Delivery Method Expanded\n",
    "# \"D149.V31\" = Delivery Method\n",
    "# \"D149.V100\" = Trial of Labor Attempted (if cesarean)\n",
    "# \"D149.V110\" = Source of Payment for Delivery\n",
    "# \"D149.V109\" = Source of Payment for Delivery Expanded\n",
    "\n",
    "# Maternal morbidity\n",
    "# \"D149.V102\" = Maternal Transfusion\n",
    "# \"D149.V103\" = Perineal Laceration\n",
    "# \"D149.V104\" = Ruptured Uterus\n",
    "# \"D149.V105\" = Unplanned Hysterectomy\n",
    "# \"D149.V106\" = Admission to Intensive Care Unit\n",
    "# \"D149.V107\" = Maternal Morbidity Checked\n",
    "\n",
    "# Infant characteristics\n",
    "# \"D149.V32\" = OE Gestational Age Recode 10\n",
    "# \"D149.V33\" = OE Gestational Age Recode 11\n",
    "# \"D149.V34\" = OE Gestational Age Weekly\n",
    "# \"D149.V6\" = LMP Gestational Recode 10\n",
    "# \"D149.V23\" = LMP Gestational Recode 11\n",
    "# \"D149.V24\" = LMP Gestational Age Weekly\n",
    "# \"D149.V3\" = Sex of Infant\n",
    "# \"D149.V7\" = Plurality\n",
    "# \"D149.V115\" = Set Order\n",
    "# \"D149.V9\" = Infant Birth Weight 12\n",
    "# \"D149.V35\" = Infant Birth Weight 14\n",
    "# \"D149.V41\" = Infant Birth Weight 100 gram increments\n",
    "# \"D149.V111\" = Five Minute APGAR Score\n",
    "# \"D149.V112\" = Five Minute APGAR Score Recode\n",
    "# \"D149.V113\" = Ten Minute APGAR Score\n",
    "# \"D149.V114\" = Ten Minute APGAR Score Recode\n",
    "# \"D149.V136\" = Infant Transferred\n",
    "# \"D149.V137\" = Infant Living at Time of Report\n",
    "# \"D149.V138\" = Infant Breastfed at Discharge\n",
    "\n",
    "# Abnormal conditions of newborn\n",
    "# \"D149.V116\" = Assisted Ventilation\n",
    "# \"D149.V117\" = Assisted Ventilation > 6 hrs\n",
    "# \"D149.V118\" = NICU Admission\n",
    "# \"D149.V119\" = Surfactant Replacement Therapy\n",
    "# \"D149.V120\" = Antibiotics for Suspected Neonatal Sepsis\n",
    "# \"D149.V121\" = Seizures\n",
    "# \"D149.V122\" = Abnormal Conditions Checked\n",
    "\n",
    "# Congenital anomalies of newborn\n",
    "# \"D149.V123\" = Anencephaly\n",
    "# \"D149.V124\" = Meningomyelocele / Spina Bifida\n",
    "# \"D149.V125\" = Cyanotic Congenital Heart Disease\n",
    "# \"D149.V126\" = Congenital Diaphragmatic Hernia\n",
    "# \"D149.V127\" = Omphalocele\n",
    "# \"D149.V128\" = Gastroschisis\n",
    "# \"D149.V129\" = Limb Reduction Defect\n",
    "# \"D149.V130\" = Cleft Lip with or without Cleft Palate\n",
    "# \"D149.V131\" = Cleft Palate Alone\n",
    "# \"D149.V132\" = Down Syndrome\n",
    "# \"D149.V133\" = Suspected Chromosomal Disorder\n",
    "# \"D149.V134\" = Hypospadias\n",
    "# \"D149.V135\" = Congenital Anomalies Checked\n",
    "\n",
    "# b_parameters = {\n",
    "#     \"B_1\": \"D76.V1-level1\", \n",
    "#     \"B_2\": \"D76.V8\", \n",
    "#     \"B_3\": \"D149.V1\", \n",
    "#     \"B_4\": \"D149.V147\", \n",
    "#     \"B_5\": \"D149.V147\"\n",
    "# }\n",
    "\n",
    "\n",
    "b_parameters = {\n",
    "    \"B_1\": \"D149.V154\",\n",
    "    \"B_2\": \"D149.V42\", \n",
    "    \"B_3\": \"D149.V1\",\n",
    "    \"B_4\": \"D149.V27\",\n",
    "    \"B_5\": \"D149.V147\",\n",
    "}\n",
    "# b_parameters = {\n",
    "#     \"B_1\": \"D149.V22-level1\", \n",
    "#     \"B_2\": \"D149.V21-level1\", \n",
    "#     # \"B_3\": \"D149.V37-level1\",\n",
    "#     \"B_3\": \"D149.V42\",\n",
    "#     \"B_4\": \"D149.V27\",\n",
    "#     \"B_5\": \"D149.V20\"\n",
    "# }"
   ]
  },
  {
   "cell_type": "code",
   "execution_count": 5,
   "metadata": {},
   "outputs": [
    {
     "data": {
      "text/plain": [
       "OrderedDict([('B_1', 'D149.V154'),\n",
       "             ('B_2', 'D149.V42'),\n",
       "             ('B_3', 'D149.V1'),\n",
       "             ('B_4', 'D149.V27'),\n",
       "             ('B_5', 'D149.V147')])"
      ]
     },
     "execution_count": 5,
     "metadata": {},
     "output_type": "execute_result"
    }
   ],
   "source": [
    "b_parameters = sort_parameters(b_parameters)\n",
    "b_parameters"
   ]
  },
  {
   "cell_type": "code",
   "execution_count": 6,
   "metadata": {
    "collapsed": true,
    "slideshow": {
     "slide_type": "slide"
    }
   },
   "outputs": [],
   "source": [
    "# measures to return, the default measures plus any optional measures\n",
    "\n",
    "# For this example, include deaths, population, and crude rate\n",
    "\n",
    "# M_002 : D149.M002 Births\n",
    "# M_004 : D149.M004 Birth Rate \t\tBirth Rates are only allowed for the following selections in the Group Results By list: Census Region, Census Division, HHS Region, State, County, Year, Mother's Hispanic Origin, Mother's Single Race 6.\n",
    "# M_006 : D149.M006 Fertility Rate  Fertility Rates are only allowed for the following selections in the Group Results By list: Census Region, Census Division, HHS Region, State, County, Year, Mother's Hispanic Origin, Mother's Single Race 6, Age of Mother 9.\n",
    "# M_007 : D149.M007 Percent of Total Births\n",
    "# M_070 : D149.M070 Average Age of Mother (years)\n",
    "# M_071 : D149.M071 Average Age of Mother (years) Standard Deviation\n",
    "# M_080 : D149.M080 Average OE Gestational Age (weeks)\n",
    "# M_081 : D149.M081 Average OE Gestational Age (weeks) Standard Deviation\n",
    "# M_090 : D149.M091 Average LMP Gestational Age (weeks)\n",
    "# M_091 : D149.M091 Average LMP Gestational Age (weeks) Standard Deviation\n",
    "# M_095 : D149.M095 Average Birth Weight (grams)\n",
    "# M_096 : D149.M096 Average Birth Weight (grams) Standard Deviation\n",
    "# M_100 : D149.M100 Average Pre-pregnancy BMI\n",
    "# M_101 : D149.M101 Average Pre-pregnancy BMI Standard Deviation\n",
    "# M_110 : D149.M110 Average Number of Prenatal Visits\n",
    "# M_111 : D149.M111 Average Number of Prenatal Visits Standard Deviation\n",
    "# M_120 : D149.M120 Average Interval Since Last Live Birth (months)\n",
    "# M_121 : D149.M121 Average Interval Since Last Live Birth (months) Standard Deviation\n",
    "# M_130 : D149.M130 Average Interval Since Last Other Pregnancy Outcome (months)\n",
    "# M_131 : D149.M130 Average Interval Since Last Other Pregnancy Outcome (months) Standard Deviation\n",
    "\n",
    "m_attr = {\n",
    "    'M_002': {\n",
    "        'D149.M002':'Births'\n",
    "    },\n",
    "    'M_004': {\n",
    "        'D149.M004':'Birth Rate'\n",
    "    },\n",
    "    'M_006': {\n",
    "        'D149.M006':'Fertility Rate'\n",
    "    },\n",
    "    'M_007': {\n",
    "        'D149.M007':'Percent of Total Births'\n",
    "    },\n",
    "    'M_070': {\n",
    "        'D149.M070':'Average Age of Mother (years)'\n",
    "    },\n",
    "    'M_071': {\n",
    "        'D149.M071':'Average Age of Mother (years) Standard Deviation'\n",
    "    },\n",
    "    'M_080': {\n",
    "        'D149.M080':'Average OE Gestational Age (weeks)'\n",
    "    },\n",
    "    'M_081': {\n",
    "        'D149.M081':'Average OE Gestational Age (weeks) Standard Deviation'\n",
    "    },\n",
    "    'M_090': {\n",
    "        'D149.M091':'Average LMP Gestational Age (weeks)'\n",
    "    },\n",
    "    'M_091': {\n",
    "        'D149.M091':'Average LMP Gestational Age (weeks) Standard Deviation'\n",
    "    },\n",
    "    'M_095': {\n",
    "        'D149.M095':'Average Birth Weight (grams)'\n",
    "    },\n",
    "    'M_096': {\n",
    "        'D149.M096':'Average Birth Weight (grams) Standard Deviation'\n",
    "    },\n",
    "    'M_100': {\n",
    "        'D149.M100':'Average Pre-pregnancy BMI'\n",
    "    },\n",
    "    'M_101': {\n",
    "        'D149.M101':'Average Pre-pregnancy BMI Standard Deviation'\n",
    "    },\n",
    "    'M_110': {\n",
    "        'D149.M110':'Average Number of Prenatal Visits'\n",
    "    },\n",
    "    'M_111': {\n",
    "        'D149.M111':'Average Number of Prenatal Visits Standard Deviation'\n",
    "    },\n",
    "    'M_120': {\n",
    "        'D149.M120':'Average Interval Since Last Live Birth (months)'\n",
    "    },\n",
    "    'M_121': {\n",
    "        'D149.M121':'Average Interval Since Last Live Birth (months) Standard Deviation'\n",
    "    },\n",
    "    'M_130': {\n",
    "        'D149.M130':'Average Interval Since Last Other Pregnancy Outcome (months)'\n",
    "    },\n",
    "    'M_131':  {\n",
    "        'D149.M130':'Average Interval Since Last Other Pregnancy Outcome (months) Standard Deviation'\n",
    "    },\n",
    "}\n",
    "\n",
    "# m_parameters = {\n",
    "#     \"M_1\": \"D76.M1\",   # Deaths, must be included\n",
    "#     \"M_2\": \"D76.M2\",   # Population, must be included\n",
    "#     \"M_3\": \"D76.M3\",   # Crude rate, must be included\n",
    "#     #\"M_31\": \"D76.M31\",        # Standard error (crude rate)\n",
    "#     #\"M_32\": \"D76.M32\"         # 95% confidence interval (crude rate)\n",
    "#     \"M_41\": \"D76.M41\", # Standard error (age-adjusted rate)\n",
    "#     \"M_42\": \"D76.M42\"  # 95% confidence interval (age-adjusted rate)\n",
    "# }\n",
    "\n",
    "m_parameters = {\n",
    "    \"M_002\": \"D149.M002\",   # Births, must be included\n",
    "    \"M_007\": \"D149.M007\",\n",
    "    \"M_070\": \"D149.M070\"\n",
    "}"
   ]
  },
  {
   "cell_type": "code",
   "execution_count": 7,
   "metadata": {},
   "outputs": [],
   "source": [
    "f_attr = {}\n",
    "for fattr in dom.find_all('select',attrs={\"name\" : re.compile('^F_*')}):\n",
    "    if fattr['name'] not in f_attr:\n",
    "        f_attr[fattr['name']] = {}\n",
    "    for option in fattr.children:\n",
    "        if option.name and option.name == 'option':\n",
    "            f_attr[fattr['name']][option['value']]=escape_ansi(option.text.strip())"
   ]
  },
  {
   "cell_type": "code",
   "execution_count": 8,
   "metadata": {},
   "outputs": [
    {
     "data": {
      "text/plain": [
       "{'F_D149.V21': {'*All*': '*All*  (The United States)',\n",
       "  '01': '+ 01  (Alabama)',\n",
       "  '02': '+ 02  (Alaska)',\n",
       "  '04': '+ 04  (Arizona)',\n",
       "  '05': '+ 05  (Arkansas)',\n",
       "  '06': '+ 06  (California)',\n",
       "  '08': '+ 08  (Colorado)',\n",
       "  '09': '+ 09  (Connecticut)',\n",
       "  '10': '+ 10  (Delaware)',\n",
       "  '11': '+ 11  (District of Columbia)',\n",
       "  '12': '+ 12  (Florida)',\n",
       "  '13': '+ 13  (Georgia)',\n",
       "  '15': '+ 15  (Hawaii)',\n",
       "  '16': '+ 16  (Idaho)',\n",
       "  '17': '+ 17  (Illinois)',\n",
       "  '18': '+ 18  (Indiana)',\n",
       "  '19': '+ 19  (Iowa)',\n",
       "  '20': '+ 20  (Kansas)',\n",
       "  '21': '+ 21  (Kentucky)',\n",
       "  '22': '+ 22  (Louisiana)',\n",
       "  '23': '+ 23  (Maine)',\n",
       "  '24': '+ 24  (Maryland)',\n",
       "  '25': '+ 25  (Massachusetts)',\n",
       "  '26': '+ 26  (Michigan)',\n",
       "  '27': '+ 27  (Minnesota)',\n",
       "  '28': '+ 28  (Mississippi)',\n",
       "  '29': '+ 29  (Missouri)',\n",
       "  '30': '+ 30  (Montana)',\n",
       "  '31': '+ 31  (Nebraska)',\n",
       "  '32': '+ 32  (Nevada)',\n",
       "  '33': '+ 33  (New Hampshire)',\n",
       "  '34': '+ 34  (New Jersey)',\n",
       "  '35': '+ 35  (New Mexico)',\n",
       "  '36': '+ 36  (New York)',\n",
       "  '37': '+ 37  (North Carolina)',\n",
       "  '38': '+ 38  (North Dakota)',\n",
       "  '39': '+ 39  (Ohio)',\n",
       "  '40': '+ 40  (Oklahoma)',\n",
       "  '41': '+ 41  (Oregon)',\n",
       "  '42': '+ 42  (Pennsylvania)',\n",
       "  '44': '+ 44  (Rhode Island)',\n",
       "  '45': '+ 45  (South Carolina)',\n",
       "  '46': '+ 46  (South Dakota)',\n",
       "  '47': '+ 47  (Tennessee)',\n",
       "  '48': '+ 48  (Texas)',\n",
       "  '49': '+ 49  (Utah)',\n",
       "  '50': '+ 50  (Vermont)',\n",
       "  '51': '+ 51  (Virginia)',\n",
       "  '53': '+ 53  (Washington)',\n",
       "  '54': '+ 54  (West Virginia)',\n",
       "  '55': '+ 55  (Wisconsin)',\n",
       "  '56': '+ 56  (Wyoming)'},\n",
       " 'F_D149.V22': {'*All*': '*All*  (The United States)',\n",
       "  'CENS-R1': '+ CENS-R1  (Census Region 1: Northeast)',\n",
       "  'CENS-R2': '+ CENS-R2  (Census Region 2: Midwest)',\n",
       "  'CENS-R3': '+ CENS-R3  (Census Region 3: South)',\n",
       "  'CENS-R4': '+ CENS-R4  (Census Region 4: West)'},\n",
       " 'F_D149.V37': {'*All*': '*All*  (The United States)',\n",
       "  'HHS1': '+ HHS1  (HHS Region #1  CT, ME, MA, NH, RI, VT)',\n",
       "  'HHS2': '+ HHS2  (HHS Region #2  NJ, NY)',\n",
       "  'HHS3': '+ HHS3  (HHS Region #3  DE, DC, MD, PA, VA, WV)',\n",
       "  'HHS4': '+ HHS4  (HHS Region #4  AL, FL, GA, KY, MS, NC, SC, TN)',\n",
       "  'HHS5': '+ HHS5  (HHS Region #5  IL, IN, MI, MN, OH, WI)',\n",
       "  'HHS6': '+ HHS6  (HHS Region #6  AR, LA, NM, OK, TX)',\n",
       "  'HHS7': '+ HHS7  (HHS Region #7  IA, KS, MO, NE)',\n",
       "  'HHS8': '+ HHS8  (HHS Region #8  CO, MT, ND, SD, UT, WY)',\n",
       "  'HHS9': '+ HHS9  (HHS Region #9  AZ, CA, HI, NV)',\n",
       "  'HHS10': '+ HHS10  (HHS Region #10  AK, ID, OR, WA)'}}"
      ]
     },
     "execution_count": 8,
     "metadata": {},
     "output_type": "execute_result"
    }
   ],
   "source": [
    "f_attr"
   ]
  },
  {
   "cell_type": "code",
   "execution_count": 9,
   "metadata": {
    "collapsed": true,
    "slideshow": {
     "slide_type": "slide"
    }
   },
   "outputs": [],
   "source": [
    "# values highlighted in a \"Finder\" control for hierarchical lists, \n",
    "# such as the \"Regions/Divisions/States/Counties hierarchical\" list.\n",
    "\n",
    "# For this example, include all years, months, census regions, hhs regions, states. Only include ICD-10 K00-K92\n",
    "# for disease of the digestive system\n",
    "\n",
    "# F_D149.V21 :    *All*  (The United States)\n",
    "#                 01     (Alabama)\n",
    "#                 02     (Alaska)\n",
    "#                 04     (Arizona)\n",
    "#                 05     (Arkansas)\n",
    "#                 06     (California)\n",
    "#                 08     (Colorado)\n",
    "#                 09     (Connecticut)\n",
    "#                 10     (Delaware)\n",
    "#                 11     (District of Columbia)\n",
    "#                 12     (Florida)\n",
    "#                 13     (Georgia)\n",
    "#                 15     (Hawaii)\n",
    "#                 16     (Idaho)\n",
    "#                 17     (Illinois)\n",
    "#                 18     (Indiana)\n",
    "#                 19     (Iowa)\n",
    "#                 20     (Kansas)\n",
    "#                 21     (Kentucky)\n",
    "#                 22     (Louisiana)\n",
    "#                 23     (Maine)\n",
    "#                 24     (Maryland)\n",
    "#                 25     (Massachusetts)\n",
    "#                 26     (Michigan)\n",
    "#                 27     (Minnesota)\n",
    "#                 28     (Mississippi)\n",
    "#                 29     (Missouri)\n",
    "#                 30     (Montana)\n",
    "#                 31     (Nebraska)\n",
    "#                 32     (Nevada)\n",
    "#                 33     (New Hampshire)\n",
    "#                 34     (New Jersey)\n",
    "#                 35     (New Mexico)\n",
    "#                 36     (New York)\n",
    "#                 37     (North Carolina)\n",
    "#                 38     (North Dakota)\n",
    "#                 39     (Ohio)\n",
    "#                 40     (Oklahoma)\n",
    "#                 41     (Oregon)\n",
    "#                 42     (Pennsylvania)\n",
    "#                 44     (Rhode Island)\n",
    "#                 45     (South Carolina)\n",
    "#                 46     (South Dakota)\n",
    "#                 47     (Tennessee)\n",
    "#                 48     (Texas)\n",
    "#                 49     (Utah)\n",
    "#                 50     (Vermont)\n",
    "#                 51     (Virginia)\n",
    "#                 53     (Washington)\n",
    "#                 54     (West Virginia)\n",
    "#                 55     (Wisconsin)\n",
    "#                 56     (Wyoming)\n",
    "\n",
    "# F_D149.V22      *All*  (The United States)\n",
    "#                 CENS-R1 (Census Region 1: Northeast)\n",
    "#                 CENS-R2 (Census Region 2: Midwest)\n",
    "#                 CENS-R3 (Census Region 3: South)\n",
    "#                 CENS-R4 (Census Region 4: West)\n",
    "\n",
    "# F_D149.V37      *All* (The United States)\n",
    "#                 HHS1 (HHS Region #1 CT, ME, MA, NH, RI, VT)\n",
    "#                 HHS2 (HHS Region #2 NJ, NY)\n",
    "#                 HHS3 (HHS Region #3 DE, DC, MD, PA, VA, WV)\n",
    "#                 HHS4 (HHS Region #4 AL, FL, GA, KY, MS, NC, SC, TN)\n",
    "#                 HHS5 (HHS Region #5 IL, IN, MI, MN, OH, WI)\n",
    "#                 HHS6 (HHS Region #6 AR, LA, NM, OK, TX)\n",
    "#                 HHS7 (HHS Region #7 IA, KS, MO, NE)\n",
    "#                 HHS8 (HHS Region #8 CO, MT, ND, SD, UT, WY)\n",
    "#                 HHS9 (HHS Region #9 AZ, CA, HI, NV)\n",
    "#                 HHS10 (HHS Region #10 AK, ID, OR, WA)\n",
    "\n",
    "\n",
    "\n",
    "# f_parameters = {\n",
    "#     \"F_D76.V1\": [\"*All*\"], # year/month\n",
    "#     \"F_D76.V10\": [\"*All*\"], # Census Regions - dont change\n",
    "#     \"F_D76.V2\": [\"K00-K92\"], # ICD-10 Codes\n",
    "#     \"F_D76.V27\": [\"*All*\"], # HHS Regions - dont change\n",
    "#     \"F_D76.V9\": [\"*All*\"] # State County - dont change\n",
    "# }\n",
    "\n",
    "f_parameters = {k:[list(v.keys())[0]] for (k,v) in f_attr.items()}"
   ]
  },
  {
   "cell_type": "code",
   "execution_count": 10,
   "metadata": {},
   "outputs": [],
   "source": [
    "# f_attr['F_D149.V22']\n",
    "# print(f_attr['F_D149.V37'])\n",
    "\n",
    "\n",
    "f_parameters['F_D149.V21']=[\"*All*\"]\n",
    "f_parameters['F_D149.V22']=[\"*All*\"]\n",
    "f_parameters['F_D149.V37']=[\"*All*\"]"
   ]
  },
  {
   "cell_type": "code",
   "execution_count": 11,
   "metadata": {},
   "outputs": [],
   "source": [
    "i_attr = {}\n",
    "for iattr in dom.find_all('select',attrs={\"name\" : re.compile('^I_*')}):\n",
    "    if iattr['name'] not in i_attr:\n",
    "        i_attr[iattr['name']] = {}\n",
    "    for option in iattr.children:\n",
    "        if option.name and option.name == 'option':\n",
    "            i_attr[iattr['name']][option['value']]=escape_ansi(option.text.strip())"
   ]
  },
  {
   "cell_type": "code",
   "execution_count": 12,
   "metadata": {},
   "outputs": [
    {
     "name": "stdout",
     "output_type": "stream",
     "text": [
      "I_D149.V21 *All*  (The United States)\n",
      "I_D149.V22 *All*  (The United States)\n",
      "I_D149.V37 *All*  (The United States)\n"
     ]
    },
    {
     "data": {
      "text/plain": [
       "{'I_D149.V21': '*All*  (The United States)',\n",
       " 'I_D149.V22': '*All*  (The United States)',\n",
       " 'I_D149.V37': '*All*  (The United States)'}"
      ]
     },
     "execution_count": 12,
     "metadata": {},
     "output_type": "execute_result"
    }
   ],
   "source": [
    "# i_attr = {'I_D149.V21': '*All*', 'I_D149.V22': '*All*', 'I_D149.V37': '*All*'}\n",
    "i_parameters = {k:list(v.keys())[0] for (k,v) in i_attr.items()}\n",
    "for key in f_attr:\n",
    "    print(f'I{key[1:]}',f_attr[key][f_parameters[key][0]])\n",
    "    i_parameters[f'I{key[1:]}'] = f_attr[key][f_parameters[key][0]]\n",
    "    if f_attr[key][f_parameters[key][0]][0]=='+':\n",
    "        i_parameters[f'I{key[1:]}'] = f_attr[key][f_parameters[key][0]][2:]\n",
    "\n",
    "i_parameters"
   ]
  },
  {
   "cell_type": "code",
   "execution_count": 13,
   "metadata": {
    "collapsed": true,
    "slideshow": {
     "slide_type": "slide"
    }
   },
   "outputs": [],
   "source": [
    "# contents of the \"Currently selected\" information areas next to \"Finder\" controls in the \"Request Form.\"\n",
    "\n",
    "# For this example, include all dates, census regions, hhs regions, and states.\n",
    "# Only include ICD-10 code K00-K92 for disease of the digestive system\n",
    "\n",
    "# i_parameters = {\n",
    "#     \"I_D76.V1\": \"*All* (All Dates)\",  # year/month\n",
    "#     \"I_D76.V10\": \"*All* (The United States)\", # Census Regions - dont change\n",
    "#     \"I_D76.V2\": \"K00-K92 (Diseases of the digestive system)\", # ICD-10 Codes\n",
    "#     \"I_D76.V27\": \"*All* (The United States)\", # HHS Regions - dont change\n",
    "#     \"I_D76.V9\": \"*All* (The United States)\" # State County - dont change\n",
    "# }"
   ]
  },
  {
   "cell_type": "code",
   "execution_count": 14,
   "metadata": {},
   "outputs": [],
   "source": [
    "v_attr = {}\n",
    "for vattr in dom.find_all('select',attrs={\"name\" : re.compile('^V_*')}):\n",
    "    if vattr['name'] not in v_attr:\n",
    "        v_attr[vattr['name']] = {}\n",
    "    for option in vattr.children:\n",
    "        if option.name and option.name == 'option':\n",
    "            v_attr[vattr['name']][option['value']]=escape_ansi(option.text.strip())"
   ]
  },
  {
   "cell_type": "code",
   "execution_count": 15,
   "metadata": {},
   "outputs": [
    {
     "name": "stdout",
     "output_type": "stream",
     "text": [
      "['V_D149.V1', 'V_D149.V10', 'V_D149.V100', 'V_D149.V101', 'V_D149.V102', 'V_D149.V103', 'V_D149.V104', 'V_D149.V105', 'V_D149.V106', 'V_D149.V107', 'V_D149.V108', 'V_D149.V109', 'V_D149.V110', 'V_D149.V111', 'V_D149.V112', 'V_D149.V113', 'V_D149.V114', 'V_D149.V115', 'V_D149.V116', 'V_D149.V117', 'V_D149.V118', 'V_D149.V119', 'V_D149.V120', 'V_D149.V121', 'V_D149.V122', 'V_D149.V123', 'V_D149.V124', 'V_D149.V125', 'V_D149.V126', 'V_D149.V127', 'V_D149.V128', 'V_D149.V129', 'V_D149.V130', 'V_D149.V131', 'V_D149.V132', 'V_D149.V133', 'V_D149.V134', 'V_D149.V135', 'V_D149.V136', 'V_D149.V137', 'V_D149.V138', 'V_D149.V139', 'V_D149.V140', 'V_D149.V141', 'V_D149.V142', 'V_D149.V143', 'V_D149.V144', 'V_D149.V145', 'V_D149.V146', 'V_D149.V147', 'V_D149.V149', 'V_D149.V150', 'V_D149.V151', 'V_D149.V152', 'V_D149.V153', 'V_D149.V154', 'V_D149.V155', 'V_D149.V156', 'V_D149.V157', 'V_D149.V16', 'V_D149.V17', 'V_D149.V18', 'V_D149.V20', 'V_D149.V23', 'V_D149.V24', 'V_D149.V25', 'V_D149.V26', 'V_D149.V27', 'V_D149.V28', 'V_D149.V29', 'V_D149.V3', 'V_D149.V30', 'V_D149.V31', 'V_D149.V32', 'V_D149.V33', 'V_D149.V34', 'V_D149.V35', 'V_D149.V38', 'V_D149.V39', 'V_D149.V4', 'V_D149.V41', 'V_D149.V42', 'V_D149.V43', 'V_D149.V44', 'V_D149.V45', 'V_D149.V46', 'V_D149.V47', 'V_D149.V48', 'V_D149.V49', 'V_D149.V5', 'V_D149.V50', 'V_D149.V51', 'V_D149.V52', 'V_D149.V53', 'V_D149.V54', 'V_D149.V55', 'V_D149.V56', 'V_D149.V57', 'V_D149.V58', 'V_D149.V59', 'V_D149.V6', 'V_D149.V60', 'V_D149.V61', 'V_D149.V62', 'V_D149.V63', 'V_D149.V64', 'V_D149.V65', 'V_D149.V66', 'V_D149.V7', 'V_D149.V70', 'V_D149.V71', 'V_D149.V73', 'V_D149.V74', 'V_D149.V75', 'V_D149.V76', 'V_D149.V77', 'V_D149.V78', 'V_D149.V79', 'V_D149.V8', 'V_D149.V80', 'V_D149.V81', 'V_D149.V82', 'V_D149.V83', 'V_D149.V84', 'V_D149.V85', 'V_D149.V86', 'V_D149.V87', 'V_D149.V88', 'V_D149.V89', 'V_D149.V9', 'V_D149.V90', 'V_D149.V91', 'V_D149.V92', 'V_D149.V93', 'V_D149.V94', 'V_D149.V95', 'V_D149.V96', 'V_D149.V97', 'V_D149.V98', 'V_D149.V99']\n"
     ]
    }
   ],
   "source": [
    "print(sorted(v_attr.keys()))\n",
    "v_parameters = {k:[list(v.keys())[0]] for (k,v) in v_attr.items()}\n",
    "# v_attr"
   ]
  },
  {
   "cell_type": "code",
   "execution_count": 16,
   "metadata": {
    "collapsed": true,
    "slideshow": {
     "slide_type": "slide"
    }
   },
   "outputs": [],
   "source": [
    "# variable values to limit in the \"where\" clause of the query, found in multiple select \n",
    "# list boxes and advanced finder text entry boxes in the \"Request Form.\"\n",
    "\n",
    "# For this example, we want to include ten-year age groups for ages 15-44.\n",
    "# For all other categories, include all values\n",
    "\n",
    "# V_D149.V154 *All*\n",
    "#             Metro    Metro\n",
    "#             Nonmetro Nonmetro\n",
    "# V_D149.V42  *All*       All Races \n",
    "#             1002-5      American Indian or Alaska Native  \n",
    "#             A           Asian\n",
    "#             2054-5      Black or African American  \n",
    "#             NHOPI       Native Hawaiian or Other Pacific Islander  \n",
    "#             2106-3      White  \n",
    "#             M           More than one race \n",
    "#             UNK         Unknown or Not Stated \n",
    "# V_D149.V43  *All*       All Origins\n",
    "#             2135-2      Hispanic or Latino        \n",
    "#             2186-5      Not Hispanic or Latino         \n",
    "#             9           Unknown or Not Stated     \n",
    "# V_D149.V1  *All*       All Ages\n",
    "#             15         Under 15 years      \n",
    "#             15-19      15-19 years      \n",
    "#             20-24      20-24 years      \n",
    "#             25-29      25-29 years      \n",
    "#             30-34      30-34 years      \n",
    "#             35-39      35-39 years      \n",
    "#             40-44      40-44 years \n",
    "#             45-49      45-49 years  \n",
    "#             50+        50 years and over  \n",
    "# V_D149.V5  *All*       All Levels \n",
    "#             1          8th grade or less  \n",
    "#             2          9th through 12th grade with no diploma   \n",
    "#             3          High school graduate or GED completed   \n",
    "#             4          Some college credit, but not a degree   \n",
    "#             5          Associate degree (AA, AS)   \n",
    "#             6          Bachelor's degree (BA, AB, BS)   \n",
    "#             7          Master's degree (MA, MS, MEng, MEd, MSW, MBA)   \n",
    "#             8          Doctorate (PhD, EdD) or Professional Degree (MD, DDS, DVM, LLB, JD)   \n",
    "#             Unk        Unknown or Not Stated    \n",
    "#             Exc        Excluded    \n",
    "#             NR         Not Reported \n",
    "# V_D149.V27 *All*       All Values     \n",
    "#             1         Not Reported \n",
    "#             2          Unmarried  \n",
    "#             9          Unknown or Not Stated  \n",
    "#             NR         Not Reported\n",
    "# V_D149.V51 *All*       All Values\n",
    "#             1          Yes \n",
    "#             2          No \n",
    "#             9          Unknown or Not Stated \n",
    "#             3          Not Applicable \n",
    "#             10         Not Reported\n",
    "# V_D149.V48 *All*       All Values\n",
    "#             1          Born in the U.S. (50 US States) \n",
    "#             2          Born outside the U.S. (includes possessions) \n",
    "#             3          Unknown or Not Stated  \n",
    "#             10         Not Reported \n",
    "# V_D149.V48 *All*       All Values\n",
    "\n",
    "# v_parameters = {\n",
    "#     \"V_D76.V1\": \"\",         # Year/Month\n",
    "#     \"V_D76.V10\": \"\",        # Census Regions\n",
    "#     \"V_D76.V11\": \"*All*\",   # 2006 Urbanization\n",
    "#     \"V_D76.V12\": \"*All*\",   # ICD-10 130 Cause List (Infants)\n",
    "#     \"V_D76.V17\": \"*All*\",   # Hispanic Origin\n",
    "#     \"V_D76.V19\": \"*All*\",   # 2013 Urbanization\n",
    "#     \"V_D76.V2\": \"\",         # ICD-10 Codes\n",
    "#     \"V_D76.V20\": \"*All*\",   # Autopsy\n",
    "#     \"V_D76.V21\": \"*All*\",   # Place of Death\n",
    "#     \"V_D76.V22\": \"*All*\",   # Injury Intent\n",
    "#     \"V_D76.V23\": \"*All*\",   # Injury Mechanism and All Other Leading Causes\n",
    "#     \"V_D76.V24\": \"*All*\",   # Weekday\n",
    "#     \"V_D76.V25\": \"*All*\",   # Drug/Alcohol Induced Causes\n",
    "#     \"V_D76.V27\": \"\",        # HHS Regions\n",
    "#     \"V_D76.V4\": \"*All*\",    # ICD-10 113 Cause List\n",
    "#     \"V_D76.V5\": [\"15-24\", \"25-34\", \"35-44\"], # Ten-Year Age Groups\n",
    "#     \"V_D76.V51\": \"*All*\",   # Five-Year Age Groups\n",
    "#     \"V_D76.V52\": \"*All*\",   # Single-Year Ages\n",
    "#     \"V_D76.V6\": \"00\",       # Infant Age Groups\n",
    "#     \"V_D76.V7\": \"*All*\",    # Gender\n",
    "#     \"V_D76.V8\": \"*All*\",    # Race\n",
    "#     \"V_D76.V9\": \"\"          # State/County\n",
    "# }"
   ]
  },
  {
   "cell_type": "code",
   "execution_count": 17,
   "metadata": {},
   "outputs": [],
   "source": [
    "v_parameters['V_D149.V75'] = ['1'] #Gestational Diabetes Yes\n",
    "v_parameters['V_D149.V42'] = ['1002-5','A'] # American Indians and Alaska natives ,Asians Mother's single race 6\n",
    "v_parameters['V_D149.V21'] = ''\n",
    "v_parameters['V_D149.V22'] = ''\n",
    "v_parameters['V_D149.V37'] = ''\n"
   ]
  },
  {
   "cell_type": "code",
   "execution_count": 18,
   "metadata": {},
   "outputs": [
    {
     "data": {
      "text/plain": [
       "{'O_rate_per': {'1000': '1,000',\n",
       "  '10000': '10,000',\n",
       "  '100000': '100,000',\n",
       "  '1000000': '1,000,000'},\n",
       " 'O_precision': {'0': '0',\n",
       "  '1': '1',\n",
       "  '2': '2',\n",
       "  '3': '3',\n",
       "  '4': '4',\n",
       "  '5': '5',\n",
       "  '6': '6',\n",
       "  '7': '7',\n",
       "  '8': '8',\n",
       "  '9': '9'},\n",
       " 'O_timeout': {'60': '1',\n",
       "  '120': '2',\n",
       "  '180': '3',\n",
       "  '240': '4',\n",
       "  '300': '5',\n",
       "  '360': '6',\n",
       "  '420': '7',\n",
       "  '480': '8',\n",
       "  '540': '9',\n",
       "  '600': '10',\n",
       "  '660': '11',\n",
       "  '720': '12',\n",
       "  '780': '13',\n",
       "  '840': '14',\n",
       "  '900': '15'},\n",
       " 'O_urban': {'D149.V154': '2013 Metro/Nonmetro',\n",
       "  'D149.V155': '2006 Metro/Nonmetro',\n",
       "  'D149.V156': '2013 Urbanization',\n",
       "  'D149.V157': '2006 Urbanization'},\n",
       " 'O_race': {'D149.V42': \"Mother's Single Race 6\",\n",
       "  'D149.V49': \"Mother's Single Race 15\",\n",
       "  'D149.V50': \"Mother's Single/Multi Race 31\"},\n",
       " 'O_m_ethnicity': {'D149.V43': \"Mother's Hispanic Origin\",\n",
       "  'D149.V4': \"Mother's Expanded Hispanic Origin\"},\n",
       " 'O_age': {'D149.V1': 'Age of Mother 9',\n",
       "  'D149.V38': 'Age of Mother 10',\n",
       "  'D149.V39': 'Age of Mother 13'},\n",
       " 'O_frace': {'D149.V54': \"Father's Single Race 6\",\n",
       "  'D149.V55': \"Father's Single Race 15\",\n",
       "  'D149.V56': \"Father's Single/Multi Race 31\"},\n",
       " 'O_f_ethnicity': {'D149.V53': \"Father's Hispanic Origin\",\n",
       "  'D149.V52': \"Father's Expanded Hispanic Origin\"},\n",
       " 'O_prenatal2': {'D149.V65': 'Number of Prenatal Visits Recode',\n",
       "  'D149.V64': 'Number of Prenatal Visits'},\n",
       " 'O_prenatal': {'D149.V63': 'Trimester Prenatal Care Began',\n",
       "  'D149.V8': 'Month Prenatal Care Began'},\n",
       " 'O_cig_before': {'D149.V143': 'Number of Cigarettes Before Pregnancy Recode',\n",
       "  'D149.V139': 'Number of Cigarettes Before Pregnancy'},\n",
       " 'O_cig_trim1': {'D149.V144': 'Number of Cigarettes 1st Trimester Recode',\n",
       "  'D149.V140': 'Number of Cigarettes 1st Trimester'},\n",
       " 'O_cig_trim2': {'D149.V145': 'Number of Cigarettes 2nd Trimester Recode',\n",
       "  'D149.V141': 'Number of Cigarettes 2nd Trimester'},\n",
       " 'O_cig_trim3': {'D149.V146': 'Number of Cigarettes 3rd Trimester Recode',\n",
       "  'D149.V142': 'Number of Cigarettes 3rd Trimester'},\n",
       " 'O_place': {'D149.V45': 'Birthplace',\n",
       "  'D149.V30': 'Birthplace Recode 6',\n",
       "  'D149.V46': 'Birthplace Recode 3'},\n",
       " 'O_delivery': {'D149.V101': 'Delivery Method Expanded',\n",
       "  'D149.V31': 'Delivery Method'},\n",
       " 'O_pay': {'D149.V110': 'Source of Payment for Delivery',\n",
       "  'D149.V109': 'Source of Payment for Delivery Expanded'},\n",
       " 'O_oe_gestation': {'D149.V32': 'OE Gestational Age Recode 10',\n",
       "  'D149.V33': 'OE Gestational Age Recode 11',\n",
       "  'D149.V34': 'OE Gestational Age Weekly'},\n",
       " 'O_gestation': {'D149.V6': 'LMP Gestational Recode 10',\n",
       "  'D149.V23': 'LMP Gestational Recode 11',\n",
       "  'D149.V24': 'LMP Gestational Age Weekly'},\n",
       " 'O_weight': {'D149.V9': 'Infant Birth Weight 12',\n",
       "  'D149.V35': 'Infant Birth Weight 14',\n",
       "  'D149.V41': 'Infant Birth Weight 100 gram increments'},\n",
       " 'O_apgar5': {'D149.V111': 'Five Minute APGAR Score',\n",
       "  'D149.V112': 'Five Minute APGAR Score Recode'},\n",
       " 'O_apgar10': {'D149.V113': 'Ten Minute APGAR Score',\n",
       "  'D149.V114': 'Ten Minute APGAR Score Recode'},\n",
       " 'O_location': {'D149.V21': 'States',\n",
       "  'D149.V22': 'Census Regions',\n",
       "  'D149.V37': 'HHS Regions'},\n",
       " 'O_show_totals': {'true': 'Show Totals', 'false': 'Show Totals'},\n",
       " 'O_show_zeros': {'true': 'Show Zeros', 'false': 'Show Zeros'},\n",
       " 'O_show_suppressed': {'true': 'Show suppressed values',\n",
       "  'false': 'Show suppressed values'},\n",
       " 'O_V21_fmode': {'freg': ''},\n",
       " 'O_V22_fmode': {'freg': ''},\n",
       " 'O_V37_fmode': {'freg': ''},\n",
       " 'O_javascript': {'on': ''},\n",
       " 'O_oc-sect1-request': {'close': ''}}"
      ]
     },
     "execution_count": 18,
     "metadata": {},
     "output_type": "execute_result"
    }
   ],
   "source": [
    "o_attr = {}\n",
    "for oattr in dom.find_all('select',attrs={\"name\" : re.compile('^O_*')}):\n",
    "    if oattr['name'] not in o_attr:\n",
    "        o_attr[oattr['name']] = {}\n",
    "    for option in oattr.children:\n",
    "        if option.name and option.name == 'option':\n",
    "            o_attr[oattr['name']][option['value']]=escape_ansi(option.text.strip())\n",
    "\n",
    "for oattr in dom.find_all('td',attrs={\"class\" : 'radio-cell'}):\n",
    "    oAttr_name = oattr.findChild('input',attrs={\"type\":\"radio\",\"name\" : re.compile('^O_*')})[\"name\"]\n",
    "    if oAttr_name not in o_attr:\n",
    "        o_attr[oAttr_name] = {}\n",
    "    for label in oattr.findChildren('label'):\n",
    "        next_input = label.findNextSibling('input',attrs={\"type\":\"radio\",\"name\" : re.compile('^O_*')})\n",
    "        o_attr[oAttr_name][next_input['value']] = escape_ansi(label.text.strip())\n",
    "\n",
    "o_attr['O_location']={'D149.V21':'States','D149.V22':'Census Regions','D149.V37':'HHS Regions'}\n",
    "o_attr['O_show_totals']={'true':'Show Totals','false':'Show Totals'}\n",
    "o_attr['O_show_zeros']={'true':'Show Zeros','false':'Show Zeros'}\n",
    "o_attr['O_show_suppressed']={'true':'Show suppressed values','false':'Show suppressed values'}\n",
    "o_attr['O_V21_fmode']={'freg':''}\n",
    "o_attr['O_V22_fmode']={'freg':''}\n",
    "o_attr['O_V37_fmode']={'freg':''}\n",
    "o_attr['O_javascript']={'on':''}\n",
    "o_attr['O_oc-sect1-request']={'close':''}\n",
    "o_attr"
   ]
  },
  {
   "cell_type": "code",
   "execution_count": 19,
   "metadata": {},
   "outputs": [
    {
     "data": {
      "text/plain": [
       "dict_keys(['O_rate_per', 'O_precision', 'O_timeout', 'O_urban', 'O_race', 'O_m_ethnicity', 'O_age', 'O_frace', 'O_f_ethnicity', 'O_prenatal2', 'O_prenatal', 'O_cig_before', 'O_cig_trim1', 'O_cig_trim2', 'O_cig_trim3', 'O_place', 'O_delivery', 'O_pay', 'O_oe_gestation', 'O_gestation', 'O_weight', 'O_apgar5', 'O_apgar10', 'O_location', 'O_show_totals', 'O_show_zeros', 'O_show_suppressed', 'O_V21_fmode', 'O_V22_fmode', 'O_V37_fmode', 'O_javascript', 'O_oc-sect1-request'])"
      ]
     },
     "execution_count": 19,
     "metadata": {},
     "output_type": "execute_result"
    }
   ],
   "source": [
    "o_parameters = {}\n",
    "for (k,v) in o_attr.items():\n",
    "    for key in v:\n",
    "        if key in b_parameters.values():\n",
    "            o_parameters[k] = key\n",
    "            break\n",
    "    if k not in o_parameters:\n",
    "        o_parameters[k] = list(v.keys())[0]\n",
    "\n",
    "o_parameters['O_precision'] = '2'\n",
    "o_parameters['O_timeout'] = '600'\n",
    "o_parameters['O_show_suppressed'] = 'false'\n",
    "o_parameters['O_show_zeros'] = 'false'\n",
    "o_parameters.keys()"
   ]
  },
  {
   "cell_type": "code",
   "execution_count": 20,
   "metadata": {
    "collapsed": true,
    "slideshow": {
     "slide_type": "slide"
    }
   },
   "outputs": [],
   "source": [
    "# other parameters, such as radio buttons, checkboxes, and lists that are not data categories\n",
    "\n",
    "# For this example, include age-adjusted rates, use ten-year age groups (D76.V5), use state location by default, \n",
    "# show rates per 100,000, use 2013 urbanization and use ICD-10 Codes (D76.V2) for cause of death category\n",
    "\n",
    "# O_title : \"\" Title of table\n",
    "# O_rate_per : \"1000,10000,100000,1000000\" Calculate rates per\n",
    "# O_location : \"D149.V21,D149.V22,D149.V37\" Select maternal residence\n",
    "# O_V21_fmode: freg\n",
    "# O_urban    : \"D149.V154,D149.V155,D149.V156,D149.V157\"\n",
    "# O_race     : \"D149.V42,D149.V49,D149.V50\"\n",
    "# O_m_ethnicity: \"D149.V43,D149.V4\"\n",
    "# O_age      : \"D149.V1,D149.V38,D149.V39\"\n",
    "# O_frace    : \"D149.V54,D149.V55,D149.V56\"\n",
    "\n",
    "# o_parameters = {\n",
    "#     \"O_V10_fmode\": \"freg\",    # Use regular finder and ignore v parameter value\n",
    "#     \"O_V1_fmode\": \"freg\",     # Use regular finder and ignore v parameter value\n",
    "#     \"O_V27_fmode\": \"freg\",    # Use regular finder and ignore v parameter value\n",
    "#     \"O_V2_fmode\": \"freg\",     # Use regular finder and ignore v parameter value\n",
    "#     \"O_V9_fmode\": \"freg\",     # Use regular finder and ignore v parameter value\n",
    "#     \"O_aar\": \"aar_std\",       # age-adjusted rates\n",
    "#     \"O_aar_pop\": \"0000\",      # population selection for age-adjusted rates\n",
    "#     \"O_age\": \"D76.V5\",        # select age-group (e.g. ten-year, five-year, single-year, infant groups)\n",
    "#     \"O_javascript\": \"on\",     # Set to on by default\n",
    "#     \"O_location\": \"D76.V9\",   # select location variable to use (e.g. state/county, census, hhs regions)\n",
    "#     \"O_precision\": \"1\",       # decimal places\n",
    "#     \"O_rate_per\": \"100000\",   # rates calculated per X persons\n",
    "#     \"O_show_totals\": \"false\",  # Show totals for \n",
    "#     \"O_timeout\": \"300\",\n",
    "#     \"O_title\": \"Digestive Disease Deaths, by Age Group\",    # title for data run\n",
    "#     \"O_ucd\": \"D76.V2\",        # select underlying cause of death category\n",
    "#     \"O_urban\": \"D76.V19\"      # select urbanization category\n",
    "# }"
   ]
  },
  {
   "cell_type": "code",
   "execution_count": 21,
   "metadata": {
    "collapsed": true,
    "slideshow": {
     "slide_type": "slide"
    }
   },
   "outputs": [],
   "source": [
    "# values for non-standard age adjusted rates (see mortality online databases).\n",
    "\n",
    "# For this example, these parameters are ignored as standard age adjusted rates are used\n",
    "\n",
    "# vm_parameters = {\n",
    "#     \"VM_D76.M6_D76.V10\": \"\",        # Location\n",
    "#     \"VM_D76.M6_D76.V17\": \"*All*\",   # Hispanic-Origin\n",
    "#     \"VM_D76.M6_D76.V1_S\": \"*All*\",  # Year\n",
    "#     \"VM_D76.M6_D76.V7\": \"*All*\",    # Gender\n",
    "#     \"VM_D76.M6_D76.V8\": \"*All*\"     # Race\n",
    "# }"
   ]
  },
  {
   "cell_type": "code",
   "execution_count": 22,
   "metadata": {
    "collapsed": true,
    "slideshow": {
     "slide_type": "slide"
    }
   },
   "outputs": [],
   "source": [
    "# Miscellaneous hidden inputs/parameters usually passed by web form. These do not change.\n",
    "\n",
    "# finder-stage-D149.V21 : codeset\n",
    "misc_parameters = {\n",
    "    \"action-Send\": \"Send\",\n",
    "    \"finder-stage-D149.V21\": \"codeset\",\n",
    "    \"finder-stage-D149.V22\": \"codeset\",\n",
    "    \"finder-stage-D149.V37\": \"codeset\",\n",
    "    \"dataset_code\": \"D149\",\n",
    "    \"dataset_label\": \"Natality, 2016-2021 expanded\",\n",
    "    \"saved_id\": \"\",\n",
    "    \"dataset_vintage\": \"2021\",\n",
    "    \"stage\": \"request\"\n",
    "}"
   ]
  },
  {
   "cell_type": "code",
   "execution_count": 23,
   "metadata": {
    "collapsed": true,
    "slideshow": {
     "slide_type": "slide"
    }
   },
   "outputs": [],
   "source": [
    "def createParameterList(parameterList):\n",
    "    \"\"\"Helper function to create a parameter list from a dictionary object\"\"\"\n",
    "    \n",
    "    parameterString = \"\"\n",
    "    \n",
    "    for key in parameterList:\n",
    "        parameterString += \"<parameter>\\n\"\n",
    "        parameterString += \"<name>\" + key + \"</name>\\n\"\n",
    "        \n",
    "        if isinstance(parameterList[key], list):\n",
    "            for value in parameterList[key]:\n",
    "                parameterString += \"<value>\" + value + \"</value>\\n\"\n",
    "        else:\n",
    "            parameterString += \"<value>\" + parameterList[key] + \"</value>\\n\"\n",
    "        \n",
    "        parameterString += \"</parameter>\\n\"\n",
    "        \n",
    "    return parameterString"
   ]
  },
  {
   "cell_type": "code",
   "execution_count": 24,
   "metadata": {
    "collapsed": true,
    "slideshow": {
     "slide_type": "slide"
    }
   },
   "outputs": [],
   "source": [
    "xml_request = \"<request-parameters>\\n\"\n",
    "xml_request += createParameterList(sort_parameters(b_parameters))\n",
    "xml_request += createParameterList(sort_parameters(f_parameters))\n",
    "xml_request += createParameterList(sort_parameters(i_parameters))\n",
    "xml_request += createParameterList(sort_parameters(m_parameters))\n",
    "xml_request += createParameterList(sort_parameters(o_parameters))\n",
    "# xml_request += createParameterList(vm_parameters)\n",
    "xml_request += createParameterList(sort_parameters(v_parameters))\n",
    "xml_request += createParameterList(sort_parameters(misc_parameters))\n",
    "xml_request += \"</request-parameters>\""
   ]
  },
  {
   "cell_type": "code",
   "execution_count": 25,
   "metadata": {},
   "outputs": [],
   "source": [
    "f = open('request.xml','w')\n",
    "f.write(xml_request)\n",
    "f.close()"
   ]
  },
  {
   "cell_type": "code",
   "execution_count": 26,
   "metadata": {
    "collapsed": true,
    "slideshow": {
     "slide_type": "slide"
    }
   },
   "outputs": [],
   "source": [
    "import requests\n",
    "\n",
    "url = \"https://wonder.cdc.gov/controller/datarequest/D149\"\n",
    "response = requests.post(url, data={\"request_xml\": xml_request, \"accept_datause_restrictions\": \"true\"})\n",
    "\n",
    "if response.status_code == 200:\n",
    "    data = response.text\n",
    "else:\n",
    "    print(\"something went wrong\")\n",
    "    print(f'Error code: {response.status_code}')\n",
    "    print(f'Reason: {response.reason}')\n",
    "    print(response.content)\n"
   ]
  },
  {
   "cell_type": "code",
   "execution_count": 27,
   "metadata": {
    "collapsed": true,
    "slideshow": {
     "slide_type": "slide"
    }
   },
   "outputs": [],
   "source": [
    "# BeautifulSoup library facilitates parsing of XML response\n",
    "import bs4 as bs\n",
    "\n",
    "# This library faciliates 2-dimensional array operations and visualization\n",
    "import pandas as pd"
   ]
  },
  {
   "cell_type": "code",
   "execution_count": 28,
   "metadata": {
    "code_folding": [],
    "collapsed": true,
    "slideshow": {
     "slide_type": "slide"
    }
   },
   "outputs": [],
   "source": [
    "def xml2df(xml_data):\n",
    "    \"\"\" This function grabs the root of the XML document and iterates over\n",
    "        the 'r' (row) and 'c' (column) tags of the data-table\n",
    "        Rows with a 'v' attribute contain a numerical value\n",
    "        Rows with a 'l attribute contain a text label and may contain an\n",
    "        additional 'r' (rowspan) tag which identifies how many rows the value\n",
    "        should be added. If present, that label will be added to the following\n",
    "        rows of the data table.\n",
    "    \n",
    "        Function returns a two-dimensional array or data frame that may be \n",
    "        used by the pandas library.\"\"\"\n",
    "    \n",
    "    root = bs.BeautifulSoup(xml_data,\"xml\")\n",
    "    all_records = []\n",
    "    row_number = 0\n",
    "    rows = root.find_all(\"r\")\n",
    "    # print(rows)\n",
    "    \n",
    "    for row in rows:\n",
    "        if row_number >= len(all_records):\n",
    "            all_records.append([])\n",
    "              \n",
    "        for cell in row.find_all(\"c\"):\n",
    "            if 'v' in cell.attrs:\n",
    "                try:\n",
    "                    all_records[row_number].append(float(cell.attrs[\"v\"].replace(',','')))\n",
    "                except ValueError:\n",
    "                    all_records[row_number].append(cell.attrs[\"v\"])\n",
    "            else:\n",
    "                if 'r' not in cell.attrs:\n",
    "                    try:\n",
    "                        # print(all_records,row_number)\n",
    "                        all_records[row_number].append(cell.attrs[\"l\"])\n",
    "                    except KeyError:\n",
    "                        del all_records[-1]\n",
    "                        row_number-=1\n",
    "                        break\n",
    "\n",
    "                else:\n",
    "                \n",
    "                    for row_index in range(int(cell.attrs[\"r\"])):\n",
    "                        if (row_number + row_index) >= len(all_records):\n",
    "                            all_records.append([])\n",
    "                            all_records[row_number + row_index].append(cell.attrs[\"l\"])\n",
    "                        else:\n",
    "                            all_records[row_number + row_index].append(cell.attrs[\"l\"])\n",
    "                                           \n",
    "        row_number += 1\n",
    "    return all_records"
   ]
  },
  {
   "cell_type": "code",
   "execution_count": 29,
   "metadata": {},
   "outputs": [
    {
     "data": {
      "text/plain": [
       "['2013 Metro/Nonmetro',\n",
       " \"Mother's Single Race 6\",\n",
       " 'Age of Mother 9',\n",
       " 'Marital Status',\n",
       " \"Mother's Birth Country\",\n",
       " 'Births',\n",
       " 'Percent of Total Births',\n",
       " 'Average Age of Mother (years)']"
      ]
     },
     "execution_count": 29,
     "metadata": {},
     "output_type": "execute_result"
    }
   ],
   "source": [
    "group_by_dict = { x['value']:x.text for x in dom.find('select',attrs={\"name\" : 'B_1'}).findChildren('option')}\n",
    "measure_columns = [ m_attr[u][v] for u,v in m_parameters.items()]\n",
    "\n",
    "group_by_columns = [  group_by_dict[x] for x in b_parameters.values() if x != '*None*']\n",
    "data_columns = group_by_columns + measure_columns\n",
    "data_columns"
   ]
  },
  {
   "cell_type": "code",
   "execution_count": 30,
   "metadata": {
    "slideshow": {
     "slide_type": "slide"
    }
   },
   "outputs": [
    {
     "data": {
      "text/html": [
       "<div>\n",
       "<style scoped>\n",
       "    .dataframe tbody tr th:only-of-type {\n",
       "        vertical-align: middle;\n",
       "    }\n",
       "\n",
       "    .dataframe tbody tr th {\n",
       "        vertical-align: top;\n",
       "    }\n",
       "\n",
       "    .dataframe thead th {\n",
       "        text-align: right;\n",
       "    }\n",
       "</style>\n",
       "<table border=\"1\" class=\"dataframe\">\n",
       "  <thead>\n",
       "    <tr style=\"text-align: right;\">\n",
       "      <th></th>\n",
       "      <th>2013 Metro/Nonmetro</th>\n",
       "      <th>Mother's Single Race 6</th>\n",
       "      <th>Age of Mother 9</th>\n",
       "      <th>Marital Status</th>\n",
       "      <th>Mother's Birth Country</th>\n",
       "      <th>Births</th>\n",
       "      <th>Percent of Total Births</th>\n",
       "      <th>Average Age of Mother (years)</th>\n",
       "    </tr>\n",
       "  </thead>\n",
       "  <tbody>\n",
       "    <tr>\n",
       "      <th>0</th>\n",
       "      <td>Metro</td>\n",
       "      <td>American Indian or Alaska Native</td>\n",
       "      <td>15-19 years</td>\n",
       "      <td>Married</td>\n",
       "      <td>UNITED STATES</td>\n",
       "      <td>23.0</td>\n",
       "      <td>0.01%</td>\n",
       "      <td>18.57</td>\n",
       "    </tr>\n",
       "    <tr>\n",
       "      <th>1</th>\n",
       "      <td>Metro</td>\n",
       "      <td>American Indian or Alaska Native</td>\n",
       "      <td>15-19 years</td>\n",
       "      <td>Unmarried</td>\n",
       "      <td>UNITED STATES</td>\n",
       "      <td>275.0</td>\n",
       "      <td>0.13%</td>\n",
       "      <td>18.17</td>\n",
       "    </tr>\n",
       "    <tr>\n",
       "      <th>2</th>\n",
       "      <td>Metro</td>\n",
       "      <td>American Indian or Alaska Native</td>\n",
       "      <td>15-19 years</td>\n",
       "      <td>Not Reported</td>\n",
       "      <td>UNITED STATES</td>\n",
       "      <td>16.0</td>\n",
       "      <td>0.01%</td>\n",
       "      <td>18.50</td>\n",
       "    </tr>\n",
       "    <tr>\n",
       "      <th>3</th>\n",
       "      <td>Metro</td>\n",
       "      <td>American Indian or Alaska Native</td>\n",
       "      <td>20-24 years</td>\n",
       "      <td>Married</td>\n",
       "      <td>MEXICO</td>\n",
       "      <td>10.0</td>\n",
       "      <td>0.00%</td>\n",
       "      <td>23.50</td>\n",
       "    </tr>\n",
       "    <tr>\n",
       "      <th>4</th>\n",
       "      <td>Metro</td>\n",
       "      <td>American Indian or Alaska Native</td>\n",
       "      <td>20-24 years</td>\n",
       "      <td>Married</td>\n",
       "      <td>UNITED STATES</td>\n",
       "      <td>381.0</td>\n",
       "      <td>0.18%</td>\n",
       "      <td>22.68</td>\n",
       "    </tr>\n",
       "    <tr>\n",
       "      <th>...</th>\n",
       "      <td>...</td>\n",
       "      <td>...</td>\n",
       "      <td>...</td>\n",
       "      <td>...</td>\n",
       "      <td>...</td>\n",
       "      <td>...</td>\n",
       "      <td>...</td>\n",
       "      <td>...</td>\n",
       "    </tr>\n",
       "    <tr>\n",
       "      <th>659</th>\n",
       "      <td>Nonmetro</td>\n",
       "      <td>Asian</td>\n",
       "      <td>40-44 years</td>\n",
       "      <td>Married</td>\n",
       "      <td>SOUTH KOREA</td>\n",
       "      <td>15.0</td>\n",
       "      <td>0.01%</td>\n",
       "      <td>41.80</td>\n",
       "    </tr>\n",
       "    <tr>\n",
       "      <th>660</th>\n",
       "      <td>Nonmetro</td>\n",
       "      <td>Asian</td>\n",
       "      <td>40-44 years</td>\n",
       "      <td>Married</td>\n",
       "      <td>THAILAND</td>\n",
       "      <td>15.0</td>\n",
       "      <td>0.01%</td>\n",
       "      <td>41.20</td>\n",
       "    </tr>\n",
       "    <tr>\n",
       "      <th>661</th>\n",
       "      <td>Nonmetro</td>\n",
       "      <td>Asian</td>\n",
       "      <td>40-44 years</td>\n",
       "      <td>Married</td>\n",
       "      <td>UNITED STATES</td>\n",
       "      <td>17.0</td>\n",
       "      <td>0.01%</td>\n",
       "      <td>41.41</td>\n",
       "    </tr>\n",
       "    <tr>\n",
       "      <th>662</th>\n",
       "      <td>Nonmetro</td>\n",
       "      <td>Asian</td>\n",
       "      <td>40-44 years</td>\n",
       "      <td>Married</td>\n",
       "      <td>VIETNAM</td>\n",
       "      <td>23.0</td>\n",
       "      <td>0.01%</td>\n",
       "      <td>41.17</td>\n",
       "    </tr>\n",
       "    <tr>\n",
       "      <th>663</th>\n",
       "      <td>Nonmetro</td>\n",
       "      <td>Asian</td>\n",
       "      <td>40-44 years</td>\n",
       "      <td>Unmarried</td>\n",
       "      <td>PHILIPPINES</td>\n",
       "      <td>12.0</td>\n",
       "      <td>0.01%</td>\n",
       "      <td>41.50</td>\n",
       "    </tr>\n",
       "  </tbody>\n",
       "</table>\n",
       "<p>664 rows × 8 columns</p>\n",
       "</div>"
      ],
      "text/plain": [
       "    2013 Metro/Nonmetro            Mother's Single Race 6 Age of Mother 9  \\\n",
       "0                 Metro  American Indian or Alaska Native     15-19 years   \n",
       "1                 Metro  American Indian or Alaska Native     15-19 years   \n",
       "2                 Metro  American Indian or Alaska Native     15-19 years   \n",
       "3                 Metro  American Indian or Alaska Native     20-24 years   \n",
       "4                 Metro  American Indian or Alaska Native     20-24 years   \n",
       "..                  ...                               ...             ...   \n",
       "659            Nonmetro                             Asian     40-44 years   \n",
       "660            Nonmetro                             Asian     40-44 years   \n",
       "661            Nonmetro                             Asian     40-44 years   \n",
       "662            Nonmetro                             Asian     40-44 years   \n",
       "663            Nonmetro                             Asian     40-44 years   \n",
       "\n",
       "    Marital Status Mother's Birth Country  Births Percent of Total Births  \\\n",
       "0          Married          UNITED STATES    23.0                   0.01%   \n",
       "1        Unmarried          UNITED STATES   275.0                   0.13%   \n",
       "2     Not Reported          UNITED STATES    16.0                   0.01%   \n",
       "3          Married                 MEXICO    10.0                   0.00%   \n",
       "4          Married          UNITED STATES   381.0                   0.18%   \n",
       "..             ...                    ...     ...                     ...   \n",
       "659        Married            SOUTH KOREA    15.0                   0.01%   \n",
       "660        Married               THAILAND    15.0                   0.01%   \n",
       "661        Married          UNITED STATES    17.0                   0.01%   \n",
       "662        Married                VIETNAM    23.0                   0.01%   \n",
       "663      Unmarried            PHILIPPINES    12.0                   0.01%   \n",
       "\n",
       "     Average Age of Mother (years)  \n",
       "0                            18.57  \n",
       "1                            18.17  \n",
       "2                            18.50  \n",
       "3                            23.50  \n",
       "4                            22.68  \n",
       "..                             ...  \n",
       "659                          41.80  \n",
       "660                          41.20  \n",
       "661                          41.41  \n",
       "662                          41.17  \n",
       "663                          41.50  \n",
       "\n",
       "[664 rows x 8 columns]"
      ]
     },
     "execution_count": 30,
     "metadata": {},
     "output_type": "execute_result"
    }
   ],
   "source": [
    "data_frame = xml2df(data)\n",
    "\n",
    "df = pd.DataFrame(data=data_frame, columns=data_columns)\n",
    "\n",
    "df"
   ]
  },
  {
   "cell_type": "code",
   "execution_count": 31,
   "metadata": {
    "code_folding": [],
    "slideshow": {
     "slide_type": "slide"
    }
   },
   "outputs": [
    {
     "name": "stderr",
     "output_type": "stream",
     "text": [
      "/var/folders/1g/r76h73zs77j7mtdjg0l92fpw0000gn/T/ipykernel_732/2277599860.py:6: FutureWarning: The default value of numeric_only in DataFrameGroupBy.sum is deprecated. In a future version, numeric_only will default to False. Either specify numeric_only or select only columns which should be valid for the function.\n",
      "  df.groupby(by=['Age of Mother 9']).sum()['Births'].plot(title='Births with gestation Diabeties based on Age of Mother: American Indians and Alaska natives ,Asians');\n"
     ]
    },
    {
     "data": {
      "image/png": "[encoded data removed]",
      "text/plain": [
       "<Figure size 1600x900 with 1 Axes>"
      ]
     },
     "metadata": {},
     "output_type": "display_data"
    }
   ],
   "source": [
    "# Load matplotlib for plotting and instruct jupyter to display figures inline\n",
    "from matplotlib import pyplot as plt\n",
    "%matplotlib inline\n",
    "\n",
    "# Group total number of deaths by year\n",
    "df.groupby(by=['Age of Mother 9']).sum()['Births'].plot(title='Births with gestation Diabeties based on Age of Mother: American Indians and Alaska natives ,Asians');\n",
    "fig = plt.gcf()\n",
    "fig.set_size_inches(16, 9)"
   ]
  },
  {
   "cell_type": "code",
   "execution_count": 32,
   "metadata": {
    "code_folding": [],
    "slideshow": {
     "slide_type": "slide"
    }
   },
   "outputs": [
    {
     "name": "stderr",
     "output_type": "stream",
     "text": [
      "/var/folders/1g/r76h73zs77j7mtdjg0l92fpw0000gn/T/ipykernel_732/806100609.py:10: FutureWarning: In a future version of pandas, a length 1 tuple will be returned when iterating over a groupby with a grouper equal to a list of length 1. Don't supply a list with a single grouper to avoid this warning.\n",
      "  for key, grp in df.groupby([\"Mother's Single Race 6\"]):\n"
     ]
    },
    {
     "data": {
      "image/png": "[encoded data removed]",
      "text/plain": [
       "<Figure size 1600x900 with 1 Axes>"
      ]
     },
     "metadata": {},
     "output_type": "display_data"
    }
   ],
   "source": [
    "# Create mult-line chart for deaths by race \n",
    "\n",
    "# Store figure and axis for shared plot\n",
    "fig, ax = plt.subplots()\n",
    "\n",
    "# Store labels for all race groups\n",
    "labels = []\n",
    "\n",
    "# For each group in the groupby object, grab the 'Race' label and create a line plot for it\n",
    "for key, grp in df.groupby([\"Mother's Single Race 6\"]):\n",
    "    ax = grp.plot(ax=ax, kind='line', x='Age of Mother 9', y='Births')\n",
    "    labels.append(key)\n",
    "\n",
    "# Set the labels for each line using the group labels\n",
    "lines, _ = ax.get_legend_handles_labels()\n",
    "ax.legend(lines, labels, loc='best')\n",
    "\n",
    "# Configure chart size and title\n",
    "fig = plt.gcf()\n",
    "fig.set_size_inches(16, 9)\n",
    "plt.title(\"Births by race with gestation Diabeties based on Age of Mother: American Indians and Alaska natives ,Asians\");"
   ]
  }
 ],
 "metadata": {
  "celltoolbar": "Slideshow",
  "kernelspec": {
   "display_name": "base",
   "language": "python",
   "name": "python3"
  },
  "language_info": {
   "codemirror_mode": {
    "name": "ipython",
    "version": 3
   },
   "file_extension": ".py",
   "mimetype": "text/x-python",
   "name": "python",
   "nbconvert_exporter": "python",
   "pygments_lexer": "ipython3",
   "version": "3.9.15"
  },
  "varInspector": {
   "cols": {
    "lenName": 16,
    "lenType": 16,
    "lenVar": 40
   },
   "kernels_config": {
    "python": {
     "delete_cmd_postfix": "",
     "delete_cmd_prefix": "del ",
     "library": "var_list.py",
     "varRefreshCmd": "print(var_dic_list())"
    },
    "r": {
     "delete_cmd_postfix": ") ",
     "delete_cmd_prefix": "rm(",
     "library": "var_list.r",
     "varRefreshCmd": "cat(var_dic_list()) "
    }
   },
   "types_to_exclude": [
    "module",
    "function",
    "builtin_function_or_method",
    "instance",
    "_Feature"
   ],
   "window_display": false
  },
  "vscode": {
   "interpreter": {
    "hash": "1c93df08fcbabfdbaadb87d75cf78a45ec6be13cfbd39d17b7e2e21df63f1af9"
   }
  }
 },
 "nbformat": 4,
 "nbformat_minor": 2
}
