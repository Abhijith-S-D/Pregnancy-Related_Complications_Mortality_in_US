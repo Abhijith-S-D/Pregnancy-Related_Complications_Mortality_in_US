{
 "cells": [
  {
   "attachments": {},
   "cell_type": "markdown",
   "metadata": {},
   "source": [
    "# Notebook to show all visualizations of our analysis"
   ]
  },
  {
   "attachments": {},
   "cell_type": "markdown",
   "metadata": {},
   "source": [
    "First adding the package to sys path."
   ]
  },
  {
   "cell_type": "code",
   "execution_count": 1,
   "metadata": {},
   "outputs": [],
   "source": [
    "import sys\n",
    "sys.path.append('../src')"
   ]
  },
  {
   "attachments": {},
   "cell_type": "markdown",
   "metadata": {},
   "source": [
    "Now importing helper from the package to investigate all required options"
   ]
  },
  {
   "cell_type": "code",
   "execution_count": 2,
   "metadata": {},
   "outputs": [],
   "source": [
    "import pandas as pd\n",
    "import plotly_express as px\n",
    "import plotly.graph_objects as go\n",
    "import wonderD149Data.data.helper as hp\n",
    "import wonderD149Data.wonderD149Data as wd\n",
    "from wonderD149Data.data import races_deaths_df, races_births_df, states_death_df, states_births_df, abnormal_conditions_df, pregnancy_deaths_df, delivery_deaths_df, before_42_deaths_df, lmd_df, total_deaths_df"
   ]
  },
  {
   "attachments": {},
   "cell_type": "markdown",
   "metadata": {},
   "source": [
    "Reloading the custom modules explicitly to incorporate live changes in src code"
   ]
  },
  {
   "cell_type": "code",
   "execution_count": 3,
   "metadata": {},
   "outputs": [
    {
     "data": {
      "text/plain": [
       "<module 'wonderD149Data.wonderD149Data' from '/Users/abhijithdasharathi/Study/UCSD/Winter_23/ECE143/CDC_Project/wonderD149Data/examples/../src/wonderD149Data/wonderD149Data.py'>"
      ]
     },
     "execution_count": 3,
     "metadata": {},
     "output_type": "execute_result"
    }
   ],
   "source": [
    "import importlib\n",
    "\n",
    "importlib.reload(hp)\n",
    "importlib.reload(wd)"
   ]
  },
  {
   "attachments": {},
   "cell_type": "markdown",
   "metadata": {},
   "source": [
    "## Visualization 1\n",
    "\n",
    "Impact of Cigarettes"
   ]
  },
  {
   "cell_type": "code",
   "execution_count": 4,
   "metadata": {},
   "outputs": [
    {
     "name": "stdout",
     "output_type": "stream",
     "text": [
      "2023-03-17 13:44:31,756 - root - _createXMLRequest - INFO - the xml sent to api is as below\n",
      "2023-03-17 13:44:31,758 - root - _createXMLRequest - DEBUG - <request-parameters>\n",
      "<parameter>\n",
      "<name>B_1</name>\n",
      "<value>D149.V144</value>\n",
      "</parameter>\n",
      "<parameter>\n",
      "<name>B_2</name>\n",
      "<value>*None*</value>\n",
      "</parameter>\n",
      "<parameter>\n",
      "<name>B_3</name>\n",
      "<value>*None*</value>\n",
      "</parameter>\n",
      "<parameter>\n",
      "<name>B_4</name>\n",
      "<value>*None*</value>\n",
      "</parameter>\n",
      "<parameter>\n",
      "<name>B_5</name>\n",
      "<value>*None*</value>\n",
      "</parameter>\n",
      "<parameter>\n",
      "<name>F_D149.V21</name>\n",
      "<value>*All*</value>\n",
      "</parameter>\n",
      "<parameter>\n",
      "<name>F_D149.V22</name>\n",
      "<value>*All*</value>\n",
      "</parameter>\n",
      "<parameter>\n",
      "<name>F_D149.V37</name>\n",
      "<value>*All*</value>\n",
      "</parameter>\n",
      "<parameter>\n",
      "<name>I_D149.V21</name>\n",
      "<value>*All*  (The United States)</value>\n",
      "</parameter>\n",
      "<parameter>\n",
      "<name>I_D149.V22</name>\n",
      "<value>*All*  (The United States)</value>\n",
      "</parameter>\n",
      "<parameter>\n",
      "<name>I_D149.V37</name>\n",
      "<value>*All*  (The United States)</value>\n",
      "</parameter>\n",
      "<parameter>\n",
      "<name>M_002</name>\n",
      "<value>D149.M002</value>\n",
      "</parameter>\n",
      "<parameter>\n",
      "<name>O_V21_fmode</name>\n",
      "<value>freg</value>\n",
      "</parameter>\n",
      "<parameter>\n",
      "<name>O_V22_fmode</name>\n",
      "<value>freg</value>\n",
      "</parameter>\n",
      "<parameter>\n",
      "<name>O_V37_fmode</name>\n",
      "<value>freg</value>\n",
      "</parameter>\n",
      "<parameter>\n",
      "<name>O_age</name>\n",
      "<value>D149.V1</value>\n",
      "</parameter>\n",
      "<parameter>\n",
      "<name>O_apgar10</name>\n",
      "<value>D149.V113</value>\n",
      "</parameter>\n",
      "<parameter>\n",
      "<name>O_apgar5</name>\n",
      "<value>D149.V111</value>\n",
      "</parameter>\n",
      "<parameter>\n",
      "<name>O_cig_before</name>\n",
      "<value>D149.V143</value>\n",
      "</parameter>\n",
      "<parameter>\n",
      "<name>O_cig_trim1</name>\n",
      "<value>D149.V144</value>\n",
      "</parameter>\n",
      "<parameter>\n",
      "<name>O_cig_trim2</name>\n",
      "<value>D149.V145</value>\n",
      "</parameter>\n",
      "<parameter>\n",
      "<name>O_cig_trim3</name>\n",
      "<value>D149.V146</value>\n",
      "</parameter>\n",
      "<parameter>\n",
      "<name>O_delivery</name>\n",
      "<value>D149.V101</value>\n",
      "</parameter>\n",
      "<parameter>\n",
      "<name>O_f_ethnicity</name>\n",
      "<value>D149.V53</value>\n",
      "</parameter>\n",
      "<parameter>\n",
      "<name>O_frace</name>\n",
      "<value>D149.V54</value>\n",
      "</parameter>\n",
      "<parameter>\n",
      "<name>O_gestation</name>\n",
      "<value>D149.V6</value>\n",
      "</parameter>\n",
      "<parameter>\n",
      "<name>O_javascript</name>\n",
      "<value>on</value>\n",
      "</parameter>\n",
      "<parameter>\n",
      "<name>O_location</name>\n",
      "<value>D149.V21</value>\n",
      "</parameter>\n",
      "<parameter>\n",
      "<name>O_m_ethnicity</name>\n",
      "<value>D149.V43</value>\n",
      "</parameter>\n",
      "<parameter>\n",
      "<name>O_oc-sect1-request</name>\n",
      "<value>close</value>\n",
      "</parameter>\n",
      "<parameter>\n",
      "<name>O_oe_gestation</name>\n",
      "<value>D149.V33</value>\n",
      "</parameter>\n",
      "<parameter>\n",
      "<name>O_pay</name>\n",
      "<value>D149.V110</value>\n",
      "</parameter>\n",
      "<parameter>\n",
      "<name>O_place</name>\n",
      "<value>D149.V45</value>\n",
      "</parameter>\n",
      "<parameter>\n",
      "<name>O_precision</name>\n",
      "<value>2</value>\n",
      "</parameter>\n",
      "<parameter>\n",
      "<name>O_prenatal</name>\n",
      "<value>D149.V63</value>\n",
      "</parameter>\n",
      "<parameter>\n",
      "<name>O_prenatal2</name>\n",
      "<value>D149.V65</value>\n",
      "</parameter>\n",
      "<parameter>\n",
      "<name>O_race</name>\n",
      "<value>D149.V42</value>\n",
      "</parameter>\n",
      "<parameter>\n",
      "<name>O_rate_per</name>\n",
      "<value>1000</value>\n",
      "</parameter>\n",
      "<parameter>\n",
      "<name>O_show_suppressed</name>\n",
      "<value>false</value>\n",
      "</parameter>\n",
      "<parameter>\n",
      "<name>O_show_totals</name>\n",
      "<value>true</value>\n",
      "</parameter>\n",
      "<parameter>\n",
      "<name>O_show_zeros</name>\n",
      "<value>false</value>\n",
      "</parameter>\n",
      "<parameter>\n",
      "<name>O_timeout</name>\n",
      "<value>600</value>\n",
      "</parameter>\n",
      "<parameter>\n",
      "<name>O_urban</name>\n",
      "<value>D149.V154</value>\n",
      "</parameter>\n",
      "<parameter>\n",
      "<name>O_weight</name>\n",
      "<value>D149.V9</value>\n",
      "</parameter>\n",
      "<parameter>\n",
      "<name>V_D149.V1</name>\n",
      "<value>*All*</value>\n",
      "</parameter>\n",
      "<parameter>\n",
      "<name>V_D149.V10</name>\n",
      "<value>*All*</value>\n",
      "</parameter>\n",
      "<parameter>\n",
      "<name>V_D149.V100</name>\n",
      "<value>*All*</value>\n",
      "</parameter>\n",
      "<parameter>\n",
      "<name>V_D149.V101</name>\n",
      "<value>*All*</value>\n",
      "</parameter>\n",
      "<parameter>\n",
      "<name>V_D149.V102</name>\n",
      "<value>*All*</value>\n",
      "</parameter>\n",
      "<parameter>\n",
      "<name>V_D149.V103</name>\n",
      "<value>*All*</value>\n",
      "</parameter>\n",
      "<parameter>\n",
      "<name>V_D149.V104</name>\n",
      "<value>*All*</value>\n",
      "</parameter>\n",
      "<parameter>\n",
      "<name>V_D149.V105</name>\n",
      "<value>*All*</value>\n",
      "</parameter>\n",
      "<parameter>\n",
      "<name>V_D149.V106</name>\n",
      "<value>*All*</value>\n",
      "</parameter>\n",
      "<parameter>\n",
      "<name>V_D149.V107</name>\n",
      "<value>*All*</value>\n",
      "</parameter>\n",
      "<parameter>\n",
      "<name>V_D149.V108</name>\n",
      "<value>*All*</value>\n",
      "</parameter>\n",
      "<parameter>\n",
      "<name>V_D149.V109</name>\n",
      "<value>*All*</value>\n",
      "</parameter>\n",
      "<parameter>\n",
      "<name>V_D149.V110</name>\n",
      "<value>*All*</value>\n",
      "</parameter>\n",
      "<parameter>\n",
      "<name>V_D149.V111</name>\n",
      "<value>*All*</value>\n",
      "</parameter>\n",
      "<parameter>\n",
      "<name>V_D149.V112</name>\n",
      "<value>*All*</value>\n",
      "</parameter>\n",
      "<parameter>\n",
      "<name>V_D149.V113</name>\n",
      "<value>*All*</value>\n",
      "</parameter>\n",
      "<parameter>\n",
      "<name>V_D149.V114</name>\n",
      "<value>*All*</value>\n",
      "</parameter>\n",
      "<parameter>\n",
      "<name>V_D149.V115</name>\n",
      "<value>*All*</value>\n",
      "</parameter>\n",
      "<parameter>\n",
      "<name>V_D149.V116</name>\n",
      "<value>*All*</value>\n",
      "</parameter>\n",
      "<parameter>\n",
      "<name>V_D149.V117</name>\n",
      "<value>*All*</value>\n",
      "</parameter>\n",
      "<parameter>\n",
      "<name>V_D149.V118</name>\n",
      "<value>*All*</value>\n",
      "</parameter>\n",
      "<parameter>\n",
      "<name>V_D149.V119</name>\n",
      "<value>*All*</value>\n",
      "</parameter>\n",
      "<parameter>\n",
      "<name>V_D149.V120</name>\n",
      "<value>*All*</value>\n",
      "</parameter>\n",
      "<parameter>\n",
      "<name>V_D149.V121</name>\n",
      "<value>*All*</value>\n",
      "</parameter>\n",
      "<parameter>\n",
      "<name>V_D149.V122</name>\n",
      "<value>*All*</value>\n",
      "</parameter>\n",
      "<parameter>\n",
      "<name>V_D149.V123</name>\n",
      "<value>*All*</value>\n",
      "</parameter>\n",
      "<parameter>\n",
      "<name>V_D149.V124</name>\n",
      "<value>*All*</value>\n",
      "</parameter>\n",
      "<parameter>\n",
      "<name>V_D149.V125</name>\n",
      "<value>*All*</value>\n",
      "</parameter>\n",
      "<parameter>\n",
      "<name>V_D149.V126</name>\n",
      "<value>*All*</value>\n",
      "</parameter>\n",
      "<parameter>\n",
      "<name>V_D149.V127</name>\n",
      "<value>*All*</value>\n",
      "</parameter>\n",
      "<parameter>\n",
      "<name>V_D149.V128</name>\n",
      "<value>*All*</value>\n",
      "</parameter>\n",
      "<parameter>\n",
      "<name>V_D149.V129</name>\n",
      "<value>*All*</value>\n",
      "</parameter>\n",
      "<parameter>\n",
      "<name>V_D149.V130</name>\n",
      "<value>*All*</value>\n",
      "</parameter>\n",
      "<parameter>\n",
      "<name>V_D149.V131</name>\n",
      "<value>*All*</value>\n",
      "</parameter>\n",
      "<parameter>\n",
      "<name>V_D149.V132</name>\n",
      "<value>*All*</value>\n",
      "</parameter>\n",
      "<parameter>\n",
      "<name>V_D149.V133</name>\n",
      "<value>*All*</value>\n",
      "</parameter>\n",
      "<parameter>\n",
      "<name>V_D149.V134</name>\n",
      "<value>*All*</value>\n",
      "</parameter>\n",
      "<parameter>\n",
      "<name>V_D149.V135</name>\n",
      "<value>*All*</value>\n",
      "</parameter>\n",
      "<parameter>\n",
      "<name>V_D149.V136</name>\n",
      "<value>*All*</value>\n",
      "</parameter>\n",
      "<parameter>\n",
      "<name>V_D149.V137</name>\n",
      "<value>*All*</value>\n",
      "</parameter>\n",
      "<parameter>\n",
      "<name>V_D149.V138</name>\n",
      "<value>*All*</value>\n",
      "</parameter>\n",
      "<parameter>\n",
      "<name>V_D149.V139</name>\n",
      "<value>*All*</value>\n",
      "</parameter>\n",
      "<parameter>\n",
      "<name>V_D149.V140</name>\n",
      "<value>*All*</value>\n",
      "</parameter>\n",
      "<parameter>\n",
      "<name>V_D149.V141</name>\n",
      "<value>*All*</value>\n",
      "</parameter>\n",
      "<parameter>\n",
      "<name>V_D149.V142</name>\n",
      "<value>*All*</value>\n",
      "</parameter>\n",
      "<parameter>\n",
      "<name>V_D149.V143</name>\n",
      "<value>*All*</value>\n",
      "</parameter>\n",
      "<parameter>\n",
      "<name>V_D149.V144</name>\n",
      "<value>0</value>\n",
      "<value>1</value>\n",
      "<value>2</value>\n",
      "<value>3</value>\n",
      "<value>4</value>\n",
      "</parameter>\n",
      "<parameter>\n",
      "<name>V_D149.V145</name>\n",
      "<value>*All*</value>\n",
      "</parameter>\n",
      "<parameter>\n",
      "<name>V_D149.V146</name>\n",
      "<value>*All*</value>\n",
      "</parameter>\n",
      "<parameter>\n",
      "<name>V_D149.V147</name>\n",
      "<value>*All*</value>\n",
      "</parameter>\n",
      "<parameter>\n",
      "<name>V_D149.V149</name>\n",
      "<value>*All*</value>\n",
      "</parameter>\n",
      "<parameter>\n",
      "<name>V_D149.V150</name>\n",
      "<value>*All*</value>\n",
      "</parameter>\n",
      "<parameter>\n",
      "<name>V_D149.V151</name>\n",
      "<value>*All*</value>\n",
      "</parameter>\n",
      "<parameter>\n",
      "<name>V_D149.V152</name>\n",
      "<value>*All*</value>\n",
      "</parameter>\n",
      "<parameter>\n",
      "<name>V_D149.V153</name>\n",
      "<value>*All*</value>\n",
      "</parameter>\n",
      "<parameter>\n",
      "<name>V_D149.V154</name>\n",
      "<value>*All*</value>\n",
      "</parameter>\n",
      "<parameter>\n",
      "<name>V_D149.V155</name>\n",
      "<value>*All*</value>\n",
      "</parameter>\n",
      "<parameter>\n",
      "<name>V_D149.V156</name>\n",
      "<value>*All*</value>\n",
      "</parameter>\n",
      "<parameter>\n",
      "<name>V_D149.V157</name>\n",
      "<value>*All*</value>\n",
      "</parameter>\n",
      "<parameter>\n",
      "<name>V_D149.V16</name>\n",
      "<value>*All*</value>\n",
      "</parameter>\n",
      "<parameter>\n",
      "<name>V_D149.V17</name>\n",
      "<value>*All*</value>\n",
      "</parameter>\n",
      "<parameter>\n",
      "<name>V_D149.V18</name>\n",
      "<value>*All*</value>\n",
      "</parameter>\n",
      "<parameter>\n",
      "<name>V_D149.V20</name>\n",
      "<value>*All*</value>\n",
      "</parameter>\n",
      "<parameter>\n",
      "<name>V_D149.V23</name>\n",
      "<value>*All*</value>\n",
      "</parameter>\n",
      "<parameter>\n",
      "<name>V_D149.V24</name>\n",
      "<value>*All*</value>\n",
      "</parameter>\n",
      "<parameter>\n",
      "<name>V_D149.V25</name>\n",
      "<value>*All*</value>\n",
      "</parameter>\n",
      "<parameter>\n",
      "<name>V_D149.V26</name>\n",
      "<value>*All*</value>\n",
      "</parameter>\n",
      "<parameter>\n",
      "<name>V_D149.V27</name>\n",
      "<value>*All*</value>\n",
      "</parameter>\n",
      "<parameter>\n",
      "<name>V_D149.V28</name>\n",
      "<value>*All*</value>\n",
      "</parameter>\n",
      "<parameter>\n",
      "<name>V_D149.V29</name>\n",
      "<value>*All*</value>\n",
      "</parameter>\n",
      "<parameter>\n",
      "<name>V_D149.V3</name>\n",
      "<value>*All*</value>\n",
      "</parameter>\n",
      "<parameter>\n",
      "<name>V_D149.V30</name>\n",
      "<value>*All*</value>\n",
      "</parameter>\n",
      "<parameter>\n",
      "<name>V_D149.V31</name>\n",
      "<value>*All*</value>\n",
      "</parameter>\n",
      "<parameter>\n",
      "<name>V_D149.V32</name>\n",
      "<value>*All*</value>\n",
      "</parameter>\n",
      "<parameter>\n",
      "<name>V_D149.V33</name>\n",
      "<value>01</value>\n",
      "<value>02</value>\n",
      "<value>03</value>\n",
      "<value>04</value>\n",
      "<value>05</value>\n",
      "</parameter>\n",
      "<parameter>\n",
      "<name>V_D149.V34</name>\n",
      "<value>*All*</value>\n",
      "</parameter>\n",
      "<parameter>\n",
      "<name>V_D149.V35</name>\n",
      "<value>*All*</value>\n",
      "</parameter>\n",
      "<parameter>\n",
      "<name>V_D149.V38</name>\n",
      "<value>*All*</value>\n",
      "</parameter>\n",
      "<parameter>\n",
      "<name>V_D149.V39</name>\n",
      "<value>*All*</value>\n",
      "</parameter>\n",
      "<parameter>\n",
      "<name>V_D149.V4</name>\n",
      "<value>*All*</value>\n",
      "</parameter>\n",
      "<parameter>\n",
      "<name>V_D149.V41</name>\n",
      "<value>*All*</value>\n",
      "</parameter>\n",
      "<parameter>\n",
      "<name>V_D149.V42</name>\n",
      "<value>*All*</value>\n",
      "</parameter>\n",
      "<parameter>\n",
      "<name>V_D149.V43</name>\n",
      "<value>*All*</value>\n",
      "</parameter>\n",
      "<parameter>\n",
      "<name>V_D149.V44</name>\n",
      "<value>*All*</value>\n",
      "</parameter>\n",
      "<parameter>\n",
      "<name>V_D149.V45</name>\n",
      "<value>*All*</value>\n",
      "</parameter>\n",
      "<parameter>\n",
      "<name>V_D149.V46</name>\n",
      "<value>*All*</value>\n",
      "</parameter>\n",
      "<parameter>\n",
      "<name>V_D149.V47</name>\n",
      "<value>*All*</value>\n",
      "</parameter>\n",
      "<parameter>\n",
      "<name>V_D149.V48</name>\n",
      "<value>*All*</value>\n",
      "</parameter>\n",
      "<parameter>\n",
      "<name>V_D149.V49</name>\n",
      "<value>*All*</value>\n",
      "</parameter>\n",
      "<parameter>\n",
      "<name>V_D149.V5</name>\n",
      "<value>*All*</value>\n",
      "</parameter>\n",
      "<parameter>\n",
      "<name>V_D149.V50</name>\n",
      "<value>*All*</value>\n",
      "</parameter>\n",
      "<parameter>\n",
      "<name>V_D149.V51</name>\n",
      "<value>*All*</value>\n",
      "</parameter>\n",
      "<parameter>\n",
      "<name>V_D149.V52</name>\n",
      "<value>*All*</value>\n",
      "</parameter>\n",
      "<parameter>\n",
      "<name>V_D149.V53</name>\n",
      "<value>*All*</value>\n",
      "</parameter>\n",
      "<parameter>\n",
      "<name>V_D149.V54</name>\n",
      "<value>*All*</value>\n",
      "</parameter>\n",
      "<parameter>\n",
      "<name>V_D149.V55</name>\n",
      "<value>*All*</value>\n",
      "</parameter>\n",
      "<parameter>\n",
      "<name>V_D149.V56</name>\n",
      "<value>*All*</value>\n",
      "</parameter>\n",
      "<parameter>\n",
      "<name>V_D149.V57</name>\n",
      "<value>*All*</value>\n",
      "</parameter>\n",
      "<parameter>\n",
      "<name>V_D149.V58</name>\n",
      "<value>*All*</value>\n",
      "</parameter>\n",
      "<parameter>\n",
      "<name>V_D149.V59</name>\n",
      "<value>*All*</value>\n",
      "</parameter>\n",
      "<parameter>\n",
      "<name>V_D149.V6</name>\n",
      "<value>*All*</value>\n",
      "</parameter>\n",
      "<parameter>\n",
      "<name>V_D149.V60</name>\n",
      "<value>*All*</value>\n",
      "</parameter>\n",
      "<parameter>\n",
      "<name>V_D149.V61</name>\n",
      "<value>*All*</value>\n",
      "</parameter>\n",
      "<parameter>\n",
      "<name>V_D149.V62</name>\n",
      "<value>*All*</value>\n",
      "</parameter>\n",
      "<parameter>\n",
      "<name>V_D149.V63</name>\n",
      "<value>*All*</value>\n",
      "</parameter>\n",
      "<parameter>\n",
      "<name>V_D149.V64</name>\n",
      "<value>*All*</value>\n",
      "</parameter>\n",
      "<parameter>\n",
      "<name>V_D149.V65</name>\n",
      "<value>*All*</value>\n",
      "</parameter>\n",
      "<parameter>\n",
      "<name>V_D149.V66</name>\n",
      "<value>*All*</value>\n",
      "</parameter>\n",
      "<parameter>\n",
      "<name>V_D149.V7</name>\n",
      "<value>*All*</value>\n",
      "</parameter>\n",
      "<parameter>\n",
      "<name>V_D149.V70</name>\n",
      "<value>*All*</value>\n",
      "</parameter>\n",
      "<parameter>\n",
      "<name>V_D149.V71</name>\n",
      "<value>*All*</value>\n",
      "</parameter>\n",
      "<parameter>\n",
      "<name>V_D149.V73</name>\n",
      "<value>*All*</value>\n",
      "</parameter>\n",
      "<parameter>\n",
      "<name>V_D149.V74</name>\n",
      "<value>*All*</value>\n",
      "</parameter>\n",
      "<parameter>\n",
      "<name>V_D149.V75</name>\n",
      "<value>*All*</value>\n",
      "</parameter>\n",
      "<parameter>\n",
      "<name>V_D149.V76</name>\n",
      "<value>*All*</value>\n",
      "</parameter>\n",
      "<parameter>\n",
      "<name>V_D149.V77</name>\n",
      "<value>*All*</value>\n",
      "</parameter>\n",
      "<parameter>\n",
      "<name>V_D149.V78</name>\n",
      "<value>*All*</value>\n",
      "</parameter>\n",
      "<parameter>\n",
      "<name>V_D149.V79</name>\n",
      "<value>*All*</value>\n",
      "</parameter>\n",
      "<parameter>\n",
      "<name>V_D149.V8</name>\n",
      "<value>*All*</value>\n",
      "</parameter>\n",
      "<parameter>\n",
      "<name>V_D149.V80</name>\n",
      "<value>*All*</value>\n",
      "</parameter>\n",
      "<parameter>\n",
      "<name>V_D149.V81</name>\n",
      "<value>*All*</value>\n",
      "</parameter>\n",
      "<parameter>\n",
      "<name>V_D149.V82</name>\n",
      "<value>*All*</value>\n",
      "</parameter>\n",
      "<parameter>\n",
      "<name>V_D149.V83</name>\n",
      "<value>*All*</value>\n",
      "</parameter>\n",
      "<parameter>\n",
      "<name>V_D149.V84</name>\n",
      "<value>*All*</value>\n",
      "</parameter>\n",
      "<parameter>\n",
      "<name>V_D149.V85</name>\n",
      "<value>*All*</value>\n",
      "</parameter>\n",
      "<parameter>\n",
      "<name>V_D149.V86</name>\n",
      "<value>*All*</value>\n",
      "</parameter>\n",
      "<parameter>\n",
      "<name>V_D149.V87</name>\n",
      "<value>*All*</value>\n",
      "</parameter>\n",
      "<parameter>\n",
      "<name>V_D149.V88</name>\n",
      "<value>*All*</value>\n",
      "</parameter>\n",
      "<parameter>\n",
      "<name>V_D149.V89</name>\n",
      "<value>*All*</value>\n",
      "</parameter>\n",
      "<parameter>\n",
      "<name>V_D149.V9</name>\n",
      "<value>*All*</value>\n",
      "</parameter>\n",
      "<parameter>\n",
      "<name>V_D149.V90</name>\n",
      "<value>*All*</value>\n",
      "</parameter>\n",
      "<parameter>\n",
      "<name>V_D149.V91</name>\n",
      "<value>*All*</value>\n",
      "</parameter>\n",
      "<parameter>\n",
      "<name>V_D149.V92</name>\n",
      "<value>*All*</value>\n",
      "</parameter>\n",
      "<parameter>\n",
      "<name>V_D149.V93</name>\n",
      "<value>*All*</value>\n",
      "</parameter>\n",
      "<parameter>\n",
      "<name>V_D149.V94</name>\n",
      "<value>*All*</value>\n",
      "</parameter>\n",
      "<parameter>\n",
      "<name>V_D149.V95</name>\n",
      "<value>*All*</value>\n",
      "</parameter>\n",
      "<parameter>\n",
      "<name>V_D149.V96</name>\n",
      "<value>*All*</value>\n",
      "</parameter>\n",
      "<parameter>\n",
      "<name>V_D149.V97</name>\n",
      "<value>*All*</value>\n",
      "</parameter>\n",
      "<parameter>\n",
      "<name>V_D149.V98</name>\n",
      "<value>*All*</value>\n",
      "</parameter>\n",
      "<parameter>\n",
      "<name>V_D149.V99</name>\n",
      "<value>*All*</value>\n",
      "</parameter>\n",
      "<parameter>\n",
      "<name>action-Send</name>\n",
      "<value>Send</value>\n",
      "</parameter>\n",
      "<parameter>\n",
      "<name>dataset_code</name>\n",
      "<value>D149</value>\n",
      "</parameter>\n",
      "<parameter>\n",
      "<name>dataset_label</name>\n",
      "<value>Natality, 2016-2021 expanded</value>\n",
      "</parameter>\n",
      "<parameter>\n",
      "<name>dataset_vintage</name>\n",
      "<value>2021</value>\n",
      "</parameter>\n",
      "<parameter>\n",
      "<name>finder-stage-D149.V21</name>\n",
      "<value>codeset</value>\n",
      "</parameter>\n",
      "<parameter>\n",
      "<name>finder-stage-D149.V22</name>\n",
      "<value>codeset</value>\n",
      "</parameter>\n",
      "<parameter>\n",
      "<name>finder-stage-D149.V37</name>\n",
      "<value>codeset</value>\n",
      "</parameter>\n",
      "<parameter>\n",
      "<name>saved_id</name>\n",
      "<value></value>\n",
      "</parameter>\n",
      "<parameter>\n",
      "<name>stage</name>\n",
      "<value>request</value>\n",
      "</parameter>\n",
      "</request-parameters>\n",
      "2023-03-17 13:44:32,268 - urllib3.connectionpool - _new_conn - DEBUG - Starting new HTTPS connection (1): wonder.cdc.gov:443\n",
      "2023-03-17 13:44:39,640 - urllib3.connectionpool - _make_request - DEBUG - https://wonder.cdc.gov:443 \"POST /controller/datarequest/D149 HTTP/1.1\" 200 158619\n",
      "2023-03-17 13:44:42,458 - root - _createXMLRequest - INFO - the xml sent to api is as below\n",
      "2023-03-17 13:44:42,459 - root - _createXMLRequest - DEBUG - <request-parameters>\n",
      "<parameter>\n",
      "<name>B_1</name>\n",
      "<value>D149.V144</value>\n",
      "</parameter>\n",
      "<parameter>\n",
      "<name>B_2</name>\n",
      "<value>*None*</value>\n",
      "</parameter>\n",
      "<parameter>\n",
      "<name>B_3</name>\n",
      "<value>*None*</value>\n",
      "</parameter>\n",
      "<parameter>\n",
      "<name>B_4</name>\n",
      "<value>*None*</value>\n",
      "</parameter>\n",
      "<parameter>\n",
      "<name>B_5</name>\n",
      "<value>*None*</value>\n",
      "</parameter>\n",
      "<parameter>\n",
      "<name>F_D149.V21</name>\n",
      "<value>*All*</value>\n",
      "</parameter>\n",
      "<parameter>\n",
      "<name>F_D149.V22</name>\n",
      "<value>*All*</value>\n",
      "</parameter>\n",
      "<parameter>\n",
      "<name>F_D149.V37</name>\n",
      "<value>*All*</value>\n",
      "</parameter>\n",
      "<parameter>\n",
      "<name>I_D149.V21</name>\n",
      "<value>*All*  (The United States)</value>\n",
      "</parameter>\n",
      "<parameter>\n",
      "<name>I_D149.V22</name>\n",
      "<value>*All*  (The United States)</value>\n",
      "</parameter>\n",
      "<parameter>\n",
      "<name>I_D149.V37</name>\n",
      "<value>*All*  (The United States)</value>\n",
      "</parameter>\n",
      "<parameter>\n",
      "<name>M_002</name>\n",
      "<value>D149.M002</value>\n",
      "</parameter>\n",
      "<parameter>\n",
      "<name>O_V21_fmode</name>\n",
      "<value>freg</value>\n",
      "</parameter>\n",
      "<parameter>\n",
      "<name>O_V22_fmode</name>\n",
      "<value>freg</value>\n",
      "</parameter>\n",
      "<parameter>\n",
      "<name>O_V37_fmode</name>\n",
      "<value>freg</value>\n",
      "</parameter>\n",
      "<parameter>\n",
      "<name>O_age</name>\n",
      "<value>D149.V1</value>\n",
      "</parameter>\n",
      "<parameter>\n",
      "<name>O_apgar10</name>\n",
      "<value>D149.V113</value>\n",
      "</parameter>\n",
      "<parameter>\n",
      "<name>O_apgar5</name>\n",
      "<value>D149.V111</value>\n",
      "</parameter>\n",
      "<parameter>\n",
      "<name>O_cig_before</name>\n",
      "<value>D149.V143</value>\n",
      "</parameter>\n",
      "<parameter>\n",
      "<name>O_cig_trim1</name>\n",
      "<value>D149.V144</value>\n",
      "</parameter>\n",
      "<parameter>\n",
      "<name>O_cig_trim2</name>\n",
      "<value>D149.V145</value>\n",
      "</parameter>\n",
      "<parameter>\n",
      "<name>O_cig_trim3</name>\n",
      "<value>D149.V146</value>\n",
      "</parameter>\n",
      "<parameter>\n",
      "<name>O_delivery</name>\n",
      "<value>D149.V101</value>\n",
      "</parameter>\n",
      "<parameter>\n",
      "<name>O_f_ethnicity</name>\n",
      "<value>D149.V53</value>\n",
      "</parameter>\n",
      "<parameter>\n",
      "<name>O_frace</name>\n",
      "<value>D149.V54</value>\n",
      "</parameter>\n",
      "<parameter>\n",
      "<name>O_gestation</name>\n",
      "<value>D149.V6</value>\n",
      "</parameter>\n",
      "<parameter>\n",
      "<name>O_javascript</name>\n",
      "<value>on</value>\n",
      "</parameter>\n",
      "<parameter>\n",
      "<name>O_location</name>\n",
      "<value>D149.V21</value>\n",
      "</parameter>\n",
      "<parameter>\n",
      "<name>O_m_ethnicity</name>\n",
      "<value>D149.V43</value>\n",
      "</parameter>\n",
      "<parameter>\n",
      "<name>O_oc-sect1-request</name>\n",
      "<value>close</value>\n",
      "</parameter>\n",
      "<parameter>\n",
      "<name>O_oe_gestation</name>\n",
      "<value>D149.V33</value>\n",
      "</parameter>\n",
      "<parameter>\n",
      "<name>O_pay</name>\n",
      "<value>D149.V110</value>\n",
      "</parameter>\n",
      "<parameter>\n",
      "<name>O_place</name>\n",
      "<value>D149.V45</value>\n",
      "</parameter>\n",
      "<parameter>\n",
      "<name>O_precision</name>\n",
      "<value>2</value>\n",
      "</parameter>\n",
      "<parameter>\n",
      "<name>O_prenatal</name>\n",
      "<value>D149.V63</value>\n",
      "</parameter>\n",
      "<parameter>\n",
      "<name>O_prenatal2</name>\n",
      "<value>D149.V65</value>\n",
      "</parameter>\n",
      "<parameter>\n",
      "<name>O_race</name>\n",
      "<value>D149.V42</value>\n",
      "</parameter>\n",
      "<parameter>\n",
      "<name>O_rate_per</name>\n",
      "<value>1000</value>\n",
      "</parameter>\n",
      "<parameter>\n",
      "<name>O_show_suppressed</name>\n",
      "<value>false</value>\n",
      "</parameter>\n",
      "<parameter>\n",
      "<name>O_show_totals</name>\n",
      "<value>true</value>\n",
      "</parameter>\n",
      "<parameter>\n",
      "<name>O_show_zeros</name>\n",
      "<value>false</value>\n",
      "</parameter>\n",
      "<parameter>\n",
      "<name>O_timeout</name>\n",
      "<value>600</value>\n",
      "</parameter>\n",
      "<parameter>\n",
      "<name>O_urban</name>\n",
      "<value>D149.V154</value>\n",
      "</parameter>\n",
      "<parameter>\n",
      "<name>O_weight</name>\n",
      "<value>D149.V9</value>\n",
      "</parameter>\n",
      "<parameter>\n",
      "<name>V_D149.V1</name>\n",
      "<value>*All*</value>\n",
      "</parameter>\n",
      "<parameter>\n",
      "<name>V_D149.V10</name>\n",
      "<value>*All*</value>\n",
      "</parameter>\n",
      "<parameter>\n",
      "<name>V_D149.V100</name>\n",
      "<value>*All*</value>\n",
      "</parameter>\n",
      "<parameter>\n",
      "<name>V_D149.V101</name>\n",
      "<value>*All*</value>\n",
      "</parameter>\n",
      "<parameter>\n",
      "<name>V_D149.V102</name>\n",
      "<value>*All*</value>\n",
      "</parameter>\n",
      "<parameter>\n",
      "<name>V_D149.V103</name>\n",
      "<value>*All*</value>\n",
      "</parameter>\n",
      "<parameter>\n",
      "<name>V_D149.V104</name>\n",
      "<value>*All*</value>\n",
      "</parameter>\n",
      "<parameter>\n",
      "<name>V_D149.V105</name>\n",
      "<value>*All*</value>\n",
      "</parameter>\n",
      "<parameter>\n",
      "<name>V_D149.V106</name>\n",
      "<value>*All*</value>\n",
      "</parameter>\n",
      "<parameter>\n",
      "<name>V_D149.V107</name>\n",
      "<value>*All*</value>\n",
      "</parameter>\n",
      "<parameter>\n",
      "<name>V_D149.V108</name>\n",
      "<value>*All*</value>\n",
      "</parameter>\n",
      "<parameter>\n",
      "<name>V_D149.V109</name>\n",
      "<value>*All*</value>\n",
      "</parameter>\n",
      "<parameter>\n",
      "<name>V_D149.V110</name>\n",
      "<value>*All*</value>\n",
      "</parameter>\n",
      "<parameter>\n",
      "<name>V_D149.V111</name>\n",
      "<value>*All*</value>\n",
      "</parameter>\n",
      "<parameter>\n",
      "<name>V_D149.V112</name>\n",
      "<value>*All*</value>\n",
      "</parameter>\n",
      "<parameter>\n",
      "<name>V_D149.V113</name>\n",
      "<value>*All*</value>\n",
      "</parameter>\n",
      "<parameter>\n",
      "<name>V_D149.V114</name>\n",
      "<value>*All*</value>\n",
      "</parameter>\n",
      "<parameter>\n",
      "<name>V_D149.V115</name>\n",
      "<value>*All*</value>\n",
      "</parameter>\n",
      "<parameter>\n",
      "<name>V_D149.V116</name>\n",
      "<value>*All*</value>\n",
      "</parameter>\n",
      "<parameter>\n",
      "<name>V_D149.V117</name>\n",
      "<value>*All*</value>\n",
      "</parameter>\n",
      "<parameter>\n",
      "<name>V_D149.V118</name>\n",
      "<value>*All*</value>\n",
      "</parameter>\n",
      "<parameter>\n",
      "<name>V_D149.V119</name>\n",
      "<value>*All*</value>\n",
      "</parameter>\n",
      "<parameter>\n",
      "<name>V_D149.V120</name>\n",
      "<value>*All*</value>\n",
      "</parameter>\n",
      "<parameter>\n",
      "<name>V_D149.V121</name>\n",
      "<value>*All*</value>\n",
      "</parameter>\n",
      "<parameter>\n",
      "<name>V_D149.V122</name>\n",
      "<value>*All*</value>\n",
      "</parameter>\n",
      "<parameter>\n",
      "<name>V_D149.V123</name>\n",
      "<value>*All*</value>\n",
      "</parameter>\n",
      "<parameter>\n",
      "<name>V_D149.V124</name>\n",
      "<value>*All*</value>\n",
      "</parameter>\n",
      "<parameter>\n",
      "<name>V_D149.V125</name>\n",
      "<value>*All*</value>\n",
      "</parameter>\n",
      "<parameter>\n",
      "<name>V_D149.V126</name>\n",
      "<value>*All*</value>\n",
      "</parameter>\n",
      "<parameter>\n",
      "<name>V_D149.V127</name>\n",
      "<value>*All*</value>\n",
      "</parameter>\n",
      "<parameter>\n",
      "<name>V_D149.V128</name>\n",
      "<value>*All*</value>\n",
      "</parameter>\n",
      "<parameter>\n",
      "<name>V_D149.V129</name>\n",
      "<value>*All*</value>\n",
      "</parameter>\n",
      "<parameter>\n",
      "<name>V_D149.V130</name>\n",
      "<value>*All*</value>\n",
      "</parameter>\n",
      "<parameter>\n",
      "<name>V_D149.V131</name>\n",
      "<value>*All*</value>\n",
      "</parameter>\n",
      "<parameter>\n",
      "<name>V_D149.V132</name>\n",
      "<value>*All*</value>\n",
      "</parameter>\n",
      "<parameter>\n",
      "<name>V_D149.V133</name>\n",
      "<value>*All*</value>\n",
      "</parameter>\n",
      "<parameter>\n",
      "<name>V_D149.V134</name>\n",
      "<value>*All*</value>\n",
      "</parameter>\n",
      "<parameter>\n",
      "<name>V_D149.V135</name>\n",
      "<value>*All*</value>\n",
      "</parameter>\n",
      "<parameter>\n",
      "<name>V_D149.V136</name>\n",
      "<value>*All*</value>\n",
      "</parameter>\n",
      "<parameter>\n",
      "<name>V_D149.V137</name>\n",
      "<value>*All*</value>\n",
      "</parameter>\n",
      "<parameter>\n",
      "<name>V_D149.V138</name>\n",
      "<value>*All*</value>\n",
      "</parameter>\n",
      "<parameter>\n",
      "<name>V_D149.V139</name>\n",
      "<value>*All*</value>\n",
      "</parameter>\n",
      "<parameter>\n",
      "<name>V_D149.V140</name>\n",
      "<value>*All*</value>\n",
      "</parameter>\n",
      "<parameter>\n",
      "<name>V_D149.V141</name>\n",
      "<value>*All*</value>\n",
      "</parameter>\n",
      "<parameter>\n",
      "<name>V_D149.V142</name>\n",
      "<value>*All*</value>\n",
      "</parameter>\n",
      "<parameter>\n",
      "<name>V_D149.V143</name>\n",
      "<value>*All*</value>\n",
      "</parameter>\n",
      "<parameter>\n",
      "<name>V_D149.V144</name>\n",
      "<value>0</value>\n",
      "<value>1</value>\n",
      "<value>2</value>\n",
      "<value>3</value>\n",
      "<value>4</value>\n",
      "</parameter>\n",
      "<parameter>\n",
      "<name>V_D149.V145</name>\n",
      "<value>*All*</value>\n",
      "</parameter>\n",
      "<parameter>\n",
      "<name>V_D149.V146</name>\n",
      "<value>*All*</value>\n",
      "</parameter>\n",
      "<parameter>\n",
      "<name>V_D149.V147</name>\n",
      "<value>*All*</value>\n",
      "</parameter>\n",
      "<parameter>\n",
      "<name>V_D149.V149</name>\n",
      "<value>*All*</value>\n",
      "</parameter>\n",
      "<parameter>\n",
      "<name>V_D149.V150</name>\n",
      "<value>*All*</value>\n",
      "</parameter>\n",
      "<parameter>\n",
      "<name>V_D149.V151</name>\n",
      "<value>*All*</value>\n",
      "</parameter>\n",
      "<parameter>\n",
      "<name>V_D149.V152</name>\n",
      "<value>*All*</value>\n",
      "</parameter>\n",
      "<parameter>\n",
      "<name>V_D149.V153</name>\n",
      "<value>*All*</value>\n",
      "</parameter>\n",
      "<parameter>\n",
      "<name>V_D149.V154</name>\n",
      "<value>*All*</value>\n",
      "</parameter>\n",
      "<parameter>\n",
      "<name>V_D149.V155</name>\n",
      "<value>*All*</value>\n",
      "</parameter>\n",
      "<parameter>\n",
      "<name>V_D149.V156</name>\n",
      "<value>*All*</value>\n",
      "</parameter>\n",
      "<parameter>\n",
      "<name>V_D149.V157</name>\n",
      "<value>*All*</value>\n",
      "</parameter>\n",
      "<parameter>\n",
      "<name>V_D149.V16</name>\n",
      "<value>*All*</value>\n",
      "</parameter>\n",
      "<parameter>\n",
      "<name>V_D149.V17</name>\n",
      "<value>*All*</value>\n",
      "</parameter>\n",
      "<parameter>\n",
      "<name>V_D149.V18</name>\n",
      "<value>*All*</value>\n",
      "</parameter>\n",
      "<parameter>\n",
      "<name>V_D149.V20</name>\n",
      "<value>*All*</value>\n",
      "</parameter>\n",
      "<parameter>\n",
      "<name>V_D149.V23</name>\n",
      "<value>*All*</value>\n",
      "</parameter>\n",
      "<parameter>\n",
      "<name>V_D149.V24</name>\n",
      "<value>*All*</value>\n",
      "</parameter>\n",
      "<parameter>\n",
      "<name>V_D149.V25</name>\n",
      "<value>*All*</value>\n",
      "</parameter>\n",
      "<parameter>\n",
      "<name>V_D149.V26</name>\n",
      "<value>*All*</value>\n",
      "</parameter>\n",
      "<parameter>\n",
      "<name>V_D149.V27</name>\n",
      "<value>*All*</value>\n",
      "</parameter>\n",
      "<parameter>\n",
      "<name>V_D149.V28</name>\n",
      "<value>*All*</value>\n",
      "</parameter>\n",
      "<parameter>\n",
      "<name>V_D149.V29</name>\n",
      "<value>*All*</value>\n",
      "</parameter>\n",
      "<parameter>\n",
      "<name>V_D149.V3</name>\n",
      "<value>*All*</value>\n",
      "</parameter>\n",
      "<parameter>\n",
      "<name>V_D149.V30</name>\n",
      "<value>*All*</value>\n",
      "</parameter>\n",
      "<parameter>\n",
      "<name>V_D149.V31</name>\n",
      "<value>*All*</value>\n",
      "</parameter>\n",
      "<parameter>\n",
      "<name>V_D149.V32</name>\n",
      "<value>*All*</value>\n",
      "</parameter>\n",
      "<parameter>\n",
      "<name>V_D149.V33</name>\n",
      "<value>06</value>\n",
      "<value>07</value>\n",
      "<value>08</value>\n",
      "<value>09</value>\n",
      "<value>10</value>\n",
      "</parameter>\n",
      "<parameter>\n",
      "<name>V_D149.V34</name>\n",
      "<value>*All*</value>\n",
      "</parameter>\n",
      "<parameter>\n",
      "<name>V_D149.V35</name>\n",
      "<value>*All*</value>\n",
      "</parameter>\n",
      "<parameter>\n",
      "<name>V_D149.V38</name>\n",
      "<value>*All*</value>\n",
      "</parameter>\n",
      "<parameter>\n",
      "<name>V_D149.V39</name>\n",
      "<value>*All*</value>\n",
      "</parameter>\n",
      "<parameter>\n",
      "<name>V_D149.V4</name>\n",
      "<value>*All*</value>\n",
      "</parameter>\n",
      "<parameter>\n",
      "<name>V_D149.V41</name>\n",
      "<value>*All*</value>\n",
      "</parameter>\n",
      "<parameter>\n",
      "<name>V_D149.V42</name>\n",
      "<value>*All*</value>\n",
      "</parameter>\n",
      "<parameter>\n",
      "<name>V_D149.V43</name>\n",
      "<value>*All*</value>\n",
      "</parameter>\n",
      "<parameter>\n",
      "<name>V_D149.V44</name>\n",
      "<value>*All*</value>\n",
      "</parameter>\n",
      "<parameter>\n",
      "<name>V_D149.V45</name>\n",
      "<value>*All*</value>\n",
      "</parameter>\n",
      "<parameter>\n",
      "<name>V_D149.V46</name>\n",
      "<value>*All*</value>\n",
      "</parameter>\n",
      "<parameter>\n",
      "<name>V_D149.V47</name>\n",
      "<value>*All*</value>\n",
      "</parameter>\n",
      "<parameter>\n",
      "<name>V_D149.V48</name>\n",
      "<value>*All*</value>\n",
      "</parameter>\n",
      "<parameter>\n",
      "<name>V_D149.V49</name>\n",
      "<value>*All*</value>\n",
      "</parameter>\n",
      "<parameter>\n",
      "<name>V_D149.V5</name>\n",
      "<value>*All*</value>\n",
      "</parameter>\n",
      "<parameter>\n",
      "<name>V_D149.V50</name>\n",
      "<value>*All*</value>\n",
      "</parameter>\n",
      "<parameter>\n",
      "<name>V_D149.V51</name>\n",
      "<value>*All*</value>\n",
      "</parameter>\n",
      "<parameter>\n",
      "<name>V_D149.V52</name>\n",
      "<value>*All*</value>\n",
      "</parameter>\n",
      "<parameter>\n",
      "<name>V_D149.V53</name>\n",
      "<value>*All*</value>\n",
      "</parameter>\n",
      "<parameter>\n",
      "<name>V_D149.V54</name>\n",
      "<value>*All*</value>\n",
      "</parameter>\n",
      "<parameter>\n",
      "<name>V_D149.V55</name>\n",
      "<value>*All*</value>\n",
      "</parameter>\n",
      "<parameter>\n",
      "<name>V_D149.V56</name>\n",
      "<value>*All*</value>\n",
      "</parameter>\n",
      "<parameter>\n",
      "<name>V_D149.V57</name>\n",
      "<value>*All*</value>\n",
      "</parameter>\n",
      "<parameter>\n",
      "<name>V_D149.V58</name>\n",
      "<value>*All*</value>\n",
      "</parameter>\n",
      "<parameter>\n",
      "<name>V_D149.V59</name>\n",
      "<value>*All*</value>\n",
      "</parameter>\n",
      "<parameter>\n",
      "<name>V_D149.V6</name>\n",
      "<value>*All*</value>\n",
      "</parameter>\n",
      "<parameter>\n",
      "<name>V_D149.V60</name>\n",
      "<value>*All*</value>\n",
      "</parameter>\n",
      "<parameter>\n",
      "<name>V_D149.V61</name>\n",
      "<value>*All*</value>\n",
      "</parameter>\n",
      "<parameter>\n",
      "<name>V_D149.V62</name>\n",
      "<value>*All*</value>\n",
      "</parameter>\n",
      "<parameter>\n",
      "<name>V_D149.V63</name>\n",
      "<value>*All*</value>\n",
      "</parameter>\n",
      "<parameter>\n",
      "<name>V_D149.V64</name>\n",
      "<value>*All*</value>\n",
      "</parameter>\n",
      "<parameter>\n",
      "<name>V_D149.V65</name>\n",
      "<value>*All*</value>\n",
      "</parameter>\n",
      "<parameter>\n",
      "<name>V_D149.V66</name>\n",
      "<value>*All*</value>\n",
      "</parameter>\n",
      "<parameter>\n",
      "<name>V_D149.V7</name>\n",
      "<value>*All*</value>\n",
      "</parameter>\n",
      "<parameter>\n",
      "<name>V_D149.V70</name>\n",
      "<value>*All*</value>\n",
      "</parameter>\n",
      "<parameter>\n",
      "<name>V_D149.V71</name>\n",
      "<value>*All*</value>\n",
      "</parameter>\n",
      "<parameter>\n",
      "<name>V_D149.V73</name>\n",
      "<value>*All*</value>\n",
      "</parameter>\n",
      "<parameter>\n",
      "<name>V_D149.V74</name>\n",
      "<value>*All*</value>\n",
      "</parameter>\n",
      "<parameter>\n",
      "<name>V_D149.V75</name>\n",
      "<value>*All*</value>\n",
      "</parameter>\n",
      "<parameter>\n",
      "<name>V_D149.V76</name>\n",
      "<value>*All*</value>\n",
      "</parameter>\n",
      "<parameter>\n",
      "<name>V_D149.V77</name>\n",
      "<value>*All*</value>\n",
      "</parameter>\n",
      "<parameter>\n",
      "<name>V_D149.V78</name>\n",
      "<value>*All*</value>\n",
      "</parameter>\n",
      "<parameter>\n",
      "<name>V_D149.V79</name>\n",
      "<value>*All*</value>\n",
      "</parameter>\n",
      "<parameter>\n",
      "<name>V_D149.V8</name>\n",
      "<value>*All*</value>\n",
      "</parameter>\n",
      "<parameter>\n",
      "<name>V_D149.V80</name>\n",
      "<value>*All*</value>\n",
      "</parameter>\n",
      "<parameter>\n",
      "<name>V_D149.V81</name>\n",
      "<value>*All*</value>\n",
      "</parameter>\n",
      "<parameter>\n",
      "<name>V_D149.V82</name>\n",
      "<value>*All*</value>\n",
      "</parameter>\n",
      "<parameter>\n",
      "<name>V_D149.V83</name>\n",
      "<value>*All*</value>\n",
      "</parameter>\n",
      "<parameter>\n",
      "<name>V_D149.V84</name>\n",
      "<value>*All*</value>\n",
      "</parameter>\n",
      "<parameter>\n",
      "<name>V_D149.V85</name>\n",
      "<value>*All*</value>\n",
      "</parameter>\n",
      "<parameter>\n",
      "<name>V_D149.V86</name>\n",
      "<value>*All*</value>\n",
      "</parameter>\n",
      "<parameter>\n",
      "<name>V_D149.V87</name>\n",
      "<value>*All*</value>\n",
      "</parameter>\n",
      "<parameter>\n",
      "<name>V_D149.V88</name>\n",
      "<value>*All*</value>\n",
      "</parameter>\n",
      "<parameter>\n",
      "<name>V_D149.V89</name>\n",
      "<value>*All*</value>\n",
      "</parameter>\n",
      "<parameter>\n",
      "<name>V_D149.V9</name>\n",
      "<value>*All*</value>\n",
      "</parameter>\n",
      "<parameter>\n",
      "<name>V_D149.V90</name>\n",
      "<value>*All*</value>\n",
      "</parameter>\n",
      "<parameter>\n",
      "<name>V_D149.V91</name>\n",
      "<value>*All*</value>\n",
      "</parameter>\n",
      "<parameter>\n",
      "<name>V_D149.V92</name>\n",
      "<value>*All*</value>\n",
      "</parameter>\n",
      "<parameter>\n",
      "<name>V_D149.V93</name>\n",
      "<value>*All*</value>\n",
      "</parameter>\n",
      "<parameter>\n",
      "<name>V_D149.V94</name>\n",
      "<value>*All*</value>\n",
      "</parameter>\n",
      "<parameter>\n",
      "<name>V_D149.V95</name>\n",
      "<value>*All*</value>\n",
      "</parameter>\n",
      "<parameter>\n",
      "<name>V_D149.V96</name>\n",
      "<value>*All*</value>\n",
      "</parameter>\n",
      "<parameter>\n",
      "<name>V_D149.V97</name>\n",
      "<value>*All*</value>\n",
      "</parameter>\n",
      "<parameter>\n",
      "<name>V_D149.V98</name>\n",
      "<value>*All*</value>\n",
      "</parameter>\n",
      "<parameter>\n",
      "<name>V_D149.V99</name>\n",
      "<value>*All*</value>\n",
      "</parameter>\n",
      "<parameter>\n",
      "<name>action-Send</name>\n",
      "<value>Send</value>\n",
      "</parameter>\n",
      "<parameter>\n",
      "<name>dataset_code</name>\n",
      "<value>D149</value>\n",
      "</parameter>\n",
      "<parameter>\n",
      "<name>dataset_label</name>\n",
      "<value>Natality, 2016-2021 expanded</value>\n",
      "</parameter>\n",
      "<parameter>\n",
      "<name>dataset_vintage</name>\n",
      "<value>2021</value>\n",
      "</parameter>\n",
      "<parameter>\n",
      "<name>finder-stage-D149.V21</name>\n",
      "<value>codeset</value>\n",
      "</parameter>\n",
      "<parameter>\n",
      "<name>finder-stage-D149.V22</name>\n",
      "<value>codeset</value>\n",
      "</parameter>\n",
      "<parameter>\n",
      "<name>finder-stage-D149.V37</name>\n",
      "<value>codeset</value>\n",
      "</parameter>\n",
      "<parameter>\n",
      "<name>saved_id</name>\n",
      "<value></value>\n",
      "</parameter>\n",
      "<parameter>\n",
      "<name>stage</name>\n",
      "<value>request</value>\n",
      "</parameter>\n",
      "</request-parameters>\n",
      "2023-03-17 13:44:42,462 - urllib3.connectionpool - _new_conn - DEBUG - Starting new HTTPS connection (1): wonder.cdc.gov:443\n",
      "2023-03-17 13:44:51,929 - urllib3.connectionpool - _make_request - DEBUG - https://wonder.cdc.gov:443 \"POST /controller/datarequest/D149 HTTP/1.1\" 200 158633\n",
      "2023-03-17 13:44:54,603 - root - _createXMLRequest - INFO - the xml sent to api is as below\n",
      "2023-03-17 13:44:54,603 - root - _createXMLRequest - DEBUG - <request-parameters>\n",
      "<parameter>\n",
      "<name>B_1</name>\n",
      "<value>D149.V144</value>\n",
      "</parameter>\n",
      "<parameter>\n",
      "<name>B_2</name>\n",
      "<value>*None*</value>\n",
      "</parameter>\n",
      "<parameter>\n",
      "<name>B_3</name>\n",
      "<value>*None*</value>\n",
      "</parameter>\n",
      "<parameter>\n",
      "<name>B_4</name>\n",
      "<value>*None*</value>\n",
      "</parameter>\n",
      "<parameter>\n",
      "<name>B_5</name>\n",
      "<value>*None*</value>\n",
      "</parameter>\n",
      "<parameter>\n",
      "<name>F_D149.V21</name>\n",
      "<value>*All*</value>\n",
      "</parameter>\n",
      "<parameter>\n",
      "<name>F_D149.V22</name>\n",
      "<value>*All*</value>\n",
      "</parameter>\n",
      "<parameter>\n",
      "<name>F_D149.V37</name>\n",
      "<value>*All*</value>\n",
      "</parameter>\n",
      "<parameter>\n",
      "<name>I_D149.V21</name>\n",
      "<value>*All*  (The United States)</value>\n",
      "</parameter>\n",
      "<parameter>\n",
      "<name>I_D149.V22</name>\n",
      "<value>*All*  (The United States)</value>\n",
      "</parameter>\n",
      "<parameter>\n",
      "<name>I_D149.V37</name>\n",
      "<value>*All*  (The United States)</value>\n",
      "</parameter>\n",
      "<parameter>\n",
      "<name>M_002</name>\n",
      "<value>D149.M002</value>\n",
      "</parameter>\n",
      "<parameter>\n",
      "<name>O_V21_fmode</name>\n",
      "<value>freg</value>\n",
      "</parameter>\n",
      "<parameter>\n",
      "<name>O_V22_fmode</name>\n",
      "<value>freg</value>\n",
      "</parameter>\n",
      "<parameter>\n",
      "<name>O_V37_fmode</name>\n",
      "<value>freg</value>\n",
      "</parameter>\n",
      "<parameter>\n",
      "<name>O_age</name>\n",
      "<value>D149.V1</value>\n",
      "</parameter>\n",
      "<parameter>\n",
      "<name>O_apgar10</name>\n",
      "<value>D149.V113</value>\n",
      "</parameter>\n",
      "<parameter>\n",
      "<name>O_apgar5</name>\n",
      "<value>D149.V111</value>\n",
      "</parameter>\n",
      "<parameter>\n",
      "<name>O_cig_before</name>\n",
      "<value>D149.V143</value>\n",
      "</parameter>\n",
      "<parameter>\n",
      "<name>O_cig_trim1</name>\n",
      "<value>D149.V144</value>\n",
      "</parameter>\n",
      "<parameter>\n",
      "<name>O_cig_trim2</name>\n",
      "<value>D149.V145</value>\n",
      "</parameter>\n",
      "<parameter>\n",
      "<name>O_cig_trim3</name>\n",
      "<value>D149.V146</value>\n",
      "</parameter>\n",
      "<parameter>\n",
      "<name>O_delivery</name>\n",
      "<value>D149.V101</value>\n",
      "</parameter>\n",
      "<parameter>\n",
      "<name>O_f_ethnicity</name>\n",
      "<value>D149.V53</value>\n",
      "</parameter>\n",
      "<parameter>\n",
      "<name>O_frace</name>\n",
      "<value>D149.V54</value>\n",
      "</parameter>\n",
      "<parameter>\n",
      "<name>O_gestation</name>\n",
      "<value>D149.V6</value>\n",
      "</parameter>\n",
      "<parameter>\n",
      "<name>O_javascript</name>\n",
      "<value>on</value>\n",
      "</parameter>\n",
      "<parameter>\n",
      "<name>O_location</name>\n",
      "<value>D149.V21</value>\n",
      "</parameter>\n",
      "<parameter>\n",
      "<name>O_m_ethnicity</name>\n",
      "<value>D149.V43</value>\n",
      "</parameter>\n",
      "<parameter>\n",
      "<name>O_oc-sect1-request</name>\n",
      "<value>close</value>\n",
      "</parameter>\n",
      "<parameter>\n",
      "<name>O_oe_gestation</name>\n",
      "<value>D149.V32</value>\n",
      "</parameter>\n",
      "<parameter>\n",
      "<name>O_pay</name>\n",
      "<value>D149.V110</value>\n",
      "</parameter>\n",
      "<parameter>\n",
      "<name>O_place</name>\n",
      "<value>D149.V45</value>\n",
      "</parameter>\n",
      "<parameter>\n",
      "<name>O_precision</name>\n",
      "<value>2</value>\n",
      "</parameter>\n",
      "<parameter>\n",
      "<name>O_prenatal</name>\n",
      "<value>D149.V63</value>\n",
      "</parameter>\n",
      "<parameter>\n",
      "<name>O_prenatal2</name>\n",
      "<value>D149.V65</value>\n",
      "</parameter>\n",
      "<parameter>\n",
      "<name>O_race</name>\n",
      "<value>D149.V42</value>\n",
      "</parameter>\n",
      "<parameter>\n",
      "<name>O_rate_per</name>\n",
      "<value>1000</value>\n",
      "</parameter>\n",
      "<parameter>\n",
      "<name>O_show_suppressed</name>\n",
      "<value>false</value>\n",
      "</parameter>\n",
      "<parameter>\n",
      "<name>O_show_totals</name>\n",
      "<value>true</value>\n",
      "</parameter>\n",
      "<parameter>\n",
      "<name>O_show_zeros</name>\n",
      "<value>false</value>\n",
      "</parameter>\n",
      "<parameter>\n",
      "<name>O_timeout</name>\n",
      "<value>600</value>\n",
      "</parameter>\n",
      "<parameter>\n",
      "<name>O_urban</name>\n",
      "<value>D149.V154</value>\n",
      "</parameter>\n",
      "<parameter>\n",
      "<name>O_weight</name>\n",
      "<value>D149.V9</value>\n",
      "</parameter>\n",
      "<parameter>\n",
      "<name>V_D149.V1</name>\n",
      "<value>*All*</value>\n",
      "</parameter>\n",
      "<parameter>\n",
      "<name>V_D149.V10</name>\n",
      "<value>*All*</value>\n",
      "</parameter>\n",
      "<parameter>\n",
      "<name>V_D149.V100</name>\n",
      "<value>*All*</value>\n",
      "</parameter>\n",
      "<parameter>\n",
      "<name>V_D149.V101</name>\n",
      "<value>*All*</value>\n",
      "</parameter>\n",
      "<parameter>\n",
      "<name>V_D149.V102</name>\n",
      "<value>*All*</value>\n",
      "</parameter>\n",
      "<parameter>\n",
      "<name>V_D149.V103</name>\n",
      "<value>*All*</value>\n",
      "</parameter>\n",
      "<parameter>\n",
      "<name>V_D149.V104</name>\n",
      "<value>*All*</value>\n",
      "</parameter>\n",
      "<parameter>\n",
      "<name>V_D149.V105</name>\n",
      "<value>*All*</value>\n",
      "</parameter>\n",
      "<parameter>\n",
      "<name>V_D149.V106</name>\n",
      "<value>*All*</value>\n",
      "</parameter>\n",
      "<parameter>\n",
      "<name>V_D149.V107</name>\n",
      "<value>*All*</value>\n",
      "</parameter>\n",
      "<parameter>\n",
      "<name>V_D149.V108</name>\n",
      "<value>*All*</value>\n",
      "</parameter>\n",
      "<parameter>\n",
      "<name>V_D149.V109</name>\n",
      "<value>*All*</value>\n",
      "</parameter>\n",
      "<parameter>\n",
      "<name>V_D149.V110</name>\n",
      "<value>*All*</value>\n",
      "</parameter>\n",
      "<parameter>\n",
      "<name>V_D149.V111</name>\n",
      "<value>*All*</value>\n",
      "</parameter>\n",
      "<parameter>\n",
      "<name>V_D149.V112</name>\n",
      "<value>*All*</value>\n",
      "</parameter>\n",
      "<parameter>\n",
      "<name>V_D149.V113</name>\n",
      "<value>*All*</value>\n",
      "</parameter>\n",
      "<parameter>\n",
      "<name>V_D149.V114</name>\n",
      "<value>*All*</value>\n",
      "</parameter>\n",
      "<parameter>\n",
      "<name>V_D149.V115</name>\n",
      "<value>*All*</value>\n",
      "</parameter>\n",
      "<parameter>\n",
      "<name>V_D149.V116</name>\n",
      "<value>*All*</value>\n",
      "</parameter>\n",
      "<parameter>\n",
      "<name>V_D149.V117</name>\n",
      "<value>*All*</value>\n",
      "</parameter>\n",
      "<parameter>\n",
      "<name>V_D149.V118</name>\n",
      "<value>*All*</value>\n",
      "</parameter>\n",
      "<parameter>\n",
      "<name>V_D149.V119</name>\n",
      "<value>*All*</value>\n",
      "</parameter>\n",
      "<parameter>\n",
      "<name>V_D149.V120</name>\n",
      "<value>*All*</value>\n",
      "</parameter>\n",
      "<parameter>\n",
      "<name>V_D149.V121</name>\n",
      "<value>*All*</value>\n",
      "</parameter>\n",
      "<parameter>\n",
      "<name>V_D149.V122</name>\n",
      "<value>0</value>\n",
      "</parameter>\n",
      "<parameter>\n",
      "<name>V_D149.V123</name>\n",
      "<value>*All*</value>\n",
      "</parameter>\n",
      "<parameter>\n",
      "<name>V_D149.V124</name>\n",
      "<value>*All*</value>\n",
      "</parameter>\n",
      "<parameter>\n",
      "<name>V_D149.V125</name>\n",
      "<value>*All*</value>\n",
      "</parameter>\n",
      "<parameter>\n",
      "<name>V_D149.V126</name>\n",
      "<value>*All*</value>\n",
      "</parameter>\n",
      "<parameter>\n",
      "<name>V_D149.V127</name>\n",
      "<value>*All*</value>\n",
      "</parameter>\n",
      "<parameter>\n",
      "<name>V_D149.V128</name>\n",
      "<value>*All*</value>\n",
      "</parameter>\n",
      "<parameter>\n",
      "<name>V_D149.V129</name>\n",
      "<value>*All*</value>\n",
      "</parameter>\n",
      "<parameter>\n",
      "<name>V_D149.V130</name>\n",
      "<value>*All*</value>\n",
      "</parameter>\n",
      "<parameter>\n",
      "<name>V_D149.V131</name>\n",
      "<value>*All*</value>\n",
      "</parameter>\n",
      "<parameter>\n",
      "<name>V_D149.V132</name>\n",
      "<value>*All*</value>\n",
      "</parameter>\n",
      "<parameter>\n",
      "<name>V_D149.V133</name>\n",
      "<value>*All*</value>\n",
      "</parameter>\n",
      "<parameter>\n",
      "<name>V_D149.V134</name>\n",
      "<value>*All*</value>\n",
      "</parameter>\n",
      "<parameter>\n",
      "<name>V_D149.V135</name>\n",
      "<value>*All*</value>\n",
      "</parameter>\n",
      "<parameter>\n",
      "<name>V_D149.V136</name>\n",
      "<value>*All*</value>\n",
      "</parameter>\n",
      "<parameter>\n",
      "<name>V_D149.V137</name>\n",
      "<value>*All*</value>\n",
      "</parameter>\n",
      "<parameter>\n",
      "<name>V_D149.V138</name>\n",
      "<value>*All*</value>\n",
      "</parameter>\n",
      "<parameter>\n",
      "<name>V_D149.V139</name>\n",
      "<value>*All*</value>\n",
      "</parameter>\n",
      "<parameter>\n",
      "<name>V_D149.V140</name>\n",
      "<value>*All*</value>\n",
      "</parameter>\n",
      "<parameter>\n",
      "<name>V_D149.V141</name>\n",
      "<value>*All*</value>\n",
      "</parameter>\n",
      "<parameter>\n",
      "<name>V_D149.V142</name>\n",
      "<value>*All*</value>\n",
      "</parameter>\n",
      "<parameter>\n",
      "<name>V_D149.V143</name>\n",
      "<value>*All*</value>\n",
      "</parameter>\n",
      "<parameter>\n",
      "<name>V_D149.V144</name>\n",
      "<value>0</value>\n",
      "<value>1</value>\n",
      "<value>2</value>\n",
      "<value>3</value>\n",
      "<value>4</value>\n",
      "</parameter>\n",
      "<parameter>\n",
      "<name>V_D149.V145</name>\n",
      "<value>*All*</value>\n",
      "</parameter>\n",
      "<parameter>\n",
      "<name>V_D149.V146</name>\n",
      "<value>*All*</value>\n",
      "</parameter>\n",
      "<parameter>\n",
      "<name>V_D149.V147</name>\n",
      "<value>*All*</value>\n",
      "</parameter>\n",
      "<parameter>\n",
      "<name>V_D149.V149</name>\n",
      "<value>*All*</value>\n",
      "</parameter>\n",
      "<parameter>\n",
      "<name>V_D149.V150</name>\n",
      "<value>*All*</value>\n",
      "</parameter>\n",
      "<parameter>\n",
      "<name>V_D149.V151</name>\n",
      "<value>*All*</value>\n",
      "</parameter>\n",
      "<parameter>\n",
      "<name>V_D149.V152</name>\n",
      "<value>*All*</value>\n",
      "</parameter>\n",
      "<parameter>\n",
      "<name>V_D149.V153</name>\n",
      "<value>*All*</value>\n",
      "</parameter>\n",
      "<parameter>\n",
      "<name>V_D149.V154</name>\n",
      "<value>*All*</value>\n",
      "</parameter>\n",
      "<parameter>\n",
      "<name>V_D149.V155</name>\n",
      "<value>*All*</value>\n",
      "</parameter>\n",
      "<parameter>\n",
      "<name>V_D149.V156</name>\n",
      "<value>*All*</value>\n",
      "</parameter>\n",
      "<parameter>\n",
      "<name>V_D149.V157</name>\n",
      "<value>*All*</value>\n",
      "</parameter>\n",
      "<parameter>\n",
      "<name>V_D149.V16</name>\n",
      "<value>*All*</value>\n",
      "</parameter>\n",
      "<parameter>\n",
      "<name>V_D149.V17</name>\n",
      "<value>*All*</value>\n",
      "</parameter>\n",
      "<parameter>\n",
      "<name>V_D149.V18</name>\n",
      "<value>*All*</value>\n",
      "</parameter>\n",
      "<parameter>\n",
      "<name>V_D149.V20</name>\n",
      "<value>*All*</value>\n",
      "</parameter>\n",
      "<parameter>\n",
      "<name>V_D149.V23</name>\n",
      "<value>*All*</value>\n",
      "</parameter>\n",
      "<parameter>\n",
      "<name>V_D149.V24</name>\n",
      "<value>*All*</value>\n",
      "</parameter>\n",
      "<parameter>\n",
      "<name>V_D149.V25</name>\n",
      "<value>*All*</value>\n",
      "</parameter>\n",
      "<parameter>\n",
      "<name>V_D149.V26</name>\n",
      "<value>*All*</value>\n",
      "</parameter>\n",
      "<parameter>\n",
      "<name>V_D149.V27</name>\n",
      "<value>*All*</value>\n",
      "</parameter>\n",
      "<parameter>\n",
      "<name>V_D149.V28</name>\n",
      "<value>*All*</value>\n",
      "</parameter>\n",
      "<parameter>\n",
      "<name>V_D149.V29</name>\n",
      "<value>*All*</value>\n",
      "</parameter>\n",
      "<parameter>\n",
      "<name>V_D149.V3</name>\n",
      "<value>*All*</value>\n",
      "</parameter>\n",
      "<parameter>\n",
      "<name>V_D149.V30</name>\n",
      "<value>*All*</value>\n",
      "</parameter>\n",
      "<parameter>\n",
      "<name>V_D149.V31</name>\n",
      "<value>*All*</value>\n",
      "</parameter>\n",
      "<parameter>\n",
      "<name>V_D149.V32</name>\n",
      "<value>*All*</value>\n",
      "</parameter>\n",
      "<parameter>\n",
      "<name>V_D149.V33</name>\n",
      "<value>*All*</value>\n",
      "</parameter>\n",
      "<parameter>\n",
      "<name>V_D149.V34</name>\n",
      "<value>*All*</value>\n",
      "</parameter>\n",
      "<parameter>\n",
      "<name>V_D149.V35</name>\n",
      "<value>*All*</value>\n",
      "</parameter>\n",
      "<parameter>\n",
      "<name>V_D149.V38</name>\n",
      "<value>*All*</value>\n",
      "</parameter>\n",
      "<parameter>\n",
      "<name>V_D149.V39</name>\n",
      "<value>*All*</value>\n",
      "</parameter>\n",
      "<parameter>\n",
      "<name>V_D149.V4</name>\n",
      "<value>*All*</value>\n",
      "</parameter>\n",
      "<parameter>\n",
      "<name>V_D149.V41</name>\n",
      "<value>*All*</value>\n",
      "</parameter>\n",
      "<parameter>\n",
      "<name>V_D149.V42</name>\n",
      "<value>*All*</value>\n",
      "</parameter>\n",
      "<parameter>\n",
      "<name>V_D149.V43</name>\n",
      "<value>*All*</value>\n",
      "</parameter>\n",
      "<parameter>\n",
      "<name>V_D149.V44</name>\n",
      "<value>*All*</value>\n",
      "</parameter>\n",
      "<parameter>\n",
      "<name>V_D149.V45</name>\n",
      "<value>*All*</value>\n",
      "</parameter>\n",
      "<parameter>\n",
      "<name>V_D149.V46</name>\n",
      "<value>*All*</value>\n",
      "</parameter>\n",
      "<parameter>\n",
      "<name>V_D149.V47</name>\n",
      "<value>*All*</value>\n",
      "</parameter>\n",
      "<parameter>\n",
      "<name>V_D149.V48</name>\n",
      "<value>*All*</value>\n",
      "</parameter>\n",
      "<parameter>\n",
      "<name>V_D149.V49</name>\n",
      "<value>*All*</value>\n",
      "</parameter>\n",
      "<parameter>\n",
      "<name>V_D149.V5</name>\n",
      "<value>*All*</value>\n",
      "</parameter>\n",
      "<parameter>\n",
      "<name>V_D149.V50</name>\n",
      "<value>*All*</value>\n",
      "</parameter>\n",
      "<parameter>\n",
      "<name>V_D149.V51</name>\n",
      "<value>*All*</value>\n",
      "</parameter>\n",
      "<parameter>\n",
      "<name>V_D149.V52</name>\n",
      "<value>*All*</value>\n",
      "</parameter>\n",
      "<parameter>\n",
      "<name>V_D149.V53</name>\n",
      "<value>*All*</value>\n",
      "</parameter>\n",
      "<parameter>\n",
      "<name>V_D149.V54</name>\n",
      "<value>*All*</value>\n",
      "</parameter>\n",
      "<parameter>\n",
      "<name>V_D149.V55</name>\n",
      "<value>*All*</value>\n",
      "</parameter>\n",
      "<parameter>\n",
      "<name>V_D149.V56</name>\n",
      "<value>*All*</value>\n",
      "</parameter>\n",
      "<parameter>\n",
      "<name>V_D149.V57</name>\n",
      "<value>*All*</value>\n",
      "</parameter>\n",
      "<parameter>\n",
      "<name>V_D149.V58</name>\n",
      "<value>*All*</value>\n",
      "</parameter>\n",
      "<parameter>\n",
      "<name>V_D149.V59</name>\n",
      "<value>*All*</value>\n",
      "</parameter>\n",
      "<parameter>\n",
      "<name>V_D149.V6</name>\n",
      "<value>*All*</value>\n",
      "</parameter>\n",
      "<parameter>\n",
      "<name>V_D149.V60</name>\n",
      "<value>*All*</value>\n",
      "</parameter>\n",
      "<parameter>\n",
      "<name>V_D149.V61</name>\n",
      "<value>*All*</value>\n",
      "</parameter>\n",
      "<parameter>\n",
      "<name>V_D149.V62</name>\n",
      "<value>*All*</value>\n",
      "</parameter>\n",
      "<parameter>\n",
      "<name>V_D149.V63</name>\n",
      "<value>*All*</value>\n",
      "</parameter>\n",
      "<parameter>\n",
      "<name>V_D149.V64</name>\n",
      "<value>*All*</value>\n",
      "</parameter>\n",
      "<parameter>\n",
      "<name>V_D149.V65</name>\n",
      "<value>*All*</value>\n",
      "</parameter>\n",
      "<parameter>\n",
      "<name>V_D149.V66</name>\n",
      "<value>*All*</value>\n",
      "</parameter>\n",
      "<parameter>\n",
      "<name>V_D149.V7</name>\n",
      "<value>*All*</value>\n",
      "</parameter>\n",
      "<parameter>\n",
      "<name>V_D149.V70</name>\n",
      "<value>*All*</value>\n",
      "</parameter>\n",
      "<parameter>\n",
      "<name>V_D149.V71</name>\n",
      "<value>*All*</value>\n",
      "</parameter>\n",
      "<parameter>\n",
      "<name>V_D149.V73</name>\n",
      "<value>*All*</value>\n",
      "</parameter>\n",
      "<parameter>\n",
      "<name>V_D149.V74</name>\n",
      "<value>*All*</value>\n",
      "</parameter>\n",
      "<parameter>\n",
      "<name>V_D149.V75</name>\n",
      "<value>*All*</value>\n",
      "</parameter>\n",
      "<parameter>\n",
      "<name>V_D149.V76</name>\n",
      "<value>*All*</value>\n",
      "</parameter>\n",
      "<parameter>\n",
      "<name>V_D149.V77</name>\n",
      "<value>*All*</value>\n",
      "</parameter>\n",
      "<parameter>\n",
      "<name>V_D149.V78</name>\n",
      "<value>*All*</value>\n",
      "</parameter>\n",
      "<parameter>\n",
      "<name>V_D149.V79</name>\n",
      "<value>*All*</value>\n",
      "</parameter>\n",
      "<parameter>\n",
      "<name>V_D149.V8</name>\n",
      "<value>*All*</value>\n",
      "</parameter>\n",
      "<parameter>\n",
      "<name>V_D149.V80</name>\n",
      "<value>*All*</value>\n",
      "</parameter>\n",
      "<parameter>\n",
      "<name>V_D149.V81</name>\n",
      "<value>*All*</value>\n",
      "</parameter>\n",
      "<parameter>\n",
      "<name>V_D149.V82</name>\n",
      "<value>*All*</value>\n",
      "</parameter>\n",
      "<parameter>\n",
      "<name>V_D149.V83</name>\n",
      "<value>*All*</value>\n",
      "</parameter>\n",
      "<parameter>\n",
      "<name>V_D149.V84</name>\n",
      "<value>*All*</value>\n",
      "</parameter>\n",
      "<parameter>\n",
      "<name>V_D149.V85</name>\n",
      "<value>*All*</value>\n",
      "</parameter>\n",
      "<parameter>\n",
      "<name>V_D149.V86</name>\n",
      "<value>*All*</value>\n",
      "</parameter>\n",
      "<parameter>\n",
      "<name>V_D149.V87</name>\n",
      "<value>*All*</value>\n",
      "</parameter>\n",
      "<parameter>\n",
      "<name>V_D149.V88</name>\n",
      "<value>*All*</value>\n",
      "</parameter>\n",
      "<parameter>\n",
      "<name>V_D149.V89</name>\n",
      "<value>*All*</value>\n",
      "</parameter>\n",
      "<parameter>\n",
      "<name>V_D149.V9</name>\n",
      "<value>*All*</value>\n",
      "</parameter>\n",
      "<parameter>\n",
      "<name>V_D149.V90</name>\n",
      "<value>*All*</value>\n",
      "</parameter>\n",
      "<parameter>\n",
      "<name>V_D149.V91</name>\n",
      "<value>*All*</value>\n",
      "</parameter>\n",
      "<parameter>\n",
      "<name>V_D149.V92</name>\n",
      "<value>*All*</value>\n",
      "</parameter>\n",
      "<parameter>\n",
      "<name>V_D149.V93</name>\n",
      "<value>*All*</value>\n",
      "</parameter>\n",
      "<parameter>\n",
      "<name>V_D149.V94</name>\n",
      "<value>*All*</value>\n",
      "</parameter>\n",
      "<parameter>\n",
      "<name>V_D149.V95</name>\n",
      "<value>*All*</value>\n",
      "</parameter>\n",
      "<parameter>\n",
      "<name>V_D149.V96</name>\n",
      "<value>*All*</value>\n",
      "</parameter>\n",
      "<parameter>\n",
      "<name>V_D149.V97</name>\n",
      "<value>*All*</value>\n",
      "</parameter>\n",
      "<parameter>\n",
      "<name>V_D149.V98</name>\n",
      "<value>*All*</value>\n",
      "</parameter>\n",
      "<parameter>\n",
      "<name>V_D149.V99</name>\n",
      "<value>*All*</value>\n",
      "</parameter>\n",
      "<parameter>\n",
      "<name>action-Send</name>\n",
      "<value>Send</value>\n",
      "</parameter>\n",
      "<parameter>\n",
      "<name>dataset_code</name>\n",
      "<value>D149</value>\n",
      "</parameter>\n",
      "<parameter>\n",
      "<name>dataset_label</name>\n",
      "<value>Natality, 2016-2021 expanded</value>\n",
      "</parameter>\n",
      "<parameter>\n",
      "<name>dataset_vintage</name>\n",
      "<value>2021</value>\n",
      "</parameter>\n",
      "<parameter>\n",
      "<name>finder-stage-D149.V21</name>\n",
      "<value>codeset</value>\n",
      "</parameter>\n",
      "<parameter>\n",
      "<name>finder-stage-D149.V22</name>\n",
      "<value>codeset</value>\n",
      "</parameter>\n",
      "<parameter>\n",
      "<name>finder-stage-D149.V37</name>\n",
      "<value>codeset</value>\n",
      "</parameter>\n",
      "<parameter>\n",
      "<name>saved_id</name>\n",
      "<value></value>\n",
      "</parameter>\n",
      "<parameter>\n",
      "<name>stage</name>\n",
      "<value>request</value>\n",
      "</parameter>\n",
      "</request-parameters>\n",
      "2023-03-17 13:44:54,606 - urllib3.connectionpool - _new_conn - DEBUG - Starting new HTTPS connection (1): wonder.cdc.gov:443\n",
      "2023-03-17 13:45:00,323 - urllib3.connectionpool - _make_request - DEBUG - https://wonder.cdc.gov:443 \"POST /controller/datarequest/D149 HTTP/1.1\" 200 158446\n",
      "2023-03-17 13:45:03,347 - root - _createXMLRequest - INFO - the xml sent to api is as below\n",
      "2023-03-17 13:45:03,348 - root - _createXMLRequest - DEBUG - <request-parameters>\n",
      "<parameter>\n",
      "<name>B_1</name>\n",
      "<value>D149.V144</value>\n",
      "</parameter>\n",
      "<parameter>\n",
      "<name>B_2</name>\n",
      "<value>*None*</value>\n",
      "</parameter>\n",
      "<parameter>\n",
      "<name>B_3</name>\n",
      "<value>*None*</value>\n",
      "</parameter>\n",
      "<parameter>\n",
      "<name>B_4</name>\n",
      "<value>*None*</value>\n",
      "</parameter>\n",
      "<parameter>\n",
      "<name>B_5</name>\n",
      "<value>*None*</value>\n",
      "</parameter>\n",
      "<parameter>\n",
      "<name>F_D149.V21</name>\n",
      "<value>*All*</value>\n",
      "</parameter>\n",
      "<parameter>\n",
      "<name>F_D149.V22</name>\n",
      "<value>*All*</value>\n",
      "</parameter>\n",
      "<parameter>\n",
      "<name>F_D149.V37</name>\n",
      "<value>*All*</value>\n",
      "</parameter>\n",
      "<parameter>\n",
      "<name>I_D149.V21</name>\n",
      "<value>*All*  (The United States)</value>\n",
      "</parameter>\n",
      "<parameter>\n",
      "<name>I_D149.V22</name>\n",
      "<value>*All*  (The United States)</value>\n",
      "</parameter>\n",
      "<parameter>\n",
      "<name>I_D149.V37</name>\n",
      "<value>*All*  (The United States)</value>\n",
      "</parameter>\n",
      "<parameter>\n",
      "<name>M_002</name>\n",
      "<value>D149.M002</value>\n",
      "</parameter>\n",
      "<parameter>\n",
      "<name>O_V21_fmode</name>\n",
      "<value>freg</value>\n",
      "</parameter>\n",
      "<parameter>\n",
      "<name>O_V22_fmode</name>\n",
      "<value>freg</value>\n",
      "</parameter>\n",
      "<parameter>\n",
      "<name>O_V37_fmode</name>\n",
      "<value>freg</value>\n",
      "</parameter>\n",
      "<parameter>\n",
      "<name>O_age</name>\n",
      "<value>D149.V1</value>\n",
      "</parameter>\n",
      "<parameter>\n",
      "<name>O_apgar10</name>\n",
      "<value>D149.V113</value>\n",
      "</parameter>\n",
      "<parameter>\n",
      "<name>O_apgar5</name>\n",
      "<value>D149.V111</value>\n",
      "</parameter>\n",
      "<parameter>\n",
      "<name>O_cig_before</name>\n",
      "<value>D149.V143</value>\n",
      "</parameter>\n",
      "<parameter>\n",
      "<name>O_cig_trim1</name>\n",
      "<value>D149.V144</value>\n",
      "</parameter>\n",
      "<parameter>\n",
      "<name>O_cig_trim2</name>\n",
      "<value>D149.V145</value>\n",
      "</parameter>\n",
      "<parameter>\n",
      "<name>O_cig_trim3</name>\n",
      "<value>D149.V146</value>\n",
      "</parameter>\n",
      "<parameter>\n",
      "<name>O_delivery</name>\n",
      "<value>D149.V101</value>\n",
      "</parameter>\n",
      "<parameter>\n",
      "<name>O_f_ethnicity</name>\n",
      "<value>D149.V53</value>\n",
      "</parameter>\n",
      "<parameter>\n",
      "<name>O_frace</name>\n",
      "<value>D149.V54</value>\n",
      "</parameter>\n",
      "<parameter>\n",
      "<name>O_gestation</name>\n",
      "<value>D149.V6</value>\n",
      "</parameter>\n",
      "<parameter>\n",
      "<name>O_javascript</name>\n",
      "<value>on</value>\n",
      "</parameter>\n",
      "<parameter>\n",
      "<name>O_location</name>\n",
      "<value>D149.V21</value>\n",
      "</parameter>\n",
      "<parameter>\n",
      "<name>O_m_ethnicity</name>\n",
      "<value>D149.V43</value>\n",
      "</parameter>\n",
      "<parameter>\n",
      "<name>O_oc-sect1-request</name>\n",
      "<value>close</value>\n",
      "</parameter>\n",
      "<parameter>\n",
      "<name>O_oe_gestation</name>\n",
      "<value>D149.V32</value>\n",
      "</parameter>\n",
      "<parameter>\n",
      "<name>O_pay</name>\n",
      "<value>D149.V110</value>\n",
      "</parameter>\n",
      "<parameter>\n",
      "<name>O_place</name>\n",
      "<value>D149.V45</value>\n",
      "</parameter>\n",
      "<parameter>\n",
      "<name>O_precision</name>\n",
      "<value>2</value>\n",
      "</parameter>\n",
      "<parameter>\n",
      "<name>O_prenatal</name>\n",
      "<value>D149.V63</value>\n",
      "</parameter>\n",
      "<parameter>\n",
      "<name>O_prenatal2</name>\n",
      "<value>D149.V65</value>\n",
      "</parameter>\n",
      "<parameter>\n",
      "<name>O_race</name>\n",
      "<value>D149.V42</value>\n",
      "</parameter>\n",
      "<parameter>\n",
      "<name>O_rate_per</name>\n",
      "<value>1000</value>\n",
      "</parameter>\n",
      "<parameter>\n",
      "<name>O_show_suppressed</name>\n",
      "<value>false</value>\n",
      "</parameter>\n",
      "<parameter>\n",
      "<name>O_show_totals</name>\n",
      "<value>true</value>\n",
      "</parameter>\n",
      "<parameter>\n",
      "<name>O_show_zeros</name>\n",
      "<value>false</value>\n",
      "</parameter>\n",
      "<parameter>\n",
      "<name>O_timeout</name>\n",
      "<value>600</value>\n",
      "</parameter>\n",
      "<parameter>\n",
      "<name>O_urban</name>\n",
      "<value>D149.V154</value>\n",
      "</parameter>\n",
      "<parameter>\n",
      "<name>O_weight</name>\n",
      "<value>D149.V9</value>\n",
      "</parameter>\n",
      "<parameter>\n",
      "<name>V_D149.V1</name>\n",
      "<value>*All*</value>\n",
      "</parameter>\n",
      "<parameter>\n",
      "<name>V_D149.V10</name>\n",
      "<value>*All*</value>\n",
      "</parameter>\n",
      "<parameter>\n",
      "<name>V_D149.V100</name>\n",
      "<value>*All*</value>\n",
      "</parameter>\n",
      "<parameter>\n",
      "<name>V_D149.V101</name>\n",
      "<value>*All*</value>\n",
      "</parameter>\n",
      "<parameter>\n",
      "<name>V_D149.V102</name>\n",
      "<value>*All*</value>\n",
      "</parameter>\n",
      "<parameter>\n",
      "<name>V_D149.V103</name>\n",
      "<value>*All*</value>\n",
      "</parameter>\n",
      "<parameter>\n",
      "<name>V_D149.V104</name>\n",
      "<value>*All*</value>\n",
      "</parameter>\n",
      "<parameter>\n",
      "<name>V_D149.V105</name>\n",
      "<value>*All*</value>\n",
      "</parameter>\n",
      "<parameter>\n",
      "<name>V_D149.V106</name>\n",
      "<value>*All*</value>\n",
      "</parameter>\n",
      "<parameter>\n",
      "<name>V_D149.V107</name>\n",
      "<value>*All*</value>\n",
      "</parameter>\n",
      "<parameter>\n",
      "<name>V_D149.V108</name>\n",
      "<value>*All*</value>\n",
      "</parameter>\n",
      "<parameter>\n",
      "<name>V_D149.V109</name>\n",
      "<value>*All*</value>\n",
      "</parameter>\n",
      "<parameter>\n",
      "<name>V_D149.V110</name>\n",
      "<value>*All*</value>\n",
      "</parameter>\n",
      "<parameter>\n",
      "<name>V_D149.V111</name>\n",
      "<value>*All*</value>\n",
      "</parameter>\n",
      "<parameter>\n",
      "<name>V_D149.V112</name>\n",
      "<value>*All*</value>\n",
      "</parameter>\n",
      "<parameter>\n",
      "<name>V_D149.V113</name>\n",
      "<value>*All*</value>\n",
      "</parameter>\n",
      "<parameter>\n",
      "<name>V_D149.V114</name>\n",
      "<value>*All*</value>\n",
      "</parameter>\n",
      "<parameter>\n",
      "<name>V_D149.V115</name>\n",
      "<value>*All*</value>\n",
      "</parameter>\n",
      "<parameter>\n",
      "<name>V_D149.V116</name>\n",
      "<value>*All*</value>\n",
      "</parameter>\n",
      "<parameter>\n",
      "<name>V_D149.V117</name>\n",
      "<value>*All*</value>\n",
      "</parameter>\n",
      "<parameter>\n",
      "<name>V_D149.V118</name>\n",
      "<value>*All*</value>\n",
      "</parameter>\n",
      "<parameter>\n",
      "<name>V_D149.V119</name>\n",
      "<value>*All*</value>\n",
      "</parameter>\n",
      "<parameter>\n",
      "<name>V_D149.V120</name>\n",
      "<value>*All*</value>\n",
      "</parameter>\n",
      "<parameter>\n",
      "<name>V_D149.V121</name>\n",
      "<value>*All*</value>\n",
      "</parameter>\n",
      "<parameter>\n",
      "<name>V_D149.V122</name>\n",
      "<value>1</value>\n",
      "<value>9</value>\n",
      "</parameter>\n",
      "<parameter>\n",
      "<name>V_D149.V123</name>\n",
      "<value>*All*</value>\n",
      "</parameter>\n",
      "<parameter>\n",
      "<name>V_D149.V124</name>\n",
      "<value>*All*</value>\n",
      "</parameter>\n",
      "<parameter>\n",
      "<name>V_D149.V125</name>\n",
      "<value>*All*</value>\n",
      "</parameter>\n",
      "<parameter>\n",
      "<name>V_D149.V126</name>\n",
      "<value>*All*</value>\n",
      "</parameter>\n",
      "<parameter>\n",
      "<name>V_D149.V127</name>\n",
      "<value>*All*</value>\n",
      "</parameter>\n",
      "<parameter>\n",
      "<name>V_D149.V128</name>\n",
      "<value>*All*</value>\n",
      "</parameter>\n",
      "<parameter>\n",
      "<name>V_D149.V129</name>\n",
      "<value>*All*</value>\n",
      "</parameter>\n",
      "<parameter>\n",
      "<name>V_D149.V130</name>\n",
      "<value>*All*</value>\n",
      "</parameter>\n",
      "<parameter>\n",
      "<name>V_D149.V131</name>\n",
      "<value>*All*</value>\n",
      "</parameter>\n",
      "<parameter>\n",
      "<name>V_D149.V132</name>\n",
      "<value>*All*</value>\n",
      "</parameter>\n",
      "<parameter>\n",
      "<name>V_D149.V133</name>\n",
      "<value>*All*</value>\n",
      "</parameter>\n",
      "<parameter>\n",
      "<name>V_D149.V134</name>\n",
      "<value>*All*</value>\n",
      "</parameter>\n",
      "<parameter>\n",
      "<name>V_D149.V135</name>\n",
      "<value>*All*</value>\n",
      "</parameter>\n",
      "<parameter>\n",
      "<name>V_D149.V136</name>\n",
      "<value>*All*</value>\n",
      "</parameter>\n",
      "<parameter>\n",
      "<name>V_D149.V137</name>\n",
      "<value>*All*</value>\n",
      "</parameter>\n",
      "<parameter>\n",
      "<name>V_D149.V138</name>\n",
      "<value>*All*</value>\n",
      "</parameter>\n",
      "<parameter>\n",
      "<name>V_D149.V139</name>\n",
      "<value>*All*</value>\n",
      "</parameter>\n",
      "<parameter>\n",
      "<name>V_D149.V140</name>\n",
      "<value>*All*</value>\n",
      "</parameter>\n",
      "<parameter>\n",
      "<name>V_D149.V141</name>\n",
      "<value>*All*</value>\n",
      "</parameter>\n",
      "<parameter>\n",
      "<name>V_D149.V142</name>\n",
      "<value>*All*</value>\n",
      "</parameter>\n",
      "<parameter>\n",
      "<name>V_D149.V143</name>\n",
      "<value>*All*</value>\n",
      "</parameter>\n",
      "<parameter>\n",
      "<name>V_D149.V144</name>\n",
      "<value>0</value>\n",
      "<value>1</value>\n",
      "<value>2</value>\n",
      "<value>3</value>\n",
      "<value>4</value>\n",
      "</parameter>\n",
      "<parameter>\n",
      "<name>V_D149.V145</name>\n",
      "<value>*All*</value>\n",
      "</parameter>\n",
      "<parameter>\n",
      "<name>V_D149.V146</name>\n",
      "<value>*All*</value>\n",
      "</parameter>\n",
      "<parameter>\n",
      "<name>V_D149.V147</name>\n",
      "<value>*All*</value>\n",
      "</parameter>\n",
      "<parameter>\n",
      "<name>V_D149.V149</name>\n",
      "<value>*All*</value>\n",
      "</parameter>\n",
      "<parameter>\n",
      "<name>V_D149.V150</name>\n",
      "<value>*All*</value>\n",
      "</parameter>\n",
      "<parameter>\n",
      "<name>V_D149.V151</name>\n",
      "<value>*All*</value>\n",
      "</parameter>\n",
      "<parameter>\n",
      "<name>V_D149.V152</name>\n",
      "<value>*All*</value>\n",
      "</parameter>\n",
      "<parameter>\n",
      "<name>V_D149.V153</name>\n",
      "<value>*All*</value>\n",
      "</parameter>\n",
      "<parameter>\n",
      "<name>V_D149.V154</name>\n",
      "<value>*All*</value>\n",
      "</parameter>\n",
      "<parameter>\n",
      "<name>V_D149.V155</name>\n",
      "<value>*All*</value>\n",
      "</parameter>\n",
      "<parameter>\n",
      "<name>V_D149.V156</name>\n",
      "<value>*All*</value>\n",
      "</parameter>\n",
      "<parameter>\n",
      "<name>V_D149.V157</name>\n",
      "<value>*All*</value>\n",
      "</parameter>\n",
      "<parameter>\n",
      "<name>V_D149.V16</name>\n",
      "<value>*All*</value>\n",
      "</parameter>\n",
      "<parameter>\n",
      "<name>V_D149.V17</name>\n",
      "<value>*All*</value>\n",
      "</parameter>\n",
      "<parameter>\n",
      "<name>V_D149.V18</name>\n",
      "<value>*All*</value>\n",
      "</parameter>\n",
      "<parameter>\n",
      "<name>V_D149.V20</name>\n",
      "<value>*All*</value>\n",
      "</parameter>\n",
      "<parameter>\n",
      "<name>V_D149.V23</name>\n",
      "<value>*All*</value>\n",
      "</parameter>\n",
      "<parameter>\n",
      "<name>V_D149.V24</name>\n",
      "<value>*All*</value>\n",
      "</parameter>\n",
      "<parameter>\n",
      "<name>V_D149.V25</name>\n",
      "<value>*All*</value>\n",
      "</parameter>\n",
      "<parameter>\n",
      "<name>V_D149.V26</name>\n",
      "<value>*All*</value>\n",
      "</parameter>\n",
      "<parameter>\n",
      "<name>V_D149.V27</name>\n",
      "<value>*All*</value>\n",
      "</parameter>\n",
      "<parameter>\n",
      "<name>V_D149.V28</name>\n",
      "<value>*All*</value>\n",
      "</parameter>\n",
      "<parameter>\n",
      "<name>V_D149.V29</name>\n",
      "<value>*All*</value>\n",
      "</parameter>\n",
      "<parameter>\n",
      "<name>V_D149.V3</name>\n",
      "<value>*All*</value>\n",
      "</parameter>\n",
      "<parameter>\n",
      "<name>V_D149.V30</name>\n",
      "<value>*All*</value>\n",
      "</parameter>\n",
      "<parameter>\n",
      "<name>V_D149.V31</name>\n",
      "<value>*All*</value>\n",
      "</parameter>\n",
      "<parameter>\n",
      "<name>V_D149.V32</name>\n",
      "<value>*All*</value>\n",
      "</parameter>\n",
      "<parameter>\n",
      "<name>V_D149.V33</name>\n",
      "<value>*All*</value>\n",
      "</parameter>\n",
      "<parameter>\n",
      "<name>V_D149.V34</name>\n",
      "<value>*All*</value>\n",
      "</parameter>\n",
      "<parameter>\n",
      "<name>V_D149.V35</name>\n",
      "<value>*All*</value>\n",
      "</parameter>\n",
      "<parameter>\n",
      "<name>V_D149.V38</name>\n",
      "<value>*All*</value>\n",
      "</parameter>\n",
      "<parameter>\n",
      "<name>V_D149.V39</name>\n",
      "<value>*All*</value>\n",
      "</parameter>\n",
      "<parameter>\n",
      "<name>V_D149.V4</name>\n",
      "<value>*All*</value>\n",
      "</parameter>\n",
      "<parameter>\n",
      "<name>V_D149.V41</name>\n",
      "<value>*All*</value>\n",
      "</parameter>\n",
      "<parameter>\n",
      "<name>V_D149.V42</name>\n",
      "<value>*All*</value>\n",
      "</parameter>\n",
      "<parameter>\n",
      "<name>V_D149.V43</name>\n",
      "<value>*All*</value>\n",
      "</parameter>\n",
      "<parameter>\n",
      "<name>V_D149.V44</name>\n",
      "<value>*All*</value>\n",
      "</parameter>\n",
      "<parameter>\n",
      "<name>V_D149.V45</name>\n",
      "<value>*All*</value>\n",
      "</parameter>\n",
      "<parameter>\n",
      "<name>V_D149.V46</name>\n",
      "<value>*All*</value>\n",
      "</parameter>\n",
      "<parameter>\n",
      "<name>V_D149.V47</name>\n",
      "<value>*All*</value>\n",
      "</parameter>\n",
      "<parameter>\n",
      "<name>V_D149.V48</name>\n",
      "<value>*All*</value>\n",
      "</parameter>\n",
      "<parameter>\n",
      "<name>V_D149.V49</name>\n",
      "<value>*All*</value>\n",
      "</parameter>\n",
      "<parameter>\n",
      "<name>V_D149.V5</name>\n",
      "<value>*All*</value>\n",
      "</parameter>\n",
      "<parameter>\n",
      "<name>V_D149.V50</name>\n",
      "<value>*All*</value>\n",
      "</parameter>\n",
      "<parameter>\n",
      "<name>V_D149.V51</name>\n",
      "<value>*All*</value>\n",
      "</parameter>\n",
      "<parameter>\n",
      "<name>V_D149.V52</name>\n",
      "<value>*All*</value>\n",
      "</parameter>\n",
      "<parameter>\n",
      "<name>V_D149.V53</name>\n",
      "<value>*All*</value>\n",
      "</parameter>\n",
      "<parameter>\n",
      "<name>V_D149.V54</name>\n",
      "<value>*All*</value>\n",
      "</parameter>\n",
      "<parameter>\n",
      "<name>V_D149.V55</name>\n",
      "<value>*All*</value>\n",
      "</parameter>\n",
      "<parameter>\n",
      "<name>V_D149.V56</name>\n",
      "<value>*All*</value>\n",
      "</parameter>\n",
      "<parameter>\n",
      "<name>V_D149.V57</name>\n",
      "<value>*All*</value>\n",
      "</parameter>\n",
      "<parameter>\n",
      "<name>V_D149.V58</name>\n",
      "<value>*All*</value>\n",
      "</parameter>\n",
      "<parameter>\n",
      "<name>V_D149.V59</name>\n",
      "<value>*All*</value>\n",
      "</parameter>\n",
      "<parameter>\n",
      "<name>V_D149.V6</name>\n",
      "<value>*All*</value>\n",
      "</parameter>\n",
      "<parameter>\n",
      "<name>V_D149.V60</name>\n",
      "<value>*All*</value>\n",
      "</parameter>\n",
      "<parameter>\n",
      "<name>V_D149.V61</name>\n",
      "<value>*All*</value>\n",
      "</parameter>\n",
      "<parameter>\n",
      "<name>V_D149.V62</name>\n",
      "<value>*All*</value>\n",
      "</parameter>\n",
      "<parameter>\n",
      "<name>V_D149.V63</name>\n",
      "<value>*All*</value>\n",
      "</parameter>\n",
      "<parameter>\n",
      "<name>V_D149.V64</name>\n",
      "<value>*All*</value>\n",
      "</parameter>\n",
      "<parameter>\n",
      "<name>V_D149.V65</name>\n",
      "<value>*All*</value>\n",
      "</parameter>\n",
      "<parameter>\n",
      "<name>V_D149.V66</name>\n",
      "<value>*All*</value>\n",
      "</parameter>\n",
      "<parameter>\n",
      "<name>V_D149.V7</name>\n",
      "<value>*All*</value>\n",
      "</parameter>\n",
      "<parameter>\n",
      "<name>V_D149.V70</name>\n",
      "<value>*All*</value>\n",
      "</parameter>\n",
      "<parameter>\n",
      "<name>V_D149.V71</name>\n",
      "<value>*All*</value>\n",
      "</parameter>\n",
      "<parameter>\n",
      "<name>V_D149.V73</name>\n",
      "<value>*All*</value>\n",
      "</parameter>\n",
      "<parameter>\n",
      "<name>V_D149.V74</name>\n",
      "<value>*All*</value>\n",
      "</parameter>\n",
      "<parameter>\n",
      "<name>V_D149.V75</name>\n",
      "<value>*All*</value>\n",
      "</parameter>\n",
      "<parameter>\n",
      "<name>V_D149.V76</name>\n",
      "<value>*All*</value>\n",
      "</parameter>\n",
      "<parameter>\n",
      "<name>V_D149.V77</name>\n",
      "<value>*All*</value>\n",
      "</parameter>\n",
      "<parameter>\n",
      "<name>V_D149.V78</name>\n",
      "<value>*All*</value>\n",
      "</parameter>\n",
      "<parameter>\n",
      "<name>V_D149.V79</name>\n",
      "<value>*All*</value>\n",
      "</parameter>\n",
      "<parameter>\n",
      "<name>V_D149.V8</name>\n",
      "<value>*All*</value>\n",
      "</parameter>\n",
      "<parameter>\n",
      "<name>V_D149.V80</name>\n",
      "<value>*All*</value>\n",
      "</parameter>\n",
      "<parameter>\n",
      "<name>V_D149.V81</name>\n",
      "<value>*All*</value>\n",
      "</parameter>\n",
      "<parameter>\n",
      "<name>V_D149.V82</name>\n",
      "<value>*All*</value>\n",
      "</parameter>\n",
      "<parameter>\n",
      "<name>V_D149.V83</name>\n",
      "<value>*All*</value>\n",
      "</parameter>\n",
      "<parameter>\n",
      "<name>V_D149.V84</name>\n",
      "<value>*All*</value>\n",
      "</parameter>\n",
      "<parameter>\n",
      "<name>V_D149.V85</name>\n",
      "<value>*All*</value>\n",
      "</parameter>\n",
      "<parameter>\n",
      "<name>V_D149.V86</name>\n",
      "<value>*All*</value>\n",
      "</parameter>\n",
      "<parameter>\n",
      "<name>V_D149.V87</name>\n",
      "<value>*All*</value>\n",
      "</parameter>\n",
      "<parameter>\n",
      "<name>V_D149.V88</name>\n",
      "<value>*All*</value>\n",
      "</parameter>\n",
      "<parameter>\n",
      "<name>V_D149.V89</name>\n",
      "<value>*All*</value>\n",
      "</parameter>\n",
      "<parameter>\n",
      "<name>V_D149.V9</name>\n",
      "<value>*All*</value>\n",
      "</parameter>\n",
      "<parameter>\n",
      "<name>V_D149.V90</name>\n",
      "<value>*All*</value>\n",
      "</parameter>\n",
      "<parameter>\n",
      "<name>V_D149.V91</name>\n",
      "<value>*All*</value>\n",
      "</parameter>\n",
      "<parameter>\n",
      "<name>V_D149.V92</name>\n",
      "<value>*All*</value>\n",
      "</parameter>\n",
      "<parameter>\n",
      "<name>V_D149.V93</name>\n",
      "<value>*All*</value>\n",
      "</parameter>\n",
      "<parameter>\n",
      "<name>V_D149.V94</name>\n",
      "<value>*All*</value>\n",
      "</parameter>\n",
      "<parameter>\n",
      "<name>V_D149.V95</name>\n",
      "<value>*All*</value>\n",
      "</parameter>\n",
      "<parameter>\n",
      "<name>V_D149.V96</name>\n",
      "<value>*All*</value>\n",
      "</parameter>\n",
      "<parameter>\n",
      "<name>V_D149.V97</name>\n",
      "<value>*All*</value>\n",
      "</parameter>\n",
      "<parameter>\n",
      "<name>V_D149.V98</name>\n",
      "<value>*All*</value>\n",
      "</parameter>\n",
      "<parameter>\n",
      "<name>V_D149.V99</name>\n",
      "<value>*All*</value>\n",
      "</parameter>\n",
      "<parameter>\n",
      "<name>action-Send</name>\n",
      "<value>Send</value>\n",
      "</parameter>\n",
      "<parameter>\n",
      "<name>dataset_code</name>\n",
      "<value>D149</value>\n",
      "</parameter>\n",
      "<parameter>\n",
      "<name>dataset_label</name>\n",
      "<value>Natality, 2016-2021 expanded</value>\n",
      "</parameter>\n",
      "<parameter>\n",
      "<name>dataset_vintage</name>\n",
      "<value>2021</value>\n",
      "</parameter>\n",
      "<parameter>\n",
      "<name>finder-stage-D149.V21</name>\n",
      "<value>codeset</value>\n",
      "</parameter>\n",
      "<parameter>\n",
      "<name>finder-stage-D149.V22</name>\n",
      "<value>codeset</value>\n",
      "</parameter>\n",
      "<parameter>\n",
      "<name>finder-stage-D149.V37</name>\n",
      "<value>codeset</value>\n",
      "</parameter>\n",
      "<parameter>\n",
      "<name>saved_id</name>\n",
      "<value></value>\n",
      "</parameter>\n",
      "<parameter>\n",
      "<name>stage</name>\n",
      "<value>request</value>\n",
      "</parameter>\n",
      "</request-parameters>\n",
      "2023-03-17 13:45:03,350 - urllib3.connectionpool - _new_conn - DEBUG - Starting new HTTPS connection (1): wonder.cdc.gov:443\n",
      "2023-03-17 13:45:11,792 - urllib3.connectionpool - _make_request - DEBUG - https://wonder.cdc.gov:443 \"POST /controller/datarequest/D149 HTTP/1.1\" 200 158501\n"
     ]
    },
    {
     "name": "stderr",
     "output_type": "stream",
     "text": [
      "/Users/abhijithdasharathi/Study/UCSD/Winter_23/ECE143/CDC_Project/wonderD149Data/examples/../src/wonderD149Data/data/helper.py:472: SettingWithCopyWarning: \n",
      "A value is trying to be set on a copy of a slice from a DataFrame.\n",
      "Try using .loc[row_indexer,col_indexer] = value instead\n",
      "\n",
      "See the caveats in the documentation: https://pandas.pydata.org/pandas-docs/stable/user_guide/indexing.html#returning-a-view-versus-a-copy\n",
      "  yes_data['Issue'] = issue\n",
      "/Users/abhijithdasharathi/Study/UCSD/Winter_23/ECE143/CDC_Project/wonderD149Data/examples/../src/wonderD149Data/data/helper.py:472: SettingWithCopyWarning: \n",
      "A value is trying to be set on a copy of a slice from a DataFrame.\n",
      "Try using .loc[row_indexer,col_indexer] = value instead\n",
      "\n",
      "See the caveats in the documentation: https://pandas.pydata.org/pandas-docs/stable/user_guide/indexing.html#returning-a-view-versus-a-copy\n",
      "  yes_data['Issue'] = issue\n"
     ]
    },
    {
     "data": {
      "application/vnd.plotly.v1+json": {
       "config": {
        "plotlyServerURL": "https://plot.ly"
       },
       "data": [
        {
         "alignmentgroup": "True",
         "bingroup": "x",
         "histfunc": "sum",
         "hovertemplate": "Issue=Pre Term Birth<br>Number of Cigarettes 1st Trimester Recode=%{x}<br>sum of Percent of Mother Facing Issue=%{y}<extra></extra>",
         "legendgroup": "Pre Term Birth",
         "marker": {
          "color": "rgb(255, 152, 90)",
          "pattern": {
           "shape": ""
          }
         },
         "name": "Pre Term Birth",
         "offsetgroup": "Pre Term Birth",
         "orientation": "v",
         "showlegend": true,
         "type": "histogram",
         "x": [
          "Nonsmoker",
          "1-5",
          "6-10",
          "11-20",
          "21-40"
         ],
         "xaxis": "x",
         "y": [
          9.80272358996999,
          13.876831923154612,
          14.20840657919333,
          14.919356046424559,
          16.02034120734908
         ],
         "yaxis": "y"
        },
        {
         "alignmentgroup": "True",
         "bingroup": "x",
         "histfunc": "sum",
         "hovertemplate": "Issue=Abnormality<br>Number of Cigarettes 1st Trimester Recode=%{x}<br>sum of Percent of Mother Facing Issue=%{y}<extra></extra>",
         "legendgroup": "Abnormality",
         "marker": {
          "color": "rgb(119, 158, 204)",
          "pattern": {
           "shape": ""
          }
         },
         "name": "Abnormality",
         "offsetgroup": "Abnormality",
         "orientation": "v",
         "showlegend": true,
         "type": "histogram",
         "x": [
          "Nonsmoker",
          "1-5",
          "6-10",
          "11-20",
          "21-40"
         ],
         "xaxis": "x",
         "y": [
          10.856940627036181,
          15.30226940151174,
          15.660917915370842,
          16.781252707786173,
          18.195498560586234
         ],
         "yaxis": "y"
        }
       ],
       "layout": {
        "barmode": "relative",
        "font": {
         "color": "black",
         "family": "Verdana",
         "size": 24
        },
        "height": 900,
        "legend": {
         "title": {
          "font": {
           "color": "black"
          },
          "text": "Issue"
         },
         "tracegroupgap": 0
        },
        "margin": {
         "t": 60
        },
        "template": {
         "data": {
          "bar": [
           {
            "error_x": {
             "color": "#2a3f5f"
            },
            "error_y": {
             "color": "#2a3f5f"
            },
            "marker": {
             "line": {
              "color": "#E5ECF6",
              "width": 0.5
             },
             "pattern": {
              "fillmode": "overlay",
              "size": 10,
              "solidity": 0.2
             }
            },
            "type": "bar"
           }
          ],
          "barpolar": [
           {
            "marker": {
             "line": {
              "color": "#E5ECF6",
              "width": 0.5
             },
             "pattern": {
              "fillmode": "overlay",
              "size": 10,
              "solidity": 0.2
             }
            },
            "type": "barpolar"
           }
          ],
          "carpet": [
           {
            "aaxis": {
             "endlinecolor": "#2a3f5f",
             "gridcolor": "white",
             "linecolor": "white",
             "minorgridcolor": "white",
             "startlinecolor": "#2a3f5f"
            },
            "baxis": {
             "endlinecolor": "#2a3f5f",
             "gridcolor": "white",
             "linecolor": "white",
             "minorgridcolor": "white",
             "startlinecolor": "#2a3f5f"
            },
            "type": "carpet"
           }
          ],
          "choropleth": [
           {
            "colorbar": {
             "outlinewidth": 0,
             "ticks": ""
            },
            "type": "choropleth"
           }
          ],
          "contour": [
           {
            "colorbar": {
             "outlinewidth": 0,
             "ticks": ""
            },
            "colorscale": [
             [
              0,
              "#0d0887"
             ],
             [
              0.1111111111111111,
              "#46039f"
             ],
             [
              0.2222222222222222,
              "#7201a8"
             ],
             [
              0.3333333333333333,
              "#9c179e"
             ],
             [
              0.4444444444444444,
              "#bd3786"
             ],
             [
              0.5555555555555556,
              "#d8576b"
             ],
             [
              0.6666666666666666,
              "#ed7953"
             ],
             [
              0.7777777777777778,
              "#fb9f3a"
             ],
             [
              0.8888888888888888,
              "#fdca26"
             ],
             [
              1,
              "#f0f921"
             ]
            ],
            "type": "contour"
           }
          ],
          "contourcarpet": [
           {
            "colorbar": {
             "outlinewidth": 0,
             "ticks": ""
            },
            "type": "contourcarpet"
           }
          ],
          "heatmap": [
           {
            "colorbar": {
             "outlinewidth": 0,
             "ticks": ""
            },
            "colorscale": [
             [
              0,
              "#0d0887"
             ],
             [
              0.1111111111111111,
              "#46039f"
             ],
             [
              0.2222222222222222,
              "#7201a8"
             ],
             [
              0.3333333333333333,
              "#9c179e"
             ],
             [
              0.4444444444444444,
              "#bd3786"
             ],
             [
              0.5555555555555556,
              "#d8576b"
             ],
             [
              0.6666666666666666,
              "#ed7953"
             ],
             [
              0.7777777777777778,
              "#fb9f3a"
             ],
             [
              0.8888888888888888,
              "#fdca26"
             ],
             [
              1,
              "#f0f921"
             ]
            ],
            "type": "heatmap"
           }
          ],
          "heatmapgl": [
           {
            "colorbar": {
             "outlinewidth": 0,
             "ticks": ""
            },
            "colorscale": [
             [
              0,
              "#0d0887"
             ],
             [
              0.1111111111111111,
              "#46039f"
             ],
             [
              0.2222222222222222,
              "#7201a8"
             ],
             [
              0.3333333333333333,
              "#9c179e"
             ],
             [
              0.4444444444444444,
              "#bd3786"
             ],
             [
              0.5555555555555556,
              "#d8576b"
             ],
             [
              0.6666666666666666,
              "#ed7953"
             ],
             [
              0.7777777777777778,
              "#fb9f3a"
             ],
             [
              0.8888888888888888,
              "#fdca26"
             ],
             [
              1,
              "#f0f921"
             ]
            ],
            "type": "heatmapgl"
           }
          ],
          "histogram": [
           {
            "marker": {
             "pattern": {
              "fillmode": "overlay",
              "size": 10,
              "solidity": 0.2
             }
            },
            "type": "histogram"
           }
          ],
          "histogram2d": [
           {
            "colorbar": {
             "outlinewidth": 0,
             "ticks": ""
            },
            "colorscale": [
             [
              0,
              "#0d0887"
             ],
             [
              0.1111111111111111,
              "#46039f"
             ],
             [
              0.2222222222222222,
              "#7201a8"
             ],
             [
              0.3333333333333333,
              "#9c179e"
             ],
             [
              0.4444444444444444,
              "#bd3786"
             ],
             [
              0.5555555555555556,
              "#d8576b"
             ],
             [
              0.6666666666666666,
              "#ed7953"
             ],
             [
              0.7777777777777778,
              "#fb9f3a"
             ],
             [
              0.8888888888888888,
              "#fdca26"
             ],
             [
              1,
              "#f0f921"
             ]
            ],
            "type": "histogram2d"
           }
          ],
          "histogram2dcontour": [
           {
            "colorbar": {
             "outlinewidth": 0,
             "ticks": ""
            },
            "colorscale": [
             [
              0,
              "#0d0887"
             ],
             [
              0.1111111111111111,
              "#46039f"
             ],
             [
              0.2222222222222222,
              "#7201a8"
             ],
             [
              0.3333333333333333,
              "#9c179e"
             ],
             [
              0.4444444444444444,
              "#bd3786"
             ],
             [
              0.5555555555555556,
              "#d8576b"
             ],
             [
              0.6666666666666666,
              "#ed7953"
             ],
             [
              0.7777777777777778,
              "#fb9f3a"
             ],
             [
              0.8888888888888888,
              "#fdca26"
             ],
             [
              1,
              "#f0f921"
             ]
            ],
            "type": "histogram2dcontour"
           }
          ],
          "mesh3d": [
           {
            "colorbar": {
             "outlinewidth": 0,
             "ticks": ""
            },
            "type": "mesh3d"
           }
          ],
          "parcoords": [
           {
            "line": {
             "colorbar": {
              "outlinewidth": 0,
              "ticks": ""
             }
            },
            "type": "parcoords"
           }
          ],
          "pie": [
           {
            "automargin": true,
            "type": "pie"
           }
          ],
          "scatter": [
           {
            "fillpattern": {
             "fillmode": "overlay",
             "size": 10,
             "solidity": 0.2
            },
            "type": "scatter"
           }
          ],
          "scatter3d": [
           {
            "line": {
             "colorbar": {
              "outlinewidth": 0,
              "ticks": ""
             }
            },
            "marker": {
             "colorbar": {
              "outlinewidth": 0,
              "ticks": ""
             }
            },
            "type": "scatter3d"
           }
          ],
          "scattercarpet": [
           {
            "marker": {
             "colorbar": {
              "outlinewidth": 0,
              "ticks": ""
             }
            },
            "type": "scattercarpet"
           }
          ],
          "scattergeo": [
           {
            "marker": {
             "colorbar": {
              "outlinewidth": 0,
              "ticks": ""
             }
            },
            "type": "scattergeo"
           }
          ],
          "scattergl": [
           {
            "marker": {
             "colorbar": {
              "outlinewidth": 0,
              "ticks": ""
             }
            },
            "type": "scattergl"
           }
          ],
          "scattermapbox": [
           {
            "marker": {
             "colorbar": {
              "outlinewidth": 0,
              "ticks": ""
             }
            },
            "type": "scattermapbox"
           }
          ],
          "scatterpolar": [
           {
            "marker": {
             "colorbar": {
              "outlinewidth": 0,
              "ticks": ""
             }
            },
            "type": "scatterpolar"
           }
          ],
          "scatterpolargl": [
           {
            "marker": {
             "colorbar": {
              "outlinewidth": 0,
              "ticks": ""
             }
            },
            "type": "scatterpolargl"
           }
          ],
          "scatterternary": [
           {
            "marker": {
             "colorbar": {
              "outlinewidth": 0,
              "ticks": ""
             }
            },
            "type": "scatterternary"
           }
          ],
          "surface": [
           {
            "colorbar": {
             "outlinewidth": 0,
             "ticks": ""
            },
            "colorscale": [
             [
              0,
              "#0d0887"
             ],
             [
              0.1111111111111111,
              "#46039f"
             ],
             [
              0.2222222222222222,
              "#7201a8"
             ],
             [
              0.3333333333333333,
              "#9c179e"
             ],
             [
              0.4444444444444444,
              "#bd3786"
             ],
             [
              0.5555555555555556,
              "#d8576b"
             ],
             [
              0.6666666666666666,
              "#ed7953"
             ],
             [
              0.7777777777777778,
              "#fb9f3a"
             ],
             [
              0.8888888888888888,
              "#fdca26"
             ],
             [
              1,
              "#f0f921"
             ]
            ],
            "type": "surface"
           }
          ],
          "table": [
           {
            "cells": {
             "fill": {
              "color": "#EBF0F8"
             },
             "line": {
              "color": "white"
             }
            },
            "header": {
             "fill": {
              "color": "#C8D4E3"
             },
             "line": {
              "color": "white"
             }
            },
            "type": "table"
           }
          ]
         },
         "layout": {
          "annotationdefaults": {
           "arrowcolor": "#2a3f5f",
           "arrowhead": 0,
           "arrowwidth": 1
          },
          "autotypenumbers": "strict",
          "coloraxis": {
           "colorbar": {
            "outlinewidth": 0,
            "ticks": ""
           }
          },
          "colorscale": {
           "diverging": [
            [
             0,
             "#8e0152"
            ],
            [
             0.1,
             "#c51b7d"
            ],
            [
             0.2,
             "#de77ae"
            ],
            [
             0.3,
             "#f1b6da"
            ],
            [
             0.4,
             "#fde0ef"
            ],
            [
             0.5,
             "#f7f7f7"
            ],
            [
             0.6,
             "#e6f5d0"
            ],
            [
             0.7,
             "#b8e186"
            ],
            [
             0.8,
             "#7fbc41"
            ],
            [
             0.9,
             "#4d9221"
            ],
            [
             1,
             "#276419"
            ]
           ],
           "sequential": [
            [
             0,
             "#0d0887"
            ],
            [
             0.1111111111111111,
             "#46039f"
            ],
            [
             0.2222222222222222,
             "#7201a8"
            ],
            [
             0.3333333333333333,
             "#9c179e"
            ],
            [
             0.4444444444444444,
             "#bd3786"
            ],
            [
             0.5555555555555556,
             "#d8576b"
            ],
            [
             0.6666666666666666,
             "#ed7953"
            ],
            [
             0.7777777777777778,
             "#fb9f3a"
            ],
            [
             0.8888888888888888,
             "#fdca26"
            ],
            [
             1,
             "#f0f921"
            ]
           ],
           "sequentialminus": [
            [
             0,
             "#0d0887"
            ],
            [
             0.1111111111111111,
             "#46039f"
            ],
            [
             0.2222222222222222,
             "#7201a8"
            ],
            [
             0.3333333333333333,
             "#9c179e"
            ],
            [
             0.4444444444444444,
             "#bd3786"
            ],
            [
             0.5555555555555556,
             "#d8576b"
            ],
            [
             0.6666666666666666,
             "#ed7953"
            ],
            [
             0.7777777777777778,
             "#fb9f3a"
            ],
            [
             0.8888888888888888,
             "#fdca26"
            ],
            [
             1,
             "#f0f921"
            ]
           ]
          },
          "colorway": [
           "#636efa",
           "#EF553B",
           "#00cc96",
           "#ab63fa",
           "#FFA15A",
           "#19d3f3",
           "#FF6692",
           "#B6E880",
           "#FF97FF",
           "#FECB52"
          ],
          "font": {
           "color": "#2a3f5f"
          },
          "geo": {
           "bgcolor": "white",
           "lakecolor": "white",
           "landcolor": "#E5ECF6",
           "showlakes": true,
           "showland": true,
           "subunitcolor": "white"
          },
          "hoverlabel": {
           "align": "left"
          },
          "hovermode": "closest",
          "mapbox": {
           "style": "light"
          },
          "paper_bgcolor": "white",
          "plot_bgcolor": "#E5ECF6",
          "polar": {
           "angularaxis": {
            "gridcolor": "white",
            "linecolor": "white",
            "ticks": ""
           },
           "bgcolor": "#E5ECF6",
           "radialaxis": {
            "gridcolor": "white",
            "linecolor": "white",
            "ticks": ""
           }
          },
          "scene": {
           "xaxis": {
            "backgroundcolor": "#E5ECF6",
            "gridcolor": "white",
            "gridwidth": 2,
            "linecolor": "white",
            "showbackground": true,
            "ticks": "",
            "zerolinecolor": "white"
           },
           "yaxis": {
            "backgroundcolor": "#E5ECF6",
            "gridcolor": "white",
            "gridwidth": 2,
            "linecolor": "white",
            "showbackground": true,
            "ticks": "",
            "zerolinecolor": "white"
           },
           "zaxis": {
            "backgroundcolor": "#E5ECF6",
            "gridcolor": "white",
            "gridwidth": 2,
            "linecolor": "white",
            "showbackground": true,
            "ticks": "",
            "zerolinecolor": "white"
           }
          },
          "shapedefaults": {
           "line": {
            "color": "#2a3f5f"
           }
          },
          "ternary": {
           "aaxis": {
            "gridcolor": "white",
            "linecolor": "white",
            "ticks": ""
           },
           "baxis": {
            "gridcolor": "white",
            "linecolor": "white",
            "ticks": ""
           },
           "bgcolor": "#E5ECF6",
           "caxis": {
            "gridcolor": "white",
            "linecolor": "white",
            "ticks": ""
           }
          },
          "title": {
           "x": 0.05
          },
          "xaxis": {
           "automargin": true,
           "gridcolor": "white",
           "linecolor": "white",
           "ticks": "",
           "title": {
            "standoff": 15
           },
           "zerolinecolor": "white",
           "zerolinewidth": 2
          },
          "yaxis": {
           "automargin": true,
           "gridcolor": "white",
           "linecolor": "white",
           "ticks": "",
           "title": {
            "standoff": 15
           },
           "zerolinecolor": "white",
           "zerolinewidth": 2
          }
         }
        },
        "title": {
         "font": {
          "color": "black",
          "family": "Verdana",
          "size": 28
         },
         "text": "Effect of Cigarettes on Pregnancy",
         "x": 0.5,
         "xanchor": "center",
         "yanchor": "top"
        },
        "width": 1800,
        "xaxis": {
         "anchor": "y",
         "domain": [
          0,
          1
         ],
         "title": {
          "text": "Number of Cigarettes 1st Trimester Recode"
         }
        },
        "yaxis": {
         "anchor": "x",
         "domain": [
          0,
          1
         ],
         "title": {
          "text": "Percent of Mother Facing Issue"
         }
        }
       }
      }
     },
     "metadata": {},
     "output_type": "display_data"
    }
   ],
   "source": [
    "group_by_list = [\n",
    "'D149.V144', # Number of Cigarettes 1st Trimester Recode\n",
    "]\n",
    "measure_selection = {\n",
    "    'M_002': 'D149.M002', # Births\n",
    "}\n",
    "observation_selection = {\n",
    "    'O_oe_gestation':'D149.V33'\n",
    "}\n",
    "variable_filter = {\n",
    "    'V_D149.V33': ['01','02','03','04','05'], # filtering only yes and no\n",
    "    'V_D149.V144': ['0','1','2','3','4'], # filtering only cigar values\n",
    "}\n",
    "dataObj = wd.WonderD149Data(group_by_list,measure_selection,observation_selection,variable_filter)\n",
    "preterm_birth_cigar_yes = dataObj.getData()\n",
    "\n",
    "group_by_list = [\n",
    "'D149.V144', # Number of Cigarettes 1st Trimester Recode\n",
    "]\n",
    "measure_selection = {\n",
    "    'M_002': 'D149.M002', # Births\n",
    "}\n",
    "observation_selection = {\n",
    "    'O_oe_gestation':'D149.V33'\n",
    "}\n",
    "variable_filter = {\n",
    "    'V_D149.V33': ['06','07','08','09','10'], # filtering only yes and no\n",
    "    'V_D149.V144': ['0','1','2','3','4'], # filtering only required cigar values\n",
    "}\n",
    "dataObj = wd.WonderD149Data(group_by_list,measure_selection,observation_selection,variable_filter)\n",
    "preterm_birth_cigar_no = dataObj.getData()\n",
    "\n",
    "group_by_list = [\n",
    "'D149.V144', # Number of Cigarettes 1st Trimester Recode\n",
    "]\n",
    "measure_selection = {\n",
    "    'M_002': 'D149.M002', # Births\n",
    "}\n",
    "observation_selection = {\n",
    "}\n",
    "variable_filter = {\n",
    "    'V_D149.V122': ['0'], # filtering only yes and no\n",
    "    'V_D149.V144': ['0','1','2','3','4'], # filtering only required cigar values\n",
    "}\n",
    "dataObj = wd.WonderD149Data(group_by_list,measure_selection,observation_selection,variable_filter)\n",
    "abnormalities_cigar_yes = dataObj.getData()\n",
    "\n",
    "group_by_list = [\n",
    "'D149.V144', # Number of Cigarettes 1st Trimester Recode\n",
    "]\n",
    "measure_selection = {\n",
    "    'M_002': 'D149.M002', # Births\n",
    "}\n",
    "observation_selection = {\n",
    "}\n",
    "variable_filter = {\n",
    "    'V_D149.V122': ['1','9'], # filtering only yes and no\n",
    "    'V_D149.V144': ['0','1','2','3','4'], # filtering only required cigar values\n",
    "}\n",
    "dataObj = wd.WonderD149Data(group_by_list,measure_selection,observation_selection,variable_filter)\n",
    "abnormalities_cigar_no = dataObj.getData()\n",
    "\n",
    "preterm_birth_cigar = hp.merge_dataframe_on_yes_and_no(preterm_birth_cigar_yes,preterm_birth_cigar_no,'Number of Cigarettes 1st Trimester Recode','Pre Term Birth')\n",
    "abnormalities_cigar = hp.merge_dataframe_on_yes_and_no(abnormalities_cigar_yes,abnormalities_cigar_no,'Number of Cigarettes 1st Trimester Recode','Abnormality')\n",
    "final_df_cigar = pd.concat([preterm_birth_cigar,abnormalities_cigar]).reset_index()[[\"Number of Cigarettes 1st Trimester Recode\",\"Percent of Mother Facing Issue\",\"Issue\"]]\n",
    "fig = hp.plot_histogram(final_df_cigar,\"Number of Cigarettes 1st Trimester Recode\",'Effect of Cigarettes on Pregnancy')\n",
    "fig"
   ]
  },
  {
   "attachments": {},
   "cell_type": "markdown",
   "metadata": {},
   "source": [
    "## Visualization 2\n",
    "Impact of BMI Linear"
   ]
  },
  {
   "cell_type": "code",
   "execution_count": 5,
   "metadata": {},
   "outputs": [
    {
     "name": "stdout",
     "output_type": "stream",
     "text": [
      "2023-03-17 13:45:14,909 - root - _createXMLRequest - INFO - the xml sent to api is as below\n",
      "2023-03-17 13:45:14,909 - root - _createXMLRequest - DEBUG - <request-parameters>\n",
      "<parameter>\n",
      "<name>B_1</name>\n",
      "<value>D149.V71</value>\n",
      "</parameter>\n",
      "<parameter>\n",
      "<name>B_2</name>\n",
      "<value>D149.V91</value>\n",
      "</parameter>\n",
      "<parameter>\n",
      "<name>B_3</name>\n",
      "<value>*None*</value>\n",
      "</parameter>\n",
      "<parameter>\n",
      "<name>B_4</name>\n",
      "<value>*None*</value>\n",
      "</parameter>\n",
      "<parameter>\n",
      "<name>B_5</name>\n",
      "<value>*None*</value>\n",
      "</parameter>\n",
      "<parameter>\n",
      "<name>F_D149.V21</name>\n",
      "<value>*All*</value>\n",
      "</parameter>\n",
      "<parameter>\n",
      "<name>F_D149.V22</name>\n",
      "<value>*All*</value>\n",
      "</parameter>\n",
      "<parameter>\n",
      "<name>F_D149.V37</name>\n",
      "<value>*All*</value>\n",
      "</parameter>\n",
      "<parameter>\n",
      "<name>I_D149.V21</name>\n",
      "<value>*All*  (The United States)</value>\n",
      "</parameter>\n",
      "<parameter>\n",
      "<name>I_D149.V22</name>\n",
      "<value>*All*  (The United States)</value>\n",
      "</parameter>\n",
      "<parameter>\n",
      "<name>I_D149.V37</name>\n",
      "<value>*All*  (The United States)</value>\n",
      "</parameter>\n",
      "<parameter>\n",
      "<name>M_002</name>\n",
      "<value>D149.M002</value>\n",
      "</parameter>\n",
      "<parameter>\n",
      "<name>O_V21_fmode</name>\n",
      "<value>freg</value>\n",
      "</parameter>\n",
      "<parameter>\n",
      "<name>O_V22_fmode</name>\n",
      "<value>freg</value>\n",
      "</parameter>\n",
      "<parameter>\n",
      "<name>O_V37_fmode</name>\n",
      "<value>freg</value>\n",
      "</parameter>\n",
      "<parameter>\n",
      "<name>O_age</name>\n",
      "<value>D149.V1</value>\n",
      "</parameter>\n",
      "<parameter>\n",
      "<name>O_apgar10</name>\n",
      "<value>D149.V113</value>\n",
      "</parameter>\n",
      "<parameter>\n",
      "<name>O_apgar5</name>\n",
      "<value>D149.V111</value>\n",
      "</parameter>\n",
      "<parameter>\n",
      "<name>O_cig_before</name>\n",
      "<value>D149.V143</value>\n",
      "</parameter>\n",
      "<parameter>\n",
      "<name>O_cig_trim1</name>\n",
      "<value>D149.V144</value>\n",
      "</parameter>\n",
      "<parameter>\n",
      "<name>O_cig_trim2</name>\n",
      "<value>D149.V145</value>\n",
      "</parameter>\n",
      "<parameter>\n",
      "<name>O_cig_trim3</name>\n",
      "<value>D149.V146</value>\n",
      "</parameter>\n",
      "<parameter>\n",
      "<name>O_delivery</name>\n",
      "<value>D149.V101</value>\n",
      "</parameter>\n",
      "<parameter>\n",
      "<name>O_f_ethnicity</name>\n",
      "<value>D149.V53</value>\n",
      "</parameter>\n",
      "<parameter>\n",
      "<name>O_frace</name>\n",
      "<value>D149.V54</value>\n",
      "</parameter>\n",
      "<parameter>\n",
      "<name>O_gestation</name>\n",
      "<value>D149.V6</value>\n",
      "</parameter>\n",
      "<parameter>\n",
      "<name>O_javascript</name>\n",
      "<value>on</value>\n",
      "</parameter>\n",
      "<parameter>\n",
      "<name>O_location</name>\n",
      "<value>D149.V21</value>\n",
      "</parameter>\n",
      "<parameter>\n",
      "<name>O_m_ethnicity</name>\n",
      "<value>D149.V43</value>\n",
      "</parameter>\n",
      "<parameter>\n",
      "<name>O_oc-sect1-request</name>\n",
      "<value>close</value>\n",
      "</parameter>\n",
      "<parameter>\n",
      "<name>O_oe_gestation</name>\n",
      "<value>D149.V32</value>\n",
      "</parameter>\n",
      "<parameter>\n",
      "<name>O_pay</name>\n",
      "<value>D149.V110</value>\n",
      "</parameter>\n",
      "<parameter>\n",
      "<name>O_place</name>\n",
      "<value>D149.V45</value>\n",
      "</parameter>\n",
      "<parameter>\n",
      "<name>O_precision</name>\n",
      "<value>2</value>\n",
      "</parameter>\n",
      "<parameter>\n",
      "<name>O_prenatal</name>\n",
      "<value>D149.V63</value>\n",
      "</parameter>\n",
      "<parameter>\n",
      "<name>O_prenatal2</name>\n",
      "<value>D149.V65</value>\n",
      "</parameter>\n",
      "<parameter>\n",
      "<name>O_race</name>\n",
      "<value>D149.V42</value>\n",
      "</parameter>\n",
      "<parameter>\n",
      "<name>O_rate_per</name>\n",
      "<value>1000</value>\n",
      "</parameter>\n",
      "<parameter>\n",
      "<name>O_show_suppressed</name>\n",
      "<value>false</value>\n",
      "</parameter>\n",
      "<parameter>\n",
      "<name>O_show_totals</name>\n",
      "<value>true</value>\n",
      "</parameter>\n",
      "<parameter>\n",
      "<name>O_show_zeros</name>\n",
      "<value>false</value>\n",
      "</parameter>\n",
      "<parameter>\n",
      "<name>O_timeout</name>\n",
      "<value>600</value>\n",
      "</parameter>\n",
      "<parameter>\n",
      "<name>O_urban</name>\n",
      "<value>D149.V154</value>\n",
      "</parameter>\n",
      "<parameter>\n",
      "<name>O_weight</name>\n",
      "<value>D149.V9</value>\n",
      "</parameter>\n",
      "<parameter>\n",
      "<name>V_D149.V1</name>\n",
      "<value>*All*</value>\n",
      "</parameter>\n",
      "<parameter>\n",
      "<name>V_D149.V10</name>\n",
      "<value>*All*</value>\n",
      "</parameter>\n",
      "<parameter>\n",
      "<name>V_D149.V100</name>\n",
      "<value>*All*</value>\n",
      "</parameter>\n",
      "<parameter>\n",
      "<name>V_D149.V101</name>\n",
      "<value>*All*</value>\n",
      "</parameter>\n",
      "<parameter>\n",
      "<name>V_D149.V102</name>\n",
      "<value>*All*</value>\n",
      "</parameter>\n",
      "<parameter>\n",
      "<name>V_D149.V103</name>\n",
      "<value>*All*</value>\n",
      "</parameter>\n",
      "<parameter>\n",
      "<name>V_D149.V104</name>\n",
      "<value>*All*</value>\n",
      "</parameter>\n",
      "<parameter>\n",
      "<name>V_D149.V105</name>\n",
      "<value>*All*</value>\n",
      "</parameter>\n",
      "<parameter>\n",
      "<name>V_D149.V106</name>\n",
      "<value>*All*</value>\n",
      "</parameter>\n",
      "<parameter>\n",
      "<name>V_D149.V107</name>\n",
      "<value>*All*</value>\n",
      "</parameter>\n",
      "<parameter>\n",
      "<name>V_D149.V108</name>\n",
      "<value>*All*</value>\n",
      "</parameter>\n",
      "<parameter>\n",
      "<name>V_D149.V109</name>\n",
      "<value>*All*</value>\n",
      "</parameter>\n",
      "<parameter>\n",
      "<name>V_D149.V110</name>\n",
      "<value>*All*</value>\n",
      "</parameter>\n",
      "<parameter>\n",
      "<name>V_D149.V111</name>\n",
      "<value>*All*</value>\n",
      "</parameter>\n",
      "<parameter>\n",
      "<name>V_D149.V112</name>\n",
      "<value>*All*</value>\n",
      "</parameter>\n",
      "<parameter>\n",
      "<name>V_D149.V113</name>\n",
      "<value>*All*</value>\n",
      "</parameter>\n",
      "<parameter>\n",
      "<name>V_D149.V114</name>\n",
      "<value>*All*</value>\n",
      "</parameter>\n",
      "<parameter>\n",
      "<name>V_D149.V115</name>\n",
      "<value>*All*</value>\n",
      "</parameter>\n",
      "<parameter>\n",
      "<name>V_D149.V116</name>\n",
      "<value>*All*</value>\n",
      "</parameter>\n",
      "<parameter>\n",
      "<name>V_D149.V117</name>\n",
      "<value>*All*</value>\n",
      "</parameter>\n",
      "<parameter>\n",
      "<name>V_D149.V118</name>\n",
      "<value>*All*</value>\n",
      "</parameter>\n",
      "<parameter>\n",
      "<name>V_D149.V119</name>\n",
      "<value>*All*</value>\n",
      "</parameter>\n",
      "<parameter>\n",
      "<name>V_D149.V120</name>\n",
      "<value>*All*</value>\n",
      "</parameter>\n",
      "<parameter>\n",
      "<name>V_D149.V121</name>\n",
      "<value>*All*</value>\n",
      "</parameter>\n",
      "<parameter>\n",
      "<name>V_D149.V122</name>\n",
      "<value>*All*</value>\n",
      "</parameter>\n",
      "<parameter>\n",
      "<name>V_D149.V123</name>\n",
      "<value>*All*</value>\n",
      "</parameter>\n",
      "<parameter>\n",
      "<name>V_D149.V124</name>\n",
      "<value>*All*</value>\n",
      "</parameter>\n",
      "<parameter>\n",
      "<name>V_D149.V125</name>\n",
      "<value>*All*</value>\n",
      "</parameter>\n",
      "<parameter>\n",
      "<name>V_D149.V126</name>\n",
      "<value>*All*</value>\n",
      "</parameter>\n",
      "<parameter>\n",
      "<name>V_D149.V127</name>\n",
      "<value>*All*</value>\n",
      "</parameter>\n",
      "<parameter>\n",
      "<name>V_D149.V128</name>\n",
      "<value>*All*</value>\n",
      "</parameter>\n",
      "<parameter>\n",
      "<name>V_D149.V129</name>\n",
      "<value>*All*</value>\n",
      "</parameter>\n",
      "<parameter>\n",
      "<name>V_D149.V130</name>\n",
      "<value>*All*</value>\n",
      "</parameter>\n",
      "<parameter>\n",
      "<name>V_D149.V131</name>\n",
      "<value>*All*</value>\n",
      "</parameter>\n",
      "<parameter>\n",
      "<name>V_D149.V132</name>\n",
      "<value>*All*</value>\n",
      "</parameter>\n",
      "<parameter>\n",
      "<name>V_D149.V133</name>\n",
      "<value>*All*</value>\n",
      "</parameter>\n",
      "<parameter>\n",
      "<name>V_D149.V134</name>\n",
      "<value>*All*</value>\n",
      "</parameter>\n",
      "<parameter>\n",
      "<name>V_D149.V135</name>\n",
      "<value>*All*</value>\n",
      "</parameter>\n",
      "<parameter>\n",
      "<name>V_D149.V136</name>\n",
      "<value>*All*</value>\n",
      "</parameter>\n",
      "<parameter>\n",
      "<name>V_D149.V137</name>\n",
      "<value>*All*</value>\n",
      "</parameter>\n",
      "<parameter>\n",
      "<name>V_D149.V138</name>\n",
      "<value>*All*</value>\n",
      "</parameter>\n",
      "<parameter>\n",
      "<name>V_D149.V139</name>\n",
      "<value>*All*</value>\n",
      "</parameter>\n",
      "<parameter>\n",
      "<name>V_D149.V140</name>\n",
      "<value>*All*</value>\n",
      "</parameter>\n",
      "<parameter>\n",
      "<name>V_D149.V141</name>\n",
      "<value>*All*</value>\n",
      "</parameter>\n",
      "<parameter>\n",
      "<name>V_D149.V142</name>\n",
      "<value>*All*</value>\n",
      "</parameter>\n",
      "<parameter>\n",
      "<name>V_D149.V143</name>\n",
      "<value>*All*</value>\n",
      "</parameter>\n",
      "<parameter>\n",
      "<name>V_D149.V144</name>\n",
      "<value>*All*</value>\n",
      "</parameter>\n",
      "<parameter>\n",
      "<name>V_D149.V145</name>\n",
      "<value>*All*</value>\n",
      "</parameter>\n",
      "<parameter>\n",
      "<name>V_D149.V146</name>\n",
      "<value>*All*</value>\n",
      "</parameter>\n",
      "<parameter>\n",
      "<name>V_D149.V147</name>\n",
      "<value>*All*</value>\n",
      "</parameter>\n",
      "<parameter>\n",
      "<name>V_D149.V149</name>\n",
      "<value>*All*</value>\n",
      "</parameter>\n",
      "<parameter>\n",
      "<name>V_D149.V150</name>\n",
      "<value>*All*</value>\n",
      "</parameter>\n",
      "<parameter>\n",
      "<name>V_D149.V151</name>\n",
      "<value>*All*</value>\n",
      "</parameter>\n",
      "<parameter>\n",
      "<name>V_D149.V152</name>\n",
      "<value>*All*</value>\n",
      "</parameter>\n",
      "<parameter>\n",
      "<name>V_D149.V153</name>\n",
      "<value>*All*</value>\n",
      "</parameter>\n",
      "<parameter>\n",
      "<name>V_D149.V154</name>\n",
      "<value>*All*</value>\n",
      "</parameter>\n",
      "<parameter>\n",
      "<name>V_D149.V155</name>\n",
      "<value>*All*</value>\n",
      "</parameter>\n",
      "<parameter>\n",
      "<name>V_D149.V156</name>\n",
      "<value>*All*</value>\n",
      "</parameter>\n",
      "<parameter>\n",
      "<name>V_D149.V157</name>\n",
      "<value>*All*</value>\n",
      "</parameter>\n",
      "<parameter>\n",
      "<name>V_D149.V16</name>\n",
      "<value>*All*</value>\n",
      "</parameter>\n",
      "<parameter>\n",
      "<name>V_D149.V17</name>\n",
      "<value>*All*</value>\n",
      "</parameter>\n",
      "<parameter>\n",
      "<name>V_D149.V18</name>\n",
      "<value>*All*</value>\n",
      "</parameter>\n",
      "<parameter>\n",
      "<name>V_D149.V20</name>\n",
      "<value>*All*</value>\n",
      "</parameter>\n",
      "<parameter>\n",
      "<name>V_D149.V23</name>\n",
      "<value>*All*</value>\n",
      "</parameter>\n",
      "<parameter>\n",
      "<name>V_D149.V24</name>\n",
      "<value>*All*</value>\n",
      "</parameter>\n",
      "<parameter>\n",
      "<name>V_D149.V25</name>\n",
      "<value>*All*</value>\n",
      "</parameter>\n",
      "<parameter>\n",
      "<name>V_D149.V26</name>\n",
      "<value>*All*</value>\n",
      "</parameter>\n",
      "<parameter>\n",
      "<name>V_D149.V27</name>\n",
      "<value>*All*</value>\n",
      "</parameter>\n",
      "<parameter>\n",
      "<name>V_D149.V28</name>\n",
      "<value>*All*</value>\n",
      "</parameter>\n",
      "<parameter>\n",
      "<name>V_D149.V29</name>\n",
      "<value>*All*</value>\n",
      "</parameter>\n",
      "<parameter>\n",
      "<name>V_D149.V3</name>\n",
      "<value>*All*</value>\n",
      "</parameter>\n",
      "<parameter>\n",
      "<name>V_D149.V30</name>\n",
      "<value>*All*</value>\n",
      "</parameter>\n",
      "<parameter>\n",
      "<name>V_D149.V31</name>\n",
      "<value>*All*</value>\n",
      "</parameter>\n",
      "<parameter>\n",
      "<name>V_D149.V32</name>\n",
      "<value>*All*</value>\n",
      "</parameter>\n",
      "<parameter>\n",
      "<name>V_D149.V33</name>\n",
      "<value>*All*</value>\n",
      "</parameter>\n",
      "<parameter>\n",
      "<name>V_D149.V34</name>\n",
      "<value>*All*</value>\n",
      "</parameter>\n",
      "<parameter>\n",
      "<name>V_D149.V35</name>\n",
      "<value>*All*</value>\n",
      "</parameter>\n",
      "<parameter>\n",
      "<name>V_D149.V38</name>\n",
      "<value>*All*</value>\n",
      "</parameter>\n",
      "<parameter>\n",
      "<name>V_D149.V39</name>\n",
      "<value>*All*</value>\n",
      "</parameter>\n",
      "<parameter>\n",
      "<name>V_D149.V4</name>\n",
      "<value>*All*</value>\n",
      "</parameter>\n",
      "<parameter>\n",
      "<name>V_D149.V41</name>\n",
      "<value>*All*</value>\n",
      "</parameter>\n",
      "<parameter>\n",
      "<name>V_D149.V42</name>\n",
      "<value>*All*</value>\n",
      "</parameter>\n",
      "<parameter>\n",
      "<name>V_D149.V43</name>\n",
      "<value>*All*</value>\n",
      "</parameter>\n",
      "<parameter>\n",
      "<name>V_D149.V44</name>\n",
      "<value>*All*</value>\n",
      "</parameter>\n",
      "<parameter>\n",
      "<name>V_D149.V45</name>\n",
      "<value>*All*</value>\n",
      "</parameter>\n",
      "<parameter>\n",
      "<name>V_D149.V46</name>\n",
      "<value>*All*</value>\n",
      "</parameter>\n",
      "<parameter>\n",
      "<name>V_D149.V47</name>\n",
      "<value>*All*</value>\n",
      "</parameter>\n",
      "<parameter>\n",
      "<name>V_D149.V48</name>\n",
      "<value>*All*</value>\n",
      "</parameter>\n",
      "<parameter>\n",
      "<name>V_D149.V49</name>\n",
      "<value>*All*</value>\n",
      "</parameter>\n",
      "<parameter>\n",
      "<name>V_D149.V5</name>\n",
      "<value>*All*</value>\n",
      "</parameter>\n",
      "<parameter>\n",
      "<name>V_D149.V50</name>\n",
      "<value>*All*</value>\n",
      "</parameter>\n",
      "<parameter>\n",
      "<name>V_D149.V51</name>\n",
      "<value>*All*</value>\n",
      "</parameter>\n",
      "<parameter>\n",
      "<name>V_D149.V52</name>\n",
      "<value>*All*</value>\n",
      "</parameter>\n",
      "<parameter>\n",
      "<name>V_D149.V53</name>\n",
      "<value>*All*</value>\n",
      "</parameter>\n",
      "<parameter>\n",
      "<name>V_D149.V54</name>\n",
      "<value>*All*</value>\n",
      "</parameter>\n",
      "<parameter>\n",
      "<name>V_D149.V55</name>\n",
      "<value>*All*</value>\n",
      "</parameter>\n",
      "<parameter>\n",
      "<name>V_D149.V56</name>\n",
      "<value>*All*</value>\n",
      "</parameter>\n",
      "<parameter>\n",
      "<name>V_D149.V57</name>\n",
      "<value>*All*</value>\n",
      "</parameter>\n",
      "<parameter>\n",
      "<name>V_D149.V58</name>\n",
      "<value>*All*</value>\n",
      "</parameter>\n",
      "<parameter>\n",
      "<name>V_D149.V59</name>\n",
      "<value>*All*</value>\n",
      "</parameter>\n",
      "<parameter>\n",
      "<name>V_D149.V6</name>\n",
      "<value>*All*</value>\n",
      "</parameter>\n",
      "<parameter>\n",
      "<name>V_D149.V60</name>\n",
      "<value>*All*</value>\n",
      "</parameter>\n",
      "<parameter>\n",
      "<name>V_D149.V61</name>\n",
      "<value>*All*</value>\n",
      "</parameter>\n",
      "<parameter>\n",
      "<name>V_D149.V62</name>\n",
      "<value>*All*</value>\n",
      "</parameter>\n",
      "<parameter>\n",
      "<name>V_D149.V63</name>\n",
      "<value>*All*</value>\n",
      "</parameter>\n",
      "<parameter>\n",
      "<name>V_D149.V64</name>\n",
      "<value>*All*</value>\n",
      "</parameter>\n",
      "<parameter>\n",
      "<name>V_D149.V65</name>\n",
      "<value>*All*</value>\n",
      "</parameter>\n",
      "<parameter>\n",
      "<name>V_D149.V66</name>\n",
      "<value>*All*</value>\n",
      "</parameter>\n",
      "<parameter>\n",
      "<name>V_D149.V7</name>\n",
      "<value>*All*</value>\n",
      "</parameter>\n",
      "<parameter>\n",
      "<name>V_D149.V70</name>\n",
      "<value>*All*</value>\n",
      "</parameter>\n",
      "<parameter>\n",
      "<name>V_D149.V71</name>\n",
      "<value>1</value>\n",
      "<value>2</value>\n",
      "<value>3</value>\n",
      "<value>4</value>\n",
      "<value>5</value>\n",
      "<value>6</value>\n",
      "</parameter>\n",
      "<parameter>\n",
      "<name>V_D149.V73</name>\n",
      "<value>*All*</value>\n",
      "</parameter>\n",
      "<parameter>\n",
      "<name>V_D149.V74</name>\n",
      "<value>*All*</value>\n",
      "</parameter>\n",
      "<parameter>\n",
      "<name>V_D149.V75</name>\n",
      "<value>*All*</value>\n",
      "</parameter>\n",
      "<parameter>\n",
      "<name>V_D149.V76</name>\n",
      "<value>*All*</value>\n",
      "</parameter>\n",
      "<parameter>\n",
      "<name>V_D149.V77</name>\n",
      "<value>*All*</value>\n",
      "</parameter>\n",
      "<parameter>\n",
      "<name>V_D149.V78</name>\n",
      "<value>*All*</value>\n",
      "</parameter>\n",
      "<parameter>\n",
      "<name>V_D149.V79</name>\n",
      "<value>*All*</value>\n",
      "</parameter>\n",
      "<parameter>\n",
      "<name>V_D149.V8</name>\n",
      "<value>*All*</value>\n",
      "</parameter>\n",
      "<parameter>\n",
      "<name>V_D149.V80</name>\n",
      "<value>*All*</value>\n",
      "</parameter>\n",
      "<parameter>\n",
      "<name>V_D149.V81</name>\n",
      "<value>*All*</value>\n",
      "</parameter>\n",
      "<parameter>\n",
      "<name>V_D149.V82</name>\n",
      "<value>*All*</value>\n",
      "</parameter>\n",
      "<parameter>\n",
      "<name>V_D149.V83</name>\n",
      "<value>*All*</value>\n",
      "</parameter>\n",
      "<parameter>\n",
      "<name>V_D149.V84</name>\n",
      "<value>*All*</value>\n",
      "</parameter>\n",
      "<parameter>\n",
      "<name>V_D149.V85</name>\n",
      "<value>*All*</value>\n",
      "</parameter>\n",
      "<parameter>\n",
      "<name>V_D149.V86</name>\n",
      "<value>*All*</value>\n",
      "</parameter>\n",
      "<parameter>\n",
      "<name>V_D149.V87</name>\n",
      "<value>*All*</value>\n",
      "</parameter>\n",
      "<parameter>\n",
      "<name>V_D149.V88</name>\n",
      "<value>*All*</value>\n",
      "</parameter>\n",
      "<parameter>\n",
      "<name>V_D149.V89</name>\n",
      "<value>*All*</value>\n",
      "</parameter>\n",
      "<parameter>\n",
      "<name>V_D149.V9</name>\n",
      "<value>*All*</value>\n",
      "</parameter>\n",
      "<parameter>\n",
      "<name>V_D149.V90</name>\n",
      "<value>*All*</value>\n",
      "</parameter>\n",
      "<parameter>\n",
      "<name>V_D149.V91</name>\n",
      "<value>1</value>\n",
      "<value>2</value>\n",
      "</parameter>\n",
      "<parameter>\n",
      "<name>V_D149.V92</name>\n",
      "<value>*All*</value>\n",
      "</parameter>\n",
      "<parameter>\n",
      "<name>V_D149.V93</name>\n",
      "<value>*All*</value>\n",
      "</parameter>\n",
      "<parameter>\n",
      "<name>V_D149.V94</name>\n",
      "<value>*All*</value>\n",
      "</parameter>\n",
      "<parameter>\n",
      "<name>V_D149.V95</name>\n",
      "<value>*All*</value>\n",
      "</parameter>\n",
      "<parameter>\n",
      "<name>V_D149.V96</name>\n",
      "<value>*All*</value>\n",
      "</parameter>\n",
      "<parameter>\n",
      "<name>V_D149.V97</name>\n",
      "<value>*All*</value>\n",
      "</parameter>\n",
      "<parameter>\n",
      "<name>V_D149.V98</name>\n",
      "<value>*All*</value>\n",
      "</parameter>\n",
      "<parameter>\n",
      "<name>V_D149.V99</name>\n",
      "<value>*All*</value>\n",
      "</parameter>\n",
      "<parameter>\n",
      "<name>action-Send</name>\n",
      "<value>Send</value>\n",
      "</parameter>\n",
      "<parameter>\n",
      "<name>dataset_code</name>\n",
      "<value>D149</value>\n",
      "</parameter>\n",
      "<parameter>\n",
      "<name>dataset_label</name>\n",
      "<value>Natality, 2016-2021 expanded</value>\n",
      "</parameter>\n",
      "<parameter>\n",
      "<name>dataset_vintage</name>\n",
      "<value>2021</value>\n",
      "</parameter>\n",
      "<parameter>\n",
      "<name>finder-stage-D149.V21</name>\n",
      "<value>codeset</value>\n",
      "</parameter>\n",
      "<parameter>\n",
      "<name>finder-stage-D149.V22</name>\n",
      "<value>codeset</value>\n",
      "</parameter>\n",
      "<parameter>\n",
      "<name>finder-stage-D149.V37</name>\n",
      "<value>codeset</value>\n",
      "</parameter>\n",
      "<parameter>\n",
      "<name>saved_id</name>\n",
      "<value></value>\n",
      "</parameter>\n",
      "<parameter>\n",
      "<name>stage</name>\n",
      "<value>request</value>\n",
      "</parameter>\n",
      "</request-parameters>\n",
      "2023-03-17 13:45:15,173 - urllib3.connectionpool - _new_conn - DEBUG - Starting new HTTPS connection (1): wonder.cdc.gov:443\n",
      "2023-03-17 13:45:32,894 - urllib3.connectionpool - _make_request - DEBUG - https://wonder.cdc.gov:443 \"POST /controller/datarequest/D149 HTTP/1.1\" 200 159251\n",
      "2023-03-17 13:45:36,018 - root - _createXMLRequest - INFO - the xml sent to api is as below\n",
      "2023-03-17 13:45:36,018 - root - _createXMLRequest - DEBUG - <request-parameters>\n",
      "<parameter>\n",
      "<name>B_1</name>\n",
      "<value>D149.V71</value>\n",
      "</parameter>\n",
      "<parameter>\n",
      "<name>B_2</name>\n",
      "<value>D149.V94</value>\n",
      "</parameter>\n",
      "<parameter>\n",
      "<name>B_3</name>\n",
      "<value>*None*</value>\n",
      "</parameter>\n",
      "<parameter>\n",
      "<name>B_4</name>\n",
      "<value>*None*</value>\n",
      "</parameter>\n",
      "<parameter>\n",
      "<name>B_5</name>\n",
      "<value>*None*</value>\n",
      "</parameter>\n",
      "<parameter>\n",
      "<name>F_D149.V21</name>\n",
      "<value>*All*</value>\n",
      "</parameter>\n",
      "<parameter>\n",
      "<name>F_D149.V22</name>\n",
      "<value>*All*</value>\n",
      "</parameter>\n",
      "<parameter>\n",
      "<name>F_D149.V37</name>\n",
      "<value>*All*</value>\n",
      "</parameter>\n",
      "<parameter>\n",
      "<name>I_D149.V21</name>\n",
      "<value>*All*  (The United States)</value>\n",
      "</parameter>\n",
      "<parameter>\n",
      "<name>I_D149.V22</name>\n",
      "<value>*All*  (The United States)</value>\n",
      "</parameter>\n",
      "<parameter>\n",
      "<name>I_D149.V37</name>\n",
      "<value>*All*  (The United States)</value>\n",
      "</parameter>\n",
      "<parameter>\n",
      "<name>M_002</name>\n",
      "<value>D149.M002</value>\n",
      "</parameter>\n",
      "<parameter>\n",
      "<name>O_V21_fmode</name>\n",
      "<value>freg</value>\n",
      "</parameter>\n",
      "<parameter>\n",
      "<name>O_V22_fmode</name>\n",
      "<value>freg</value>\n",
      "</parameter>\n",
      "<parameter>\n",
      "<name>O_V37_fmode</name>\n",
      "<value>freg</value>\n",
      "</parameter>\n",
      "<parameter>\n",
      "<name>O_age</name>\n",
      "<value>D149.V1</value>\n",
      "</parameter>\n",
      "<parameter>\n",
      "<name>O_apgar10</name>\n",
      "<value>D149.V113</value>\n",
      "</parameter>\n",
      "<parameter>\n",
      "<name>O_apgar5</name>\n",
      "<value>D149.V111</value>\n",
      "</parameter>\n",
      "<parameter>\n",
      "<name>O_cig_before</name>\n",
      "<value>D149.V143</value>\n",
      "</parameter>\n",
      "<parameter>\n",
      "<name>O_cig_trim1</name>\n",
      "<value>D149.V144</value>\n",
      "</parameter>\n",
      "<parameter>\n",
      "<name>O_cig_trim2</name>\n",
      "<value>D149.V145</value>\n",
      "</parameter>\n",
      "<parameter>\n",
      "<name>O_cig_trim3</name>\n",
      "<value>D149.V146</value>\n",
      "</parameter>\n",
      "<parameter>\n",
      "<name>O_delivery</name>\n",
      "<value>D149.V101</value>\n",
      "</parameter>\n",
      "<parameter>\n",
      "<name>O_f_ethnicity</name>\n",
      "<value>D149.V53</value>\n",
      "</parameter>\n",
      "<parameter>\n",
      "<name>O_frace</name>\n",
      "<value>D149.V54</value>\n",
      "</parameter>\n",
      "<parameter>\n",
      "<name>O_gestation</name>\n",
      "<value>D149.V6</value>\n",
      "</parameter>\n",
      "<parameter>\n",
      "<name>O_javascript</name>\n",
      "<value>on</value>\n",
      "</parameter>\n",
      "<parameter>\n",
      "<name>O_location</name>\n",
      "<value>D149.V21</value>\n",
      "</parameter>\n",
      "<parameter>\n",
      "<name>O_m_ethnicity</name>\n",
      "<value>D149.V43</value>\n",
      "</parameter>\n",
      "<parameter>\n",
      "<name>O_oc-sect1-request</name>\n",
      "<value>close</value>\n",
      "</parameter>\n",
      "<parameter>\n",
      "<name>O_oe_gestation</name>\n",
      "<value>D149.V32</value>\n",
      "</parameter>\n",
      "<parameter>\n",
      "<name>O_pay</name>\n",
      "<value>D149.V110</value>\n",
      "</parameter>\n",
      "<parameter>\n",
      "<name>O_place</name>\n",
      "<value>D149.V45</value>\n",
      "</parameter>\n",
      "<parameter>\n",
      "<name>O_precision</name>\n",
      "<value>2</value>\n",
      "</parameter>\n",
      "<parameter>\n",
      "<name>O_prenatal</name>\n",
      "<value>D149.V63</value>\n",
      "</parameter>\n",
      "<parameter>\n",
      "<name>O_prenatal2</name>\n",
      "<value>D149.V65</value>\n",
      "</parameter>\n",
      "<parameter>\n",
      "<name>O_race</name>\n",
      "<value>D149.V42</value>\n",
      "</parameter>\n",
      "<parameter>\n",
      "<name>O_rate_per</name>\n",
      "<value>1000</value>\n",
      "</parameter>\n",
      "<parameter>\n",
      "<name>O_show_suppressed</name>\n",
      "<value>false</value>\n",
      "</parameter>\n",
      "<parameter>\n",
      "<name>O_show_totals</name>\n",
      "<value>true</value>\n",
      "</parameter>\n",
      "<parameter>\n",
      "<name>O_show_zeros</name>\n",
      "<value>false</value>\n",
      "</parameter>\n",
      "<parameter>\n",
      "<name>O_timeout</name>\n",
      "<value>600</value>\n",
      "</parameter>\n",
      "<parameter>\n",
      "<name>O_urban</name>\n",
      "<value>D149.V154</value>\n",
      "</parameter>\n",
      "<parameter>\n",
      "<name>O_weight</name>\n",
      "<value>D149.V9</value>\n",
      "</parameter>\n",
      "<parameter>\n",
      "<name>V_D149.V1</name>\n",
      "<value>*All*</value>\n",
      "</parameter>\n",
      "<parameter>\n",
      "<name>V_D149.V10</name>\n",
      "<value>*All*</value>\n",
      "</parameter>\n",
      "<parameter>\n",
      "<name>V_D149.V100</name>\n",
      "<value>*All*</value>\n",
      "</parameter>\n",
      "<parameter>\n",
      "<name>V_D149.V101</name>\n",
      "<value>*All*</value>\n",
      "</parameter>\n",
      "<parameter>\n",
      "<name>V_D149.V102</name>\n",
      "<value>*All*</value>\n",
      "</parameter>\n",
      "<parameter>\n",
      "<name>V_D149.V103</name>\n",
      "<value>*All*</value>\n",
      "</parameter>\n",
      "<parameter>\n",
      "<name>V_D149.V104</name>\n",
      "<value>*All*</value>\n",
      "</parameter>\n",
      "<parameter>\n",
      "<name>V_D149.V105</name>\n",
      "<value>*All*</value>\n",
      "</parameter>\n",
      "<parameter>\n",
      "<name>V_D149.V106</name>\n",
      "<value>*All*</value>\n",
      "</parameter>\n",
      "<parameter>\n",
      "<name>V_D149.V107</name>\n",
      "<value>*All*</value>\n",
      "</parameter>\n",
      "<parameter>\n",
      "<name>V_D149.V108</name>\n",
      "<value>*All*</value>\n",
      "</parameter>\n",
      "<parameter>\n",
      "<name>V_D149.V109</name>\n",
      "<value>*All*</value>\n",
      "</parameter>\n",
      "<parameter>\n",
      "<name>V_D149.V110</name>\n",
      "<value>*All*</value>\n",
      "</parameter>\n",
      "<parameter>\n",
      "<name>V_D149.V111</name>\n",
      "<value>*All*</value>\n",
      "</parameter>\n",
      "<parameter>\n",
      "<name>V_D149.V112</name>\n",
      "<value>*All*</value>\n",
      "</parameter>\n",
      "<parameter>\n",
      "<name>V_D149.V113</name>\n",
      "<value>*All*</value>\n",
      "</parameter>\n",
      "<parameter>\n",
      "<name>V_D149.V114</name>\n",
      "<value>*All*</value>\n",
      "</parameter>\n",
      "<parameter>\n",
      "<name>V_D149.V115</name>\n",
      "<value>*All*</value>\n",
      "</parameter>\n",
      "<parameter>\n",
      "<name>V_D149.V116</name>\n",
      "<value>*All*</value>\n",
      "</parameter>\n",
      "<parameter>\n",
      "<name>V_D149.V117</name>\n",
      "<value>*All*</value>\n",
      "</parameter>\n",
      "<parameter>\n",
      "<name>V_D149.V118</name>\n",
      "<value>*All*</value>\n",
      "</parameter>\n",
      "<parameter>\n",
      "<name>V_D149.V119</name>\n",
      "<value>*All*</value>\n",
      "</parameter>\n",
      "<parameter>\n",
      "<name>V_D149.V120</name>\n",
      "<value>*All*</value>\n",
      "</parameter>\n",
      "<parameter>\n",
      "<name>V_D149.V121</name>\n",
      "<value>*All*</value>\n",
      "</parameter>\n",
      "<parameter>\n",
      "<name>V_D149.V122</name>\n",
      "<value>*All*</value>\n",
      "</parameter>\n",
      "<parameter>\n",
      "<name>V_D149.V123</name>\n",
      "<value>*All*</value>\n",
      "</parameter>\n",
      "<parameter>\n",
      "<name>V_D149.V124</name>\n",
      "<value>*All*</value>\n",
      "</parameter>\n",
      "<parameter>\n",
      "<name>V_D149.V125</name>\n",
      "<value>*All*</value>\n",
      "</parameter>\n",
      "<parameter>\n",
      "<name>V_D149.V126</name>\n",
      "<value>*All*</value>\n",
      "</parameter>\n",
      "<parameter>\n",
      "<name>V_D149.V127</name>\n",
      "<value>*All*</value>\n",
      "</parameter>\n",
      "<parameter>\n",
      "<name>V_D149.V128</name>\n",
      "<value>*All*</value>\n",
      "</parameter>\n",
      "<parameter>\n",
      "<name>V_D149.V129</name>\n",
      "<value>*All*</value>\n",
      "</parameter>\n",
      "<parameter>\n",
      "<name>V_D149.V130</name>\n",
      "<value>*All*</value>\n",
      "</parameter>\n",
      "<parameter>\n",
      "<name>V_D149.V131</name>\n",
      "<value>*All*</value>\n",
      "</parameter>\n",
      "<parameter>\n",
      "<name>V_D149.V132</name>\n",
      "<value>*All*</value>\n",
      "</parameter>\n",
      "<parameter>\n",
      "<name>V_D149.V133</name>\n",
      "<value>*All*</value>\n",
      "</parameter>\n",
      "<parameter>\n",
      "<name>V_D149.V134</name>\n",
      "<value>*All*</value>\n",
      "</parameter>\n",
      "<parameter>\n",
      "<name>V_D149.V135</name>\n",
      "<value>*All*</value>\n",
      "</parameter>\n",
      "<parameter>\n",
      "<name>V_D149.V136</name>\n",
      "<value>*All*</value>\n",
      "</parameter>\n",
      "<parameter>\n",
      "<name>V_D149.V137</name>\n",
      "<value>*All*</value>\n",
      "</parameter>\n",
      "<parameter>\n",
      "<name>V_D149.V138</name>\n",
      "<value>*All*</value>\n",
      "</parameter>\n",
      "<parameter>\n",
      "<name>V_D149.V139</name>\n",
      "<value>*All*</value>\n",
      "</parameter>\n",
      "<parameter>\n",
      "<name>V_D149.V140</name>\n",
      "<value>*All*</value>\n",
      "</parameter>\n",
      "<parameter>\n",
      "<name>V_D149.V141</name>\n",
      "<value>*All*</value>\n",
      "</parameter>\n",
      "<parameter>\n",
      "<name>V_D149.V142</name>\n",
      "<value>*All*</value>\n",
      "</parameter>\n",
      "<parameter>\n",
      "<name>V_D149.V143</name>\n",
      "<value>*All*</value>\n",
      "</parameter>\n",
      "<parameter>\n",
      "<name>V_D149.V144</name>\n",
      "<value>*All*</value>\n",
      "</parameter>\n",
      "<parameter>\n",
      "<name>V_D149.V145</name>\n",
      "<value>*All*</value>\n",
      "</parameter>\n",
      "<parameter>\n",
      "<name>V_D149.V146</name>\n",
      "<value>*All*</value>\n",
      "</parameter>\n",
      "<parameter>\n",
      "<name>V_D149.V147</name>\n",
      "<value>*All*</value>\n",
      "</parameter>\n",
      "<parameter>\n",
      "<name>V_D149.V149</name>\n",
      "<value>*All*</value>\n",
      "</parameter>\n",
      "<parameter>\n",
      "<name>V_D149.V150</name>\n",
      "<value>*All*</value>\n",
      "</parameter>\n",
      "<parameter>\n",
      "<name>V_D149.V151</name>\n",
      "<value>*All*</value>\n",
      "</parameter>\n",
      "<parameter>\n",
      "<name>V_D149.V152</name>\n",
      "<value>*All*</value>\n",
      "</parameter>\n",
      "<parameter>\n",
      "<name>V_D149.V153</name>\n",
      "<value>*All*</value>\n",
      "</parameter>\n",
      "<parameter>\n",
      "<name>V_D149.V154</name>\n",
      "<value>*All*</value>\n",
      "</parameter>\n",
      "<parameter>\n",
      "<name>V_D149.V155</name>\n",
      "<value>*All*</value>\n",
      "</parameter>\n",
      "<parameter>\n",
      "<name>V_D149.V156</name>\n",
      "<value>*All*</value>\n",
      "</parameter>\n",
      "<parameter>\n",
      "<name>V_D149.V157</name>\n",
      "<value>*All*</value>\n",
      "</parameter>\n",
      "<parameter>\n",
      "<name>V_D149.V16</name>\n",
      "<value>*All*</value>\n",
      "</parameter>\n",
      "<parameter>\n",
      "<name>V_D149.V17</name>\n",
      "<value>*All*</value>\n",
      "</parameter>\n",
      "<parameter>\n",
      "<name>V_D149.V18</name>\n",
      "<value>*All*</value>\n",
      "</parameter>\n",
      "<parameter>\n",
      "<name>V_D149.V20</name>\n",
      "<value>*All*</value>\n",
      "</parameter>\n",
      "<parameter>\n",
      "<name>V_D149.V23</name>\n",
      "<value>*All*</value>\n",
      "</parameter>\n",
      "<parameter>\n",
      "<name>V_D149.V24</name>\n",
      "<value>*All*</value>\n",
      "</parameter>\n",
      "<parameter>\n",
      "<name>V_D149.V25</name>\n",
      "<value>*All*</value>\n",
      "</parameter>\n",
      "<parameter>\n",
      "<name>V_D149.V26</name>\n",
      "<value>*All*</value>\n",
      "</parameter>\n",
      "<parameter>\n",
      "<name>V_D149.V27</name>\n",
      "<value>*All*</value>\n",
      "</parameter>\n",
      "<parameter>\n",
      "<name>V_D149.V28</name>\n",
      "<value>*All*</value>\n",
      "</parameter>\n",
      "<parameter>\n",
      "<name>V_D149.V29</name>\n",
      "<value>*All*</value>\n",
      "</parameter>\n",
      "<parameter>\n",
      "<name>V_D149.V3</name>\n",
      "<value>*All*</value>\n",
      "</parameter>\n",
      "<parameter>\n",
      "<name>V_D149.V30</name>\n",
      "<value>*All*</value>\n",
      "</parameter>\n",
      "<parameter>\n",
      "<name>V_D149.V31</name>\n",
      "<value>*All*</value>\n",
      "</parameter>\n",
      "<parameter>\n",
      "<name>V_D149.V32</name>\n",
      "<value>*All*</value>\n",
      "</parameter>\n",
      "<parameter>\n",
      "<name>V_D149.V33</name>\n",
      "<value>*All*</value>\n",
      "</parameter>\n",
      "<parameter>\n",
      "<name>V_D149.V34</name>\n",
      "<value>*All*</value>\n",
      "</parameter>\n",
      "<parameter>\n",
      "<name>V_D149.V35</name>\n",
      "<value>*All*</value>\n",
      "</parameter>\n",
      "<parameter>\n",
      "<name>V_D149.V38</name>\n",
      "<value>*All*</value>\n",
      "</parameter>\n",
      "<parameter>\n",
      "<name>V_D149.V39</name>\n",
      "<value>*All*</value>\n",
      "</parameter>\n",
      "<parameter>\n",
      "<name>V_D149.V4</name>\n",
      "<value>*All*</value>\n",
      "</parameter>\n",
      "<parameter>\n",
      "<name>V_D149.V41</name>\n",
      "<value>*All*</value>\n",
      "</parameter>\n",
      "<parameter>\n",
      "<name>V_D149.V42</name>\n",
      "<value>*All*</value>\n",
      "</parameter>\n",
      "<parameter>\n",
      "<name>V_D149.V43</name>\n",
      "<value>*All*</value>\n",
      "</parameter>\n",
      "<parameter>\n",
      "<name>V_D149.V44</name>\n",
      "<value>*All*</value>\n",
      "</parameter>\n",
      "<parameter>\n",
      "<name>V_D149.V45</name>\n",
      "<value>*All*</value>\n",
      "</parameter>\n",
      "<parameter>\n",
      "<name>V_D149.V46</name>\n",
      "<value>*All*</value>\n",
      "</parameter>\n",
      "<parameter>\n",
      "<name>V_D149.V47</name>\n",
      "<value>*All*</value>\n",
      "</parameter>\n",
      "<parameter>\n",
      "<name>V_D149.V48</name>\n",
      "<value>*All*</value>\n",
      "</parameter>\n",
      "<parameter>\n",
      "<name>V_D149.V49</name>\n",
      "<value>*All*</value>\n",
      "</parameter>\n",
      "<parameter>\n",
      "<name>V_D149.V5</name>\n",
      "<value>*All*</value>\n",
      "</parameter>\n",
      "<parameter>\n",
      "<name>V_D149.V50</name>\n",
      "<value>*All*</value>\n",
      "</parameter>\n",
      "<parameter>\n",
      "<name>V_D149.V51</name>\n",
      "<value>*All*</value>\n",
      "</parameter>\n",
      "<parameter>\n",
      "<name>V_D149.V52</name>\n",
      "<value>*All*</value>\n",
      "</parameter>\n",
      "<parameter>\n",
      "<name>V_D149.V53</name>\n",
      "<value>*All*</value>\n",
      "</parameter>\n",
      "<parameter>\n",
      "<name>V_D149.V54</name>\n",
      "<value>*All*</value>\n",
      "</parameter>\n",
      "<parameter>\n",
      "<name>V_D149.V55</name>\n",
      "<value>*All*</value>\n",
      "</parameter>\n",
      "<parameter>\n",
      "<name>V_D149.V56</name>\n",
      "<value>*All*</value>\n",
      "</parameter>\n",
      "<parameter>\n",
      "<name>V_D149.V57</name>\n",
      "<value>*All*</value>\n",
      "</parameter>\n",
      "<parameter>\n",
      "<name>V_D149.V58</name>\n",
      "<value>*All*</value>\n",
      "</parameter>\n",
      "<parameter>\n",
      "<name>V_D149.V59</name>\n",
      "<value>*All*</value>\n",
      "</parameter>\n",
      "<parameter>\n",
      "<name>V_D149.V6</name>\n",
      "<value>*All*</value>\n",
      "</parameter>\n",
      "<parameter>\n",
      "<name>V_D149.V60</name>\n",
      "<value>*All*</value>\n",
      "</parameter>\n",
      "<parameter>\n",
      "<name>V_D149.V61</name>\n",
      "<value>*All*</value>\n",
      "</parameter>\n",
      "<parameter>\n",
      "<name>V_D149.V62</name>\n",
      "<value>*All*</value>\n",
      "</parameter>\n",
      "<parameter>\n",
      "<name>V_D149.V63</name>\n",
      "<value>*All*</value>\n",
      "</parameter>\n",
      "<parameter>\n",
      "<name>V_D149.V64</name>\n",
      "<value>*All*</value>\n",
      "</parameter>\n",
      "<parameter>\n",
      "<name>V_D149.V65</name>\n",
      "<value>*All*</value>\n",
      "</parameter>\n",
      "<parameter>\n",
      "<name>V_D149.V66</name>\n",
      "<value>*All*</value>\n",
      "</parameter>\n",
      "<parameter>\n",
      "<name>V_D149.V7</name>\n",
      "<value>*All*</value>\n",
      "</parameter>\n",
      "<parameter>\n",
      "<name>V_D149.V70</name>\n",
      "<value>*All*</value>\n",
      "</parameter>\n",
      "<parameter>\n",
      "<name>V_D149.V71</name>\n",
      "<value>1</value>\n",
      "<value>2</value>\n",
      "<value>3</value>\n",
      "<value>4</value>\n",
      "<value>5</value>\n",
      "<value>6</value>\n",
      "</parameter>\n",
      "<parameter>\n",
      "<name>V_D149.V73</name>\n",
      "<value>*All*</value>\n",
      "</parameter>\n",
      "<parameter>\n",
      "<name>V_D149.V74</name>\n",
      "<value>*All*</value>\n",
      "</parameter>\n",
      "<parameter>\n",
      "<name>V_D149.V75</name>\n",
      "<value>*All*</value>\n",
      "</parameter>\n",
      "<parameter>\n",
      "<name>V_D149.V76</name>\n",
      "<value>*All*</value>\n",
      "</parameter>\n",
      "<parameter>\n",
      "<name>V_D149.V77</name>\n",
      "<value>*All*</value>\n",
      "</parameter>\n",
      "<parameter>\n",
      "<name>V_D149.V78</name>\n",
      "<value>*All*</value>\n",
      "</parameter>\n",
      "<parameter>\n",
      "<name>V_D149.V79</name>\n",
      "<value>*All*</value>\n",
      "</parameter>\n",
      "<parameter>\n",
      "<name>V_D149.V8</name>\n",
      "<value>*All*</value>\n",
      "</parameter>\n",
      "<parameter>\n",
      "<name>V_D149.V80</name>\n",
      "<value>*All*</value>\n",
      "</parameter>\n",
      "<parameter>\n",
      "<name>V_D149.V81</name>\n",
      "<value>*All*</value>\n",
      "</parameter>\n",
      "<parameter>\n",
      "<name>V_D149.V82</name>\n",
      "<value>*All*</value>\n",
      "</parameter>\n",
      "<parameter>\n",
      "<name>V_D149.V83</name>\n",
      "<value>*All*</value>\n",
      "</parameter>\n",
      "<parameter>\n",
      "<name>V_D149.V84</name>\n",
      "<value>*All*</value>\n",
      "</parameter>\n",
      "<parameter>\n",
      "<name>V_D149.V85</name>\n",
      "<value>*All*</value>\n",
      "</parameter>\n",
      "<parameter>\n",
      "<name>V_D149.V86</name>\n",
      "<value>*All*</value>\n",
      "</parameter>\n",
      "<parameter>\n",
      "<name>V_D149.V87</name>\n",
      "<value>*All*</value>\n",
      "</parameter>\n",
      "<parameter>\n",
      "<name>V_D149.V88</name>\n",
      "<value>*All*</value>\n",
      "</parameter>\n",
      "<parameter>\n",
      "<name>V_D149.V89</name>\n",
      "<value>*All*</value>\n",
      "</parameter>\n",
      "<parameter>\n",
      "<name>V_D149.V9</name>\n",
      "<value>*All*</value>\n",
      "</parameter>\n",
      "<parameter>\n",
      "<name>V_D149.V90</name>\n",
      "<value>*All*</value>\n",
      "</parameter>\n",
      "<parameter>\n",
      "<name>V_D149.V91</name>\n",
      "<value>*All*</value>\n",
      "</parameter>\n",
      "<parameter>\n",
      "<name>V_D149.V92</name>\n",
      "<value>*All*</value>\n",
      "</parameter>\n",
      "<parameter>\n",
      "<name>V_D149.V93</name>\n",
      "<value>*All*</value>\n",
      "</parameter>\n",
      "<parameter>\n",
      "<name>V_D149.V94</name>\n",
      "<value>1</value>\n",
      "<value>2</value>\n",
      "</parameter>\n",
      "<parameter>\n",
      "<name>V_D149.V95</name>\n",
      "<value>*All*</value>\n",
      "</parameter>\n",
      "<parameter>\n",
      "<name>V_D149.V96</name>\n",
      "<value>*All*</value>\n",
      "</parameter>\n",
      "<parameter>\n",
      "<name>V_D149.V97</name>\n",
      "<value>*All*</value>\n",
      "</parameter>\n",
      "<parameter>\n",
      "<name>V_D149.V98</name>\n",
      "<value>*All*</value>\n",
      "</parameter>\n",
      "<parameter>\n",
      "<name>V_D149.V99</name>\n",
      "<value>*All*</value>\n",
      "</parameter>\n",
      "<parameter>\n",
      "<name>action-Send</name>\n",
      "<value>Send</value>\n",
      "</parameter>\n",
      "<parameter>\n",
      "<name>dataset_code</name>\n",
      "<value>D149</value>\n",
      "</parameter>\n",
      "<parameter>\n",
      "<name>dataset_label</name>\n",
      "<value>Natality, 2016-2021 expanded</value>\n",
      "</parameter>\n",
      "<parameter>\n",
      "<name>dataset_vintage</name>\n",
      "<value>2021</value>\n",
      "</parameter>\n",
      "<parameter>\n",
      "<name>finder-stage-D149.V21</name>\n",
      "<value>codeset</value>\n",
      "</parameter>\n",
      "<parameter>\n",
      "<name>finder-stage-D149.V22</name>\n",
      "<value>codeset</value>\n",
      "</parameter>\n",
      "<parameter>\n",
      "<name>finder-stage-D149.V37</name>\n",
      "<value>codeset</value>\n",
      "</parameter>\n",
      "<parameter>\n",
      "<name>saved_id</name>\n",
      "<value></value>\n",
      "</parameter>\n",
      "<parameter>\n",
      "<name>stage</name>\n",
      "<value>request</value>\n",
      "</parameter>\n",
      "</request-parameters>\n",
      "2023-03-17 13:45:36,021 - urllib3.connectionpool - _new_conn - DEBUG - Starting new HTTPS connection (1): wonder.cdc.gov:443\n",
      "2023-03-17 13:45:46,610 - urllib3.connectionpool - _make_request - DEBUG - https://wonder.cdc.gov:443 \"POST /controller/datarequest/D149 HTTP/1.1\" 200 159249\n",
      "2023-03-17 13:45:49,572 - root - _createXMLRequest - INFO - the xml sent to api is as below\n",
      "2023-03-17 13:45:49,573 - root - _createXMLRequest - DEBUG - <request-parameters>\n",
      "<parameter>\n",
      "<name>B_1</name>\n",
      "<value>D149.V71</value>\n",
      "</parameter>\n",
      "<parameter>\n",
      "<name>B_2</name>\n",
      "<value>*None*</value>\n",
      "</parameter>\n",
      "<parameter>\n",
      "<name>B_3</name>\n",
      "<value>*None*</value>\n",
      "</parameter>\n",
      "<parameter>\n",
      "<name>B_4</name>\n",
      "<value>*None*</value>\n",
      "</parameter>\n",
      "<parameter>\n",
      "<name>B_5</name>\n",
      "<value>*None*</value>\n",
      "</parameter>\n",
      "<parameter>\n",
      "<name>F_D149.V21</name>\n",
      "<value>*All*</value>\n",
      "</parameter>\n",
      "<parameter>\n",
      "<name>F_D149.V22</name>\n",
      "<value>*All*</value>\n",
      "</parameter>\n",
      "<parameter>\n",
      "<name>F_D149.V37</name>\n",
      "<value>*All*</value>\n",
      "</parameter>\n",
      "<parameter>\n",
      "<name>I_D149.V21</name>\n",
      "<value>*All*  (The United States)</value>\n",
      "</parameter>\n",
      "<parameter>\n",
      "<name>I_D149.V22</name>\n",
      "<value>*All*  (The United States)</value>\n",
      "</parameter>\n",
      "<parameter>\n",
      "<name>I_D149.V37</name>\n",
      "<value>*All*  (The United States)</value>\n",
      "</parameter>\n",
      "<parameter>\n",
      "<name>M_002</name>\n",
      "<value>D149.M002</value>\n",
      "</parameter>\n",
      "<parameter>\n",
      "<name>O_V21_fmode</name>\n",
      "<value>freg</value>\n",
      "</parameter>\n",
      "<parameter>\n",
      "<name>O_V22_fmode</name>\n",
      "<value>freg</value>\n",
      "</parameter>\n",
      "<parameter>\n",
      "<name>O_V37_fmode</name>\n",
      "<value>freg</value>\n",
      "</parameter>\n",
      "<parameter>\n",
      "<name>O_age</name>\n",
      "<value>D149.V1</value>\n",
      "</parameter>\n",
      "<parameter>\n",
      "<name>O_apgar10</name>\n",
      "<value>D149.V113</value>\n",
      "</parameter>\n",
      "<parameter>\n",
      "<name>O_apgar5</name>\n",
      "<value>D149.V111</value>\n",
      "</parameter>\n",
      "<parameter>\n",
      "<name>O_cig_before</name>\n",
      "<value>D149.V143</value>\n",
      "</parameter>\n",
      "<parameter>\n",
      "<name>O_cig_trim1</name>\n",
      "<value>D149.V144</value>\n",
      "</parameter>\n",
      "<parameter>\n",
      "<name>O_cig_trim2</name>\n",
      "<value>D149.V145</value>\n",
      "</parameter>\n",
      "<parameter>\n",
      "<name>O_cig_trim3</name>\n",
      "<value>D149.V146</value>\n",
      "</parameter>\n",
      "<parameter>\n",
      "<name>O_delivery</name>\n",
      "<value>D149.V31</value>\n",
      "</parameter>\n",
      "<parameter>\n",
      "<name>O_f_ethnicity</name>\n",
      "<value>D149.V53</value>\n",
      "</parameter>\n",
      "<parameter>\n",
      "<name>O_frace</name>\n",
      "<value>D149.V54</value>\n",
      "</parameter>\n",
      "<parameter>\n",
      "<name>O_gestation</name>\n",
      "<value>D149.V6</value>\n",
      "</parameter>\n",
      "<parameter>\n",
      "<name>O_javascript</name>\n",
      "<value>on</value>\n",
      "</parameter>\n",
      "<parameter>\n",
      "<name>O_location</name>\n",
      "<value>D149.V21</value>\n",
      "</parameter>\n",
      "<parameter>\n",
      "<name>O_m_ethnicity</name>\n",
      "<value>D149.V43</value>\n",
      "</parameter>\n",
      "<parameter>\n",
      "<name>O_oc-sect1-request</name>\n",
      "<value>close</value>\n",
      "</parameter>\n",
      "<parameter>\n",
      "<name>O_oe_gestation</name>\n",
      "<value>D149.V32</value>\n",
      "</parameter>\n",
      "<parameter>\n",
      "<name>O_pay</name>\n",
      "<value>D149.V110</value>\n",
      "</parameter>\n",
      "<parameter>\n",
      "<name>O_place</name>\n",
      "<value>D149.V45</value>\n",
      "</parameter>\n",
      "<parameter>\n",
      "<name>O_precision</name>\n",
      "<value>2</value>\n",
      "</parameter>\n",
      "<parameter>\n",
      "<name>O_prenatal</name>\n",
      "<value>D149.V63</value>\n",
      "</parameter>\n",
      "<parameter>\n",
      "<name>O_prenatal2</name>\n",
      "<value>D149.V65</value>\n",
      "</parameter>\n",
      "<parameter>\n",
      "<name>O_race</name>\n",
      "<value>D149.V42</value>\n",
      "</parameter>\n",
      "<parameter>\n",
      "<name>O_rate_per</name>\n",
      "<value>1000</value>\n",
      "</parameter>\n",
      "<parameter>\n",
      "<name>O_show_suppressed</name>\n",
      "<value>false</value>\n",
      "</parameter>\n",
      "<parameter>\n",
      "<name>O_show_totals</name>\n",
      "<value>true</value>\n",
      "</parameter>\n",
      "<parameter>\n",
      "<name>O_show_zeros</name>\n",
      "<value>false</value>\n",
      "</parameter>\n",
      "<parameter>\n",
      "<name>O_timeout</name>\n",
      "<value>600</value>\n",
      "</parameter>\n",
      "<parameter>\n",
      "<name>O_urban</name>\n",
      "<value>D149.V154</value>\n",
      "</parameter>\n",
      "<parameter>\n",
      "<name>O_weight</name>\n",
      "<value>D149.V9</value>\n",
      "</parameter>\n",
      "<parameter>\n",
      "<name>V_D149.V1</name>\n",
      "<value>*All*</value>\n",
      "</parameter>\n",
      "<parameter>\n",
      "<name>V_D149.V10</name>\n",
      "<value>*All*</value>\n",
      "</parameter>\n",
      "<parameter>\n",
      "<name>V_D149.V100</name>\n",
      "<value>*All*</value>\n",
      "</parameter>\n",
      "<parameter>\n",
      "<name>V_D149.V101</name>\n",
      "<value>*All*</value>\n",
      "</parameter>\n",
      "<parameter>\n",
      "<name>V_D149.V102</name>\n",
      "<value>*All*</value>\n",
      "</parameter>\n",
      "<parameter>\n",
      "<name>V_D149.V103</name>\n",
      "<value>*All*</value>\n",
      "</parameter>\n",
      "<parameter>\n",
      "<name>V_D149.V104</name>\n",
      "<value>*All*</value>\n",
      "</parameter>\n",
      "<parameter>\n",
      "<name>V_D149.V105</name>\n",
      "<value>*All*</value>\n",
      "</parameter>\n",
      "<parameter>\n",
      "<name>V_D149.V106</name>\n",
      "<value>*All*</value>\n",
      "</parameter>\n",
      "<parameter>\n",
      "<name>V_D149.V107</name>\n",
      "<value>*All*</value>\n",
      "</parameter>\n",
      "<parameter>\n",
      "<name>V_D149.V108</name>\n",
      "<value>*All*</value>\n",
      "</parameter>\n",
      "<parameter>\n",
      "<name>V_D149.V109</name>\n",
      "<value>*All*</value>\n",
      "</parameter>\n",
      "<parameter>\n",
      "<name>V_D149.V110</name>\n",
      "<value>*All*</value>\n",
      "</parameter>\n",
      "<parameter>\n",
      "<name>V_D149.V111</name>\n",
      "<value>*All*</value>\n",
      "</parameter>\n",
      "<parameter>\n",
      "<name>V_D149.V112</name>\n",
      "<value>*All*</value>\n",
      "</parameter>\n",
      "<parameter>\n",
      "<name>V_D149.V113</name>\n",
      "<value>*All*</value>\n",
      "</parameter>\n",
      "<parameter>\n",
      "<name>V_D149.V114</name>\n",
      "<value>*All*</value>\n",
      "</parameter>\n",
      "<parameter>\n",
      "<name>V_D149.V115</name>\n",
      "<value>*All*</value>\n",
      "</parameter>\n",
      "<parameter>\n",
      "<name>V_D149.V116</name>\n",
      "<value>*All*</value>\n",
      "</parameter>\n",
      "<parameter>\n",
      "<name>V_D149.V117</name>\n",
      "<value>*All*</value>\n",
      "</parameter>\n",
      "<parameter>\n",
      "<name>V_D149.V118</name>\n",
      "<value>*All*</value>\n",
      "</parameter>\n",
      "<parameter>\n",
      "<name>V_D149.V119</name>\n",
      "<value>*All*</value>\n",
      "</parameter>\n",
      "<parameter>\n",
      "<name>V_D149.V120</name>\n",
      "<value>*All*</value>\n",
      "</parameter>\n",
      "<parameter>\n",
      "<name>V_D149.V121</name>\n",
      "<value>*All*</value>\n",
      "</parameter>\n",
      "<parameter>\n",
      "<name>V_D149.V122</name>\n",
      "<value>*All*</value>\n",
      "</parameter>\n",
      "<parameter>\n",
      "<name>V_D149.V123</name>\n",
      "<value>*All*</value>\n",
      "</parameter>\n",
      "<parameter>\n",
      "<name>V_D149.V124</name>\n",
      "<value>*All*</value>\n",
      "</parameter>\n",
      "<parameter>\n",
      "<name>V_D149.V125</name>\n",
      "<value>*All*</value>\n",
      "</parameter>\n",
      "<parameter>\n",
      "<name>V_D149.V126</name>\n",
      "<value>*All*</value>\n",
      "</parameter>\n",
      "<parameter>\n",
      "<name>V_D149.V127</name>\n",
      "<value>*All*</value>\n",
      "</parameter>\n",
      "<parameter>\n",
      "<name>V_D149.V128</name>\n",
      "<value>*All*</value>\n",
      "</parameter>\n",
      "<parameter>\n",
      "<name>V_D149.V129</name>\n",
      "<value>*All*</value>\n",
      "</parameter>\n",
      "<parameter>\n",
      "<name>V_D149.V130</name>\n",
      "<value>*All*</value>\n",
      "</parameter>\n",
      "<parameter>\n",
      "<name>V_D149.V131</name>\n",
      "<value>*All*</value>\n",
      "</parameter>\n",
      "<parameter>\n",
      "<name>V_D149.V132</name>\n",
      "<value>*All*</value>\n",
      "</parameter>\n",
      "<parameter>\n",
      "<name>V_D149.V133</name>\n",
      "<value>*All*</value>\n",
      "</parameter>\n",
      "<parameter>\n",
      "<name>V_D149.V134</name>\n",
      "<value>*All*</value>\n",
      "</parameter>\n",
      "<parameter>\n",
      "<name>V_D149.V135</name>\n",
      "<value>*All*</value>\n",
      "</parameter>\n",
      "<parameter>\n",
      "<name>V_D149.V136</name>\n",
      "<value>*All*</value>\n",
      "</parameter>\n",
      "<parameter>\n",
      "<name>V_D149.V137</name>\n",
      "<value>*All*</value>\n",
      "</parameter>\n",
      "<parameter>\n",
      "<name>V_D149.V138</name>\n",
      "<value>*All*</value>\n",
      "</parameter>\n",
      "<parameter>\n",
      "<name>V_D149.V139</name>\n",
      "<value>*All*</value>\n",
      "</parameter>\n",
      "<parameter>\n",
      "<name>V_D149.V140</name>\n",
      "<value>*All*</value>\n",
      "</parameter>\n",
      "<parameter>\n",
      "<name>V_D149.V141</name>\n",
      "<value>*All*</value>\n",
      "</parameter>\n",
      "<parameter>\n",
      "<name>V_D149.V142</name>\n",
      "<value>*All*</value>\n",
      "</parameter>\n",
      "<parameter>\n",
      "<name>V_D149.V143</name>\n",
      "<value>*All*</value>\n",
      "</parameter>\n",
      "<parameter>\n",
      "<name>V_D149.V144</name>\n",
      "<value>*All*</value>\n",
      "</parameter>\n",
      "<parameter>\n",
      "<name>V_D149.V145</name>\n",
      "<value>*All*</value>\n",
      "</parameter>\n",
      "<parameter>\n",
      "<name>V_D149.V146</name>\n",
      "<value>*All*</value>\n",
      "</parameter>\n",
      "<parameter>\n",
      "<name>V_D149.V147</name>\n",
      "<value>*All*</value>\n",
      "</parameter>\n",
      "<parameter>\n",
      "<name>V_D149.V149</name>\n",
      "<value>*All*</value>\n",
      "</parameter>\n",
      "<parameter>\n",
      "<name>V_D149.V150</name>\n",
      "<value>*All*</value>\n",
      "</parameter>\n",
      "<parameter>\n",
      "<name>V_D149.V151</name>\n",
      "<value>*All*</value>\n",
      "</parameter>\n",
      "<parameter>\n",
      "<name>V_D149.V152</name>\n",
      "<value>*All*</value>\n",
      "</parameter>\n",
      "<parameter>\n",
      "<name>V_D149.V153</name>\n",
      "<value>*All*</value>\n",
      "</parameter>\n",
      "<parameter>\n",
      "<name>V_D149.V154</name>\n",
      "<value>*All*</value>\n",
      "</parameter>\n",
      "<parameter>\n",
      "<name>V_D149.V155</name>\n",
      "<value>*All*</value>\n",
      "</parameter>\n",
      "<parameter>\n",
      "<name>V_D149.V156</name>\n",
      "<value>*All*</value>\n",
      "</parameter>\n",
      "<parameter>\n",
      "<name>V_D149.V157</name>\n",
      "<value>*All*</value>\n",
      "</parameter>\n",
      "<parameter>\n",
      "<name>V_D149.V16</name>\n",
      "<value>*All*</value>\n",
      "</parameter>\n",
      "<parameter>\n",
      "<name>V_D149.V17</name>\n",
      "<value>*All*</value>\n",
      "</parameter>\n",
      "<parameter>\n",
      "<name>V_D149.V18</name>\n",
      "<value>*All*</value>\n",
      "</parameter>\n",
      "<parameter>\n",
      "<name>V_D149.V20</name>\n",
      "<value>*All*</value>\n",
      "</parameter>\n",
      "<parameter>\n",
      "<name>V_D149.V23</name>\n",
      "<value>*All*</value>\n",
      "</parameter>\n",
      "<parameter>\n",
      "<name>V_D149.V24</name>\n",
      "<value>*All*</value>\n",
      "</parameter>\n",
      "<parameter>\n",
      "<name>V_D149.V25</name>\n",
      "<value>*All*</value>\n",
      "</parameter>\n",
      "<parameter>\n",
      "<name>V_D149.V26</name>\n",
      "<value>*All*</value>\n",
      "</parameter>\n",
      "<parameter>\n",
      "<name>V_D149.V27</name>\n",
      "<value>*All*</value>\n",
      "</parameter>\n",
      "<parameter>\n",
      "<name>V_D149.V28</name>\n",
      "<value>*All*</value>\n",
      "</parameter>\n",
      "<parameter>\n",
      "<name>V_D149.V29</name>\n",
      "<value>*All*</value>\n",
      "</parameter>\n",
      "<parameter>\n",
      "<name>V_D149.V3</name>\n",
      "<value>*All*</value>\n",
      "</parameter>\n",
      "<parameter>\n",
      "<name>V_D149.V30</name>\n",
      "<value>*All*</value>\n",
      "</parameter>\n",
      "<parameter>\n",
      "<name>V_D149.V31</name>\n",
      "<value>2</value>\n",
      "</parameter>\n",
      "<parameter>\n",
      "<name>V_D149.V32</name>\n",
      "<value>*All*</value>\n",
      "</parameter>\n",
      "<parameter>\n",
      "<name>V_D149.V33</name>\n",
      "<value>*All*</value>\n",
      "</parameter>\n",
      "<parameter>\n",
      "<name>V_D149.V34</name>\n",
      "<value>*All*</value>\n",
      "</parameter>\n",
      "<parameter>\n",
      "<name>V_D149.V35</name>\n",
      "<value>*All*</value>\n",
      "</parameter>\n",
      "<parameter>\n",
      "<name>V_D149.V38</name>\n",
      "<value>*All*</value>\n",
      "</parameter>\n",
      "<parameter>\n",
      "<name>V_D149.V39</name>\n",
      "<value>*All*</value>\n",
      "</parameter>\n",
      "<parameter>\n",
      "<name>V_D149.V4</name>\n",
      "<value>*All*</value>\n",
      "</parameter>\n",
      "<parameter>\n",
      "<name>V_D149.V41</name>\n",
      "<value>*All*</value>\n",
      "</parameter>\n",
      "<parameter>\n",
      "<name>V_D149.V42</name>\n",
      "<value>*All*</value>\n",
      "</parameter>\n",
      "<parameter>\n",
      "<name>V_D149.V43</name>\n",
      "<value>*All*</value>\n",
      "</parameter>\n",
      "<parameter>\n",
      "<name>V_D149.V44</name>\n",
      "<value>*All*</value>\n",
      "</parameter>\n",
      "<parameter>\n",
      "<name>V_D149.V45</name>\n",
      "<value>*All*</value>\n",
      "</parameter>\n",
      "<parameter>\n",
      "<name>V_D149.V46</name>\n",
      "<value>*All*</value>\n",
      "</parameter>\n",
      "<parameter>\n",
      "<name>V_D149.V47</name>\n",
      "<value>*All*</value>\n",
      "</parameter>\n",
      "<parameter>\n",
      "<name>V_D149.V48</name>\n",
      "<value>*All*</value>\n",
      "</parameter>\n",
      "<parameter>\n",
      "<name>V_D149.V49</name>\n",
      "<value>*All*</value>\n",
      "</parameter>\n",
      "<parameter>\n",
      "<name>V_D149.V5</name>\n",
      "<value>*All*</value>\n",
      "</parameter>\n",
      "<parameter>\n",
      "<name>V_D149.V50</name>\n",
      "<value>*All*</value>\n",
      "</parameter>\n",
      "<parameter>\n",
      "<name>V_D149.V51</name>\n",
      "<value>*All*</value>\n",
      "</parameter>\n",
      "<parameter>\n",
      "<name>V_D149.V52</name>\n",
      "<value>*All*</value>\n",
      "</parameter>\n",
      "<parameter>\n",
      "<name>V_D149.V53</name>\n",
      "<value>*All*</value>\n",
      "</parameter>\n",
      "<parameter>\n",
      "<name>V_D149.V54</name>\n",
      "<value>*All*</value>\n",
      "</parameter>\n",
      "<parameter>\n",
      "<name>V_D149.V55</name>\n",
      "<value>*All*</value>\n",
      "</parameter>\n",
      "<parameter>\n",
      "<name>V_D149.V56</name>\n",
      "<value>*All*</value>\n",
      "</parameter>\n",
      "<parameter>\n",
      "<name>V_D149.V57</name>\n",
      "<value>*All*</value>\n",
      "</parameter>\n",
      "<parameter>\n",
      "<name>V_D149.V58</name>\n",
      "<value>*All*</value>\n",
      "</parameter>\n",
      "<parameter>\n",
      "<name>V_D149.V59</name>\n",
      "<value>*All*</value>\n",
      "</parameter>\n",
      "<parameter>\n",
      "<name>V_D149.V6</name>\n",
      "<value>*All*</value>\n",
      "</parameter>\n",
      "<parameter>\n",
      "<name>V_D149.V60</name>\n",
      "<value>*All*</value>\n",
      "</parameter>\n",
      "<parameter>\n",
      "<name>V_D149.V61</name>\n",
      "<value>*All*</value>\n",
      "</parameter>\n",
      "<parameter>\n",
      "<name>V_D149.V62</name>\n",
      "<value>*All*</value>\n",
      "</parameter>\n",
      "<parameter>\n",
      "<name>V_D149.V63</name>\n",
      "<value>*All*</value>\n",
      "</parameter>\n",
      "<parameter>\n",
      "<name>V_D149.V64</name>\n",
      "<value>*All*</value>\n",
      "</parameter>\n",
      "<parameter>\n",
      "<name>V_D149.V65</name>\n",
      "<value>*All*</value>\n",
      "</parameter>\n",
      "<parameter>\n",
      "<name>V_D149.V66</name>\n",
      "<value>*All*</value>\n",
      "</parameter>\n",
      "<parameter>\n",
      "<name>V_D149.V7</name>\n",
      "<value>*All*</value>\n",
      "</parameter>\n",
      "<parameter>\n",
      "<name>V_D149.V70</name>\n",
      "<value>*All*</value>\n",
      "</parameter>\n",
      "<parameter>\n",
      "<name>V_D149.V71</name>\n",
      "<value>1</value>\n",
      "<value>2</value>\n",
      "<value>3</value>\n",
      "<value>4</value>\n",
      "<value>5</value>\n",
      "<value>6</value>\n",
      "</parameter>\n",
      "<parameter>\n",
      "<name>V_D149.V73</name>\n",
      "<value>*All*</value>\n",
      "</parameter>\n",
      "<parameter>\n",
      "<name>V_D149.V74</name>\n",
      "<value>*All*</value>\n",
      "</parameter>\n",
      "<parameter>\n",
      "<name>V_D149.V75</name>\n",
      "<value>*All*</value>\n",
      "</parameter>\n",
      "<parameter>\n",
      "<name>V_D149.V76</name>\n",
      "<value>*All*</value>\n",
      "</parameter>\n",
      "<parameter>\n",
      "<name>V_D149.V77</name>\n",
      "<value>*All*</value>\n",
      "</parameter>\n",
      "<parameter>\n",
      "<name>V_D149.V78</name>\n",
      "<value>*All*</value>\n",
      "</parameter>\n",
      "<parameter>\n",
      "<name>V_D149.V79</name>\n",
      "<value>*All*</value>\n",
      "</parameter>\n",
      "<parameter>\n",
      "<name>V_D149.V8</name>\n",
      "<value>*All*</value>\n",
      "</parameter>\n",
      "<parameter>\n",
      "<name>V_D149.V80</name>\n",
      "<value>*All*</value>\n",
      "</parameter>\n",
      "<parameter>\n",
      "<name>V_D149.V81</name>\n",
      "<value>*All*</value>\n",
      "</parameter>\n",
      "<parameter>\n",
      "<name>V_D149.V82</name>\n",
      "<value>*All*</value>\n",
      "</parameter>\n",
      "<parameter>\n",
      "<name>V_D149.V83</name>\n",
      "<value>*All*</value>\n",
      "</parameter>\n",
      "<parameter>\n",
      "<name>V_D149.V84</name>\n",
      "<value>*All*</value>\n",
      "</parameter>\n",
      "<parameter>\n",
      "<name>V_D149.V85</name>\n",
      "<value>*All*</value>\n",
      "</parameter>\n",
      "<parameter>\n",
      "<name>V_D149.V86</name>\n",
      "<value>*All*</value>\n",
      "</parameter>\n",
      "<parameter>\n",
      "<name>V_D149.V87</name>\n",
      "<value>*All*</value>\n",
      "</parameter>\n",
      "<parameter>\n",
      "<name>V_D149.V88</name>\n",
      "<value>*All*</value>\n",
      "</parameter>\n",
      "<parameter>\n",
      "<name>V_D149.V89</name>\n",
      "<value>*All*</value>\n",
      "</parameter>\n",
      "<parameter>\n",
      "<name>V_D149.V9</name>\n",
      "<value>*All*</value>\n",
      "</parameter>\n",
      "<parameter>\n",
      "<name>V_D149.V90</name>\n",
      "<value>*All*</value>\n",
      "</parameter>\n",
      "<parameter>\n",
      "<name>V_D149.V91</name>\n",
      "<value>*All*</value>\n",
      "</parameter>\n",
      "<parameter>\n",
      "<name>V_D149.V92</name>\n",
      "<value>*All*</value>\n",
      "</parameter>\n",
      "<parameter>\n",
      "<name>V_D149.V93</name>\n",
      "<value>*All*</value>\n",
      "</parameter>\n",
      "<parameter>\n",
      "<name>V_D149.V94</name>\n",
      "<value>*All*</value>\n",
      "</parameter>\n",
      "<parameter>\n",
      "<name>V_D149.V95</name>\n",
      "<value>*All*</value>\n",
      "</parameter>\n",
      "<parameter>\n",
      "<name>V_D149.V96</name>\n",
      "<value>*All*</value>\n",
      "</parameter>\n",
      "<parameter>\n",
      "<name>V_D149.V97</name>\n",
      "<value>*All*</value>\n",
      "</parameter>\n",
      "<parameter>\n",
      "<name>V_D149.V98</name>\n",
      "<value>*All*</value>\n",
      "</parameter>\n",
      "<parameter>\n",
      "<name>V_D149.V99</name>\n",
      "<value>*All*</value>\n",
      "</parameter>\n",
      "<parameter>\n",
      "<name>action-Send</name>\n",
      "<value>Send</value>\n",
      "</parameter>\n",
      "<parameter>\n",
      "<name>dataset_code</name>\n",
      "<value>D149</value>\n",
      "</parameter>\n",
      "<parameter>\n",
      "<name>dataset_label</name>\n",
      "<value>Natality, 2016-2021 expanded</value>\n",
      "</parameter>\n",
      "<parameter>\n",
      "<name>dataset_vintage</name>\n",
      "<value>2021</value>\n",
      "</parameter>\n",
      "<parameter>\n",
      "<name>finder-stage-D149.V21</name>\n",
      "<value>codeset</value>\n",
      "</parameter>\n",
      "<parameter>\n",
      "<name>finder-stage-D149.V22</name>\n",
      "<value>codeset</value>\n",
      "</parameter>\n",
      "<parameter>\n",
      "<name>finder-stage-D149.V37</name>\n",
      "<value>codeset</value>\n",
      "</parameter>\n",
      "<parameter>\n",
      "<name>saved_id</name>\n",
      "<value></value>\n",
      "</parameter>\n",
      "<parameter>\n",
      "<name>stage</name>\n",
      "<value>request</value>\n",
      "</parameter>\n",
      "</request-parameters>\n",
      "2023-03-17 13:45:49,575 - urllib3.connectionpool - _new_conn - DEBUG - Starting new HTTPS connection (1): wonder.cdc.gov:443\n",
      "2023-03-17 13:45:56,237 - urllib3.connectionpool - _make_request - DEBUG - https://wonder.cdc.gov:443 \"POST /controller/datarequest/D149 HTTP/1.1\" 200 158626\n",
      "2023-03-17 13:45:59,364 - root - _createXMLRequest - INFO - the xml sent to api is as below\n",
      "2023-03-17 13:45:59,365 - root - _createXMLRequest - DEBUG - <request-parameters>\n",
      "<parameter>\n",
      "<name>B_1</name>\n",
      "<value>D149.V71</value>\n",
      "</parameter>\n",
      "<parameter>\n",
      "<name>B_2</name>\n",
      "<value>*None*</value>\n",
      "</parameter>\n",
      "<parameter>\n",
      "<name>B_3</name>\n",
      "<value>*None*</value>\n",
      "</parameter>\n",
      "<parameter>\n",
      "<name>B_4</name>\n",
      "<value>*None*</value>\n",
      "</parameter>\n",
      "<parameter>\n",
      "<name>B_5</name>\n",
      "<value>*None*</value>\n",
      "</parameter>\n",
      "<parameter>\n",
      "<name>F_D149.V21</name>\n",
      "<value>*All*</value>\n",
      "</parameter>\n",
      "<parameter>\n",
      "<name>F_D149.V22</name>\n",
      "<value>*All*</value>\n",
      "</parameter>\n",
      "<parameter>\n",
      "<name>F_D149.V37</name>\n",
      "<value>*All*</value>\n",
      "</parameter>\n",
      "<parameter>\n",
      "<name>I_D149.V21</name>\n",
      "<value>*All*  (The United States)</value>\n",
      "</parameter>\n",
      "<parameter>\n",
      "<name>I_D149.V22</name>\n",
      "<value>*All*  (The United States)</value>\n",
      "</parameter>\n",
      "<parameter>\n",
      "<name>I_D149.V37</name>\n",
      "<value>*All*  (The United States)</value>\n",
      "</parameter>\n",
      "<parameter>\n",
      "<name>M_002</name>\n",
      "<value>D149.M002</value>\n",
      "</parameter>\n",
      "<parameter>\n",
      "<name>O_V21_fmode</name>\n",
      "<value>freg</value>\n",
      "</parameter>\n",
      "<parameter>\n",
      "<name>O_V22_fmode</name>\n",
      "<value>freg</value>\n",
      "</parameter>\n",
      "<parameter>\n",
      "<name>O_V37_fmode</name>\n",
      "<value>freg</value>\n",
      "</parameter>\n",
      "<parameter>\n",
      "<name>O_age</name>\n",
      "<value>D149.V1</value>\n",
      "</parameter>\n",
      "<parameter>\n",
      "<name>O_apgar10</name>\n",
      "<value>D149.V113</value>\n",
      "</parameter>\n",
      "<parameter>\n",
      "<name>O_apgar5</name>\n",
      "<value>D149.V111</value>\n",
      "</parameter>\n",
      "<parameter>\n",
      "<name>O_cig_before</name>\n",
      "<value>D149.V143</value>\n",
      "</parameter>\n",
      "<parameter>\n",
      "<name>O_cig_trim1</name>\n",
      "<value>D149.V144</value>\n",
      "</parameter>\n",
      "<parameter>\n",
      "<name>O_cig_trim2</name>\n",
      "<value>D149.V145</value>\n",
      "</parameter>\n",
      "<parameter>\n",
      "<name>O_cig_trim3</name>\n",
      "<value>D149.V146</value>\n",
      "</parameter>\n",
      "<parameter>\n",
      "<name>O_delivery</name>\n",
      "<value>D149.V31</value>\n",
      "</parameter>\n",
      "<parameter>\n",
      "<name>O_f_ethnicity</name>\n",
      "<value>D149.V53</value>\n",
      "</parameter>\n",
      "<parameter>\n",
      "<name>O_frace</name>\n",
      "<value>D149.V54</value>\n",
      "</parameter>\n",
      "<parameter>\n",
      "<name>O_gestation</name>\n",
      "<value>D149.V6</value>\n",
      "</parameter>\n",
      "<parameter>\n",
      "<name>O_javascript</name>\n",
      "<value>on</value>\n",
      "</parameter>\n",
      "<parameter>\n",
      "<name>O_location</name>\n",
      "<value>D149.V21</value>\n",
      "</parameter>\n",
      "<parameter>\n",
      "<name>O_m_ethnicity</name>\n",
      "<value>D149.V43</value>\n",
      "</parameter>\n",
      "<parameter>\n",
      "<name>O_oc-sect1-request</name>\n",
      "<value>close</value>\n",
      "</parameter>\n",
      "<parameter>\n",
      "<name>O_oe_gestation</name>\n",
      "<value>D149.V32</value>\n",
      "</parameter>\n",
      "<parameter>\n",
      "<name>O_pay</name>\n",
      "<value>D149.V110</value>\n",
      "</parameter>\n",
      "<parameter>\n",
      "<name>O_place</name>\n",
      "<value>D149.V45</value>\n",
      "</parameter>\n",
      "<parameter>\n",
      "<name>O_precision</name>\n",
      "<value>2</value>\n",
      "</parameter>\n",
      "<parameter>\n",
      "<name>O_prenatal</name>\n",
      "<value>D149.V63</value>\n",
      "</parameter>\n",
      "<parameter>\n",
      "<name>O_prenatal2</name>\n",
      "<value>D149.V65</value>\n",
      "</parameter>\n",
      "<parameter>\n",
      "<name>O_race</name>\n",
      "<value>D149.V42</value>\n",
      "</parameter>\n",
      "<parameter>\n",
      "<name>O_rate_per</name>\n",
      "<value>1000</value>\n",
      "</parameter>\n",
      "<parameter>\n",
      "<name>O_show_suppressed</name>\n",
      "<value>false</value>\n",
      "</parameter>\n",
      "<parameter>\n",
      "<name>O_show_totals</name>\n",
      "<value>true</value>\n",
      "</parameter>\n",
      "<parameter>\n",
      "<name>O_show_zeros</name>\n",
      "<value>false</value>\n",
      "</parameter>\n",
      "<parameter>\n",
      "<name>O_timeout</name>\n",
      "<value>600</value>\n",
      "</parameter>\n",
      "<parameter>\n",
      "<name>O_urban</name>\n",
      "<value>D149.V154</value>\n",
      "</parameter>\n",
      "<parameter>\n",
      "<name>O_weight</name>\n",
      "<value>D149.V9</value>\n",
      "</parameter>\n",
      "<parameter>\n",
      "<name>V_D149.V1</name>\n",
      "<value>*All*</value>\n",
      "</parameter>\n",
      "<parameter>\n",
      "<name>V_D149.V10</name>\n",
      "<value>*All*</value>\n",
      "</parameter>\n",
      "<parameter>\n",
      "<name>V_D149.V100</name>\n",
      "<value>*All*</value>\n",
      "</parameter>\n",
      "<parameter>\n",
      "<name>V_D149.V101</name>\n",
      "<value>*All*</value>\n",
      "</parameter>\n",
      "<parameter>\n",
      "<name>V_D149.V102</name>\n",
      "<value>*All*</value>\n",
      "</parameter>\n",
      "<parameter>\n",
      "<name>V_D149.V103</name>\n",
      "<value>*All*</value>\n",
      "</parameter>\n",
      "<parameter>\n",
      "<name>V_D149.V104</name>\n",
      "<value>*All*</value>\n",
      "</parameter>\n",
      "<parameter>\n",
      "<name>V_D149.V105</name>\n",
      "<value>*All*</value>\n",
      "</parameter>\n",
      "<parameter>\n",
      "<name>V_D149.V106</name>\n",
      "<value>*All*</value>\n",
      "</parameter>\n",
      "<parameter>\n",
      "<name>V_D149.V107</name>\n",
      "<value>*All*</value>\n",
      "</parameter>\n",
      "<parameter>\n",
      "<name>V_D149.V108</name>\n",
      "<value>*All*</value>\n",
      "</parameter>\n",
      "<parameter>\n",
      "<name>V_D149.V109</name>\n",
      "<value>*All*</value>\n",
      "</parameter>\n",
      "<parameter>\n",
      "<name>V_D149.V110</name>\n",
      "<value>*All*</value>\n",
      "</parameter>\n",
      "<parameter>\n",
      "<name>V_D149.V111</name>\n",
      "<value>*All*</value>\n",
      "</parameter>\n",
      "<parameter>\n",
      "<name>V_D149.V112</name>\n",
      "<value>*All*</value>\n",
      "</parameter>\n",
      "<parameter>\n",
      "<name>V_D149.V113</name>\n",
      "<value>*All*</value>\n",
      "</parameter>\n",
      "<parameter>\n",
      "<name>V_D149.V114</name>\n",
      "<value>*All*</value>\n",
      "</parameter>\n",
      "<parameter>\n",
      "<name>V_D149.V115</name>\n",
      "<value>*All*</value>\n",
      "</parameter>\n",
      "<parameter>\n",
      "<name>V_D149.V116</name>\n",
      "<value>*All*</value>\n",
      "</parameter>\n",
      "<parameter>\n",
      "<name>V_D149.V117</name>\n",
      "<value>*All*</value>\n",
      "</parameter>\n",
      "<parameter>\n",
      "<name>V_D149.V118</name>\n",
      "<value>*All*</value>\n",
      "</parameter>\n",
      "<parameter>\n",
      "<name>V_D149.V119</name>\n",
      "<value>*All*</value>\n",
      "</parameter>\n",
      "<parameter>\n",
      "<name>V_D149.V120</name>\n",
      "<value>*All*</value>\n",
      "</parameter>\n",
      "<parameter>\n",
      "<name>V_D149.V121</name>\n",
      "<value>*All*</value>\n",
      "</parameter>\n",
      "<parameter>\n",
      "<name>V_D149.V122</name>\n",
      "<value>*All*</value>\n",
      "</parameter>\n",
      "<parameter>\n",
      "<name>V_D149.V123</name>\n",
      "<value>*All*</value>\n",
      "</parameter>\n",
      "<parameter>\n",
      "<name>V_D149.V124</name>\n",
      "<value>*All*</value>\n",
      "</parameter>\n",
      "<parameter>\n",
      "<name>V_D149.V125</name>\n",
      "<value>*All*</value>\n",
      "</parameter>\n",
      "<parameter>\n",
      "<name>V_D149.V126</name>\n",
      "<value>*All*</value>\n",
      "</parameter>\n",
      "<parameter>\n",
      "<name>V_D149.V127</name>\n",
      "<value>*All*</value>\n",
      "</parameter>\n",
      "<parameter>\n",
      "<name>V_D149.V128</name>\n",
      "<value>*All*</value>\n",
      "</parameter>\n",
      "<parameter>\n",
      "<name>V_D149.V129</name>\n",
      "<value>*All*</value>\n",
      "</parameter>\n",
      "<parameter>\n",
      "<name>V_D149.V130</name>\n",
      "<value>*All*</value>\n",
      "</parameter>\n",
      "<parameter>\n",
      "<name>V_D149.V131</name>\n",
      "<value>*All*</value>\n",
      "</parameter>\n",
      "<parameter>\n",
      "<name>V_D149.V132</name>\n",
      "<value>*All*</value>\n",
      "</parameter>\n",
      "<parameter>\n",
      "<name>V_D149.V133</name>\n",
      "<value>*All*</value>\n",
      "</parameter>\n",
      "<parameter>\n",
      "<name>V_D149.V134</name>\n",
      "<value>*All*</value>\n",
      "</parameter>\n",
      "<parameter>\n",
      "<name>V_D149.V135</name>\n",
      "<value>*All*</value>\n",
      "</parameter>\n",
      "<parameter>\n",
      "<name>V_D149.V136</name>\n",
      "<value>*All*</value>\n",
      "</parameter>\n",
      "<parameter>\n",
      "<name>V_D149.V137</name>\n",
      "<value>*All*</value>\n",
      "</parameter>\n",
      "<parameter>\n",
      "<name>V_D149.V138</name>\n",
      "<value>*All*</value>\n",
      "</parameter>\n",
      "<parameter>\n",
      "<name>V_D149.V139</name>\n",
      "<value>*All*</value>\n",
      "</parameter>\n",
      "<parameter>\n",
      "<name>V_D149.V140</name>\n",
      "<value>*All*</value>\n",
      "</parameter>\n",
      "<parameter>\n",
      "<name>V_D149.V141</name>\n",
      "<value>*All*</value>\n",
      "</parameter>\n",
      "<parameter>\n",
      "<name>V_D149.V142</name>\n",
      "<value>*All*</value>\n",
      "</parameter>\n",
      "<parameter>\n",
      "<name>V_D149.V143</name>\n",
      "<value>*All*</value>\n",
      "</parameter>\n",
      "<parameter>\n",
      "<name>V_D149.V144</name>\n",
      "<value>*All*</value>\n",
      "</parameter>\n",
      "<parameter>\n",
      "<name>V_D149.V145</name>\n",
      "<value>*All*</value>\n",
      "</parameter>\n",
      "<parameter>\n",
      "<name>V_D149.V146</name>\n",
      "<value>*All*</value>\n",
      "</parameter>\n",
      "<parameter>\n",
      "<name>V_D149.V147</name>\n",
      "<value>*All*</value>\n",
      "</parameter>\n",
      "<parameter>\n",
      "<name>V_D149.V149</name>\n",
      "<value>*All*</value>\n",
      "</parameter>\n",
      "<parameter>\n",
      "<name>V_D149.V150</name>\n",
      "<value>*All*</value>\n",
      "</parameter>\n",
      "<parameter>\n",
      "<name>V_D149.V151</name>\n",
      "<value>*All*</value>\n",
      "</parameter>\n",
      "<parameter>\n",
      "<name>V_D149.V152</name>\n",
      "<value>*All*</value>\n",
      "</parameter>\n",
      "<parameter>\n",
      "<name>V_D149.V153</name>\n",
      "<value>*All*</value>\n",
      "</parameter>\n",
      "<parameter>\n",
      "<name>V_D149.V154</name>\n",
      "<value>*All*</value>\n",
      "</parameter>\n",
      "<parameter>\n",
      "<name>V_D149.V155</name>\n",
      "<value>*All*</value>\n",
      "</parameter>\n",
      "<parameter>\n",
      "<name>V_D149.V156</name>\n",
      "<value>*All*</value>\n",
      "</parameter>\n",
      "<parameter>\n",
      "<name>V_D149.V157</name>\n",
      "<value>*All*</value>\n",
      "</parameter>\n",
      "<parameter>\n",
      "<name>V_D149.V16</name>\n",
      "<value>*All*</value>\n",
      "</parameter>\n",
      "<parameter>\n",
      "<name>V_D149.V17</name>\n",
      "<value>*All*</value>\n",
      "</parameter>\n",
      "<parameter>\n",
      "<name>V_D149.V18</name>\n",
      "<value>*All*</value>\n",
      "</parameter>\n",
      "<parameter>\n",
      "<name>V_D149.V20</name>\n",
      "<value>*All*</value>\n",
      "</parameter>\n",
      "<parameter>\n",
      "<name>V_D149.V23</name>\n",
      "<value>*All*</value>\n",
      "</parameter>\n",
      "<parameter>\n",
      "<name>V_D149.V24</name>\n",
      "<value>*All*</value>\n",
      "</parameter>\n",
      "<parameter>\n",
      "<name>V_D149.V25</name>\n",
      "<value>*All*</value>\n",
      "</parameter>\n",
      "<parameter>\n",
      "<name>V_D149.V26</name>\n",
      "<value>*All*</value>\n",
      "</parameter>\n",
      "<parameter>\n",
      "<name>V_D149.V27</name>\n",
      "<value>*All*</value>\n",
      "</parameter>\n",
      "<parameter>\n",
      "<name>V_D149.V28</name>\n",
      "<value>*All*</value>\n",
      "</parameter>\n",
      "<parameter>\n",
      "<name>V_D149.V29</name>\n",
      "<value>*All*</value>\n",
      "</parameter>\n",
      "<parameter>\n",
      "<name>V_D149.V3</name>\n",
      "<value>*All*</value>\n",
      "</parameter>\n",
      "<parameter>\n",
      "<name>V_D149.V30</name>\n",
      "<value>*All*</value>\n",
      "</parameter>\n",
      "<parameter>\n",
      "<name>V_D149.V31</name>\n",
      "<value>1</value>\n",
      "<value>9</value>\n",
      "</parameter>\n",
      "<parameter>\n",
      "<name>V_D149.V32</name>\n",
      "<value>*All*</value>\n",
      "</parameter>\n",
      "<parameter>\n",
      "<name>V_D149.V33</name>\n",
      "<value>*All*</value>\n",
      "</parameter>\n",
      "<parameter>\n",
      "<name>V_D149.V34</name>\n",
      "<value>*All*</value>\n",
      "</parameter>\n",
      "<parameter>\n",
      "<name>V_D149.V35</name>\n",
      "<value>*All*</value>\n",
      "</parameter>\n",
      "<parameter>\n",
      "<name>V_D149.V38</name>\n",
      "<value>*All*</value>\n",
      "</parameter>\n",
      "<parameter>\n",
      "<name>V_D149.V39</name>\n",
      "<value>*All*</value>\n",
      "</parameter>\n",
      "<parameter>\n",
      "<name>V_D149.V4</name>\n",
      "<value>*All*</value>\n",
      "</parameter>\n",
      "<parameter>\n",
      "<name>V_D149.V41</name>\n",
      "<value>*All*</value>\n",
      "</parameter>\n",
      "<parameter>\n",
      "<name>V_D149.V42</name>\n",
      "<value>*All*</value>\n",
      "</parameter>\n",
      "<parameter>\n",
      "<name>V_D149.V43</name>\n",
      "<value>*All*</value>\n",
      "</parameter>\n",
      "<parameter>\n",
      "<name>V_D149.V44</name>\n",
      "<value>*All*</value>\n",
      "</parameter>\n",
      "<parameter>\n",
      "<name>V_D149.V45</name>\n",
      "<value>*All*</value>\n",
      "</parameter>\n",
      "<parameter>\n",
      "<name>V_D149.V46</name>\n",
      "<value>*All*</value>\n",
      "</parameter>\n",
      "<parameter>\n",
      "<name>V_D149.V47</name>\n",
      "<value>*All*</value>\n",
      "</parameter>\n",
      "<parameter>\n",
      "<name>V_D149.V48</name>\n",
      "<value>*All*</value>\n",
      "</parameter>\n",
      "<parameter>\n",
      "<name>V_D149.V49</name>\n",
      "<value>*All*</value>\n",
      "</parameter>\n",
      "<parameter>\n",
      "<name>V_D149.V5</name>\n",
      "<value>*All*</value>\n",
      "</parameter>\n",
      "<parameter>\n",
      "<name>V_D149.V50</name>\n",
      "<value>*All*</value>\n",
      "</parameter>\n",
      "<parameter>\n",
      "<name>V_D149.V51</name>\n",
      "<value>*All*</value>\n",
      "</parameter>\n",
      "<parameter>\n",
      "<name>V_D149.V52</name>\n",
      "<value>*All*</value>\n",
      "</parameter>\n",
      "<parameter>\n",
      "<name>V_D149.V53</name>\n",
      "<value>*All*</value>\n",
      "</parameter>\n",
      "<parameter>\n",
      "<name>V_D149.V54</name>\n",
      "<value>*All*</value>\n",
      "</parameter>\n",
      "<parameter>\n",
      "<name>V_D149.V55</name>\n",
      "<value>*All*</value>\n",
      "</parameter>\n",
      "<parameter>\n",
      "<name>V_D149.V56</name>\n",
      "<value>*All*</value>\n",
      "</parameter>\n",
      "<parameter>\n",
      "<name>V_D149.V57</name>\n",
      "<value>*All*</value>\n",
      "</parameter>\n",
      "<parameter>\n",
      "<name>V_D149.V58</name>\n",
      "<value>*All*</value>\n",
      "</parameter>\n",
      "<parameter>\n",
      "<name>V_D149.V59</name>\n",
      "<value>*All*</value>\n",
      "</parameter>\n",
      "<parameter>\n",
      "<name>V_D149.V6</name>\n",
      "<value>*All*</value>\n",
      "</parameter>\n",
      "<parameter>\n",
      "<name>V_D149.V60</name>\n",
      "<value>*All*</value>\n",
      "</parameter>\n",
      "<parameter>\n",
      "<name>V_D149.V61</name>\n",
      "<value>*All*</value>\n",
      "</parameter>\n",
      "<parameter>\n",
      "<name>V_D149.V62</name>\n",
      "<value>*All*</value>\n",
      "</parameter>\n",
      "<parameter>\n",
      "<name>V_D149.V63</name>\n",
      "<value>*All*</value>\n",
      "</parameter>\n",
      "<parameter>\n",
      "<name>V_D149.V64</name>\n",
      "<value>*All*</value>\n",
      "</parameter>\n",
      "<parameter>\n",
      "<name>V_D149.V65</name>\n",
      "<value>*All*</value>\n",
      "</parameter>\n",
      "<parameter>\n",
      "<name>V_D149.V66</name>\n",
      "<value>*All*</value>\n",
      "</parameter>\n",
      "<parameter>\n",
      "<name>V_D149.V7</name>\n",
      "<value>*All*</value>\n",
      "</parameter>\n",
      "<parameter>\n",
      "<name>V_D149.V70</name>\n",
      "<value>*All*</value>\n",
      "</parameter>\n",
      "<parameter>\n",
      "<name>V_D149.V71</name>\n",
      "<value>1</value>\n",
      "<value>2</value>\n",
      "<value>3</value>\n",
      "<value>4</value>\n",
      "<value>5</value>\n",
      "<value>6</value>\n",
      "</parameter>\n",
      "<parameter>\n",
      "<name>V_D149.V73</name>\n",
      "<value>*All*</value>\n",
      "</parameter>\n",
      "<parameter>\n",
      "<name>V_D149.V74</name>\n",
      "<value>*All*</value>\n",
      "</parameter>\n",
      "<parameter>\n",
      "<name>V_D149.V75</name>\n",
      "<value>*All*</value>\n",
      "</parameter>\n",
      "<parameter>\n",
      "<name>V_D149.V76</name>\n",
      "<value>*All*</value>\n",
      "</parameter>\n",
      "<parameter>\n",
      "<name>V_D149.V77</name>\n",
      "<value>*All*</value>\n",
      "</parameter>\n",
      "<parameter>\n",
      "<name>V_D149.V78</name>\n",
      "<value>*All*</value>\n",
      "</parameter>\n",
      "<parameter>\n",
      "<name>V_D149.V79</name>\n",
      "<value>*All*</value>\n",
      "</parameter>\n",
      "<parameter>\n",
      "<name>V_D149.V8</name>\n",
      "<value>*All*</value>\n",
      "</parameter>\n",
      "<parameter>\n",
      "<name>V_D149.V80</name>\n",
      "<value>*All*</value>\n",
      "</parameter>\n",
      "<parameter>\n",
      "<name>V_D149.V81</name>\n",
      "<value>*All*</value>\n",
      "</parameter>\n",
      "<parameter>\n",
      "<name>V_D149.V82</name>\n",
      "<value>*All*</value>\n",
      "</parameter>\n",
      "<parameter>\n",
      "<name>V_D149.V83</name>\n",
      "<value>*All*</value>\n",
      "</parameter>\n",
      "<parameter>\n",
      "<name>V_D149.V84</name>\n",
      "<value>*All*</value>\n",
      "</parameter>\n",
      "<parameter>\n",
      "<name>V_D149.V85</name>\n",
      "<value>*All*</value>\n",
      "</parameter>\n",
      "<parameter>\n",
      "<name>V_D149.V86</name>\n",
      "<value>*All*</value>\n",
      "</parameter>\n",
      "<parameter>\n",
      "<name>V_D149.V87</name>\n",
      "<value>*All*</value>\n",
      "</parameter>\n",
      "<parameter>\n",
      "<name>V_D149.V88</name>\n",
      "<value>*All*</value>\n",
      "</parameter>\n",
      "<parameter>\n",
      "<name>V_D149.V89</name>\n",
      "<value>*All*</value>\n",
      "</parameter>\n",
      "<parameter>\n",
      "<name>V_D149.V9</name>\n",
      "<value>*All*</value>\n",
      "</parameter>\n",
      "<parameter>\n",
      "<name>V_D149.V90</name>\n",
      "<value>*All*</value>\n",
      "</parameter>\n",
      "<parameter>\n",
      "<name>V_D149.V91</name>\n",
      "<value>*All*</value>\n",
      "</parameter>\n",
      "<parameter>\n",
      "<name>V_D149.V92</name>\n",
      "<value>*All*</value>\n",
      "</parameter>\n",
      "<parameter>\n",
      "<name>V_D149.V93</name>\n",
      "<value>*All*</value>\n",
      "</parameter>\n",
      "<parameter>\n",
      "<name>V_D149.V94</name>\n",
      "<value>*All*</value>\n",
      "</parameter>\n",
      "<parameter>\n",
      "<name>V_D149.V95</name>\n",
      "<value>*All*</value>\n",
      "</parameter>\n",
      "<parameter>\n",
      "<name>V_D149.V96</name>\n",
      "<value>*All*</value>\n",
      "</parameter>\n",
      "<parameter>\n",
      "<name>V_D149.V97</name>\n",
      "<value>*All*</value>\n",
      "</parameter>\n",
      "<parameter>\n",
      "<name>V_D149.V98</name>\n",
      "<value>*All*</value>\n",
      "</parameter>\n",
      "<parameter>\n",
      "<name>V_D149.V99</name>\n",
      "<value>*All*</value>\n",
      "</parameter>\n",
      "<parameter>\n",
      "<name>action-Send</name>\n",
      "<value>Send</value>\n",
      "</parameter>\n",
      "<parameter>\n",
      "<name>dataset_code</name>\n",
      "<value>D149</value>\n",
      "</parameter>\n",
      "<parameter>\n",
      "<name>dataset_label</name>\n",
      "<value>Natality, 2016-2021 expanded</value>\n",
      "</parameter>\n",
      "<parameter>\n",
      "<name>dataset_vintage</name>\n",
      "<value>2021</value>\n",
      "</parameter>\n",
      "<parameter>\n",
      "<name>finder-stage-D149.V21</name>\n",
      "<value>codeset</value>\n",
      "</parameter>\n",
      "<parameter>\n",
      "<name>finder-stage-D149.V22</name>\n",
      "<value>codeset</value>\n",
      "</parameter>\n",
      "<parameter>\n",
      "<name>finder-stage-D149.V37</name>\n",
      "<value>codeset</value>\n",
      "</parameter>\n",
      "<parameter>\n",
      "<name>saved_id</name>\n",
      "<value></value>\n",
      "</parameter>\n",
      "<parameter>\n",
      "<name>stage</name>\n",
      "<value>request</value>\n",
      "</parameter>\n",
      "</request-parameters>\n",
      "2023-03-17 13:45:59,603 - urllib3.connectionpool - _new_conn - DEBUG - Starting new HTTPS connection (1): wonder.cdc.gov:443\n",
      "2023-03-17 13:46:07,909 - urllib3.connectionpool - _make_request - DEBUG - https://wonder.cdc.gov:443 \"POST /controller/datarequest/D149 HTTP/1.1\" 200 158670\n"
     ]
    },
    {
     "name": "stderr",
     "output_type": "stream",
     "text": [
      "/Users/abhijithdasharathi/Study/UCSD/Winter_23/ECE143/CDC_Project/wonderD149Data/examples/../src/wonderD149Data/data/helper.py:472: SettingWithCopyWarning:\n",
      "\n",
      "\n",
      "A value is trying to be set on a copy of a slice from a DataFrame.\n",
      "Try using .loc[row_indexer,col_indexer] = value instead\n",
      "\n",
      "See the caveats in the documentation: https://pandas.pydata.org/pandas-docs/stable/user_guide/indexing.html#returning-a-view-versus-a-copy\n",
      "\n",
      "/Users/abhijithdasharathi/Study/UCSD/Winter_23/ECE143/CDC_Project/wonderD149Data/examples/../src/wonderD149Data/data/helper.py:447: SettingWithCopyWarning:\n",
      "\n",
      "\n",
      "A value is trying to be set on a copy of a slice from a DataFrame.\n",
      "Try using .loc[row_indexer,col_indexer] = value instead\n",
      "\n",
      "See the caveats in the documentation: https://pandas.pydata.org/pandas-docs/stable/user_guide/indexing.html#returning-a-view-versus-a-copy\n",
      "\n",
      "/Users/abhijithdasharathi/Study/UCSD/Winter_23/ECE143/CDC_Project/wonderD149Data/examples/../src/wonderD149Data/data/helper.py:448: SettingWithCopyWarning:\n",
      "\n",
      "\n",
      "A value is trying to be set on a copy of a slice from a DataFrame.\n",
      "Try using .loc[row_indexer,col_indexer] = value instead\n",
      "\n",
      "See the caveats in the documentation: https://pandas.pydata.org/pandas-docs/stable/user_guide/indexing.html#returning-a-view-versus-a-copy\n",
      "\n",
      "/Users/abhijithdasharathi/Study/UCSD/Winter_23/ECE143/CDC_Project/wonderD149Data/examples/../src/wonderD149Data/data/helper.py:449: SettingWithCopyWarning:\n",
      "\n",
      "\n",
      "A value is trying to be set on a copy of a slice from a DataFrame.\n",
      "Try using .loc[row_indexer,col_indexer] = value instead\n",
      "\n",
      "See the caveats in the documentation: https://pandas.pydata.org/pandas-docs/stable/user_guide/indexing.html#returning-a-view-versus-a-copy\n",
      "\n",
      "/Users/abhijithdasharathi/Study/UCSD/Winter_23/ECE143/CDC_Project/wonderD149Data/examples/../src/wonderD149Data/data/helper.py:447: SettingWithCopyWarning:\n",
      "\n",
      "\n",
      "A value is trying to be set on a copy of a slice from a DataFrame.\n",
      "Try using .loc[row_indexer,col_indexer] = value instead\n",
      "\n",
      "See the caveats in the documentation: https://pandas.pydata.org/pandas-docs/stable/user_guide/indexing.html#returning-a-view-versus-a-copy\n",
      "\n",
      "/Users/abhijithdasharathi/Study/UCSD/Winter_23/ECE143/CDC_Project/wonderD149Data/examples/../src/wonderD149Data/data/helper.py:448: SettingWithCopyWarning:\n",
      "\n",
      "\n",
      "A value is trying to be set on a copy of a slice from a DataFrame.\n",
      "Try using .loc[row_indexer,col_indexer] = value instead\n",
      "\n",
      "See the caveats in the documentation: https://pandas.pydata.org/pandas-docs/stable/user_guide/indexing.html#returning-a-view-versus-a-copy\n",
      "\n",
      "/Users/abhijithdasharathi/Study/UCSD/Winter_23/ECE143/CDC_Project/wonderD149Data/examples/../src/wonderD149Data/data/helper.py:449: SettingWithCopyWarning:\n",
      "\n",
      "\n",
      "A value is trying to be set on a copy of a slice from a DataFrame.\n",
      "Try using .loc[row_indexer,col_indexer] = value instead\n",
      "\n",
      "See the caveats in the documentation: https://pandas.pydata.org/pandas-docs/stable/user_guide/indexing.html#returning-a-view-versus-a-copy\n",
      "\n"
     ]
    },
    {
     "data": {
      "application/vnd.plotly.v1+json": {
       "config": {
        "plotlyServerURL": "https://plot.ly"
       },
       "data": [
        {
         "hovertemplate": "Issue=Cesarian<br>Mother's Pre-pregnancy BMI=%{x}<br>Percent of Mother Facing Issue=%{y}<extra></extra>",
         "legendgroup": "Cesarian",
         "line": {
          "color": "rgb(255, 152, 90)",
          "dash": "solid"
         },
         "marker": {
          "symbol": "circle"
         },
         "mode": "lines",
         "name": "Cesarian",
         "orientation": "v",
         "showlegend": true,
         "type": "scatter",
         "x": [
          "<18.5",
          "18.5-24.9",
          "25.0-29.9",
          "30.0-34.9",
          "35.0-39.9",
          "> 39.9"
         ],
         "xaxis": "x",
         "y": [
          21.252930981751454,
          25.596518805268904,
          32.06845530393648,
          37.67931321942979,
          43.377292268073354,
          52.27152519751856
         ],
         "yaxis": "y"
        },
        {
         "hovertemplate": "Issue=Induction of Labor<br>Mother's Pre-pregnancy BMI=%{x}<br>Percent of Mother Facing Issue=%{y}<extra></extra>",
         "legendgroup": "Induction of Labor",
         "line": {
          "color": "rgb(119, 158, 204)",
          "dash": "solid"
         },
         "marker": {
          "symbol": "circle"
         },
         "mode": "lines",
         "name": "Induction of Labor",
         "orientation": "v",
         "showlegend": true,
         "type": "scatter",
         "x": [
          "<18.5",
          "18.5-24.9",
          "25.0-29.9",
          "30.0-34.9",
          "35.0-39.9",
          "> 39.9"
         ],
         "xaxis": "x",
         "y": [
          23.81743585259031,
          26.016890457736487,
          28.803259457448345,
          31.012279227034057,
          33.17291393932918,
          34.57933679104994
         ],
         "yaxis": "y"
        },
        {
         "hovertemplate": "Issue=Antibiotics for Mother<br>Mother's Pre-pregnancy BMI=%{x}<br>Percent of Mother Facing Issue=%{y}<extra></extra>",
         "legendgroup": "Antibiotics for Mother",
         "line": {
          "color": "rgb(255, 179, 71)",
          "dash": "solid"
         },
         "marker": {
          "symbol": "circle"
         },
         "mode": "lines",
         "name": "Antibiotics for Mother",
         "orientation": "v",
         "showlegend": true,
         "type": "scatter",
         "x": [
          "<18.5",
          "18.5-24.9",
          "25.0-29.9",
          "30.0-34.9",
          "35.0-39.9",
          "> 39.9"
         ],
         "xaxis": "x",
         "y": [
          22.698545237814198,
          23.419610703714532,
          25.112016386435826,
          27.09286646278225,
          29.032202532607382,
          31.746646579659597
         ],
         "yaxis": "y"
        }
       ],
       "layout": {
        "font": {
         "color": "black",
         "family": "Verdana",
         "size": 24
        },
        "height": 900,
        "legend": {
         "title": {
          "font": {
           "color": "black"
          },
          "text": "Issue"
         },
         "tracegroupgap": 0
        },
        "margin": {
         "t": 60
        },
        "template": {
         "data": {
          "bar": [
           {
            "error_x": {
             "color": "#2a3f5f"
            },
            "error_y": {
             "color": "#2a3f5f"
            },
            "marker": {
             "line": {
              "color": "#E5ECF6",
              "width": 0.5
             },
             "pattern": {
              "fillmode": "overlay",
              "size": 10,
              "solidity": 0.2
             }
            },
            "type": "bar"
           }
          ],
          "barpolar": [
           {
            "marker": {
             "line": {
              "color": "#E5ECF6",
              "width": 0.5
             },
             "pattern": {
              "fillmode": "overlay",
              "size": 10,
              "solidity": 0.2
             }
            },
            "type": "barpolar"
           }
          ],
          "carpet": [
           {
            "aaxis": {
             "endlinecolor": "#2a3f5f",
             "gridcolor": "white",
             "linecolor": "white",
             "minorgridcolor": "white",
             "startlinecolor": "#2a3f5f"
            },
            "baxis": {
             "endlinecolor": "#2a3f5f",
             "gridcolor": "white",
             "linecolor": "white",
             "minorgridcolor": "white",
             "startlinecolor": "#2a3f5f"
            },
            "type": "carpet"
           }
          ],
          "choropleth": [
           {
            "colorbar": {
             "outlinewidth": 0,
             "ticks": ""
            },
            "type": "choropleth"
           }
          ],
          "contour": [
           {
            "colorbar": {
             "outlinewidth": 0,
             "ticks": ""
            },
            "colorscale": [
             [
              0,
              "#0d0887"
             ],
             [
              0.1111111111111111,
              "#46039f"
             ],
             [
              0.2222222222222222,
              "#7201a8"
             ],
             [
              0.3333333333333333,
              "#9c179e"
             ],
             [
              0.4444444444444444,
              "#bd3786"
             ],
             [
              0.5555555555555556,
              "#d8576b"
             ],
             [
              0.6666666666666666,
              "#ed7953"
             ],
             [
              0.7777777777777778,
              "#fb9f3a"
             ],
             [
              0.8888888888888888,
              "#fdca26"
             ],
             [
              1,
              "#f0f921"
             ]
            ],
            "type": "contour"
           }
          ],
          "contourcarpet": [
           {
            "colorbar": {
             "outlinewidth": 0,
             "ticks": ""
            },
            "type": "contourcarpet"
           }
          ],
          "heatmap": [
           {
            "colorbar": {
             "outlinewidth": 0,
             "ticks": ""
            },
            "colorscale": [
             [
              0,
              "#0d0887"
             ],
             [
              0.1111111111111111,
              "#46039f"
             ],
             [
              0.2222222222222222,
              "#7201a8"
             ],
             [
              0.3333333333333333,
              "#9c179e"
             ],
             [
              0.4444444444444444,
              "#bd3786"
             ],
             [
              0.5555555555555556,
              "#d8576b"
             ],
             [
              0.6666666666666666,
              "#ed7953"
             ],
             [
              0.7777777777777778,
              "#fb9f3a"
             ],
             [
              0.8888888888888888,
              "#fdca26"
             ],
             [
              1,
              "#f0f921"
             ]
            ],
            "type": "heatmap"
           }
          ],
          "heatmapgl": [
           {
            "colorbar": {
             "outlinewidth": 0,
             "ticks": ""
            },
            "colorscale": [
             [
              0,
              "#0d0887"
             ],
             [
              0.1111111111111111,
              "#46039f"
             ],
             [
              0.2222222222222222,
              "#7201a8"
             ],
             [
              0.3333333333333333,
              "#9c179e"
             ],
             [
              0.4444444444444444,
              "#bd3786"
             ],
             [
              0.5555555555555556,
              "#d8576b"
             ],
             [
              0.6666666666666666,
              "#ed7953"
             ],
             [
              0.7777777777777778,
              "#fb9f3a"
             ],
             [
              0.8888888888888888,
              "#fdca26"
             ],
             [
              1,
              "#f0f921"
             ]
            ],
            "type": "heatmapgl"
           }
          ],
          "histogram": [
           {
            "marker": {
             "pattern": {
              "fillmode": "overlay",
              "size": 10,
              "solidity": 0.2
             }
            },
            "type": "histogram"
           }
          ],
          "histogram2d": [
           {
            "colorbar": {
             "outlinewidth": 0,
             "ticks": ""
            },
            "colorscale": [
             [
              0,
              "#0d0887"
             ],
             [
              0.1111111111111111,
              "#46039f"
             ],
             [
              0.2222222222222222,
              "#7201a8"
             ],
             [
              0.3333333333333333,
              "#9c179e"
             ],
             [
              0.4444444444444444,
              "#bd3786"
             ],
             [
              0.5555555555555556,
              "#d8576b"
             ],
             [
              0.6666666666666666,
              "#ed7953"
             ],
             [
              0.7777777777777778,
              "#fb9f3a"
             ],
             [
              0.8888888888888888,
              "#fdca26"
             ],
             [
              1,
              "#f0f921"
             ]
            ],
            "type": "histogram2d"
           }
          ],
          "histogram2dcontour": [
           {
            "colorbar": {
             "outlinewidth": 0,
             "ticks": ""
            },
            "colorscale": [
             [
              0,
              "#0d0887"
             ],
             [
              0.1111111111111111,
              "#46039f"
             ],
             [
              0.2222222222222222,
              "#7201a8"
             ],
             [
              0.3333333333333333,
              "#9c179e"
             ],
             [
              0.4444444444444444,
              "#bd3786"
             ],
             [
              0.5555555555555556,
              "#d8576b"
             ],
             [
              0.6666666666666666,
              "#ed7953"
             ],
             [
              0.7777777777777778,
              "#fb9f3a"
             ],
             [
              0.8888888888888888,
              "#fdca26"
             ],
             [
              1,
              "#f0f921"
             ]
            ],
            "type": "histogram2dcontour"
           }
          ],
          "mesh3d": [
           {
            "colorbar": {
             "outlinewidth": 0,
             "ticks": ""
            },
            "type": "mesh3d"
           }
          ],
          "parcoords": [
           {
            "line": {
             "colorbar": {
              "outlinewidth": 0,
              "ticks": ""
             }
            },
            "type": "parcoords"
           }
          ],
          "pie": [
           {
            "automargin": true,
            "type": "pie"
           }
          ],
          "scatter": [
           {
            "fillpattern": {
             "fillmode": "overlay",
             "size": 10,
             "solidity": 0.2
            },
            "type": "scatter"
           }
          ],
          "scatter3d": [
           {
            "line": {
             "colorbar": {
              "outlinewidth": 0,
              "ticks": ""
             }
            },
            "marker": {
             "colorbar": {
              "outlinewidth": 0,
              "ticks": ""
             }
            },
            "type": "scatter3d"
           }
          ],
          "scattercarpet": [
           {
            "marker": {
             "colorbar": {
              "outlinewidth": 0,
              "ticks": ""
             }
            },
            "type": "scattercarpet"
           }
          ],
          "scattergeo": [
           {
            "marker": {
             "colorbar": {
              "outlinewidth": 0,
              "ticks": ""
             }
            },
            "type": "scattergeo"
           }
          ],
          "scattergl": [
           {
            "marker": {
             "colorbar": {
              "outlinewidth": 0,
              "ticks": ""
             }
            },
            "type": "scattergl"
           }
          ],
          "scattermapbox": [
           {
            "marker": {
             "colorbar": {
              "outlinewidth": 0,
              "ticks": ""
             }
            },
            "type": "scattermapbox"
           }
          ],
          "scatterpolar": [
           {
            "marker": {
             "colorbar": {
              "outlinewidth": 0,
              "ticks": ""
             }
            },
            "type": "scatterpolar"
           }
          ],
          "scatterpolargl": [
           {
            "marker": {
             "colorbar": {
              "outlinewidth": 0,
              "ticks": ""
             }
            },
            "type": "scatterpolargl"
           }
          ],
          "scatterternary": [
           {
            "marker": {
             "colorbar": {
              "outlinewidth": 0,
              "ticks": ""
             }
            },
            "type": "scatterternary"
           }
          ],
          "surface": [
           {
            "colorbar": {
             "outlinewidth": 0,
             "ticks": ""
            },
            "colorscale": [
             [
              0,
              "#0d0887"
             ],
             [
              0.1111111111111111,
              "#46039f"
             ],
             [
              0.2222222222222222,
              "#7201a8"
             ],
             [
              0.3333333333333333,
              "#9c179e"
             ],
             [
              0.4444444444444444,
              "#bd3786"
             ],
             [
              0.5555555555555556,
              "#d8576b"
             ],
             [
              0.6666666666666666,
              "#ed7953"
             ],
             [
              0.7777777777777778,
              "#fb9f3a"
             ],
             [
              0.8888888888888888,
              "#fdca26"
             ],
             [
              1,
              "#f0f921"
             ]
            ],
            "type": "surface"
           }
          ],
          "table": [
           {
            "cells": {
             "fill": {
              "color": "#EBF0F8"
             },
             "line": {
              "color": "white"
             }
            },
            "header": {
             "fill": {
              "color": "#C8D4E3"
             },
             "line": {
              "color": "white"
             }
            },
            "type": "table"
           }
          ]
         },
         "layout": {
          "annotationdefaults": {
           "arrowcolor": "#2a3f5f",
           "arrowhead": 0,
           "arrowwidth": 1
          },
          "autotypenumbers": "strict",
          "coloraxis": {
           "colorbar": {
            "outlinewidth": 0,
            "ticks": ""
           }
          },
          "colorscale": {
           "diverging": [
            [
             0,
             "#8e0152"
            ],
            [
             0.1,
             "#c51b7d"
            ],
            [
             0.2,
             "#de77ae"
            ],
            [
             0.3,
             "#f1b6da"
            ],
            [
             0.4,
             "#fde0ef"
            ],
            [
             0.5,
             "#f7f7f7"
            ],
            [
             0.6,
             "#e6f5d0"
            ],
            [
             0.7,
             "#b8e186"
            ],
            [
             0.8,
             "#7fbc41"
            ],
            [
             0.9,
             "#4d9221"
            ],
            [
             1,
             "#276419"
            ]
           ],
           "sequential": [
            [
             0,
             "#0d0887"
            ],
            [
             0.1111111111111111,
             "#46039f"
            ],
            [
             0.2222222222222222,
             "#7201a8"
            ],
            [
             0.3333333333333333,
             "#9c179e"
            ],
            [
             0.4444444444444444,
             "#bd3786"
            ],
            [
             0.5555555555555556,
             "#d8576b"
            ],
            [
             0.6666666666666666,
             "#ed7953"
            ],
            [
             0.7777777777777778,
             "#fb9f3a"
            ],
            [
             0.8888888888888888,
             "#fdca26"
            ],
            [
             1,
             "#f0f921"
            ]
           ],
           "sequentialminus": [
            [
             0,
             "#0d0887"
            ],
            [
             0.1111111111111111,
             "#46039f"
            ],
            [
             0.2222222222222222,
             "#7201a8"
            ],
            [
             0.3333333333333333,
             "#9c179e"
            ],
            [
             0.4444444444444444,
             "#bd3786"
            ],
            [
             0.5555555555555556,
             "#d8576b"
            ],
            [
             0.6666666666666666,
             "#ed7953"
            ],
            [
             0.7777777777777778,
             "#fb9f3a"
            ],
            [
             0.8888888888888888,
             "#fdca26"
            ],
            [
             1,
             "#f0f921"
            ]
           ]
          },
          "colorway": [
           "#636efa",
           "#EF553B",
           "#00cc96",
           "#ab63fa",
           "#FFA15A",
           "#19d3f3",
           "#FF6692",
           "#B6E880",
           "#FF97FF",
           "#FECB52"
          ],
          "font": {
           "color": "#2a3f5f"
          },
          "geo": {
           "bgcolor": "white",
           "lakecolor": "white",
           "landcolor": "#E5ECF6",
           "showlakes": true,
           "showland": true,
           "subunitcolor": "white"
          },
          "hoverlabel": {
           "align": "left"
          },
          "hovermode": "closest",
          "mapbox": {
           "style": "light"
          },
          "paper_bgcolor": "white",
          "plot_bgcolor": "#E5ECF6",
          "polar": {
           "angularaxis": {
            "gridcolor": "white",
            "linecolor": "white",
            "ticks": ""
           },
           "bgcolor": "#E5ECF6",
           "radialaxis": {
            "gridcolor": "white",
            "linecolor": "white",
            "ticks": ""
           }
          },
          "scene": {
           "xaxis": {
            "backgroundcolor": "#E5ECF6",
            "gridcolor": "white",
            "gridwidth": 2,
            "linecolor": "white",
            "showbackground": true,
            "ticks": "",
            "zerolinecolor": "white"
           },
           "yaxis": {
            "backgroundcolor": "#E5ECF6",
            "gridcolor": "white",
            "gridwidth": 2,
            "linecolor": "white",
            "showbackground": true,
            "ticks": "",
            "zerolinecolor": "white"
           },
           "zaxis": {
            "backgroundcolor": "#E5ECF6",
            "gridcolor": "white",
            "gridwidth": 2,
            "linecolor": "white",
            "showbackground": true,
            "ticks": "",
            "zerolinecolor": "white"
           }
          },
          "shapedefaults": {
           "line": {
            "color": "#2a3f5f"
           }
          },
          "ternary": {
           "aaxis": {
            "gridcolor": "white",
            "linecolor": "white",
            "ticks": ""
           },
           "baxis": {
            "gridcolor": "white",
            "linecolor": "white",
            "ticks": ""
           },
           "bgcolor": "#E5ECF6",
           "caxis": {
            "gridcolor": "white",
            "linecolor": "white",
            "ticks": ""
           }
          },
          "title": {
           "x": 0.05
          },
          "xaxis": {
           "automargin": true,
           "gridcolor": "white",
           "linecolor": "white",
           "ticks": "",
           "title": {
            "standoff": 15
           },
           "zerolinecolor": "white",
           "zerolinewidth": 2
          },
          "yaxis": {
           "automargin": true,
           "gridcolor": "white",
           "linecolor": "white",
           "ticks": "",
           "title": {
            "standoff": 15
           },
           "zerolinecolor": "white",
           "zerolinewidth": 2
          }
         }
        },
        "title": {
         "font": {
          "color": "black",
          "family": "Verdana",
          "size": 28
         },
         "text": "Effect of BMI on Pregnancy",
         "x": 0.5,
         "xanchor": "center",
         "yanchor": "top"
        },
        "width": 1800,
        "xaxis": {
         "anchor": "y",
         "domain": [
          0,
          1
         ],
         "title": {
          "text": "Mother's Pre-pregnancy BMI"
         }
        },
        "yaxis": {
         "anchor": "x",
         "domain": [
          0,
          1
         ],
         "title": {
          "text": "Percent of Mother Facing Issue"
         }
        }
       }
      }
     },
     "metadata": {},
     "output_type": "display_data"
    }
   ],
   "source": [
    "group_by_list = [\n",
    "    'D149.V71', # Mother's Pre-pregnancy BMI\n",
    "    'D149.V91', #Induction of Labor\n",
    "]\n",
    "measure_selection = {\n",
    "    'M_002': 'D149.M002', # Births\n",
    "}\n",
    "observation_selection = {}\n",
    "variable_filter = {\n",
    "    'V_D149.V91': ['1','2'], # filtering only yes and no\n",
    "    'V_D149.V71': ['1','2','3','4','5','6'], # filtering only required BMI\n",
    "}\n",
    "dataObj = wd.WonderD149Data(group_by_list,measure_selection,observation_selection,variable_filter)\n",
    "induction_of_labour = dataObj.getData()\n",
    "\n",
    "group_by_list = [\n",
    "    'D149.V71', # Mother's Pre-pregnancy BMI\n",
    "    'D149.V94', #Antibiotics for Mother\n",
    "]\n",
    "measure_selection = {\n",
    "    'M_002': 'D149.M002', # Births\n",
    "}\n",
    "observation_selection = {}\n",
    "variable_filter = {\n",
    "    'V_D149.V94': ['1','2'], # filtering only yes and no\n",
    "    'V_D149.V71': ['1','2','3','4','5','6'], # filtering only required BMI\n",
    "}\n",
    "\n",
    "dataObj = wd.WonderD149Data(group_by_list,measure_selection,observation_selection,variable_filter)\n",
    "antibiotics_for_mother = dataObj.getData()\n",
    "\n",
    "group_by_list = [\n",
    "    'D149.V71', # Mother's Pre-pregnancy BMI\n",
    "]\n",
    "measure_selection = {\n",
    "    'M_002': 'D149.M002', # Births\n",
    "}\n",
    "observation_selection = {\n",
    "    'O_delivery':'D149.V31'\n",
    "}\n",
    "variable_filter = {\n",
    "    'V_D149.V31': ['2'], # filtering only yes and no\n",
    "    'V_D149.V71': ['1','2','3','4','5','6'], # filtering only required BMI\n",
    "}\n",
    "\n",
    "dataObj = wd.WonderD149Data(group_by_list,measure_selection,observation_selection,variable_filter)\n",
    "ceserian_yes = dataObj.getData()\n",
    "\n",
    "group_by_list = [\n",
    "    'D149.V71', # Mother's Pre-pregnancy BMI\n",
    "]\n",
    "measure_selection = {\n",
    "    'M_002': 'D149.M002', # Births\n",
    "}\n",
    "observation_selection = {\n",
    "    'O_delivery':'D149.V31'\n",
    "}\n",
    "variable_filter = {\n",
    "    'V_D149.V31': ['1','9'], # filtering only yes and no\n",
    "    'V_D149.V71': ['1','2','3','4','5','6'], # filtering only required BMI\n",
    "}\n",
    "\n",
    "dataObj = wd.WonderD149Data(group_by_list,measure_selection,observation_selection,variable_filter)\n",
    "ceserian_no = dataObj.getData()\n",
    "\n",
    "ceserian = hp.merge_dataframe_on_yes_and_no(ceserian_yes,ceserian_no,\"Mother's Pre-pregnancy BMI\",'Cesarian')\n",
    "\n",
    "induction_of_labour_data = hp.get_percent_data(induction_of_labour,'Induction of Labor',\"Mother's Pre-pregnancy BMI\")\n",
    "antibiotics_for_mother_data = hp.get_percent_data(antibiotics_for_mother,'Antibiotics for Mother',\"Mother's Pre-pregnancy BMI\")\n",
    "\n",
    "final_df_bmi_linear = pd.concat([ceserian,induction_of_labour_data,antibiotics_for_mother_data]).reset_index()[[\"Mother's Pre-pregnancy BMI\",\"Percent of Mother Facing Issue\",\"Issue\"]]\n",
    "\n",
    "convertion_dict={\n",
    "    'Underweight <18.5':'<18.5',\n",
    "    'Normal 18.5-24.9':'18.5-24.9',\n",
    "    'Overweight 25.0-29.9':'25.0-29.9',\n",
    "    'Obesity I 30.0-34.9':'30.0-34.9',\n",
    "    'Obesity II 35.0-39.9':'35.0-39.9',\n",
    "    'Extreme Obesity III > 39.9':'> 39.9',\n",
    "}\n",
    "\n",
    "final_df_bmi_linear['Mother\\'s Pre-pregnancy BMI'] =final_df_bmi_linear['Mother\\'s Pre-pregnancy BMI'].transform(lambda x: convertion_dict[x])\n",
    "\n",
    "fig = hp.plot_line(final_df_bmi_linear,'Mother\\'s Pre-pregnancy BMI','Effect of BMI on Pregnancy')\n",
    "fig"
   ]
  },
  {
   "attachments": {},
   "cell_type": "markdown",
   "metadata": {},
   "source": [
    "## Visualization 3\n",
    "Impact of BMI U shape"
   ]
  },
  {
   "cell_type": "code",
   "execution_count": 6,
   "metadata": {},
   "outputs": [
    {
     "name": "stdout",
     "output_type": "stream",
     "text": [
      "2023-03-17 13:46:10,981 - root - _createXMLRequest - INFO - the xml sent to api is as below\n",
      "2023-03-17 13:46:10,982 - root - _createXMLRequest - DEBUG - <request-parameters>\n",
      "<parameter>\n",
      "<name>B_1</name>\n",
      "<value>D149.V71</value>\n",
      "</parameter>\n",
      "<parameter>\n",
      "<name>B_2</name>\n",
      "<value>*None*</value>\n",
      "</parameter>\n",
      "<parameter>\n",
      "<name>B_3</name>\n",
      "<value>*None*</value>\n",
      "</parameter>\n",
      "<parameter>\n",
      "<name>B_4</name>\n",
      "<value>*None*</value>\n",
      "</parameter>\n",
      "<parameter>\n",
      "<name>B_5</name>\n",
      "<value>*None*</value>\n",
      "</parameter>\n",
      "<parameter>\n",
      "<name>F_D149.V21</name>\n",
      "<value>*All*</value>\n",
      "</parameter>\n",
      "<parameter>\n",
      "<name>F_D149.V22</name>\n",
      "<value>*All*</value>\n",
      "</parameter>\n",
      "<parameter>\n",
      "<name>F_D149.V37</name>\n",
      "<value>*All*</value>\n",
      "</parameter>\n",
      "<parameter>\n",
      "<name>I_D149.V21</name>\n",
      "<value>*All*  (The United States)</value>\n",
      "</parameter>\n",
      "<parameter>\n",
      "<name>I_D149.V22</name>\n",
      "<value>*All*  (The United States)</value>\n",
      "</parameter>\n",
      "<parameter>\n",
      "<name>I_D149.V37</name>\n",
      "<value>*All*  (The United States)</value>\n",
      "</parameter>\n",
      "<parameter>\n",
      "<name>M_002</name>\n",
      "<value>D149.M002</value>\n",
      "</parameter>\n",
      "<parameter>\n",
      "<name>O_V21_fmode</name>\n",
      "<value>freg</value>\n",
      "</parameter>\n",
      "<parameter>\n",
      "<name>O_V22_fmode</name>\n",
      "<value>freg</value>\n",
      "</parameter>\n",
      "<parameter>\n",
      "<name>O_V37_fmode</name>\n",
      "<value>freg</value>\n",
      "</parameter>\n",
      "<parameter>\n",
      "<name>O_age</name>\n",
      "<value>D149.V1</value>\n",
      "</parameter>\n",
      "<parameter>\n",
      "<name>O_apgar10</name>\n",
      "<value>D149.V113</value>\n",
      "</parameter>\n",
      "<parameter>\n",
      "<name>O_apgar5</name>\n",
      "<value>D149.V111</value>\n",
      "</parameter>\n",
      "<parameter>\n",
      "<name>O_cig_before</name>\n",
      "<value>D149.V143</value>\n",
      "</parameter>\n",
      "<parameter>\n",
      "<name>O_cig_trim1</name>\n",
      "<value>D149.V144</value>\n",
      "</parameter>\n",
      "<parameter>\n",
      "<name>O_cig_trim2</name>\n",
      "<value>D149.V145</value>\n",
      "</parameter>\n",
      "<parameter>\n",
      "<name>O_cig_trim3</name>\n",
      "<value>D149.V146</value>\n",
      "</parameter>\n",
      "<parameter>\n",
      "<name>O_delivery</name>\n",
      "<value>D149.V101</value>\n",
      "</parameter>\n",
      "<parameter>\n",
      "<name>O_f_ethnicity</name>\n",
      "<value>D149.V53</value>\n",
      "</parameter>\n",
      "<parameter>\n",
      "<name>O_frace</name>\n",
      "<value>D149.V54</value>\n",
      "</parameter>\n",
      "<parameter>\n",
      "<name>O_gestation</name>\n",
      "<value>D149.V6</value>\n",
      "</parameter>\n",
      "<parameter>\n",
      "<name>O_javascript</name>\n",
      "<value>on</value>\n",
      "</parameter>\n",
      "<parameter>\n",
      "<name>O_location</name>\n",
      "<value>D149.V21</value>\n",
      "</parameter>\n",
      "<parameter>\n",
      "<name>O_m_ethnicity</name>\n",
      "<value>D149.V43</value>\n",
      "</parameter>\n",
      "<parameter>\n",
      "<name>O_oc-sect1-request</name>\n",
      "<value>close</value>\n",
      "</parameter>\n",
      "<parameter>\n",
      "<name>O_oe_gestation</name>\n",
      "<value>D149.V33</value>\n",
      "</parameter>\n",
      "<parameter>\n",
      "<name>O_pay</name>\n",
      "<value>D149.V110</value>\n",
      "</parameter>\n",
      "<parameter>\n",
      "<name>O_place</name>\n",
      "<value>D149.V45</value>\n",
      "</parameter>\n",
      "<parameter>\n",
      "<name>O_precision</name>\n",
      "<value>2</value>\n",
      "</parameter>\n",
      "<parameter>\n",
      "<name>O_prenatal</name>\n",
      "<value>D149.V63</value>\n",
      "</parameter>\n",
      "<parameter>\n",
      "<name>O_prenatal2</name>\n",
      "<value>D149.V65</value>\n",
      "</parameter>\n",
      "<parameter>\n",
      "<name>O_race</name>\n",
      "<value>D149.V42</value>\n",
      "</parameter>\n",
      "<parameter>\n",
      "<name>O_rate_per</name>\n",
      "<value>1000</value>\n",
      "</parameter>\n",
      "<parameter>\n",
      "<name>O_show_suppressed</name>\n",
      "<value>false</value>\n",
      "</parameter>\n",
      "<parameter>\n",
      "<name>O_show_totals</name>\n",
      "<value>true</value>\n",
      "</parameter>\n",
      "<parameter>\n",
      "<name>O_show_zeros</name>\n",
      "<value>false</value>\n",
      "</parameter>\n",
      "<parameter>\n",
      "<name>O_timeout</name>\n",
      "<value>600</value>\n",
      "</parameter>\n",
      "<parameter>\n",
      "<name>O_urban</name>\n",
      "<value>D149.V154</value>\n",
      "</parameter>\n",
      "<parameter>\n",
      "<name>O_weight</name>\n",
      "<value>D149.V9</value>\n",
      "</parameter>\n",
      "<parameter>\n",
      "<name>V_D149.V1</name>\n",
      "<value>*All*</value>\n",
      "</parameter>\n",
      "<parameter>\n",
      "<name>V_D149.V10</name>\n",
      "<value>*All*</value>\n",
      "</parameter>\n",
      "<parameter>\n",
      "<name>V_D149.V100</name>\n",
      "<value>*All*</value>\n",
      "</parameter>\n",
      "<parameter>\n",
      "<name>V_D149.V101</name>\n",
      "<value>*All*</value>\n",
      "</parameter>\n",
      "<parameter>\n",
      "<name>V_D149.V102</name>\n",
      "<value>*All*</value>\n",
      "</parameter>\n",
      "<parameter>\n",
      "<name>V_D149.V103</name>\n",
      "<value>*All*</value>\n",
      "</parameter>\n",
      "<parameter>\n",
      "<name>V_D149.V104</name>\n",
      "<value>*All*</value>\n",
      "</parameter>\n",
      "<parameter>\n",
      "<name>V_D149.V105</name>\n",
      "<value>*All*</value>\n",
      "</parameter>\n",
      "<parameter>\n",
      "<name>V_D149.V106</name>\n",
      "<value>*All*</value>\n",
      "</parameter>\n",
      "<parameter>\n",
      "<name>V_D149.V107</name>\n",
      "<value>*All*</value>\n",
      "</parameter>\n",
      "<parameter>\n",
      "<name>V_D149.V108</name>\n",
      "<value>*All*</value>\n",
      "</parameter>\n",
      "<parameter>\n",
      "<name>V_D149.V109</name>\n",
      "<value>*All*</value>\n",
      "</parameter>\n",
      "<parameter>\n",
      "<name>V_D149.V110</name>\n",
      "<value>*All*</value>\n",
      "</parameter>\n",
      "<parameter>\n",
      "<name>V_D149.V111</name>\n",
      "<value>*All*</value>\n",
      "</parameter>\n",
      "<parameter>\n",
      "<name>V_D149.V112</name>\n",
      "<value>*All*</value>\n",
      "</parameter>\n",
      "<parameter>\n",
      "<name>V_D149.V113</name>\n",
      "<value>*All*</value>\n",
      "</parameter>\n",
      "<parameter>\n",
      "<name>V_D149.V114</name>\n",
      "<value>*All*</value>\n",
      "</parameter>\n",
      "<parameter>\n",
      "<name>V_D149.V115</name>\n",
      "<value>*All*</value>\n",
      "</parameter>\n",
      "<parameter>\n",
      "<name>V_D149.V116</name>\n",
      "<value>*All*</value>\n",
      "</parameter>\n",
      "<parameter>\n",
      "<name>V_D149.V117</name>\n",
      "<value>*All*</value>\n",
      "</parameter>\n",
      "<parameter>\n",
      "<name>V_D149.V118</name>\n",
      "<value>*All*</value>\n",
      "</parameter>\n",
      "<parameter>\n",
      "<name>V_D149.V119</name>\n",
      "<value>*All*</value>\n",
      "</parameter>\n",
      "<parameter>\n",
      "<name>V_D149.V120</name>\n",
      "<value>*All*</value>\n",
      "</parameter>\n",
      "<parameter>\n",
      "<name>V_D149.V121</name>\n",
      "<value>*All*</value>\n",
      "</parameter>\n",
      "<parameter>\n",
      "<name>V_D149.V122</name>\n",
      "<value>*All*</value>\n",
      "</parameter>\n",
      "<parameter>\n",
      "<name>V_D149.V123</name>\n",
      "<value>*All*</value>\n",
      "</parameter>\n",
      "<parameter>\n",
      "<name>V_D149.V124</name>\n",
      "<value>*All*</value>\n",
      "</parameter>\n",
      "<parameter>\n",
      "<name>V_D149.V125</name>\n",
      "<value>*All*</value>\n",
      "</parameter>\n",
      "<parameter>\n",
      "<name>V_D149.V126</name>\n",
      "<value>*All*</value>\n",
      "</parameter>\n",
      "<parameter>\n",
      "<name>V_D149.V127</name>\n",
      "<value>*All*</value>\n",
      "</parameter>\n",
      "<parameter>\n",
      "<name>V_D149.V128</name>\n",
      "<value>*All*</value>\n",
      "</parameter>\n",
      "<parameter>\n",
      "<name>V_D149.V129</name>\n",
      "<value>*All*</value>\n",
      "</parameter>\n",
      "<parameter>\n",
      "<name>V_D149.V130</name>\n",
      "<value>*All*</value>\n",
      "</parameter>\n",
      "<parameter>\n",
      "<name>V_D149.V131</name>\n",
      "<value>*All*</value>\n",
      "</parameter>\n",
      "<parameter>\n",
      "<name>V_D149.V132</name>\n",
      "<value>*All*</value>\n",
      "</parameter>\n",
      "<parameter>\n",
      "<name>V_D149.V133</name>\n",
      "<value>*All*</value>\n",
      "</parameter>\n",
      "<parameter>\n",
      "<name>V_D149.V134</name>\n",
      "<value>*All*</value>\n",
      "</parameter>\n",
      "<parameter>\n",
      "<name>V_D149.V135</name>\n",
      "<value>*All*</value>\n",
      "</parameter>\n",
      "<parameter>\n",
      "<name>V_D149.V136</name>\n",
      "<value>*All*</value>\n",
      "</parameter>\n",
      "<parameter>\n",
      "<name>V_D149.V137</name>\n",
      "<value>*All*</value>\n",
      "</parameter>\n",
      "<parameter>\n",
      "<name>V_D149.V138</name>\n",
      "<value>*All*</value>\n",
      "</parameter>\n",
      "<parameter>\n",
      "<name>V_D149.V139</name>\n",
      "<value>*All*</value>\n",
      "</parameter>\n",
      "<parameter>\n",
      "<name>V_D149.V140</name>\n",
      "<value>*All*</value>\n",
      "</parameter>\n",
      "<parameter>\n",
      "<name>V_D149.V141</name>\n",
      "<value>*All*</value>\n",
      "</parameter>\n",
      "<parameter>\n",
      "<name>V_D149.V142</name>\n",
      "<value>*All*</value>\n",
      "</parameter>\n",
      "<parameter>\n",
      "<name>V_D149.V143</name>\n",
      "<value>*All*</value>\n",
      "</parameter>\n",
      "<parameter>\n",
      "<name>V_D149.V144</name>\n",
      "<value>*All*</value>\n",
      "</parameter>\n",
      "<parameter>\n",
      "<name>V_D149.V145</name>\n",
      "<value>*All*</value>\n",
      "</parameter>\n",
      "<parameter>\n",
      "<name>V_D149.V146</name>\n",
      "<value>*All*</value>\n",
      "</parameter>\n",
      "<parameter>\n",
      "<name>V_D149.V147</name>\n",
      "<value>*All*</value>\n",
      "</parameter>\n",
      "<parameter>\n",
      "<name>V_D149.V149</name>\n",
      "<value>*All*</value>\n",
      "</parameter>\n",
      "<parameter>\n",
      "<name>V_D149.V150</name>\n",
      "<value>*All*</value>\n",
      "</parameter>\n",
      "<parameter>\n",
      "<name>V_D149.V151</name>\n",
      "<value>*All*</value>\n",
      "</parameter>\n",
      "<parameter>\n",
      "<name>V_D149.V152</name>\n",
      "<value>*All*</value>\n",
      "</parameter>\n",
      "<parameter>\n",
      "<name>V_D149.V153</name>\n",
      "<value>*All*</value>\n",
      "</parameter>\n",
      "<parameter>\n",
      "<name>V_D149.V154</name>\n",
      "<value>*All*</value>\n",
      "</parameter>\n",
      "<parameter>\n",
      "<name>V_D149.V155</name>\n",
      "<value>*All*</value>\n",
      "</parameter>\n",
      "<parameter>\n",
      "<name>V_D149.V156</name>\n",
      "<value>*All*</value>\n",
      "</parameter>\n",
      "<parameter>\n",
      "<name>V_D149.V157</name>\n",
      "<value>*All*</value>\n",
      "</parameter>\n",
      "<parameter>\n",
      "<name>V_D149.V16</name>\n",
      "<value>*All*</value>\n",
      "</parameter>\n",
      "<parameter>\n",
      "<name>V_D149.V17</name>\n",
      "<value>*All*</value>\n",
      "</parameter>\n",
      "<parameter>\n",
      "<name>V_D149.V18</name>\n",
      "<value>*All*</value>\n",
      "</parameter>\n",
      "<parameter>\n",
      "<name>V_D149.V20</name>\n",
      "<value>*All*</value>\n",
      "</parameter>\n",
      "<parameter>\n",
      "<name>V_D149.V23</name>\n",
      "<value>*All*</value>\n",
      "</parameter>\n",
      "<parameter>\n",
      "<name>V_D149.V24</name>\n",
      "<value>*All*</value>\n",
      "</parameter>\n",
      "<parameter>\n",
      "<name>V_D149.V25</name>\n",
      "<value>*All*</value>\n",
      "</parameter>\n",
      "<parameter>\n",
      "<name>V_D149.V26</name>\n",
      "<value>*All*</value>\n",
      "</parameter>\n",
      "<parameter>\n",
      "<name>V_D149.V27</name>\n",
      "<value>*All*</value>\n",
      "</parameter>\n",
      "<parameter>\n",
      "<name>V_D149.V28</name>\n",
      "<value>*All*</value>\n",
      "</parameter>\n",
      "<parameter>\n",
      "<name>V_D149.V29</name>\n",
      "<value>*All*</value>\n",
      "</parameter>\n",
      "<parameter>\n",
      "<name>V_D149.V3</name>\n",
      "<value>*All*</value>\n",
      "</parameter>\n",
      "<parameter>\n",
      "<name>V_D149.V30</name>\n",
      "<value>*All*</value>\n",
      "</parameter>\n",
      "<parameter>\n",
      "<name>V_D149.V31</name>\n",
      "<value>*All*</value>\n",
      "</parameter>\n",
      "<parameter>\n",
      "<name>V_D149.V32</name>\n",
      "<value>*All*</value>\n",
      "</parameter>\n",
      "<parameter>\n",
      "<name>V_D149.V33</name>\n",
      "<value>01</value>\n",
      "<value>02</value>\n",
      "<value>03</value>\n",
      "<value>04</value>\n",
      "<value>05</value>\n",
      "</parameter>\n",
      "<parameter>\n",
      "<name>V_D149.V34</name>\n",
      "<value>*All*</value>\n",
      "</parameter>\n",
      "<parameter>\n",
      "<name>V_D149.V35</name>\n",
      "<value>*All*</value>\n",
      "</parameter>\n",
      "<parameter>\n",
      "<name>V_D149.V38</name>\n",
      "<value>*All*</value>\n",
      "</parameter>\n",
      "<parameter>\n",
      "<name>V_D149.V39</name>\n",
      "<value>*All*</value>\n",
      "</parameter>\n",
      "<parameter>\n",
      "<name>V_D149.V4</name>\n",
      "<value>*All*</value>\n",
      "</parameter>\n",
      "<parameter>\n",
      "<name>V_D149.V41</name>\n",
      "<value>*All*</value>\n",
      "</parameter>\n",
      "<parameter>\n",
      "<name>V_D149.V42</name>\n",
      "<value>*All*</value>\n",
      "</parameter>\n",
      "<parameter>\n",
      "<name>V_D149.V43</name>\n",
      "<value>*All*</value>\n",
      "</parameter>\n",
      "<parameter>\n",
      "<name>V_D149.V44</name>\n",
      "<value>*All*</value>\n",
      "</parameter>\n",
      "<parameter>\n",
      "<name>V_D149.V45</name>\n",
      "<value>*All*</value>\n",
      "</parameter>\n",
      "<parameter>\n",
      "<name>V_D149.V46</name>\n",
      "<value>*All*</value>\n",
      "</parameter>\n",
      "<parameter>\n",
      "<name>V_D149.V47</name>\n",
      "<value>*All*</value>\n",
      "</parameter>\n",
      "<parameter>\n",
      "<name>V_D149.V48</name>\n",
      "<value>*All*</value>\n",
      "</parameter>\n",
      "<parameter>\n",
      "<name>V_D149.V49</name>\n",
      "<value>*All*</value>\n",
      "</parameter>\n",
      "<parameter>\n",
      "<name>V_D149.V5</name>\n",
      "<value>*All*</value>\n",
      "</parameter>\n",
      "<parameter>\n",
      "<name>V_D149.V50</name>\n",
      "<value>*All*</value>\n",
      "</parameter>\n",
      "<parameter>\n",
      "<name>V_D149.V51</name>\n",
      "<value>*All*</value>\n",
      "</parameter>\n",
      "<parameter>\n",
      "<name>V_D149.V52</name>\n",
      "<value>*All*</value>\n",
      "</parameter>\n",
      "<parameter>\n",
      "<name>V_D149.V53</name>\n",
      "<value>*All*</value>\n",
      "</parameter>\n",
      "<parameter>\n",
      "<name>V_D149.V54</name>\n",
      "<value>*All*</value>\n",
      "</parameter>\n",
      "<parameter>\n",
      "<name>V_D149.V55</name>\n",
      "<value>*All*</value>\n",
      "</parameter>\n",
      "<parameter>\n",
      "<name>V_D149.V56</name>\n",
      "<value>*All*</value>\n",
      "</parameter>\n",
      "<parameter>\n",
      "<name>V_D149.V57</name>\n",
      "<value>*All*</value>\n",
      "</parameter>\n",
      "<parameter>\n",
      "<name>V_D149.V58</name>\n",
      "<value>*All*</value>\n",
      "</parameter>\n",
      "<parameter>\n",
      "<name>V_D149.V59</name>\n",
      "<value>*All*</value>\n",
      "</parameter>\n",
      "<parameter>\n",
      "<name>V_D149.V6</name>\n",
      "<value>*All*</value>\n",
      "</parameter>\n",
      "<parameter>\n",
      "<name>V_D149.V60</name>\n",
      "<value>*All*</value>\n",
      "</parameter>\n",
      "<parameter>\n",
      "<name>V_D149.V61</name>\n",
      "<value>*All*</value>\n",
      "</parameter>\n",
      "<parameter>\n",
      "<name>V_D149.V62</name>\n",
      "<value>*All*</value>\n",
      "</parameter>\n",
      "<parameter>\n",
      "<name>V_D149.V63</name>\n",
      "<value>*All*</value>\n",
      "</parameter>\n",
      "<parameter>\n",
      "<name>V_D149.V64</name>\n",
      "<value>*All*</value>\n",
      "</parameter>\n",
      "<parameter>\n",
      "<name>V_D149.V65</name>\n",
      "<value>*All*</value>\n",
      "</parameter>\n",
      "<parameter>\n",
      "<name>V_D149.V66</name>\n",
      "<value>*All*</value>\n",
      "</parameter>\n",
      "<parameter>\n",
      "<name>V_D149.V7</name>\n",
      "<value>*All*</value>\n",
      "</parameter>\n",
      "<parameter>\n",
      "<name>V_D149.V70</name>\n",
      "<value>*All*</value>\n",
      "</parameter>\n",
      "<parameter>\n",
      "<name>V_D149.V71</name>\n",
      "<value>1</value>\n",
      "<value>2</value>\n",
      "<value>3</value>\n",
      "<value>4</value>\n",
      "<value>5</value>\n",
      "<value>6</value>\n",
      "</parameter>\n",
      "<parameter>\n",
      "<name>V_D149.V73</name>\n",
      "<value>*All*</value>\n",
      "</parameter>\n",
      "<parameter>\n",
      "<name>V_D149.V74</name>\n",
      "<value>*All*</value>\n",
      "</parameter>\n",
      "<parameter>\n",
      "<name>V_D149.V75</name>\n",
      "<value>*All*</value>\n",
      "</parameter>\n",
      "<parameter>\n",
      "<name>V_D149.V76</name>\n",
      "<value>*All*</value>\n",
      "</parameter>\n",
      "<parameter>\n",
      "<name>V_D149.V77</name>\n",
      "<value>*All*</value>\n",
      "</parameter>\n",
      "<parameter>\n",
      "<name>V_D149.V78</name>\n",
      "<value>*All*</value>\n",
      "</parameter>\n",
      "<parameter>\n",
      "<name>V_D149.V79</name>\n",
      "<value>*All*</value>\n",
      "</parameter>\n",
      "<parameter>\n",
      "<name>V_D149.V8</name>\n",
      "<value>*All*</value>\n",
      "</parameter>\n",
      "<parameter>\n",
      "<name>V_D149.V80</name>\n",
      "<value>*All*</value>\n",
      "</parameter>\n",
      "<parameter>\n",
      "<name>V_D149.V81</name>\n",
      "<value>*All*</value>\n",
      "</parameter>\n",
      "<parameter>\n",
      "<name>V_D149.V82</name>\n",
      "<value>*All*</value>\n",
      "</parameter>\n",
      "<parameter>\n",
      "<name>V_D149.V83</name>\n",
      "<value>*All*</value>\n",
      "</parameter>\n",
      "<parameter>\n",
      "<name>V_D149.V84</name>\n",
      "<value>*All*</value>\n",
      "</parameter>\n",
      "<parameter>\n",
      "<name>V_D149.V85</name>\n",
      "<value>*All*</value>\n",
      "</parameter>\n",
      "<parameter>\n",
      "<name>V_D149.V86</name>\n",
      "<value>*All*</value>\n",
      "</parameter>\n",
      "<parameter>\n",
      "<name>V_D149.V87</name>\n",
      "<value>*All*</value>\n",
      "</parameter>\n",
      "<parameter>\n",
      "<name>V_D149.V88</name>\n",
      "<value>*All*</value>\n",
      "</parameter>\n",
      "<parameter>\n",
      "<name>V_D149.V89</name>\n",
      "<value>*All*</value>\n",
      "</parameter>\n",
      "<parameter>\n",
      "<name>V_D149.V9</name>\n",
      "<value>*All*</value>\n",
      "</parameter>\n",
      "<parameter>\n",
      "<name>V_D149.V90</name>\n",
      "<value>*All*</value>\n",
      "</parameter>\n",
      "<parameter>\n",
      "<name>V_D149.V91</name>\n",
      "<value>*All*</value>\n",
      "</parameter>\n",
      "<parameter>\n",
      "<name>V_D149.V92</name>\n",
      "<value>*All*</value>\n",
      "</parameter>\n",
      "<parameter>\n",
      "<name>V_D149.V93</name>\n",
      "<value>*All*</value>\n",
      "</parameter>\n",
      "<parameter>\n",
      "<name>V_D149.V94</name>\n",
      "<value>*All*</value>\n",
      "</parameter>\n",
      "<parameter>\n",
      "<name>V_D149.V95</name>\n",
      "<value>*All*</value>\n",
      "</parameter>\n",
      "<parameter>\n",
      "<name>V_D149.V96</name>\n",
      "<value>*All*</value>\n",
      "</parameter>\n",
      "<parameter>\n",
      "<name>V_D149.V97</name>\n",
      "<value>*All*</value>\n",
      "</parameter>\n",
      "<parameter>\n",
      "<name>V_D149.V98</name>\n",
      "<value>*All*</value>\n",
      "</parameter>\n",
      "<parameter>\n",
      "<name>V_D149.V99</name>\n",
      "<value>*All*</value>\n",
      "</parameter>\n",
      "<parameter>\n",
      "<name>action-Send</name>\n",
      "<value>Send</value>\n",
      "</parameter>\n",
      "<parameter>\n",
      "<name>dataset_code</name>\n",
      "<value>D149</value>\n",
      "</parameter>\n",
      "<parameter>\n",
      "<name>dataset_label</name>\n",
      "<value>Natality, 2016-2021 expanded</value>\n",
      "</parameter>\n",
      "<parameter>\n",
      "<name>dataset_vintage</name>\n",
      "<value>2021</value>\n",
      "</parameter>\n",
      "<parameter>\n",
      "<name>finder-stage-D149.V21</name>\n",
      "<value>codeset</value>\n",
      "</parameter>\n",
      "<parameter>\n",
      "<name>finder-stage-D149.V22</name>\n",
      "<value>codeset</value>\n",
      "</parameter>\n",
      "<parameter>\n",
      "<name>finder-stage-D149.V37</name>\n",
      "<value>codeset</value>\n",
      "</parameter>\n",
      "<parameter>\n",
      "<name>saved_id</name>\n",
      "<value></value>\n",
      "</parameter>\n",
      "<parameter>\n",
      "<name>stage</name>\n",
      "<value>request</value>\n",
      "</parameter>\n",
      "</request-parameters>\n",
      "2023-03-17 13:46:10,985 - urllib3.connectionpool - _new_conn - DEBUG - Starting new HTTPS connection (1): wonder.cdc.gov:443\n",
      "2023-03-17 13:46:17,843 - urllib3.connectionpool - _make_request - DEBUG - https://wonder.cdc.gov:443 \"POST /controller/datarequest/D149 HTTP/1.1\" 200 158788\n",
      "2023-03-17 13:46:20,049 - root - _createXMLRequest - INFO - the xml sent to api is as below\n",
      "2023-03-17 13:46:20,050 - root - _createXMLRequest - DEBUG - <request-parameters>\n",
      "<parameter>\n",
      "<name>B_1</name>\n",
      "<value>D149.V71</value>\n",
      "</parameter>\n",
      "<parameter>\n",
      "<name>B_2</name>\n",
      "<value>*None*</value>\n",
      "</parameter>\n",
      "<parameter>\n",
      "<name>B_3</name>\n",
      "<value>*None*</value>\n",
      "</parameter>\n",
      "<parameter>\n",
      "<name>B_4</name>\n",
      "<value>*None*</value>\n",
      "</parameter>\n",
      "<parameter>\n",
      "<name>B_5</name>\n",
      "<value>*None*</value>\n",
      "</parameter>\n",
      "<parameter>\n",
      "<name>F_D149.V21</name>\n",
      "<value>*All*</value>\n",
      "</parameter>\n",
      "<parameter>\n",
      "<name>F_D149.V22</name>\n",
      "<value>*All*</value>\n",
      "</parameter>\n",
      "<parameter>\n",
      "<name>F_D149.V37</name>\n",
      "<value>*All*</value>\n",
      "</parameter>\n",
      "<parameter>\n",
      "<name>I_D149.V21</name>\n",
      "<value>*All*  (The United States)</value>\n",
      "</parameter>\n",
      "<parameter>\n",
      "<name>I_D149.V22</name>\n",
      "<value>*All*  (The United States)</value>\n",
      "</parameter>\n",
      "<parameter>\n",
      "<name>I_D149.V37</name>\n",
      "<value>*All*  (The United States)</value>\n",
      "</parameter>\n",
      "<parameter>\n",
      "<name>M_002</name>\n",
      "<value>D149.M002</value>\n",
      "</parameter>\n",
      "<parameter>\n",
      "<name>O_V21_fmode</name>\n",
      "<value>freg</value>\n",
      "</parameter>\n",
      "<parameter>\n",
      "<name>O_V22_fmode</name>\n",
      "<value>freg</value>\n",
      "</parameter>\n",
      "<parameter>\n",
      "<name>O_V37_fmode</name>\n",
      "<value>freg</value>\n",
      "</parameter>\n",
      "<parameter>\n",
      "<name>O_age</name>\n",
      "<value>D149.V1</value>\n",
      "</parameter>\n",
      "<parameter>\n",
      "<name>O_apgar10</name>\n",
      "<value>D149.V113</value>\n",
      "</parameter>\n",
      "<parameter>\n",
      "<name>O_apgar5</name>\n",
      "<value>D149.V111</value>\n",
      "</parameter>\n",
      "<parameter>\n",
      "<name>O_cig_before</name>\n",
      "<value>D149.V143</value>\n",
      "</parameter>\n",
      "<parameter>\n",
      "<name>O_cig_trim1</name>\n",
      "<value>D149.V144</value>\n",
      "</parameter>\n",
      "<parameter>\n",
      "<name>O_cig_trim2</name>\n",
      "<value>D149.V145</value>\n",
      "</parameter>\n",
      "<parameter>\n",
      "<name>O_cig_trim3</name>\n",
      "<value>D149.V146</value>\n",
      "</parameter>\n",
      "<parameter>\n",
      "<name>O_delivery</name>\n",
      "<value>D149.V101</value>\n",
      "</parameter>\n",
      "<parameter>\n",
      "<name>O_f_ethnicity</name>\n",
      "<value>D149.V53</value>\n",
      "</parameter>\n",
      "<parameter>\n",
      "<name>O_frace</name>\n",
      "<value>D149.V54</value>\n",
      "</parameter>\n",
      "<parameter>\n",
      "<name>O_gestation</name>\n",
      "<value>D149.V6</value>\n",
      "</parameter>\n",
      "<parameter>\n",
      "<name>O_javascript</name>\n",
      "<value>on</value>\n",
      "</parameter>\n",
      "<parameter>\n",
      "<name>O_location</name>\n",
      "<value>D149.V21</value>\n",
      "</parameter>\n",
      "<parameter>\n",
      "<name>O_m_ethnicity</name>\n",
      "<value>D149.V43</value>\n",
      "</parameter>\n",
      "<parameter>\n",
      "<name>O_oc-sect1-request</name>\n",
      "<value>close</value>\n",
      "</parameter>\n",
      "<parameter>\n",
      "<name>O_oe_gestation</name>\n",
      "<value>D149.V33</value>\n",
      "</parameter>\n",
      "<parameter>\n",
      "<name>O_pay</name>\n",
      "<value>D149.V110</value>\n",
      "</parameter>\n",
      "<parameter>\n",
      "<name>O_place</name>\n",
      "<value>D149.V45</value>\n",
      "</parameter>\n",
      "<parameter>\n",
      "<name>O_precision</name>\n",
      "<value>2</value>\n",
      "</parameter>\n",
      "<parameter>\n",
      "<name>O_prenatal</name>\n",
      "<value>D149.V63</value>\n",
      "</parameter>\n",
      "<parameter>\n",
      "<name>O_prenatal2</name>\n",
      "<value>D149.V65</value>\n",
      "</parameter>\n",
      "<parameter>\n",
      "<name>O_race</name>\n",
      "<value>D149.V42</value>\n",
      "</parameter>\n",
      "<parameter>\n",
      "<name>O_rate_per</name>\n",
      "<value>1000</value>\n",
      "</parameter>\n",
      "<parameter>\n",
      "<name>O_show_suppressed</name>\n",
      "<value>false</value>\n",
      "</parameter>\n",
      "<parameter>\n",
      "<name>O_show_totals</name>\n",
      "<value>true</value>\n",
      "</parameter>\n",
      "<parameter>\n",
      "<name>O_show_zeros</name>\n",
      "<value>false</value>\n",
      "</parameter>\n",
      "<parameter>\n",
      "<name>O_timeout</name>\n",
      "<value>600</value>\n",
      "</parameter>\n",
      "<parameter>\n",
      "<name>O_urban</name>\n",
      "<value>D149.V154</value>\n",
      "</parameter>\n",
      "<parameter>\n",
      "<name>O_weight</name>\n",
      "<value>D149.V9</value>\n",
      "</parameter>\n",
      "<parameter>\n",
      "<name>V_D149.V1</name>\n",
      "<value>*All*</value>\n",
      "</parameter>\n",
      "<parameter>\n",
      "<name>V_D149.V10</name>\n",
      "<value>*All*</value>\n",
      "</parameter>\n",
      "<parameter>\n",
      "<name>V_D149.V100</name>\n",
      "<value>*All*</value>\n",
      "</parameter>\n",
      "<parameter>\n",
      "<name>V_D149.V101</name>\n",
      "<value>*All*</value>\n",
      "</parameter>\n",
      "<parameter>\n",
      "<name>V_D149.V102</name>\n",
      "<value>*All*</value>\n",
      "</parameter>\n",
      "<parameter>\n",
      "<name>V_D149.V103</name>\n",
      "<value>*All*</value>\n",
      "</parameter>\n",
      "<parameter>\n",
      "<name>V_D149.V104</name>\n",
      "<value>*All*</value>\n",
      "</parameter>\n",
      "<parameter>\n",
      "<name>V_D149.V105</name>\n",
      "<value>*All*</value>\n",
      "</parameter>\n",
      "<parameter>\n",
      "<name>V_D149.V106</name>\n",
      "<value>*All*</value>\n",
      "</parameter>\n",
      "<parameter>\n",
      "<name>V_D149.V107</name>\n",
      "<value>*All*</value>\n",
      "</parameter>\n",
      "<parameter>\n",
      "<name>V_D149.V108</name>\n",
      "<value>*All*</value>\n",
      "</parameter>\n",
      "<parameter>\n",
      "<name>V_D149.V109</name>\n",
      "<value>*All*</value>\n",
      "</parameter>\n",
      "<parameter>\n",
      "<name>V_D149.V110</name>\n",
      "<value>*All*</value>\n",
      "</parameter>\n",
      "<parameter>\n",
      "<name>V_D149.V111</name>\n",
      "<value>*All*</value>\n",
      "</parameter>\n",
      "<parameter>\n",
      "<name>V_D149.V112</name>\n",
      "<value>*All*</value>\n",
      "</parameter>\n",
      "<parameter>\n",
      "<name>V_D149.V113</name>\n",
      "<value>*All*</value>\n",
      "</parameter>\n",
      "<parameter>\n",
      "<name>V_D149.V114</name>\n",
      "<value>*All*</value>\n",
      "</parameter>\n",
      "<parameter>\n",
      "<name>V_D149.V115</name>\n",
      "<value>*All*</value>\n",
      "</parameter>\n",
      "<parameter>\n",
      "<name>V_D149.V116</name>\n",
      "<value>*All*</value>\n",
      "</parameter>\n",
      "<parameter>\n",
      "<name>V_D149.V117</name>\n",
      "<value>*All*</value>\n",
      "</parameter>\n",
      "<parameter>\n",
      "<name>V_D149.V118</name>\n",
      "<value>*All*</value>\n",
      "</parameter>\n",
      "<parameter>\n",
      "<name>V_D149.V119</name>\n",
      "<value>*All*</value>\n",
      "</parameter>\n",
      "<parameter>\n",
      "<name>V_D149.V120</name>\n",
      "<value>*All*</value>\n",
      "</parameter>\n",
      "<parameter>\n",
      "<name>V_D149.V121</name>\n",
      "<value>*All*</value>\n",
      "</parameter>\n",
      "<parameter>\n",
      "<name>V_D149.V122</name>\n",
      "<value>*All*</value>\n",
      "</parameter>\n",
      "<parameter>\n",
      "<name>V_D149.V123</name>\n",
      "<value>*All*</value>\n",
      "</parameter>\n",
      "<parameter>\n",
      "<name>V_D149.V124</name>\n",
      "<value>*All*</value>\n",
      "</parameter>\n",
      "<parameter>\n",
      "<name>V_D149.V125</name>\n",
      "<value>*All*</value>\n",
      "</parameter>\n",
      "<parameter>\n",
      "<name>V_D149.V126</name>\n",
      "<value>*All*</value>\n",
      "</parameter>\n",
      "<parameter>\n",
      "<name>V_D149.V127</name>\n",
      "<value>*All*</value>\n",
      "</parameter>\n",
      "<parameter>\n",
      "<name>V_D149.V128</name>\n",
      "<value>*All*</value>\n",
      "</parameter>\n",
      "<parameter>\n",
      "<name>V_D149.V129</name>\n",
      "<value>*All*</value>\n",
      "</parameter>\n",
      "<parameter>\n",
      "<name>V_D149.V130</name>\n",
      "<value>*All*</value>\n",
      "</parameter>\n",
      "<parameter>\n",
      "<name>V_D149.V131</name>\n",
      "<value>*All*</value>\n",
      "</parameter>\n",
      "<parameter>\n",
      "<name>V_D149.V132</name>\n",
      "<value>*All*</value>\n",
      "</parameter>\n",
      "<parameter>\n",
      "<name>V_D149.V133</name>\n",
      "<value>*All*</value>\n",
      "</parameter>\n",
      "<parameter>\n",
      "<name>V_D149.V134</name>\n",
      "<value>*All*</value>\n",
      "</parameter>\n",
      "<parameter>\n",
      "<name>V_D149.V135</name>\n",
      "<value>*All*</value>\n",
      "</parameter>\n",
      "<parameter>\n",
      "<name>V_D149.V136</name>\n",
      "<value>*All*</value>\n",
      "</parameter>\n",
      "<parameter>\n",
      "<name>V_D149.V137</name>\n",
      "<value>*All*</value>\n",
      "</parameter>\n",
      "<parameter>\n",
      "<name>V_D149.V138</name>\n",
      "<value>*All*</value>\n",
      "</parameter>\n",
      "<parameter>\n",
      "<name>V_D149.V139</name>\n",
      "<value>*All*</value>\n",
      "</parameter>\n",
      "<parameter>\n",
      "<name>V_D149.V140</name>\n",
      "<value>*All*</value>\n",
      "</parameter>\n",
      "<parameter>\n",
      "<name>V_D149.V141</name>\n",
      "<value>*All*</value>\n",
      "</parameter>\n",
      "<parameter>\n",
      "<name>V_D149.V142</name>\n",
      "<value>*All*</value>\n",
      "</parameter>\n",
      "<parameter>\n",
      "<name>V_D149.V143</name>\n",
      "<value>*All*</value>\n",
      "</parameter>\n",
      "<parameter>\n",
      "<name>V_D149.V144</name>\n",
      "<value>*All*</value>\n",
      "</parameter>\n",
      "<parameter>\n",
      "<name>V_D149.V145</name>\n",
      "<value>*All*</value>\n",
      "</parameter>\n",
      "<parameter>\n",
      "<name>V_D149.V146</name>\n",
      "<value>*All*</value>\n",
      "</parameter>\n",
      "<parameter>\n",
      "<name>V_D149.V147</name>\n",
      "<value>*All*</value>\n",
      "</parameter>\n",
      "<parameter>\n",
      "<name>V_D149.V149</name>\n",
      "<value>*All*</value>\n",
      "</parameter>\n",
      "<parameter>\n",
      "<name>V_D149.V150</name>\n",
      "<value>*All*</value>\n",
      "</parameter>\n",
      "<parameter>\n",
      "<name>V_D149.V151</name>\n",
      "<value>*All*</value>\n",
      "</parameter>\n",
      "<parameter>\n",
      "<name>V_D149.V152</name>\n",
      "<value>*All*</value>\n",
      "</parameter>\n",
      "<parameter>\n",
      "<name>V_D149.V153</name>\n",
      "<value>*All*</value>\n",
      "</parameter>\n",
      "<parameter>\n",
      "<name>V_D149.V154</name>\n",
      "<value>*All*</value>\n",
      "</parameter>\n",
      "<parameter>\n",
      "<name>V_D149.V155</name>\n",
      "<value>*All*</value>\n",
      "</parameter>\n",
      "<parameter>\n",
      "<name>V_D149.V156</name>\n",
      "<value>*All*</value>\n",
      "</parameter>\n",
      "<parameter>\n",
      "<name>V_D149.V157</name>\n",
      "<value>*All*</value>\n",
      "</parameter>\n",
      "<parameter>\n",
      "<name>V_D149.V16</name>\n",
      "<value>*All*</value>\n",
      "</parameter>\n",
      "<parameter>\n",
      "<name>V_D149.V17</name>\n",
      "<value>*All*</value>\n",
      "</parameter>\n",
      "<parameter>\n",
      "<name>V_D149.V18</name>\n",
      "<value>*All*</value>\n",
      "</parameter>\n",
      "<parameter>\n",
      "<name>V_D149.V20</name>\n",
      "<value>*All*</value>\n",
      "</parameter>\n",
      "<parameter>\n",
      "<name>V_D149.V23</name>\n",
      "<value>*All*</value>\n",
      "</parameter>\n",
      "<parameter>\n",
      "<name>V_D149.V24</name>\n",
      "<value>*All*</value>\n",
      "</parameter>\n",
      "<parameter>\n",
      "<name>V_D149.V25</name>\n",
      "<value>*All*</value>\n",
      "</parameter>\n",
      "<parameter>\n",
      "<name>V_D149.V26</name>\n",
      "<value>*All*</value>\n",
      "</parameter>\n",
      "<parameter>\n",
      "<name>V_D149.V27</name>\n",
      "<value>*All*</value>\n",
      "</parameter>\n",
      "<parameter>\n",
      "<name>V_D149.V28</name>\n",
      "<value>*All*</value>\n",
      "</parameter>\n",
      "<parameter>\n",
      "<name>V_D149.V29</name>\n",
      "<value>*All*</value>\n",
      "</parameter>\n",
      "<parameter>\n",
      "<name>V_D149.V3</name>\n",
      "<value>*All*</value>\n",
      "</parameter>\n",
      "<parameter>\n",
      "<name>V_D149.V30</name>\n",
      "<value>*All*</value>\n",
      "</parameter>\n",
      "<parameter>\n",
      "<name>V_D149.V31</name>\n",
      "<value>*All*</value>\n",
      "</parameter>\n",
      "<parameter>\n",
      "<name>V_D149.V32</name>\n",
      "<value>*All*</value>\n",
      "</parameter>\n",
      "<parameter>\n",
      "<name>V_D149.V33</name>\n",
      "<value>06</value>\n",
      "<value>07</value>\n",
      "<value>08</value>\n",
      "<value>09</value>\n",
      "<value>10</value>\n",
      "</parameter>\n",
      "<parameter>\n",
      "<name>V_D149.V34</name>\n",
      "<value>*All*</value>\n",
      "</parameter>\n",
      "<parameter>\n",
      "<name>V_D149.V35</name>\n",
      "<value>*All*</value>\n",
      "</parameter>\n",
      "<parameter>\n",
      "<name>V_D149.V38</name>\n",
      "<value>*All*</value>\n",
      "</parameter>\n",
      "<parameter>\n",
      "<name>V_D149.V39</name>\n",
      "<value>*All*</value>\n",
      "</parameter>\n",
      "<parameter>\n",
      "<name>V_D149.V4</name>\n",
      "<value>*All*</value>\n",
      "</parameter>\n",
      "<parameter>\n",
      "<name>V_D149.V41</name>\n",
      "<value>*All*</value>\n",
      "</parameter>\n",
      "<parameter>\n",
      "<name>V_D149.V42</name>\n",
      "<value>*All*</value>\n",
      "</parameter>\n",
      "<parameter>\n",
      "<name>V_D149.V43</name>\n",
      "<value>*All*</value>\n",
      "</parameter>\n",
      "<parameter>\n",
      "<name>V_D149.V44</name>\n",
      "<value>*All*</value>\n",
      "</parameter>\n",
      "<parameter>\n",
      "<name>V_D149.V45</name>\n",
      "<value>*All*</value>\n",
      "</parameter>\n",
      "<parameter>\n",
      "<name>V_D149.V46</name>\n",
      "<value>*All*</value>\n",
      "</parameter>\n",
      "<parameter>\n",
      "<name>V_D149.V47</name>\n",
      "<value>*All*</value>\n",
      "</parameter>\n",
      "<parameter>\n",
      "<name>V_D149.V48</name>\n",
      "<value>*All*</value>\n",
      "</parameter>\n",
      "<parameter>\n",
      "<name>V_D149.V49</name>\n",
      "<value>*All*</value>\n",
      "</parameter>\n",
      "<parameter>\n",
      "<name>V_D149.V5</name>\n",
      "<value>*All*</value>\n",
      "</parameter>\n",
      "<parameter>\n",
      "<name>V_D149.V50</name>\n",
      "<value>*All*</value>\n",
      "</parameter>\n",
      "<parameter>\n",
      "<name>V_D149.V51</name>\n",
      "<value>*All*</value>\n",
      "</parameter>\n",
      "<parameter>\n",
      "<name>V_D149.V52</name>\n",
      "<value>*All*</value>\n",
      "</parameter>\n",
      "<parameter>\n",
      "<name>V_D149.V53</name>\n",
      "<value>*All*</value>\n",
      "</parameter>\n",
      "<parameter>\n",
      "<name>V_D149.V54</name>\n",
      "<value>*All*</value>\n",
      "</parameter>\n",
      "<parameter>\n",
      "<name>V_D149.V55</name>\n",
      "<value>*All*</value>\n",
      "</parameter>\n",
      "<parameter>\n",
      "<name>V_D149.V56</name>\n",
      "<value>*All*</value>\n",
      "</parameter>\n",
      "<parameter>\n",
      "<name>V_D149.V57</name>\n",
      "<value>*All*</value>\n",
      "</parameter>\n",
      "<parameter>\n",
      "<name>V_D149.V58</name>\n",
      "<value>*All*</value>\n",
      "</parameter>\n",
      "<parameter>\n",
      "<name>V_D149.V59</name>\n",
      "<value>*All*</value>\n",
      "</parameter>\n",
      "<parameter>\n",
      "<name>V_D149.V6</name>\n",
      "<value>*All*</value>\n",
      "</parameter>\n",
      "<parameter>\n",
      "<name>V_D149.V60</name>\n",
      "<value>*All*</value>\n",
      "</parameter>\n",
      "<parameter>\n",
      "<name>V_D149.V61</name>\n",
      "<value>*All*</value>\n",
      "</parameter>\n",
      "<parameter>\n",
      "<name>V_D149.V62</name>\n",
      "<value>*All*</value>\n",
      "</parameter>\n",
      "<parameter>\n",
      "<name>V_D149.V63</name>\n",
      "<value>*All*</value>\n",
      "</parameter>\n",
      "<parameter>\n",
      "<name>V_D149.V64</name>\n",
      "<value>*All*</value>\n",
      "</parameter>\n",
      "<parameter>\n",
      "<name>V_D149.V65</name>\n",
      "<value>*All*</value>\n",
      "</parameter>\n",
      "<parameter>\n",
      "<name>V_D149.V66</name>\n",
      "<value>*All*</value>\n",
      "</parameter>\n",
      "<parameter>\n",
      "<name>V_D149.V7</name>\n",
      "<value>*All*</value>\n",
      "</parameter>\n",
      "<parameter>\n",
      "<name>V_D149.V70</name>\n",
      "<value>*All*</value>\n",
      "</parameter>\n",
      "<parameter>\n",
      "<name>V_D149.V71</name>\n",
      "<value>1</value>\n",
      "<value>2</value>\n",
      "<value>3</value>\n",
      "<value>4</value>\n",
      "<value>5</value>\n",
      "<value>6</value>\n",
      "</parameter>\n",
      "<parameter>\n",
      "<name>V_D149.V73</name>\n",
      "<value>*All*</value>\n",
      "</parameter>\n",
      "<parameter>\n",
      "<name>V_D149.V74</name>\n",
      "<value>*All*</value>\n",
      "</parameter>\n",
      "<parameter>\n",
      "<name>V_D149.V75</name>\n",
      "<value>*All*</value>\n",
      "</parameter>\n",
      "<parameter>\n",
      "<name>V_D149.V76</name>\n",
      "<value>*All*</value>\n",
      "</parameter>\n",
      "<parameter>\n",
      "<name>V_D149.V77</name>\n",
      "<value>*All*</value>\n",
      "</parameter>\n",
      "<parameter>\n",
      "<name>V_D149.V78</name>\n",
      "<value>*All*</value>\n",
      "</parameter>\n",
      "<parameter>\n",
      "<name>V_D149.V79</name>\n",
      "<value>*All*</value>\n",
      "</parameter>\n",
      "<parameter>\n",
      "<name>V_D149.V8</name>\n",
      "<value>*All*</value>\n",
      "</parameter>\n",
      "<parameter>\n",
      "<name>V_D149.V80</name>\n",
      "<value>*All*</value>\n",
      "</parameter>\n",
      "<parameter>\n",
      "<name>V_D149.V81</name>\n",
      "<value>*All*</value>\n",
      "</parameter>\n",
      "<parameter>\n",
      "<name>V_D149.V82</name>\n",
      "<value>*All*</value>\n",
      "</parameter>\n",
      "<parameter>\n",
      "<name>V_D149.V83</name>\n",
      "<value>*All*</value>\n",
      "</parameter>\n",
      "<parameter>\n",
      "<name>V_D149.V84</name>\n",
      "<value>*All*</value>\n",
      "</parameter>\n",
      "<parameter>\n",
      "<name>V_D149.V85</name>\n",
      "<value>*All*</value>\n",
      "</parameter>\n",
      "<parameter>\n",
      "<name>V_D149.V86</name>\n",
      "<value>*All*</value>\n",
      "</parameter>\n",
      "<parameter>\n",
      "<name>V_D149.V87</name>\n",
      "<value>*All*</value>\n",
      "</parameter>\n",
      "<parameter>\n",
      "<name>V_D149.V88</name>\n",
      "<value>*All*</value>\n",
      "</parameter>\n",
      "<parameter>\n",
      "<name>V_D149.V89</name>\n",
      "<value>*All*</value>\n",
      "</parameter>\n",
      "<parameter>\n",
      "<name>V_D149.V9</name>\n",
      "<value>*All*</value>\n",
      "</parameter>\n",
      "<parameter>\n",
      "<name>V_D149.V90</name>\n",
      "<value>*All*</value>\n",
      "</parameter>\n",
      "<parameter>\n",
      "<name>V_D149.V91</name>\n",
      "<value>*All*</value>\n",
      "</parameter>\n",
      "<parameter>\n",
      "<name>V_D149.V92</name>\n",
      "<value>*All*</value>\n",
      "</parameter>\n",
      "<parameter>\n",
      "<name>V_D149.V93</name>\n",
      "<value>*All*</value>\n",
      "</parameter>\n",
      "<parameter>\n",
      "<name>V_D149.V94</name>\n",
      "<value>*All*</value>\n",
      "</parameter>\n",
      "<parameter>\n",
      "<name>V_D149.V95</name>\n",
      "<value>*All*</value>\n",
      "</parameter>\n",
      "<parameter>\n",
      "<name>V_D149.V96</name>\n",
      "<value>*All*</value>\n",
      "</parameter>\n",
      "<parameter>\n",
      "<name>V_D149.V97</name>\n",
      "<value>*All*</value>\n",
      "</parameter>\n",
      "<parameter>\n",
      "<name>V_D149.V98</name>\n",
      "<value>*All*</value>\n",
      "</parameter>\n",
      "<parameter>\n",
      "<name>V_D149.V99</name>\n",
      "<value>*All*</value>\n",
      "</parameter>\n",
      "<parameter>\n",
      "<name>action-Send</name>\n",
      "<value>Send</value>\n",
      "</parameter>\n",
      "<parameter>\n",
      "<name>dataset_code</name>\n",
      "<value>D149</value>\n",
      "</parameter>\n",
      "<parameter>\n",
      "<name>dataset_label</name>\n",
      "<value>Natality, 2016-2021 expanded</value>\n",
      "</parameter>\n",
      "<parameter>\n",
      "<name>dataset_vintage</name>\n",
      "<value>2021</value>\n",
      "</parameter>\n",
      "<parameter>\n",
      "<name>finder-stage-D149.V21</name>\n",
      "<value>codeset</value>\n",
      "</parameter>\n",
      "<parameter>\n",
      "<name>finder-stage-D149.V22</name>\n",
      "<value>codeset</value>\n",
      "</parameter>\n",
      "<parameter>\n",
      "<name>finder-stage-D149.V37</name>\n",
      "<value>codeset</value>\n",
      "</parameter>\n",
      "<parameter>\n",
      "<name>saved_id</name>\n",
      "<value></value>\n",
      "</parameter>\n",
      "<parameter>\n",
      "<name>stage</name>\n",
      "<value>request</value>\n",
      "</parameter>\n",
      "</request-parameters>\n",
      "2023-03-17 13:46:20,053 - urllib3.connectionpool - _new_conn - DEBUG - Starting new HTTPS connection (1): wonder.cdc.gov:443\n",
      "2023-03-17 13:46:29,926 - urllib3.connectionpool - _make_request - DEBUG - https://wonder.cdc.gov:443 \"POST /controller/datarequest/D149 HTTP/1.1\" 200 158810\n",
      "2023-03-17 13:46:33,099 - root - _createXMLRequest - INFO - the xml sent to api is as below\n",
      "2023-03-17 13:46:33,099 - root - _createXMLRequest - DEBUG - <request-parameters>\n",
      "<parameter>\n",
      "<name>B_1</name>\n",
      "<value>D149.V71</value>\n",
      "</parameter>\n",
      "<parameter>\n",
      "<name>B_2</name>\n",
      "<value>*None*</value>\n",
      "</parameter>\n",
      "<parameter>\n",
      "<name>B_3</name>\n",
      "<value>*None*</value>\n",
      "</parameter>\n",
      "<parameter>\n",
      "<name>B_4</name>\n",
      "<value>*None*</value>\n",
      "</parameter>\n",
      "<parameter>\n",
      "<name>B_5</name>\n",
      "<value>*None*</value>\n",
      "</parameter>\n",
      "<parameter>\n",
      "<name>F_D149.V21</name>\n",
      "<value>*All*</value>\n",
      "</parameter>\n",
      "<parameter>\n",
      "<name>F_D149.V22</name>\n",
      "<value>*All*</value>\n",
      "</parameter>\n",
      "<parameter>\n",
      "<name>F_D149.V37</name>\n",
      "<value>*All*</value>\n",
      "</parameter>\n",
      "<parameter>\n",
      "<name>I_D149.V21</name>\n",
      "<value>*All*  (The United States)</value>\n",
      "</parameter>\n",
      "<parameter>\n",
      "<name>I_D149.V22</name>\n",
      "<value>*All*  (The United States)</value>\n",
      "</parameter>\n",
      "<parameter>\n",
      "<name>I_D149.V37</name>\n",
      "<value>*All*  (The United States)</value>\n",
      "</parameter>\n",
      "<parameter>\n",
      "<name>M_002</name>\n",
      "<value>D149.M002</value>\n",
      "</parameter>\n",
      "<parameter>\n",
      "<name>O_V21_fmode</name>\n",
      "<value>freg</value>\n",
      "</parameter>\n",
      "<parameter>\n",
      "<name>O_V22_fmode</name>\n",
      "<value>freg</value>\n",
      "</parameter>\n",
      "<parameter>\n",
      "<name>O_V37_fmode</name>\n",
      "<value>freg</value>\n",
      "</parameter>\n",
      "<parameter>\n",
      "<name>O_age</name>\n",
      "<value>D149.V1</value>\n",
      "</parameter>\n",
      "<parameter>\n",
      "<name>O_apgar10</name>\n",
      "<value>D149.V113</value>\n",
      "</parameter>\n",
      "<parameter>\n",
      "<name>O_apgar5</name>\n",
      "<value>D149.V111</value>\n",
      "</parameter>\n",
      "<parameter>\n",
      "<name>O_cig_before</name>\n",
      "<value>D149.V143</value>\n",
      "</parameter>\n",
      "<parameter>\n",
      "<name>O_cig_trim1</name>\n",
      "<value>D149.V144</value>\n",
      "</parameter>\n",
      "<parameter>\n",
      "<name>O_cig_trim2</name>\n",
      "<value>D149.V145</value>\n",
      "</parameter>\n",
      "<parameter>\n",
      "<name>O_cig_trim3</name>\n",
      "<value>D149.V146</value>\n",
      "</parameter>\n",
      "<parameter>\n",
      "<name>O_delivery</name>\n",
      "<value>D149.V101</value>\n",
      "</parameter>\n",
      "<parameter>\n",
      "<name>O_f_ethnicity</name>\n",
      "<value>D149.V53</value>\n",
      "</parameter>\n",
      "<parameter>\n",
      "<name>O_frace</name>\n",
      "<value>D149.V54</value>\n",
      "</parameter>\n",
      "<parameter>\n",
      "<name>O_gestation</name>\n",
      "<value>D149.V6</value>\n",
      "</parameter>\n",
      "<parameter>\n",
      "<name>O_javascript</name>\n",
      "<value>on</value>\n",
      "</parameter>\n",
      "<parameter>\n",
      "<name>O_location</name>\n",
      "<value>D149.V21</value>\n",
      "</parameter>\n",
      "<parameter>\n",
      "<name>O_m_ethnicity</name>\n",
      "<value>D149.V43</value>\n",
      "</parameter>\n",
      "<parameter>\n",
      "<name>O_oc-sect1-request</name>\n",
      "<value>close</value>\n",
      "</parameter>\n",
      "<parameter>\n",
      "<name>O_oe_gestation</name>\n",
      "<value>D149.V32</value>\n",
      "</parameter>\n",
      "<parameter>\n",
      "<name>O_pay</name>\n",
      "<value>D149.V110</value>\n",
      "</parameter>\n",
      "<parameter>\n",
      "<name>O_place</name>\n",
      "<value>D149.V45</value>\n",
      "</parameter>\n",
      "<parameter>\n",
      "<name>O_precision</name>\n",
      "<value>2</value>\n",
      "</parameter>\n",
      "<parameter>\n",
      "<name>O_prenatal</name>\n",
      "<value>D149.V63</value>\n",
      "</parameter>\n",
      "<parameter>\n",
      "<name>O_prenatal2</name>\n",
      "<value>D149.V65</value>\n",
      "</parameter>\n",
      "<parameter>\n",
      "<name>O_race</name>\n",
      "<value>D149.V42</value>\n",
      "</parameter>\n",
      "<parameter>\n",
      "<name>O_rate_per</name>\n",
      "<value>1000</value>\n",
      "</parameter>\n",
      "<parameter>\n",
      "<name>O_show_suppressed</name>\n",
      "<value>false</value>\n",
      "</parameter>\n",
      "<parameter>\n",
      "<name>O_show_totals</name>\n",
      "<value>true</value>\n",
      "</parameter>\n",
      "<parameter>\n",
      "<name>O_show_zeros</name>\n",
      "<value>false</value>\n",
      "</parameter>\n",
      "<parameter>\n",
      "<name>O_timeout</name>\n",
      "<value>600</value>\n",
      "</parameter>\n",
      "<parameter>\n",
      "<name>O_urban</name>\n",
      "<value>D149.V154</value>\n",
      "</parameter>\n",
      "<parameter>\n",
      "<name>O_weight</name>\n",
      "<value>D149.V9</value>\n",
      "</parameter>\n",
      "<parameter>\n",
      "<name>V_D149.V1</name>\n",
      "<value>*All*</value>\n",
      "</parameter>\n",
      "<parameter>\n",
      "<name>V_D149.V10</name>\n",
      "<value>*All*</value>\n",
      "</parameter>\n",
      "<parameter>\n",
      "<name>V_D149.V100</name>\n",
      "<value>*All*</value>\n",
      "</parameter>\n",
      "<parameter>\n",
      "<name>V_D149.V101</name>\n",
      "<value>*All*</value>\n",
      "</parameter>\n",
      "<parameter>\n",
      "<name>V_D149.V102</name>\n",
      "<value>*All*</value>\n",
      "</parameter>\n",
      "<parameter>\n",
      "<name>V_D149.V103</name>\n",
      "<value>*All*</value>\n",
      "</parameter>\n",
      "<parameter>\n",
      "<name>V_D149.V104</name>\n",
      "<value>*All*</value>\n",
      "</parameter>\n",
      "<parameter>\n",
      "<name>V_D149.V105</name>\n",
      "<value>*All*</value>\n",
      "</parameter>\n",
      "<parameter>\n",
      "<name>V_D149.V106</name>\n",
      "<value>*All*</value>\n",
      "</parameter>\n",
      "<parameter>\n",
      "<name>V_D149.V107</name>\n",
      "<value>*All*</value>\n",
      "</parameter>\n",
      "<parameter>\n",
      "<name>V_D149.V108</name>\n",
      "<value>*All*</value>\n",
      "</parameter>\n",
      "<parameter>\n",
      "<name>V_D149.V109</name>\n",
      "<value>*All*</value>\n",
      "</parameter>\n",
      "<parameter>\n",
      "<name>V_D149.V110</name>\n",
      "<value>*All*</value>\n",
      "</parameter>\n",
      "<parameter>\n",
      "<name>V_D149.V111</name>\n",
      "<value>*All*</value>\n",
      "</parameter>\n",
      "<parameter>\n",
      "<name>V_D149.V112</name>\n",
      "<value>*All*</value>\n",
      "</parameter>\n",
      "<parameter>\n",
      "<name>V_D149.V113</name>\n",
      "<value>*All*</value>\n",
      "</parameter>\n",
      "<parameter>\n",
      "<name>V_D149.V114</name>\n",
      "<value>*All*</value>\n",
      "</parameter>\n",
      "<parameter>\n",
      "<name>V_D149.V115</name>\n",
      "<value>*All*</value>\n",
      "</parameter>\n",
      "<parameter>\n",
      "<name>V_D149.V116</name>\n",
      "<value>*All*</value>\n",
      "</parameter>\n",
      "<parameter>\n",
      "<name>V_D149.V117</name>\n",
      "<value>*All*</value>\n",
      "</parameter>\n",
      "<parameter>\n",
      "<name>V_D149.V118</name>\n",
      "<value>*All*</value>\n",
      "</parameter>\n",
      "<parameter>\n",
      "<name>V_D149.V119</name>\n",
      "<value>*All*</value>\n",
      "</parameter>\n",
      "<parameter>\n",
      "<name>V_D149.V120</name>\n",
      "<value>*All*</value>\n",
      "</parameter>\n",
      "<parameter>\n",
      "<name>V_D149.V121</name>\n",
      "<value>*All*</value>\n",
      "</parameter>\n",
      "<parameter>\n",
      "<name>V_D149.V122</name>\n",
      "<value>0</value>\n",
      "</parameter>\n",
      "<parameter>\n",
      "<name>V_D149.V123</name>\n",
      "<value>*All*</value>\n",
      "</parameter>\n",
      "<parameter>\n",
      "<name>V_D149.V124</name>\n",
      "<value>*All*</value>\n",
      "</parameter>\n",
      "<parameter>\n",
      "<name>V_D149.V125</name>\n",
      "<value>*All*</value>\n",
      "</parameter>\n",
      "<parameter>\n",
      "<name>V_D149.V126</name>\n",
      "<value>*All*</value>\n",
      "</parameter>\n",
      "<parameter>\n",
      "<name>V_D149.V127</name>\n",
      "<value>*All*</value>\n",
      "</parameter>\n",
      "<parameter>\n",
      "<name>V_D149.V128</name>\n",
      "<value>*All*</value>\n",
      "</parameter>\n",
      "<parameter>\n",
      "<name>V_D149.V129</name>\n",
      "<value>*All*</value>\n",
      "</parameter>\n",
      "<parameter>\n",
      "<name>V_D149.V130</name>\n",
      "<value>*All*</value>\n",
      "</parameter>\n",
      "<parameter>\n",
      "<name>V_D149.V131</name>\n",
      "<value>*All*</value>\n",
      "</parameter>\n",
      "<parameter>\n",
      "<name>V_D149.V132</name>\n",
      "<value>*All*</value>\n",
      "</parameter>\n",
      "<parameter>\n",
      "<name>V_D149.V133</name>\n",
      "<value>*All*</value>\n",
      "</parameter>\n",
      "<parameter>\n",
      "<name>V_D149.V134</name>\n",
      "<value>*All*</value>\n",
      "</parameter>\n",
      "<parameter>\n",
      "<name>V_D149.V135</name>\n",
      "<value>*All*</value>\n",
      "</parameter>\n",
      "<parameter>\n",
      "<name>V_D149.V136</name>\n",
      "<value>*All*</value>\n",
      "</parameter>\n",
      "<parameter>\n",
      "<name>V_D149.V137</name>\n",
      "<value>*All*</value>\n",
      "</parameter>\n",
      "<parameter>\n",
      "<name>V_D149.V138</name>\n",
      "<value>*All*</value>\n",
      "</parameter>\n",
      "<parameter>\n",
      "<name>V_D149.V139</name>\n",
      "<value>*All*</value>\n",
      "</parameter>\n",
      "<parameter>\n",
      "<name>V_D149.V140</name>\n",
      "<value>*All*</value>\n",
      "</parameter>\n",
      "<parameter>\n",
      "<name>V_D149.V141</name>\n",
      "<value>*All*</value>\n",
      "</parameter>\n",
      "<parameter>\n",
      "<name>V_D149.V142</name>\n",
      "<value>*All*</value>\n",
      "</parameter>\n",
      "<parameter>\n",
      "<name>V_D149.V143</name>\n",
      "<value>*All*</value>\n",
      "</parameter>\n",
      "<parameter>\n",
      "<name>V_D149.V144</name>\n",
      "<value>*All*</value>\n",
      "</parameter>\n",
      "<parameter>\n",
      "<name>V_D149.V145</name>\n",
      "<value>*All*</value>\n",
      "</parameter>\n",
      "<parameter>\n",
      "<name>V_D149.V146</name>\n",
      "<value>*All*</value>\n",
      "</parameter>\n",
      "<parameter>\n",
      "<name>V_D149.V147</name>\n",
      "<value>*All*</value>\n",
      "</parameter>\n",
      "<parameter>\n",
      "<name>V_D149.V149</name>\n",
      "<value>*All*</value>\n",
      "</parameter>\n",
      "<parameter>\n",
      "<name>V_D149.V150</name>\n",
      "<value>*All*</value>\n",
      "</parameter>\n",
      "<parameter>\n",
      "<name>V_D149.V151</name>\n",
      "<value>*All*</value>\n",
      "</parameter>\n",
      "<parameter>\n",
      "<name>V_D149.V152</name>\n",
      "<value>*All*</value>\n",
      "</parameter>\n",
      "<parameter>\n",
      "<name>V_D149.V153</name>\n",
      "<value>*All*</value>\n",
      "</parameter>\n",
      "<parameter>\n",
      "<name>V_D149.V154</name>\n",
      "<value>*All*</value>\n",
      "</parameter>\n",
      "<parameter>\n",
      "<name>V_D149.V155</name>\n",
      "<value>*All*</value>\n",
      "</parameter>\n",
      "<parameter>\n",
      "<name>V_D149.V156</name>\n",
      "<value>*All*</value>\n",
      "</parameter>\n",
      "<parameter>\n",
      "<name>V_D149.V157</name>\n",
      "<value>*All*</value>\n",
      "</parameter>\n",
      "<parameter>\n",
      "<name>V_D149.V16</name>\n",
      "<value>*All*</value>\n",
      "</parameter>\n",
      "<parameter>\n",
      "<name>V_D149.V17</name>\n",
      "<value>*All*</value>\n",
      "</parameter>\n",
      "<parameter>\n",
      "<name>V_D149.V18</name>\n",
      "<value>*All*</value>\n",
      "</parameter>\n",
      "<parameter>\n",
      "<name>V_D149.V20</name>\n",
      "<value>*All*</value>\n",
      "</parameter>\n",
      "<parameter>\n",
      "<name>V_D149.V23</name>\n",
      "<value>*All*</value>\n",
      "</parameter>\n",
      "<parameter>\n",
      "<name>V_D149.V24</name>\n",
      "<value>*All*</value>\n",
      "</parameter>\n",
      "<parameter>\n",
      "<name>V_D149.V25</name>\n",
      "<value>*All*</value>\n",
      "</parameter>\n",
      "<parameter>\n",
      "<name>V_D149.V26</name>\n",
      "<value>*All*</value>\n",
      "</parameter>\n",
      "<parameter>\n",
      "<name>V_D149.V27</name>\n",
      "<value>*All*</value>\n",
      "</parameter>\n",
      "<parameter>\n",
      "<name>V_D149.V28</name>\n",
      "<value>*All*</value>\n",
      "</parameter>\n",
      "<parameter>\n",
      "<name>V_D149.V29</name>\n",
      "<value>*All*</value>\n",
      "</parameter>\n",
      "<parameter>\n",
      "<name>V_D149.V3</name>\n",
      "<value>*All*</value>\n",
      "</parameter>\n",
      "<parameter>\n",
      "<name>V_D149.V30</name>\n",
      "<value>*All*</value>\n",
      "</parameter>\n",
      "<parameter>\n",
      "<name>V_D149.V31</name>\n",
      "<value>*All*</value>\n",
      "</parameter>\n",
      "<parameter>\n",
      "<name>V_D149.V32</name>\n",
      "<value>*All*</value>\n",
      "</parameter>\n",
      "<parameter>\n",
      "<name>V_D149.V33</name>\n",
      "<value>*All*</value>\n",
      "</parameter>\n",
      "<parameter>\n",
      "<name>V_D149.V34</name>\n",
      "<value>*All*</value>\n",
      "</parameter>\n",
      "<parameter>\n",
      "<name>V_D149.V35</name>\n",
      "<value>*All*</value>\n",
      "</parameter>\n",
      "<parameter>\n",
      "<name>V_D149.V38</name>\n",
      "<value>*All*</value>\n",
      "</parameter>\n",
      "<parameter>\n",
      "<name>V_D149.V39</name>\n",
      "<value>*All*</value>\n",
      "</parameter>\n",
      "<parameter>\n",
      "<name>V_D149.V4</name>\n",
      "<value>*All*</value>\n",
      "</parameter>\n",
      "<parameter>\n",
      "<name>V_D149.V41</name>\n",
      "<value>*All*</value>\n",
      "</parameter>\n",
      "<parameter>\n",
      "<name>V_D149.V42</name>\n",
      "<value>*All*</value>\n",
      "</parameter>\n",
      "<parameter>\n",
      "<name>V_D149.V43</name>\n",
      "<value>*All*</value>\n",
      "</parameter>\n",
      "<parameter>\n",
      "<name>V_D149.V44</name>\n",
      "<value>*All*</value>\n",
      "</parameter>\n",
      "<parameter>\n",
      "<name>V_D149.V45</name>\n",
      "<value>*All*</value>\n",
      "</parameter>\n",
      "<parameter>\n",
      "<name>V_D149.V46</name>\n",
      "<value>*All*</value>\n",
      "</parameter>\n",
      "<parameter>\n",
      "<name>V_D149.V47</name>\n",
      "<value>*All*</value>\n",
      "</parameter>\n",
      "<parameter>\n",
      "<name>V_D149.V48</name>\n",
      "<value>*All*</value>\n",
      "</parameter>\n",
      "<parameter>\n",
      "<name>V_D149.V49</name>\n",
      "<value>*All*</value>\n",
      "</parameter>\n",
      "<parameter>\n",
      "<name>V_D149.V5</name>\n",
      "<value>*All*</value>\n",
      "</parameter>\n",
      "<parameter>\n",
      "<name>V_D149.V50</name>\n",
      "<value>*All*</value>\n",
      "</parameter>\n",
      "<parameter>\n",
      "<name>V_D149.V51</name>\n",
      "<value>*All*</value>\n",
      "</parameter>\n",
      "<parameter>\n",
      "<name>V_D149.V52</name>\n",
      "<value>*All*</value>\n",
      "</parameter>\n",
      "<parameter>\n",
      "<name>V_D149.V53</name>\n",
      "<value>*All*</value>\n",
      "</parameter>\n",
      "<parameter>\n",
      "<name>V_D149.V54</name>\n",
      "<value>*All*</value>\n",
      "</parameter>\n",
      "<parameter>\n",
      "<name>V_D149.V55</name>\n",
      "<value>*All*</value>\n",
      "</parameter>\n",
      "<parameter>\n",
      "<name>V_D149.V56</name>\n",
      "<value>*All*</value>\n",
      "</parameter>\n",
      "<parameter>\n",
      "<name>V_D149.V57</name>\n",
      "<value>*All*</value>\n",
      "</parameter>\n",
      "<parameter>\n",
      "<name>V_D149.V58</name>\n",
      "<value>*All*</value>\n",
      "</parameter>\n",
      "<parameter>\n",
      "<name>V_D149.V59</name>\n",
      "<value>*All*</value>\n",
      "</parameter>\n",
      "<parameter>\n",
      "<name>V_D149.V6</name>\n",
      "<value>*All*</value>\n",
      "</parameter>\n",
      "<parameter>\n",
      "<name>V_D149.V60</name>\n",
      "<value>*All*</value>\n",
      "</parameter>\n",
      "<parameter>\n",
      "<name>V_D149.V61</name>\n",
      "<value>*All*</value>\n",
      "</parameter>\n",
      "<parameter>\n",
      "<name>V_D149.V62</name>\n",
      "<value>*All*</value>\n",
      "</parameter>\n",
      "<parameter>\n",
      "<name>V_D149.V63</name>\n",
      "<value>*All*</value>\n",
      "</parameter>\n",
      "<parameter>\n",
      "<name>V_D149.V64</name>\n",
      "<value>*All*</value>\n",
      "</parameter>\n",
      "<parameter>\n",
      "<name>V_D149.V65</name>\n",
      "<value>*All*</value>\n",
      "</parameter>\n",
      "<parameter>\n",
      "<name>V_D149.V66</name>\n",
      "<value>*All*</value>\n",
      "</parameter>\n",
      "<parameter>\n",
      "<name>V_D149.V7</name>\n",
      "<value>*All*</value>\n",
      "</parameter>\n",
      "<parameter>\n",
      "<name>V_D149.V70</name>\n",
      "<value>*All*</value>\n",
      "</parameter>\n",
      "<parameter>\n",
      "<name>V_D149.V71</name>\n",
      "<value>1</value>\n",
      "<value>2</value>\n",
      "<value>3</value>\n",
      "<value>4</value>\n",
      "<value>5</value>\n",
      "<value>6</value>\n",
      "</parameter>\n",
      "<parameter>\n",
      "<name>V_D149.V73</name>\n",
      "<value>*All*</value>\n",
      "</parameter>\n",
      "<parameter>\n",
      "<name>V_D149.V74</name>\n",
      "<value>*All*</value>\n",
      "</parameter>\n",
      "<parameter>\n",
      "<name>V_D149.V75</name>\n",
      "<value>*All*</value>\n",
      "</parameter>\n",
      "<parameter>\n",
      "<name>V_D149.V76</name>\n",
      "<value>*All*</value>\n",
      "</parameter>\n",
      "<parameter>\n",
      "<name>V_D149.V77</name>\n",
      "<value>*All*</value>\n",
      "</parameter>\n",
      "<parameter>\n",
      "<name>V_D149.V78</name>\n",
      "<value>*All*</value>\n",
      "</parameter>\n",
      "<parameter>\n",
      "<name>V_D149.V79</name>\n",
      "<value>*All*</value>\n",
      "</parameter>\n",
      "<parameter>\n",
      "<name>V_D149.V8</name>\n",
      "<value>*All*</value>\n",
      "</parameter>\n",
      "<parameter>\n",
      "<name>V_D149.V80</name>\n",
      "<value>*All*</value>\n",
      "</parameter>\n",
      "<parameter>\n",
      "<name>V_D149.V81</name>\n",
      "<value>*All*</value>\n",
      "</parameter>\n",
      "<parameter>\n",
      "<name>V_D149.V82</name>\n",
      "<value>*All*</value>\n",
      "</parameter>\n",
      "<parameter>\n",
      "<name>V_D149.V83</name>\n",
      "<value>*All*</value>\n",
      "</parameter>\n",
      "<parameter>\n",
      "<name>V_D149.V84</name>\n",
      "<value>*All*</value>\n",
      "</parameter>\n",
      "<parameter>\n",
      "<name>V_D149.V85</name>\n",
      "<value>*All*</value>\n",
      "</parameter>\n",
      "<parameter>\n",
      "<name>V_D149.V86</name>\n",
      "<value>*All*</value>\n",
      "</parameter>\n",
      "<parameter>\n",
      "<name>V_D149.V87</name>\n",
      "<value>*All*</value>\n",
      "</parameter>\n",
      "<parameter>\n",
      "<name>V_D149.V88</name>\n",
      "<value>*All*</value>\n",
      "</parameter>\n",
      "<parameter>\n",
      "<name>V_D149.V89</name>\n",
      "<value>*All*</value>\n",
      "</parameter>\n",
      "<parameter>\n",
      "<name>V_D149.V9</name>\n",
      "<value>*All*</value>\n",
      "</parameter>\n",
      "<parameter>\n",
      "<name>V_D149.V90</name>\n",
      "<value>*All*</value>\n",
      "</parameter>\n",
      "<parameter>\n",
      "<name>V_D149.V91</name>\n",
      "<value>*All*</value>\n",
      "</parameter>\n",
      "<parameter>\n",
      "<name>V_D149.V92</name>\n",
      "<value>*All*</value>\n",
      "</parameter>\n",
      "<parameter>\n",
      "<name>V_D149.V93</name>\n",
      "<value>*All*</value>\n",
      "</parameter>\n",
      "<parameter>\n",
      "<name>V_D149.V94</name>\n",
      "<value>*All*</value>\n",
      "</parameter>\n",
      "<parameter>\n",
      "<name>V_D149.V95</name>\n",
      "<value>*All*</value>\n",
      "</parameter>\n",
      "<parameter>\n",
      "<name>V_D149.V96</name>\n",
      "<value>*All*</value>\n",
      "</parameter>\n",
      "<parameter>\n",
      "<name>V_D149.V97</name>\n",
      "<value>*All*</value>\n",
      "</parameter>\n",
      "<parameter>\n",
      "<name>V_D149.V98</name>\n",
      "<value>*All*</value>\n",
      "</parameter>\n",
      "<parameter>\n",
      "<name>V_D149.V99</name>\n",
      "<value>*All*</value>\n",
      "</parameter>\n",
      "<parameter>\n",
      "<name>action-Send</name>\n",
      "<value>Send</value>\n",
      "</parameter>\n",
      "<parameter>\n",
      "<name>dataset_code</name>\n",
      "<value>D149</value>\n",
      "</parameter>\n",
      "<parameter>\n",
      "<name>dataset_label</name>\n",
      "<value>Natality, 2016-2021 expanded</value>\n",
      "</parameter>\n",
      "<parameter>\n",
      "<name>dataset_vintage</name>\n",
      "<value>2021</value>\n",
      "</parameter>\n",
      "<parameter>\n",
      "<name>finder-stage-D149.V21</name>\n",
      "<value>codeset</value>\n",
      "</parameter>\n",
      "<parameter>\n",
      "<name>finder-stage-D149.V22</name>\n",
      "<value>codeset</value>\n",
      "</parameter>\n",
      "<parameter>\n",
      "<name>finder-stage-D149.V37</name>\n",
      "<value>codeset</value>\n",
      "</parameter>\n",
      "<parameter>\n",
      "<name>saved_id</name>\n",
      "<value></value>\n",
      "</parameter>\n",
      "<parameter>\n",
      "<name>stage</name>\n",
      "<value>request</value>\n",
      "</parameter>\n",
      "</request-parameters>\n",
      "2023-03-17 13:46:33,102 - urllib3.connectionpool - _new_conn - DEBUG - Starting new HTTPS connection (1): wonder.cdc.gov:443\n"
     ]
    },
    {
     "name": "stderr",
     "output_type": "stream",
     "text": [
      "/Users/abhijithdasharathi/Study/UCSD/Winter_23/ECE143/CDC_Project/wonderD149Data/examples/../src/wonderD149Data/data/helper.py:472: SettingWithCopyWarning:\n",
      "\n",
      "\n",
      "A value is trying to be set on a copy of a slice from a DataFrame.\n",
      "Try using .loc[row_indexer,col_indexer] = value instead\n",
      "\n",
      "See the caveats in the documentation: https://pandas.pydata.org/pandas-docs/stable/user_guide/indexing.html#returning-a-view-versus-a-copy\n",
      "\n"
     ]
    },
    {
     "name": "stdout",
     "output_type": "stream",
     "text": [
      "2023-03-17 13:46:38,938 - urllib3.connectionpool - _make_request - DEBUG - https://wonder.cdc.gov:443 \"POST /controller/datarequest/D149 HTTP/1.1\" 200 158615\n",
      "2023-03-17 13:46:42,068 - root - _createXMLRequest - INFO - the xml sent to api is as below\n",
      "2023-03-17 13:46:42,068 - root - _createXMLRequest - DEBUG - <request-parameters>\n",
      "<parameter>\n",
      "<name>B_1</name>\n",
      "<value>D149.V71</value>\n",
      "</parameter>\n",
      "<parameter>\n",
      "<name>B_2</name>\n",
      "<value>*None*</value>\n",
      "</parameter>\n",
      "<parameter>\n",
      "<name>B_3</name>\n",
      "<value>*None*</value>\n",
      "</parameter>\n",
      "<parameter>\n",
      "<name>B_4</name>\n",
      "<value>*None*</value>\n",
      "</parameter>\n",
      "<parameter>\n",
      "<name>B_5</name>\n",
      "<value>*None*</value>\n",
      "</parameter>\n",
      "<parameter>\n",
      "<name>F_D149.V21</name>\n",
      "<value>*All*</value>\n",
      "</parameter>\n",
      "<parameter>\n",
      "<name>F_D149.V22</name>\n",
      "<value>*All*</value>\n",
      "</parameter>\n",
      "<parameter>\n",
      "<name>F_D149.V37</name>\n",
      "<value>*All*</value>\n",
      "</parameter>\n",
      "<parameter>\n",
      "<name>I_D149.V21</name>\n",
      "<value>*All*  (The United States)</value>\n",
      "</parameter>\n",
      "<parameter>\n",
      "<name>I_D149.V22</name>\n",
      "<value>*All*  (The United States)</value>\n",
      "</parameter>\n",
      "<parameter>\n",
      "<name>I_D149.V37</name>\n",
      "<value>*All*  (The United States)</value>\n",
      "</parameter>\n",
      "<parameter>\n",
      "<name>M_002</name>\n",
      "<value>D149.M002</value>\n",
      "</parameter>\n",
      "<parameter>\n",
      "<name>O_V21_fmode</name>\n",
      "<value>freg</value>\n",
      "</parameter>\n",
      "<parameter>\n",
      "<name>O_V22_fmode</name>\n",
      "<value>freg</value>\n",
      "</parameter>\n",
      "<parameter>\n",
      "<name>O_V37_fmode</name>\n",
      "<value>freg</value>\n",
      "</parameter>\n",
      "<parameter>\n",
      "<name>O_age</name>\n",
      "<value>D149.V1</value>\n",
      "</parameter>\n",
      "<parameter>\n",
      "<name>O_apgar10</name>\n",
      "<value>D149.V113</value>\n",
      "</parameter>\n",
      "<parameter>\n",
      "<name>O_apgar5</name>\n",
      "<value>D149.V111</value>\n",
      "</parameter>\n",
      "<parameter>\n",
      "<name>O_cig_before</name>\n",
      "<value>D149.V143</value>\n",
      "</parameter>\n",
      "<parameter>\n",
      "<name>O_cig_trim1</name>\n",
      "<value>D149.V144</value>\n",
      "</parameter>\n",
      "<parameter>\n",
      "<name>O_cig_trim2</name>\n",
      "<value>D149.V145</value>\n",
      "</parameter>\n",
      "<parameter>\n",
      "<name>O_cig_trim3</name>\n",
      "<value>D149.V146</value>\n",
      "</parameter>\n",
      "<parameter>\n",
      "<name>O_delivery</name>\n",
      "<value>D149.V101</value>\n",
      "</parameter>\n",
      "<parameter>\n",
      "<name>O_f_ethnicity</name>\n",
      "<value>D149.V53</value>\n",
      "</parameter>\n",
      "<parameter>\n",
      "<name>O_frace</name>\n",
      "<value>D149.V54</value>\n",
      "</parameter>\n",
      "<parameter>\n",
      "<name>O_gestation</name>\n",
      "<value>D149.V6</value>\n",
      "</parameter>\n",
      "<parameter>\n",
      "<name>O_javascript</name>\n",
      "<value>on</value>\n",
      "</parameter>\n",
      "<parameter>\n",
      "<name>O_location</name>\n",
      "<value>D149.V21</value>\n",
      "</parameter>\n",
      "<parameter>\n",
      "<name>O_m_ethnicity</name>\n",
      "<value>D149.V43</value>\n",
      "</parameter>\n",
      "<parameter>\n",
      "<name>O_oc-sect1-request</name>\n",
      "<value>close</value>\n",
      "</parameter>\n",
      "<parameter>\n",
      "<name>O_oe_gestation</name>\n",
      "<value>D149.V32</value>\n",
      "</parameter>\n",
      "<parameter>\n",
      "<name>O_pay</name>\n",
      "<value>D149.V110</value>\n",
      "</parameter>\n",
      "<parameter>\n",
      "<name>O_place</name>\n",
      "<value>D149.V45</value>\n",
      "</parameter>\n",
      "<parameter>\n",
      "<name>O_precision</name>\n",
      "<value>2</value>\n",
      "</parameter>\n",
      "<parameter>\n",
      "<name>O_prenatal</name>\n",
      "<value>D149.V63</value>\n",
      "</parameter>\n",
      "<parameter>\n",
      "<name>O_prenatal2</name>\n",
      "<value>D149.V65</value>\n",
      "</parameter>\n",
      "<parameter>\n",
      "<name>O_race</name>\n",
      "<value>D149.V42</value>\n",
      "</parameter>\n",
      "<parameter>\n",
      "<name>O_rate_per</name>\n",
      "<value>1000</value>\n",
      "</parameter>\n",
      "<parameter>\n",
      "<name>O_show_suppressed</name>\n",
      "<value>false</value>\n",
      "</parameter>\n",
      "<parameter>\n",
      "<name>O_show_totals</name>\n",
      "<value>true</value>\n",
      "</parameter>\n",
      "<parameter>\n",
      "<name>O_show_zeros</name>\n",
      "<value>false</value>\n",
      "</parameter>\n",
      "<parameter>\n",
      "<name>O_timeout</name>\n",
      "<value>600</value>\n",
      "</parameter>\n",
      "<parameter>\n",
      "<name>O_urban</name>\n",
      "<value>D149.V154</value>\n",
      "</parameter>\n",
      "<parameter>\n",
      "<name>O_weight</name>\n",
      "<value>D149.V9</value>\n",
      "</parameter>\n",
      "<parameter>\n",
      "<name>V_D149.V1</name>\n",
      "<value>*All*</value>\n",
      "</parameter>\n",
      "<parameter>\n",
      "<name>V_D149.V10</name>\n",
      "<value>*All*</value>\n",
      "</parameter>\n",
      "<parameter>\n",
      "<name>V_D149.V100</name>\n",
      "<value>*All*</value>\n",
      "</parameter>\n",
      "<parameter>\n",
      "<name>V_D149.V101</name>\n",
      "<value>*All*</value>\n",
      "</parameter>\n",
      "<parameter>\n",
      "<name>V_D149.V102</name>\n",
      "<value>*All*</value>\n",
      "</parameter>\n",
      "<parameter>\n",
      "<name>V_D149.V103</name>\n",
      "<value>*All*</value>\n",
      "</parameter>\n",
      "<parameter>\n",
      "<name>V_D149.V104</name>\n",
      "<value>*All*</value>\n",
      "</parameter>\n",
      "<parameter>\n",
      "<name>V_D149.V105</name>\n",
      "<value>*All*</value>\n",
      "</parameter>\n",
      "<parameter>\n",
      "<name>V_D149.V106</name>\n",
      "<value>*All*</value>\n",
      "</parameter>\n",
      "<parameter>\n",
      "<name>V_D149.V107</name>\n",
      "<value>*All*</value>\n",
      "</parameter>\n",
      "<parameter>\n",
      "<name>V_D149.V108</name>\n",
      "<value>*All*</value>\n",
      "</parameter>\n",
      "<parameter>\n",
      "<name>V_D149.V109</name>\n",
      "<value>*All*</value>\n",
      "</parameter>\n",
      "<parameter>\n",
      "<name>V_D149.V110</name>\n",
      "<value>*All*</value>\n",
      "</parameter>\n",
      "<parameter>\n",
      "<name>V_D149.V111</name>\n",
      "<value>*All*</value>\n",
      "</parameter>\n",
      "<parameter>\n",
      "<name>V_D149.V112</name>\n",
      "<value>*All*</value>\n",
      "</parameter>\n",
      "<parameter>\n",
      "<name>V_D149.V113</name>\n",
      "<value>*All*</value>\n",
      "</parameter>\n",
      "<parameter>\n",
      "<name>V_D149.V114</name>\n",
      "<value>*All*</value>\n",
      "</parameter>\n",
      "<parameter>\n",
      "<name>V_D149.V115</name>\n",
      "<value>*All*</value>\n",
      "</parameter>\n",
      "<parameter>\n",
      "<name>V_D149.V116</name>\n",
      "<value>*All*</value>\n",
      "</parameter>\n",
      "<parameter>\n",
      "<name>V_D149.V117</name>\n",
      "<value>*All*</value>\n",
      "</parameter>\n",
      "<parameter>\n",
      "<name>V_D149.V118</name>\n",
      "<value>*All*</value>\n",
      "</parameter>\n",
      "<parameter>\n",
      "<name>V_D149.V119</name>\n",
      "<value>*All*</value>\n",
      "</parameter>\n",
      "<parameter>\n",
      "<name>V_D149.V120</name>\n",
      "<value>*All*</value>\n",
      "</parameter>\n",
      "<parameter>\n",
      "<name>V_D149.V121</name>\n",
      "<value>*All*</value>\n",
      "</parameter>\n",
      "<parameter>\n",
      "<name>V_D149.V122</name>\n",
      "<value>1</value>\n",
      "<value>9</value>\n",
      "</parameter>\n",
      "<parameter>\n",
      "<name>V_D149.V123</name>\n",
      "<value>*All*</value>\n",
      "</parameter>\n",
      "<parameter>\n",
      "<name>V_D149.V124</name>\n",
      "<value>*All*</value>\n",
      "</parameter>\n",
      "<parameter>\n",
      "<name>V_D149.V125</name>\n",
      "<value>*All*</value>\n",
      "</parameter>\n",
      "<parameter>\n",
      "<name>V_D149.V126</name>\n",
      "<value>*All*</value>\n",
      "</parameter>\n",
      "<parameter>\n",
      "<name>V_D149.V127</name>\n",
      "<value>*All*</value>\n",
      "</parameter>\n",
      "<parameter>\n",
      "<name>V_D149.V128</name>\n",
      "<value>*All*</value>\n",
      "</parameter>\n",
      "<parameter>\n",
      "<name>V_D149.V129</name>\n",
      "<value>*All*</value>\n",
      "</parameter>\n",
      "<parameter>\n",
      "<name>V_D149.V130</name>\n",
      "<value>*All*</value>\n",
      "</parameter>\n",
      "<parameter>\n",
      "<name>V_D149.V131</name>\n",
      "<value>*All*</value>\n",
      "</parameter>\n",
      "<parameter>\n",
      "<name>V_D149.V132</name>\n",
      "<value>*All*</value>\n",
      "</parameter>\n",
      "<parameter>\n",
      "<name>V_D149.V133</name>\n",
      "<value>*All*</value>\n",
      "</parameter>\n",
      "<parameter>\n",
      "<name>V_D149.V134</name>\n",
      "<value>*All*</value>\n",
      "</parameter>\n",
      "<parameter>\n",
      "<name>V_D149.V135</name>\n",
      "<value>*All*</value>\n",
      "</parameter>\n",
      "<parameter>\n",
      "<name>V_D149.V136</name>\n",
      "<value>*All*</value>\n",
      "</parameter>\n",
      "<parameter>\n",
      "<name>V_D149.V137</name>\n",
      "<value>*All*</value>\n",
      "</parameter>\n",
      "<parameter>\n",
      "<name>V_D149.V138</name>\n",
      "<value>*All*</value>\n",
      "</parameter>\n",
      "<parameter>\n",
      "<name>V_D149.V139</name>\n",
      "<value>*All*</value>\n",
      "</parameter>\n",
      "<parameter>\n",
      "<name>V_D149.V140</name>\n",
      "<value>*All*</value>\n",
      "</parameter>\n",
      "<parameter>\n",
      "<name>V_D149.V141</name>\n",
      "<value>*All*</value>\n",
      "</parameter>\n",
      "<parameter>\n",
      "<name>V_D149.V142</name>\n",
      "<value>*All*</value>\n",
      "</parameter>\n",
      "<parameter>\n",
      "<name>V_D149.V143</name>\n",
      "<value>*All*</value>\n",
      "</parameter>\n",
      "<parameter>\n",
      "<name>V_D149.V144</name>\n",
      "<value>*All*</value>\n",
      "</parameter>\n",
      "<parameter>\n",
      "<name>V_D149.V145</name>\n",
      "<value>*All*</value>\n",
      "</parameter>\n",
      "<parameter>\n",
      "<name>V_D149.V146</name>\n",
      "<value>*All*</value>\n",
      "</parameter>\n",
      "<parameter>\n",
      "<name>V_D149.V147</name>\n",
      "<value>*All*</value>\n",
      "</parameter>\n",
      "<parameter>\n",
      "<name>V_D149.V149</name>\n",
      "<value>*All*</value>\n",
      "</parameter>\n",
      "<parameter>\n",
      "<name>V_D149.V150</name>\n",
      "<value>*All*</value>\n",
      "</parameter>\n",
      "<parameter>\n",
      "<name>V_D149.V151</name>\n",
      "<value>*All*</value>\n",
      "</parameter>\n",
      "<parameter>\n",
      "<name>V_D149.V152</name>\n",
      "<value>*All*</value>\n",
      "</parameter>\n",
      "<parameter>\n",
      "<name>V_D149.V153</name>\n",
      "<value>*All*</value>\n",
      "</parameter>\n",
      "<parameter>\n",
      "<name>V_D149.V154</name>\n",
      "<value>*All*</value>\n",
      "</parameter>\n",
      "<parameter>\n",
      "<name>V_D149.V155</name>\n",
      "<value>*All*</value>\n",
      "</parameter>\n",
      "<parameter>\n",
      "<name>V_D149.V156</name>\n",
      "<value>*All*</value>\n",
      "</parameter>\n",
      "<parameter>\n",
      "<name>V_D149.V157</name>\n",
      "<value>*All*</value>\n",
      "</parameter>\n",
      "<parameter>\n",
      "<name>V_D149.V16</name>\n",
      "<value>*All*</value>\n",
      "</parameter>\n",
      "<parameter>\n",
      "<name>V_D149.V17</name>\n",
      "<value>*All*</value>\n",
      "</parameter>\n",
      "<parameter>\n",
      "<name>V_D149.V18</name>\n",
      "<value>*All*</value>\n",
      "</parameter>\n",
      "<parameter>\n",
      "<name>V_D149.V20</name>\n",
      "<value>*All*</value>\n",
      "</parameter>\n",
      "<parameter>\n",
      "<name>V_D149.V23</name>\n",
      "<value>*All*</value>\n",
      "</parameter>\n",
      "<parameter>\n",
      "<name>V_D149.V24</name>\n",
      "<value>*All*</value>\n",
      "</parameter>\n",
      "<parameter>\n",
      "<name>V_D149.V25</name>\n",
      "<value>*All*</value>\n",
      "</parameter>\n",
      "<parameter>\n",
      "<name>V_D149.V26</name>\n",
      "<value>*All*</value>\n",
      "</parameter>\n",
      "<parameter>\n",
      "<name>V_D149.V27</name>\n",
      "<value>*All*</value>\n",
      "</parameter>\n",
      "<parameter>\n",
      "<name>V_D149.V28</name>\n",
      "<value>*All*</value>\n",
      "</parameter>\n",
      "<parameter>\n",
      "<name>V_D149.V29</name>\n",
      "<value>*All*</value>\n",
      "</parameter>\n",
      "<parameter>\n",
      "<name>V_D149.V3</name>\n",
      "<value>*All*</value>\n",
      "</parameter>\n",
      "<parameter>\n",
      "<name>V_D149.V30</name>\n",
      "<value>*All*</value>\n",
      "</parameter>\n",
      "<parameter>\n",
      "<name>V_D149.V31</name>\n",
      "<value>*All*</value>\n",
      "</parameter>\n",
      "<parameter>\n",
      "<name>V_D149.V32</name>\n",
      "<value>*All*</value>\n",
      "</parameter>\n",
      "<parameter>\n",
      "<name>V_D149.V33</name>\n",
      "<value>*All*</value>\n",
      "</parameter>\n",
      "<parameter>\n",
      "<name>V_D149.V34</name>\n",
      "<value>*All*</value>\n",
      "</parameter>\n",
      "<parameter>\n",
      "<name>V_D149.V35</name>\n",
      "<value>*All*</value>\n",
      "</parameter>\n",
      "<parameter>\n",
      "<name>V_D149.V38</name>\n",
      "<value>*All*</value>\n",
      "</parameter>\n",
      "<parameter>\n",
      "<name>V_D149.V39</name>\n",
      "<value>*All*</value>\n",
      "</parameter>\n",
      "<parameter>\n",
      "<name>V_D149.V4</name>\n",
      "<value>*All*</value>\n",
      "</parameter>\n",
      "<parameter>\n",
      "<name>V_D149.V41</name>\n",
      "<value>*All*</value>\n",
      "</parameter>\n",
      "<parameter>\n",
      "<name>V_D149.V42</name>\n",
      "<value>*All*</value>\n",
      "</parameter>\n",
      "<parameter>\n",
      "<name>V_D149.V43</name>\n",
      "<value>*All*</value>\n",
      "</parameter>\n",
      "<parameter>\n",
      "<name>V_D149.V44</name>\n",
      "<value>*All*</value>\n",
      "</parameter>\n",
      "<parameter>\n",
      "<name>V_D149.V45</name>\n",
      "<value>*All*</value>\n",
      "</parameter>\n",
      "<parameter>\n",
      "<name>V_D149.V46</name>\n",
      "<value>*All*</value>\n",
      "</parameter>\n",
      "<parameter>\n",
      "<name>V_D149.V47</name>\n",
      "<value>*All*</value>\n",
      "</parameter>\n",
      "<parameter>\n",
      "<name>V_D149.V48</name>\n",
      "<value>*All*</value>\n",
      "</parameter>\n",
      "<parameter>\n",
      "<name>V_D149.V49</name>\n",
      "<value>*All*</value>\n",
      "</parameter>\n",
      "<parameter>\n",
      "<name>V_D149.V5</name>\n",
      "<value>*All*</value>\n",
      "</parameter>\n",
      "<parameter>\n",
      "<name>V_D149.V50</name>\n",
      "<value>*All*</value>\n",
      "</parameter>\n",
      "<parameter>\n",
      "<name>V_D149.V51</name>\n",
      "<value>*All*</value>\n",
      "</parameter>\n",
      "<parameter>\n",
      "<name>V_D149.V52</name>\n",
      "<value>*All*</value>\n",
      "</parameter>\n",
      "<parameter>\n",
      "<name>V_D149.V53</name>\n",
      "<value>*All*</value>\n",
      "</parameter>\n",
      "<parameter>\n",
      "<name>V_D149.V54</name>\n",
      "<value>*All*</value>\n",
      "</parameter>\n",
      "<parameter>\n",
      "<name>V_D149.V55</name>\n",
      "<value>*All*</value>\n",
      "</parameter>\n",
      "<parameter>\n",
      "<name>V_D149.V56</name>\n",
      "<value>*All*</value>\n",
      "</parameter>\n",
      "<parameter>\n",
      "<name>V_D149.V57</name>\n",
      "<value>*All*</value>\n",
      "</parameter>\n",
      "<parameter>\n",
      "<name>V_D149.V58</name>\n",
      "<value>*All*</value>\n",
      "</parameter>\n",
      "<parameter>\n",
      "<name>V_D149.V59</name>\n",
      "<value>*All*</value>\n",
      "</parameter>\n",
      "<parameter>\n",
      "<name>V_D149.V6</name>\n",
      "<value>*All*</value>\n",
      "</parameter>\n",
      "<parameter>\n",
      "<name>V_D149.V60</name>\n",
      "<value>*All*</value>\n",
      "</parameter>\n",
      "<parameter>\n",
      "<name>V_D149.V61</name>\n",
      "<value>*All*</value>\n",
      "</parameter>\n",
      "<parameter>\n",
      "<name>V_D149.V62</name>\n",
      "<value>*All*</value>\n",
      "</parameter>\n",
      "<parameter>\n",
      "<name>V_D149.V63</name>\n",
      "<value>*All*</value>\n",
      "</parameter>\n",
      "<parameter>\n",
      "<name>V_D149.V64</name>\n",
      "<value>*All*</value>\n",
      "</parameter>\n",
      "<parameter>\n",
      "<name>V_D149.V65</name>\n",
      "<value>*All*</value>\n",
      "</parameter>\n",
      "<parameter>\n",
      "<name>V_D149.V66</name>\n",
      "<value>*All*</value>\n",
      "</parameter>\n",
      "<parameter>\n",
      "<name>V_D149.V7</name>\n",
      "<value>*All*</value>\n",
      "</parameter>\n",
      "<parameter>\n",
      "<name>V_D149.V70</name>\n",
      "<value>*All*</value>\n",
      "</parameter>\n",
      "<parameter>\n",
      "<name>V_D149.V71</name>\n",
      "<value>1</value>\n",
      "<value>2</value>\n",
      "<value>3</value>\n",
      "<value>4</value>\n",
      "<value>5</value>\n",
      "<value>6</value>\n",
      "</parameter>\n",
      "<parameter>\n",
      "<name>V_D149.V73</name>\n",
      "<value>*All*</value>\n",
      "</parameter>\n",
      "<parameter>\n",
      "<name>V_D149.V74</name>\n",
      "<value>*All*</value>\n",
      "</parameter>\n",
      "<parameter>\n",
      "<name>V_D149.V75</name>\n",
      "<value>*All*</value>\n",
      "</parameter>\n",
      "<parameter>\n",
      "<name>V_D149.V76</name>\n",
      "<value>*All*</value>\n",
      "</parameter>\n",
      "<parameter>\n",
      "<name>V_D149.V77</name>\n",
      "<value>*All*</value>\n",
      "</parameter>\n",
      "<parameter>\n",
      "<name>V_D149.V78</name>\n",
      "<value>*All*</value>\n",
      "</parameter>\n",
      "<parameter>\n",
      "<name>V_D149.V79</name>\n",
      "<value>*All*</value>\n",
      "</parameter>\n",
      "<parameter>\n",
      "<name>V_D149.V8</name>\n",
      "<value>*All*</value>\n",
      "</parameter>\n",
      "<parameter>\n",
      "<name>V_D149.V80</name>\n",
      "<value>*All*</value>\n",
      "</parameter>\n",
      "<parameter>\n",
      "<name>V_D149.V81</name>\n",
      "<value>*All*</value>\n",
      "</parameter>\n",
      "<parameter>\n",
      "<name>V_D149.V82</name>\n",
      "<value>*All*</value>\n",
      "</parameter>\n",
      "<parameter>\n",
      "<name>V_D149.V83</name>\n",
      "<value>*All*</value>\n",
      "</parameter>\n",
      "<parameter>\n",
      "<name>V_D149.V84</name>\n",
      "<value>*All*</value>\n",
      "</parameter>\n",
      "<parameter>\n",
      "<name>V_D149.V85</name>\n",
      "<value>*All*</value>\n",
      "</parameter>\n",
      "<parameter>\n",
      "<name>V_D149.V86</name>\n",
      "<value>*All*</value>\n",
      "</parameter>\n",
      "<parameter>\n",
      "<name>V_D149.V87</name>\n",
      "<value>*All*</value>\n",
      "</parameter>\n",
      "<parameter>\n",
      "<name>V_D149.V88</name>\n",
      "<value>*All*</value>\n",
      "</parameter>\n",
      "<parameter>\n",
      "<name>V_D149.V89</name>\n",
      "<value>*All*</value>\n",
      "</parameter>\n",
      "<parameter>\n",
      "<name>V_D149.V9</name>\n",
      "<value>*All*</value>\n",
      "</parameter>\n",
      "<parameter>\n",
      "<name>V_D149.V90</name>\n",
      "<value>*All*</value>\n",
      "</parameter>\n",
      "<parameter>\n",
      "<name>V_D149.V91</name>\n",
      "<value>*All*</value>\n",
      "</parameter>\n",
      "<parameter>\n",
      "<name>V_D149.V92</name>\n",
      "<value>*All*</value>\n",
      "</parameter>\n",
      "<parameter>\n",
      "<name>V_D149.V93</name>\n",
      "<value>*All*</value>\n",
      "</parameter>\n",
      "<parameter>\n",
      "<name>V_D149.V94</name>\n",
      "<value>*All*</value>\n",
      "</parameter>\n",
      "<parameter>\n",
      "<name>V_D149.V95</name>\n",
      "<value>*All*</value>\n",
      "</parameter>\n",
      "<parameter>\n",
      "<name>V_D149.V96</name>\n",
      "<value>*All*</value>\n",
      "</parameter>\n",
      "<parameter>\n",
      "<name>V_D149.V97</name>\n",
      "<value>*All*</value>\n",
      "</parameter>\n",
      "<parameter>\n",
      "<name>V_D149.V98</name>\n",
      "<value>*All*</value>\n",
      "</parameter>\n",
      "<parameter>\n",
      "<name>V_D149.V99</name>\n",
      "<value>*All*</value>\n",
      "</parameter>\n",
      "<parameter>\n",
      "<name>action-Send</name>\n",
      "<value>Send</value>\n",
      "</parameter>\n",
      "<parameter>\n",
      "<name>dataset_code</name>\n",
      "<value>D149</value>\n",
      "</parameter>\n",
      "<parameter>\n",
      "<name>dataset_label</name>\n",
      "<value>Natality, 2016-2021 expanded</value>\n",
      "</parameter>\n",
      "<parameter>\n",
      "<name>dataset_vintage</name>\n",
      "<value>2021</value>\n",
      "</parameter>\n",
      "<parameter>\n",
      "<name>finder-stage-D149.V21</name>\n",
      "<value>codeset</value>\n",
      "</parameter>\n",
      "<parameter>\n",
      "<name>finder-stage-D149.V22</name>\n",
      "<value>codeset</value>\n",
      "</parameter>\n",
      "<parameter>\n",
      "<name>finder-stage-D149.V37</name>\n",
      "<value>codeset</value>\n",
      "</parameter>\n",
      "<parameter>\n",
      "<name>saved_id</name>\n",
      "<value></value>\n",
      "</parameter>\n",
      "<parameter>\n",
      "<name>stage</name>\n",
      "<value>request</value>\n",
      "</parameter>\n",
      "</request-parameters>\n",
      "2023-03-17 13:46:42,330 - urllib3.connectionpool - _new_conn - DEBUG - Starting new HTTPS connection (1): wonder.cdc.gov:443\n",
      "2023-03-17 13:46:51,738 - urllib3.connectionpool - _make_request - DEBUG - https://wonder.cdc.gov:443 \"POST /controller/datarequest/D149 HTTP/1.1\" 200 158678\n"
     ]
    },
    {
     "name": "stderr",
     "output_type": "stream",
     "text": [
      "/Users/abhijithdasharathi/Study/UCSD/Winter_23/ECE143/CDC_Project/wonderD149Data/examples/../src/wonderD149Data/data/helper.py:472: SettingWithCopyWarning:\n",
      "\n",
      "\n",
      "A value is trying to be set on a copy of a slice from a DataFrame.\n",
      "Try using .loc[row_indexer,col_indexer] = value instead\n",
      "\n",
      "See the caveats in the documentation: https://pandas.pydata.org/pandas-docs/stable/user_guide/indexing.html#returning-a-view-versus-a-copy\n",
      "\n"
     ]
    },
    {
     "data": {
      "application/vnd.plotly.v1+json": {
       "config": {
        "plotlyServerURL": "https://plot.ly"
       },
       "data": [
        {
         "hovertemplate": "Issue=Pre Term Birth<br>Mother's Pre-pregnancy BMI=%{x}<br>Percent of Mother Facing Issue=%{y}<extra></extra>",
         "legendgroup": "Pre Term Birth",
         "line": {
          "color": "rgb(255, 152, 90)",
          "dash": "solid"
         },
         "marker": {
          "symbol": "circle"
         },
         "mode": "lines",
         "name": "Pre Term Birth",
         "orientation": "v",
         "showlegend": true,
         "type": "scatter",
         "x": [
          "Underweight <18.5",
          "Normal 18.5-24.9",
          "Overweight 25.0-29.9",
          "Obesity I 30.0-34.9",
          "Obesity II 35.0-39.9",
          "Extreme Obesity III > 39.9"
         ],
         "xaxis": "x",
         "y": [
          11.37540075779656,
          8.843506976508793,
          9.56249658029733,
          10.950579376393609,
          12.168385987343568,
          14.019174521440503
         ],
         "yaxis": "y"
        },
        {
         "hovertemplate": "Issue=Abnormality<br>Mother's Pre-pregnancy BMI=%{x}<br>Percent of Mother Facing Issue=%{y}<extra></extra>",
         "legendgroup": "Abnormality",
         "line": {
          "color": "rgb(119, 158, 204)",
          "dash": "solid"
         },
         "marker": {
          "symbol": "circle"
         },
         "mode": "lines",
         "name": "Abnormality",
         "orientation": "v",
         "showlegend": true,
         "type": "scatter",
         "x": [
          "Underweight <18.5",
          "Normal 18.5-24.9",
          "Overweight 25.0-29.9",
          "Obesity I 30.0-34.9",
          "Obesity II 35.0-39.9",
          "Extreme Obesity III > 39.9"
         ],
         "xaxis": "x",
         "y": [
          10.876163290272782,
          9.83822887650378,
          10.741661778630908,
          12.1064140951145,
          13.5110678609256,
          15.994842685428527
         ],
         "yaxis": "y"
        }
       ],
       "layout": {
        "font": {
         "color": "black",
         "family": "Verdana",
         "size": 24
        },
        "height": 900,
        "legend": {
         "title": {
          "font": {
           "color": "black"
          },
          "text": "Issue"
         },
         "tracegroupgap": 0
        },
        "margin": {
         "t": 60
        },
        "template": {
         "data": {
          "bar": [
           {
            "error_x": {
             "color": "#2a3f5f"
            },
            "error_y": {
             "color": "#2a3f5f"
            },
            "marker": {
             "line": {
              "color": "#E5ECF6",
              "width": 0.5
             },
             "pattern": {
              "fillmode": "overlay",
              "size": 10,
              "solidity": 0.2
             }
            },
            "type": "bar"
           }
          ],
          "barpolar": [
           {
            "marker": {
             "line": {
              "color": "#E5ECF6",
              "width": 0.5
             },
             "pattern": {
              "fillmode": "overlay",
              "size": 10,
              "solidity": 0.2
             }
            },
            "type": "barpolar"
           }
          ],
          "carpet": [
           {
            "aaxis": {
             "endlinecolor": "#2a3f5f",
             "gridcolor": "white",
             "linecolor": "white",
             "minorgridcolor": "white",
             "startlinecolor": "#2a3f5f"
            },
            "baxis": {
             "endlinecolor": "#2a3f5f",
             "gridcolor": "white",
             "linecolor": "white",
             "minorgridcolor": "white",
             "startlinecolor": "#2a3f5f"
            },
            "type": "carpet"
           }
          ],
          "choropleth": [
           {
            "colorbar": {
             "outlinewidth": 0,
             "ticks": ""
            },
            "type": "choropleth"
           }
          ],
          "contour": [
           {
            "colorbar": {
             "outlinewidth": 0,
             "ticks": ""
            },
            "colorscale": [
             [
              0,
              "#0d0887"
             ],
             [
              0.1111111111111111,
              "#46039f"
             ],
             [
              0.2222222222222222,
              "#7201a8"
             ],
             [
              0.3333333333333333,
              "#9c179e"
             ],
             [
              0.4444444444444444,
              "#bd3786"
             ],
             [
              0.5555555555555556,
              "#d8576b"
             ],
             [
              0.6666666666666666,
              "#ed7953"
             ],
             [
              0.7777777777777778,
              "#fb9f3a"
             ],
             [
              0.8888888888888888,
              "#fdca26"
             ],
             [
              1,
              "#f0f921"
             ]
            ],
            "type": "contour"
           }
          ],
          "contourcarpet": [
           {
            "colorbar": {
             "outlinewidth": 0,
             "ticks": ""
            },
            "type": "contourcarpet"
           }
          ],
          "heatmap": [
           {
            "colorbar": {
             "outlinewidth": 0,
             "ticks": ""
            },
            "colorscale": [
             [
              0,
              "#0d0887"
             ],
             [
              0.1111111111111111,
              "#46039f"
             ],
             [
              0.2222222222222222,
              "#7201a8"
             ],
             [
              0.3333333333333333,
              "#9c179e"
             ],
             [
              0.4444444444444444,
              "#bd3786"
             ],
             [
              0.5555555555555556,
              "#d8576b"
             ],
             [
              0.6666666666666666,
              "#ed7953"
             ],
             [
              0.7777777777777778,
              "#fb9f3a"
             ],
             [
              0.8888888888888888,
              "#fdca26"
             ],
             [
              1,
              "#f0f921"
             ]
            ],
            "type": "heatmap"
           }
          ],
          "heatmapgl": [
           {
            "colorbar": {
             "outlinewidth": 0,
             "ticks": ""
            },
            "colorscale": [
             [
              0,
              "#0d0887"
             ],
             [
              0.1111111111111111,
              "#46039f"
             ],
             [
              0.2222222222222222,
              "#7201a8"
             ],
             [
              0.3333333333333333,
              "#9c179e"
             ],
             [
              0.4444444444444444,
              "#bd3786"
             ],
             [
              0.5555555555555556,
              "#d8576b"
             ],
             [
              0.6666666666666666,
              "#ed7953"
             ],
             [
              0.7777777777777778,
              "#fb9f3a"
             ],
             [
              0.8888888888888888,
              "#fdca26"
             ],
             [
              1,
              "#f0f921"
             ]
            ],
            "type": "heatmapgl"
           }
          ],
          "histogram": [
           {
            "marker": {
             "pattern": {
              "fillmode": "overlay",
              "size": 10,
              "solidity": 0.2
             }
            },
            "type": "histogram"
           }
          ],
          "histogram2d": [
           {
            "colorbar": {
             "outlinewidth": 0,
             "ticks": ""
            },
            "colorscale": [
             [
              0,
              "#0d0887"
             ],
             [
              0.1111111111111111,
              "#46039f"
             ],
             [
              0.2222222222222222,
              "#7201a8"
             ],
             [
              0.3333333333333333,
              "#9c179e"
             ],
             [
              0.4444444444444444,
              "#bd3786"
             ],
             [
              0.5555555555555556,
              "#d8576b"
             ],
             [
              0.6666666666666666,
              "#ed7953"
             ],
             [
              0.7777777777777778,
              "#fb9f3a"
             ],
             [
              0.8888888888888888,
              "#fdca26"
             ],
             [
              1,
              "#f0f921"
             ]
            ],
            "type": "histogram2d"
           }
          ],
          "histogram2dcontour": [
           {
            "colorbar": {
             "outlinewidth": 0,
             "ticks": ""
            },
            "colorscale": [
             [
              0,
              "#0d0887"
             ],
             [
              0.1111111111111111,
              "#46039f"
             ],
             [
              0.2222222222222222,
              "#7201a8"
             ],
             [
              0.3333333333333333,
              "#9c179e"
             ],
             [
              0.4444444444444444,
              "#bd3786"
             ],
             [
              0.5555555555555556,
              "#d8576b"
             ],
             [
              0.6666666666666666,
              "#ed7953"
             ],
             [
              0.7777777777777778,
              "#fb9f3a"
             ],
             [
              0.8888888888888888,
              "#fdca26"
             ],
             [
              1,
              "#f0f921"
             ]
            ],
            "type": "histogram2dcontour"
           }
          ],
          "mesh3d": [
           {
            "colorbar": {
             "outlinewidth": 0,
             "ticks": ""
            },
            "type": "mesh3d"
           }
          ],
          "parcoords": [
           {
            "line": {
             "colorbar": {
              "outlinewidth": 0,
              "ticks": ""
             }
            },
            "type": "parcoords"
           }
          ],
          "pie": [
           {
            "automargin": true,
            "type": "pie"
           }
          ],
          "scatter": [
           {
            "fillpattern": {
             "fillmode": "overlay",
             "size": 10,
             "solidity": 0.2
            },
            "type": "scatter"
           }
          ],
          "scatter3d": [
           {
            "line": {
             "colorbar": {
              "outlinewidth": 0,
              "ticks": ""
             }
            },
            "marker": {
             "colorbar": {
              "outlinewidth": 0,
              "ticks": ""
             }
            },
            "type": "scatter3d"
           }
          ],
          "scattercarpet": [
           {
            "marker": {
             "colorbar": {
              "outlinewidth": 0,
              "ticks": ""
             }
            },
            "type": "scattercarpet"
           }
          ],
          "scattergeo": [
           {
            "marker": {
             "colorbar": {
              "outlinewidth": 0,
              "ticks": ""
             }
            },
            "type": "scattergeo"
           }
          ],
          "scattergl": [
           {
            "marker": {
             "colorbar": {
              "outlinewidth": 0,
              "ticks": ""
             }
            },
            "type": "scattergl"
           }
          ],
          "scattermapbox": [
           {
            "marker": {
             "colorbar": {
              "outlinewidth": 0,
              "ticks": ""
             }
            },
            "type": "scattermapbox"
           }
          ],
          "scatterpolar": [
           {
            "marker": {
             "colorbar": {
              "outlinewidth": 0,
              "ticks": ""
             }
            },
            "type": "scatterpolar"
           }
          ],
          "scatterpolargl": [
           {
            "marker": {
             "colorbar": {
              "outlinewidth": 0,
              "ticks": ""
             }
            },
            "type": "scatterpolargl"
           }
          ],
          "scatterternary": [
           {
            "marker": {
             "colorbar": {
              "outlinewidth": 0,
              "ticks": ""
             }
            },
            "type": "scatterternary"
           }
          ],
          "surface": [
           {
            "colorbar": {
             "outlinewidth": 0,
             "ticks": ""
            },
            "colorscale": [
             [
              0,
              "#0d0887"
             ],
             [
              0.1111111111111111,
              "#46039f"
             ],
             [
              0.2222222222222222,
              "#7201a8"
             ],
             [
              0.3333333333333333,
              "#9c179e"
             ],
             [
              0.4444444444444444,
              "#bd3786"
             ],
             [
              0.5555555555555556,
              "#d8576b"
             ],
             [
              0.6666666666666666,
              "#ed7953"
             ],
             [
              0.7777777777777778,
              "#fb9f3a"
             ],
             [
              0.8888888888888888,
              "#fdca26"
             ],
             [
              1,
              "#f0f921"
             ]
            ],
            "type": "surface"
           }
          ],
          "table": [
           {
            "cells": {
             "fill": {
              "color": "#EBF0F8"
             },
             "line": {
              "color": "white"
             }
            },
            "header": {
             "fill": {
              "color": "#C8D4E3"
             },
             "line": {
              "color": "white"
             }
            },
            "type": "table"
           }
          ]
         },
         "layout": {
          "annotationdefaults": {
           "arrowcolor": "#2a3f5f",
           "arrowhead": 0,
           "arrowwidth": 1
          },
          "autotypenumbers": "strict",
          "coloraxis": {
           "colorbar": {
            "outlinewidth": 0,
            "ticks": ""
           }
          },
          "colorscale": {
           "diverging": [
            [
             0,
             "#8e0152"
            ],
            [
             0.1,
             "#c51b7d"
            ],
            [
             0.2,
             "#de77ae"
            ],
            [
             0.3,
             "#f1b6da"
            ],
            [
             0.4,
             "#fde0ef"
            ],
            [
             0.5,
             "#f7f7f7"
            ],
            [
             0.6,
             "#e6f5d0"
            ],
            [
             0.7,
             "#b8e186"
            ],
            [
             0.8,
             "#7fbc41"
            ],
            [
             0.9,
             "#4d9221"
            ],
            [
             1,
             "#276419"
            ]
           ],
           "sequential": [
            [
             0,
             "#0d0887"
            ],
            [
             0.1111111111111111,
             "#46039f"
            ],
            [
             0.2222222222222222,
             "#7201a8"
            ],
            [
             0.3333333333333333,
             "#9c179e"
            ],
            [
             0.4444444444444444,
             "#bd3786"
            ],
            [
             0.5555555555555556,
             "#d8576b"
            ],
            [
             0.6666666666666666,
             "#ed7953"
            ],
            [
             0.7777777777777778,
             "#fb9f3a"
            ],
            [
             0.8888888888888888,
             "#fdca26"
            ],
            [
             1,
             "#f0f921"
            ]
           ],
           "sequentialminus": [
            [
             0,
             "#0d0887"
            ],
            [
             0.1111111111111111,
             "#46039f"
            ],
            [
             0.2222222222222222,
             "#7201a8"
            ],
            [
             0.3333333333333333,
             "#9c179e"
            ],
            [
             0.4444444444444444,
             "#bd3786"
            ],
            [
             0.5555555555555556,
             "#d8576b"
            ],
            [
             0.6666666666666666,
             "#ed7953"
            ],
            [
             0.7777777777777778,
             "#fb9f3a"
            ],
            [
             0.8888888888888888,
             "#fdca26"
            ],
            [
             1,
             "#f0f921"
            ]
           ]
          },
          "colorway": [
           "#636efa",
           "#EF553B",
           "#00cc96",
           "#ab63fa",
           "#FFA15A",
           "#19d3f3",
           "#FF6692",
           "#B6E880",
           "#FF97FF",
           "#FECB52"
          ],
          "font": {
           "color": "#2a3f5f"
          },
          "geo": {
           "bgcolor": "white",
           "lakecolor": "white",
           "landcolor": "#E5ECF6",
           "showlakes": true,
           "showland": true,
           "subunitcolor": "white"
          },
          "hoverlabel": {
           "align": "left"
          },
          "hovermode": "closest",
          "mapbox": {
           "style": "light"
          },
          "paper_bgcolor": "white",
          "plot_bgcolor": "#E5ECF6",
          "polar": {
           "angularaxis": {
            "gridcolor": "white",
            "linecolor": "white",
            "ticks": ""
           },
           "bgcolor": "#E5ECF6",
           "radialaxis": {
            "gridcolor": "white",
            "linecolor": "white",
            "ticks": ""
           }
          },
          "scene": {
           "xaxis": {
            "backgroundcolor": "#E5ECF6",
            "gridcolor": "white",
            "gridwidth": 2,
            "linecolor": "white",
            "showbackground": true,
            "ticks": "",
            "zerolinecolor": "white"
           },
           "yaxis": {
            "backgroundcolor": "#E5ECF6",
            "gridcolor": "white",
            "gridwidth": 2,
            "linecolor": "white",
            "showbackground": true,
            "ticks": "",
            "zerolinecolor": "white"
           },
           "zaxis": {
            "backgroundcolor": "#E5ECF6",
            "gridcolor": "white",
            "gridwidth": 2,
            "linecolor": "white",
            "showbackground": true,
            "ticks": "",
            "zerolinecolor": "white"
           }
          },
          "shapedefaults": {
           "line": {
            "color": "#2a3f5f"
           }
          },
          "ternary": {
           "aaxis": {
            "gridcolor": "white",
            "linecolor": "white",
            "ticks": ""
           },
           "baxis": {
            "gridcolor": "white",
            "linecolor": "white",
            "ticks": ""
           },
           "bgcolor": "#E5ECF6",
           "caxis": {
            "gridcolor": "white",
            "linecolor": "white",
            "ticks": ""
           }
          },
          "title": {
           "x": 0.05
          },
          "xaxis": {
           "automargin": true,
           "gridcolor": "white",
           "linecolor": "white",
           "ticks": "",
           "title": {
            "standoff": 15
           },
           "zerolinecolor": "white",
           "zerolinewidth": 2
          },
          "yaxis": {
           "automargin": true,
           "gridcolor": "white",
           "linecolor": "white",
           "ticks": "",
           "title": {
            "standoff": 15
           },
           "zerolinecolor": "white",
           "zerolinewidth": 2
          }
         }
        },
        "title": {
         "font": {
          "color": "black",
          "family": "Verdana",
          "size": 28
         },
         "text": "Effect of BMI on Pregnancy",
         "x": 0.5,
         "xanchor": "center",
         "yanchor": "top"
        },
        "width": 1800,
        "xaxis": {
         "anchor": "y",
         "domain": [
          0,
          1
         ],
         "title": {
          "text": "Mother's Pre-pregnancy BMI"
         }
        },
        "yaxis": {
         "anchor": "x",
         "domain": [
          0,
          1
         ],
         "title": {
          "text": "Percent of Mother Facing Issue"
         }
        }
       }
      }
     },
     "metadata": {},
     "output_type": "display_data"
    }
   ],
   "source": [
    "group_by_list = [\n",
    "    'D149.V71', # Mother's Pre-pregnancy BMI\n",
    "]\n",
    "measure_selection = {\n",
    "    'M_002': 'D149.M002', # Births\n",
    "}\n",
    "observation_selection = {\n",
    "    'O_oe_gestation':'D149.V33'\n",
    "}\n",
    "variable_filter = {\n",
    "    'V_D149.V33': ['01','02','03','04','05'], # filtering only yes and no\n",
    "    'V_D149.V71': ['1','2','3','4','5','6'], # filtering only required BMI\n",
    "}\n",
    "\n",
    "dataObj = wd.WonderD149Data(group_by_list,measure_selection,observation_selection,variable_filter)\n",
    "pre_term_birth_yes = dataObj.getData()\n",
    "\n",
    "group_by_list = [\n",
    "    'D149.V71', # Mother's Pre-pregnancy BMI\n",
    "]\n",
    "measure_selection = {\n",
    "    'M_002': 'D149.M002', # Births\n",
    "}\n",
    "observation_selection = {\n",
    "    'O_oe_gestation':'D149.V33'\n",
    "}\n",
    "variable_filter = {\n",
    "    'V_D149.V33': ['06','07','08','09','10'], # filtering only yes and no\n",
    "    'V_D149.V71': ['1','2','3','4','5','6'], # filtering only required BMI\n",
    "}\n",
    "\n",
    "dataObj = wd.WonderD149Data(group_by_list,measure_selection,observation_selection,variable_filter)\n",
    "pre_term_birth_no = dataObj.getData()\n",
    "\n",
    "pre_term_birth = hp.merge_dataframe_on_yes_and_no(pre_term_birth_yes,pre_term_birth_no,\"Mother's Pre-pregnancy BMI\",'Pre Term Birth')\n",
    "\n",
    "group_by_list = [\n",
    "    'D149.V71', # Mother's Pre-pregnancy BMI\n",
    "]\n",
    "measure_selection = {\n",
    "    'M_002': 'D149.M002', # Births\n",
    "}\n",
    "observation_selection = {\n",
    "}\n",
    "variable_filter = {\n",
    "    'V_D149.V122': ['0'], # filtering only yes and no\n",
    "    'V_D149.V71': ['1','2','3','4','5','6'], # filtering only required BMI\n",
    "}\n",
    "\n",
    "dataObj = wd.WonderD149Data(group_by_list,measure_selection,observation_selection,variable_filter)\n",
    "abnormality_yes = dataObj.getData()\n",
    "\n",
    "group_by_list = [\n",
    "    'D149.V71', # Mother's Pre-pregnancy BMI\n",
    "]\n",
    "measure_selection = {\n",
    "    'M_002': 'D149.M002', # Births\n",
    "}\n",
    "observation_selection = {\n",
    "}\n",
    "variable_filter = {\n",
    "    'V_D149.V122': ['1','9'], # filtering only yes and no\n",
    "    'V_D149.V71': ['1','2','3','4','5','6'], # filtering only required BMI\n",
    "}\n",
    "\n",
    "dataObj = wd.WonderD149Data(group_by_list,measure_selection,observation_selection,variable_filter)\n",
    "abnormality_no = dataObj.getData()\n",
    "\n",
    "abnormality = hp.merge_dataframe_on_yes_and_no(abnormality_yes,abnormality_no,\"Mother's Pre-pregnancy BMI\",'Abnormality')\n",
    "\n",
    "final_df_bmi = pd.concat([pre_term_birth,abnormality]).reset_index()[[\"Mother's Pre-pregnancy BMI\",\"Percent of Mother Facing Issue\",\"Issue\"]]\n",
    "fig = hp.plot_line(final_df_bmi,'Mother\\'s Pre-pregnancy BMI','Effect of BMI on Pregnancy')\n",
    "fig"
   ]
  },
  {
   "attachments": {},
   "cell_type": "markdown",
   "metadata": {},
   "source": [
    "## Visualization 4\n",
    "MMR map"
   ]
  },
  {
   "cell_type": "code",
   "execution_count": 7,
   "metadata": {},
   "outputs": [
    {
     "data": {
      "application/vnd.plotly.v1+json": {
       "config": {
        "plotlyServerURL": "https://plot.ly"
       },
       "data": [
        {
         "coloraxis": "coloraxis",
         "geo": "geo",
         "hovertemplate": "Code=%{location}<br>MMR per 100,000 Live Births=%{z}<extra></extra>",
         "locationmode": "USA-states",
         "locations": [
          "AL",
          "AK",
          "AZ",
          "AR",
          "CA",
          "CO",
          "CT",
          "DE",
          "DC",
          "FL",
          "GA",
          "HI",
          "ID",
          "IL",
          "IN",
          "IA",
          "KS",
          "KY",
          "LA",
          "ME",
          "MD",
          "MA",
          "MI",
          "MN",
          "MS",
          "MO",
          "MT",
          "NE",
          "NV",
          "NH",
          "NJ",
          "NM",
          "NY",
          "NC",
          "ND",
          "OH",
          "OK",
          "OR",
          "PA",
          "RI",
          "SC",
          "SD",
          "TN",
          "TX",
          "UT",
          "VT",
          "VA",
          "WA",
          "WV",
          "WI",
          "WY"
         ],
         "name": "",
         "type": "choropleth",
         "z": [
          57,
          0,
          41,
          53,
          10,
          17,
          0,
          0,
          0,
          40,
          49,
          0,
          0,
          31,
          40,
          43,
          0,
          34,
          61,
          0,
          29,
          17,
          19,
          22,
          82,
          27,
          0,
          0,
          30,
          0,
          31,
          79,
          26,
          44,
          0,
          32,
          48,
          0,
          22,
          0,
          44,
          0,
          62,
          44,
          28,
          0,
          50,
          20,
          0,
          19,
          0
         ]
        },
        {
         "locationmode": "USA-states",
         "locations": [
          "AL",
          "AK",
          "AZ",
          "AR",
          "CA",
          "CO",
          "CT",
          "DE",
          "DC",
          "FL",
          "GA",
          "HI",
          "ID",
          "IL",
          "IN",
          "IA",
          "KS",
          "KY",
          "LA",
          "ME",
          "MD",
          "MA",
          "MI",
          "MN",
          "MS",
          "MO",
          "MT",
          "NE",
          "NV",
          "NH",
          "NJ",
          "NM",
          "NY",
          "NC",
          "ND",
          "OH",
          "OK",
          "OR",
          "PA",
          "RI",
          "SC",
          "SD",
          "TN",
          "TX",
          "UT",
          "VT",
          "VA",
          "WA",
          "WV",
          "WI",
          "WY"
         ],
         "mode": "text",
         "text": [
          "AL",
          "AK",
          "AZ",
          "AR",
          "CA",
          "CO",
          "CT",
          "DE",
          "DC",
          "FL",
          "GA",
          "HI",
          "ID",
          "IL",
          "IN",
          "IA",
          "KS",
          "KY",
          "LA",
          "ME",
          "MD",
          "MA",
          "MI",
          "MN",
          "MS",
          "MO",
          "MT",
          "NE",
          "NV",
          "NH",
          "NJ",
          "NM",
          "NY",
          "NC",
          "ND",
          "OH",
          "OK",
          "OR",
          "PA",
          "RI",
          "SC",
          "SD",
          "TN",
          "TX",
          "UT",
          "VT",
          "VA",
          "WA",
          "WV",
          "WI",
          "WY"
         ],
         "type": "scattergeo"
        }
       ],
       "layout": {
        "coloraxis": {
         "cmax": 70,
         "cmin": 0,
         "colorbar": {
          "title": {
           "font": {
            "size": 24
           },
           "text": "MMR"
          }
         },
         "colorscale": [
          [
           0,
           "rgb(247,251,255)"
          ],
          [
           0.16666666666666666,
           "rgb(198,219,239)"
          ],
          [
           0.3333333333333333,
           "rgb(158,202,225)"
          ],
          [
           0.5,
           "rgb(107,174,214)"
          ],
          [
           0.6666666666666666,
           "rgb(66,146,198)"
          ],
          [
           0.8333333333333334,
           "rgb(33,113,181)"
          ],
          [
           1,
           "rgb(8,81,156)"
          ]
         ]
        },
        "font": {
         "color": "black",
         "family": "Verdana"
        },
        "geo": {
         "center": {},
         "domain": {
          "x": [
           0,
           1
          ],
          "y": [
           0,
           1
          ]
         },
         "scope": "usa"
        },
        "legend": {
         "title": {
          "font": {
           "color": "black"
          }
         },
         "tracegroupgap": 0
        },
        "margin": {
         "t": 60
        },
        "template": {
         "data": {
          "bar": [
           {
            "error_x": {
             "color": "#2a3f5f"
            },
            "error_y": {
             "color": "#2a3f5f"
            },
            "marker": {
             "line": {
              "color": "#E5ECF6",
              "width": 0.5
             },
             "pattern": {
              "fillmode": "overlay",
              "size": 10,
              "solidity": 0.2
             }
            },
            "type": "bar"
           }
          ],
          "barpolar": [
           {
            "marker": {
             "line": {
              "color": "#E5ECF6",
              "width": 0.5
             },
             "pattern": {
              "fillmode": "overlay",
              "size": 10,
              "solidity": 0.2
             }
            },
            "type": "barpolar"
           }
          ],
          "carpet": [
           {
            "aaxis": {
             "endlinecolor": "#2a3f5f",
             "gridcolor": "white",
             "linecolor": "white",
             "minorgridcolor": "white",
             "startlinecolor": "#2a3f5f"
            },
            "baxis": {
             "endlinecolor": "#2a3f5f",
             "gridcolor": "white",
             "linecolor": "white",
             "minorgridcolor": "white",
             "startlinecolor": "#2a3f5f"
            },
            "type": "carpet"
           }
          ],
          "choropleth": [
           {
            "colorbar": {
             "outlinewidth": 0,
             "ticks": ""
            },
            "type": "choropleth"
           }
          ],
          "contour": [
           {
            "colorbar": {
             "outlinewidth": 0,
             "ticks": ""
            },
            "colorscale": [
             [
              0,
              "#0d0887"
             ],
             [
              0.1111111111111111,
              "#46039f"
             ],
             [
              0.2222222222222222,
              "#7201a8"
             ],
             [
              0.3333333333333333,
              "#9c179e"
             ],
             [
              0.4444444444444444,
              "#bd3786"
             ],
             [
              0.5555555555555556,
              "#d8576b"
             ],
             [
              0.6666666666666666,
              "#ed7953"
             ],
             [
              0.7777777777777778,
              "#fb9f3a"
             ],
             [
              0.8888888888888888,
              "#fdca26"
             ],
             [
              1,
              "#f0f921"
             ]
            ],
            "type": "contour"
           }
          ],
          "contourcarpet": [
           {
            "colorbar": {
             "outlinewidth": 0,
             "ticks": ""
            },
            "type": "contourcarpet"
           }
          ],
          "heatmap": [
           {
            "colorbar": {
             "outlinewidth": 0,
             "ticks": ""
            },
            "colorscale": [
             [
              0,
              "#0d0887"
             ],
             [
              0.1111111111111111,
              "#46039f"
             ],
             [
              0.2222222222222222,
              "#7201a8"
             ],
             [
              0.3333333333333333,
              "#9c179e"
             ],
             [
              0.4444444444444444,
              "#bd3786"
             ],
             [
              0.5555555555555556,
              "#d8576b"
             ],
             [
              0.6666666666666666,
              "#ed7953"
             ],
             [
              0.7777777777777778,
              "#fb9f3a"
             ],
             [
              0.8888888888888888,
              "#fdca26"
             ],
             [
              1,
              "#f0f921"
             ]
            ],
            "type": "heatmap"
           }
          ],
          "heatmapgl": [
           {
            "colorbar": {
             "outlinewidth": 0,
             "ticks": ""
            },
            "colorscale": [
             [
              0,
              "#0d0887"
             ],
             [
              0.1111111111111111,
              "#46039f"
             ],
             [
              0.2222222222222222,
              "#7201a8"
             ],
             [
              0.3333333333333333,
              "#9c179e"
             ],
             [
              0.4444444444444444,
              "#bd3786"
             ],
             [
              0.5555555555555556,
              "#d8576b"
             ],
             [
              0.6666666666666666,
              "#ed7953"
             ],
             [
              0.7777777777777778,
              "#fb9f3a"
             ],
             [
              0.8888888888888888,
              "#fdca26"
             ],
             [
              1,
              "#f0f921"
             ]
            ],
            "type": "heatmapgl"
           }
          ],
          "histogram": [
           {
            "marker": {
             "pattern": {
              "fillmode": "overlay",
              "size": 10,
              "solidity": 0.2
             }
            },
            "type": "histogram"
           }
          ],
          "histogram2d": [
           {
            "colorbar": {
             "outlinewidth": 0,
             "ticks": ""
            },
            "colorscale": [
             [
              0,
              "#0d0887"
             ],
             [
              0.1111111111111111,
              "#46039f"
             ],
             [
              0.2222222222222222,
              "#7201a8"
             ],
             [
              0.3333333333333333,
              "#9c179e"
             ],
             [
              0.4444444444444444,
              "#bd3786"
             ],
             [
              0.5555555555555556,
              "#d8576b"
             ],
             [
              0.6666666666666666,
              "#ed7953"
             ],
             [
              0.7777777777777778,
              "#fb9f3a"
             ],
             [
              0.8888888888888888,
              "#fdca26"
             ],
             [
              1,
              "#f0f921"
             ]
            ],
            "type": "histogram2d"
           }
          ],
          "histogram2dcontour": [
           {
            "colorbar": {
             "outlinewidth": 0,
             "ticks": ""
            },
            "colorscale": [
             [
              0,
              "#0d0887"
             ],
             [
              0.1111111111111111,
              "#46039f"
             ],
             [
              0.2222222222222222,
              "#7201a8"
             ],
             [
              0.3333333333333333,
              "#9c179e"
             ],
             [
              0.4444444444444444,
              "#bd3786"
             ],
             [
              0.5555555555555556,
              "#d8576b"
             ],
             [
              0.6666666666666666,
              "#ed7953"
             ],
             [
              0.7777777777777778,
              "#fb9f3a"
             ],
             [
              0.8888888888888888,
              "#fdca26"
             ],
             [
              1,
              "#f0f921"
             ]
            ],
            "type": "histogram2dcontour"
           }
          ],
          "mesh3d": [
           {
            "colorbar": {
             "outlinewidth": 0,
             "ticks": ""
            },
            "type": "mesh3d"
           }
          ],
          "parcoords": [
           {
            "line": {
             "colorbar": {
              "outlinewidth": 0,
              "ticks": ""
             }
            },
            "type": "parcoords"
           }
          ],
          "pie": [
           {
            "automargin": true,
            "type": "pie"
           }
          ],
          "scatter": [
           {
            "fillpattern": {
             "fillmode": "overlay",
             "size": 10,
             "solidity": 0.2
            },
            "type": "scatter"
           }
          ],
          "scatter3d": [
           {
            "line": {
             "colorbar": {
              "outlinewidth": 0,
              "ticks": ""
             }
            },
            "marker": {
             "colorbar": {
              "outlinewidth": 0,
              "ticks": ""
             }
            },
            "type": "scatter3d"
           }
          ],
          "scattercarpet": [
           {
            "marker": {
             "colorbar": {
              "outlinewidth": 0,
              "ticks": ""
             }
            },
            "type": "scattercarpet"
           }
          ],
          "scattergeo": [
           {
            "marker": {
             "colorbar": {
              "outlinewidth": 0,
              "ticks": ""
             }
            },
            "type": "scattergeo"
           }
          ],
          "scattergl": [
           {
            "marker": {
             "colorbar": {
              "outlinewidth": 0,
              "ticks": ""
             }
            },
            "type": "scattergl"
           }
          ],
          "scattermapbox": [
           {
            "marker": {
             "colorbar": {
              "outlinewidth": 0,
              "ticks": ""
             }
            },
            "type": "scattermapbox"
           }
          ],
          "scatterpolar": [
           {
            "marker": {
             "colorbar": {
              "outlinewidth": 0,
              "ticks": ""
             }
            },
            "type": "scatterpolar"
           }
          ],
          "scatterpolargl": [
           {
            "marker": {
             "colorbar": {
              "outlinewidth": 0,
              "ticks": ""
             }
            },
            "type": "scatterpolargl"
           }
          ],
          "scatterternary": [
           {
            "marker": {
             "colorbar": {
              "outlinewidth": 0,
              "ticks": ""
             }
            },
            "type": "scatterternary"
           }
          ],
          "surface": [
           {
            "colorbar": {
             "outlinewidth": 0,
             "ticks": ""
            },
            "colorscale": [
             [
              0,
              "#0d0887"
             ],
             [
              0.1111111111111111,
              "#46039f"
             ],
             [
              0.2222222222222222,
              "#7201a8"
             ],
             [
              0.3333333333333333,
              "#9c179e"
             ],
             [
              0.4444444444444444,
              "#bd3786"
             ],
             [
              0.5555555555555556,
              "#d8576b"
             ],
             [
              0.6666666666666666,
              "#ed7953"
             ],
             [
              0.7777777777777778,
              "#fb9f3a"
             ],
             [
              0.8888888888888888,
              "#fdca26"
             ],
             [
              1,
              "#f0f921"
             ]
            ],
            "type": "surface"
           }
          ],
          "table": [
           {
            "cells": {
             "fill": {
              "color": "#EBF0F8"
             },
             "line": {
              "color": "white"
             }
            },
            "header": {
             "fill": {
              "color": "#C8D4E3"
             },
             "line": {
              "color": "white"
             }
            },
            "type": "table"
           }
          ]
         },
         "layout": {
          "annotationdefaults": {
           "arrowcolor": "#2a3f5f",
           "arrowhead": 0,
           "arrowwidth": 1
          },
          "autotypenumbers": "strict",
          "coloraxis": {
           "colorbar": {
            "outlinewidth": 0,
            "ticks": ""
           }
          },
          "colorscale": {
           "diverging": [
            [
             0,
             "#8e0152"
            ],
            [
             0.1,
             "#c51b7d"
            ],
            [
             0.2,
             "#de77ae"
            ],
            [
             0.3,
             "#f1b6da"
            ],
            [
             0.4,
             "#fde0ef"
            ],
            [
             0.5,
             "#f7f7f7"
            ],
            [
             0.6,
             "#e6f5d0"
            ],
            [
             0.7,
             "#b8e186"
            ],
            [
             0.8,
             "#7fbc41"
            ],
            [
             0.9,
             "#4d9221"
            ],
            [
             1,
             "#276419"
            ]
           ],
           "sequential": [
            [
             0,
             "#0d0887"
            ],
            [
             0.1111111111111111,
             "#46039f"
            ],
            [
             0.2222222222222222,
             "#7201a8"
            ],
            [
             0.3333333333333333,
             "#9c179e"
            ],
            [
             0.4444444444444444,
             "#bd3786"
            ],
            [
             0.5555555555555556,
             "#d8576b"
            ],
            [
             0.6666666666666666,
             "#ed7953"
            ],
            [
             0.7777777777777778,
             "#fb9f3a"
            ],
            [
             0.8888888888888888,
             "#fdca26"
            ],
            [
             1,
             "#f0f921"
            ]
           ],
           "sequentialminus": [
            [
             0,
             "#0d0887"
            ],
            [
             0.1111111111111111,
             "#46039f"
            ],
            [
             0.2222222222222222,
             "#7201a8"
            ],
            [
             0.3333333333333333,
             "#9c179e"
            ],
            [
             0.4444444444444444,
             "#bd3786"
            ],
            [
             0.5555555555555556,
             "#d8576b"
            ],
            [
             0.6666666666666666,
             "#ed7953"
            ],
            [
             0.7777777777777778,
             "#fb9f3a"
            ],
            [
             0.8888888888888888,
             "#fdca26"
            ],
            [
             1,
             "#f0f921"
            ]
           ]
          },
          "colorway": [
           "#636efa",
           "#EF553B",
           "#00cc96",
           "#ab63fa",
           "#FFA15A",
           "#19d3f3",
           "#FF6692",
           "#B6E880",
           "#FF97FF",
           "#FECB52"
          ],
          "font": {
           "color": "#2a3f5f"
          },
          "geo": {
           "bgcolor": "white",
           "lakecolor": "white",
           "landcolor": "#E5ECF6",
           "showlakes": true,
           "showland": true,
           "subunitcolor": "white"
          },
          "hoverlabel": {
           "align": "left"
          },
          "hovermode": "closest",
          "mapbox": {
           "style": "light"
          },
          "paper_bgcolor": "white",
          "plot_bgcolor": "#E5ECF6",
          "polar": {
           "angularaxis": {
            "gridcolor": "white",
            "linecolor": "white",
            "ticks": ""
           },
           "bgcolor": "#E5ECF6",
           "radialaxis": {
            "gridcolor": "white",
            "linecolor": "white",
            "ticks": ""
           }
          },
          "scene": {
           "xaxis": {
            "backgroundcolor": "#E5ECF6",
            "gridcolor": "white",
            "gridwidth": 2,
            "linecolor": "white",
            "showbackground": true,
            "ticks": "",
            "zerolinecolor": "white"
           },
           "yaxis": {
            "backgroundcolor": "#E5ECF6",
            "gridcolor": "white",
            "gridwidth": 2,
            "linecolor": "white",
            "showbackground": true,
            "ticks": "",
            "zerolinecolor": "white"
           },
           "zaxis": {
            "backgroundcolor": "#E5ECF6",
            "gridcolor": "white",
            "gridwidth": 2,
            "linecolor": "white",
            "showbackground": true,
            "ticks": "",
            "zerolinecolor": "white"
           }
          },
          "shapedefaults": {
           "line": {
            "color": "#2a3f5f"
           }
          },
          "ternary": {
           "aaxis": {
            "gridcolor": "white",
            "linecolor": "white",
            "ticks": ""
           },
           "baxis": {
            "gridcolor": "white",
            "linecolor": "white",
            "ticks": ""
           },
           "bgcolor": "#E5ECF6",
           "caxis": {
            "gridcolor": "white",
            "linecolor": "white",
            "ticks": ""
           }
          },
          "title": {
           "x": 0.05
          },
          "xaxis": {
           "automargin": true,
           "gridcolor": "white",
           "linecolor": "white",
           "ticks": "",
           "title": {
            "standoff": 15
           },
           "zerolinecolor": "white",
           "zerolinewidth": 2
          },
          "yaxis": {
           "automargin": true,
           "gridcolor": "white",
           "linecolor": "white",
           "ticks": "",
           "title": {
            "standoff": 15
           },
           "zerolinecolor": "white",
           "zerolinewidth": 2
          }
         }
        },
        "title": {
         "font": {
          "color": "black",
          "family": "Verdana",
          "size": 28
         },
         "text": "2021 Maternal Mortality Ratio per 100,000 Live Births by State",
         "x": 0.5,
         "xanchor": "center",
         "yanchor": "top"
        }
       }
      }
     },
     "metadata": {},
     "output_type": "display_data"
    }
   ],
   "source": [
    "year = 2021.0\n",
    "\n",
    "# remove NaN rows\n",
    "states_death_df = states_death_df.dropna()\n",
    "states_births_df = states_births_df.dropna()\n",
    "\n",
    "# only work on year 2021\n",
    "states_death_df = states_death_df[states_death_df[\"Year\"] == year]\n",
    "states_births_df = states_births_df[states_births_df[\"Year\"] == year]\n",
    "# drop extra year column\n",
    "states_death_df = states_death_df.drop(columns=[\"Year\"])\n",
    "\n",
    "# reset indices to start from 0\n",
    "states_births_df = states_births_df.reset_index(drop=True)\n",
    "states_death_df = states_death_df.reset_index(drop=True)\n",
    "# rename column so that both sets say \"State\"\n",
    "states_births_df = states_births_df.rename(columns={\"State of Residence\":\"State\"})\n",
    "\n",
    "# create new df for the ratio!\n",
    "ratio_df = states_births_df.merge(states_death_df, on=\"State\", how=\"left\")\n",
    "\n",
    "# consider suppressed rows as 0, since suppressed < 10, just for map\n",
    "ratio_df[\"Deaths\"] = ratio_df[\"Deaths\"].fillna(0)\n",
    "\n",
    "# create column for MMR = (Deaths/Live Births * 100,000)\n",
    "ratio_df[\"MMR per 100,000 Live Births\"] = round(\n",
    "    ratio_df[\"Deaths\"] / ratio_df[\"Births\"] * 100000)\n",
    "# add codes column for map\n",
    "code = {'Alabama': 'AL',\n",
    "        'Alaska': 'AK',\n",
    "        'Arizona': 'AZ',\n",
    "        'Arkansas': 'AR',\n",
    "        'California': 'CA',\n",
    "        'Colorado': 'CO',\n",
    "        'Connecticut': 'CT',\n",
    "        'Delaware': 'DE',\n",
    "        'District of Columbia': 'DC',\n",
    "        'Florida': 'FL',\n",
    "        'Georgia': 'GA',\n",
    "        'Hawaii': 'HI',\n",
    "        'Idaho': 'ID',\n",
    "        'Illinois': 'IL',\n",
    "        'Indiana': 'IN',\n",
    "        'Iowa': 'IA',\n",
    "        'Kansas': 'KS',\n",
    "        'Kentucky': 'KY',\n",
    "        'Louisiana': 'LA',\n",
    "        'Maine': 'ME',\n",
    "        'Maryland': 'MD',\n",
    "        'Massachusetts': 'MA',\n",
    "        'Michigan': 'MI',\n",
    "        'Minnesota': 'MN',\n",
    "        'Mississippi': 'MS',\n",
    "        'Missouri': 'MO',\n",
    "        'Montana': 'MT',\n",
    "        'Nebraska': 'NE',\n",
    "        'Nevada': 'NV',\n",
    "        'New Hampshire': 'NH',\n",
    "        'New Jersey': 'NJ',\n",
    "        'New Mexico': 'NM',\n",
    "        'New York': 'NY',\n",
    "        'North Carolina': 'NC',\n",
    "        'North Dakota': 'ND',\n",
    "        'Ohio': 'OH',\n",
    "        'Oklahoma': 'OK',\n",
    "        'Oregon': 'OR',\n",
    "        'Pennsylvania': 'PA',\n",
    "        'Rhode Island': 'RI',\n",
    "        'South Carolina': 'SC',\n",
    "        'South Dakota': 'SD',\n",
    "        'Tennessee': 'TN',\n",
    "        'Texas': 'TX',\n",
    "        'Utah': 'UT',\n",
    "        'Vermont': 'VT',\n",
    "        'Virginia': 'VA',\n",
    "        'Washington': 'WA',\n",
    "        'West Virginia': 'WV',\n",
    "        'Wisconsin': 'WI',\n",
    "        'Wyoming': 'WY'}\n",
    "ratio_df[\"Code\"] = ratio_df[\"State\"].map(code)\n",
    "\n",
    "oryel_with_lighter_0 = ['rgb(255, 250, 237)', 'rgb(239, 196, 126)', 'rgb(243, 173, 106)','rgb(247, 148, 93)', 'rgb(249, 123, 87)', 'rgb(246, 99, 86)', 'rgb(238, 77, 90)']\n",
    "blues_without_darker = ['rgb(247,251,255)', 'rgb(198,219,239)', 'rgb(158,202,225)','rgb(107,174,214)', 'rgb(66,146,198)', 'rgb(33,113,181)', 'rgb(8,81,156)']\n",
    "\n",
    "fig = px.choropleth(ratio_df,\n",
    "                    locations=\"Code\",\n",
    "                    color=\"MMR per 100,000 Live Births\",\n",
    "                    color_continuous_scale= blues_without_darker,\n",
    "                    locationmode=\"USA-states\",\n",
    "                    scope=\"usa\",\n",
    "                    range_color=[0,70] \n",
    "                    )\n",
    "fig.add_scattergeo(locations=ratio_df[\"Code\"],\n",
    "                   locationmode='USA-states',\n",
    "                   text=ratio_df[\"Code\"],\n",
    "                   mode ='text')\n",
    "fig.update_layout(title={'text': str(round(year)) +' Maternal Mortality Ratio per 100,000 Live Births by State',\n",
    "                  'xanchor': 'center',\n",
    "                  'yanchor': 'top',\n",
    "                  'x': 0.5})\n",
    "fig.update_layout(\n",
    "    font_family=\"Verdana\",\n",
    "    font_color=\"black\",\n",
    "    title_font_family=\"Verdana\",\n",
    "    title_font_color=\"black\",\n",
    "    title_font_size = 28,\n",
    "    legend_title_font_color=\"black\",\n",
    "    coloraxis_colorbar_title_text='MMR',\n",
    "    coloraxis_colorbar_title_font_size=24\n",
    ")\n",
    "fig"
   ]
  },
  {
   "attachments": {},
   "cell_type": "markdown",
   "metadata": {},
   "source": [
    "## Visualization 5\n",
    "MMR by race"
   ]
  },
  {
   "cell_type": "code",
   "execution_count": 8,
   "metadata": {},
   "outputs": [
    {
     "data": {
      "application/vnd.plotly.v1+json": {
       "config": {
        "plotlyServerURL": "https://plot.ly"
       },
       "data": [
        {
         "alignmentgroup": "True",
         "bingroup": "x",
         "histfunc": "sum",
         "hovertemplate": "Single Race=Asian<br>Year=%{x}<br>sum of MMR per 100,000 Live Births=%{y}<extra></extra>",
         "legendgroup": "Asian",
         "marker": {
          "color": "rgb(119, 158, 204)",
          "pattern": {
           "shape": ""
          }
         },
         "name": "Asian",
         "offsetgroup": "Asian",
         "orientation": "v",
         "showlegend": true,
         "type": "histogram",
         "x": [
          2018,
          2019,
          2020,
          2021
         ],
         "xaxis": "x",
         "y": [
          13,
          14,
          12,
          17
         ],
         "yaxis": "y"
        },
        {
         "alignmentgroup": "True",
         "bingroup": "x",
         "histfunc": "sum",
         "hovertemplate": "Single Race=Hispanic Origin<br>Year=%{x}<br>sum of MMR per 100,000 Live Births=%{y}<extra></extra>",
         "legendgroup": "Hispanic Origin",
         "marker": {
          "color": "rgb(255, 179, 71)",
          "pattern": {
           "shape": ""
          }
         },
         "name": "Hispanic Origin",
         "offsetgroup": "Hispanic Origin",
         "orientation": "v",
         "showlegend": true,
         "type": "histogram",
         "x": [
          "2018",
          "2019",
          "2020",
          "2021"
         ],
         "xaxis": "x",
         "y": [
          12,
          13,
          19,
          28
         ],
         "yaxis": "y"
        },
        {
         "alignmentgroup": "True",
         "bingroup": "x",
         "histfunc": "sum",
         "hovertemplate": "Single Race=White<br>Year=%{x}<br>sum of MMR per 100,000 Live Births=%{y}<extra></extra>",
         "legendgroup": "White",
         "marker": {
          "color": "rgb(48, 153, 217)",
          "pattern": {
           "shape": ""
          }
         },
         "name": "White",
         "offsetgroup": "White",
         "orientation": "v",
         "showlegend": true,
         "type": "histogram",
         "x": [
          2018,
          2019,
          2020,
          2021
         ],
         "xaxis": "x",
         "y": [
          15,
          18,
          19,
          27
         ],
         "yaxis": "y"
        },
        {
         "alignmentgroup": "True",
         "bingroup": "x",
         "histfunc": "sum",
         "hovertemplate": "Single Race=Black or African American<br>Year=%{x}<br>sum of MMR per 100,000 Live Births=%{y}<extra></extra>",
         "legendgroup": "Black or African American",
         "marker": {
          "color": "rgb(255, 152, 90)",
          "pattern": {
           "shape": ""
          }
         },
         "name": "Black or African American",
         "offsetgroup": "Black or African American",
         "orientation": "v",
         "showlegend": true,
         "type": "histogram",
         "x": [
          2018,
          2019,
          2020,
          2021
         ],
         "xaxis": "x",
         "y": [
          37,
          44,
          55,
          70
         ],
         "yaxis": "y"
        }
       ],
       "layout": {
        "barmode": "group",
        "font": {
         "color": "black",
         "family": "Verdana",
         "size": 24
        },
        "legend": {
         "title": {
          "font": {
           "color": "black"
          },
          "text": "Single Race"
         },
         "tracegroupgap": 0
        },
        "margin": {
         "t": 60
        },
        "template": {
         "data": {
          "bar": [
           {
            "error_x": {
             "color": "#2a3f5f"
            },
            "error_y": {
             "color": "#2a3f5f"
            },
            "marker": {
             "line": {
              "color": "#E5ECF6",
              "width": 0.5
             },
             "pattern": {
              "fillmode": "overlay",
              "size": 10,
              "solidity": 0.2
             }
            },
            "type": "bar"
           }
          ],
          "barpolar": [
           {
            "marker": {
             "line": {
              "color": "#E5ECF6",
              "width": 0.5
             },
             "pattern": {
              "fillmode": "overlay",
              "size": 10,
              "solidity": 0.2
             }
            },
            "type": "barpolar"
           }
          ],
          "carpet": [
           {
            "aaxis": {
             "endlinecolor": "#2a3f5f",
             "gridcolor": "white",
             "linecolor": "white",
             "minorgridcolor": "white",
             "startlinecolor": "#2a3f5f"
            },
            "baxis": {
             "endlinecolor": "#2a3f5f",
             "gridcolor": "white",
             "linecolor": "white",
             "minorgridcolor": "white",
             "startlinecolor": "#2a3f5f"
            },
            "type": "carpet"
           }
          ],
          "choropleth": [
           {
            "colorbar": {
             "outlinewidth": 0,
             "ticks": ""
            },
            "type": "choropleth"
           }
          ],
          "contour": [
           {
            "colorbar": {
             "outlinewidth": 0,
             "ticks": ""
            },
            "colorscale": [
             [
              0,
              "#0d0887"
             ],
             [
              0.1111111111111111,
              "#46039f"
             ],
             [
              0.2222222222222222,
              "#7201a8"
             ],
             [
              0.3333333333333333,
              "#9c179e"
             ],
             [
              0.4444444444444444,
              "#bd3786"
             ],
             [
              0.5555555555555556,
              "#d8576b"
             ],
             [
              0.6666666666666666,
              "#ed7953"
             ],
             [
              0.7777777777777778,
              "#fb9f3a"
             ],
             [
              0.8888888888888888,
              "#fdca26"
             ],
             [
              1,
              "#f0f921"
             ]
            ],
            "type": "contour"
           }
          ],
          "contourcarpet": [
           {
            "colorbar": {
             "outlinewidth": 0,
             "ticks": ""
            },
            "type": "contourcarpet"
           }
          ],
          "heatmap": [
           {
            "colorbar": {
             "outlinewidth": 0,
             "ticks": ""
            },
            "colorscale": [
             [
              0,
              "#0d0887"
             ],
             [
              0.1111111111111111,
              "#46039f"
             ],
             [
              0.2222222222222222,
              "#7201a8"
             ],
             [
              0.3333333333333333,
              "#9c179e"
             ],
             [
              0.4444444444444444,
              "#bd3786"
             ],
             [
              0.5555555555555556,
              "#d8576b"
             ],
             [
              0.6666666666666666,
              "#ed7953"
             ],
             [
              0.7777777777777778,
              "#fb9f3a"
             ],
             [
              0.8888888888888888,
              "#fdca26"
             ],
             [
              1,
              "#f0f921"
             ]
            ],
            "type": "heatmap"
           }
          ],
          "heatmapgl": [
           {
            "colorbar": {
             "outlinewidth": 0,
             "ticks": ""
            },
            "colorscale": [
             [
              0,
              "#0d0887"
             ],
             [
              0.1111111111111111,
              "#46039f"
             ],
             [
              0.2222222222222222,
              "#7201a8"
             ],
             [
              0.3333333333333333,
              "#9c179e"
             ],
             [
              0.4444444444444444,
              "#bd3786"
             ],
             [
              0.5555555555555556,
              "#d8576b"
             ],
             [
              0.6666666666666666,
              "#ed7953"
             ],
             [
              0.7777777777777778,
              "#fb9f3a"
             ],
             [
              0.8888888888888888,
              "#fdca26"
             ],
             [
              1,
              "#f0f921"
             ]
            ],
            "type": "heatmapgl"
           }
          ],
          "histogram": [
           {
            "marker": {
             "pattern": {
              "fillmode": "overlay",
              "size": 10,
              "solidity": 0.2
             }
            },
            "type": "histogram"
           }
          ],
          "histogram2d": [
           {
            "colorbar": {
             "outlinewidth": 0,
             "ticks": ""
            },
            "colorscale": [
             [
              0,
              "#0d0887"
             ],
             [
              0.1111111111111111,
              "#46039f"
             ],
             [
              0.2222222222222222,
              "#7201a8"
             ],
             [
              0.3333333333333333,
              "#9c179e"
             ],
             [
              0.4444444444444444,
              "#bd3786"
             ],
             [
              0.5555555555555556,
              "#d8576b"
             ],
             [
              0.6666666666666666,
              "#ed7953"
             ],
             [
              0.7777777777777778,
              "#fb9f3a"
             ],
             [
              0.8888888888888888,
              "#fdca26"
             ],
             [
              1,
              "#f0f921"
             ]
            ],
            "type": "histogram2d"
           }
          ],
          "histogram2dcontour": [
           {
            "colorbar": {
             "outlinewidth": 0,
             "ticks": ""
            },
            "colorscale": [
             [
              0,
              "#0d0887"
             ],
             [
              0.1111111111111111,
              "#46039f"
             ],
             [
              0.2222222222222222,
              "#7201a8"
             ],
             [
              0.3333333333333333,
              "#9c179e"
             ],
             [
              0.4444444444444444,
              "#bd3786"
             ],
             [
              0.5555555555555556,
              "#d8576b"
             ],
             [
              0.6666666666666666,
              "#ed7953"
             ],
             [
              0.7777777777777778,
              "#fb9f3a"
             ],
             [
              0.8888888888888888,
              "#fdca26"
             ],
             [
              1,
              "#f0f921"
             ]
            ],
            "type": "histogram2dcontour"
           }
          ],
          "mesh3d": [
           {
            "colorbar": {
             "outlinewidth": 0,
             "ticks": ""
            },
            "type": "mesh3d"
           }
          ],
          "parcoords": [
           {
            "line": {
             "colorbar": {
              "outlinewidth": 0,
              "ticks": ""
             }
            },
            "type": "parcoords"
           }
          ],
          "pie": [
           {
            "automargin": true,
            "type": "pie"
           }
          ],
          "scatter": [
           {
            "fillpattern": {
             "fillmode": "overlay",
             "size": 10,
             "solidity": 0.2
            },
            "type": "scatter"
           }
          ],
          "scatter3d": [
           {
            "line": {
             "colorbar": {
              "outlinewidth": 0,
              "ticks": ""
             }
            },
            "marker": {
             "colorbar": {
              "outlinewidth": 0,
              "ticks": ""
             }
            },
            "type": "scatter3d"
           }
          ],
          "scattercarpet": [
           {
            "marker": {
             "colorbar": {
              "outlinewidth": 0,
              "ticks": ""
             }
            },
            "type": "scattercarpet"
           }
          ],
          "scattergeo": [
           {
            "marker": {
             "colorbar": {
              "outlinewidth": 0,
              "ticks": ""
             }
            },
            "type": "scattergeo"
           }
          ],
          "scattergl": [
           {
            "marker": {
             "colorbar": {
              "outlinewidth": 0,
              "ticks": ""
             }
            },
            "type": "scattergl"
           }
          ],
          "scattermapbox": [
           {
            "marker": {
             "colorbar": {
              "outlinewidth": 0,
              "ticks": ""
             }
            },
            "type": "scattermapbox"
           }
          ],
          "scatterpolar": [
           {
            "marker": {
             "colorbar": {
              "outlinewidth": 0,
              "ticks": ""
             }
            },
            "type": "scatterpolar"
           }
          ],
          "scatterpolargl": [
           {
            "marker": {
             "colorbar": {
              "outlinewidth": 0,
              "ticks": ""
             }
            },
            "type": "scatterpolargl"
           }
          ],
          "scatterternary": [
           {
            "marker": {
             "colorbar": {
              "outlinewidth": 0,
              "ticks": ""
             }
            },
            "type": "scatterternary"
           }
          ],
          "surface": [
           {
            "colorbar": {
             "outlinewidth": 0,
             "ticks": ""
            },
            "colorscale": [
             [
              0,
              "#0d0887"
             ],
             [
              0.1111111111111111,
              "#46039f"
             ],
             [
              0.2222222222222222,
              "#7201a8"
             ],
             [
              0.3333333333333333,
              "#9c179e"
             ],
             [
              0.4444444444444444,
              "#bd3786"
             ],
             [
              0.5555555555555556,
              "#d8576b"
             ],
             [
              0.6666666666666666,
              "#ed7953"
             ],
             [
              0.7777777777777778,
              "#fb9f3a"
             ],
             [
              0.8888888888888888,
              "#fdca26"
             ],
             [
              1,
              "#f0f921"
             ]
            ],
            "type": "surface"
           }
          ],
          "table": [
           {
            "cells": {
             "fill": {
              "color": "#EBF0F8"
             },
             "line": {
              "color": "white"
             }
            },
            "header": {
             "fill": {
              "color": "#C8D4E3"
             },
             "line": {
              "color": "white"
             }
            },
            "type": "table"
           }
          ]
         },
         "layout": {
          "annotationdefaults": {
           "arrowcolor": "#2a3f5f",
           "arrowhead": 0,
           "arrowwidth": 1
          },
          "autotypenumbers": "strict",
          "coloraxis": {
           "colorbar": {
            "outlinewidth": 0,
            "ticks": ""
           }
          },
          "colorscale": {
           "diverging": [
            [
             0,
             "#8e0152"
            ],
            [
             0.1,
             "#c51b7d"
            ],
            [
             0.2,
             "#de77ae"
            ],
            [
             0.3,
             "#f1b6da"
            ],
            [
             0.4,
             "#fde0ef"
            ],
            [
             0.5,
             "#f7f7f7"
            ],
            [
             0.6,
             "#e6f5d0"
            ],
            [
             0.7,
             "#b8e186"
            ],
            [
             0.8,
             "#7fbc41"
            ],
            [
             0.9,
             "#4d9221"
            ],
            [
             1,
             "#276419"
            ]
           ],
           "sequential": [
            [
             0,
             "#0d0887"
            ],
            [
             0.1111111111111111,
             "#46039f"
            ],
            [
             0.2222222222222222,
             "#7201a8"
            ],
            [
             0.3333333333333333,
             "#9c179e"
            ],
            [
             0.4444444444444444,
             "#bd3786"
            ],
            [
             0.5555555555555556,
             "#d8576b"
            ],
            [
             0.6666666666666666,
             "#ed7953"
            ],
            [
             0.7777777777777778,
             "#fb9f3a"
            ],
            [
             0.8888888888888888,
             "#fdca26"
            ],
            [
             1,
             "#f0f921"
            ]
           ],
           "sequentialminus": [
            [
             0,
             "#0d0887"
            ],
            [
             0.1111111111111111,
             "#46039f"
            ],
            [
             0.2222222222222222,
             "#7201a8"
            ],
            [
             0.3333333333333333,
             "#9c179e"
            ],
            [
             0.4444444444444444,
             "#bd3786"
            ],
            [
             0.5555555555555556,
             "#d8576b"
            ],
            [
             0.6666666666666666,
             "#ed7953"
            ],
            [
             0.7777777777777778,
             "#fb9f3a"
            ],
            [
             0.8888888888888888,
             "#fdca26"
            ],
            [
             1,
             "#f0f921"
            ]
           ]
          },
          "colorway": [
           "#636efa",
           "#EF553B",
           "#00cc96",
           "#ab63fa",
           "#FFA15A",
           "#19d3f3",
           "#FF6692",
           "#B6E880",
           "#FF97FF",
           "#FECB52"
          ],
          "font": {
           "color": "#2a3f5f"
          },
          "geo": {
           "bgcolor": "white",
           "lakecolor": "white",
           "landcolor": "#E5ECF6",
           "showlakes": true,
           "showland": true,
           "subunitcolor": "white"
          },
          "hoverlabel": {
           "align": "left"
          },
          "hovermode": "closest",
          "mapbox": {
           "style": "light"
          },
          "paper_bgcolor": "white",
          "plot_bgcolor": "#E5ECF6",
          "polar": {
           "angularaxis": {
            "gridcolor": "white",
            "linecolor": "white",
            "ticks": ""
           },
           "bgcolor": "#E5ECF6",
           "radialaxis": {
            "gridcolor": "white",
            "linecolor": "white",
            "ticks": ""
           }
          },
          "scene": {
           "xaxis": {
            "backgroundcolor": "#E5ECF6",
            "gridcolor": "white",
            "gridwidth": 2,
            "linecolor": "white",
            "showbackground": true,
            "ticks": "",
            "zerolinecolor": "white"
           },
           "yaxis": {
            "backgroundcolor": "#E5ECF6",
            "gridcolor": "white",
            "gridwidth": 2,
            "linecolor": "white",
            "showbackground": true,
            "ticks": "",
            "zerolinecolor": "white"
           },
           "zaxis": {
            "backgroundcolor": "#E5ECF6",
            "gridcolor": "white",
            "gridwidth": 2,
            "linecolor": "white",
            "showbackground": true,
            "ticks": "",
            "zerolinecolor": "white"
           }
          },
          "shapedefaults": {
           "line": {
            "color": "#2a3f5f"
           }
          },
          "ternary": {
           "aaxis": {
            "gridcolor": "white",
            "linecolor": "white",
            "ticks": ""
           },
           "baxis": {
            "gridcolor": "white",
            "linecolor": "white",
            "ticks": ""
           },
           "bgcolor": "#E5ECF6",
           "caxis": {
            "gridcolor": "white",
            "linecolor": "white",
            "ticks": ""
           }
          },
          "title": {
           "x": 0.05
          },
          "xaxis": {
           "automargin": true,
           "gridcolor": "white",
           "linecolor": "white",
           "ticks": "",
           "title": {
            "standoff": 15
           },
           "zerolinecolor": "white",
           "zerolinewidth": 2
          },
          "yaxis": {
           "automargin": true,
           "gridcolor": "white",
           "linecolor": "white",
           "ticks": "",
           "title": {
            "standoff": 15
           },
           "zerolinecolor": "white",
           "zerolinewidth": 2
          }
         }
        },
        "title": {
         "font": {
          "color": "black",
          "family": "Verdana",
          "size": 28
         },
         "text": "Maternal Mortality Ratio per 100,000 Live Births by Year and Race",
         "x": 0.5,
         "xanchor": "center",
         "yanchor": "top"
        },
        "xaxis": {
         "anchor": "y",
         "domain": [
          0,
          1
         ],
         "title": {
          "text": "Years"
         }
        },
        "yaxis": {
         "anchor": "x",
         "domain": [
          0,
          1
         ],
         "title": {
          "text": "MMR per 100,000 Live Births"
         }
        }
       }
      }
     },
     "metadata": {},
     "output_type": "display_data"
    }
   ],
   "source": [
    "# remove NaN rows\n",
    "races_deaths_df = races_deaths_df.dropna()\n",
    "races_births_df = races_births_df.dropna()\n",
    "\n",
    "# rename column so that both sets say \"Single Race 6\"\n",
    "races_births_df = races_births_df.rename(columns={\"Mother's Single Race 6\":\"Single Race 6\"})\n",
    "# rename column so that both sets say \"Hispanic Origin\"\n",
    "races_births_df = races_births_df.rename(\n",
    "    columns={\"Mother's Hispanic Origin\":\"Hispanic Origin\"})\n",
    "\n",
    "# THE CODE AFTER THIS IS REALLY BAD, I ONLY FIGURED OUT LATER THAT YOU CAN USE MERGE FOR MULTIPLE COLUMNS HAHA, SO IGNORE THE REST OF THIS CODE, YOU WILL PROBABLY BE ABLE TO FIND A BETTER METHOD THAN THIS\n",
    "# create new df for the ratio!\n",
    "ratio_df = races_births_df.merge(races_deaths_df, on=\"Single Race 6\", how=\"left\")\n",
    "\n",
    "# match years\n",
    "ratio_df = ratio_df[ratio_df[\"Year_x\"] == ratio_df[\"Year_y\"]]\n",
    "ratio_df = ratio_df[ratio_df[\"Hispanic Origin_x\"] == ratio_df[\"Hispanic Origin_y\"]]\n",
    "\n",
    "# isolate hispanic origin rows\n",
    "hisp_df = ratio_df[ratio_df[\"Hispanic Origin_x\"] == \"Hispanic or Latino\"]\n",
    "ratio_df = ratio_df[ratio_df[\"Hispanic Origin_x\"] != \"Hispanic or Latino\"]\n",
    "\n",
    "# reset indices to start from 0\n",
    "ratio_df = ratio_df.reset_index(drop=True)\n",
    "\n",
    "# add row to include hispanic origin for year 2018\n",
    "ratio_df.loc[len(ratio_df.index)] = [\"Hispanic Origin\", \"\", \"2018\", hisp_df[hisp_df[\"Year_x\"] == 2018.0][\"Births\"].sum(), \"\", \"\", hisp_df[hisp_df[\"Year_x\"] == 2018.0][\"Deaths\"].sum()]\n",
    "\n",
    "# add row to include hispanic origin for year 2019\n",
    "ratio_df.loc[len(ratio_df.index)] = [\"Hispanic Origin\", \"\", \"2019\", hisp_df[hisp_df[\"Year_x\"] == 2019.0][\"Births\"].sum(), \"\", \"\", hisp_df[hisp_df[\"Year_x\"] == 2019.0][\"Deaths\"].sum()]\n",
    "\n",
    "# add row to include hispanic origin for year 2020\n",
    "ratio_df.loc[len(ratio_df.index)] = [\"Hispanic Origin\", \"\", \"2020\", hisp_df[hisp_df[\"Year_x\"] == 2020.0][\"Births\"].sum(), \"\", \"\", hisp_df[hisp_df[\"Year_x\"] == 2020.0][\"Deaths\"].sum()]\n",
    "\n",
    "# add row to include hispanic origin for year 2021\n",
    "ratio_df.loc[len(ratio_df.index)] = [\"Hispanic Origin\", \"\", \"2021\", hisp_df[hisp_df[\"Year_x\"] == 2021.0][\"Births\"].sum(), \"\", \"\", hisp_df[hisp_df[\"Year_x\"] == 2021.0][\"Deaths\"].sum()]\n",
    "\n",
    "# drop all extra columns\n",
    "ratio_df = ratio_df.drop(columns=[\"Hispanic Origin_x\", \"Hispanic Origin_y\", \"Year_y\"])\n",
    "\n",
    "# Rename Year column\n",
    "ratio_df = ratio_df.rename(columns={\"Year_x\":\"Year\"})\n",
    "\n",
    "# remove more than one race rows, due to data labeled as \"unreliable\"\n",
    "ratio_df = ratio_df.drop(ratio_df[ratio_df[\"Single Race 6\"] == \"More than one race\"].index, axis=0)\n",
    "ratio_df = ratio_df.drop(ratio_df[ratio_df[\"Single Race 6\"] == \"American Indian or Alaska Native\"].index, axis=0)\n",
    "\n",
    "# consider suppressed rows as 0, since suppressed < 10\n",
    "ratio_df[\"Deaths\"] = ratio_df[\"Deaths\"].fillna(0)\n",
    "\n",
    "# create column for MMR = (Deaths/Live Births * 100,000)\n",
    "ratio_df[\"MMR per 100,000 Live Births\"] = round(ratio_df[\"Deaths\"] / ratio_df[\"Births\"] * 100000)\n",
    "\n",
    "# use plotly's historgram function\n",
    "# first argument is the datafram, then put your x and y axis\n",
    "# colors the column name referencing the different bars in each group, if you want to group the bars by the x-axis, use group bar mode\n",
    "# category_orders helps order the bars, I wanted ascending order\n",
    "# \n",
    "fig = px.histogram(ratio_df, x=\"Year\", y=\"MMR per 100,000 Live Births\",\n",
    "                   color='Single Race 6', barmode='group',\n",
    "                   category_orders={\"Single Race 6\":[\"More than one race\", \"Asian\", \"Hispanic Origin\", \"White\", \"Black or African American\"]},\n",
    "                   color_discrete_sequence=[\"rgb(255, 152, 90)\", \"rgb(119, 158, 204)\", \"rgb(255, 179, 71)\", \"rgb(48, 153, 217)\"],\n",
    "                   labels={\"Single Race 6\": \"Single Race\"})\n",
    "fig.update_layout(title={\n",
    "                  'text':'Maternal Mortality Ratio per 100,000 Live Births by Year and Race',\n",
    "                  'xanchor': 'center',\n",
    "                  'yanchor': 'top',\n",
    "                  'x': 0.5},\n",
    "                  yaxis_title={'text': 'MMR per 100,000 Live Births'},\n",
    "                  xaxis_title={'text': 'Years'})\n",
    "fig.update_layout(\n",
    "    font_family=\"Verdana\",\n",
    "    font_color=\"black\",\n",
    "    font_size = 24,\n",
    "    title_font_family=\"Verdana\",\n",
    "    title_font_color=\"black\",\n",
    "    title_font_size=28,\n",
    "    legend_title_font_color=\"black\"\n",
    ")\n",
    "\n",
    "fig"
   ]
  },
  {
   "attachments": {},
   "cell_type": "markdown",
   "metadata": {},
   "source": [
    "## Visualization 6\n",
    "abnormal conditions by prenatal"
   ]
  },
  {
   "cell_type": "code",
   "execution_count": 9,
   "metadata": {},
   "outputs": [
    {
     "name": "stdout",
     "output_type": "stream",
     "text": [
      "float64\n"
     ]
    },
    {
     "data": {
      "application/vnd.plotly.v1+json": {
       "config": {
        "plotlyServerURL": "https://plot.ly"
       },
       "data": [
        {
         "marker": {
          "color": "rgb(253, 195, 96)",
          "size": 12
         },
         "mode": "markers",
         "name": "2019",
         "opacity": 0.5,
         "type": "scatter",
         "x": [
          "0 ",
          "1 ",
          "2 ",
          "3 ",
          "4 ",
          "5 ",
          "6 ",
          "7 ",
          "8 ",
          "9 ",
          "10 ",
          "11 ",
          "12 ",
          "13 ",
          "14 ",
          "15 ",
          "16 ",
          "17 ",
          "18 ",
          "19 ",
          "20 ",
          "21 ",
          "22 ",
          "23 ",
          "24 ",
          "25 ",
          "26 ",
          "27 ",
          "28 ",
          "29 ",
          "30 ",
          "31 ",
          "32 ",
          "33 ",
          "34 ",
          "35 ",
          "36 ",
          "37 ",
          "38 ",
          "39 ",
          "40 ",
          "41 ",
          "42 ",
          "43 ",
          "44 ",
          "45 ",
          "46 ",
          "47 ",
          "48 ",
          "49 ",
          "50 "
         ],
         "y": [
          22.285444038839543,
          21.912307358367702,
          20.986737400530505,
          20.556555237346984,
          20.69962311098101,
          20.78369041207456,
          20.137690255766515,
          17.887457753827466,
          15.264243297637092,
          12.209270984943668,
          10.479132732772662,
          8.67793848034223,
          8.30066934450699,
          7.8173331397751,
          8.015167800468653,
          9.05145016499926,
          9.223769930064156,
          10.445564652547535,
          11.619688859150218,
          12.144779035052155,
          14.42439470077661,
          13.068893528183716,
          13.374555310858884,
          13.916225082008578,
          14.67455621301775,
          16.933924712839758,
          16.906474820143885,
          13.91536408692337,
          15.982532751091702,
          17.983651226158038,
          20.251741964486403,
          17.77777777777778,
          16.300578034682083,
          20.52469135802469,
          24.577861163227016,
          21.087533156498676,
          16.945996275605214,
          14.908256880733944,
          12.103174603174603,
          8.571428571428571,
          17.658930373360242,
          16.877637130801688,
          18.64406779661017,
          15.584415584415584,
          13.48314606741573,
          20.588235294117645,
          18.571428571428573,
          27.586206896551722,
          27.419354838709676,
          24.271844660194176,
          29.629629629629626
         ]
        },
        {
         "marker": {
          "color": "rgb(147,112,219)",
          "size": 12
         },
         "mode": "markers",
         "name": "2020",
         "opacity": 0.4,
         "type": "scatter",
         "x": [
          "0 ",
          "1 ",
          "2 ",
          "3 ",
          "4 ",
          "5 ",
          "6 ",
          "7 ",
          "8 ",
          "9 ",
          "10 ",
          "11 ",
          "12 ",
          "13 ",
          "14 ",
          "15 ",
          "16 ",
          "17 ",
          "18 ",
          "19 ",
          "20 ",
          "21 ",
          "22 ",
          "23 ",
          "24 ",
          "25 ",
          "26 ",
          "27 ",
          "28 ",
          "29 ",
          "30 ",
          "31 ",
          "32 ",
          "33 ",
          "34 ",
          "35 ",
          "36 ",
          "37 ",
          "38 ",
          "39 ",
          "40 ",
          "41 ",
          "42 ",
          "43 ",
          "44 ",
          "45 ",
          "46 ",
          "48 ",
          "49 ",
          "50 "
         ],
         "y": [
          22.396156688839618,
          21.14268710013391,
          20.55665058111874,
          21.584158415841586,
          20.837523344347076,
          20.901639344262296,
          18.92168903575815,
          16.747029328937426,
          14.398287166183971,
          11.753275125907416,
          10.284409155436599,
          8.580171262265354,
          8.426993726757072,
          7.8375546505173475,
          8.295372625426205,
          9.131267182421892,
          9.812636078541038,
          10.639491773382233,
          11.954305367890923,
          12.0415982484948,
          13.91874517870918,
          13.539695754181489,
          13.835588769945465,
          13.343710202348946,
          15.198237885462554,
          16.705655703866796,
          15.819567979669632,
          16.463414634146343,
          17.117585848074924,
          17.46499631540162,
          17.81938991241317,
          20.52565707133917,
          21.399730820995963,
          19.215686274509807,
          22.831050228310502,
          19.874804381846637,
          20.8955223880597,
          18.974358974358974,
          11.358574610244988,
          9.76027397260274,
          15.2,
          18.316831683168317,
          27.586206896551722,
          15.294117647058824,
          21.176470588235293,
          20.175438596491226,
          31.70731707317073,
          23.214285714285715,
          26.229508196721312,
          27.522935779816514
         ]
        },
        {
         "marker": {
          "color": "rgb(0, 100, 148)",
          "size": 15
         },
         "mode": "markers",
         "name": "2021",
         "type": "scatter",
         "x": [
          "0 ",
          "1 ",
          "2 ",
          "3 ",
          "4 ",
          "5 ",
          "6 ",
          "7 ",
          "8 ",
          "9 ",
          "10 ",
          "11 ",
          "12 ",
          "13 ",
          "14 ",
          "15 ",
          "16 ",
          "17 ",
          "18 ",
          "19 ",
          "20 ",
          "21 ",
          "22 ",
          "23 ",
          "24 ",
          "25 ",
          "26 ",
          "27 ",
          "28 ",
          "29 ",
          "30 ",
          "31 ",
          "32 ",
          "33 ",
          "34 ",
          "35 ",
          "36 ",
          "37 ",
          "38 ",
          "39 ",
          "40 ",
          "41 ",
          "42 ",
          "43 ",
          "44 ",
          "45 ",
          "46 ",
          "47 ",
          "48 ",
          "49 ",
          "50 ",
          "60 "
         ],
         "y": [
          23.153991370010786,
          21.455901108603946,
          19.097823852456607,
          22.277917761218035,
          22.037277360868174,
          21.81309243590559,
          20.264417597447,
          17.451759764331122,
          15.219571062228809,
          12.238328341872027,
          10.585180746954265,
          8.961838470220632,
          8.55291640067214,
          8.16393001748069,
          8.607882313689547,
          9.700238842819955,
          9.798396056804638,
          10.861357278400533,
          12.381463153019185,
          12.518707276625005,
          13.973504783138466,
          13.58425414364641,
          14.800380228136884,
          14.569623585153987,
          16.99236641221374,
          16.97906523855891,
          16.783974011911205,
          16.666666666666664,
          17.93664383561644,
          17.462393721386526,
          19.063004846526656,
          18.324022346368714,
          20.54483541430193,
          21.13943028485757,
          22.01492537313433,
          21.256684491978607,
          23.564356435643564,
          20,
          14.719626168224298,
          11.504424778761061,
          18.21428571428571,
          19.35483870967742,
          25.806451612903224,
          16.27906976744186,
          22.93577981651376,
          30.87248322147651,
          21.21212121212121,
          30.76923076923077,
          24.324324324324326,
          38.297872340425535,
          26.47058823529412,
          45.83333333333333
         ]
        }
       ],
       "layout": {
        "autosize": false,
        "font": {
         "color": "black",
         "family": "Verdana",
         "size": 16
        },
        "height": 700,
        "legend": {
         "title": {
          "font": {
           "color": "black"
          }
         }
        },
        "template": {
         "data": {
          "bar": [
           {
            "error_x": {
             "color": "#2a3f5f"
            },
            "error_y": {
             "color": "#2a3f5f"
            },
            "marker": {
             "line": {
              "color": "#E5ECF6",
              "width": 0.5
             },
             "pattern": {
              "fillmode": "overlay",
              "size": 10,
              "solidity": 0.2
             }
            },
            "type": "bar"
           }
          ],
          "barpolar": [
           {
            "marker": {
             "line": {
              "color": "#E5ECF6",
              "width": 0.5
             },
             "pattern": {
              "fillmode": "overlay",
              "size": 10,
              "solidity": 0.2
             }
            },
            "type": "barpolar"
           }
          ],
          "carpet": [
           {
            "aaxis": {
             "endlinecolor": "#2a3f5f",
             "gridcolor": "white",
             "linecolor": "white",
             "minorgridcolor": "white",
             "startlinecolor": "#2a3f5f"
            },
            "baxis": {
             "endlinecolor": "#2a3f5f",
             "gridcolor": "white",
             "linecolor": "white",
             "minorgridcolor": "white",
             "startlinecolor": "#2a3f5f"
            },
            "type": "carpet"
           }
          ],
          "choropleth": [
           {
            "colorbar": {
             "outlinewidth": 0,
             "ticks": ""
            },
            "type": "choropleth"
           }
          ],
          "contour": [
           {
            "colorbar": {
             "outlinewidth": 0,
             "ticks": ""
            },
            "colorscale": [
             [
              0,
              "#0d0887"
             ],
             [
              0.1111111111111111,
              "#46039f"
             ],
             [
              0.2222222222222222,
              "#7201a8"
             ],
             [
              0.3333333333333333,
              "#9c179e"
             ],
             [
              0.4444444444444444,
              "#bd3786"
             ],
             [
              0.5555555555555556,
              "#d8576b"
             ],
             [
              0.6666666666666666,
              "#ed7953"
             ],
             [
              0.7777777777777778,
              "#fb9f3a"
             ],
             [
              0.8888888888888888,
              "#fdca26"
             ],
             [
              1,
              "#f0f921"
             ]
            ],
            "type": "contour"
           }
          ],
          "contourcarpet": [
           {
            "colorbar": {
             "outlinewidth": 0,
             "ticks": ""
            },
            "type": "contourcarpet"
           }
          ],
          "heatmap": [
           {
            "colorbar": {
             "outlinewidth": 0,
             "ticks": ""
            },
            "colorscale": [
             [
              0,
              "#0d0887"
             ],
             [
              0.1111111111111111,
              "#46039f"
             ],
             [
              0.2222222222222222,
              "#7201a8"
             ],
             [
              0.3333333333333333,
              "#9c179e"
             ],
             [
              0.4444444444444444,
              "#bd3786"
             ],
             [
              0.5555555555555556,
              "#d8576b"
             ],
             [
              0.6666666666666666,
              "#ed7953"
             ],
             [
              0.7777777777777778,
              "#fb9f3a"
             ],
             [
              0.8888888888888888,
              "#fdca26"
             ],
             [
              1,
              "#f0f921"
             ]
            ],
            "type": "heatmap"
           }
          ],
          "heatmapgl": [
           {
            "colorbar": {
             "outlinewidth": 0,
             "ticks": ""
            },
            "colorscale": [
             [
              0,
              "#0d0887"
             ],
             [
              0.1111111111111111,
              "#46039f"
             ],
             [
              0.2222222222222222,
              "#7201a8"
             ],
             [
              0.3333333333333333,
              "#9c179e"
             ],
             [
              0.4444444444444444,
              "#bd3786"
             ],
             [
              0.5555555555555556,
              "#d8576b"
             ],
             [
              0.6666666666666666,
              "#ed7953"
             ],
             [
              0.7777777777777778,
              "#fb9f3a"
             ],
             [
              0.8888888888888888,
              "#fdca26"
             ],
             [
              1,
              "#f0f921"
             ]
            ],
            "type": "heatmapgl"
           }
          ],
          "histogram": [
           {
            "marker": {
             "pattern": {
              "fillmode": "overlay",
              "size": 10,
              "solidity": 0.2
             }
            },
            "type": "histogram"
           }
          ],
          "histogram2d": [
           {
            "colorbar": {
             "outlinewidth": 0,
             "ticks": ""
            },
            "colorscale": [
             [
              0,
              "#0d0887"
             ],
             [
              0.1111111111111111,
              "#46039f"
             ],
             [
              0.2222222222222222,
              "#7201a8"
             ],
             [
              0.3333333333333333,
              "#9c179e"
             ],
             [
              0.4444444444444444,
              "#bd3786"
             ],
             [
              0.5555555555555556,
              "#d8576b"
             ],
             [
              0.6666666666666666,
              "#ed7953"
             ],
             [
              0.7777777777777778,
              "#fb9f3a"
             ],
             [
              0.8888888888888888,
              "#fdca26"
             ],
             [
              1,
              "#f0f921"
             ]
            ],
            "type": "histogram2d"
           }
          ],
          "histogram2dcontour": [
           {
            "colorbar": {
             "outlinewidth": 0,
             "ticks": ""
            },
            "colorscale": [
             [
              0,
              "#0d0887"
             ],
             [
              0.1111111111111111,
              "#46039f"
             ],
             [
              0.2222222222222222,
              "#7201a8"
             ],
             [
              0.3333333333333333,
              "#9c179e"
             ],
             [
              0.4444444444444444,
              "#bd3786"
             ],
             [
              0.5555555555555556,
              "#d8576b"
             ],
             [
              0.6666666666666666,
              "#ed7953"
             ],
             [
              0.7777777777777778,
              "#fb9f3a"
             ],
             [
              0.8888888888888888,
              "#fdca26"
             ],
             [
              1,
              "#f0f921"
             ]
            ],
            "type": "histogram2dcontour"
           }
          ],
          "mesh3d": [
           {
            "colorbar": {
             "outlinewidth": 0,
             "ticks": ""
            },
            "type": "mesh3d"
           }
          ],
          "parcoords": [
           {
            "line": {
             "colorbar": {
              "outlinewidth": 0,
              "ticks": ""
             }
            },
            "type": "parcoords"
           }
          ],
          "pie": [
           {
            "automargin": true,
            "type": "pie"
           }
          ],
          "scatter": [
           {
            "fillpattern": {
             "fillmode": "overlay",
             "size": 10,
             "solidity": 0.2
            },
            "type": "scatter"
           }
          ],
          "scatter3d": [
           {
            "line": {
             "colorbar": {
              "outlinewidth": 0,
              "ticks": ""
             }
            },
            "marker": {
             "colorbar": {
              "outlinewidth": 0,
              "ticks": ""
             }
            },
            "type": "scatter3d"
           }
          ],
          "scattercarpet": [
           {
            "marker": {
             "colorbar": {
              "outlinewidth": 0,
              "ticks": ""
             }
            },
            "type": "scattercarpet"
           }
          ],
          "scattergeo": [
           {
            "marker": {
             "colorbar": {
              "outlinewidth": 0,
              "ticks": ""
             }
            },
            "type": "scattergeo"
           }
          ],
          "scattergl": [
           {
            "marker": {
             "colorbar": {
              "outlinewidth": 0,
              "ticks": ""
             }
            },
            "type": "scattergl"
           }
          ],
          "scattermapbox": [
           {
            "marker": {
             "colorbar": {
              "outlinewidth": 0,
              "ticks": ""
             }
            },
            "type": "scattermapbox"
           }
          ],
          "scatterpolar": [
           {
            "marker": {
             "colorbar": {
              "outlinewidth": 0,
              "ticks": ""
             }
            },
            "type": "scatterpolar"
           }
          ],
          "scatterpolargl": [
           {
            "marker": {
             "colorbar": {
              "outlinewidth": 0,
              "ticks": ""
             }
            },
            "type": "scatterpolargl"
           }
          ],
          "scatterternary": [
           {
            "marker": {
             "colorbar": {
              "outlinewidth": 0,
              "ticks": ""
             }
            },
            "type": "scatterternary"
           }
          ],
          "surface": [
           {
            "colorbar": {
             "outlinewidth": 0,
             "ticks": ""
            },
            "colorscale": [
             [
              0,
              "#0d0887"
             ],
             [
              0.1111111111111111,
              "#46039f"
             ],
             [
              0.2222222222222222,
              "#7201a8"
             ],
             [
              0.3333333333333333,
              "#9c179e"
             ],
             [
              0.4444444444444444,
              "#bd3786"
             ],
             [
              0.5555555555555556,
              "#d8576b"
             ],
             [
              0.6666666666666666,
              "#ed7953"
             ],
             [
              0.7777777777777778,
              "#fb9f3a"
             ],
             [
              0.8888888888888888,
              "#fdca26"
             ],
             [
              1,
              "#f0f921"
             ]
            ],
            "type": "surface"
           }
          ],
          "table": [
           {
            "cells": {
             "fill": {
              "color": "#EBF0F8"
             },
             "line": {
              "color": "white"
             }
            },
            "header": {
             "fill": {
              "color": "#C8D4E3"
             },
             "line": {
              "color": "white"
             }
            },
            "type": "table"
           }
          ]
         },
         "layout": {
          "annotationdefaults": {
           "arrowcolor": "#2a3f5f",
           "arrowhead": 0,
           "arrowwidth": 1
          },
          "autotypenumbers": "strict",
          "coloraxis": {
           "colorbar": {
            "outlinewidth": 0,
            "ticks": ""
           }
          },
          "colorscale": {
           "diverging": [
            [
             0,
             "#8e0152"
            ],
            [
             0.1,
             "#c51b7d"
            ],
            [
             0.2,
             "#de77ae"
            ],
            [
             0.3,
             "#f1b6da"
            ],
            [
             0.4,
             "#fde0ef"
            ],
            [
             0.5,
             "#f7f7f7"
            ],
            [
             0.6,
             "#e6f5d0"
            ],
            [
             0.7,
             "#b8e186"
            ],
            [
             0.8,
             "#7fbc41"
            ],
            [
             0.9,
             "#4d9221"
            ],
            [
             1,
             "#276419"
            ]
           ],
           "sequential": [
            [
             0,
             "#0d0887"
            ],
            [
             0.1111111111111111,
             "#46039f"
            ],
            [
             0.2222222222222222,
             "#7201a8"
            ],
            [
             0.3333333333333333,
             "#9c179e"
            ],
            [
             0.4444444444444444,
             "#bd3786"
            ],
            [
             0.5555555555555556,
             "#d8576b"
            ],
            [
             0.6666666666666666,
             "#ed7953"
            ],
            [
             0.7777777777777778,
             "#fb9f3a"
            ],
            [
             0.8888888888888888,
             "#fdca26"
            ],
            [
             1,
             "#f0f921"
            ]
           ],
           "sequentialminus": [
            [
             0,
             "#0d0887"
            ],
            [
             0.1111111111111111,
             "#46039f"
            ],
            [
             0.2222222222222222,
             "#7201a8"
            ],
            [
             0.3333333333333333,
             "#9c179e"
            ],
            [
             0.4444444444444444,
             "#bd3786"
            ],
            [
             0.5555555555555556,
             "#d8576b"
            ],
            [
             0.6666666666666666,
             "#ed7953"
            ],
            [
             0.7777777777777778,
             "#fb9f3a"
            ],
            [
             0.8888888888888888,
             "#fdca26"
            ],
            [
             1,
             "#f0f921"
            ]
           ]
          },
          "colorway": [
           "#636efa",
           "#EF553B",
           "#00cc96",
           "#ab63fa",
           "#FFA15A",
           "#19d3f3",
           "#FF6692",
           "#B6E880",
           "#FF97FF",
           "#FECB52"
          ],
          "font": {
           "color": "#2a3f5f"
          },
          "geo": {
           "bgcolor": "white",
           "lakecolor": "white",
           "landcolor": "#E5ECF6",
           "showlakes": true,
           "showland": true,
           "subunitcolor": "white"
          },
          "hoverlabel": {
           "align": "left"
          },
          "hovermode": "closest",
          "mapbox": {
           "style": "light"
          },
          "paper_bgcolor": "white",
          "plot_bgcolor": "#E5ECF6",
          "polar": {
           "angularaxis": {
            "gridcolor": "white",
            "linecolor": "white",
            "ticks": ""
           },
           "bgcolor": "#E5ECF6",
           "radialaxis": {
            "gridcolor": "white",
            "linecolor": "white",
            "ticks": ""
           }
          },
          "scene": {
           "xaxis": {
            "backgroundcolor": "#E5ECF6",
            "gridcolor": "white",
            "gridwidth": 2,
            "linecolor": "white",
            "showbackground": true,
            "ticks": "",
            "zerolinecolor": "white"
           },
           "yaxis": {
            "backgroundcolor": "#E5ECF6",
            "gridcolor": "white",
            "gridwidth": 2,
            "linecolor": "white",
            "showbackground": true,
            "ticks": "",
            "zerolinecolor": "white"
           },
           "zaxis": {
            "backgroundcolor": "#E5ECF6",
            "gridcolor": "white",
            "gridwidth": 2,
            "linecolor": "white",
            "showbackground": true,
            "ticks": "",
            "zerolinecolor": "white"
           }
          },
          "shapedefaults": {
           "line": {
            "color": "#2a3f5f"
           }
          },
          "ternary": {
           "aaxis": {
            "gridcolor": "white",
            "linecolor": "white",
            "ticks": ""
           },
           "baxis": {
            "gridcolor": "white",
            "linecolor": "white",
            "ticks": ""
           },
           "bgcolor": "#E5ECF6",
           "caxis": {
            "gridcolor": "white",
            "linecolor": "white",
            "ticks": ""
           }
          },
          "title": {
           "x": 0.05
          },
          "xaxis": {
           "automargin": true,
           "gridcolor": "white",
           "linecolor": "white",
           "ticks": "",
           "title": {
            "standoff": 15
           },
           "zerolinecolor": "white",
           "zerolinewidth": 2
          },
          "yaxis": {
           "automargin": true,
           "gridcolor": "white",
           "linecolor": "white",
           "ticks": "",
           "title": {
            "standoff": 15
           },
           "zerolinecolor": "white",
           "zerolinewidth": 2
          }
         }
        },
        "title": {
         "font": {
          "color": "black",
          "family": "Verdana",
          "size": 20
         },
         "text": "Percentage of Births w/ Abnormal Conditions by Prenatal Visits (2019-2021)",
         "x": 0.5,
         "xanchor": "center",
         "yanchor": "top"
        },
        "width": 1200,
        "xaxis": {
         "title": {
          "text": "Number of Prenatal Visits"
         }
        },
        "yaxis": {
         "title": {
          "text": "Percentage of Abnormal Births"
         }
        }
       }
      }
     },
     "metadata": {},
     "output_type": "display_data"
    }
   ],
   "source": [
    "# remove NaN rows\n",
    "abnormal_conditions_df = abnormal_conditions_df.dropna()\n",
    "\n",
    "temp_df = abnormal_conditions_df[abnormal_conditions_df[\"Abnormal Conditions Checked\"] != \"At least one checked\"]\n",
    "abnormal_conditions_df = abnormal_conditions_df[abnormal_conditions_df[\"Abnormal Conditions Checked\"] == \"At least one checked\"]\n",
    "\n",
    "print(abnormal_conditions_df[\"Year\"].dtype)\n",
    "\n",
    "abnormal_conditions_df = abnormal_conditions_df.merge(\n",
    "    temp_df, on=[\"Year\", \"Number of Prenatal Visits\"], how=\"left\").reset_index(drop=True)\n",
    "abnormal_conditions_df[\"Total Births\"] = abnormal_conditions_df[\"Births_x\"] + abnormal_conditions_df[\"Births_y\"]\n",
    "abnormal_conditions_df[\"Percentage of Births w/ Abnormal Conditions\"] = abnormal_conditions_df[\"Births_x\"]/abnormal_conditions_df[\"Total Births\"] *100\n",
    "\n",
    "abnormal_conditions_df=abnormal_conditions_df.dropna()\n",
    "abnormal_conditions_df = abnormal_conditions_df[abnormal_conditions_df[\"Number of Prenatal Visits\"] != \"Unknown or Not Stated\"]\n",
    "abnormal_conditions_df['Number of Prenatal Visits'] = abnormal_conditions_df['Number of Prenatal Visits'].str.replace(\n",
    "    \"prenatal visits\", '')\n",
    "abnormal_conditions_df =abnormal_conditions_df.reset_index(drop=True)\n",
    "\n",
    "abnormal_conditions_df = abnormal_conditions_df.dropna()\n",
    "\n",
    "# use plotly's historgram function\n",
    "# first argument is the datafram, then put your x and y axis\n",
    "# colors the column name referencing the different bars in each group, if you want to group the bars by the x-axis, use group bar mode\n",
    "# category_orders helps order the bars, I wanted ascending order\n",
    "# \n",
    "\n",
    "# fig = px.scatter(abnormal_conditions_df, x=abnormal_conditions_df[abnormal_conditions_df[\"Year\"] == 2019.0][\"Number of Prenatal Visits\"], y=abnormal_conditions_df[abnormal_conditions_df[\"Year\"] == 2019.0][\"Percentage of Births w/ Abnormal Conditions\"])\n",
    "# fig.add_scatter(abnormal_conditions_df, x=abnormal_conditions_df[abnormal_conditions_df[\"Year\"] == 2020.0][\"Number of Prenatal Visits\"],\n",
    "#                 y=abnormal_conditions_df[abnormal_conditions_df[\"Year\"] == 2020.0][\"Percentage of Births w/ Abnormal Conditions\"])\n",
    "# fig.show()\n",
    "\n",
    "scatter2019 = go.Scatter(x=abnormal_conditions_df[abnormal_conditions_df[\"Year\"] == 2019.0][\"Number of Prenatal Visits\"], y=abnormal_conditions_df[abnormal_conditions_df[\"Year\"] == 2019.0][\"Percentage of Births w/ Abnormal Conditions\"], \n",
    "                         mode=\"markers\", opacity=0.5,  marker_size=12, marker_color=\"rgb(253, 195, 96)\",\n",
    "                         name = \"2019\")\n",
    "scatter2020 = go.Scatter(x=abnormal_conditions_df[abnormal_conditions_df[\"Year\"] == 2020.0][\"Number of Prenatal Visits\"], y=abnormal_conditions_df[abnormal_conditions_df[\"Year\"] == 2020.0][\"Percentage of Births w/ Abnormal Conditions\"],\n",
    "                         mode=\"markers\", opacity=0.4, marker_size=12, marker_color=\"rgb(147,112,219)\",\n",
    "                         name = \"2020\")\n",
    "scatter2021 = go.Scatter(x=abnormal_conditions_df[abnormal_conditions_df[\"Year\"] == 2021.0][\"Number of Prenatal Visits\"], y=abnormal_conditions_df[abnormal_conditions_df[\"Year\"] == 2021.0][\"Percentage of Births w/ Abnormal Conditions\"],\n",
    "                         mode=\"markers\", marker_size=15, marker_color=\"rgb(0, 100, 148)\",\n",
    "                         name = \"2021\")\n",
    "\n",
    "\n",
    "scatterTotal = [scatter2019, scatter2020, scatter2021]\n",
    "fig = go.Figure(scatterTotal)\n",
    "fig.update_layout(\n",
    "    autosize=False,\n",
    "    width=1200,\n",
    "    height=700,\n",
    "    title={\n",
    "        'text': \"Percentage of Births w/ Abnormal Conditions by Prenatal Visits (2019-2021)\",\n",
    "        'xanchor': 'center',\n",
    "        'yanchor': 'top',\n",
    "        'x': 0.5},\n",
    "    yaxis_title={'text': 'Percentage of Abnormal Births'},\n",
    "    xaxis_title={'text': 'Number of Prenatal Visits'})\n",
    "\n",
    "fig.update_layout(\n",
    "    font_family=\"Verdana\",\n",
    "    font_color=\"black\",\n",
    "    font_size=16,\n",
    "    title_font_family=\"Verdana\",\n",
    "    title_font_color=\"black\",\n",
    "    title_font_size=20,\n",
    "    legend_title_font_color=\"black\"\n",
    ")\n",
    "fig"
   ]
  },
  {
   "attachments": {},
   "cell_type": "markdown",
   "metadata": {},
   "source": [
    "## Visualization 7\n",
    "Impact of post natal care"
   ]
  },
  {
   "cell_type": "code",
   "execution_count": 10,
   "metadata": {},
   "outputs": [
    {
     "data": {
      "application/vnd.plotly.v1+json": {
       "config": {
        "plotlyServerURL": "https://plot.ly"
       },
       "data": [
        {
         "direction": "clockwise",
         "domain": {
          "x": [
           0,
           1
          ],
          "y": [
           0,
           1
          ]
         },
         "hovertemplate": "variable=%{label}<br>Deaths=%{value}<extra></extra>",
         "labels": [
          "Late Maternal Deaths",
          "After Childbirth, Before 42 Days",
          "During Labour or Delivery",
          "During Pregnancy"
         ],
         "legendgroup": "",
         "name": "",
         "showlegend": true,
         "sort": false,
         "textinfo": "percent",
         "textposition": "inside",
         "texttemplate": "%{percent} of Deaths",
         "type": "pie",
         "values": [
          315,
          94,
          90,
          474
         ]
        }
       ],
       "layout": {
        "font": {
         "color": "black",
         "family": "Verdana",
         "size": 24
        },
        "legend": {
         "title": {
          "font": {
           "color": "black"
          }
         },
         "tracegroupgap": 0
        },
        "margin": {
         "t": 60
        },
        "piecolorway": [
         "rgb(114, 138, 178)",
         "rgb(128, 171, 205)",
         "rgb(206, 229, 242)",
         "rgb(253, 195, 96)"
        ],
        "template": {
         "data": {
          "bar": [
           {
            "error_x": {
             "color": "#2a3f5f"
            },
            "error_y": {
             "color": "#2a3f5f"
            },
            "marker": {
             "line": {
              "color": "#E5ECF6",
              "width": 0.5
             },
             "pattern": {
              "fillmode": "overlay",
              "size": 10,
              "solidity": 0.2
             }
            },
            "type": "bar"
           }
          ],
          "barpolar": [
           {
            "marker": {
             "line": {
              "color": "#E5ECF6",
              "width": 0.5
             },
             "pattern": {
              "fillmode": "overlay",
              "size": 10,
              "solidity": 0.2
             }
            },
            "type": "barpolar"
           }
          ],
          "carpet": [
           {
            "aaxis": {
             "endlinecolor": "#2a3f5f",
             "gridcolor": "white",
             "linecolor": "white",
             "minorgridcolor": "white",
             "startlinecolor": "#2a3f5f"
            },
            "baxis": {
             "endlinecolor": "#2a3f5f",
             "gridcolor": "white",
             "linecolor": "white",
             "minorgridcolor": "white",
             "startlinecolor": "#2a3f5f"
            },
            "type": "carpet"
           }
          ],
          "choropleth": [
           {
            "colorbar": {
             "outlinewidth": 0,
             "ticks": ""
            },
            "type": "choropleth"
           }
          ],
          "contour": [
           {
            "colorbar": {
             "outlinewidth": 0,
             "ticks": ""
            },
            "colorscale": [
             [
              0,
              "#0d0887"
             ],
             [
              0.1111111111111111,
              "#46039f"
             ],
             [
              0.2222222222222222,
              "#7201a8"
             ],
             [
              0.3333333333333333,
              "#9c179e"
             ],
             [
              0.4444444444444444,
              "#bd3786"
             ],
             [
              0.5555555555555556,
              "#d8576b"
             ],
             [
              0.6666666666666666,
              "#ed7953"
             ],
             [
              0.7777777777777778,
              "#fb9f3a"
             ],
             [
              0.8888888888888888,
              "#fdca26"
             ],
             [
              1,
              "#f0f921"
             ]
            ],
            "type": "contour"
           }
          ],
          "contourcarpet": [
           {
            "colorbar": {
             "outlinewidth": 0,
             "ticks": ""
            },
            "type": "contourcarpet"
           }
          ],
          "heatmap": [
           {
            "colorbar": {
             "outlinewidth": 0,
             "ticks": ""
            },
            "colorscale": [
             [
              0,
              "#0d0887"
             ],
             [
              0.1111111111111111,
              "#46039f"
             ],
             [
              0.2222222222222222,
              "#7201a8"
             ],
             [
              0.3333333333333333,
              "#9c179e"
             ],
             [
              0.4444444444444444,
              "#bd3786"
             ],
             [
              0.5555555555555556,
              "#d8576b"
             ],
             [
              0.6666666666666666,
              "#ed7953"
             ],
             [
              0.7777777777777778,
              "#fb9f3a"
             ],
             [
              0.8888888888888888,
              "#fdca26"
             ],
             [
              1,
              "#f0f921"
             ]
            ],
            "type": "heatmap"
           }
          ],
          "heatmapgl": [
           {
            "colorbar": {
             "outlinewidth": 0,
             "ticks": ""
            },
            "colorscale": [
             [
              0,
              "#0d0887"
             ],
             [
              0.1111111111111111,
              "#46039f"
             ],
             [
              0.2222222222222222,
              "#7201a8"
             ],
             [
              0.3333333333333333,
              "#9c179e"
             ],
             [
              0.4444444444444444,
              "#bd3786"
             ],
             [
              0.5555555555555556,
              "#d8576b"
             ],
             [
              0.6666666666666666,
              "#ed7953"
             ],
             [
              0.7777777777777778,
              "#fb9f3a"
             ],
             [
              0.8888888888888888,
              "#fdca26"
             ],
             [
              1,
              "#f0f921"
             ]
            ],
            "type": "heatmapgl"
           }
          ],
          "histogram": [
           {
            "marker": {
             "pattern": {
              "fillmode": "overlay",
              "size": 10,
              "solidity": 0.2
             }
            },
            "type": "histogram"
           }
          ],
          "histogram2d": [
           {
            "colorbar": {
             "outlinewidth": 0,
             "ticks": ""
            },
            "colorscale": [
             [
              0,
              "#0d0887"
             ],
             [
              0.1111111111111111,
              "#46039f"
             ],
             [
              0.2222222222222222,
              "#7201a8"
             ],
             [
              0.3333333333333333,
              "#9c179e"
             ],
             [
              0.4444444444444444,
              "#bd3786"
             ],
             [
              0.5555555555555556,
              "#d8576b"
             ],
             [
              0.6666666666666666,
              "#ed7953"
             ],
             [
              0.7777777777777778,
              "#fb9f3a"
             ],
             [
              0.8888888888888888,
              "#fdca26"
             ],
             [
              1,
              "#f0f921"
             ]
            ],
            "type": "histogram2d"
           }
          ],
          "histogram2dcontour": [
           {
            "colorbar": {
             "outlinewidth": 0,
             "ticks": ""
            },
            "colorscale": [
             [
              0,
              "#0d0887"
             ],
             [
              0.1111111111111111,
              "#46039f"
             ],
             [
              0.2222222222222222,
              "#7201a8"
             ],
             [
              0.3333333333333333,
              "#9c179e"
             ],
             [
              0.4444444444444444,
              "#bd3786"
             ],
             [
              0.5555555555555556,
              "#d8576b"
             ],
             [
              0.6666666666666666,
              "#ed7953"
             ],
             [
              0.7777777777777778,
              "#fb9f3a"
             ],
             [
              0.8888888888888888,
              "#fdca26"
             ],
             [
              1,
              "#f0f921"
             ]
            ],
            "type": "histogram2dcontour"
           }
          ],
          "mesh3d": [
           {
            "colorbar": {
             "outlinewidth": 0,
             "ticks": ""
            },
            "type": "mesh3d"
           }
          ],
          "parcoords": [
           {
            "line": {
             "colorbar": {
              "outlinewidth": 0,
              "ticks": ""
             }
            },
            "type": "parcoords"
           }
          ],
          "pie": [
           {
            "automargin": true,
            "type": "pie"
           }
          ],
          "scatter": [
           {
            "fillpattern": {
             "fillmode": "overlay",
             "size": 10,
             "solidity": 0.2
            },
            "type": "scatter"
           }
          ],
          "scatter3d": [
           {
            "line": {
             "colorbar": {
              "outlinewidth": 0,
              "ticks": ""
             }
            },
            "marker": {
             "colorbar": {
              "outlinewidth": 0,
              "ticks": ""
             }
            },
            "type": "scatter3d"
           }
          ],
          "scattercarpet": [
           {
            "marker": {
             "colorbar": {
              "outlinewidth": 0,
              "ticks": ""
             }
            },
            "type": "scattercarpet"
           }
          ],
          "scattergeo": [
           {
            "marker": {
             "colorbar": {
              "outlinewidth": 0,
              "ticks": ""
             }
            },
            "type": "scattergeo"
           }
          ],
          "scattergl": [
           {
            "marker": {
             "colorbar": {
              "outlinewidth": 0,
              "ticks": ""
             }
            },
            "type": "scattergl"
           }
          ],
          "scattermapbox": [
           {
            "marker": {
             "colorbar": {
              "outlinewidth": 0,
              "ticks": ""
             }
            },
            "type": "scattermapbox"
           }
          ],
          "scatterpolar": [
           {
            "marker": {
             "colorbar": {
              "outlinewidth": 0,
              "ticks": ""
             }
            },
            "type": "scatterpolar"
           }
          ],
          "scatterpolargl": [
           {
            "marker": {
             "colorbar": {
              "outlinewidth": 0,
              "ticks": ""
             }
            },
            "type": "scatterpolargl"
           }
          ],
          "scatterternary": [
           {
            "marker": {
             "colorbar": {
              "outlinewidth": 0,
              "ticks": ""
             }
            },
            "type": "scatterternary"
           }
          ],
          "surface": [
           {
            "colorbar": {
             "outlinewidth": 0,
             "ticks": ""
            },
            "colorscale": [
             [
              0,
              "#0d0887"
             ],
             [
              0.1111111111111111,
              "#46039f"
             ],
             [
              0.2222222222222222,
              "#7201a8"
             ],
             [
              0.3333333333333333,
              "#9c179e"
             ],
             [
              0.4444444444444444,
              "#bd3786"
             ],
             [
              0.5555555555555556,
              "#d8576b"
             ],
             [
              0.6666666666666666,
              "#ed7953"
             ],
             [
              0.7777777777777778,
              "#fb9f3a"
             ],
             [
              0.8888888888888888,
              "#fdca26"
             ],
             [
              1,
              "#f0f921"
             ]
            ],
            "type": "surface"
           }
          ],
          "table": [
           {
            "cells": {
             "fill": {
              "color": "#EBF0F8"
             },
             "line": {
              "color": "white"
             }
            },
            "header": {
             "fill": {
              "color": "#C8D4E3"
             },
             "line": {
              "color": "white"
             }
            },
            "type": "table"
           }
          ]
         },
         "layout": {
          "annotationdefaults": {
           "arrowcolor": "#2a3f5f",
           "arrowhead": 0,
           "arrowwidth": 1
          },
          "autotypenumbers": "strict",
          "coloraxis": {
           "colorbar": {
            "outlinewidth": 0,
            "ticks": ""
           }
          },
          "colorscale": {
           "diverging": [
            [
             0,
             "#8e0152"
            ],
            [
             0.1,
             "#c51b7d"
            ],
            [
             0.2,
             "#de77ae"
            ],
            [
             0.3,
             "#f1b6da"
            ],
            [
             0.4,
             "#fde0ef"
            ],
            [
             0.5,
             "#f7f7f7"
            ],
            [
             0.6,
             "#e6f5d0"
            ],
            [
             0.7,
             "#b8e186"
            ],
            [
             0.8,
             "#7fbc41"
            ],
            [
             0.9,
             "#4d9221"
            ],
            [
             1,
             "#276419"
            ]
           ],
           "sequential": [
            [
             0,
             "#0d0887"
            ],
            [
             0.1111111111111111,
             "#46039f"
            ],
            [
             0.2222222222222222,
             "#7201a8"
            ],
            [
             0.3333333333333333,
             "#9c179e"
            ],
            [
             0.4444444444444444,
             "#bd3786"
            ],
            [
             0.5555555555555556,
             "#d8576b"
            ],
            [
             0.6666666666666666,
             "#ed7953"
            ],
            [
             0.7777777777777778,
             "#fb9f3a"
            ],
            [
             0.8888888888888888,
             "#fdca26"
            ],
            [
             1,
             "#f0f921"
            ]
           ],
           "sequentialminus": [
            [
             0,
             "#0d0887"
            ],
            [
             0.1111111111111111,
             "#46039f"
            ],
            [
             0.2222222222222222,
             "#7201a8"
            ],
            [
             0.3333333333333333,
             "#9c179e"
            ],
            [
             0.4444444444444444,
             "#bd3786"
            ],
            [
             0.5555555555555556,
             "#d8576b"
            ],
            [
             0.6666666666666666,
             "#ed7953"
            ],
            [
             0.7777777777777778,
             "#fb9f3a"
            ],
            [
             0.8888888888888888,
             "#fdca26"
            ],
            [
             1,
             "#f0f921"
            ]
           ]
          },
          "colorway": [
           "#636efa",
           "#EF553B",
           "#00cc96",
           "#ab63fa",
           "#FFA15A",
           "#19d3f3",
           "#FF6692",
           "#B6E880",
           "#FF97FF",
           "#FECB52"
          ],
          "font": {
           "color": "#2a3f5f"
          },
          "geo": {
           "bgcolor": "white",
           "lakecolor": "white",
           "landcolor": "#E5ECF6",
           "showlakes": true,
           "showland": true,
           "subunitcolor": "white"
          },
          "hoverlabel": {
           "align": "left"
          },
          "hovermode": "closest",
          "mapbox": {
           "style": "light"
          },
          "paper_bgcolor": "white",
          "plot_bgcolor": "#E5ECF6",
          "polar": {
           "angularaxis": {
            "gridcolor": "white",
            "linecolor": "white",
            "ticks": ""
           },
           "bgcolor": "#E5ECF6",
           "radialaxis": {
            "gridcolor": "white",
            "linecolor": "white",
            "ticks": ""
           }
          },
          "scene": {
           "xaxis": {
            "backgroundcolor": "#E5ECF6",
            "gridcolor": "white",
            "gridwidth": 2,
            "linecolor": "white",
            "showbackground": true,
            "ticks": "",
            "zerolinecolor": "white"
           },
           "yaxis": {
            "backgroundcolor": "#E5ECF6",
            "gridcolor": "white",
            "gridwidth": 2,
            "linecolor": "white",
            "showbackground": true,
            "ticks": "",
            "zerolinecolor": "white"
           },
           "zaxis": {
            "backgroundcolor": "#E5ECF6",
            "gridcolor": "white",
            "gridwidth": 2,
            "linecolor": "white",
            "showbackground": true,
            "ticks": "",
            "zerolinecolor": "white"
           }
          },
          "shapedefaults": {
           "line": {
            "color": "#2a3f5f"
           }
          },
          "ternary": {
           "aaxis": {
            "gridcolor": "white",
            "linecolor": "white",
            "ticks": ""
           },
           "baxis": {
            "gridcolor": "white",
            "linecolor": "white",
            "ticks": ""
           },
           "bgcolor": "#E5ECF6",
           "caxis": {
            "gridcolor": "white",
            "linecolor": "white",
            "ticks": ""
           }
          },
          "title": {
           "x": 0.05
          },
          "xaxis": {
           "automargin": true,
           "gridcolor": "white",
           "linecolor": "white",
           "ticks": "",
           "title": {
            "standoff": 15
           },
           "zerolinecolor": "white",
           "zerolinewidth": 2
          },
          "yaxis": {
           "automargin": true,
           "gridcolor": "white",
           "linecolor": "white",
           "ticks": "",
           "title": {
            "standoff": 15
           },
           "zerolinecolor": "white",
           "zerolinewidth": 2
          }
         }
        },
        "title": {
         "font": {
          "color": "black",
          "family": "Verdana",
          "size": 28
         },
         "text": "Percentage of Deaths by Pregnancy Timeline (2021)",
         "x": 0.5,
         "xanchor": "center",
         "yanchor": "top"
        },
        "uniformtext": {
         "minsize": 10,
         "mode": "hide"
        }
       }
      }
     },
     "metadata": {},
     "output_type": "display_data"
    }
   ],
   "source": [
    "pregnancy_deaths_df = pregnancy_deaths_df.dropna()\n",
    "delivery_deaths_df  = delivery_deaths_df.dropna()\n",
    "before_42_deaths_df = before_42_deaths_df.dropna()\n",
    "lmd_df              = lmd_df.dropna()\n",
    "total_deaths_df     = total_deaths_df.dropna()\n",
    "\n",
    "pregnancy_deaths_df = pregnancy_deaths_df.rename(\n",
    "    columns={\"Deaths\":\"During Pregnancy\"})\n",
    "delivery_deaths_df = delivery_deaths_df.rename(\n",
    "    columns={\"Deaths\": \"During Labour or Delivery\"})\n",
    "before_42_deaths_df = before_42_deaths_df.rename(\n",
    "    columns={\"Deaths\": \"After Childbirth, Before 42 Days\"})\n",
    "lmd_df = lmd_df.rename(\n",
    "    columns={\"Deaths\": \"Late Maternal Deaths\"})\n",
    "total_deaths_df = total_deaths_df.rename(\n",
    "    columns={\"Deaths\": \"Total Deaths\"})\n",
    "\n",
    "deaths_df = pd.concat([pregnancy_deaths_df, delivery_deaths_df[\"During Labour or Delivery\"], before_42_deaths_df[\"After Childbirth, Before 42 Days\"], lmd_df[\"Late Maternal Deaths\"]], axis=1)\n",
    "\n",
    "pie2021 = deaths_df[deaths_df[\"Year\"]==2018.0].reset_index(drop=True).melt(id_vars =\"Year\", value_name = \"Deaths\")\n",
    "\n",
    "# use plotly's pie function\n",
    "# first argument is the datafram, then put your x and y axis\n",
    "# colors the column name referencing the different bars in each group, if you want to group the bars by the x-axis, use group bar mode\n",
    "# category_orders helps order the bars, I wanted ascending order\n",
    "#\n",
    "fig = px.pie(pie2021, values=\"Deaths\", names=\"variable\",\n",
    "                   category_orders={\"variable\": [\n",
    "                       \"Late Maternal Deaths\", \"After Childbirth, Before 42 Days\", \"During Labour or Delivery\", \"During Pregnancy\"]},\n",
    "                   color_discrete_sequence=[\n",
    "                       \"rgb(114, 138, 178)\", \"rgb(128, 171, 205)\", \"rgb(206, 229, 242)\", \"rgb(253, 195, 96)\"])\n",
    "fig.update_layout(title={\n",
    "                  'text': 'Percentage of Deaths by Pregnancy Timeline (2021)',\n",
    "                  'xanchor': 'center',\n",
    "                  'yanchor': 'top',\n",
    "                  'x': 0.5})\n",
    "\n",
    "fig.update_traces(sort=False, textposition='inside', textinfo='percent', texttemplate='%{percent} of Deaths')\n",
    "fig.update_layout(uniformtext_minsize=10, uniformtext_mode='hide')\n",
    "\n",
    "fig.update_layout(\n",
    "    font_family=\"Verdana\",\n",
    "    font_color=\"black\",\n",
    "    font_size=24,\n",
    "    title_font_family=\"Verdana\",\n",
    "    title_font_color=\"black\",\n",
    "    title_font_size=28,\n",
    "    legend_title_font_color=\"black\"\n",
    ")\n",
    "fig"
   ]
  }
 ],
 "metadata": {
  "kernelspec": {
   "display_name": "base",
   "language": "python",
   "name": "python3"
  },
  "language_info": {
   "codemirror_mode": {
    "name": "ipython",
    "version": 3
   },
   "file_extension": ".py",
   "mimetype": "text/x-python",
   "name": "python",
   "nbconvert_exporter": "python",
   "pygments_lexer": "ipython3",
   "version": "3.9.16"
  },
  "orig_nbformat": 4
 },
 "nbformat": 4,
 "nbformat_minor": 2
}
